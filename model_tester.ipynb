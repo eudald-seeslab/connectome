{
 "cells": [
  {
   "cell_type": "code",
   "execution_count": 1,
   "metadata": {},
   "outputs": [],
   "source": [
    "%matplotlib inline\n",
    "import copy\n",
    "\n",
    "import numpy as np\n",
    "import torch\n",
    "from torch.nn import CrossEntropyLoss\n",
    "import matplotlib.pyplot as plt\n",
    "cmap = plt.get_cmap(\"viridis\")\n",
    "from tqdm import tqdm\n",
    "\n",
    "import config\n",
    "from graph_models import FullGraphModel\n",
    "from complete_training_data_processing import CompleteModelsDataProcessor\n",
    "from utils import (\n",
    "    clean_model_outputs, \n",
    "    get_image_paths, \n",
    "    get_iteration_number, \n",
    "    initialize_results_df, \n",
    "    select_random_images, \n",
    "    update_results_df, \n",
    "    update_running_loss, \n",
    "    update_config_with_sweep\n",
    ")\n",
    "from plots import guess_your_plots, plot_results\n",
    "\n",
    "device_type = \"cuda\" if torch.cuda.is_available() else \"cpu\"\n",
    "device = torch.device(device_type)\n",
    "dtype = torch.float32\n",
    "batch_size = config.batch_size"
   ]
  },
  {
   "cell_type": "code",
   "execution_count": 2,
   "metadata": {},
   "outputs": [],
   "source": [
    "u_config = update_config_with_sweep(config, None)\n",
    "training_images = get_image_paths(u_config.TRAINING_DATA_DIR, u_config.small_length)\n",
    "data_processor = CompleteModelsDataProcessor(u_config)\n",
    "model = FullGraphModel(data_processor, u_config).to(u_config.DEVICE)\n",
    "criterion = CrossEntropyLoss()"
   ]
  },
  {
   "cell_type": "code",
   "execution_count": 3,
   "metadata": {},
   "outputs": [],
   "source": [
    "def correct_test_results(test_results):\n",
    "    # There was a bug in how we get the classes, and the 0-1 labels can be flipped\n",
    "    # This function corrects the labels if the accuracy is below 0.5\n",
    "    flipped = False\n",
    "    if test_results[\"Is correct\"].sum() / len(test_results) < 0.5:\n",
    "        test_results[\"Is correct\"] = np.abs(test_results[\"Is correct\"] - 1)\n",
    "        flipped = True\n",
    "\n",
    "    return test_results, flipped\n",
    "\n",
    "# test\n",
    "def test(model):\n",
    "    testing_images = get_image_paths(\n",
    "        config.TESTING_DATA_DIR, config.small_length\n",
    "    )\n",
    "    already_selected_testing = []\n",
    "    total_correct, total, running_loss = 0, 0, 0.0\n",
    "    test_results = initialize_results_df()\n",
    "\n",
    "    iterations = get_iteration_number(len(testing_images), batch_size)\n",
    "    for _ in tqdm(range(iterations)):\n",
    "        batch_files, already_selected_testing = select_random_images(\n",
    "            testing_images, batch_size, already_selected_testing\n",
    "        )\n",
    "        images, labels = data_processor.get_data_from_paths(batch_files)\n",
    "        inputs, labels = data_processor.process_batch(images, labels)\n",
    "        inputs = inputs.to(config.DEVICE)\n",
    "\n",
    "        out = model(inputs)\n",
    "        loss = criterion(out, labels)\n",
    "\n",
    "        # Calculate run parameters\n",
    "        outputs, predictions, labels_cpu, correct = clean_model_outputs(out, labels)\n",
    "        test_results = update_results_df(\n",
    "            test_results, batch_files, outputs, predictions, labels_cpu, correct\n",
    "        )\n",
    "        running_loss += update_running_loss(loss, inputs)\n",
    "        total += batch_size\n",
    "        total_correct += correct.sum()\n",
    "\n",
    "    test_results, flipped = correct_test_results(test_results)\n",
    "    plot_types = (\n",
    "        guess_your_plots(u_config)\n",
    "        if len(u_config.plot_types) == 0\n",
    "        else u_config.plot_types\n",
    "    )\n",
    "    final_plots = plot_results(\n",
    "        test_results, plot_types=plot_types, classes=u_config.CLASSES\n",
    "    )\n",
    "    print(\n",
    "        f\"Finished testing with loss {running_loss / total} and \"\n",
    "        f\"accuracy {total_correct / total}.\"\n",
    "    )\n",
    "    return test_results, final_plots, total_correct / total, flipped"
   ]
  },
  {
   "cell_type": "code",
   "execution_count": 4,
   "metadata": {},
   "outputs": [
    {
     "ename": "RuntimeError",
     "evalue": "Error(s) in loading state_dict for FullGraphModel:\n\tMissing key(s) in state_dict: \"connectome.edge_weight\". ",
     "output_type": "error",
     "traceback": [
      "\u001b[0;31m---------------------------------------------------------------------------\u001b[0m",
      "\u001b[0;31mRuntimeError\u001b[0m                              Traceback (most recent call last)",
      "Input \u001b[0;32mIn [4]\u001b[0m, in \u001b[0;36m<cell line: 5>\u001b[0;34m()\u001b[0m\n\u001b[1;32m      1\u001b[0m checkpoint \u001b[38;5;241m=\u001b[39m torch\u001b[38;5;241m.\u001b[39mload(\n\u001b[1;32m      2\u001b[0m     \u001b[38;5;124m\"\u001b[39m\u001b[38;5;124mmodels/model_2024-05-19 16:16:58.pth\u001b[39m\u001b[38;5;124m\"\u001b[39m,\n\u001b[1;32m      3\u001b[0m     map_location\u001b[38;5;241m=\u001b[39mdevice_type,\n\u001b[1;32m      4\u001b[0m )\n\u001b[0;32m----> 5\u001b[0m \u001b[43mmodel\u001b[49m\u001b[38;5;241;43m.\u001b[39;49m\u001b[43mload_state_dict\u001b[49m\u001b[43m(\u001b[49m\u001b[43mcheckpoint\u001b[49m\u001b[43m[\u001b[49m\u001b[38;5;124;43m\"\u001b[39;49m\u001b[38;5;124;43mmodel\u001b[39;49m\u001b[38;5;124;43m\"\u001b[39;49m\u001b[43m]\u001b[49m\u001b[43m)\u001b[49m\n\u001b[1;32m      6\u001b[0m torch\u001b[38;5;241m.\u001b[39mset_grad_enabled(\u001b[38;5;28;01mFalse\u001b[39;00m)\n\u001b[1;32m      7\u001b[0m model\u001b[38;5;241m.\u001b[39meval()\n",
      "File \u001b[0;32m~/Desktop/doctorat/connectome/venv/lib/python3.10/site-packages/torch/nn/modules/module.py:2189\u001b[0m, in \u001b[0;36mModule.load_state_dict\u001b[0;34m(self, state_dict, strict, assign)\u001b[0m\n\u001b[1;32m   2184\u001b[0m         error_msgs\u001b[38;5;241m.\u001b[39minsert(\n\u001b[1;32m   2185\u001b[0m             \u001b[38;5;241m0\u001b[39m, \u001b[38;5;124m'\u001b[39m\u001b[38;5;124mMissing key(s) in state_dict: \u001b[39m\u001b[38;5;132;01m{}\u001b[39;00m\u001b[38;5;124m. \u001b[39m\u001b[38;5;124m'\u001b[39m\u001b[38;5;241m.\u001b[39mformat(\n\u001b[1;32m   2186\u001b[0m                 \u001b[38;5;124m'\u001b[39m\u001b[38;5;124m, \u001b[39m\u001b[38;5;124m'\u001b[39m\u001b[38;5;241m.\u001b[39mjoin(\u001b[38;5;124mf\u001b[39m\u001b[38;5;124m'\u001b[39m\u001b[38;5;124m\"\u001b[39m\u001b[38;5;132;01m{\u001b[39;00mk\u001b[38;5;132;01m}\u001b[39;00m\u001b[38;5;124m\"\u001b[39m\u001b[38;5;124m'\u001b[39m \u001b[38;5;28;01mfor\u001b[39;00m k \u001b[38;5;129;01min\u001b[39;00m missing_keys)))\n\u001b[1;32m   2188\u001b[0m \u001b[38;5;28;01mif\u001b[39;00m \u001b[38;5;28mlen\u001b[39m(error_msgs) \u001b[38;5;241m>\u001b[39m \u001b[38;5;241m0\u001b[39m:\n\u001b[0;32m-> 2189\u001b[0m     \u001b[38;5;28;01mraise\u001b[39;00m \u001b[38;5;167;01mRuntimeError\u001b[39;00m(\u001b[38;5;124m'\u001b[39m\u001b[38;5;124mError(s) in loading state_dict for \u001b[39m\u001b[38;5;132;01m{}\u001b[39;00m\u001b[38;5;124m:\u001b[39m\u001b[38;5;130;01m\\n\u001b[39;00m\u001b[38;5;130;01m\\t\u001b[39;00m\u001b[38;5;132;01m{}\u001b[39;00m\u001b[38;5;124m'\u001b[39m\u001b[38;5;241m.\u001b[39mformat(\n\u001b[1;32m   2190\u001b[0m                        \u001b[38;5;28mself\u001b[39m\u001b[38;5;241m.\u001b[39m\u001b[38;5;18m__class__\u001b[39m\u001b[38;5;241m.\u001b[39m\u001b[38;5;18m__name__\u001b[39m, \u001b[38;5;124m\"\u001b[39m\u001b[38;5;130;01m\\n\u001b[39;00m\u001b[38;5;130;01m\\t\u001b[39;00m\u001b[38;5;124m\"\u001b[39m\u001b[38;5;241m.\u001b[39mjoin(error_msgs)))\n\u001b[1;32m   2191\u001b[0m \u001b[38;5;28;01mreturn\u001b[39;00m _IncompatibleKeys(missing_keys, unexpected_keys)\n",
      "\u001b[0;31mRuntimeError\u001b[0m: Error(s) in loading state_dict for FullGraphModel:\n\tMissing key(s) in state_dict: \"connectome.edge_weight\". "
     ]
    }
   ],
   "source": [
    "checkpoint = torch.load(\n",
    "    \"models/model_2024-05-19 16:16:58.pth\",\n",
    "    map_location=device_type,\n",
    ")\n",
    "model.load_state_dict(checkpoint[\"model\"])\n",
    "torch.set_grad_enabled(False)\n",
    "model.eval()"
   ]
  },
  {
   "cell_type": "code",
   "execution_count": 5,
   "metadata": {},
   "outputs": [
    {
     "name": "stderr",
     "output_type": "stream",
     "text": [
      "100%|██████████| 37/37 [02:56<00:00,  4.76s/it]\n"
     ]
    },
    {
     "name": "stdout",
     "output_type": "stream",
     "text": [
      "Finished testing with loss 111420.82571396956 and accuracy 0.49155405405405406.\n"
     ]
    }
   ],
   "source": [
    "test_results, final_plots, accuracy, flipped = test(model)"
   ]
  },
  {
   "cell_type": "code",
   "execution_count": null,
   "metadata": {},
   "outputs": [],
   "source": []
  }
 ],
 "metadata": {
  "kernelspec": {
   "display_name": "venv",
   "language": "python",
   "name": "python3"
  },
  "language_info": {
   "codemirror_mode": {
    "name": "ipython",
    "version": 3
   },
   "file_extension": ".py",
   "mimetype": "text/x-python",
   "name": "python",
   "nbconvert_exporter": "python",
   "pygments_lexer": "ipython3",
   "version": "3.10.12"
  }
 },
 "nbformat": 4,
 "nbformat_minor": 2
}
