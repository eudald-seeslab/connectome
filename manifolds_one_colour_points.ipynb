{
 "cells": [
  {
   "cell_type": "code",
   "metadata": {},
   "source": [
    "import torch\n",
    "from torch.nn import CrossEntropyLoss\n",
    "import matplotlib.pyplot as plt\n",
    "cmap = plt.get_cmap(\"viridis\")\n",
    "\n",
    "import config as u_config\n",
    "from graph_models import FullGraphModel\n",
    "\n",
    "from data_processing import DataProcessor\n",
    "from manifold_funcs import manifold_test\n",
    "\n",
    "device_type = \"cuda\" if torch.cuda.is_available() else \"cpu\"\n",
    "device = torch.device(device_type)\n",
    "dtype = torch.float32\n",
    "batch_size = u_config.batch_size"
   ],
   "outputs": [],
   "execution_count": null
  },
  {
   "cell_type": "code",
   "metadata": {},
   "source": [
    "data_processor = DataProcessor(u_config)\n",
    "model = FullGraphModel(data_processor, u_config).to(device)\n",
    "criterion = CrossEntropyLoss()\n",
    "\n",
    "checkpoint = torch.load(\n",
    "    \"models/m_2024-07-24 17:10_xv8naljn.pth\",  # for points\n",
    "    map_location=device_type,\n",
    ")\n",
    "model.load_state_dict(checkpoint[\"model\"])\n",
    "torch.set_grad_enabled(False)\n",
    "model.eval()"
   ],
   "outputs": [],
   "execution_count": null
  },
  {
   "cell_type": "code",
   "metadata": {},
   "source": [
    "test_results, final_plots, accuracy, intermediate, labels = manifold_test(\n",
    "    model, data_processor, criterion, device, u_config\n",
    ")"
   ],
   "outputs": [],
   "execution_count": null
  },
  {
   "cell_type": "code",
   "metadata": {},
   "source": [
    "intermediate = intermediate.cpu().numpy()\n",
    "\n",
    "test_results[\"colour\"] = test_results[\"Image\"].str.split(\"/\").str.get(-2)"
   ],
   "outputs": [],
   "execution_count": null
  },
  {
   "cell_type": "code",
   "metadata": {},
   "source": [
    "from sklearn.manifold import TSNE\n",
    "\n",
    "# Perform t-SNE to reduce to 2D for visualization\n",
    "tsne = TSNE(n_components=3, random_state=42)\n",
    "reduced_data = tsne.fit_transform(intermediate)\n",
    "test_results[\"tsne_Component_1\"] = reduced_data[:, 0]\n",
    "test_results[\"tsne_Component_2\"] = reduced_data[:, 1]\n",
    "test_results[\"tsne_Component_3\"] = reduced_data[:, 2]"
   ],
   "outputs": [],
   "execution_count": null
  },
  {
   "cell_type": "code",
   "metadata": {},
   "source": [
    "import umap\n",
    "\n",
    "# Perform UMAP to reduce to 2D for visualization\n",
    "reducer = umap.UMAP(n_components=3)\n",
    "reduced_data = reducer.fit_transform(intermediate)\n",
    "\n",
    "test_results[\"umap_Component_1\"] = reduced_data[:, 0]\n",
    "test_results[\"umap_Component_2\"] = reduced_data[:, 1]\n",
    "test_results[\"umap_Component_3\"] = reduced_data[:, 2]"
   ],
   "outputs": [],
   "execution_count": null
  },
  {
   "cell_type": "code",
   "metadata": {},
   "source": [
    "from sklearn.decomposition import PCA\n",
    "\n",
    "pca_2d = PCA(n_components=3)\n",
    "pca_2d_result = pca_2d.fit_transform(intermediate)\n",
    "\n",
    "test_results[\"pca_Component_1\"] = pca_2d_result[:, 0]\n",
    "test_results[\"pca_Component_2\"] = pca_2d_result[:, 1]\n",
    "test_results[\"pca_Component_3\"] = pca_2d_result[:, 2]"
   ],
   "outputs": [],
   "execution_count": null
  },
  {
   "cell_type": "markdown",
   "metadata": {},
   "source": [
    "# 2D"
   ]
  },
  {
   "cell_type": "code",
   "metadata": {},
   "source": [
    "%matplotlib inline\n",
    "def plot_2D(test_results, algorithm=\"tsne\"):\n",
    "    plt.figure(figsize=(10, 8))\n",
    "\n",
    "    # Extract the first two t-SNE components and the color labels\n",
    "    tsne_1 = test_results[f\"{algorithm}_Component_1\"]\n",
    "    tsne_2 = test_results[f\"{algorithm}_Component_2\"]\n",
    "    colours = test_results[\"colour\"]\n",
    "\n",
    "    # Create a scatter plot\n",
    "    scatter = plt.scatter(tsne_1, tsne_2, c=colours, cmap=\"viridis\", alpha=0.7)\n",
    "\n",
    "    # Add a legend\n",
    "    legend = plt.legend(*scatter.legend_elements(), title=\"Classes\")\n",
    "    plt.gca().add_artist(legend)\n",
    "\n",
    "    # Labels and title\n",
    "    plt.xlabel(f\"{algorithm} Component 1\")\n",
    "    plt.ylabel(f\"{algorithm} Component 2\")\n",
    "    plt.title(f\"{algorithm} Plot of Test Results\")\n",
    "\n",
    "    plt.grid(True)\n",
    "    plt.show()"
   ],
   "outputs": [],
   "execution_count": null
  },
  {
   "cell_type": "code",
   "metadata": {},
   "source": [
    "plot_2D(test_results, algorithm=\"tsne\")"
   ],
   "outputs": [],
   "execution_count": null
  },
  {
   "cell_type": "code",
   "metadata": {},
   "source": [
    "plot_2D(test_results, algorithm=\"umap\")"
   ],
   "outputs": [],
   "execution_count": null
  },
  {
   "cell_type": "code",
   "metadata": {},
   "source": [
    "plot_2D(test_results, algorithm=\"pca\")"
   ],
   "outputs": [],
   "execution_count": null
  },
  {
   "cell_type": "code",
   "metadata": {},
   "source": [
    "from manifold_plots import plot_manifold_3d\n",
    "\n",
    "def plot_manifold_3d(test_results, geom=\"shape\", algorithm=\"tsne\"):\n",
    "    if geom == \"shape\":\n",
    "        shape_colors = {\"circle\": \"blue\", \"star\": \"red\"}\n",
    "    elif geom == \"colour\":\n",
    "        shape_colors = {\"blue\": \"blue\", \"yellow\": \"yellow\"}\n",
    "\n",
    "    # Create the 3D scatter plot\n",
    "    fig = go.Figure()\n",
    "\n",
    "    # Add scatter3d trace for color coding\n",
    "    for shape in test_results[geom].unique():\n",
    "        df_shape = test_results[test_results[geom] == shape]\n",
    "        fig.add_trace(\n",
    "            go.Scatter3d(\n",
    "                x=df_shape[f\"{algorithm}_Component_1\"],\n",
    "                y=df_shape[f\"{algorithm}_Component_2\"],\n",
    "                z=df_shape[f\"{algorithm}_Component_3\"],\n",
    "                mode=\"markers\",\n",
    "                marker=dict(\n",
    "                    size=2,\n",
    "                    color=shape_colors[shape],\n",
    "                    opacity=0.8,\n",
    "                    line=dict(width=0),  # Remove the white border of the points\n",
    "                ),\n",
    "                name=shape,\n",
    "            )\n",
    "        )\n",
    "\n",
    "    # Update layout to remove the background and set other properties\n",
    "    fig.update_layout(\n",
    "        scene=dict(\n",
    "            xaxis=dict(backgroundcolor=\"rgba(0,0,0,0)\", showgrid=False, zeroline=False),\n",
    "            yaxis=dict(backgroundcolor=\"rgba(0,0,0,0)\", showgrid=False, zeroline=False),\n",
    "            zaxis=dict(backgroundcolor=\"rgba(0,0,0,0)\", showgrid=False, zeroline=False),\n",
    "        ),\n",
    "        title=f\"{algorithm.upper()} of Decision Making Neuron Activations\",\n",
    "        showlegend=True,\n",
    "    )\n",
    "\n",
    "    # Show the plot\n",
    "    fig.show()"
   ],
   "outputs": [],
   "execution_count": null
  },
  {
   "cell_type": "code",
   "metadata": {},
   "source": [
    "import plotly.graph_objects as go\n",
    "\n",
    "plot_manifold_3d(test_results, geom=\"colour\", algorithm=\"tsne\")"
   ],
   "outputs": [],
   "execution_count": null
  },
  {
   "cell_type": "code",
   "metadata": {},
   "source": [
    "plot_manifold_3d(test_results, geom=\"colour\", algorithm=\"umap\")"
   ],
   "outputs": [],
   "execution_count": null
  },
  {
   "cell_type": "code",
   "metadata": {},
   "source": [
    "plot_manifold_3d(test_results, geom=\"colour\", algorithm=\"pca\")"
   ],
   "outputs": [],
   "execution_count": null
  },
  {
   "cell_type": "code",
   "metadata": {},
   "source": [],
   "outputs": [],
   "execution_count": null
  }
 ],
 "metadata": {
  "kernelspec": {
   "display_name": "venv",
   "language": "python",
   "name": "python3"
  },
  "language_info": {
   "codemirror_mode": {
    "name": "ipython",
    "version": 3
   },
   "file_extension": ".py",
   "mimetype": "text/x-python",
   "name": "python",
   "nbconvert_exporter": "python",
   "pygments_lexer": "ipython3",
   "version": "3.12.3"
  }
 },
 "nbformat": 4,
 "nbformat_minor": 2
}
