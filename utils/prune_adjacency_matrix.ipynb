{
 "cells": [
  {
   "cell_type": "code",
   "execution_count": 21,
   "metadata": {},
   "outputs": [],
   "source": [
    "import pandas as pd\n",
    "from flyvision_ans import NON_DECODING_CELLS, DECODING_CELLS\n",
    "from scipy.sparse import load_npz"
   ]
  },
  {
   "cell_type": "code",
   "execution_count": 26,
   "metadata": {},
   "outputs": [],
   "source": [
    "cc = pd.read_csv(\"adult_data/classification_clean.csv\")\n",
    "conns = pd.read_csv(\"adult_data/connections.csv\")\n",
    "neurons = pd.read_csv(\"adult_data/neurons.csv\")\n",
    "root_index = pd.read_csv(\"adult_data/root_id_to_index.csv\")\n",
    "synaptic_matrix = load_npz(\"adult_data/synaptic_matrix_sparse.npz\")"
   ]
  },
  {
   "cell_type": "code",
   "execution_count": 17,
   "metadata": {},
   "outputs": [],
   "source": [
    "# remove all the connections where pre_root_id is from a neuron whose cell type is not in the decoding cells\n",
    "conns_cc = conns.merge(cc, left_on=\"pre_root_id\", right_on=\"root_id\")\n",
    "conns_cc = conns_cc[~conns_cc[\"cell_type\"].isin(NON_DECODING_CELLS)]"
   ]
  },
  {
   "cell_type": "code",
   "execution_count": 23,
   "metadata": {},
   "outputs": [],
   "source": [
    "activation_root_ids = conns_cc[conns_cc[\"cell_type\"].isin(DECODING_CELLS)][\"pre_root_id\"].unique()\n",
    "activation_indices = root_index[root_index[\"root_id\"].isin(\n",
    "    activation_root_ids)][\"index_id\"].values"
   ]
  },
  {
   "cell_type": "code",
   "execution_count": 77,
   "metadata": {},
   "outputs": [],
   "source": [
    "# create a vector of lentgh root_index.shape[0] with 0 everywhere except for the activation_indices where it is 1\n",
    "activation_vector = pd.Series(0, index=root_index.index)\n",
    "activation_vector[activation_indices] = 1"
   ]
  },
  {
   "cell_type": "code",
   "execution_count": 78,
   "metadata": {},
   "outputs": [
    {
     "name": "stdout",
     "output_type": "stream",
     "text": [
      "(50428,)\n",
      "(87700,)\n",
      "(111149,)\n",
      "(126746,)\n",
      "(127789,)\n",
      "(125711,)\n",
      "(79101,)\n",
      "(64191,)\n",
      "(63981,)\n",
      "(63971,)\n"
     ]
    }
   ],
   "source": [
    "# simulate n passes of the activation_vector through the synaptic_matrix\n",
    "import numpy as np\n",
    "\n",
    "\n",
    "activated_neurons = activation_vector\n",
    "n = 10\n",
    "for i in range(n):\n",
    "    activation_vector = synaptic_matrix.dot(activation_vector)# + activation_vector\n",
    "    activated_neurons = activated_neurons + np.where(activation_vector > 0, 1, 0)\n",
    "    print(activation_vector[activation_vector > 0].shape)"
   ]
  },
  {
   "cell_type": "code",
   "execution_count": 79,
   "metadata": {},
   "outputs": [
    {
     "data": {
      "text/plain": [
       "(127852,)"
      ]
     },
     "execution_count": 79,
     "metadata": {},
     "output_type": "execute_result"
    }
   ],
   "source": [
    "activated_neurons[activated_neurons > 0].shape"
   ]
  },
  {
   "cell_type": "code",
   "execution_count": 50,
   "metadata": {},
   "outputs": [
    {
     "data": {
      "text/plain": [
       "(134191,)"
      ]
     },
     "execution_count": 50,
     "metadata": {},
     "output_type": "execute_result"
    }
   ],
   "source": [
    "activation_vector.shape"
   ]
  },
  {
   "cell_type": "code",
   "execution_count": null,
   "metadata": {},
   "outputs": [],
   "source": []
  }
 ],
 "metadata": {
  "kernelspec": {
   "display_name": "venv",
   "language": "python",
   "name": "python3"
  },
  "language_info": {
   "codemirror_mode": {
    "name": "ipython",
    "version": 3
   },
   "file_extension": ".py",
   "mimetype": "text/x-python",
   "name": "python",
   "nbconvert_exporter": "python",
   "pygments_lexer": "ipython3",
   "version": "3.10.12"
  }
 },
 "nbformat": 4,
 "nbformat_minor": 2
}
