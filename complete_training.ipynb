{
 "cells": [
  {
   "cell_type": "code",
   "execution_count": 1,
   "metadata": {},
   "outputs": [
    {
     "name": "stderr",
     "output_type": "stream",
     "text": [
      "/home/eudald/Desktop/doctorat/connectome/venv/lib/python3.10/site-packages/torch/__init__.py:747: UserWarning: torch.set_default_tensor_type() is deprecated as of PyTorch 2.1, please use torch.set_default_dtype() and torch.set_default_device() as alternatives. (Triggered internally at ../torch/csrc/tensor/python_tensor.cpp:431.)\n",
      "  _C._set_default_tensor_type(t)\n"
     ]
    }
   ],
   "source": [
    "import warnings\n",
    "import torch\n",
    "from torch.nn import BCEWithLogitsLoss\n",
    "from tqdm import tqdm\n",
    "\n",
    "import config\n",
    "from utils import get_image_paths\n",
    "from complete_training_data_processing import CompleteModelsDataProcessor\n",
    "from graph_models import FullGraphModel\n",
    "from from_retina_to_connectome_utils import (\n",
    "    select_random_images,\n",
    "    initialize_results_df,\n",
    "    clean_model_outputs,\n",
    "    update_results_df,\n",
    "    update_running_loss,\n",
    ")\n",
    "\n",
    "from wandb_utils import WandBLogger\n",
    "\n",
    "warnings.filterwarnings(\n",
    "    \"ignore\",\n",
    "    message=\"invalid value encountered in cast\",\n",
    "    category=RuntimeWarning,\n",
    "    module=\"wandb.sdk.data_types.image\",\n",
    ")\n",
    "\n",
    "torch.manual_seed(1234)\n",
    "\n",
    "training_images_dir = config.TRAINING_DATA_DIR\n",
    "small = config.small\n",
    "small_length = config.small_length\n",
    "ommatidia_size = 8"
   ]
  },
  {
   "cell_type": "code",
   "execution_count": 3,
   "metadata": {},
   "outputs": [],
   "source": [
    "# get data\n",
    "training_images = get_image_paths(\n",
    "    training_images_dir, small, small_length\n",
    ")\n",
    "data_processor = CompleteModelsDataProcessor()"
   ]
  },
  {
   "cell_type": "code",
   "execution_count": 4,
   "metadata": {},
   "outputs": [],
   "source": [
    "model = FullGraphModel(\n",
    "    input_shape=data_processor.synaptic_matrix.shape[0],\n",
    "    num_connectome_passes=config.NUM_CONNECTOME_PASSES,\n",
    "    decision_making_vector=data_processor.decision_making_vector,\n",
    "    log_transform_weights=config.log_transform_weights,\n",
    "    batch_size=config.batch_size,\n",
    "    dtype=config.dtype,\n",
    "    num_edges=data_processor.synaptic_matrix.nnz,\n",
    "    retina_connection=False,\n",
    ").to(config.DEVICE)\n",
    "optimizer = torch.optim.Adam(model.parameters(), lr=config.base_lr)\n",
    "\n",
    "criterion = BCEWithLogitsLoss()\n",
    "\n",
    "# train\n",
    "results = initialize_results_df()\n",
    "already_selected = []\n",
    "running_loss, total_correct, total = 0, 0, 0"
   ]
  },
  {
   "cell_type": "code",
   "execution_count": 5,
   "metadata": {},
   "outputs": [
    {
     "name": "stderr",
     "output_type": "stream",
     "text": [
      "Failed to detect the name of this notebook, you can set it manually with the WANDB_NOTEBOOK_NAME environment variable to enable code saving.\n",
      "\u001b[34m\u001b[1mwandb\u001b[0m: Currently logged in as: \u001b[33meudald\u001b[0m. Use \u001b[1m`wandb login --relogin`\u001b[0m to force relogin\n"
     ]
    },
    {
     "data": {
      "text/html": [
       "Tracking run with wandb version 0.16.6"
      ],
      "text/plain": [
       "<IPython.core.display.HTML object>"
      ]
     },
     "metadata": {},
     "output_type": "display_data"
    },
    {
     "data": {
      "text/html": [
       "Run data is saved locally in <code>/home/eudald/Desktop/doctorat/connectome/wandb/run-20240503_125324-ae94n1j2</code>"
      ],
      "text/plain": [
       "<IPython.core.display.HTML object>"
      ]
     },
     "metadata": {},
     "output_type": "display_data"
    },
    {
     "data": {
      "text/html": [
       "Syncing run <strong><a href='https://wandb.ai/eudald/adult_complete/runs/ae94n1j2' target=\"_blank\">bumbling-sound-9</a></strong> to <a href='https://wandb.ai/eudald/adult_complete' target=\"_blank\">Weights & Biases</a> (<a href='https://wandb.me/run' target=\"_blank\">docs</a>)<br/>"
      ],
      "text/plain": [
       "<IPython.core.display.HTML object>"
      ]
     },
     "metadata": {},
     "output_type": "display_data"
    },
    {
     "data": {
      "text/html": [
       " View project at <a href='https://wandb.ai/eudald/adult_complete' target=\"_blank\">https://wandb.ai/eudald/adult_complete</a>"
      ],
      "text/plain": [
       "<IPython.core.display.HTML object>"
      ]
     },
     "metadata": {},
     "output_type": "display_data"
    },
    {
     "data": {
      "text/html": [
       " View run at <a href='https://wandb.ai/eudald/adult_complete/runs/ae94n1j2' target=\"_blank\">https://wandb.ai/eudald/adult_complete/runs/ae94n1j2</a>"
      ],
      "text/plain": [
       "<IPython.core.display.HTML object>"
      ]
     },
     "metadata": {},
     "output_type": "display_data"
    },
    {
     "name": "stderr",
     "output_type": "stream",
     "text": [
      "100%|██████████| 2/2 [00:03<00:00,  1.58s/it]\n"
     ]
    },
    {
     "name": "stdout",
     "output_type": "stream",
     "text": [
      "Finished training with loss 46482.807758152485 and accuracy 0.5\n"
     ]
    },
    {
     "data": {
      "application/vnd.jupyter.widget-view+json": {
       "model_id": "4025ec7b446640a39b66ca8b50df70ab",
       "version_major": 2,
       "version_minor": 0
      },
      "text/plain": [
       "VBox(children=(Label(value='0.003 MB of 0.003 MB uploaded\\r'), FloatProgress(value=1.0, max=1.0)))"
      ]
     },
     "metadata": {},
     "output_type": "display_data"
    },
    {
     "data": {
      "text/html": [
       "<style>\n",
       "    table.wandb td:nth-child(1) { padding: 0 10px; text-align: left ; width: auto;} td:nth-child(2) {text-align: left ; width: 100%}\n",
       "    .wandb-row { display: flex; flex-direction: row; flex-wrap: wrap; justify-content: flex-start; width: 100% }\n",
       "    .wandb-col { display: flex; flex-direction: column; flex-basis: 100%; flex: 1; padding: 10px; }\n",
       "    </style>\n",
       "<div class=\"wandb-row\"><div class=\"wandb-col\"><h3>Run history:</h3><br/><table class=\"wandb\"><tr><td>accuracy</td><td>▁█</td></tr><tr><td>epoch</td><td>▁▁</td></tr><tr><td>iteration</td><td>▁█</td></tr><tr><td>loss</td><td>█▁</td></tr></table><br/></div><div class=\"wandb-col\"><h3>Run summary:</h3><br/><table class=\"wandb\"><tr><td>accuracy</td><td>0.5</td></tr><tr><td>epoch</td><td>0</td></tr><tr><td>iteration</td><td>2</td></tr><tr><td>loss</td><td>46482.80776</td></tr></table><br/></div></div>"
      ],
      "text/plain": [
       "<IPython.core.display.HTML object>"
      ]
     },
     "metadata": {},
     "output_type": "display_data"
    },
    {
     "data": {
      "text/html": [
       " View run <strong style=\"color:#cdcd00\">bumbling-sound-9</strong> at: <a href='https://wandb.ai/eudald/adult_complete/runs/ae94n1j2' target=\"_blank\">https://wandb.ai/eudald/adult_complete/runs/ae94n1j2</a><br/> View project at: <a href='https://wandb.ai/eudald/adult_complete' target=\"_blank\">https://wandb.ai/eudald/adult_complete</a><br/>Synced 5 W&B file(s), 0 media file(s), 0 artifact file(s) and 0 other file(s)"
      ],
      "text/plain": [
       "<IPython.core.display.HTML object>"
      ]
     },
     "metadata": {},
     "output_type": "display_data"
    },
    {
     "data": {
      "text/html": [
       "Find logs at: <code>./wandb/run-20240503_125324-ae94n1j2/logs</code>"
      ],
      "text/plain": [
       "<IPython.core.display.HTML object>"
      ]
     },
     "metadata": {},
     "output_type": "display_data"
    }
   ],
   "source": [
    "wandb_logger = WandBLogger(\"adult_complete\")\n",
    "wandb_logger.initialize()\n",
    "\n",
    "model.train()\n",
    "iterations = (\n",
    "    config.debug_length\n",
    "    if config.debugging\n",
    "    else len(training_images) // config.batch_size\n",
    ")\n",
    "for i in tqdm(range(iterations)):\n",
    "    batch_files, already_selected = select_random_images(\n",
    "        training_images, config.batch_size, already_selected\n",
    "    )\n",
    "    inputs, labels = data_processor.process_batch(batch_files)\n",
    "    optimizer.zero_grad()\n",
    "    out = model(inputs)\n",
    "    loss = criterion(out, labels)\n",
    "    loss.backward()\n",
    "    optimizer.step()\n",
    "\n",
    "    # Calculate run parameters\n",
    "    outputs, predictions, labels_cpu, correct = clean_model_outputs(out, labels)\n",
    "    results = update_results_df(\n",
    "        results, batch_files, outputs, predictions, labels_cpu, correct\n",
    "    )\n",
    "    running_loss += update_running_loss(loss, inputs)\n",
    "    total += config.batch_size\n",
    "    total_correct += correct.sum()\n",
    "\n",
    "    wandb_logger.log_metrics(i, running_loss, total_correct, total, results)\n",
    "\n",
    "print(\n",
    "    f\"Finished training with loss {running_loss / total} and accuracy {total_correct / total}\"\n",
    ")\n",
    "torch.cuda.empty_cache()\n",
    "wandb_logger.finish()"
   ]
  },
  {
   "cell_type": "code",
   "execution_count": null,
   "metadata": {},
   "outputs": [],
   "source": []
  },
  {
   "cell_type": "markdown",
   "metadata": {},
   "source": [
    "coses a fer:\n",
    "- canviar les cel·les de voronoi a cada batch\n",
    "- fer múltipes passades per veure la mateixa imatge amb més d'una tesselació\n",
    "- escollir menys neurones pel decision making"
   ]
  },
  {
   "cell_type": "code",
   "execution_count": 11,
   "metadata": {},
   "outputs": [
    {
     "name": "stdout",
     "output_type": "stream",
     "text": [
      "+---------------------------------+----------------------------------------------------+----------------+----------+\n",
      "| Layer                           | Input Shape                                        | Output Shape   | #Param   |\n",
      "|---------------------------------+----------------------------------------------------+----------------+----------|\n",
      "| FullGraphModel                  |                                                    | [32]           | 2        |\n",
      "| ├─(connectome)TrainableEdgeConv | [2133056, 1], [2, 39398144], [39398144], [2133056] | [2133056, 1]   | --       |\n",
      "| ├─(final_fc)Linear              | [32, 1, 1]                                         | [32, 1, 1]     | 2        |\n",
      "+---------------------------------+----------------------------------------------------+----------------+----------+\n"
     ]
    }
   ],
   "source": [
    "\n",
    "\n"
   ]
  },
  {
   "cell_type": "code",
   "execution_count": null,
   "metadata": {},
   "outputs": [],
   "source": []
  }
 ],
 "metadata": {
  "kernelspec": {
   "display_name": "venv",
   "language": "python",
   "name": "python3"
  },
  "language_info": {
   "codemirror_mode": {
    "name": "ipython",
    "version": 3
   },
   "file_extension": ".py",
   "mimetype": "text/x-python",
   "name": "python",
   "nbconvert_exporter": "python",
   "pygments_lexer": "ipython3",
   "version": "3.10.12"
  }
 },
 "nbformat": 4,
 "nbformat_minor": 2
}
