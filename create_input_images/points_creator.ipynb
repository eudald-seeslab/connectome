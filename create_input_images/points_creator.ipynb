{
 "cells": [
  {
   "cell_type": "code",
   "execution_count": 24,
   "metadata": {
    "ExecuteTime": {
     "end_time": "2024-04-08T07:10:10.917514Z",
     "start_time": "2024-04-08T07:10:10.910166Z"
    },
    "collapsed": true
   },
   "outputs": [],
   "source": [
    "import os\n",
    "from PIL import Image, ImageDraw\n",
    "import numpy as np\n",
    "import math\n",
    "import random\n",
    "from tqdm import tqdm"
   ]
  },
  {
   "cell_type": "code",
   "execution_count": 51,
   "metadata": {
    "ExecuteTime": {
     "end_time": "2024-04-08T07:10:11.991995Z",
     "start_time": "2024-04-08T07:10:11.987224Z"
    },
    "collapsed": false,
    "pycharm": {
     "name": "#%%\n"
    }
   },
   "outputs": [],
   "source": [
    "random.seed(1714)\n",
    "\n",
    "IMAGE_SET_NUM = 50\n",
    "colour_1 = \"yellow\"\n",
    "colour_2 = \"blue\"\n",
    "\n",
    "# constants\n",
    "boundary_width = 5\n",
    "background_colour = \"#808080\"\n",
    "yellow = \"#fffe04\"\n",
    "blue = \"#0003f9\"\n",
    "point_sep = 20\n",
    "min_point_radius = 8\n",
    "max_point_radius = 16\n",
    "init_size = 512\n",
    "mode = \"RGB\"\n",
    "\n",
    "IMG_DIR = \"../images/square\"\n",
    "os.makedirs(IMG_DIR, exist_ok=True)\n",
    "os.makedirs(os.path.join(IMG_DIR, colour_1), exist_ok=True)\n",
    "os.makedirs(os.path.join(IMG_DIR, colour_2), exist_ok=True)"
   ]
  },
  {
   "cell_type": "code",
   "execution_count": 63,
   "metadata": {},
   "outputs": [],
   "source": [
    "def get_vertices(shape, center, radius):\n",
    "    if shape == \"circle\":\n",
    "        vertices = [\n",
    "            (center[0] - radius, center[1] - radius),\n",
    "            (center[0] + radius, center[1] + radius),\n",
    "        ]\n",
    "    elif shape == \"triangle\":\n",
    "        vertices = [\n",
    "            (center[0], center[1] - radius),\n",
    "            (center[0] - radius, center[1] + radius),\n",
    "            (center[0] + radius, center[1] + radius),\n",
    "        ]\n",
    "    elif shape == \"square\":\n",
    "        vertices = [\n",
    "            (center[0] - radius, center[1] - radius),\n",
    "            (center[0] + radius, center[1] - radius),\n",
    "            (center[0] + radius, center[1] + radius),\n",
    "            (center[0] - radius, center[1] + radius),\n",
    "        ]\n",
    "    elif shape == \"star\":\n",
    "        vertices = []\n",
    "        for i in range(5):\n",
    "            angle_deg = -90 + (i * 72)  # 72 degrees between each point\n",
    "            angle_rad = math.radians(angle_deg)\n",
    "            x = center[0] + radius * math.cos(angle_rad)\n",
    "            y = center[1] + radius * math.sin(angle_rad)\n",
    "            vertices.append((x, y))\n",
    "            # Repeat for inner vertices\n",
    "            angle_deg += 36\n",
    "            angle_rad = math.radians(angle_deg)\n",
    "            x = center[0] + (radius / 2) * math.cos(angle_rad)\n",
    "            y = center[1] + (radius / 2) * math.sin(angle_rad)\n",
    "            vertices.append((x, y))\n",
    "    else:\n",
    "        raise ValueError(f\"Shape {shape} not implemented.\")\n",
    "    return vertices\n",
    "\n",
    "\n",
    "def draw_shape(shape, radius, colour, it, img_dir, jitter=False):\n",
    "    pixels_x = 512\n",
    "    pixels_y = 512\n",
    "    # Create a new image with grey background\n",
    "    image = Image.new(\"RGB\", (pixels_x, pixels_y), color=\"grey\")\n",
    "\n",
    "    col = yellow if colour == \"yellow\" else blue\n",
    "\n",
    "    # Draw a blue point in the center\n",
    "    draw = ImageDraw.Draw(image)\n",
    "    # allow the center to move a bit\n",
    "    x_space = int(pixels_x / 2 - radius) if jitter else 0\n",
    "    y_space = int(pixels_y / 2 - radius) if jitter else 0\n",
    "    dist_x = random.randint(-x_space, x_space)\n",
    "    dist_y = random.randint(-y_space, y_space)\n",
    "    center = (int(pixels_x / 2) + dist_x, int(pixels_y / 2) + dist_y)\n",
    "    dist_from_center = np.sqrt(dist_x ** 2 + dist_y ** 2) \n",
    "\n",
    "    vertices = get_vertices(shape, center, radius)\n",
    "    if shape == \"circle\":\n",
    "        draw.ellipse(vertices, fill=col)\n",
    "    else:    \n",
    "        draw.polygon(vertices, fill=col)\n",
    "\n",
    "    image.save(\n",
    "        os.path.join(\n",
    "            img_dir, colour, f\"{shape}_{radius}_{int(dist_from_center)}_{it}.png\"\n",
    "        )\n",
    "    )"
   ]
  },
  {
   "cell_type": "code",
   "execution_count": 61,
   "metadata": {},
   "outputs": [],
   "source": [
    "def create_dirs(img_dir):\n",
    "    os.makedirs(img_dir, exist_ok=True)\n",
    "    os.makedirs(os.path.join(img_dir, colour_1), exist_ok=True)\n",
    "    os.makedirs(os.path.join(img_dir, colour_2), exist_ok=True)\n",
    "\n",
    "\n",
    "def create_set_of_images(\n",
    "    shape,\n",
    "    train_num,\n",
    "    val_num,\n",
    "    min_radius=40,\n",
    "    max_radius=180,\n",
    "    jitter=False,\n",
    "    img_dir_tag=\"\",\n",
    "):\n",
    "    IMG_DIR = f\"../images/{img_dir_tag}{shape}\"\n",
    "    IMG_DIR_VAL = f\"../images/{img_dir_tag}{shape}_val\"\n",
    "    create_dirs(IMG_DIR)\n",
    "    create_dirs(IMG_DIR_VAL)\n",
    "\n",
    "    print(f\"Creating images for {shape} with {train_num} training images and {val_num} validation images\")\n",
    "\n",
    "    for i in tqdm(range(train_num)):\n",
    "        for r in range(min_radius, max_radius):\n",
    "            draw_shape(shape, r, \"blue\", i, IMG_DIR, jitter=jitter)\n",
    "            draw_shape(shape, r, \"yellow\", i, IMG_DIR, jitter=jitter)\n",
    "\n",
    "    for i in tqdm(range(val_num)):\n",
    "        for r in range(min_radius, max_radius):\n",
    "            draw_shape(shape, r, \"blue\", i, IMG_DIR_VAL, jitter=jitter)\n",
    "            draw_shape(shape, r, \"yellow\", i, IMG_DIR_VAL, jitter=jitter)"
   ]
  },
  {
   "cell_type": "code",
   "execution_count": 56,
   "metadata": {},
   "outputs": [
    {
     "name": "stdout",
     "output_type": "stream",
     "text": [
      "Creating images for square with 50 training images and 10 validation images\n"
     ]
    },
    {
     "name": "stderr",
     "output_type": "stream",
     "text": [
      "100%|██████████| 50/50 [01:04<00:00,  1.28s/it]\n",
      "100%|██████████| 10/10 [00:13<00:00,  1.33s/it]\n"
     ]
    },
    {
     "name": "stdout",
     "output_type": "stream",
     "text": [
      "Creating images for triangle with 50 training images and 10 validation images\n"
     ]
    },
    {
     "name": "stderr",
     "output_type": "stream",
     "text": [
      "100%|██████████| 50/50 [01:14<00:00,  1.50s/it]\n",
      "100%|██████████| 10/10 [00:14<00:00,  1.44s/it]\n"
     ]
    },
    {
     "name": "stdout",
     "output_type": "stream",
     "text": [
      "Creating images for circle with 50 training images and 10 validation images\n"
     ]
    },
    {
     "name": "stderr",
     "output_type": "stream",
     "text": [
      "100%|██████████| 50/50 [01:20<00:00,  1.62s/it]\n",
      "100%|██████████| 10/10 [00:17<00:00,  1.73s/it]\n"
     ]
    },
    {
     "name": "stdout",
     "output_type": "stream",
     "text": [
      "Creating images for star with 50 training images and 10 validation images\n"
     ]
    },
    {
     "name": "stderr",
     "output_type": "stream",
     "text": [
      "100%|██████████| 50/50 [01:27<00:00,  1.75s/it]\n",
      "100%|██████████| 10/10 [00:16<00:00,  1.67s/it]\n"
     ]
    }
   ],
   "source": [
    "create_set_of_images(\"square\", 50, 10, 40, 180)\n",
    "create_set_of_images(\"triangle\", 50, 10, 40, 180)\n",
    "create_set_of_images(\"circle\", 50, 10, 40, 180)\n",
    "create_set_of_images(\"star\", 50, 10, 40, 180)"
   ]
  },
  {
   "cell_type": "code",
   "execution_count": 69,
   "metadata": {},
   "outputs": [
    {
     "name": "stdout",
     "output_type": "stream",
     "text": [
      "Creating images for circle with 50 training images and 20 validation images\n"
     ]
    },
    {
     "name": "stderr",
     "output_type": "stream",
     "text": [
      "100%|██████████| 50/50 [00:40<00:00,  1.23it/s]\n",
      "100%|██████████| 20/20 [00:16<00:00,  1.24it/s]\n"
     ]
    }
   ],
   "source": [
    "create_set_of_images(\"circle\", 50, 20, 40, 120, img_dir_tag=\"v3_\", jitter=True)"
   ]
  },
  {
   "cell_type": "code",
   "execution_count": 70,
   "metadata": {},
   "outputs": [
    {
     "name": "stdout",
     "output_type": "stream",
     "text": [
      "Creating images for star with 50 training images and 10 validation images\n"
     ]
    },
    {
     "name": "stderr",
     "output_type": "stream",
     "text": [
      "100%|██████████| 50/50 [00:44<00:00,  1.13it/s]\n",
      "100%|██████████| 10/10 [00:09<00:00,  1.04it/s]\n"
     ]
    }
   ],
   "source": [
    "create_set_of_images(\"star\", 50, 10, 80, 160)"
   ]
  },
  {
   "cell_type": "code",
   "execution_count": null,
   "metadata": {},
   "outputs": [],
   "source": []
  }
 ],
 "metadata": {
  "kernelspec": {
   "display_name": "Python 3",
   "language": "python",
   "name": "python3"
  },
  "language_info": {
   "codemirror_mode": {
    "name": "ipython",
    "version": 3
   },
   "file_extension": ".py",
   "mimetype": "text/x-python",
   "name": "python",
   "nbconvert_exporter": "python",
   "pygments_lexer": "ipython3",
   "version": "3.10.12"
  }
 },
 "nbformat": 4,
 "nbformat_minor": 0
}
