{
 "cells": [
  {
   "cell_type": "code",
   "execution_count": 1,
   "id": "initial_id",
   "metadata": {
    "collapsed": true,
    "ExecuteTime": {
     "end_time": "2024-03-03T11:24:09.633631Z",
     "start_time": "2024-03-03T11:24:06.912498Z"
    }
   },
   "outputs": [
    {
     "name": "stderr",
     "output_type": "stream",
     "text": [
      "/home/eudald/Desktop/doctorat/connectome/venv/lib/python3.10/site-packages/torch/__init__.py:614: UserWarning: torch.set_default_tensor_type() is deprecated as of PyTorch 2.1, please use torch.set_default_dtype() and torch.set_default_device() as alternatives. (Triggered internally at ../torch/csrc/tensor/python_tensor.cpp:451.)\n",
      "  _C._set_default_tensor_type(t)\n"
     ]
    }
   ],
   "source": [
    "import os\n",
    "\n",
    "# stupid cuda stuff\n",
    "os.environ['PYTORCH_CUDA_ALLOC_CONF'] = 'max_split_size_mb:100'\n",
    "\n",
    "import pandas as pd\n",
    "import random\n",
    "import torch\n",
    "from torch import device, cuda, autocast\n",
    "from torch.cuda.amp import GradScaler\n",
    "from torch.nn import BCEWithLogitsLoss\n",
    "from tqdm import tqdm\n",
    "\n",
    "from flyvision_ans import ResponseProcessor, DECODING_CELLS\n",
    "from from_retina_to_connectome_funcs import from_retina_to_model\n",
    "from graph_models import GNNModel\n",
    "\n",
    "device_type = \"cuda\" if cuda.is_available() else \"cpu\"\n",
    "DEVICE = device(device_type)\n",
    "torch.manual_seed(42)\n",
    "batch_size = 10\n",
    "last_good_frame = 8"
   ]
  },
  {
   "cell_type": "code",
   "outputs": [],
   "source": [
    "# get a dataframe indicating which neurons will be used to classify\n",
    "rational_neurons = pd.read_csv(\"adult_data/rational_neurons.csv\", index_col=0)\n",
    "decision_making_vector = torch.tensor(rational_neurons.values.squeeze(), dtype=torch.float16, device=DEVICE).detach()"
   ],
   "metadata": {
    "collapsed": false,
    "ExecuteTime": {
     "end_time": "2024-03-03T11:24:09.654847Z",
     "start_time": "2024-03-03T11:24:09.635275Z"
    }
   },
   "id": "19c3dad6db455873",
   "execution_count": 2
  },
  {
   "cell_type": "code",
   "outputs": [
    {
     "name": "stderr",
     "output_type": "stream",
     "text": [
      "100%|██████████| 20/20 [00:01<00:00, 18.14it/s]\n",
      "100%|██████████| 20/20 [00:01<00:00, 19.92it/s]\n"
     ]
    }
   ],
   "source": [
    "response_processor = ResponseProcessor(\"very_toy_videos/yellow\")\n",
    "# compute the layer activations\n",
    "layer_activations_yellow = response_processor.compute_layer_activations()\n",
    "response_processor = ResponseProcessor(\"very_toy_videos/blue\")\n",
    "layer_activations_blue = response_processor.compute_layer_activations()\n",
    "combined_activations = layer_activations_yellow + layer_activations_blue\n",
    "\n",
    "# Create labels tensor\n",
    "labels_0 = torch.zeros(len(layer_activations_yellow), dtype=torch.long)\n",
    "labels_1 = torch.ones(len(layer_activations_blue), dtype=torch.long)\n",
    "combined_labels = torch.cat((labels_0, labels_1), dim=0)\n",
    "\n",
    "del layer_activations_yellow, layer_activations_blue\n",
    "torch.cuda.empty_cache()"
   ],
   "metadata": {
    "collapsed": false,
    "ExecuteTime": {
     "end_time": "2024-03-03T11:25:05.669132Z",
     "start_time": "2024-03-03T11:24:09.655815Z"
    }
   },
   "id": "7ba2fc4828f7544",
   "execution_count": 3
  },
  {
   "cell_type": "code",
   "outputs": [],
   "source": [
    "# shuffle (since the dataloader shuffle is broken, we have to do it by hand)\n",
    "indices = list(range(len(combined_activations)))\n",
    "random.shuffle(indices)\n",
    "\n",
    "shuffled_list = [combined_activations[i] for i in indices]\n",
    "shuffled_labels = combined_labels[torch.tensor(indices)]"
   ],
   "metadata": {
    "collapsed": false,
    "ExecuteTime": {
     "end_time": "2024-03-03T11:25:05.672776Z",
     "start_time": "2024-03-03T11:25:05.670086Z"
    }
   },
   "id": "810b9fdd8a3f4b5d",
   "execution_count": 4
  },
  {
   "cell_type": "code",
   "outputs": [
    {
     "name": "stderr",
     "output_type": "stream",
     "text": [
      "100%|██████████| 34/34 [00:04<00:00,  8.49it/s]\n"
     ]
    }
   ],
   "source": [
    "loader = from_retina_to_model(shuffled_list, shuffled_labels, DECODING_CELLS, last_good_frame, DEVICE, batch_size)\n",
    "torch.cuda.empty_cache()"
   ],
   "metadata": {
    "collapsed": false,
    "ExecuteTime": {
     "end_time": "2024-03-03T11:25:10.013076Z",
     "start_time": "2024-03-03T11:25:05.673995Z"
    }
   },
   "id": "ce3f08bac654031c",
   "execution_count": 5
  },
  {
   "cell_type": "code",
   "outputs": [
    {
     "name": "stderr",
     "output_type": "stream",
     "text": [
      "4it [00:03,  1.23it/s]\n"
     ]
    }
   ],
   "source": [
    "# Initialize the model\n",
    "model = GNNModel(num_node_features=1, decision_making_vector=decision_making_vector).to(DEVICE)\n",
    "optimizer = torch.optim.Adam(model.parameters(), lr=0.01)\n",
    "scaler = GradScaler()\n",
    "\n",
    "# Initialize the loss function\n",
    "criterion = BCEWithLogitsLoss()\n",
    "\n",
    "model.train()\n",
    "for batch_idx, batch in tqdm(enumerate(loader)):\n",
    "    batch = batch.to(DEVICE)\n",
    "    optimizer.zero_grad()\n",
    "    \n",
    "    with autocast(device_type):\n",
    "        out = model(batch)\n",
    "        loss = criterion(out, batch.y.unsqueeze(-1).float())    \n",
    "        \n",
    "    scaler.scale(loss).backward()\n",
    "    scaler.step(optimizer)\n",
    "    scaler.update()\n",
    "    optimizer.zero_grad()"
   ],
   "metadata": {
    "collapsed": false,
    "ExecuteTime": {
     "end_time": "2024-03-03T11:25:13.286509Z",
     "start_time": "2024-03-03T11:25:10.014053Z"
    }
   },
   "id": "cc3390834697f7ab",
   "execution_count": 6
  },
  {
   "cell_type": "code",
   "outputs": [],
   "source": [],
   "metadata": {
    "collapsed": false
   },
   "id": "efea5bc051bf0997"
  },
  {
   "cell_type": "markdown",
   "source": [
    "# TODO"
   ],
   "metadata": {
    "collapsed": false
   },
   "id": "23966978364e77a0"
  },
  {
   "cell_type": "markdown",
   "source": [
    "1. Literature review to identify the \"thinking\" neurons [x]\n",
    "2. Identify these neurons in the classification dataframe and create a class_labels tensor [x]\n",
    "3. Train the model with the class_labels tensor [x]\n",
    "4. Check model accuracy and weber ratio\n",
    "5. Try with other model architectures, specially with a one-hot encoding for each neuron type to simulate different neurons"
   ],
   "metadata": {
    "collapsed": false
   },
   "id": "267ef921becd0439"
  },
  {
   "cell_type": "markdown",
   "source": [],
   "metadata": {
    "collapsed": false
   },
   "id": "55b695cfd9488c4"
  }
 ],
 "metadata": {
  "kernelspec": {
   "display_name": "Python 3",
   "language": "python",
   "name": "python3"
  },
  "language_info": {
   "codemirror_mode": {
    "name": "ipython",
    "version": 2
   },
   "file_extension": ".py",
   "mimetype": "text/x-python",
   "name": "python",
   "nbconvert_exporter": "python",
   "pygments_lexer": "ipython2",
   "version": "2.7.6"
  }
 },
 "nbformat": 4,
 "nbformat_minor": 5
}
