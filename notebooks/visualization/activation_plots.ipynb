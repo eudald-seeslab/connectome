{
 "cells": [
  {
   "cell_type": "code",
   "execution_count": 2,
   "metadata": {},
   "outputs": [
    {
     "name": "stdout",
     "output_type": "stream",
     "text": [
      "Changed working directory to /home/eudald/Desktop/doctorat/connectome\n",
      "Project root: /home/eudald/Desktop/doctorat/connectome\n"
     ]
    }
   ],
   "source": [
    "%matplotlib inline\n",
    "import os\n",
    "import sys\n",
    "import torch\n",
    "import pandas as pd\n",
    "import numpy as np\n",
    "import matplotlib.pyplot as plt\n",
    "\n",
    "import connectome\n",
    "project_root = connectome.setup_notebook(use_project_root_as_cwd=True)\n",
    "\n",
    "sys.path.insert(0, str(project_root))\n",
    "\n",
    "from utils.model_inspection_funcs import (\n",
    "    neuron_data_from_image,\n",
    "    sample_images,\n",
    ")\n",
    "from utils.model_inspection_utils import propagate_data_with_steps\n",
    "\n",
    "cmap = plt.cm.binary\n",
    "\n",
    "device = torch.device(\"cpu\")\n",
    "dtype = torch.float32"
   ]
  },
  {
   "cell_type": "code",
   "execution_count": 3,
   "metadata": {},
   "outputs": [],
   "source": [
    "temp = pd.read_csv(\n",
    "    os.path.join(project_root, \"new_data\", \"connections_random3.csv\"),\n",
    "    dtype={\n",
    "        \"pre_root_id\": \"string\",\n",
    "        \"post_root_id\": \"string\",\n",
    "        \"syn_count\": np.int32,\n",
    "    },\n",
    "    index_col=0,\n",
    ")\n",
    "\n",
    "grouped = temp.groupby([\"pre_root_id\", \"post_root_id\"]).sum(\"syn_count\").reset_index()\n",
    "\n",
    "connections = grouped.sort_values([\"pre_root_id\", \"post_root_id\"])"
   ]
  },
  {
   "cell_type": "markdown",
   "metadata": {},
   "source": [
    "# Nuerons activated after 4 passes depending on connection matrix"
   ]
  },
  {
   "cell_type": "markdown",
   "metadata": {},
   "source": [
    "## Real connectome"
   ]
  },
  {
   "cell_type": "code",
   "execution_count": 5,
   "metadata": {},
   "outputs": [],
   "source": [
    "neuron_data = pd.read_csv(\n",
    "    os.path.join(\n",
    "        project_root, \"new_data\", \"right_visual_positions_selected_neurons.csv\"\n",
    "    ),\n",
    "    dtype={\"root_id\": \"string\"},\n",
    ").drop(columns=[\"x\", \"y\", \"z\", \"PC1\", \"PC2\"])\n",
    "\n",
    "num_passes = 4\n",
    "base_dir = os.path.join(project_root, \"images\", \"one_to_ten\", \"train\")\n",
    "sub_dirs = [\"yellow\", \"blue\"]\n",
    "\n",
    "sampled_images = sample_images(base_dir, sub_dirs, 1)\n",
    "img = sampled_images[0]\n",
    "activated_data = neuron_data_from_image(img, neuron_data)\n",
    "\n",
    "propagation = (\n",
    "    activated_data[[\"root_id\", \"activation\"]]\n",
    "    .fillna(0)\n",
    "    .rename(columns={\"activation\": \"input\"})\n",
    ")\n",
    "activation = activated_data[[\"root_id\", \"activation\"]]\n",
    "connections[\"weight\"] = 1\n",
    "\n",
    "for i in range(num_passes):\n",
    "    activation = propagate_data_with_steps(activation.copy(), connections, i)\n",
    "    propagation = propagation.merge(activation, on=\"root_id\", how=\"left\").fillna(0)\n",
    "\n",
    "# find percentage of non-zero values in activation_4\n",
    "propagation[\"activation_4\"].astype(bool).sum() / len(propagation)"
   ]
  },
  {
   "cell_type": "code",
   "execution_count": 6,
   "metadata": {},
   "outputs": [
    {
     "data": {
      "text/plain": [
       "0.5658108547286318"
      ]
     },
     "execution_count": 6,
     "metadata": {},
     "output_type": "execute_result"
    }
   ],
   "source": [
    "# find percentage of non-zero values in activation_4\n",
    "propagation[\"activation_4\"].astype(bool).sum() / len(propagation)"
   ]
  },
  {
   "cell_type": "markdown",
   "metadata": {},
   "source": [
    "## Completely random connections"
   ]
  },
  {
   "cell_type": "code",
   "execution_count": 18,
   "metadata": {},
   "outputs": [
    {
     "data": {
      "text/plain": [
       "0.7491062723431914"
      ]
     },
     "execution_count": 18,
     "metadata": {},
     "output_type": "execute_result"
    }
   ],
   "source": [
    "# reshuffle column post_rood_id of the dataframe connections\n",
    "shuffled_connections = connections.copy()\n",
    "shuffled_connections[\"post_root_id\"] = np.random.permutation(\n",
    "    connections[\"post_root_id\"]\n",
    ")\n",
    "propagation = (\n",
    "    activated_data[[\"root_id\", \"activation\"]]\n",
    "    .fillna(0)\n",
    "    .rename(columns={\"activation\": \"input\"})\n",
    ")\n",
    "for i in range(num_passes):\n",
    "    activation = propagate_data_with_steps(activation.copy(), shuffled_connections, i)\n",
    "    propagation = propagation.merge(activation, on=\"root_id\", how=\"left\").fillna(0)\n",
    "\n",
    "# find percentage of non-zero values in activation_4\n",
    "propagation[\"activation_4\"].astype(bool).sum() / len(propagation)"
   ]
  },
  {
   "cell_type": "markdown",
   "metadata": {},
   "source": [
    "## Random connections with reduced synaptic count"
   ]
  },
  {
   "cell_type": "code",
   "execution_count": null,
   "metadata": {},
   "outputs": [
    {
     "data": {
      "text/plain": [
       "0.7491062723431914"
      ]
     },
     "execution_count": 19,
     "metadata": {},
     "output_type": "execute_result"
    }
   ],
   "source": [
    "# reshuffle column post_rood_id of the dataframe connections\n",
    "random_equalized_connections = pd.read_csv(os.path.join(project_root, \"new_data\", \"connections_random.csv\"))\n",
    "propagation = (\n",
    "    activated_data[[\"root_id\", \"activation\"]]\n",
    "    .fillna(0)\n",
    "    .rename(columns={\"activation\": \"input\"})\n",
    ")\n",
    "for i in range(num_passes):\n",
    "    activation = propagate_data_with_steps(activation.copy(), shuffled_connections, i)\n",
    "    propagation = propagation.merge(activation, on=\"root_id\", how=\"left\").fillna(0)\n",
    "\n",
    "# find percentage of non-zero values in activation_4\n",
    "propagation[\"activation_4\"].astype(bool).sum() / len(propagation)"
   ]
  },
  {
   "cell_type": "markdown",
   "metadata": {},
   "source": [
    "## Random connections within distance bins"
   ]
  },
  {
   "cell_type": "code",
   "execution_count": 10,
   "metadata": {},
   "outputs": [
    {
     "data": {
      "text/plain": [
       "0.5680857978550536"
      ]
     },
     "execution_count": 10,
     "metadata": {},
     "output_type": "execute_result"
    }
   ],
   "source": [
    "# reshuffle column post_rood_id of the dataframe connections\n",
    "shuffled_connections = pd.read_csv(\n",
    "    os.path.join(project_root, \"new_data\", \"connections_random3.csv\"),\n",
    "    dtype={\n",
    "        \"pre_root_id\": \"string\",\n",
    "        \"post_root_id\": \"string\",\n",
    "        \"syn_count\": np.int32,\n",
    "        },\n",
    ")\n",
    "shuffled_connections[\"weight\"] = 1\n",
    "propagation = (\n",
    "    activated_data[[\"root_id\", \"activation\"]]\n",
    "    .fillna(0)\n",
    "    .rename(columns={\"activation\": \"input\"})\n",
    ")\n",
    "for i in range(num_passes):\n",
    "    activation = propagate_data_with_steps(activation.copy(), shuffled_connections, i)\n",
    "    propagation = propagation.merge(activation, on=\"root_id\", how=\"left\").fillna(0)\n",
    "\n",
    "# find percentage of non-zero values in activation_4\n",
    "propagation[\"activation_4\"].astype(bool).sum() / len(propagation)"
   ]
  },
  {
   "cell_type": "markdown",
   "metadata": {},
   "source": []
  },
  {
   "cell_type": "code",
   "execution_count": null,
   "metadata": {},
   "outputs": [],
   "source": [
    "# horrible data stuff\n",
    "checkpoint = torch.load(\"models/model_2024-05-20 03:41:43.pth\", map_location=\"cpu\")\n",
    "model.load_state_dict(checkpoint[\"model\"])\n",
    "model.eval()\n",
    "connections = (\n",
    "    pd.read_csv(\n",
    "        \"adult_data/connections.csv\",\n",
    "        dtype={\n",
    "            \"pre_root_id\": \"string\",\n",
    "            \"post_root_id\": \"string\",\n",
    "            \"syn_count\": np.int32,\n",
    "        },\n",
    "    )\n",
    "    .groupby([\"pre_root_id\", \"post_root_id\"])\n",
    "    .sum(\"syn_count\")\n",
    "    .reset_index()\n",
    ")\n",
    "\n",
    "connections[\"weight\"] = model.connectome.edge_weight_multiplier.detach()\n",
    "right_root_ids = data_processor.right_root_ids\n",
    "all_neurons = (\n",
    "    pd.read_csv(\"adult_data/classification_clean.csv\")\n",
    "    .merge(right_root_ids, on=\"root_id\")\n",
    "    .fillna(\"Unknown\")\n",
    ")\n",
    "neuron_data = pd.read_csv(\n",
    "    \"adult_data/right_visual_positions_selected_neurons.csv\",\n",
    "    dtype={\"root_id\": \"string\"},\n",
    ").drop(columns=[\"x\", \"y\", \"z\", \"PC1\", \"PC2\"])\n",
    "data_cols = [\"x_axis\", \"y_axis\"]\n",
    "all_coords = pd.read_csv(\"adult_data/all_coords_clean.csv\", dtype={\"root_id\": \"string\"})\n",
    "rational_cell_types = pd.read_csv(\"adult_data/rational_cell_types.csv\")\n",
    "all_neurons[\"decision_making\"] = np.where(\n",
    "    all_neurons[\"cell_type\"].isin(rational_cell_types[\"cell_type\"].values.tolist()),\n",
    "    1,\n",
    "    0,\n",
    ")\n",
    "all_neurons[\"root_id\"] = all_neurons[\"root_id\"].astype(\"string\")"
   ]
  }
 ],
 "metadata": {
  "kernelspec": {
   "display_name": "venv",
   "language": "python",
   "name": "python3"
  },
  "language_info": {
   "codemirror_mode": {
    "name": "ipython",
    "version": 3
   },
   "file_extension": ".py",
   "mimetype": "text/x-python",
   "name": "python",
   "nbconvert_exporter": "python",
   "pygments_lexer": "ipython3",
   "version": "3.12.3"
  }
 },
 "nbformat": 4,
 "nbformat_minor": 2
}
