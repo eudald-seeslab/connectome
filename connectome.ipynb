{
 "cells": [
  {
   "cell_type": "code",
   "execution_count": 20,
   "outputs": [],
   "source": [
    "import os\n",
    "\n",
    "import pandas as pd\n",
    "from torch import nn, optim, device, cuda\n",
    "import torch\n",
    "\n",
    "import yaml\n",
    "from tqdm import tqdm, trange\n",
    "\n",
    "import wandb\n",
    "\n",
    "from data_parser import adj_matrix, nodes\n",
    "from image_parser import train_loader, test_loader, debug_loader\n",
    "from utils import log_training_images\n",
    "\n",
    "from models import CombinedModel\n",
    "from model_config_manager import ModelConfigManager"
   ],
   "metadata": {
    "collapsed": false,
    "ExecuteTime": {
     "end_time": "2023-08-26T10:40:59.343572900Z",
     "start_time": "2023-08-26T10:40:59.333932200Z"
    }
   }
  },
  {
   "cell_type": "code",
   "execution_count": 2,
   "outputs": [
    {
     "name": "stderr",
     "output_type": "stream",
     "text": [
      "\u001B[34m\u001B[1mwandb\u001B[0m: Currently logged in as: \u001B[33meudald\u001B[0m. Use \u001B[1m`wandb login --relogin`\u001B[0m to force relogin\n"
     ]
    },
    {
     "data": {
      "text/plain": "<IPython.core.display.HTML object>",
      "text/html": "Tracking run with wandb version 0.15.8"
     },
     "metadata": {},
     "output_type": "display_data"
    },
    {
     "data": {
      "text/plain": "<IPython.core.display.HTML object>",
      "text/html": "Run data is saved locally in <code>C:\\Users\\eudald\\Desktop\\doctorat\\codi\\connectome\\wandb\\run-20230826_085034-insi4lcp</code>"
     },
     "metadata": {},
     "output_type": "display_data"
    },
    {
     "data": {
      "text/plain": "<IPython.core.display.HTML object>",
      "text/html": "Syncing run <strong><a href='https://wandb.ai/eudald/connectome/runs/insi4lcp' target=\"_blank\">worthy-frost-17</a></strong> to <a href='https://wandb.ai/eudald/connectome' target=\"_blank\">Weights & Biases</a> (<a href='https://wandb.me/run' target=\"_blank\">docs</a>)<br/>"
     },
     "metadata": {},
     "output_type": "display_data"
    },
    {
     "data": {
      "text/plain": "<IPython.core.display.HTML object>",
      "text/html": " View project at <a href='https://wandb.ai/eudald/connectome' target=\"_blank\">https://wandb.ai/eudald/connectome</a>"
     },
     "metadata": {},
     "output_type": "display_data"
    },
    {
     "data": {
      "text/plain": "<IPython.core.display.HTML object>",
      "text/html": " View run at <a href='https://wandb.ai/eudald/connectome/runs/insi4lcp' target=\"_blank\">https://wandb.ai/eudald/connectome/runs/insi4lcp</a>"
     },
     "metadata": {},
     "output_type": "display_data"
    },
    {
     "data": {
      "text/html": "<button onClick=\"this.nextSibling.style.display='block';this.style.display='none';\">Display W&B run</button><iframe src='https://wandb.ai/eudald/connectome/runs/insi4lcp?jupyter=true' style='border:none;width:100%;height:420px;display:none;'></iframe>",
      "text/plain": "<wandb.sdk.wandb_run.Run at 0x185379f4190>"
     },
     "execution_count": 2,
     "metadata": {},
     "output_type": "execute_result"
    }
   ],
   "source": [
    "config = yaml.safe_load(open(\"config.yml\"))\n",
    "DEBUG = config[\"DEBUG\"]\n",
    "epochs = config[\"EPOCHS\"] if not DEBUG else 2\n",
    "RETINA_MODEL = config[\"RETINA_MODEL\"]\n",
    "images_fraction = config[\"IMAGES_FRACTION\"]\n",
    "continue_training = config[\"CONTINUE_TRAINING\"]\n",
    "saved_model_path = config[\"SAVED_MODEL_PATH\"]\n",
    "\n",
    "loader = debug_loader if DEBUG else train_loader\n",
    "\n",
    "dev = device(\"cuda\" if cuda.is_available() else \"cpu\")    \n",
    "\n",
    "# Create the ModelConfigManager and load configurations from YAML files\n",
    "config_manager = ModelConfigManager()\n",
    "\n",
    "# Get a specific configuration by model name\n",
    "config_manager.set_model_config(RETINA_MODEL)"
   ],
   "metadata": {
    "collapsed": false,
    "ExecuteTime": {
     "end_time": "2023-08-26T06:50:34.861753Z",
     "start_time": "2023-08-26T06:50:31.665902300Z"
    }
   }
  },
  {
   "cell_type": "code",
   "execution_count": 10,
   "outputs": [
    {
     "data": {
      "text/plain": "<IPython.core.display.HTML object>",
      "text/html": "Tracking run with wandb version 0.15.8"
     },
     "metadata": {},
     "output_type": "display_data"
    },
    {
     "data": {
      "text/plain": "<IPython.core.display.HTML object>",
      "text/html": "Run data is saved locally in <code>C:\\Users\\eudald\\Desktop\\doctorat\\codi\\connectome\\wandb\\run-20230826_095848-bf5i9dqj</code>"
     },
     "metadata": {},
     "output_type": "display_data"
    },
    {
     "data": {
      "text/plain": "<IPython.core.display.HTML object>",
      "text/html": "Syncing run <strong><a href='https://wandb.ai/eudald/connectome/runs/bf5i9dqj' target=\"_blank\">dry-totem-18</a></strong> to <a href='https://wandb.ai/eudald/connectome' target=\"_blank\">Weights & Biases</a> (<a href='https://wandb.me/run' target=\"_blank\">docs</a>)<br/>"
     },
     "metadata": {},
     "output_type": "display_data"
    },
    {
     "data": {
      "text/plain": "<IPython.core.display.HTML object>",
      "text/html": " View project at <a href='https://wandb.ai/eudald/connectome' target=\"_blank\">https://wandb.ai/eudald/connectome</a>"
     },
     "metadata": {},
     "output_type": "display_data"
    },
    {
     "data": {
      "text/plain": "<IPython.core.display.HTML object>",
      "text/html": " View run at <a href='https://wandb.ai/eudald/connectome/runs/bf5i9dqj' target=\"_blank\">https://wandb.ai/eudald/connectome/runs/bf5i9dqj</a>"
     },
     "metadata": {},
     "output_type": "display_data"
    },
    {
     "data": {
      "text/html": "<button onClick=\"this.nextSibling.style.display='block';this.style.display='none';\">Display W&B run</button><iframe src='https://wandb.ai/eudald/connectome/runs/bf5i9dqj?jupyter=true' style='border:none;width:100%;height:420px;display:none;'></iframe>",
      "text/plain": "<wandb.sdk.wandb_run.Run at 0x18731cf6a10>"
     },
     "execution_count": 10,
     "metadata": {},
     "output_type": "execute_result"
    }
   ],
   "source": [
    "combined_model = CombinedModel(adj_matrix, neurons=nodes, model_config=config_manager.model_config)\n",
    "\n",
    "if continue_training:\n",
    "    # If we want to continue training a saved model\n",
    "    combined_model.load_state_dict(torch.load(saved_model_path))\n",
    "\n",
    "combined_model = combined_model.to(dev)\n",
    "wandb.init(project=\"connectome\", config=config_manager.model_config)\n",
    "\n",
    "# Specify the loss function and the optimizer\n",
    "criterion = nn.NLLLoss()\n",
    "optimizer = optim.Adam(combined_model.parameters(), lr=0.00001)\n",
    "_ = wandb.watch(combined_model, criterion, log=\"all\") \n"
   ],
   "metadata": {
    "collapsed": false,
    "ExecuteTime": {
     "end_time": "2023-08-26T07:58:49.293744500Z",
     "start_time": "2023-08-26T07:58:48.473510200Z"
    }
   }
  },
  {
   "cell_type": "code",
   "execution_count": 11,
   "outputs": [
    {
     "name": "stdout",
     "output_type": "stream",
     "text": [
      "Model configurations:\n",
      "Model name: cnn_2_1\n",
      "Number of layers: 2\n",
      "Output channels: 2\n",
      "Kernel size: 5\n",
      "Stride: 2\n",
      "Padding: 1\n"
     ]
    },
    {
     "data": {
      "text/plain": "  0%|          | 0/20 [00:00<?, ?it/s]",
      "application/vnd.jupyter.widget-view+json": {
       "version_major": 2,
       "version_minor": 0,
       "model_id": "2411dd6823534a91abfe1687400c598f"
      }
     },
     "metadata": {},
     "output_type": "display_data"
    },
    {
     "data": {
      "text/plain": "  0%|          | 0/680 [00:00<?, ?it/s]",
      "application/vnd.jupyter.widget-view+json": {
       "version_major": 2,
       "version_minor": 0,
       "model_id": "4fd2ec14aed240388536a81c86e0935d"
      }
     },
     "metadata": {},
     "output_type": "display_data"
    },
    {
     "name": "stdout",
     "output_type": "stream",
     "text": [
      "Epoch 1/20, Loss: 1207.5845233692842\n"
     ]
    },
    {
     "data": {
      "text/plain": "  0%|          | 0/680 [00:00<?, ?it/s]",
      "application/vnd.jupyter.widget-view+json": {
       "version_major": 2,
       "version_minor": 0,
       "model_id": "d0e9857cac2548a3a9b02ae7d94158d5"
      }
     },
     "metadata": {},
     "output_type": "display_data"
    },
    {
     "name": "stderr",
     "output_type": "stream",
     "text": [
      "\u001B[34m\u001B[1mwandb\u001B[0m: Network error resolved after 0:00:08.000837, resuming normal operation.\n"
     ]
    },
    {
     "name": "stdout",
     "output_type": "stream",
     "text": [
      "Epoch 2/20, Loss: 788.4314594246886\n",
      "Saved model after 2 runs\n"
     ]
    },
    {
     "data": {
      "text/plain": "  0%|          | 0/680 [00:00<?, ?it/s]",
      "application/vnd.jupyter.widget-view+json": {
       "version_major": 2,
       "version_minor": 0,
       "model_id": "59081f6ef1884b729ed674b3edad15b5"
      }
     },
     "metadata": {},
     "output_type": "display_data"
    },
    {
     "name": "stderr",
     "output_type": "stream",
     "text": [
      "\u001B[34m\u001B[1mwandb\u001B[0m: Network error resolved after 0:00:08.027798, resuming normal operation.\n",
      "\u001B[34m\u001B[1mwandb\u001B[0m: 429 encountered ({\"error\":\"rate limit exceeded\"}), retrying request\n",
      "\u001B[34m\u001B[1mwandb\u001B[0m: 429 encountered ({\"error\":\"rate limit exceeded\"}), retrying request\n",
      "\u001B[34m\u001B[1mwandb\u001B[0m: 429 encountered ({\"error\":\"rate limit exceeded\"}), retrying request\n",
      "\u001B[34m\u001B[1mwandb\u001B[0m: 429 encountered ({\"error\":\"rate limit exceeded\"}), retrying request\n",
      "\u001B[34m\u001B[1mwandb\u001B[0m: 429 encountered ({\"error\":\"rate limit exceeded\"}), retrying request\n",
      "\u001B[34m\u001B[1mwandb\u001B[0m: 429 encountered ({\"error\":\"rate limit exceeded\"}), retrying request\n",
      "\u001B[34m\u001B[1mwandb\u001B[0m: 429 encountered ({\"error\":\"rate limit exceeded\"}), retrying request\n",
      "\u001B[34m\u001B[1mwandb\u001B[0m: 429 encountered ({\"error\":\"rate limit exceeded\"}), retrying request\n",
      "\u001B[34m\u001B[1mwandb\u001B[0m: 429 encountered ({\"error\":\"rate limit exceeded\"}), retrying request\n",
      "\u001B[34m\u001B[1mwandb\u001B[0m: 429 encountered ({\"error\":\"rate limit exceeded\"}), retrying request\n",
      "\u001B[34m\u001B[1mwandb\u001B[0m: 429 encountered ({\"error\":\"rate limit exceeded\"}), retrying request\n",
      "\u001B[34m\u001B[1mwandb\u001B[0m: Network error resolved after 0:00:07.890904, resuming normal operation.\n",
      "\u001B[34m\u001B[1mwandb\u001B[0m: Network error resolved after 0:00:08.174563, resuming normal operation.\n"
     ]
    },
    {
     "name": "stdout",
     "output_type": "stream",
     "text": [
      "Epoch 3/20, Loss: 823.3480124082197\n"
     ]
    },
    {
     "data": {
      "text/plain": "  0%|          | 0/680 [00:00<?, ?it/s]",
      "application/vnd.jupyter.widget-view+json": {
       "version_major": 2,
       "version_minor": 0,
       "model_id": "b09f9a85d37c4a8fb3438f9406fb7786"
      }
     },
     "metadata": {},
     "output_type": "display_data"
    },
    {
     "name": "stderr",
     "output_type": "stream",
     "text": [
      "\u001B[34m\u001B[1mwandb\u001B[0m: Network error resolved after 0:00:08.209567, resuming normal operation.\n",
      "\u001B[34m\u001B[1mwandb\u001B[0m: Network error resolved after 0:00:07.780124, resuming normal operation.\n"
     ]
    },
    {
     "name": "stdout",
     "output_type": "stream",
     "text": [
      "Epoch 4/20, Loss: 480.7696731567383\n",
      "Saved model after 4 runs\n"
     ]
    },
    {
     "data": {
      "text/plain": "  0%|          | 0/680 [00:00<?, ?it/s]",
      "application/vnd.jupyter.widget-view+json": {
       "version_major": 2,
       "version_minor": 0,
       "model_id": "e356a0d4d23245f98eb773f5142e3393"
      }
     },
     "metadata": {},
     "output_type": "display_data"
    },
    {
     "name": "stderr",
     "output_type": "stream",
     "text": [
      "\u001B[34m\u001B[1mwandb\u001B[0m: Network error resolved after 0:00:07.784076, resuming normal operation.\n",
      "\u001B[34m\u001B[1mwandb\u001B[0m: 429 encountered ({\"error\":\"rate limit exceeded\"}), retrying request\n",
      "\u001B[34m\u001B[1mwandb\u001B[0m: 429 encountered ({\"error\":\"rate limit exceeded\"}), retrying request\n",
      "\u001B[34m\u001B[1mwandb\u001B[0m: 429 encountered ({\"error\":\"rate limit exceeded\"}), retrying request\n",
      "\u001B[34m\u001B[1mwandb\u001B[0m: 429 encountered ({\"error\":\"rate limit exceeded\"}), retrying request\n",
      "\u001B[34m\u001B[1mwandb\u001B[0m: 429 encountered ({\"error\":\"rate limit exceeded\"}), retrying request\n",
      "\u001B[34m\u001B[1mwandb\u001B[0m: 429 encountered ({\"error\":\"rate limit exceeded\"}), retrying request\n",
      "\u001B[34m\u001B[1mwandb\u001B[0m: 429 encountered ({\"error\":\"rate limit exceeded\"}), retrying request\n",
      "\u001B[34m\u001B[1mwandb\u001B[0m: 429 encountered ({\"error\":\"rate limit exceeded\"}), retrying request\n",
      "\u001B[34m\u001B[1mwandb\u001B[0m: 429 encountered ({\"error\":\"rate limit exceeded\"}), retrying request\n",
      "\u001B[34m\u001B[1mwandb\u001B[0m: 429 encountered ({\"error\":\"rate limit exceeded\"}), retrying request\n",
      "\u001B[34m\u001B[1mwandb\u001B[0m: 429 encountered ({\"error\":\"rate limit exceeded\"}), retrying request\n",
      "\u001B[34m\u001B[1mwandb\u001B[0m: 429 encountered ({\"error\":\"rate limit exceeded\"}), retrying request\n",
      "\u001B[34m\u001B[1mwandb\u001B[0m: Network error resolved after 0:00:01.364651, resuming normal operation.\n"
     ]
    },
    {
     "name": "stdout",
     "output_type": "stream",
     "text": [
      "Epoch 5/20, Loss: 614.5704825435045\n"
     ]
    },
    {
     "data": {
      "text/plain": "  0%|          | 0/680 [00:00<?, ?it/s]",
      "application/vnd.jupyter.widget-view+json": {
       "version_major": 2,
       "version_minor": 0,
       "model_id": "59309cd384f94641a6686ae011488040"
      }
     },
     "metadata": {},
     "output_type": "display_data"
    },
    {
     "name": "stderr",
     "output_type": "stream",
     "text": [
      "\u001B[34m\u001B[1mwandb\u001B[0m: Network error resolved after 0:00:03.972159, resuming normal operation.\n"
     ]
    },
    {
     "name": "stdout",
     "output_type": "stream",
     "text": [
      "Epoch 6/20, Loss: 602.7970261519446\n",
      "Saved model after 6 runs\n"
     ]
    },
    {
     "data": {
      "text/plain": "  0%|          | 0/680 [00:00<?, ?it/s]",
      "application/vnd.jupyter.widget-view+json": {
       "version_major": 2,
       "version_minor": 0,
       "model_id": "cbcb3d6e00f5462ca12f808a8f7dbbed"
      }
     },
     "metadata": {},
     "output_type": "display_data"
    },
    {
     "name": "stderr",
     "output_type": "stream",
     "text": [
      "\u001B[34m\u001B[1mwandb\u001B[0m: Network error resolved after 0:00:08.195919, resuming normal operation.\n",
      "\u001B[34m\u001B[1mwandb\u001B[0m: Network error resolved after 0:00:08.115586, resuming normal operation.\n"
     ]
    },
    {
     "name": "stdout",
     "output_type": "stream",
     "text": [
      "Epoch 7/20, Loss: 432.1612542993882\n"
     ]
    },
    {
     "data": {
      "text/plain": "  0%|          | 0/680 [00:00<?, ?it/s]",
      "application/vnd.jupyter.widget-view+json": {
       "version_major": 2,
       "version_minor": 0,
       "model_id": "0d525941f7de4b01b254dd9689b53d6f"
      }
     },
     "metadata": {},
     "output_type": "display_data"
    },
    {
     "name": "stderr",
     "output_type": "stream",
     "text": [
      "\u001B[34m\u001B[1mwandb\u001B[0m: Network error resolved after 0:00:00.137048, resuming normal operation.\n",
      "\u001B[34m\u001B[1mwandb\u001B[0m: Network error resolved after 0:00:08.043416, resuming normal operation.\n"
     ]
    },
    {
     "name": "stdout",
     "output_type": "stream",
     "text": [
      "Epoch 8/20, Loss: 360.44047098237803\n",
      "Saved model after 8 runs\n"
     ]
    },
    {
     "data": {
      "text/plain": "  0%|          | 0/680 [00:00<?, ?it/s]",
      "application/vnd.jupyter.widget-view+json": {
       "version_major": 2,
       "version_minor": 0,
       "model_id": "144b877e4d0349d684a12cba2c9fd4f2"
      }
     },
     "metadata": {},
     "output_type": "display_data"
    },
    {
     "name": "stderr",
     "output_type": "stream",
     "text": [
      "\u001B[34m\u001B[1mwandb\u001B[0m: Network error resolved after 0:00:08.027213, resuming normal operation.\n"
     ]
    },
    {
     "name": "stdout",
     "output_type": "stream",
     "text": [
      "Epoch 9/20, Loss: 349.4517018486691\n"
     ]
    },
    {
     "data": {
      "text/plain": "  0%|          | 0/680 [00:00<?, ?it/s]",
      "application/vnd.jupyter.widget-view+json": {
       "version_major": 2,
       "version_minor": 0,
       "model_id": "d31dbc2d51584cbdadf37e50a98d4385"
      }
     },
     "metadata": {},
     "output_type": "display_data"
    },
    {
     "name": "stderr",
     "output_type": "stream",
     "text": [
      "\u001B[34m\u001B[1mwandb\u001B[0m: Network error resolved after 0:00:07.872692, resuming normal operation.\n",
      "\u001B[34m\u001B[1mwandb\u001B[0m: Network error resolved after 0:00:07.816878, resuming normal operation.\n"
     ]
    },
    {
     "name": "stdout",
     "output_type": "stream",
     "text": [
      "Epoch 10/20, Loss: 352.0094336625408\n",
      "Saved model after 10 runs\n"
     ]
    },
    {
     "data": {
      "text/plain": "  0%|          | 0/680 [00:00<?, ?it/s]",
      "application/vnd.jupyter.widget-view+json": {
       "version_major": 2,
       "version_minor": 0,
       "model_id": "8524b786b73c43cfbdbe574378ee4eb2"
      }
     },
     "metadata": {},
     "output_type": "display_data"
    },
    {
     "name": "stderr",
     "output_type": "stream",
     "text": [
      "\u001B[34m\u001B[1mwandb\u001B[0m: Network error resolved after 0:00:07.733437, resuming normal operation.\n",
      "\u001B[34m\u001B[1mwandb\u001B[0m: 429 encountered ({\"error\":\"rate limit exceeded\"}), retrying request\n",
      "\u001B[34m\u001B[1mwandb\u001B[0m: Network error resolved after 0:00:07.804408, resuming normal operation.\n"
     ]
    },
    {
     "name": "stdout",
     "output_type": "stream",
     "text": [
      "Epoch 11/20, Loss: 332.2055417900517\n"
     ]
    },
    {
     "data": {
      "text/plain": "  0%|          | 0/680 [00:00<?, ?it/s]",
      "application/vnd.jupyter.widget-view+json": {
       "version_major": 2,
       "version_minor": 0,
       "model_id": "e481946fbb214c51b04cedbc140da533"
      }
     },
     "metadata": {},
     "output_type": "display_data"
    },
    {
     "name": "stderr",
     "output_type": "stream",
     "text": [
      "\u001B[34m\u001B[1mwandb\u001B[0m: 429 encountered ({\"error\":\"rate limit exceeded\"}), retrying request\n",
      "\u001B[34m\u001B[1mwandb\u001B[0m: 429 encountered ({\"error\":\"rate limit exceeded\"}), retrying request\n",
      "\u001B[34m\u001B[1mwandb\u001B[0m: 429 encountered ({\"error\":\"rate limit exceeded\"}), retrying request\n",
      "\u001B[34m\u001B[1mwandb\u001B[0m: 429 encountered ({\"error\":\"rate limit exceeded\"}), retrying request\n",
      "\u001B[34m\u001B[1mwandb\u001B[0m: 429 encountered ({\"error\":\"rate limit exceeded\"}), retrying request\n",
      "\u001B[34m\u001B[1mwandb\u001B[0m: 429 encountered ({\"error\":\"rate limit exceeded\"}), retrying request\n",
      "\u001B[34m\u001B[1mwandb\u001B[0m: 429 encountered ({\"error\":\"rate limit exceeded\"}), retrying request\n",
      "\u001B[34m\u001B[1mwandb\u001B[0m: 429 encountered ({\"error\":\"rate limit exceeded\"}), retrying request\n",
      "\u001B[34m\u001B[1mwandb\u001B[0m: 429 encountered ({\"error\":\"rate limit exceeded\"}), retrying request\n",
      "\u001B[34m\u001B[1mwandb\u001B[0m: 429 encountered ({\"error\":\"rate limit exceeded\"}), retrying request\n",
      "\u001B[34m\u001B[1mwandb\u001B[0m: 429 encountered ({\"error\":\"rate limit exceeded\"}), retrying request\n",
      "\u001B[34m\u001B[1mwandb\u001B[0m: 429 encountered ({\"error\":\"rate limit exceeded\"}), retrying request\n",
      "\u001B[34m\u001B[1mwandb\u001B[0m: 429 encountered ({\"error\":\"rate limit exceeded\"}), retrying request\n",
      "\u001B[34m\u001B[1mwandb\u001B[0m: 429 encountered ({\"error\":\"rate limit exceeded\"}), retrying request\n",
      "\u001B[34m\u001B[1mwandb\u001B[0m: Network error resolved after 0:00:08.247423, resuming normal operation.\n"
     ]
    },
    {
     "name": "stdout",
     "output_type": "stream",
     "text": [
      "Epoch 12/20, Loss: 226.89943365463438\n",
      "Saved model after 12 runs\n"
     ]
    },
    {
     "data": {
      "text/plain": "  0%|          | 0/680 [00:00<?, ?it/s]",
      "application/vnd.jupyter.widget-view+json": {
       "version_major": 2,
       "version_minor": 0,
       "model_id": "120df2548bbb40f9943235e679d869f2"
      }
     },
     "metadata": {},
     "output_type": "display_data"
    },
    {
     "name": "stderr",
     "output_type": "stream",
     "text": [
      "\u001B[34m\u001B[1mwandb\u001B[0m: Network error resolved after 0:00:01.342366, resuming normal operation.\n",
      "\u001B[34m\u001B[1mwandb\u001B[0m: Network error resolved after 0:00:07.955570, resuming normal operation.\n"
     ]
    },
    {
     "name": "stdout",
     "output_type": "stream",
     "text": [
      "Epoch 13/20, Loss: 236.85898087445426\n"
     ]
    },
    {
     "data": {
      "text/plain": "  0%|          | 0/680 [00:00<?, ?it/s]",
      "application/vnd.jupyter.widget-view+json": {
       "version_major": 2,
       "version_minor": 0,
       "model_id": "f5ac36564f5b4041852f04da0ff8fc68"
      }
     },
     "metadata": {},
     "output_type": "display_data"
    },
    {
     "name": "stderr",
     "output_type": "stream",
     "text": [
      "\u001B[34m\u001B[1mwandb\u001B[0m: Network error resolved after 0:00:08.172702, resuming normal operation.\n"
     ]
    },
    {
     "name": "stdout",
     "output_type": "stream",
     "text": [
      "Epoch 14/20, Loss: 216.98507223690257\n",
      "Saved model after 14 runs\n"
     ]
    },
    {
     "data": {
      "text/plain": "  0%|          | 0/680 [00:00<?, ?it/s]",
      "application/vnd.jupyter.widget-view+json": {
       "version_major": 2,
       "version_minor": 0,
       "model_id": "59cfc76a6ee6467db13aa1886d4a482c"
      }
     },
     "metadata": {},
     "output_type": "display_data"
    },
    {
     "name": "stderr",
     "output_type": "stream",
     "text": [
      "\u001B[34m\u001B[1mwandb\u001B[0m: Network error resolved after 0:00:07.722211, resuming normal operation.\n",
      "\u001B[34m\u001B[1mwandb\u001B[0m: Network error resolved after 0:00:08.185832, resuming normal operation.\n"
     ]
    },
    {
     "name": "stdout",
     "output_type": "stream",
     "text": [
      "Epoch 15/20, Loss: 189.64170676469803\n"
     ]
    },
    {
     "data": {
      "text/plain": "  0%|          | 0/680 [00:00<?, ?it/s]",
      "application/vnd.jupyter.widget-view+json": {
       "version_major": 2,
       "version_minor": 0,
       "model_id": "45afd4f0091c4f7cbafaa52e9e134842"
      }
     },
     "metadata": {},
     "output_type": "display_data"
    },
    {
     "name": "stderr",
     "output_type": "stream",
     "text": [
      "\u001B[34m\u001B[1mwandb\u001B[0m: Network error resolved after 0:00:07.744706, resuming normal operation.\n"
     ]
    },
    {
     "name": "stdout",
     "output_type": "stream",
     "text": [
      "Epoch 16/20, Loss: 188.68498318427626\n",
      "Saved model after 16 runs\n"
     ]
    },
    {
     "data": {
      "text/plain": "  0%|          | 0/680 [00:00<?, ?it/s]",
      "application/vnd.jupyter.widget-view+json": {
       "version_major": 2,
       "version_minor": 0,
       "model_id": "9e77821d850a4445a703c7efce527433"
      }
     },
     "metadata": {},
     "output_type": "display_data"
    },
    {
     "name": "stderr",
     "output_type": "stream",
     "text": [
      "\u001B[34m\u001B[1mwandb\u001B[0m: Network error resolved after 0:00:08.085127, resuming normal operation.\n"
     ]
    },
    {
     "name": "stdout",
     "output_type": "stream",
     "text": [
      "Epoch 17/20, Loss: 226.67889871036306\n"
     ]
    },
    {
     "data": {
      "text/plain": "  0%|          | 0/680 [00:00<?, ?it/s]",
      "application/vnd.jupyter.widget-view+json": {
       "version_major": 2,
       "version_minor": 0,
       "model_id": "235b67a54ccf421aa80a90a90d72aa64"
      }
     },
     "metadata": {},
     "output_type": "display_data"
    },
    {
     "name": "stderr",
     "output_type": "stream",
     "text": [
      "\u001B[34m\u001B[1mwandb\u001B[0m: Network error resolved after 0:00:00.173962, resuming normal operation.\n",
      "\u001B[34m\u001B[1mwandb\u001B[0m: Network error resolved after 0:00:00.188142, resuming normal operation.\n",
      "\u001B[34m\u001B[1mwandb\u001B[0m: Network error resolved after 0:00:07.874750, resuming normal operation.\n"
     ]
    },
    {
     "name": "stdout",
     "output_type": "stream",
     "text": [
      "Epoch 18/20, Loss: 199.85327175364776\n",
      "Saved model after 18 runs\n"
     ]
    },
    {
     "data": {
      "text/plain": "  0%|          | 0/680 [00:00<?, ?it/s]",
      "application/vnd.jupyter.widget-view+json": {
       "version_major": 2,
       "version_minor": 0,
       "model_id": "c814a3a6e19b465d8fb583ab2fa5488e"
      }
     },
     "metadata": {},
     "output_type": "display_data"
    },
    {
     "name": "stdout",
     "output_type": "stream",
     "text": [
      "Epoch 19/20, Loss: 181.04788121606688\n"
     ]
    },
    {
     "data": {
      "text/plain": "  0%|          | 0/680 [00:00<?, ?it/s]",
      "application/vnd.jupyter.widget-view+json": {
       "version_major": 2,
       "version_minor": 0,
       "model_id": "57ac566e3dfe4d369d1e982622c6911b"
      }
     },
     "metadata": {},
     "output_type": "display_data"
    },
    {
     "name": "stderr",
     "output_type": "stream",
     "text": [
      "\u001B[34m\u001B[1mwandb\u001B[0m: Network error resolved after 0:00:03.457115, resuming normal operation.\n",
      "\u001B[34m\u001B[1mwandb\u001B[0m: Network error resolved after 0:00:07.980932, resuming normal operation.\n"
     ]
    },
    {
     "name": "stdout",
     "output_type": "stream",
     "text": [
      "Epoch 20/20, Loss: 143.6150112455382\n",
      "Saved model after 20 runs\n"
     ]
    },
    {
     "data": {
      "text/plain": "<IPython.core.display.HTML object>",
      "text/html": "Waiting for W&B process to finish... <strong style=\"color:green\">(success).</strong>"
     },
     "metadata": {},
     "output_type": "display_data"
    },
    {
     "data": {
      "text/plain": "VBox(children=(Label(value='238.658 MB of 256.567 MB uploaded (0.000 MB deduped)\\r'), FloatProgress(value=0.93…",
      "application/vnd.jupyter.widget-view+json": {
       "version_major": 2,
       "version_minor": 0,
       "model_id": "eb05138484524215bb17556507bc57b4"
      }
     },
     "metadata": {},
     "output_type": "display_data"
    },
    {
     "data": {
      "text/plain": "<IPython.core.display.HTML object>",
      "text/html": "<style>\n    table.wandb td:nth-child(1) { padding: 0 10px; text-align: left ; width: auto;} td:nth-child(2) {text-align: left ; width: 100%}\n    .wandb-row { display: flex; flex-direction: row; flex-wrap: wrap; justify-content: flex-start; width: 100% }\n    .wandb-col { display: flex; flex-direction: column; flex-basis: 100%; flex: 1; padding: 10px; }\n    </style>\n<div class=\"wandb-row\"><div class=\"wandb-col\"><h3>Run history:</h3><br/><table class=\"wandb\"><tr><td>accuracy</td><td>▁█▅▅▅▅█▅█▅▅▁▅▁███▁██▅▅██▅██▅███▅████████</td></tr><tr><td>epoch</td><td>▁▁▁▁▂▂▂▂▂▂▃▃▃▃▄▄▄▄▄▄▅▅▅▅▅▅▆▆▆▆▇▇▇▇▇▇████</td></tr><tr><td>loss</td><td>▆▁▁▂▂▆▁▁▁▂▂▃▄█▁▁▁▁▁▁▁▂▁▁▂▁▁▁▁▁▁▂▁▁▁▁▁▁▁▁</td></tr></table><br/></div><div class=\"wandb-col\"><h3>Run summary:</h3><br/><table class=\"wandb\"><tr><td>accuracy</td><td>0.875</td></tr><tr><td>epoch</td><td>19</td></tr><tr><td>loss</td><td>99.60938</td></tr></table><br/></div></div>"
     },
     "metadata": {},
     "output_type": "display_data"
    },
    {
     "data": {
      "text/plain": "<IPython.core.display.HTML object>",
      "text/html": " View run <strong style=\"color:#cdcd00\">dry-totem-18</strong> at: <a href='https://wandb.ai/eudald/connectome/runs/bf5i9dqj' target=\"_blank\">https://wandb.ai/eudald/connectome/runs/bf5i9dqj</a><br/> View job at <a href='https://wandb.ai/eudald/connectome/jobs/QXJ0aWZhY3RDb2xsZWN0aW9uOjkyODUzNjk0/version_details/v4' target=\"_blank\">https://wandb.ai/eudald/connectome/jobs/QXJ0aWZhY3RDb2xsZWN0aW9uOjkyODUzNjk0/version_details/v4</a><br/>Synced 5 W&B file(s), 68000 media file(s), 2 artifact file(s) and 0 other file(s)"
     },
     "metadata": {},
     "output_type": "display_data"
    },
    {
     "data": {
      "text/plain": "<IPython.core.display.HTML object>",
      "text/html": "Find logs at: <code>.\\wandb\\run-20230826_095848-bf5i9dqj\\logs</code>"
     },
     "metadata": {},
     "output_type": "display_data"
    }
   ],
   "source": [
    "config_manager.output_model_details()\n",
    "if DEBUG:\n",
    "    print(\"WARNING: Running on DEBUG mode, so using 10% of the images\")\n",
    "elif images_fraction < 1:\n",
    "    print(f\"WARNING: Using {images_fraction * 100}% of the images\")\n",
    "\n",
    "for epoch in trange(epochs):\n",
    "    running_loss = 0\n",
    "    correct_predictions = 0\n",
    "    # If the model is fast~ish\n",
    "    # for images, labels in train_loader:\n",
    "    j = 0\n",
    "    for images, labels in tqdm(loader):\n",
    "        # print(f\"Image {j}\")\n",
    "        # Move images and labels to the device\n",
    "        images, labels = images.to(dev), labels.to(dev)\n",
    "\n",
    "        # Checks\n",
    "        if torch.isnan(images).any():\n",
    "            raise Exception(\"NaN in images\")\n",
    "        if torch.isnan(labels).any():\n",
    "            raise Exception(\"NaN in labels\")\n",
    "\n",
    "        # Forward pass\n",
    "        outputs = combined_model(images)\n",
    "\n",
    "        # Compute the loss\n",
    "        loss = criterion(outputs, labels)\n",
    "        \n",
    "        # Compute the accuracy\n",
    "        predicted_labels = torch.argmax(outputs, dim=1)\n",
    "        correct_predictions = (predicted_labels == labels).sum().item()\n",
    "        accuracy = correct_predictions / len(labels)\n",
    "\n",
    "        # Backward pass and optimize\n",
    "        optimizer.zero_grad()\n",
    "        loss.backward()\n",
    "        optimizer.step()\n",
    "        running_loss += loss.item()\n",
    "        \n",
    "        # Logs to wandb\n",
    "        wandb.log({\"loss\": loss.item(), \"accuracy\": accuracy, \"epoch\": epoch})\n",
    "        log_training_images(images, labels, outputs)\n",
    "            \n",
    "        j += 1\n",
    "\n",
    "    print(f'Epoch {epoch+1}/{epochs}, Loss: {running_loss/len(train_loader)}')\n",
    "    # Save model every 2 epochs\n",
    "    if (epoch + 1) % 2 == 0:\n",
    "        torch.save(combined_model.state_dict(), os.path.join(\"models\", f\"model_{RETINA_MODEL}_{epoch + 1}_epochs.pth\"))\n",
    "        print(f\"Saved model after {epoch + 1} runs\")\n",
    "\n",
    "wandb.finish()"
   ],
   "metadata": {
    "collapsed": false,
    "ExecuteTime": {
     "end_time": "2023-08-26T09:01:10.930550600Z",
     "start_time": "2023-08-26T07:58:50.793630900Z"
    }
   }
  },
  {
   "cell_type": "markdown",
   "source": [],
   "metadata": {
    "collapsed": false
   }
  },
  {
   "cell_type": "code",
   "execution_count": 9,
   "outputs": [],
   "source": [
    "# torch.save(combined_model.state_dict(), os.path.join(\"models\", f\"model_{RETINA_MODEL}_{epoch + 1}_epochs.pth\"))"
   ],
   "metadata": {
    "collapsed": false,
    "ExecuteTime": {
     "end_time": "2023-08-25T20:31:47.444241700Z",
     "start_time": "2023-08-25T20:31:40.488538600Z"
    }
   }
  },
  {
   "cell_type": "code",
   "execution_count": 57,
   "outputs": [
    {
     "name": "stderr",
     "output_type": "stream",
     "text": [
      "100%|██████████| 170/170 [00:08<00:00, 19.18it/s]\n"
     ]
    }
   ],
   "source": [
    "# Test de model\n",
    "correct = 0\n",
    "total = 0\n",
    "test_results_df = pd.DataFrame(columns=[\"Image\", \"Real Label\", \"Predicted Label\", \"Correct Prediction\"])\n",
    "\n",
    "j = 0\n",
    "with torch.no_grad():\n",
    "    for images, labels in tqdm(test_loader):\n",
    "        images, labels = images.to(dev), labels.to(dev)\n",
    "        outputs = combined_model(images)\n",
    "        _, predicted = torch.max(outputs.data, 1)\n",
    "        # Convert the tensor values to CPU and numpy\n",
    "        labels_cpu = labels.cpu().numpy()\n",
    "        predicted_cpu = predicted.cpu().numpy()\n",
    "        \n",
    "        # Check if the prediction is correct\n",
    "        correct_predictions = (predicted == labels)\n",
    "        correct_cpu = correct_predictions.cpu().numpy()\n",
    "        \n",
    "        image_names = [a[0] for a in test_loader.dataset.dataset.samples[j * test_loader.batch_size: (j + 1) * test_loader.batch_size]]\n",
    "        j += 1\n",
    "        \n",
    "        batch_df = pd.DataFrame({\n",
    "            \"Image\": image_names,\n",
    "            \"Real Label\": labels_cpu,\n",
    "            \"Predicted Label\": predicted_cpu,\n",
    "            \"Correct Prediction\": correct_cpu.astype(int)\n",
    "        })\n",
    "        \n",
    "        # Append the batch DataFrame to the list\n",
    "        test_results_df = pd.concat([test_results_df, batch_df], ignore_index=True)"
   ],
   "metadata": {
    "collapsed": false,
    "ExecuteTime": {
     "end_time": "2023-08-26T11:31:40.771051800Z",
     "start_time": "2023-08-26T11:31:31.887481400Z"
    }
   }
  },
  {
   "cell_type": "code",
   "execution_count": 22,
   "outputs": [
    {
     "name": "stdout",
     "output_type": "stream",
     "text": [
      "Accuracy on the 0 test images: inf%\n"
     ]
    },
    {
     "name": "stderr",
     "output_type": "stream",
     "text": [
      "C:\\Users\\eudald\\AppData\\Local\\Temp\\ipykernel_18200\\1033465022.py:1: RuntimeWarning: divide by zero encountered in scalar divide\n",
      "  print(f\"Accuracy on the {total} test images: {100 * correct / total}%\")\n"
     ]
    }
   ],
   "source": [
    "print(f\"Accuracy on the {total} test images: {100 * correct / total}%\")"
   ],
   "metadata": {
    "collapsed": false,
    "ExecuteTime": {
     "end_time": "2023-08-26T10:41:22.861944300Z",
     "start_time": "2023-08-26T10:41:22.821589Z"
    }
   }
  },
  {
   "cell_type": "code",
   "execution_count": 59,
   "outputs": [],
   "source": [
    "# Assuming you have a DataFrame named 'test_results_df' with a 'image_filename' column\n",
    "test_results_df['yellow'] = test_results_df['Image'].apply(lambda x: x.split('_')[1])\n",
    "test_results_df['blue'] = test_results_df['Image'].apply(lambda x: x.split('_')[2])\n",
    "test_results_df['weber_ratio'] = test_results_df.apply(lambda row: max(int(row['yellow']), int(row['blue'])) / min(int(row['yellow']), int(row['blue'])), axis=1)"
   ],
   "metadata": {
    "collapsed": false,
    "ExecuteTime": {
     "end_time": "2023-08-26T11:32:03.371174500Z",
     "start_time": "2023-08-26T11:32:03.324662700Z"
    }
   }
  },
  {
   "cell_type": "code",
   "execution_count": 60,
   "outputs": [
    {
     "data": {
      "text/plain": "<Figure size 1000x600 with 1 Axes>",
      "image/png": "[encoded data removed]"
     },
     "metadata": {},
     "output_type": "display_data"
    }
   ],
   "source": [
    "import seaborn as sns\n",
    "import matplotlib.pyplot as plt\n",
    "\n",
    "# Calculate the percentage of correct answers for each Weber ratio\n",
    "correct_percentage = test_results_df.groupby('weber_ratio')['Correct Prediction'].mean() * 100\n",
    "\n",
    "# Create a bar plot\n",
    "plt.figure(figsize=(10, 6))\n",
    "sns.barplot(x=correct_percentage.index, y=correct_percentage.values)\n",
    "plt.xlabel('Weber Ratio')\n",
    "plt.ylabel('Percentage of Correct Answers')\n",
    "plt.title('Percentage of Correct Answers for Each Weber Ratio')\n",
    "plt.xticks(rotation=45)\n",
    "plt.tight_layout()\n",
    "\n",
    "# Show the plot\n",
    "plt.show()\n"
   ],
   "metadata": {
    "collapsed": false,
    "ExecuteTime": {
     "end_time": "2023-08-26T11:32:11.758599400Z",
     "start_time": "2023-08-26T11:32:11.585523800Z"
    }
   }
  },
  {
   "cell_type": "code",
   "execution_count": 16,
   "outputs": [
    {
     "data": {
      "text/plain": "  0%|          | 0/170 [00:00<?, ?it/s]",
      "application/vnd.jupyter.widget-view+json": {
       "version_major": 2,
       "version_minor": 0,
       "model_id": "14e75b7ab8a94643977b781948d8a24f"
      }
     },
     "metadata": {},
     "output_type": "display_data"
    }
   ],
   "source": [
    "# Test de model\n",
    "correct = 0\n",
    "total = 0\n",
    "with torch.no_grad():\n",
    "    for images, labels in tqdm(test_loader):\n",
    "        images, labels = images.to(dev), labels.to(dev)\n",
    "        outputs = model(images)\n",
    "        _, predicted = torch.max(outputs.data, 1)\n",
    "        total += labels.size(0)\n",
    "        correct += (predicted == labels).sum()"
   ],
   "metadata": {
    "collapsed": false,
    "ExecuteTime": {
     "end_time": "2023-08-04T15:54:19.436034400Z",
     "start_time": "2023-08-04T15:54:12.690098900Z"
    }
   }
  },
  {
   "cell_type": "code",
   "execution_count": 17,
   "outputs": [
    {
     "name": "stdout",
     "output_type": "stream",
     "text": [
      "Accuracy on the 1360 test images: 53.602943420410156%\n"
     ]
    }
   ],
   "source": [
    "print(f\"Accuracy on the {total} test images: {100 * correct / total}%\")"
   ],
   "metadata": {
    "collapsed": false,
    "ExecuteTime": {
     "end_time": "2023-08-04T15:54:20.802580600Z",
     "start_time": "2023-08-04T15:54:20.789812400Z"
    }
   }
  },
  {
   "cell_type": "code",
   "execution_count": null,
   "outputs": [],
   "source": [],
   "metadata": {
    "collapsed": false
   }
  }
 ],
 "metadata": {
  "kernelspec": {
   "display_name": "Python 3",
   "language": "python",
   "name": "python3"
  },
  "language_info": {
   "codemirror_mode": {
    "name": "ipython",
    "version": 2
   },
   "file_extension": ".py",
   "mimetype": "text/x-python",
   "name": "python",
   "nbconvert_exporter": "python",
   "pygments_lexer": "ipython2",
   "version": "2.7.6"
  }
 },
 "nbformat": 4,
 "nbformat_minor": 0
}
