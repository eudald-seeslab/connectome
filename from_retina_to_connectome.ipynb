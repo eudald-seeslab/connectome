{
 "cells": [
  {
   "cell_type": "code",
   "execution_count": 1,
   "id": "initial_id",
   "metadata": {
    "collapsed": true,
    "ExecuteTime": {
     "end_time": "2024-03-03T10:06:08.381532Z",
     "start_time": "2024-03-03T10:06:05.601854Z"
    }
   },
   "outputs": [
    {
     "name": "stderr",
     "output_type": "stream",
     "text": [
      "/home/eudald/Desktop/doctorat/connectome/venv/lib/python3.10/site-packages/torch/__init__.py:614: UserWarning: torch.set_default_tensor_type() is deprecated as of PyTorch 2.1, please use torch.set_default_dtype() and torch.set_default_device() as alternatives. (Triggered internally at ../torch/csrc/tensor/python_tensor.cpp:451.)\n",
      "  _C._set_default_tensor_type(t)\n"
     ]
    }
   ],
   "source": [
    "import os\n",
    "\n",
    "import numpy as np\n",
    "import pandas as pd\n",
    "import torch\n",
    "from torch import device, cuda\n",
    "\n",
    "from flyvis.examples.flyvision_ans import DECODING_CELLS\n",
    "from from_retina_to_connectome_funcs import from_retina_to_model\n",
    "\n",
    "device_type = \"cuda\" if cuda.is_available() else \"cpu\"\n",
    "DEVICE = device(device_type)\n",
    "batch_size = 10\n",
    "last_good_frame = 8"
   ]
  },
  {
   "cell_type": "code",
   "outputs": [],
   "source": [
    "# this needs to come from the previous step in the pipeline\n",
    "# get data\n",
    "activations_dir = \"flyvis/parsed_objects\"\n",
    "activations = np.load(os.path.join(activations_dir, \"decoding_activations.npy\"), allow_pickle=True)\n",
    "# labels = np.load(os.path.join(activations_dir, \"decoding_labels.npy\"), allow_pickle=True)\n",
    "# toy labels as a tensor with all 1\n",
    "# fixme!\n",
    "labels = torch.ones(activations.shape[0], dtype=torch.long, device=DEVICE)\n",
    "\n",
    "# this is probably here to stay\n",
    "classification = pd.read_csv(\"adult_data/classification_clean.csv\")"
   ],
   "metadata": {
    "collapsed": false,
    "ExecuteTime": {
     "end_time": "2024-03-03T10:06:10.632425Z",
     "start_time": "2024-03-03T10:06:08.382672Z"
    }
   },
   "id": "19c3dad6db455873",
   "execution_count": 2
  },
  {
   "cell_type": "code",
   "outputs": [
    {
     "name": "stderr",
     "output_type": "stream",
     "text": [
      "100%|██████████| 34/34 [00:09<00:00,  3.52it/s]\n"
     ]
    }
   ],
   "source": [
    "loader = from_retina_to_model(activations, labels, DECODING_CELLS, last_good_frame, DEVICE, batch_size)"
   ],
   "metadata": {
    "collapsed": false,
    "ExecuteTime": {
     "end_time": "2024-03-03T10:06:20.701260Z",
     "start_time": "2024-03-03T10:06:10.633488Z"
    }
   },
   "id": "ce3f08bac654031c",
   "execution_count": 3
  },
  {
   "cell_type": "code",
   "outputs": [],
   "source": [
    "# get a dataframe indicating which neurons will be used to classify\n",
    "rational_neurons = pd.read_csv(\"adult_data/rational_neurons.csv\", index_col=0)\n",
    "decision_making_vector = torch.tensor(rational_neurons.values.squeeze(), dtype=torch.float16, device=DEVICE).detach()"
   ],
   "metadata": {
    "collapsed": false,
    "ExecuteTime": {
     "end_time": "2024-03-03T10:06:20.726508Z",
     "start_time": "2024-03-03T10:06:20.702454Z"
    }
   },
   "id": "eb0f4956329e6f18",
   "execution_count": 4
  },
  {
   "cell_type": "code",
   "outputs": [
    {
     "name": "stderr",
     "output_type": "stream",
     "text": [
      "10it [00:08,  1.17it/s]\n"
     ]
    }
   ],
   "source": [
    "from torch import autocast\n",
    "from tqdm import tqdm\n",
    "from torch.nn import BCEWithLogitsLoss\n",
    "from torch.cuda.amp import GradScaler\n",
    "from graph_models import GNNModel\n",
    "\n",
    "# Initialize the model\n",
    "model = GNNModel(num_node_features=1, decision_making_vector=decision_making_vector).to(DEVICE)\n",
    "optimizer = torch.optim.Adam(model.parameters(), lr=0.01)\n",
    "scaler = GradScaler()\n",
    "\n",
    "# Initialize the loss function\n",
    "criterion = BCEWithLogitsLoss()\n",
    "\n",
    "model.train()\n",
    "for batch_idx, batch in tqdm(enumerate(loader)):\n",
    "    batch = batch.to(DEVICE)\n",
    "\n",
    "    optimizer.zero_grad()\n",
    "    \n",
    "    with autocast(device_type):\n",
    "        out = model(batch)\n",
    "        loss = criterion(out, batch.y.unsqueeze(-1).float())    \n",
    "    # Backward pass and optimize\n",
    "    loss.backward()\n",
    "    optimizer.step()"
   ],
   "metadata": {
    "collapsed": false,
    "ExecuteTime": {
     "end_time": "2024-03-03T10:06:29.287930Z",
     "start_time": "2024-03-03T10:06:20.727943Z"
    }
   },
   "id": "cc3390834697f7ab",
   "execution_count": 5
  },
  {
   "cell_type": "code",
   "outputs": [],
   "source": [],
   "metadata": {
    "collapsed": false
   },
   "id": "efea5bc051bf0997"
  }
 ],
 "metadata": {
  "kernelspec": {
   "display_name": "Python 3",
   "language": "python",
   "name": "python3"
  },
  "language_info": {
   "codemirror_mode": {
    "name": "ipython",
    "version": 2
   },
   "file_extension": ".py",
   "mimetype": "text/x-python",
   "name": "python",
   "nbconvert_exporter": "python",
   "pygments_lexer": "ipython2",
   "version": "2.7.6"
  }
 },
 "nbformat": 4,
 "nbformat_minor": 5
}
