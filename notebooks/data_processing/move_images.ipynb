{
 "cells": [
  {
   "cell_type": "code",
   "execution_count": 2,
   "outputs": [],
   "source": [
    "import shutil\n",
    "import os\n"
   ],
   "metadata": {
    "collapsed": false,
    "ExecuteTime": {
     "end_time": "2023-06-02T10:09:16.817358500Z",
     "start_time": "2023-06-02T10:09:16.812841700Z"
    }
   }
  },
  {
   "cell_type": "code",
   "execution_count": 9,
   "outputs": [],
   "source": [
    "\n",
    "# This script needs to parse all file names in directory \"images\", select the first 2 numbers and,\n",
    "# if the first is bigger than the second, move the image to a new directory called \"yellow\", otherwise,\n",
    "# move the image to a new directory called \"blue\".\n",
    "\n",
    "def move_images():\n",
    "    # Get all file names in directory \"images\"\n",
    "    files = os.listdir(\"images\")\n",
    "    # Create new directories \"yellow\" and \"blue\"\n",
    "    os.mkdir(\"yellow\")\n",
    "    os.mkdir(\"blue\")\n",
    "    # Loop through all files\n",
    "    for file in files:\n",
    "        # Get the first 2 numbers of the file name\n",
    "        first_number = int(file.split(\"_\")[1])\n",
    "        second_number = int(file.split(\"_\")[2])\n",
    "        # If the first number is bigger than the second, move the image to directory \"yellow\"\n",
    "        if first_number > second_number:\n",
    "            shutil.move(\"images/\" + file, \"yellow/\" + file)\n",
    "        # Otherwise, move the image to directory \"blue\"\n",
    "        else:\n",
    "            shutil.move(\"images/\" + file, \"blue/\" + file)"
   ],
   "metadata": {
    "collapsed": false,
    "ExecuteTime": {
     "end_time": "2023-06-02T10:09:56.006906600Z",
     "start_time": "2023-06-02T10:09:55.998907600Z"
    }
   }
  },
  {
   "cell_type": "code",
   "execution_count": 10,
   "outputs": [],
   "source": [
    "move_images()"
   ],
   "metadata": {
    "collapsed": false,
    "ExecuteTime": {
     "end_time": "2023-06-02T10:10:24.546753Z",
     "start_time": "2023-06-02T10:10:24.356756Z"
    }
   }
  },
  {
   "cell_type": "code",
   "execution_count": null,
   "outputs": [],
   "source": [],
   "metadata": {
    "collapsed": false
   }
  }
 ],
 "metadata": {
  "kernelspec": {
   "display_name": "Python 3",
   "language": "python",
   "name": "python3"
  },
  "language_info": {
   "codemirror_mode": {
    "name": "ipython",
    "version": 2
   },
   "file_extension": ".py",
   "mimetype": "text/x-python",
   "name": "python",
   "nbconvert_exporter": "python",
   "pygments_lexer": "ipython2",
   "version": "2.7.6"
  }
 },
 "nbformat": 4,
 "nbformat_minor": 0
}
