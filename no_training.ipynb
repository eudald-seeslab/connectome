{
 "cells": [
  {
   "cell_type": "code",
   "execution_count": 8,
   "metadata": {},
   "outputs": [],
   "source": [
    "import os\n",
    "import torch\n",
    "import pandas as pd\n",
    "import numpy as np\n",
    "from tqdm.notebook import tqdm\n",
    "from tqdm.contrib.concurrent import process_map\n",
    "from sklearn.metrics import confusion_matrix\n",
    "from multiprocessing import cpu_count\n",
    "\n",
    "import config\n",
    "from complete_training_data_processing import CompleteModelsDataProcessor\n",
    "from model_inspection_funcs import neuron_data_from_image, propagate_neuron_data, sample_images\n",
    "\n",
    "%matplotlib inline\n",
    "import matplotlib.pyplot as plt\n",
    "import seaborn as sns\n",
    "blue_yellow = [\"#FFD700\", \"#0000FF\"]\n",
    "# blue_yellow.reverse()\n",
    "sns.set_palette(blue_yellow)\n",
    "\n",
    "device = torch.device(\"cpu\")\n",
    "dtype = torch.float32\n",
    "\n",
    "num_passes = 4\n",
    "pairs_num = 1000"
   ]
  },
  {
   "cell_type": "code",
   "execution_count": 9,
   "metadata": {},
   "outputs": [],
   "source": [
    "data_processor = CompleteModelsDataProcessor(\n",
    "    neurons=config.neurons,\n",
    "    voronoi_criteria=config.voronoi_criteria,\n",
    "    random_synapses=config.random_synapses,\n",
    "    log_transform_weights=config.log_transform_weights,\n",
    ")"
   ]
  },
  {
   "cell_type": "code",
   "execution_count": 10,
   "metadata": {},
   "outputs": [],
   "source": [
    "# horrible data stuff\n",
    "connections = (\n",
    "    pd.read_csv(\n",
    "        \"adult_data/connections.csv\",\n",
    "        dtype={\n",
    "            \"pre_root_id\": \"string\",\n",
    "            \"post_root_id\": \"string\",\n",
    "            \"syn_count\": np.int32,\n",
    "        },\n",
    "    )\n",
    "    .groupby([\"pre_root_id\", \"post_root_id\"])\n",
    "    .sum(\"syn_count\")\n",
    "    .reset_index()\n",
    ")\n",
    "# set weights to 1 because we are not training\n",
    "connections[\"weight\"] = 1\n",
    "# reshuffle column post_rood_id of the dataframe connections\n",
    "shuffled_connections = connections.copy()\n",
    "shuffled_connections[\"post_root_id\"] = np.random.permutation(\n",
    "    connections[\"post_root_id\"]\n",
    ")\n",
    "right_root_ids = data_processor.right_root_ids\n",
    "all_neurons = (\n",
    "    pd.read_csv(\"adult_data/classification_clean.csv\")\n",
    "    .merge(right_root_ids, on=\"root_id\")\n",
    "    .fillna(\"Unknown\")\n",
    ")\n",
    "neuron_data = pd.read_csv(\n",
    "    \"adult_data/right_visual_positions_selected_neurons.csv\",\n",
    "    dtype={\"root_id\": \"string\"},\n",
    ").drop(columns=[\"x\", \"y\", \"z\", \"PC1\", \"PC2\"])\n",
    "data_cols = [\"x_axis\", \"y_axis\"]\n",
    "all_coords = pd.read_csv(\"adult_data/all_coords_clean.csv\", dtype={\"root_id\": \"string\"})\n",
    "rational_cell_types = pd.read_csv(\"adult_data/rational_cell_types.csv\")\n",
    "all_neurons[\"decision_making\"] = np.where(\n",
    "    all_neurons[\"cell_type\"].isin(rational_cell_types[\"cell_type\"].values.tolist()),\n",
    "    1,\n",
    "    0,\n",
    ")\n",
    "all_neurons[\"root_id\"] = all_neurons[\"root_id\"].astype(\"string\")"
   ]
  },
  {
   "cell_type": "code",
   "execution_count": 11,
   "metadata": {},
   "outputs": [],
   "source": [
    "def process_image(args):\n",
    "    # Unpack all arguments\n",
    "    img, neuron_data, connections, all_coords, all_neurons, num_passes = args\n",
    "    activated_data = neuron_data_from_image(img, neuron_data)\n",
    "    propagation = propagate_neuron_data(\n",
    "        activated_data, connections, all_coords, all_neurons, num_passes\n",
    "    )\n",
    "    return (\n",
    "        os.path.basename(img),\n",
    "        propagation[\"decision_making\"][all_neurons[\"decision_making\"] == 1],\n",
    "    )\n",
    "\n",
    "\n",
    "def predict_images(\n",
    "    sampled_images, neuron_data, connections, all_coords, all_neurons, num_passes\n",
    "):\n",
    "    # Prepare the list of arguments for each image processing task\n",
    "    tasks = [\n",
    "        (img, neuron_data, connections, all_coords, all_neurons, num_passes)\n",
    "        for img in sampled_images\n",
    "    ]\n",
    "\n",
    "    # Use process_map with the adjusted process_image function\n",
    "    results = process_map(\n",
    "        process_image, tasks, max_workers=cpu_count() - 2, chunksize=1\n",
    "    )\n",
    "\n",
    "    # Convert list of tuples into a DataFrame\n",
    "    dms = {name: dm for name, dm in results}\n",
    "    return pd.DataFrame(dms)\n",
    "\n",
    "\n",
    "def process_points_results(df):\n",
    "    means = pd.DataFrame(df.mean(axis=0))\n",
    "    means = means.rename(columns={0: \"mean\"})\n",
    "    means[\"yellow\"] = [int(a.split(\"_\")[1]) for a in means.index]\n",
    "    means[\"blue\"] = [int(a.split(\"_\")[2]) for a in means.index]\n",
    "    means[\"color\"] = means[[\"yellow\", \"blue\"]].idxmax(axis=1)\n",
    "    means[\"pred\"] = np.where(means[\"mean\"] > means[\"mean\"].median(), \"yellow\", \"blue\")\n",
    "    means[\"correct\"] = means[\"color\"] == means[\"pred\"]\n",
    "\n",
    "    return means\n",
    "\n",
    "\n",
    "def process_shapes_results(predictions, sampled_images):\n",
    "    means = pd.DataFrame(predictions.mean(axis=0))\n",
    "    means = means.rename(columns={0: \"mean\"})\n",
    "    names = pd.DataFrame(\n",
    "        {\n",
    "            \"name\": [os.path.basename(a) for a in sampled_images],\n",
    "            \"real\": [os.path.basename(os.path.dirname(a)) for a in sampled_images],\n",
    "        }\n",
    "    )\n",
    "    tt = means.merge(names, left_index=True, right_on=\"name\", how=\"left\")\n",
    "    tt[\"pred\"] = np.where(tt[\"mean\"] > tt[\"mean\"].median(), \"triangle\", \"circle\")\n",
    "    tt[\"correct\"] = tt[\"real\"] == tt[\"pred\"]\n",
    "    return tt\n",
    "\n",
    "\n",
    "def log_results(results, type, shuffled=False):\n",
    "    s_char = \"_shuffled\" if shuffled else \"\"\n",
    "\n",
    "    x_axis = \"color\" if type == \"points\" else \"real\"\n",
    "    fig, axes = plt.subplots(1, 2, figsize=(10, 6))\n",
    "    sns.histplot(\n",
    "        data=results, x=\"mean\", hue=x_axis, bins=50, kde=True, alpha=0.5, ax=axes[0]\n",
    "    )\n",
    "    axes[0].set_title(\n",
    "        f\"{type.capitalize()} {s_char.replace('_', '').capitalize()} histogram\"\n",
    "    )\n",
    "    sns.boxplot(data=results, x=x_axis, y=\"mean\", ax=axes[1])\n",
    "    axes[1].set_title(\n",
    "        f\"{type.capitalize()} {s_char.replace('_', '').capitalize()} boxplot\"\n",
    "    )\n",
    "    plt.tight_layout()\n",
    "\n",
    "    acc = np.mean(results[\"correct\"])\n",
    "    acc = 1 - acc if acc < 0.5 else acc\n",
    "    \n",
    "    return fig, acc"
   ]
  },
  {
   "cell_type": "code",
   "execution_count": 5,
   "metadata": {},
   "outputs": [],
   "source": [
    "base_dir = \"images/five_to_fifteen/train\"\n",
    "sub_dirs = [\"yellow\", \"blue\"]\n",
    "\n",
    "sampled_images = sample_images(base_dir, sub_dirs, pairs_num)"
   ]
  },
  {
   "cell_type": "code",
   "execution_count": null,
   "metadata": {},
   "outputs": [],
   "source": [
    "predictions = predict_images(\n",
    "    sampled_images, neuron_data, connections, all_coords, all_neurons, num_passes\n",
    ")\n",
    "results = process_points_results(predictions)\n",
    "fig, acc = log_results(results, \"points\")"
   ]
  },
  {
   "cell_type": "code",
   "execution_count": 61,
   "metadata": {},
   "outputs": [
    {
     "data": {
      "image/png": "[encoded data removed]",
      "text/plain": [
       "<Figure size 640x480 with 1 Axes>"
      ]
     },
     "metadata": {},
     "output_type": "display_data"
    }
   ],
   "source": [
    "fig"
   ]
  },
  {
   "cell_type": "code",
   "execution_count": 8,
   "metadata": {},
   "outputs": [
    {
     "name": "stdout",
     "output_type": "stream",
     "text": [
      "accuracy = 0.5365\n"
     ]
    }
   ],
   "source": [
    "print(confusion_matrix(results[\"color\"], results[\"pred\"]) / len(results))\n",
    "print(f\"accuracy = {acc}\")"
   ]
  },
  {
   "cell_type": "markdown",
   "metadata": {},
   "source": [
    "## Shuffling"
   ]
  },
  {
   "cell_type": "code",
   "execution_count": 15,
   "metadata": {},
   "outputs": [
    {
     "data": {
      "application/vnd.jupyter.widget-view+json": {
       "model_id": "733afcb2e7ef4aeeae4f2173a35049a7",
       "version_major": 2,
       "version_minor": 0
      },
      "text/plain": [
       "  0%|          | 0/4000 [00:00<?, ?it/s]"
      ]
     },
     "metadata": {},
     "output_type": "display_data"
    }
   ],
   "source": [
    "predictions = predict_images(\n",
    "    sampled_images,\n",
    "    neuron_data,\n",
    "    shuffled_connections,\n",
    "    all_coords,\n",
    "    all_neurons,\n",
    "    num_passes,\n",
    ")"
   ]
  },
  {
   "cell_type": "code",
   "execution_count": 21,
   "metadata": {},
   "outputs": [
    {
     "data": {
      "image/png": "[encoded data removed]",
      "text/plain": [
       "<Figure size 640x480 with 1 Axes>"
      ]
     },
     "metadata": {},
     "output_type": "display_data"
    }
   ],
   "source": [
    "results = process_points_results(predictions)\n",
    "fig, acc = log_results(results, \"points\", shuffled=True)\n",
    "fig"
   ]
  },
  {
   "cell_type": "code",
   "execution_count": 24,
   "metadata": {},
   "outputs": [
    {
     "name": "stdout",
     "output_type": "stream",
     "text": [
      "[[0.262 0.238]\n",
      " [0.238 0.262]]\n",
      "accuracy = 0.524\n"
     ]
    }
   ],
   "source": [
    "print(f\"accuracy = {acc}\")"
   ]
  },
  {
   "cell_type": "markdown",
   "metadata": {},
   "source": [
    "# With shapes"
   ]
  },
  {
   "cell_type": "code",
   "execution_count": 9,
   "metadata": {},
   "outputs": [],
   "source": [
    "base_dir = \"images/black_blue_80_110_jitter/train/two_shapes\"\n",
    "sub_dirs = [\"circle\", \"triangle\"]\n",
    "\n",
    "sampled_images = sample_images(base_dir, sub_dirs, pairs_num)\n",
    "predictions = predict_images(\n",
    "    sampled_images, neuron_data, connections, all_coords, all_neurons, num_passes\n",
    ")"
   ]
  },
  {
   "cell_type": "code",
   "execution_count": 32,
   "metadata": {},
   "outputs": [],
   "source": [
    "results = process_shapes_results(predictions, sampled_images)\n",
    "fig, acc = log_results(results, \"shapes\")"
   ]
  },
  {
   "cell_type": "code",
   "execution_count": 63,
   "metadata": {},
   "outputs": [
    {
     "data": {
      "image/png": "[encoded data removed]",
      "text/plain": [
       "<Figure size 640x480 with 1 Axes>"
      ]
     },
     "metadata": {},
     "output_type": "display_data"
    }
   ],
   "source": [
    "fig"
   ]
  },
  {
   "cell_type": "code",
   "execution_count": 54,
   "metadata": {},
   "outputs": [
    {
     "name": "stdout",
     "output_type": "stream",
     "text": [
      "[[0.27725 0.22275]\n",
      " [0.35625 0.14375]]\n",
      "accuracy = 0.579\n"
     ]
    }
   ],
   "source": [
    "print(f\"accuracy = {acc}\")"
   ]
  },
  {
   "cell_type": "markdown",
   "metadata": {},
   "source": [
    "# Reshuffle de pesos"
   ]
  },
  {
   "cell_type": "code",
   "execution_count": 64,
   "metadata": {},
   "outputs": [],
   "source": [
    "predictions = predict_images(\n",
    "    sampled_images, neuron_data, shuffled_connections, all_coords, all_neurons, num_passes\n",
    ")"
   ]
  },
  {
   "cell_type": "code",
   "execution_count": 65,
   "metadata": {},
   "outputs": [],
   "source": [
    "results = process_shapes_results(predictions, sampled_images)\n",
    "fig, acc = log_results(results, \"shapes\", shuffled=True)\n",
    "fig"
   ]
  },
  {
   "cell_type": "code",
   "execution_count": 67,
   "metadata": {},
   "outputs": [
    {
     "name": "stdout",
     "output_type": "stream",
     "text": [
      "[[0.10775 0.39225]\n",
      " [0.39225 0.10775]]\n",
      "accuracy = 0.7845\n"
     ]
    }
   ],
   "source": [
    "print(f\"accuracy = {acc}\")"
   ]
  },
  {
   "cell_type": "code",
   "execution_count": 2,
   "metadata": {},
   "outputs": [
    {
     "data": {
      "image/png": "[encoded data removed]",
      "text/plain": [
       "<Figure size 1000x600 with 2 Axes>"
      ]
     },
     "metadata": {},
     "output_type": "display_data"
    }
   ],
   "source": [
    "import matplotlib.pyplot as plt\n",
    "fig, axes = plt.subplots(1, 2, figsize=(10, 6))"
   ]
  },
  {
   "cell_type": "code",
   "execution_count": 6,
   "metadata": {},
   "outputs": [
    {
     "data": {
      "text/plain": [
       "' hola'"
      ]
     },
     "execution_count": 6,
     "metadata": {},
     "output_type": "execute_result"
    }
   ],
   "source": [
    "\"_hola\".replace(\"_\", \" \")"
   ]
  },
  {
   "cell_type": "code",
   "execution_count": null,
   "metadata": {},
   "outputs": [],
   "source": []
  }
 ],
 "metadata": {
  "kernelspec": {
   "display_name": "venv",
   "language": "python",
   "name": "python3"
  },
  "language_info": {
   "codemirror_mode": {
    "name": "ipython",
    "version": 3
   },
   "file_extension": ".py",
   "mimetype": "text/x-python",
   "name": "python",
   "nbconvert_exporter": "python",
   "pygments_lexer": "ipython3",
   "version": "3.10.12"
  }
 },
 "nbformat": 4,
 "nbformat_minor": 2
}
