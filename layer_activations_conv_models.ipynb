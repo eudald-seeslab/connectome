{
 "cells": [
  {
   "cell_type": "code",
   "execution_count": 5,
   "id": "initial_id",
   "metadata": {
    "ExecuteTime": {
     "end_time": "2024-04-08T10:50:38.096103Z",
     "start_time": "2024-04-08T10:50:38.086774Z"
    },
    "collapsed": true
   },
   "outputs": [],
   "source": [
    "from random import sample\n",
    "\n",
    "import warnings\n",
    "import torch\n",
    "from torch import device, cuda, autocast\n",
    "from torch.cuda.amp import GradScaler\n",
    "from torch.nn import BCEWithLogitsLoss\n",
    "from torch.optim.lr_scheduler import OneCycleLR\n",
    "from tqdm import tqdm\n",
    "\n",
    "import flyvision\n",
    "import wandb\n",
    "from conv_models import DecodingImagesCNN\n",
    "from from_retina_to_connectome_utils import predictions_and_corrects_from_model_results, update_results_df, update_running_loss, initialize_results_df\n",
    "from from_video_to_training_batched_funcs import get_files_from_directory, select_random_videos\n",
    "from utils import plot_weber_fraction\n",
    "from logs_to_wandb import log_running_stats_to_wandb, log_validation_stats_to_wandb\n",
    "from layer_activation_data_processing import DataBatchProcessor, prepare_dataloader\n",
    "\n",
    "\n",
    "warnings.filterwarnings(\n",
    "    'ignore',\n",
    "    message='invalid value encountered in cast',\n",
    "    category=RuntimeWarning,\n",
    "    module='wandb.sdk.data_types.image'\n",
    ")\n",
    "torch.manual_seed(42)\n",
    "dtype = torch.float\n",
    "\n",
    "device_type = \"cuda\" if cuda.is_available() else \"cpu\"\n",
    "DEVICE = device(device_type)\n",
    "\n",
    "TRAINING_DATA_DIR = \"images/easy_v2\"\n",
    "TESTING_DATA_DIR = \"images/easy_images\"\n",
    "VALIDATION_DATA_DIR = \"images/easyval_images\"\n",
    "\n",
    "debugging = True\n",
    "debug_length = 20\n",
    "wandb_ = False\n",
    "wandb_images_every = 100\n",
    "small = True\n",
    "small_length = 2000\n",
    "\n",
    "num_epochs = 1\n",
    "\n",
    "test_every = 2 if small else 10\n",
    "batch_size = 32 if small else 128\n",
    "\n",
    "channel_sizes = [16, 32, 64]\n",
    "mult_size = 1\n",
    "channel_sizes = [int(a * mult_size) for a in channel_sizes]\n",
    "dropout = .3\n",
    "max_lr = 0.02\n",
    "base_lr = 0.005\n",
    "weight_decay = 0.005\n",
    "\n",
    "use_one_cycle_lr = True\n",
    "\n",
    "model_config = {\n",
    "    \"debugging\": debugging,\n",
    "    \"num_epochs\": num_epochs,\n",
    "    \"batch_size\": batch_size,\n",
    "    \"channel_sizes\": channel_sizes,\n",
    "    \"dropout\": dropout,\n",
    "    \"base_lr\": base_lr,\n",
    "    \"max_lr\": max_lr,\n",
    "    \"weight_decay\": weight_decay\n",
    "}"
   ]
  },
  {
   "cell_type": "code",
   "execution_count": 2,
   "id": "1807fd157955627",
   "metadata": {
    "ExecuteTime": {
     "end_time": "2024-04-08T10:50:50.040082Z",
     "start_time": "2024-04-08T10:50:45.037320Z"
    }
   },
   "outputs": [],
   "source": [
    "network_view = flyvision.NetworkView(flyvision.results_dir / \"opticflow/000/0000\")\n",
    "network = network_view.init_network(chkpt=\"best_chkpt\")\n",
    "extent, kernel_size = 15, 13 # same as in the paper\n",
    "receptors = flyvision.rendering.BoxEye(extent=extent, kernel_size=kernel_size)\n",
    "\n",
    "training_videos = get_files_from_directory(TRAINING_DATA_DIR)\n",
    "test_videos = get_files_from_directory(TESTING_DATA_DIR)\n",
    "validation_videos = get_files_from_directory(TESTING_DATA_DIR)\n",
    "\n",
    "if small:\n",
    "    training_videos = sample(training_videos, small_length)\n",
    "    test_videos = sample(test_videos, small_length)\n",
    "    validation_videos = sample(validation_videos, int(small_length / 5))\n",
    "    \n",
    "\n",
    "if len(training_videos) == 0:\n",
    "    print(\"I can't find any training images or videos!\")"
   ]
  },
  {
   "cell_type": "code",
   "execution_count": 3,
   "id": "4fce80a3502cf3c7",
   "metadata": {
    "ExecuteTime": {
     "end_time": "2024-04-08T10:50:51.826363Z",
     "start_time": "2024-04-08T10:50:51.819659Z"
    }
   },
   "outputs": [
    {
     "name": "stderr",
     "output_type": "stream",
     "text": [
      "/home/eudald/Desktop/doctorat/connectome/venv/lib/python3.10/site-packages/torch/cuda/amp/grad_scaler.py:125: UserWarning: torch.cuda.amp.GradScaler is enabled, but CUDA is not available.  Disabling.\n",
      "  warnings.warn(\n"
     ]
    }
   ],
   "source": [
    "model = DecodingImagesCNN(\n",
    "    out_channels_1 = channel_sizes[0],\n",
    "    out_channels_2 = channel_sizes[1],\n",
    "    out_channels_3 = channel_sizes[2],\n",
    "    dropout = dropout\n",
    ").to(DEVICE)\n",
    "optimizer = torch.optim.Adam(model.parameters(), lr=base_lr, weight_decay=weight_decay)\n",
    "\n",
    "# Initialize the scheduler\n",
    "iterations = debug_length if debugging else len(training_videos) // batch_size\n",
    "if use_one_cycle_lr:\n",
    "    scheduler = OneCycleLR(optimizer, max_lr=max_lr, total_steps=int(num_epochs * iterations / test_every), anneal_strategy='linear')\n",
    "\n",
    "scaler = GradScaler()\n",
    "\n",
    "# Initialize the loss function\n",
    "criterion = BCEWithLogitsLoss()"
   ]
  },
  {
   "cell_type": "code",
   "execution_count": 4,
   "id": "a3b94263294e5262",
   "metadata": {
    "ExecuteTime": {
     "end_time": "2024-04-08T10:55:53.864932Z",
     "start_time": "2024-04-08T10:50:53.604442Z"
    }
   },
   "outputs": [
    {
     "name": "stderr",
     "output_type": "stream",
     "text": [
      "  0%|          | 0/20 [00:00<?, ?it/s]"
     ]
    },
    {
     "name": "stderr",
     "output_type": "stream",
     "text": [
      " 10%|█         | 2/20 [01:24<13:29, 44.98s/it]"
     ]
    },
    {
     "name": "stdout",
     "output_type": "stream",
     "text": [
      "Learning rate changed from [0.0008] to [0.010400000000000001]\n"
     ]
    },
    {
     "name": "stderr",
     "output_type": "stream",
     "text": [
      " 20%|██        | 4/20 [02:54<12:26, 46.67s/it]"
     ]
    },
    {
     "name": "stdout",
     "output_type": "stream",
     "text": [
      "Learning rate changed from [0.010400000000000001] to [0.02]\n"
     ]
    },
    {
     "name": "stderr",
     "output_type": "stream",
     "text": [
      " 30%|███       | 6/20 [04:24<11:00, 47.17s/it]"
     ]
    },
    {
     "name": "stdout",
     "output_type": "stream",
     "text": [
      "Learning rate changed from [0.02] to [0.017142868571428573]\n"
     ]
    },
    {
     "name": "stderr",
     "output_type": "stream",
     "text": [
      " 40%|████      | 8/20 [05:53<09:26, 47.17s/it]"
     ]
    },
    {
     "name": "stdout",
     "output_type": "stream",
     "text": [
      "Learning rate changed from [0.017142868571428573] to [0.014285737142857143]\n"
     ]
    },
    {
     "name": "stderr",
     "output_type": "stream",
     "text": [
      " 50%|█████     | 10/20 [07:26<08:00, 48.09s/it]"
     ]
    },
    {
     "name": "stdout",
     "output_type": "stream",
     "text": [
      "Learning rate changed from [0.014285737142857143] to [0.011428605714285715]\n"
     ]
    },
    {
     "name": "stderr",
     "output_type": "stream",
     "text": [
      " 60%|██████    | 12/20 [08:54<06:20, 47.51s/it]"
     ]
    },
    {
     "name": "stdout",
     "output_type": "stream",
     "text": [
      "Learning rate changed from [0.011428605714285715] to [0.008571474285714286]\n"
     ]
    },
    {
     "name": "stderr",
     "output_type": "stream",
     "text": [
      " 70%|███████   | 14/20 [10:20<04:37, 46.25s/it]"
     ]
    },
    {
     "name": "stdout",
     "output_type": "stream",
     "text": [
      "Learning rate changed from [0.008571474285714286] to [0.005714342857142857]\n"
     ]
    },
    {
     "name": "stderr",
     "output_type": "stream",
     "text": [
      " 80%|████████  | 16/20 [11:46<03:03, 46.00s/it]"
     ]
    },
    {
     "name": "stdout",
     "output_type": "stream",
     "text": [
      "Learning rate changed from [0.005714342857142857] to [0.00285721142857143]\n"
     ]
    },
    {
     "name": "stderr",
     "output_type": "stream",
     "text": [
      " 90%|█████████ | 18/20 [13:14<01:32, 46.25s/it]"
     ]
    },
    {
     "name": "stdout",
     "output_type": "stream",
     "text": [
      "Learning rate changed from [0.00285721142857143] to [7.99999999995249e-08]\n"
     ]
    },
    {
     "name": "stderr",
     "output_type": "stream",
     "text": [
      "100%|██████████| 20/20 [14:47<00:00, 44.36s/it]"
     ]
    },
    {
     "name": "stdout",
     "output_type": "stream",
     "text": [
      "Learning rate changed from [7.99999999995249e-08] to [-0.0028570514285714277]\n",
      "Epoch 1, Training Loss: 0.7058734714984893, Training Accuracy: 0.478125\n",
      "Test Loss: 0.6887303590774536, Test Accuracy: 0.59375\n"
     ]
    },
    {
     "name": "stderr",
     "output_type": "stream",
     "text": [
      "\n"
     ]
    }
   ],
   "source": [
    "if wandb_:\n",
    "    # Start wandb run\n",
    "    wandb.init(project='la_classification', config=model_config)\n",
    "\n",
    "results = initialize_results_df()\n",
    "\n",
    "# Training loop\n",
    "for epoch in range(num_epochs):\n",
    "    model.train()\n",
    "    already_selected = []\n",
    "    running_loss = 0.0\n",
    "    total_correct = 0\n",
    "    total = 0\n",
    "    for i in tqdm(range(iterations)):\n",
    "        \n",
    "        batch_files, already_selected = select_random_videos(\n",
    "                training_videos, batch_size, already_selected\n",
    "        )\n",
    "        bd_processor = DataBatchProcessor(batch_size, receptors, network, store_to_wandb=(wandb_ and i % wandb_images_every == 0))\n",
    "        decoding_images, labels = bd_processor.preprocess_batch(batch_files)\n",
    "        dataloader = prepare_dataloader(decoding_images, labels, dtype)\n",
    "        \n",
    "        for inputs, batch_labels in dataloader:\n",
    "            inputs, batch_labels = inputs.to(DEVICE), batch_labels.to(DEVICE)\n",
    "            optimizer.zero_grad()\n",
    "    \n",
    "            with autocast(device_type):\n",
    "                outputs = model(inputs)\n",
    "                loss = criterion(outputs.squeeze(), batch_labels)\n",
    "                loss.backward()\n",
    "                optimizer.step()\n",
    "    \n",
    "                # Calculate run parameters\n",
    "                predictions, batch_labels_cpu, correct = predictions_and_corrects_from_model_results(outputs, batch_labels)\n",
    "                results = update_results_df(results, bd_processor.batch_files, predictions, batch_labels_cpu, correct)\n",
    "                running_loss += update_running_loss(loss, inputs)\n",
    "                total += batch_labels.shape[0]\n",
    "                total_correct += correct.sum()\n",
    "\n",
    "        # Test phase\n",
    "        if (i + 1) % test_every == 0:\n",
    "            model.eval()\n",
    "            test_loss = 0.0\n",
    "            test_correct = 0\n",
    "            test_total = 0\n",
    "\n",
    "            with torch.no_grad():\n",
    "                batch_files, already_selected = select_random_videos(\n",
    "                        test_videos, batch_size, already_selected\n",
    "                )\n",
    "                # in case we run out of test videos\n",
    "                if len(test_videos) - len(already_selected) < batch_size:\n",
    "                    already_selected = []\n",
    "                bd_processor = DataBatchProcessor(batch_size, receptors, network)\n",
    "                decoding_images, labels = bd_processor.preprocess_batch(batch_files)\n",
    "                dataloader = prepare_dataloader(decoding_images, labels, dtype)\n",
    "                \n",
    "                for inputs, batch_labels in dataloader:\n",
    "                    inputs, batch_labels = inputs.to(DEVICE), batch_labels.to(DEVICE)\n",
    "\n",
    "                    outputs = model(inputs)\n",
    "                    loss = criterion(outputs.squeeze(), batch_labels)\n",
    "\n",
    "                    predictions, batch_labels_cpu, test_correct = predictions_and_corrects_from_model_results(outputs, batch_labels)\n",
    "                    test_loss += update_running_loss(loss, inputs)\n",
    "                    test_total += batch_labels_cpu.shape[0]\n",
    "\n",
    "            test_loss /= test_total\n",
    "            test_accuracy = test_correct.sum() / test_total\n",
    "\n",
    "            # Step the scheduler with the test loss\n",
    "            if use_one_cycle_lr:\n",
    "                last_learning_rate = scheduler.get_last_lr()\n",
    "                scheduler.step()\n",
    "                new_learning_rate = scheduler.get_last_lr()\n",
    "                if last_learning_rate != new_learning_rate:\n",
    "                    print(f'Learning rate changed from {last_learning_rate} to {new_learning_rate}')\n",
    "                    last_learning_rate = new_learning_rate\n",
    "\n",
    "        # Log metrics to wandb\n",
    "        if wandb_:\n",
    "            log_running_stats_to_wandb(epoch, i, running_loss, total_correct, total, results)\n",
    "            if use_one_cycle_lr:\n",
    "                wandb.log({\"learning_rate\": scheduler.get_last_lr()})\n",
    "\n",
    "    print(f'Epoch {epoch+1}, Training Loss: {running_loss / total}, Training Accuracy: {total_correct / total}')\n",
    "    print(f'Test Loss: {test_loss}, Test Accuracy: {test_accuracy}')\n"
   ]
  },
  {
   "cell_type": "code",
   "execution_count": 6,
   "id": "15804021f0e43b93",
   "metadata": {
    "ExecuteTime": {
     "end_time": "2024-04-08T06:55:32.996401Z",
     "start_time": "2024-04-08T06:39:46.261719Z"
    }
   },
   "outputs": [
    {
     "name": "stderr",
     "output_type": "stream",
     "text": [
      "100%|██████████| 10/10 [05:05<00:00, 30.55s/it]"
     ]
    },
    {
     "name": "stdout",
     "output_type": "stream",
     "text": [
      "Validation Loss: 0.6937818169593811, Validation Accuracy: 0.49375\n"
     ]
    },
    {
     "name": "stderr",
     "output_type": "stream",
     "text": [
      "\n"
     ]
    }
   ],
   "source": [
    "model.eval() \n",
    "\n",
    "total_correct = 0\n",
    "total = 0\n",
    "running_loss = 0.0\n",
    "\n",
    "validation_results = initialize_results_df()\n",
    "\n",
    "with torch.no_grad():\n",
    "    for i in tqdm(range(10)):\n",
    "        batch_files, already_selected = select_random_videos(\n",
    "                validation_videos, batch_size, already_selected\n",
    "        )\n",
    "        bd_processor = DataBatchProcessor(batch_size, receptors, network)\n",
    "        decoding_images, labels = bd_processor.preprocess_batch(batch_files)\n",
    "        dataloader = prepare_dataloader(decoding_images, labels, dtype)     \n",
    "        for inputs, batch_labels in dataloader:\n",
    "            inputs, batch_labels = inputs.to(DEVICE), batch_labels.to(DEVICE)\n",
    "            outputs = model(inputs)\n",
    "            loss = criterion(outputs.squeeze(), batch_labels)\n",
    "\n",
    "            predictions, batch_labels_cpu, correct = predictions_and_corrects_from_model_results(outputs, batch_labels)\n",
    "            validation_results = update_results_df(validation_results, batch_files, predictions, batch_labels_cpu, correct)\n",
    "            running_loss += update_running_loss(loss, inputs)\n",
    "            total += batch_labels_cpu.shape[0]\n",
    "            total_correct += correct.sum().item()\n",
    "            \n",
    "            \n",
    "print(f'Validation Loss: {running_loss / total}, '\n",
    "      f'Validation Accuracy: {total_correct / total}')"
   ]
  },
  {
   "cell_type": "code",
   "execution_count": 6,
   "id": "6a25342c29d5d247",
   "metadata": {
    "ExecuteTime": {
     "end_time": "2024-04-08T06:56:57.252140Z",
     "start_time": "2024-04-08T06:56:57.231623Z"
    }
   },
   "outputs": [
    {
     "data": {
      "application/vnd.jupyter.widget-view+json": {
       "model_id": "c337f680f1334f01a3c0ff8f87170f74",
       "version_major": 2,
       "version_minor": 0
      },
      "text/plain": [
       "VBox(children=(Label(value='7.594 MB of 7.620 MB uploaded\\r'), FloatProgress(value=0.9966553978409463, max=1.0…"
      ]
     },
     "metadata": {},
     "output_type": "display_data"
    },
    {
     "data": {
      "text/html": [
       "<style>\n",
       "    table.wandb td:nth-child(1) { padding: 0 10px; text-align: left ; width: auto;} td:nth-child(2) {text-align: left ; width: 100%}\n",
       "    .wandb-row { display: flex; flex-direction: row; flex-wrap: wrap; justify-content: flex-start; width: 100% }\n",
       "    .wandb-col { display: flex; flex-direction: column; flex-basis: 100%; flex: 1; padding: 10px; }\n",
       "    </style>\n",
       "<div class=\"wandb-row\"><div class=\"wandb-col\"><h3>Run history:</h3><br/><table class=\"wandb\"><tr><td>Validation accuracy</td><td>▁</td></tr><tr><td>Validation loss</td><td>▁</td></tr><tr><td>accuracy</td><td>██▅▃▃▄▂▁▁▃▃▃▄▃▃▄▄▄▂▃▃▃▃▃▃▄▄▄▄▄▄▄▄▄▄▄▃▃▃▃</td></tr><tr><td>epoch</td><td>▁▁▁▁▁▁▁▁▁▁▁▁▁▁▁▁▁▁▁▁▁▁▁▁▁▁▁▁▁▁▁▁▁▁▁▁▁▁▁▁</td></tr><tr><td>iteration</td><td>▁▁▁▁▂▂▂▂▂▃▃▃▃▃▃▄▄▄▄▄▅▅▅▅▅▅▆▆▆▆▆▇▇▇▇▇▇███</td></tr><tr><td>loss</td><td>█▃▂▂▃▃▂▂▂▂▂▂▂▂▂▂▂▁▁▁▁▁▁▁▁▁▁▁▁▁▁▁▁▁▁▁▁▁▁▁</td></tr></table><br/></div><div class=\"wandb-col\"><h3>Run summary:</h3><br/><table class=\"wandb\"><tr><td>Validation accuracy</td><td>0.54063</td></tr><tr><td>Validation loss</td><td>0.69119</td></tr><tr><td>accuracy</td><td>0.49446</td></tr><tr><td>epoch</td><td>0</td></tr><tr><td>iteration</td><td>61</td></tr><tr><td>loss</td><td>0.69692</td></tr></table><br/></div></div>"
      ],
      "text/plain": [
       "<IPython.core.display.HTML object>"
      ]
     },
     "metadata": {},
     "output_type": "display_data"
    },
    {
     "data": {
      "text/html": [
       " View run <strong style=\"color:#cdcd00\">revived-wood-64</strong> at: <a href='https://wandb.ai/eudald/la_classification/runs/5524qimw' target=\"_blank\">https://wandb.ai/eudald/la_classification/runs/5524qimw</a><br/> View project at: <a href='https://wandb.ai/eudald/la_classification' target=\"_blank\">https://wandb.ai/eudald/la_classification</a><br/>Synced 5 W&B file(s), 67 media file(s), 63 artifact file(s) and 0 other file(s)"
      ],
      "text/plain": [
       "<IPython.core.display.HTML object>"
      ]
     },
     "metadata": {},
     "output_type": "display_data"
    },
    {
     "data": {
      "text/html": [
       "Find logs at: <code>./wandb/run-20240412_204906-5524qimw/logs</code>"
      ],
      "text/plain": [
       "<IPython.core.display.HTML object>"
      ]
     },
     "metadata": {},
     "output_type": "display_data"
    },
    {
     "data": {
      "image/png": "[encoded data removed]",
      "text/plain": [
       "<Figure size 1000x600 with 1 Axes>"
      ]
     },
     "metadata": {},
     "output_type": "display_data"
    }
   ],
   "source": [
    "weber_plot = plot_weber_fraction(validation_results)\n",
    "\n",
    "# Log validation metrics to wandb\n",
    "if wandb_:\n",
    "    log_validation_stats_to_wandb(running_loss, total_correct, total, validation_results, weber_plot)\n",
    "    wandb.finish()"
   ]
  },
  {
   "cell_type": "code",
   "execution_count": 9,
   "id": "fd691e219cd4632",
   "metadata": {
    "ExecuteTime": {
     "end_time": "2024-04-03T13:25:28.370784Z",
     "start_time": "2024-04-03T13:25:28.343060Z"
    }
   },
   "outputs": [
    {
     "name": "stdout",
     "output_type": "stream",
     "text": [
      "---------------------------------------------------------------------------\n",
      "          Layer (type)         Input Shape         Param #     Tr. Param #\n",
      "===========================================================================\n",
      "              Conv2d-1     [1, 34, 31, 31]           4,912           4,912\n",
      "         BatchNorm2d-2     [1, 16, 31, 31]              32              32\n",
      "             Dropout-3     [1, 16, 15, 15]               0               0\n",
      "              Conv2d-4     [1, 16, 15, 15]           4,640           4,640\n",
      "         BatchNorm2d-5     [1, 32, 15, 15]              64              64\n",
      "              Conv2d-6       [1, 32, 7, 7]          18,496          18,496\n",
      "         BatchNorm2d-7       [1, 64, 7, 7]             128             128\n",
      "   AdaptiveAvgPool2d-8       [1, 64, 3, 3]               0               0\n",
      "              Linear-9             [1, 64]              65              65\n",
      "===========================================================================\n",
      "Total params: 28,337\n",
      "Trainable params: 28,337\n",
      "Non-trainable params: 0\n",
      "---------------------------------------------------------------------------\n"
     ]
    }
   ],
   "source": [
    "from pytorch_model_summary import summary\n",
    "\n",
    "print(summary(DecodingImagesCNN(), torch.zeros((1, 34, 31, 31)), show_input=True))"
   ]
  },
  {
   "cell_type": "code",
   "execution_count": null,
   "id": "a01a5867d81a9cc0",
   "metadata": {},
   "outputs": [],
   "source": []
  }
 ],
 "metadata": {
  "kernelspec": {
   "display_name": "Python 3 (ipykernel)",
   "language": "python",
   "name": "python3"
  },
  "language_info": {
   "codemirror_mode": {
    "name": "ipython",
    "version": 3
   },
   "file_extension": ".py",
   "mimetype": "text/x-python",
   "name": "python",
   "nbconvert_exporter": "python",
   "pygments_lexer": "ipython3",
   "version": "3.10.12"
  }
 },
 "nbformat": 4,
 "nbformat_minor": 5
}
