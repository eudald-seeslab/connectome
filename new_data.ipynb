{
 "cells": [
  {
   "cell_type": "code",
   "id": "initial_id",
   "metadata": {
    "collapsed": true
   },
   "source": [
    "import pandas as pd\n",
    "import scipy.sparse as ss\n",
    "\n",
    "from utils import synapses_to_matrix_and_dict"
   ],
   "outputs": [],
   "execution_count": null
  },
  {
   "cell_type": "markdown",
   "id": "34b1966b",
   "metadata": {},
   "source": [
    "# Synaptic matrix and uuid map"
   ]
  },
  {
   "cell_type": "code",
   "id": "27e7a2d1923062ea",
   "metadata": {},
   "source": [
    "df = pd.read_feather(\n",
    "    \"new_data/flywire_synapses_783.feather\", \n",
    "    columns = [\"pre_pt_root_id\", \"post_pt_root_id\", \"connection_score\"]\n",
    "    ).rename(\n",
    "        columns={\n",
    "            \"pre_pt_root_id\": \"pre_root_id\", \n",
    "            \"post_pt_root_id\": \"post_root_id\", \n",
    "            \"connection_score\": \"syn_count\"}\n",
    "    )\n",
    "df[\"syn_count\"] = df[\"syn_count\"].astype(int)"
   ],
   "outputs": [],
   "execution_count": null
  },
  {
   "cell_type": "code",
   "id": "af1f9820",
   "metadata": {},
   "source": [
    "mm, synapse_dict = synapses_to_matrix_and_dict(df)"
   ],
   "outputs": [],
   "execution_count": null
  },
  {
   "cell_type": "code",
   "id": "f61df3ad",
   "metadata": {},
   "source": [
    "ss.save_npz(f\"new_data/new_synaptic_matrix.npz\", mm)\n",
    "pd.DataFrame(synapse_dict.items(), columns=[\"root_id\", \"index\"]).to_csv(\n",
    "        f\"new_data/new_root_id_to_index.csv\", index=False\n",
    "    )"
   ],
   "outputs": [],
   "execution_count": null
  },
  {
   "cell_type": "markdown",
   "id": "49cc24f6",
   "metadata": {},
   "source": [
    "## Grouping connections"
   ]
  },
  {
   "cell_type": "code",
   "id": "9c695346",
   "metadata": {},
   "source": [
    "# Add synapse counts for repeated pre_root_id and post_root_id pairs\n",
    "df = df.groupby([\"pre_root_id\", \"post_root_id\"]).sum().reset_index()"
   ],
   "outputs": [],
   "execution_count": null
  },
  {
   "cell_type": "code",
   "id": "f90eb9ac",
   "metadata": {},
   "source": [
    "mm, synapse_dict = synapses_to_matrix_and_dict(df)\n",
    "ss.save_npz(f\"new_data/new_grouped_synaptic_matrix.npz\", mm)\n",
    "pd.DataFrame(synapse_dict.items(), columns=[\"root_id\", \"index\"]).to_csv(\n",
    "        f\"new_data/new_grouped_root_id_to_index.csv\", index=False\n",
    "    )"
   ],
   "outputs": [],
   "execution_count": null
  },
  {
   "cell_type": "markdown",
   "id": "0439df75",
   "metadata": {},
   "source": [
    "## Only proofread connections"
   ]
  },
  {
   "cell_type": "code",
   "id": "573318f7",
   "metadata": {},
   "source": [
    "pc = pd.read_feather(\n",
    "    \"new_data/proofread_connections_783.feather\",\n",
    "        columns = [\"pre_pt_root_id\", \"post_pt_root_id\", \"syn_count\"]\n",
    "    ).rename(\n",
    "        columns={\n",
    "            \"pre_pt_root_id\": \"pre_root_id\", \n",
    "            \"post_pt_root_id\": \"post_root_id\"\n",
    "            }\n",
    "    ).groupby([\"pre_root_id\", \"post_root_id\"]).sum().reset_index()"
   ],
   "outputs": [],
   "execution_count": null
  },
  {
   "cell_type": "code",
   "id": "275585df",
   "metadata": {},
   "source": [
    "pc.to_csv(\"new_data/connections.csv\", index=False)"
   ],
   "outputs": [],
   "execution_count": null
  },
  {
   "cell_type": "code",
   "id": "a9f6e2df",
   "metadata": {},
   "source": [
    "\n",
    "mm, synapse_dict = synapses_to_matrix_and_dict(pc)\n",
    "ss.save_npz(f\"new_data/proofread_synaptic_matrix.npz\", mm)\n",
    "pd.DataFrame(synapse_dict.items(), columns=[\"root_id\", \"index\"]).to_csv(\n",
    "        f\"new_data/proofread_root_id_to_index.csv\", index=False\n",
    "    )"
   ],
   "outputs": [],
   "execution_count": null
  },
  {
   "cell_type": "markdown",
   "id": "e313a3b4",
   "metadata": {},
   "source": [
    "# Refined proofread synaptic matrix"
   ]
  },
  {
   "cell_type": "code",
   "id": "ef30a3ba",
   "metadata": {},
   "source": [
    "import numpy as np\n",
    "\n",
    "rpc = pd.read_feather(\"new_data/proofread_connections_783.feather\")\n",
    "# following https://www-nature-com.sabidi.urv.cat/articles/s41586-024-07763-9,\n",
    "#  \"We assume GABAergic and glutamatergic neurons are inhibitory\" and the rest are excitatory\n",
    "# compute the sum of all the columns ending with \"avg\"\n",
    "rpc[\"syn_count\"] = np.where(\n",
    "    rpc[\"gaba_avg\"] + rpc[\"glut_avg\"] > 0.5, -1 * rpc[\"syn_count\"], rpc[\"syn_count\"]\n",
    ")"
   ],
   "outputs": [],
   "execution_count": null
  },
  {
   "cell_type": "code",
   "id": "2182b452",
   "metadata": {},
   "source": [
    "crpc = rpc[[\"post_pt_root_id\", \"pre_pt_root_id\", \"syn_count\"]].rename(\n",
    "    columns={\"pre_pt_root_id\": \"pre_root_id\", \"post_pt_root_id\": \"post_root_id\"}\n",
    ").groupby([\"pre_root_id\", \"post_root_id\"]).sum().reset_index()"
   ],
   "outputs": [],
   "execution_count": null
  },
  {
   "cell_type": "code",
   "id": "e8b06b3e",
   "metadata": {},
   "source": [
    "crpc.to_csv(\"new_data/connections_refined.csv\", index=False)"
   ],
   "outputs": [],
   "execution_count": null
  },
  {
   "cell_type": "code",
   "id": "1e482baa",
   "metadata": {},
   "source": [
    "mm, synapse_dict = synapses_to_matrix_and_dict(crpc)\n",
    "ss.save_npz(f\"new_data/proofread_refined_synaptic_matrix.npz\", mm)\n",
    "pd.DataFrame(synapse_dict.items(), columns=[\"root_id\", \"index\"]).to_csv(\n",
    "    f\"new_data/proofread_refined_root_id_to_index.csv\", index=False\n",
    ")"
   ],
   "outputs": [],
   "execution_count": null
  },
  {
   "cell_type": "code",
   "id": "6fb1fc38",
   "metadata": {},
   "source": [],
   "outputs": [],
   "execution_count": null
  },
  {
   "cell_type": "code",
   "id": "43c17c27",
   "metadata": {},
   "source": [],
   "outputs": [],
   "execution_count": null
  },
  {
   "cell_type": "code",
   "id": "9f0d2e6e",
   "metadata": {},
   "source": [
    "nc = pd.read_table(\"new_data/Supplemental_file1_neuron_annotations.tsv\")"
   ],
   "outputs": [],
   "execution_count": null
  },
  {
   "cell_type": "code",
   "id": "5d8a6d23",
   "metadata": {},
   "source": [
    "# find neurons that are in the pre and post root ids of the proofread connections and in nc\n",
    "pre_nc = nc[nc[\"root_id\"].isin(pc[\"pre_root_id\"])]\n",
    "post_nc = nc[nc[\"root_id\"].isin(pc[\"post_root_id\"])]\n",
    "pre_post_nc = pd.concat([pre_nc, post_nc]).drop_duplicates()\n"
   ],
   "outputs": [],
   "execution_count": null
  },
  {
   "cell_type": "code",
   "id": "5bda6c33",
   "metadata": {},
   "source": [
    "pre_post_nc[\"cell_type\"].value_counts()"
   ],
   "outputs": [],
   "execution_count": null
  },
  {
   "cell_type": "code",
   "id": "6f7847f2",
   "metadata": {},
   "source": [],
   "outputs": [],
   "execution_count": null
  },
  {
   "cell_type": "code",
   "id": "c4eae00e",
   "metadata": {},
   "source": [
    "df"
   ],
   "outputs": [],
   "execution_count": null
  },
  {
   "cell_type": "code",
   "id": "90802c53",
   "metadata": {},
   "source": [],
   "outputs": [],
   "execution_count": null
  }
 ],
 "metadata": {
  "kernelspec": {
   "display_name": "venv",
   "language": "python",
   "name": "python3"
  },
  "language_info": {
   "codemirror_mode": {
    "name": "ipython",
    "version": 3
   },
   "file_extension": ".py",
   "mimetype": "text/x-python",
   "name": "python",
   "nbconvert_exporter": "python",
   "pygments_lexer": "ipython3",
   "version": "3.12.3"
  }
 },
 "nbformat": 4,
 "nbformat_minor": 5
}
