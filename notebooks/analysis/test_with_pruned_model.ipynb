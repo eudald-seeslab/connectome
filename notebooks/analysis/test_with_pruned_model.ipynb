{
 "cells": [
  {
   "cell_type": "code",
   "execution_count": null,
   "metadata": {},
   "outputs": [],
   "source": [
    "%matplotlib inline\n",
    "import copy\n",
    "\n",
    "import numpy as np\n",
    "import torch\n",
    "import torch.nn.utils.prune as prune\n",
    "from torch.nn import CrossEntropyLoss\n",
    "import matplotlib.pyplot as plt\n",
    "cmap = plt.get_cmap(\"viridis\")\n",
    "from tqdm import tqdm\n",
    "\n",
    "import connectome\n",
    "config = connectome.get_config()\n",
    "\n",
    "from connectome.core.data_processing import DataProcessor\n",
    "from connectome.core.graph_models import FullGraphModel\n",
    "from connectome.core.utils import (\n",
    "    clean_model_outputs, \n",
    "    get_image_paths, \n",
    "    get_iteration_number, \n",
    "    initialize_results_df, \n",
    "    select_random_images, \n",
    "    update_results_df, \n",
    "    update_running_loss\n",
    ")\n",
    "from connectome.visualization.plots import plot_results\n",
    "\n",
    "device_type = \"cuda\" if torch.cuda.is_available() else \"cpu\"\n",
    "device = torch.device(device_type)\n",
    "dtype = torch.float32\n",
    "batch_size = config.batch_size"
   ]
  },
  {
   "cell_type": "code",
   "execution_count": null,
   "metadata": {},
   "outputs": [],
   "source": [
    "data_processor = DataProcessor(config)\n",
    "model = FullGraphModel(data_processor, config).to(device)\n",
    "criterion = CrossEntropyLoss()"
   ]
  },
  {
   "cell_type": "code",
   "execution_count": null,
   "metadata": {},
   "outputs": [],
   "source": [
    "def correct_test_results(test_results):\n",
    "    # There was a bug in how we get the classes, and the 0-1 labels can be flipped\n",
    "    # This function corrects the labels if the accuracy is below 0.5\n",
    "    flipped = False\n",
    "    if test_results[\"Is correct\"].sum() / len(test_results) < 0.5:\n",
    "        test_results[\"Is correct\"] = np.abs(test_results[\"Is correct\"] - 1)\n",
    "        flipped = True\n",
    "\n",
    "    return test_results, flipped\n",
    "\n",
    "# test\n",
    "def test(model):\n",
    "    testing_images = get_image_paths(\n",
    "        config.TESTING_DATA_DIR, config.small_length\n",
    "    )\n",
    "    already_selected_testing = []\n",
    "    total_correct, total, running_loss = 0, 0, 0.0\n",
    "    test_results = initialize_results_df()\n",
    "\n",
    "    iterations = get_iteration_number(len(testing_images), batch_size)\n",
    "    for _ in tqdm(range(iterations)):\n",
    "        batch_files, already_selected_testing = select_random_images(\n",
    "            testing_images, batch_size, already_selected_testing\n",
    "        )\n",
    "        images, labels = data_processor.get_data_from_paths(batch_files)\n",
    "        inputs, labels = data_processor.process_batch(images, labels)\n",
    "        inputs = inputs.to(config.DEVICE)\n",
    "\n",
    "        out = model(inputs)\n",
    "        loss = criterion(out, labels)\n",
    "\n",
    "        # Calculate run parameters\n",
    "        outputs, predictions, labels_cpu, correct = clean_model_outputs(out, labels)\n",
    "        test_results = update_results_df(\n",
    "            test_results, batch_files, outputs, predictions, labels_cpu, correct\n",
    "        )\n",
    "        running_loss += update_running_loss(loss, inputs)\n",
    "        total += batch_size\n",
    "        total_correct += correct.sum()\n",
    "\n",
    "    test_results, flipped = correct_test_results(test_results)\n",
    "    final_plots = plot_results(test_results, plot_types=config.plot_types)\n",
    "\n",
    "    print(\n",
    "        f\"Finished testing with loss {running_loss / total} and \"\n",
    "        f\"accuracy {total_correct / total}.\"\n",
    "    )\n",
    "    return test_results, final_plots, total_correct / total, flipped"
   ]
  },
  {
   "cell_type": "code",
   "execution_count": null,
   "metadata": {},
   "outputs": [],
   "source": [
    "checkpoint = torch.load(\n",
    "    \"models/n_all_v_R7_r_False_lr_0.001_p_4_2024-05-23 18:58.pth\",\n",
    "    map_location=device_type,\n",
    ")\n",
    "model.load_state_dict(checkpoint[\"model\"])\n",
    "torch.set_grad_enabled(False)\n",
    "model.eval()\n",
    "model_orig = copy.deepcopy(model)\n"
   ]
  },
  {
   "cell_type": "code",
   "execution_count": null,
   "metadata": {},
   "outputs": [],
   "source": [
    "results = {}\n",
    "for ix, p in enumerate(np.linspace(0, 1, 11)):\n",
    "    model = copy.deepcopy(model_orig)\n",
    "    prune.random_unstructured(\n",
    "        model.connectome, name=\"edge_weight_multiplier\", amount=p\n",
    "    )\n",
    "    test_results, final_plots, accuracy, flipped = test(model)\n",
    "    results[f\"prune_{ix}\"] = {\n",
    "        \"prune_frac\": p,\n",
    "        \"test_results\": test_results,\n",
    "        \"final_plots\": final_plots,\n",
    "        \"accuracy\": accuracy,\n",
    "        \"flipped\": flipped,\n",
    "    }"
   ]
  },
  {
   "cell_type": "code",
   "execution_count": null,
   "metadata": {},
   "outputs": [],
   "source": [
    "import pandas as pd\n",
    "pa = pd.DataFrame({\"prune_frac\": [r[\"prune_frac\"] for r in results.values()], \"accuracy\": [1 - r[\"accuracy\"] for r in results.values()]})"
   ]
  },
  {
   "cell_type": "code",
   "execution_count": null,
   "metadata": {},
   "outputs": [],
   "source": [
    "%matplotlib inline\n",
    "import seaborn as sns\n",
    "\n",
    "fig = plt.figure(figsize=(10, 6))\n",
    "sns.lineplot(data=pa, x=\"prune_frac\", y=\"accuracy\")\n",
    "plt.show()"
   ]
  },
  {
   "cell_type": "code",
   "execution_count": null,
   "metadata": {},
   "outputs": [],
   "source": []
  }
 ],
 "metadata": {
  "kernelspec": {
   "display_name": "venv",
   "language": "python",
   "name": "python3"
  },
  "language_info": {
   "codemirror_mode": {
    "name": "ipython",
    "version": 3
   },
   "file_extension": ".py",
   "mimetype": "text/x-python",
   "name": "python",
   "nbconvert_exporter": "python",
   "pygments_lexer": "ipython3",
   "version": "3.12.3"
  }
 },
 "nbformat": 4,
 "nbformat_minor": 2
}
