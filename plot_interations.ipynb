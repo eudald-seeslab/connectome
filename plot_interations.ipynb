{
 "cells": [
  {
   "cell_type": "code",
   "execution_count": 1,
   "metadata": {},
   "outputs": [],
   "source": [
    "import matplotlib.pyplot as plt\n",
    "\n",
    "import config\n",
    "\n",
    "\n",
    "from utils import get_image_paths, select_random_images\n",
    "\n",
    "from data_processing import DataProcessor"
   ]
  },
  {
   "cell_type": "code",
   "execution_count": 7,
   "metadata": {},
   "outputs": [],
   "source": [
    "training_images = get_image_paths(\"images/stripes/train/0\", 10)"
   ]
  },
  {
   "cell_type": "code",
   "execution_count": null,
   "metadata": {},
   "outputs": [],
   "source": []
  },
  {
   "cell_type": "code",
   "execution_count": null,
   "metadata": {},
   "outputs": [],
   "source": [
    "training_images = get_image_paths(\"images/stripes/train/0\", 10)\n",
    "data_processor = DataProcessor(config)"
   ]
  },
  {
   "cell_type": "code",
   "execution_count": 3,
   "metadata": {},
   "outputs": [],
   "source": [
    "batch_files, already_selected = select_random_images(training_images, 10, [])\n",
    "images, labels = data_processor.get_data_from_paths(batch_files)"
   ]
  },
  {
   "cell_type": "code",
   "execution_count": 4,
   "metadata": {},
   "outputs": [],
   "source": [
    "import numpy as np\n",
    "\n",
    "voronoi_color = \"#ff9933\"\n",
    "voronoi_width = 1\n",
    "\n",
    "def plot_voronoi_cells_with_neurons(self, neuron_data, ax):\n",
    "    # Set black background\n",
    "    ax.set_facecolor(\"black\")\n",
    "\n",
    "    # Modern color palette that pops on black:\n",
    "    self.color_map = {\n",
    "        \"R1-6\": \"#ffffff\",  # Bright mint\n",
    "        \"R7\": \"#1e90ff\",  # Bright rose\n",
    "        \"R8p\": \"#50ff50\",  # Bright gold\n",
    "        \"R8y\": \"#ff4d4d\",  # Bright cyan\n",
    "    }\n",
    "\n",
    "    plot_data = neuron_data.copy()\n",
    "\n",
    "    jitter_size = 4\n",
    "\n",
    "    non_r1_6_mask = plot_data[\"cell_type\"] != \"R1-6\"\n",
    "\n",
    "    # Generate random choices between x and y jitter for each point\n",
    "    x_choice = np.random.choice([-jitter_size, jitter_size], size=len(plot_data))\n",
    "\n",
    "    # Where xy_choice is 0, make yx_choice ±2\n",
    "    y_choice = np.random.choice([-jitter_size, jitter_size], size=len(plot_data))\n",
    "\n",
    "    # Apply jitter only to non-R1-6 neurons\n",
    "    plot_data.loc[non_r1_6_mask, \"x_axis\"] += x_choice[non_r1_6_mask]\n",
    "    plot_data.loc[non_r1_6_mask, \"y_axis\"] += y_choice[non_r1_6_mask]\n",
    "\n",
    "    plot_data[\"color\"] = plot_data[\"cell_type\"].apply(lambda x: self.color_map[x])\n",
    "\n",
    "    self._plot_voronoi_cells(ax, line_color=voronoi_color, line_width=voronoi_width)\n",
    "\n",
    "    plot_data[\"y_axis\"] = self.pixel_num - 1 - plot_data[\"y_axis\"]\n",
    "\n",
    "    # Plot neurons with improved visibility\n",
    "    for cell_type, color in self.color_map.items():\n",
    "        points = plot_data[plot_data[\"cell_type\"] == cell_type]\n",
    "        ax.scatter(\n",
    "            points[\"x_axis\"],\n",
    "            points[\"y_axis\"],\n",
    "            color=color,\n",
    "            s= 1 if cell_type == \"R1-6\" else 5,  \n",
    "            alpha=0.8 if cell_type == \"R1-6\" else 1, \n",
    "            label=cell_type,\n",
    "        )\n",
    "\n",
    "    # Legend with white text\n",
    "    legend = ax.legend(title=\"Cell Types\", loc=\"lower right\", frameon=True)\n",
    "    legend.get_frame().set_facecolor(\"black\")\n",
    "    legend.get_frame().set_edgecolor(\"white\")\n",
    "    plt.setp(legend.get_texts(), color=\"white\")\n",
    "    plt.setp(legend.get_title(), color=\"white\")\n",
    "\n",
    "    self.clip_image(ax)"
   ]
  },
  {
   "cell_type": "code",
   "execution_count": 12,
   "metadata": {},
   "outputs": [],
   "source": [
    "%matplotlib inline\n",
    "img = images[3]\n",
    "plt.close(\"all\")\n",
    "fig, axes = plt.subplots(1, 3, figsize=(15, 5))\n",
    "plot_voronoi_cells_with_neurons(\n",
    "    data_processor.voronoi_cells, data_processor.tesselated_neurons, axes[0]\n",
    ")\n",
    "data_processor.plot_neuron_activations(img, axes[1], voronoi_color, voronoi_width)\n",
    "data_processor.voronoi_cells.plot_input_image(img, axes[2])\n",
    "\n",
    "# Add panel labels\n",
    "for ax, label in zip(axes, [\"a\", \"b\", \"c\"]):\n",
    "    ax.text(\n",
    "        0.05,\n",
    "        0.93,\n",
    "        label,\n",
    "        transform=ax.transAxes,\n",
    "        fontsize=20,\n",
    "        fontweight=\"bold\",\n",
    "        color=\"white\",\n",
    "    )\n",
    "\n",
    "plt.tight_layout()\n",
    "# plt.show()\n",
    "plt.savefig(\"plots/stripes.pdf\", dpi=300, bbox_inches=\"tight\")"
   ]
  },
  {
   "cell_type": "code",
   "execution_count": 4,
   "metadata": {},
   "outputs": [],
   "source": [
    "training_images = get_image_paths(\"images/two_shapes3/train/star\", 10)\n",
    "data_processor1 = DataProcessor(config)\n",
    "batch_files, already_selected = select_random_images(training_images, 10, [])\n",
    "images1, labels = data_processor1.get_data_from_paths(batch_files)\n",
    "training_images = get_image_paths(\"images/two_colors/train/blue\", 10)\n",
    "data_processor2 = DataProcessor(config)\n",
    "data_processor2.classes = [\"blue\", \"yellow\"]\n",
    "batch_files, already_selected = select_random_images(training_images, 10, [])\n",
    "images2, labels = data_processor2.get_data_from_paths(batch_files)"
   ]
  },
  {
   "cell_type": "code",
   "execution_count": 4,
   "metadata": {},
   "outputs": [],
   "source": [
    "\n"
   ]
  },
  {
   "cell_type": "code",
   "execution_count": 5,
   "metadata": {},
   "outputs": [],
   "source": [
    "img1 = images1[0]\n",
    "img2 = images2[1]"
   ]
  },
  {
   "cell_type": "code",
   "execution_count": 30,
   "metadata": {},
   "outputs": [],
   "source": [
    "%matplotlib inline\n",
    "plt.close(\"all\")\n",
    "fig = plt.figure(figsize=(15, 10))\n",
    "fig.patch.set_facecolor('#d3d3d3')\n",
    "gs = fig.add_gridspec(2, 4, height_ratios=[1, 1], width_ratios=[1, 1, 1, 1], \n",
    "                     hspace=-0.38, wspace=0.05,)\n",
    "                     #left=0.05, right=0.95, top=0.95, bottom=0.05)\n",
    "\n",
    "ax1 = fig.add_subplot(gs[0:2, 0:2])\n",
    "ax2 = fig.add_subplot(gs[0, 2])    \n",
    "ax3 = fig.add_subplot(gs[0, 3])\n",
    "ax4 = fig.add_subplot(gs[1, 2])    \n",
    "ax5 = fig.add_subplot(gs[1, 3]) \n",
    "\n",
    "axes = [ax1, ax2, ax3, ax4, ax5]\n",
    "\n",
    "# First row - original image\n",
    "plot_voronoi_cells_with_neurons(\n",
    "    data_processor1.voronoi_cells, data_processor1.tesselated_neurons, ax1\n",
    ")\n",
    "data_processor1.plot_neuron_activations(img1, ax2, voronoi_color, voronoi_width)\n",
    "data_processor1.voronoi_cells.plot_input_image(img1, ax3)\n",
    "\n",
    "# Second row - new image\n",
    "data_processor2.plot_neuron_activations(img2, ax4, voronoi_color, voronoi_width)\n",
    "data_processor2.voronoi_cells.plot_input_image(img2, ax5)\n",
    "\n",
    "# Add panel labels to all subplots\n",
    "labels = [\"a\", \"b\", \"c\", \"d\", \"e\"]\n",
    "for ax, label in zip(axes, [\"a\", \"b\", \"c\", \"d\", \"e\"]):\n",
    "    ax.text(\n",
    "        0.05,\n",
    "        0.95 if label == \"a\" else 0.9,\n",
    "        label,\n",
    "        transform=ax.transAxes,\n",
    "        fontsize=20,\n",
    "        fontweight=\"bold\",\n",
    "        color=\"white\",\n",
    "    )\n",
    "\n",
    "# plt.tight_layout()\n",
    "# plt.show()\n",
    "plt.savefig(\"plots/input_tesselation.pdf\", dpi=300, bbox_inches=\"tight\")"
   ]
  },
  {
   "cell_type": "code",
   "execution_count": null,
   "metadata": {},
   "outputs": [],
   "source": []
  }
 ],
 "metadata": {
  "kernelspec": {
   "display_name": "venv",
   "language": "python",
   "name": "python3"
  },
  "language_info": {
   "codemirror_mode": {
    "name": "ipython",
    "version": 3
   },
   "file_extension": ".py",
   "mimetype": "text/x-python",
   "name": "python",
   "nbconvert_exporter": "python",
   "pygments_lexer": "ipython3",
   "version": "3.12.3"
  }
 },
 "nbformat": 4,
 "nbformat_minor": 2
}
