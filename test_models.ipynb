{
 "cells": [
  {
   "cell_type": "code",
   "execution_count": null,
   "id": "initial_id",
   "metadata": {
    "collapsed": true
   },
   "outputs": [],
   "source": [
    "from torch.version import cuda\n",
    "from torch import device\n",
    "import os\n",
    "import torch\n",
    "from tqdm import tqdm\n",
    "\n",
    "from data_parser import adj_matrix, nodes\n",
    "from network_models import CombinedModel, RETINA_MODEL\n",
    "from image_parser import test_loader\n",
    "\n",
    "\n",
    "dev = device(\"cuda\" if cuda.is_available() else \"cpu\")"
   ]
  },
  {
   "cell_type": "code",
   "execution_count": null,
   "outputs": [],
   "source": [
    "model = CombinedModel(adj_matrix, nodes, RETINA_MODEL)\n",
    "model.load_state_dict(torch.load(os.path.join(\"models\", \"model_cnn_1_51_epochs.pth\")), strict=False)\n",
    "model = model.to(dev)\n",
    "model.eval()"
   ],
   "metadata": {
    "collapsed": false
   },
   "id": "67abd9ccdf58ac"
  },
  {
   "cell_type": "code",
   "execution_count": null,
   "outputs": [],
   "source": [
    "# Test de model\n",
    "correct = 0\n",
    "total = 0\n",
    "with torch.no_grad():\n",
    "    for images, labels in tqdm(test_loader):\n",
    "        images, labels = images.to(dev), labels.to(dev)\n",
    "        outputs = model(images)\n",
    "        _, predicted = torch.max(outputs.data, 1)\n",
    "        total += labels.size(0)\n",
    "        correct += (predicted == labels).sum()"
   ],
   "metadata": {
    "collapsed": false
   },
   "id": "d38da0a6c7ec9513"
  },
  {
   "cell_type": "code",
   "execution_count": null,
   "outputs": [],
   "source": [
    "print(f\"Accuracy on the {total} test images: {100 * correct / total}%\")"
   ],
   "metadata": {
    "collapsed": false
   },
   "id": "cbd368d9734a54f8"
  }
 ],
 "metadata": {
  "kernelspec": {
   "display_name": "Python 3",
   "language": "python",
   "name": "python3"
  },
  "language_info": {
   "codemirror_mode": {
    "name": "ipython",
    "version": 2
   },
   "file_extension": ".py",
   "mimetype": "text/x-python",
   "name": "python",
   "nbconvert_exporter": "python",
   "pygments_lexer": "ipython2",
   "version": "2.7.6"
  }
 },
 "nbformat": 4,
 "nbformat_minor": 5
}
