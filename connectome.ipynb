{
 "cells": [
  {
   "cell_type": "code",
   "execution_count": 2,
   "outputs": [],
   "source": [
    "import os\n",
    "\n",
    "from torch import nn, optim, device, cuda\n",
    "import torch\n",
    "\n",
    "import yaml\n",
    "from tqdm.notebook import tqdm, trange\n",
    "\n",
    "from data_parser import adj_matrix, nodes\n",
    "from image_parser import train_loader, test_loader\n",
    "from utils import check_for_missing_values\n",
    "\n",
    "from network_models import CombinedModel\n",
    "from model_config_manager import ModelConfigManager"
   ],
   "metadata": {
    "collapsed": false,
    "ExecuteTime": {
     "end_time": "2023-08-25T09:29:52.684535200Z",
     "start_time": "2023-08-25T09:29:48.417500800Z"
    }
   }
  },
  {
   "cell_type": "code",
   "execution_count": 3,
   "outputs": [
    {
     "name": "stdout",
     "output_type": "stream",
     "text": [
      "Model configurations:\n",
      "Model name: vgg16\n",
      "This is a pretrained model\n"
     ]
    }
   ],
   "source": [
    "config = yaml.safe_load(open(\"config.yml\"))\n",
    "epochs = config[\"EPOCHS\"]\n",
    "RETINA_MODEL = config[\"RETINA_MODEL\"]\n",
    "DEBUG = config[\"DEBUG\"]\n",
    "\n",
    "# Create the ModelConfigManager and load configurations from YAML files\n",
    "# FIXME: duplicated code\n",
    "config_manager = ModelConfigManager()\n",
    "config_manager.load_configs_from_yaml([\"cnn_1.yml\", \"cnn_2.yml\"])\n",
    "\n",
    "# Get a specific configuration by model name\n",
    "config_manager.set_model_config(RETINA_MODEL)\n",
    "config_manager.output_model_details()"
   ],
   "metadata": {
    "collapsed": false,
    "ExecuteTime": {
     "end_time": "2023-08-25T09:29:56.523355200Z",
     "start_time": "2023-08-25T09:29:56.512073200Z"
    }
   }
  },
  {
   "cell_type": "code",
   "execution_count": 4,
   "outputs": [
    {
     "name": "stderr",
     "output_type": "stream",
     "text": [
      "C:\\Users\\eudald\\Desktop\\doctorat\\codi\\connectome\\venv\\Lib\\site-packages\\torchvision\\models\\_utils.py:208: UserWarning: The parameter 'pretrained' is deprecated since 0.13 and may be removed in the future, please use 'weights' instead.\n",
      "  warnings.warn(\n",
      "C:\\Users\\eudald\\Desktop\\doctorat\\codi\\connectome\\venv\\Lib\\site-packages\\torchvision\\models\\_utils.py:223: UserWarning: Arguments other than a weight enum or `None` for 'weights' are deprecated since 0.13 and may be removed in the future. The current behavior is equivalent to passing `weights=VGG16_Weights.IMAGENET1K_V1`. You can also use `weights=VGG16_Weights.DEFAULT` to get the most up-to-date weights.\n",
      "  warnings.warn(msg)\n"
     ]
    }
   ],
   "source": [
    "# Initialize the combined model\n",
    "combined_model = CombinedModel(adj_matrix, neurons=nodes, model_config=config_manager.model_config)\n",
    "dev = device(\"cuda\" if cuda.is_available() else \"cpu\")\n",
    "combined_model = combined_model.to(dev)\n",
    "\n",
    "# Specify the loss function and the optimizer\n",
    "criterion = nn.NLLLoss()\n",
    "optimizer = optim.Adam(combined_model.parameters(), lr=0.00001)"
   ],
   "metadata": {
    "collapsed": false,
    "ExecuteTime": {
     "end_time": "2023-08-25T09:30:08.055998800Z",
     "start_time": "2023-08-25T09:29:57.418070900Z"
    }
   }
  },
  {
   "cell_type": "code",
   "execution_count": null,
   "outputs": [
    {
     "name": "stderr",
     "output_type": "stream",
     "text": [
      "  0%|          | 0/100 [00:00<?, ?it/s]\n",
      "  0%|          | 0/680 [00:00<?, ?it/s]\u001B[A\n",
      "  0%|          | 1/680 [00:03<39:57,  3.53s/it]\u001B[A\n",
      "  0%|          | 2/680 [00:06<34:49,  3.08s/it]\u001B[A\n",
      "  0%|          | 3/680 [00:09<34:14,  3.03s/it]\u001B[A\n",
      "  1%|          | 4/680 [00:12<33:56,  3.01s/it]\u001B[A\n",
      "  1%|          | 5/680 [00:15<33:47,  3.00s/it]\u001B[A\n",
      "  1%|          | 6/680 [00:16<26:04,  2.32s/it]\u001B[A\n",
      "  1%|          | 7/680 [00:20<31:41,  2.83s/it]\u001B[A\n",
      "  1%|          | 8/680 [00:23<33:18,  2.97s/it]\u001B[A\n",
      "  1%|▏         | 9/680 [00:26<34:41,  3.10s/it]\u001B[A\n",
      "  1%|▏         | 10/680 [00:29<33:11,  2.97s/it]\u001B[A\n",
      "  2%|▏         | 11/680 [00:32<34:41,  3.11s/it]\u001B[A\n",
      "  2%|▏         | 12/680 [00:36<35:40,  3.20s/it]\u001B[A\n",
      "  2%|▏         | 13/680 [00:39<34:11,  3.08s/it]\u001B[A\n",
      "  2%|▏         | 14/680 [00:42<35:21,  3.18s/it]\u001B[A\n",
      "  2%|▏         | 15/680 [00:45<36:04,  3.25s/it]\u001B[A\n",
      "  2%|▏         | 16/680 [00:48<34:32,  3.12s/it]\u001B[A\n",
      "  2%|▎         | 17/680 [00:51<34:21,  3.11s/it]\u001B[A\n",
      "  3%|▎         | 18/680 [00:54<34:12,  3.10s/it]\u001B[A\n",
      "  3%|▎         | 19/680 [00:57<33:37,  3.05s/it]\u001B[A\n",
      "  3%|▎         | 20/680 [01:01<34:18,  3.12s/it]\u001B[A\n",
      "  3%|▎         | 21/680 [01:04<33:40,  3.07s/it]\u001B[A\n",
      "  3%|▎         | 22/680 [01:06<31:22,  2.86s/it]\u001B[A\n",
      "  3%|▎         | 23/680 [01:09<31:39,  2.89s/it]\u001B[A\n",
      "  4%|▎         | 24/680 [01:12<32:13,  2.95s/it]\u001B[A\n",
      "  4%|▎         | 25/680 [01:14<30:38,  2.81s/it]\u001B[A\n",
      "  4%|▍         | 26/680 [01:17<31:00,  2.85s/it]\u001B[A\n",
      "  4%|▍         | 27/680 [01:20<31:16,  2.87s/it]\u001B[A\n",
      "  4%|▍         | 28/680 [01:23<29:50,  2.75s/it]\u001B[A\n",
      "  4%|▍         | 29/680 [01:26<30:26,  2.81s/it]\u001B[A\n",
      "  4%|▍         | 30/680 [01:29<30:42,  2.84s/it]\u001B[A\n",
      "  5%|▍         | 31/680 [01:31<30:10,  2.79s/it]\u001B[A\n",
      "  5%|▍         | 32/680 [01:35<32:28,  3.01s/it]\u001B[A\n",
      "  5%|▍         | 33/680 [01:38<32:31,  3.02s/it]\u001B[A\n",
      "  5%|▌         | 34/680 [01:40<30:23,  2.82s/it]\u001B[A\n",
      "  5%|▌         | 35/680 [01:43<30:47,  2.86s/it]\u001B[A\n",
      "  5%|▌         | 36/680 [01:46<31:36,  2.94s/it]\u001B[A\n",
      "  5%|▌         | 37/680 [01:49<30:08,  2.81s/it]\u001B[A\n",
      "  6%|▌         | 38/680 [01:52<31:31,  2.95s/it]\u001B[A\n",
      "  6%|▌         | 39/680 [01:55<31:38,  2.96s/it]\u001B[A\n",
      "  6%|▌         | 40/680 [01:58<30:01,  2.82s/it]\u001B[A\n",
      "  6%|▌         | 41/680 [02:01<30:42,  2.88s/it]\u001B[A\n",
      "  6%|▌         | 42/680 [02:04<30:58,  2.91s/it]\u001B[A\n",
      "  6%|▋         | 43/680 [02:06<30:02,  2.83s/it]\u001B[A\n",
      "  6%|▋         | 44/680 [02:09<30:37,  2.89s/it]\u001B[A\n",
      "  7%|▋         | 45/680 [02:13<32:03,  3.03s/it]\u001B[A\n",
      "  7%|▋         | 46/680 [02:15<31:04,  2.94s/it]\u001B[A\n",
      "  7%|▋         | 47/680 [02:19<32:05,  3.04s/it]\u001B[A\n",
      "  7%|▋         | 48/680 [02:22<32:37,  3.10s/it]\u001B[A\n",
      "  7%|▋         | 49/680 [02:25<31:31,  3.00s/it]\u001B[A\n",
      "  7%|▋         | 50/680 [02:28<33:02,  3.15s/it]\u001B[A\n",
      "  8%|▊         | 51/680 [02:31<33:17,  3.18s/it]\u001B[A\n",
      "  8%|▊         | 52/680 [02:34<31:27,  3.01s/it]\u001B[A\n",
      "  8%|▊         | 53/680 [02:37<32:43,  3.13s/it]\u001B[A\n",
      "  8%|▊         | 54/680 [02:41<33:00,  3.16s/it]\u001B[A\n",
      "  8%|▊         | 55/680 [02:43<31:18,  3.01s/it]\u001B[A\n",
      "  8%|▊         | 56/680 [02:47<32:18,  3.11s/it]\u001B[A\n",
      "  8%|▊         | 57/680 [02:50<33:36,  3.24s/it]\u001B[A\n",
      "  9%|▊         | 58/680 [02:53<31:38,  3.05s/it]\u001B[A\n",
      "  9%|▊         | 59/680 [02:56<32:06,  3.10s/it]\u001B[A\n",
      "  9%|▉         | 60/680 [02:59<32:38,  3.16s/it]\u001B[A\n",
      "  9%|▉         | 61/680 [03:02<31:09,  3.02s/it]\u001B[A\n",
      "  9%|▉         | 62/680 [03:05<32:27,  3.15s/it]\u001B[A\n",
      "  9%|▉         | 63/680 [03:09<32:36,  3.17s/it]\u001B[A\n",
      "  9%|▉         | 64/680 [03:11<30:48,  3.00s/it]\u001B[A\n",
      " 10%|▉         | 65/680 [03:15<31:30,  3.07s/it]\u001B[A\n",
      " 10%|▉         | 66/680 [03:18<32:02,  3.13s/it]\u001B[A\n",
      " 10%|▉         | 67/680 [03:20<30:25,  2.98s/it]\u001B[A\n",
      " 10%|█         | 68/680 [03:24<31:09,  3.05s/it]\u001B[A\n",
      " 10%|█         | 69/680 [03:27<31:35,  3.10s/it]\u001B[A\n",
      " 10%|█         | 70/680 [03:29<30:05,  2.96s/it]\u001B[A\n",
      " 10%|█         | 71/680 [03:33<30:48,  3.03s/it]\u001B[A\n",
      " 11%|█         | 72/680 [03:36<31:17,  3.09s/it]\u001B[A\n",
      " 11%|█         | 73/680 [03:39<29:48,  2.95s/it]\u001B[A\n",
      " 11%|█         | 74/680 [03:42<30:35,  3.03s/it]\u001B[A\n",
      " 11%|█         | 75/680 [03:45<31:09,  3.09s/it]\u001B[A\n",
      " 11%|█         | 76/680 [03:48<29:39,  2.95s/it]\u001B[A\n",
      " 11%|█▏        | 77/680 [03:51<30:28,  3.03s/it]\u001B[A\n",
      " 11%|█▏        | 78/680 [03:54<31:37,  3.15s/it]\u001B[A\n",
      " 12%|█▏        | 79/680 [03:57<29:56,  2.99s/it]\u001B[A\n",
      " 12%|█▏        | 80/680 [04:00<30:58,  3.10s/it]\u001B[A\n",
      " 12%|█▏        | 81/680 [04:03<31:21,  3.14s/it]\u001B[A\n",
      " 12%|█▏        | 82/680 [04:06<29:44,  2.98s/it]\u001B[A\n",
      " 12%|█▏        | 83/680 [04:09<30:20,  3.05s/it]\u001B[A\n",
      " 12%|█▏        | 84/680 [04:12<30:44,  3.09s/it]\u001B[A\n",
      " 12%|█▎        | 85/680 [04:15<29:16,  2.95s/it]\u001B[A\n",
      " 13%|█▎        | 86/680 [04:18<30:04,  3.04s/it]\u001B[A\n",
      " 13%|█▎        | 87/680 [04:22<30:47,  3.12s/it]\u001B[A\n",
      " 13%|█▎        | 88/680 [04:24<29:49,  3.02s/it]\u001B[A\n",
      " 13%|█▎        | 89/680 [04:28<30:48,  3.13s/it]\u001B[A\n",
      " 13%|█▎        | 90/680 [04:31<30:25,  3.09s/it]\u001B[A\n",
      " 13%|█▎        | 91/680 [04:33<28:43,  2.93s/it]\u001B[A\n",
      " 14%|█▎        | 92/680 [04:36<28:57,  2.96s/it]\u001B[A\n",
      " 14%|█▎        | 93/680 [04:40<29:27,  3.01s/it]\u001B[A\n",
      " 14%|█▍        | 94/680 [04:42<28:55,  2.96s/it]\u001B[A\n",
      " 14%|█▍        | 95/680 [04:46<29:44,  3.05s/it]\u001B[A\n",
      " 14%|█▍        | 96/680 [04:49<31:33,  3.24s/it]\u001B[A\n",
      " 14%|█▍        | 97/680 [04:52<30:02,  3.09s/it]\u001B[A\n",
      " 14%|█▍        | 98/680 [04:55<30:20,  3.13s/it]\u001B[A\n",
      " 15%|█▍        | 99/680 [04:58<30:08,  3.11s/it]\u001B[A\n",
      " 15%|█▍        | 100/680 [05:01<29:19,  3.03s/it]\u001B[A\n",
      " 15%|█▍        | 101/680 [05:04<29:05,  3.01s/it]\u001B[A\n",
      " 15%|█▌        | 102/680 [05:07<28:47,  2.99s/it]\u001B[A\n",
      " 15%|█▌        | 103/680 [05:09<27:04,  2.82s/it]\u001B[A\n",
      " 15%|█▌        | 104/680 [05:13<27:37,  2.88s/it]\u001B[A\n",
      " 15%|█▌        | 105/680 [05:16<28:50,  3.01s/it]\u001B[A\n",
      " 16%|█▌        | 106/680 [05:18<27:02,  2.83s/it]\u001B[A\n",
      " 16%|█▌        | 107/680 [05:21<27:18,  2.86s/it]\u001B[A\n",
      " 16%|█▌        | 108/680 [05:24<27:36,  2.90s/it]\u001B[A\n",
      " 16%|█▌        | 109/680 [05:27<27:32,  2.89s/it]\u001B[A\n",
      " 16%|█▌        | 110/680 [05:31<29:55,  3.15s/it]\u001B[A\n",
      " 16%|█▋        | 111/680 [05:34<30:33,  3.22s/it]\u001B[A\n",
      " 16%|█▋        | 112/680 [05:37<28:16,  2.99s/it]\u001B[A\n",
      " 17%|█▋        | 113/680 [05:40<29:17,  3.10s/it]\u001B[A\n",
      " 17%|█▋        | 114/680 [05:43<30:06,  3.19s/it]\u001B[A\n",
      " 17%|█▋        | 115/680 [05:46<28:58,  3.08s/it]\u001B[A\n",
      " 17%|█▋        | 116/680 [05:50<29:55,  3.18s/it]\u001B[A\n",
      " 17%|█▋        | 117/680 [05:53<29:23,  3.13s/it]\u001B[A\n",
      " 17%|█▋        | 118/680 [05:55<27:57,  2.98s/it]\u001B[A\n",
      " 18%|█▊        | 119/680 [05:59<29:19,  3.14s/it]\u001B[A\n",
      " 18%|█▊        | 120/680 [06:02<30:27,  3.26s/it]\u001B[A\n",
      " 18%|█▊        | 121/680 [06:05<28:38,  3.07s/it]\u001B[A\n",
      " 18%|█▊        | 122/680 [06:08<29:07,  3.13s/it]\u001B[A\n",
      " 18%|█▊        | 123/680 [06:11<29:17,  3.15s/it]\u001B[A\n",
      " 18%|█▊        | 124/680 [06:14<27:58,  3.02s/it]\u001B[A\n",
      " 18%|█▊        | 125/680 [06:17<28:39,  3.10s/it]\u001B[A\n",
      " 19%|█▊        | 126/680 [06:21<28:52,  3.13s/it]\u001B[A\n",
      " 19%|█▊        | 127/680 [06:23<27:47,  3.01s/it]\u001B[A\n",
      " 19%|█▉        | 128/680 [06:27<28:57,  3.15s/it]\u001B[A\n",
      " 19%|█▉        | 129/680 [06:30<30:00,  3.27s/it]\u001B[A\n",
      " 19%|█▉        | 130/680 [06:33<28:15,  3.08s/it]\u001B[A\n",
      " 19%|█▉        | 131/680 [06:36<29:00,  3.17s/it]\u001B[A\n",
      " 19%|█▉        | 132/680 [06:40<29:14,  3.20s/it]\u001B[A\n",
      " 20%|█▉        | 133/680 [06:42<27:49,  3.05s/it]\u001B[A\n",
      " 20%|█▉        | 134/680 [06:46<29:54,  3.29s/it]\u001B[A\n",
      " 20%|█▉        | 135/680 [06:50<30:44,  3.39s/it]\u001B[A\n",
      " 20%|██        | 136/680 [06:53<29:19,  3.23s/it]\u001B[A\n",
      " 20%|██        | 137/680 [06:56<29:45,  3.29s/it]\u001B[A\n",
      " 20%|██        | 138/680 [06:59<29:51,  3.31s/it]\u001B[A\n",
      " 20%|██        | 139/680 [07:02<28:16,  3.14s/it]\u001B[A\n",
      " 21%|██        | 140/680 [07:06<28:43,  3.19s/it]\u001B[A\n",
      " 21%|██        | 141/680 [07:09<28:46,  3.20s/it]\u001B[A\n",
      " 21%|██        | 142/680 [07:11<27:15,  3.04s/it]\u001B[A\n",
      " 21%|██        | 143/680 [07:15<27:55,  3.12s/it]\u001B[A\n",
      " 21%|██        | 144/680 [07:18<28:21,  3.17s/it]\u001B[A\n",
      " 21%|██▏       | 145/680 [07:21<28:10,  3.16s/it]\u001B[A\n",
      " 21%|██▏       | 146/680 [07:25<28:38,  3.22s/it]\u001B[A\n",
      " 22%|██▏       | 147/680 [07:28<28:43,  3.23s/it]\u001B[A\n",
      " 22%|██▏       | 148/680 [07:30<27:14,  3.07s/it]\u001B[A\n",
      " 22%|██▏       | 149/680 [07:34<27:49,  3.14s/it]\u001B[A\n",
      " 22%|██▏       | 150/680 [07:37<28:33,  3.23s/it]\u001B[A\n",
      " 22%|██▏       | 151/680 [07:40<26:53,  3.05s/it]\u001B[A\n",
      " 22%|██▏       | 152/680 [07:43<27:37,  3.14s/it]\u001B[A\n",
      " 22%|██▎       | 153/680 [07:47<28:03,  3.19s/it]\u001B[A\n",
      " 23%|██▎       | 154/680 [07:49<26:43,  3.05s/it]\u001B[A\n",
      " 23%|██▎       | 155/680 [07:53<28:49,  3.29s/it]\u001B[A\n",
      " 23%|██▎       | 156/680 [07:56<28:50,  3.30s/it]\u001B[A\n",
      " 23%|██▎       | 157/680 [07:59<27:18,  3.13s/it]\u001B[A\n",
      " 23%|██▎       | 158/680 [08:02<27:36,  3.17s/it]\u001B[A\n",
      " 23%|██▎       | 159/680 [08:06<27:54,  3.21s/it]\u001B[A\n",
      " 24%|██▎       | 160/680 [08:08<26:32,  3.06s/it]\u001B[A\n",
      " 24%|██▎       | 161/680 [08:12<27:22,  3.16s/it]\u001B[A\n",
      " 24%|██▍       | 162/680 [08:15<28:02,  3.25s/it]\u001B[A\n",
      " 24%|██▍       | 163/680 [08:18<26:36,  3.09s/it]\u001B[A\n",
      " 24%|██▍       | 164/680 [08:21<27:21,  3.18s/it]\u001B[A\n",
      " 24%|██▍       | 165/680 [08:25<27:52,  3.25s/it]\u001B[A\n",
      " 24%|██▍       | 166/680 [08:28<26:49,  3.13s/it]\u001B[A\n",
      " 25%|██▍       | 167/680 [08:31<27:49,  3.25s/it]\u001B[A\n",
      " 25%|██▍       | 168/680 [08:35<27:58,  3.28s/it]\u001B[A\n",
      " 25%|██▍       | 169/680 [08:37<27:02,  3.18s/it]\u001B[A\n",
      " 25%|██▌       | 170/680 [08:41<27:39,  3.25s/it]\u001B[A\n",
      " 25%|██▌       | 171/680 [08:44<26:53,  3.17s/it]\u001B[A\n",
      " 25%|██▌       | 172/680 [08:46<24:59,  2.95s/it]\u001B[A\n",
      " 25%|██▌       | 173/680 [08:49<25:02,  2.96s/it]\u001B[A\n",
      " 26%|██▌       | 174/680 [08:52<24:59,  2.96s/it]\u001B[A\n",
      " 26%|██▌       | 175/680 [08:55<23:35,  2.80s/it]\u001B[A\n",
      " 26%|██▌       | 176/680 [08:58<24:00,  2.86s/it]\u001B[A\n",
      " 26%|██▌       | 177/680 [09:01<24:19,  2.90s/it]\u001B[A\n",
      " 26%|██▌       | 178/680 [09:03<23:05,  2.76s/it]\u001B[A\n",
      " 26%|██▋       | 179/680 [09:06<23:50,  2.86s/it]\u001B[A\n",
      " 26%|██▋       | 180/680 [09:09<24:28,  2.94s/it]\u001B[A\n",
      " 27%|██▋       | 181/680 [09:12<23:23,  2.81s/it]\u001B[A\n",
      " 27%|██▋       | 182/680 [09:15<24:20,  2.93s/it]\u001B[A\n",
      " 27%|██▋       | 183/680 [09:18<25:07,  3.03s/it]\u001B[A\n",
      " 27%|██▋       | 184/680 [09:21<23:42,  2.87s/it]\u001B[A\n",
      " 27%|██▋       | 185/680 [09:24<24:02,  2.91s/it]\u001B[A\n",
      " 27%|██▋       | 186/680 [09:27<24:10,  2.94s/it]\u001B[A\n",
      " 28%|██▊       | 187/680 [09:29<23:07,  2.81s/it]\u001B[A\n",
      " 28%|██▊       | 188/680 [09:32<23:43,  2.89s/it]\u001B[A\n",
      " 28%|██▊       | 189/680 [09:36<24:47,  3.03s/it]\u001B[A\n",
      " 28%|██▊       | 190/680 [09:38<23:40,  2.90s/it]\u001B[A\n",
      " 28%|██▊       | 191/680 [09:42<24:22,  2.99s/it]\u001B[A\n",
      " 28%|██▊       | 192/680 [09:45<24:16,  2.99s/it]\u001B[A\n",
      " 28%|██▊       | 193/680 [09:47<23:03,  2.84s/it]\u001B[A\n",
      " 29%|██▊       | 194/680 [09:50<24:09,  2.98s/it]\u001B[A\n",
      " 29%|██▊       | 195/680 [09:53<24:14,  3.00s/it]\u001B[A\n",
      " 29%|██▉       | 196/680 [09:56<22:53,  2.84s/it]\u001B[A\n",
      " 29%|██▉       | 197/680 [09:59<23:11,  2.88s/it]\u001B[A\n",
      " 29%|██▉       | 198/680 [10:02<23:56,  2.98s/it]\u001B[A\n",
      " 29%|██▉       | 199/680 [10:05<23:23,  2.92s/it]\u001B[A\n",
      " 29%|██▉       | 200/680 [10:08<24:52,  3.11s/it]\u001B[A\n",
      " 30%|██▉       | 201/680 [10:12<25:22,  3.18s/it]\u001B[A\n",
      " 30%|██▉       | 202/680 [10:14<24:12,  3.04s/it]\u001B[A\n",
      " 30%|██▉       | 203/680 [10:18<24:58,  3.14s/it]\u001B[A\n",
      " 30%|███       | 204/680 [10:21<24:51,  3.13s/it]\u001B[A\n",
      " 30%|███       | 205/680 [10:23<23:25,  2.96s/it]\u001B[A\n",
      " 30%|███       | 206/680 [10:27<24:29,  3.10s/it]\u001B[A\n",
      " 30%|███       | 207/680 [10:30<25:29,  3.23s/it]\u001B[A\n",
      " 31%|███       | 208/680 [10:33<24:05,  3.06s/it]\u001B[A\n",
      " 31%|███       | 209/680 [10:36<24:31,  3.12s/it]\u001B[A\n",
      " 31%|███       | 210/680 [10:40<24:36,  3.14s/it]\u001B[A\n",
      " 31%|███       | 211/680 [10:42<23:17,  2.98s/it]\u001B[A\n",
      " 31%|███       | 212/680 [10:46<24:12,  3.10s/it]\u001B[A\n",
      " 31%|███▏      | 213/680 [10:49<24:32,  3.15s/it]\u001B[A\n",
      " 31%|███▏      | 214/680 [10:51<23:14,  2.99s/it]\u001B[A\n",
      " 32%|███▏      | 215/680 [10:55<23:42,  3.06s/it]\u001B[A\n",
      " 32%|███▏      | 216/680 [10:58<24:00,  3.10s/it]\u001B[A\n",
      " 32%|███▏      | 217/680 [11:00<22:46,  2.95s/it]\u001B[A\n",
      " 32%|███▏      | 218/680 [11:04<23:18,  3.03s/it]\u001B[A\n",
      " 32%|███▏      | 219/680 [11:07<23:44,  3.09s/it]\u001B[A\n",
      " 32%|███▏      | 220/680 [11:10<22:37,  2.95s/it]\u001B[A\n",
      " 32%|███▎      | 221/680 [11:13<23:13,  3.04s/it]\u001B[A\n",
      " 33%|███▎      | 222/680 [11:16<23:34,  3.09s/it]\u001B[A\n",
      " 33%|███▎      | 223/680 [11:19<22:48,  2.99s/it]\u001B[A\n",
      " 33%|███▎      | 224/680 [11:22<23:05,  3.04s/it]\u001B[A\n",
      " 33%|███▎      | 225/680 [11:25<22:54,  3.02s/it]\u001B[A\n",
      " 33%|███▎      | 226/680 [11:27<21:40,  2.87s/it]\u001B[A\n",
      " 33%|███▎      | 227/680 [11:31<22:11,  2.94s/it]\u001B[A\n",
      " 34%|███▎      | 228/680 [11:33<22:11,  2.95s/it]\u001B[A\n",
      " 34%|███▎      | 229/680 [11:36<20:56,  2.79s/it]\u001B[A\n",
      " 34%|███▍      | 230/680 [11:39<21:17,  2.84s/it]\u001B[A\n",
      " 34%|███▍      | 231/680 [11:42<21:56,  2.93s/it]\u001B[A\n",
      " 34%|███▍      | 232/680 [11:45<21:14,  2.84s/it]\u001B[A\n",
      " 34%|███▍      | 233/680 [11:48<22:14,  2.98s/it]\u001B[A\n",
      " 34%|███▍      | 234/680 [11:51<22:38,  3.05s/it]\u001B[A\n",
      " 35%|███▍      | 235/680 [11:54<21:39,  2.92s/it]\u001B[A\n",
      " 35%|███▍      | 236/680 [11:57<21:41,  2.93s/it]\u001B[A\n",
      " 35%|███▍      | 237/680 [12:00<21:44,  2.94s/it]\u001B[A\n",
      " 35%|███▌      | 238/680 [12:02<20:32,  2.79s/it]\u001B[A\n",
      " 35%|███▌      | 239/680 [12:05<20:52,  2.84s/it]\u001B[A\n",
      " 35%|███▌      | 240/680 [12:08<21:39,  2.95s/it]\u001B[A\n",
      " 35%|███▌      | 241/680 [12:11<20:39,  2.82s/it]\u001B[A\n",
      " 36%|███▌      | 242/680 [12:14<21:10,  2.90s/it]\u001B[A\n",
      " 36%|███▌      | 243/680 [12:17<22:02,  3.03s/it]\u001B[A\n",
      " 36%|███▌      | 244/680 [12:20<21:08,  2.91s/it]\u001B[A\n",
      " 36%|███▌      | 245/680 [12:23<21:47,  3.01s/it]\u001B[A\n",
      " 36%|███▌      | 246/680 [12:26<22:33,  3.12s/it]\u001B[A\n",
      " 36%|███▋      | 247/680 [12:29<21:52,  3.03s/it]\u001B[A\n",
      " 36%|███▋      | 248/680 [12:33<22:16,  3.09s/it]\u001B[A\n",
      " 37%|███▋      | 249/680 [12:36<22:20,  3.11s/it]\u001B[A\n",
      " 37%|███▋      | 250/680 [12:39<21:52,  3.05s/it]\u001B[A\n",
      " 37%|███▋      | 251/680 [12:42<22:18,  3.12s/it]\u001B[A\n",
      " 37%|███▋      | 252/680 [12:45<22:28,  3.15s/it]\u001B[A\n",
      " 37%|███▋      | 253/680 [12:48<21:19,  3.00s/it]\u001B[A\n",
      " 37%|███▋      | 254/680 [12:51<21:59,  3.10s/it]\u001B[A\n",
      " 38%|███▊      | 255/680 [12:54<22:13,  3.14s/it]\u001B[A\n",
      " 38%|███▊      | 256/680 [12:57<21:04,  2.98s/it]\u001B[A\n",
      " 38%|███▊      | 257/680 [13:00<21:33,  3.06s/it]\u001B[A\n",
      " 38%|███▊      | 258/680 [13:03<21:49,  3.10s/it]\u001B[A\n",
      " 38%|███▊      | 259/680 [13:06<20:44,  2.96s/it]\u001B[A\n",
      " 38%|███▊      | 260/680 [13:09<21:08,  3.02s/it]\u001B[A\n",
      " 38%|███▊      | 261/680 [13:12<21:24,  3.06s/it]\u001B[A\n",
      " 39%|███▊      | 262/680 [13:15<20:36,  2.96s/it]\u001B[A\n",
      " 39%|███▊      | 263/680 [13:18<20:57,  3.02s/it]\u001B[A\n",
      " 39%|███▉      | 264/680 [13:21<21:05,  3.04s/it]\u001B[A\n",
      " 39%|███▉      | 265/680 [13:24<20:07,  2.91s/it]\u001B[A\n",
      " 39%|███▉      | 266/680 [13:27<20:59,  3.04s/it]\u001B[A\n",
      " 39%|███▉      | 267/680 [13:31<21:26,  3.11s/it]\u001B[A\n",
      " 39%|███▉      | 268/680 [13:33<20:27,  2.98s/it]\u001B[A\n",
      " 40%|███▉      | 269/680 [13:36<21:05,  3.08s/it]\u001B[A\n",
      " 40%|███▉      | 270/680 [13:40<22:26,  3.28s/it]\u001B[A\n",
      " 40%|███▉      | 271/680 [13:43<21:07,  3.10s/it]\u001B[A\n",
      " 40%|████      | 272/680 [13:46<21:19,  3.14s/it]\u001B[A\n",
      " 40%|████      | 273/680 [13:49<21:23,  3.15s/it]\u001B[A\n",
      " 40%|████      | 274/680 [13:52<20:24,  3.02s/it]\u001B[A\n",
      " 40%|████      | 275/680 [13:55<20:42,  3.07s/it]\u001B[A\n",
      " 41%|████      | 276/680 [13:59<21:28,  3.19s/it]\u001B[A\n",
      " 41%|████      | 277/680 [14:02<21:03,  3.14s/it]\u001B[A\n",
      " 41%|████      | 278/680 [14:05<21:23,  3.19s/it]\u001B[A\n",
      " 41%|████      | 279/680 [14:08<21:54,  3.28s/it]\u001B[A\n",
      " 41%|████      | 280/680 [14:11<20:38,  3.10s/it]\u001B[A\n",
      " 41%|████▏     | 281/680 [14:14<20:55,  3.15s/it]\u001B[A\n",
      " 41%|████▏     | 282/680 [14:18<22:02,  3.32s/it]\u001B[A\n",
      " 42%|████▏     | 283/680 [14:21<20:27,  3.09s/it]\u001B[A\n",
      " 42%|████▏     | 284/680 [14:24<20:36,  3.12s/it]\u001B[A\n",
      " 42%|████▏     | 285/680 [14:27<20:46,  3.16s/it]\u001B[A\n",
      " 42%|████▏     | 286/680 [14:30<19:38,  2.99s/it]\u001B[A\n",
      " 42%|████▏     | 287/680 [14:33<19:56,  3.05s/it]\u001B[A\n",
      " 42%|████▏     | 288/680 [14:36<20:14,  3.10s/it]\u001B[A\n",
      " 42%|████▎     | 289/680 [14:39<19:14,  2.95s/it]\u001B[A\n",
      " 43%|████▎     | 290/680 [14:42<19:38,  3.02s/it]\u001B[A\n",
      " 43%|████▎     | 291/680 [14:45<19:49,  3.06s/it]\u001B[A\n",
      " 43%|████▎     | 292/680 [14:48<18:50,  2.91s/it]\u001B[A\n",
      " 43%|████▎     | 293/680 [14:51<19:20,  3.00s/it]\u001B[A\n",
      " 43%|████▎     | 294/680 [14:54<20:21,  3.16s/it]\u001B[A\n",
      " 43%|████▎     | 295/680 [14:57<19:21,  3.02s/it]\u001B[A\n",
      " 44%|████▎     | 296/680 [15:01<20:07,  3.15s/it]\u001B[A\n",
      " 44%|████▎     | 297/680 [15:04<20:03,  3.14s/it]\u001B[A\n",
      " 44%|████▍     | 298/680 [15:06<18:57,  2.98s/it]\u001B[A\n",
      " 44%|████▍     | 299/680 [15:09<19:20,  3.04s/it]\u001B[A\n",
      " 44%|████▍     | 300/680 [15:13<19:59,  3.16s/it]\u001B[A\n",
      " 44%|████▍     | 301/680 [15:16<19:10,  3.04s/it]\u001B[A\n",
      " 44%|████▍     | 302/680 [15:19<19:21,  3.07s/it]\u001B[A\n",
      " 45%|████▍     | 303/680 [15:22<19:36,  3.12s/it]\u001B[A\n",
      " 45%|████▍     | 304/680 [15:25<18:32,  2.96s/it]\u001B[A\n",
      " 45%|████▍     | 305/680 [15:28<18:57,  3.03s/it]\u001B[A\n",
      " 45%|████▌     | 306/680 [15:31<19:16,  3.09s/it]\u001B[A"
     ]
    }
   ],
   "source": [
    "for epoch in trange(epochs):\n",
    "    running_loss = 0\n",
    "    # If the model is fast~ish\n",
    "    # for images, labels in train_loader:\n",
    "    for images, labels in tqdm(train_loader):\n",
    "        # Move images and labels to the device\n",
    "        images, labels = images.to(dev), labels.to(dev)\n",
    "\n",
    "        # Checks\n",
    "        if torch.isnan(images).any():\n",
    "            raise Exception(\"NaN in images\")\n",
    "        if torch.isnan(labels).any():\n",
    "            raise Exception(\"NaN in labels\")\n",
    "\n",
    "        # Forward pass\n",
    "        outputs = combined_model(images)\n",
    "\n",
    "        # Compute the loss\n",
    "        loss = criterion(outputs, labels)\n",
    "\n",
    "        # Backward pass and optimize\n",
    "        optimizer.zero_grad()\n",
    "        loss.backward()\n",
    "\n",
    "        if DEBUG:\n",
    "            # check for missing values in model parameters\n",
    "            check_for_missing_values(combined_model, epoch)\n",
    "            # Clip gradients to avoid exploding gradients\n",
    "            nn.utils.clip_grad_norm_(combined_model.parameters(), 1)\n",
    "            # Clip parameters to avoid exploding parameters\n",
    "            for p in combined_model.parameters():\n",
    "                p.data.clamp_(-1, 1) \n",
    "\n",
    "        optimizer.step()\n",
    " \n",
    "        running_loss += loss.item()\n",
    "\n",
    "    print(f'Epoch {epoch+1}/{epochs}, Loss: {running_loss/len(train_loader)}')\n",
    "    # Save model every 10 epochs\n",
    "    if epoch > 0 and (epoch + 1) % 10 == 0:\n",
    "        torch.save(combined_model.state_dict(), os.path.join(\"models\", f\"model_{RETINA_MODEL}_{epoch + 1}_epochs.pth\"))\n",
    "        print(f\"Saved model after {epoch + 1} runs\")"
   ],
   "metadata": {
    "collapsed": false,
    "is_executing": true,
    "ExecuteTime": {
     "start_time": "2023-08-25T09:30:08.061517400Z"
    }
   }
  },
  {
   "cell_type": "markdown",
   "source": [],
   "metadata": {
    "collapsed": false
   }
  },
  {
   "cell_type": "code",
   "execution_count": 9,
   "outputs": [],
   "source": [
    "torch.save(combined_model.state_dict(), os.path.join(\"models\", f\"model_{RETINA_MODEL}_{epoch + 1}_epochs.pth\"))"
   ],
   "metadata": {
    "collapsed": false,
    "ExecuteTime": {
     "end_time": "2023-08-05T08:11:10.784550500Z",
     "start_time": "2023-08-05T08:11:08.497833400Z"
    }
   }
  },
  {
   "cell_type": "code",
   "execution_count": 10,
   "outputs": [
    {
     "data": {
      "text/plain": "28"
     },
     "execution_count": 10,
     "metadata": {},
     "output_type": "execute_result"
    }
   ],
   "source": [
    "epoch"
   ],
   "metadata": {
    "collapsed": false,
    "ExecuteTime": {
     "end_time": "2023-08-05T08:11:11.530799900Z",
     "start_time": "2023-08-05T08:11:11.522615900Z"
    }
   }
  },
  {
   "cell_type": "code",
   "execution_count": 9,
   "outputs": [
    {
     "data": {
      "text/plain": "  0%|          | 0/170 [00:00<?, ?it/s]",
      "application/vnd.jupyter.widget-view+json": {
       "version_major": 2,
       "version_minor": 0,
       "model_id": "876b6019a98548109cb80b75a68acbde"
      }
     },
     "metadata": {},
     "output_type": "display_data"
    }
   ],
   "source": [
    "# Test de model\n",
    "correct = 0\n",
    "total = 0\n",
    "with torch.no_grad():\n",
    "    for images, labels in tqdm(test_loader):\n",
    "        images, labels = images.to(dev), labels.to(dev)\n",
    "        outputs = combined_model(images)\n",
    "        _, predicted = torch.max(outputs.data, 1)\n",
    "        total += labels.size(0)\n",
    "        correct += (predicted == labels).sum()"
   ],
   "metadata": {
    "collapsed": false,
    "ExecuteTime": {
     "end_time": "2023-08-04T15:51:12.570663500Z",
     "start_time": "2023-08-04T15:51:04.877374200Z"
    }
   }
  },
  {
   "cell_type": "code",
   "execution_count": 10,
   "outputs": [
    {
     "name": "stdout",
     "output_type": "stream",
     "text": [
      "Accuracy on the 1360 test images: 53.45588302612305%\n"
     ]
    }
   ],
   "source": [
    "print(f\"Accuracy on the {total} test images: {100 * correct / total}%\")"
   ],
   "metadata": {
    "collapsed": false,
    "ExecuteTime": {
     "end_time": "2023-08-04T15:51:12.588301400Z",
     "start_time": "2023-08-04T15:51:12.571664Z"
    }
   }
  },
  {
   "cell_type": "code",
   "execution_count": 15,
   "outputs": [
    {
     "data": {
      "text/plain": "CombinedModel(\n  (retina_model): RetinaModel(\n    (conv_layer): Conv2d(3, 1, kernel_size=(5, 5), stride=(2, 2), padding=(1, 1))\n    (activation): ReLU(inplace=True)\n    (pooling_layer): MaxPool2d(kernel_size=2, stride=2, padding=0, dilation=1, ceil_mode=False)\n  )\n  (connectome_model): ConnectomeNetwork(\n    (retina_layer): Linear(in_features=65025, out_features=2952, bias=True)\n    (rational_layer): Linear(in_features=2952, out_features=10, bias=True)\n  )\n)"
     },
     "execution_count": 15,
     "metadata": {},
     "output_type": "execute_result"
    }
   ],
   "source": [
    "model = CombinedModel(adj_matrix, nodes, RETINA_MODEL)\n",
    "model.load_state_dict(torch.load(os.path.join(\"models\", \"model_cnn_1_51_epochs.pth\")), strict=False)\n",
    "model = model.to(dev)\n",
    "model.eval()"
   ],
   "metadata": {
    "collapsed": false,
    "ExecuteTime": {
     "end_time": "2023-08-04T15:54:12.118694Z",
     "start_time": "2023-08-04T15:54:09.218058Z"
    }
   }
  },
  {
   "cell_type": "code",
   "execution_count": 16,
   "outputs": [
    {
     "data": {
      "text/plain": "  0%|          | 0/170 [00:00<?, ?it/s]",
      "application/vnd.jupyter.widget-view+json": {
       "version_major": 2,
       "version_minor": 0,
       "model_id": "14e75b7ab8a94643977b781948d8a24f"
      }
     },
     "metadata": {},
     "output_type": "display_data"
    }
   ],
   "source": [
    "# Test de model\n",
    "correct = 0\n",
    "total = 0\n",
    "with torch.no_grad():\n",
    "    for images, labels in tqdm(test_loader):\n",
    "        images, labels = images.to(dev), labels.to(dev)\n",
    "        outputs = model(images)\n",
    "        _, predicted = torch.max(outputs.data, 1)\n",
    "        total += labels.size(0)\n",
    "        correct += (predicted == labels).sum()"
   ],
   "metadata": {
    "collapsed": false,
    "ExecuteTime": {
     "end_time": "2023-08-04T15:54:19.436034400Z",
     "start_time": "2023-08-04T15:54:12.690098900Z"
    }
   }
  },
  {
   "cell_type": "code",
   "execution_count": 17,
   "outputs": [
    {
     "name": "stdout",
     "output_type": "stream",
     "text": [
      "Accuracy on the 1360 test images: 53.602943420410156%\n"
     ]
    }
   ],
   "source": [
    "print(f\"Accuracy on the {total} test images: {100 * correct / total}%\")"
   ],
   "metadata": {
    "collapsed": false,
    "ExecuteTime": {
     "end_time": "2023-08-04T15:54:20.802580600Z",
     "start_time": "2023-08-04T15:54:20.789812400Z"
    }
   }
  },
  {
   "cell_type": "code",
   "execution_count": null,
   "outputs": [],
   "source": [],
   "metadata": {
    "collapsed": false
   }
  }
 ],
 "metadata": {
  "kernelspec": {
   "display_name": "Python 3",
   "language": "python",
   "name": "python3"
  },
  "language_info": {
   "codemirror_mode": {
    "name": "ipython",
    "version": 2
   },
   "file_extension": ".py",
   "mimetype": "text/x-python",
   "name": "python",
   "nbconvert_exporter": "python",
   "pygments_lexer": "ipython2",
   "version": "2.7.6"
  }
 },
 "nbformat": 4,
 "nbformat_minor": 0
}
