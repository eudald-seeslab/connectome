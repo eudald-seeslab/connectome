{
 "cells": [
  {
   "cell_type": "code",
   "execution_count": 1,
   "metadata": {},
   "outputs": [
    {
     "name": "stderr",
     "output_type": "stream",
     "text": [
      "/home/eudald/Desktop/doctorat/connectome/venv/lib/python3.10/site-packages/torch/cuda/__init__.py:118: UserWarning: CUDA initialization: CUDA unknown error - this may be due to an incorrectly set up environment, e.g. changing env variable CUDA_VISIBLE_DEVICES after program start. Setting the available devices to be zero. (Triggered internally at ../c10/cuda/CUDAFunctions.cpp:108.)\n",
      "  return torch._C._cuda_getDeviceCount() > 0\n"
     ]
    }
   ],
   "source": [
    "%matplotlib inline\n",
    "import os\n",
    "import torch\n",
    "import pandas as pd\n",
    "import numpy as np\n",
    "import matplotlib.pyplot as plt\n",
    "cmap = plt.get_cmap(\"viridis\")\n",
    "from tqdm import tqdm\n",
    "\n",
    "import config\n",
    "from graph_models import FullGraphModel\n",
    "from complete_training_data_processing import CompleteModelsDataProcessor\n",
    "from model_inspection_funcs import neuron_data_from_image, propagate_neuron_data, sample_images\n",
    "\n",
    "device = torch.device(\"cpu\")\n",
    "dtype = torch.float32"
   ]
  },
  {
   "cell_type": "code",
   "execution_count": 2,
   "metadata": {},
   "outputs": [],
   "source": [
    "data_processor = CompleteModelsDataProcessor(\n",
    "    neurons=config.neurons,\n",
    "    voronoi_criteria=config.voronoi_criteria,\n",
    "    random_synapses=config.random_synapses,\n",
    "    log_transform_weights=config.log_transform_weights,\n",
    ")\n",
    "\n",
    "model = FullGraphModel(\n",
    "    input_shape=data_processor.number_of_synapses,\n",
    "    num_connectome_passes=config.NUM_CONNECTOME_PASSES,\n",
    "    decision_making_vector=data_processor.decision_making_vector,\n",
    "    batch_size=config.batch_size,\n",
    "    dtype=config.dtype,\n",
    "    edge_weights=data_processor.synaptic_matrix.data,\n",
    "    device=config.DEVICE,\n",
    "    num_classes=len(config.CLASSES),\n",
    ").to(device)"
   ]
  },
  {
   "cell_type": "code",
   "execution_count": 5,
   "metadata": {},
   "outputs": [],
   "source": [
    "# horrible data stuff\n",
    "connections = (\n",
    "    pd.read_csv(\n",
    "        \"adult_data/connections.csv\",\n",
    "        dtype={\n",
    "            \"pre_root_id\": \"string\",\n",
    "            \"post_root_id\": \"string\",\n",
    "            \"syn_count\": np.int32,\n",
    "        },\n",
    "    )\n",
    "    .groupby([\"pre_root_id\", \"post_root_id\"])\n",
    "    .sum(\"syn_count\")\n",
    "    .reset_index()\n",
    ")\n",
    "# set weights to 1 because we are not training\n",
    "connections[\"weight\"] = 1\n",
    "right_root_ids = data_processor.right_root_ids\n",
    "all_neurons = (\n",
    "    pd.read_csv(\"adult_data/classification_clean.csv\")\n",
    "    .merge(right_root_ids, on=\"root_id\")\n",
    "    .fillna(\"Unknown\")\n",
    ")\n",
    "neuron_data = pd.read_csv(\n",
    "    \"adult_data/right_visual_positions_selected_neurons.csv\",\n",
    "    dtype={\"root_id\": \"string\"},\n",
    ").drop(columns=[\"x\", \"y\", \"z\", \"PC1\", \"PC2\"])\n",
    "data_cols = [\"x_axis\", \"y_axis\"]\n",
    "all_coords = pd.read_csv(\"adult_data/all_coords_clean.csv\", dtype={\"root_id\": \"string\"})\n",
    "rational_cell_types = pd.read_csv(\"adult_data/rational_cell_types.csv\")\n",
    "all_neurons[\"decision_making\"] = np.where(\n",
    "    all_neurons[\"cell_type\"].isin(rational_cell_types[\"cell_type\"].values.tolist()),\n",
    "    1,\n",
    "    0,\n",
    ")\n",
    "all_neurons[\"root_id\"] = all_neurons[\"root_id\"].astype(\"string\")"
   ]
  },
  {
   "cell_type": "code",
   "execution_count": 7,
   "metadata": {},
   "outputs": [
    {
     "name": "stderr",
     "output_type": "stream",
     "text": [
      "100%|██████████| 200/200 [09:00<00:00,  2.70s/it]\n"
     ]
    }
   ],
   "source": [
    "num_passes = 4\n",
    "base_dir = \"images/five_to_fifteen/train\"\n",
    "sub_dirs = [\"yellow\", \"blue\"]\n",
    "\n",
    "sampled_images = sample_images(base_dir, sub_dirs, 100)\n",
    "\n",
    "dms = {}\n",
    "for img in tqdm(sampled_images):\n",
    "    activated_data = neuron_data_from_image(img, neuron_data)\n",
    "    propagation = propagate_neuron_data(\n",
    "        activated_data, connections, all_coords, all_neurons, num_passes\n",
    "    )\n",
    "    dms[os.path.basename(img)] = propagation[\"decision_making\"][\n",
    "        all_neurons[\"decision_making\"] == 1\n",
    "    ]\n",
    "data = pd.DataFrame(dms)"
   ]
  },
  {
   "cell_type": "code",
   "execution_count": 10,
   "metadata": {},
   "outputs": [],
   "source": [
    "means = pd.DataFrame(data.mean(axis=0))\n",
    "means = means.rename(columns={0: \"mean\"})\n",
    "means[\"yellow\"] = [int(a.split(\"_\")[1]) for a in means.index]\n",
    "means[\"blue\"] = [int(a.split(\"_\")[2]) for a in means.index]\n",
    "means[\"color\"] = means[[\"yellow\", \"blue\"]].idxmax(axis=1)"
   ]
  },
  {
   "cell_type": "code",
   "execution_count": 13,
   "metadata": {},
   "outputs": [
    {
     "data": {
      "image/png": "[encoded data removed]",
      "text/plain": [
       "<Figure size 640x480 with 1 Axes>"
      ]
     },
     "metadata": {},
     "output_type": "display_data"
    }
   ],
   "source": [
    "# boxplot of mean depending on color using seaborn\n",
    "%matplotlib inline\n",
    "import seaborn as sns\n",
    "\n",
    "sns.boxplot(x=\"color\", y=\"mean\", data=means)\n",
    "plt.show()"
   ]
  },
  {
   "cell_type": "code",
   "execution_count": 15,
   "metadata": {},
   "outputs": [],
   "source": [
    "means[\"pred\"] = np.where(means[\"mean\"] > means[\"mean\"].mean(), \"yellow\", \"blue\")"
   ]
  },
  {
   "cell_type": "code",
   "execution_count": 17,
   "metadata": {},
   "outputs": [
    {
     "data": {
      "text/plain": [
       "array([[0.345, 0.155],\n",
       "       [0.275, 0.225]])"
      ]
     },
     "execution_count": 17,
     "metadata": {},
     "output_type": "execute_result"
    }
   ],
   "source": [
    "# confusion matrix between color and pred\n",
    "from sklearn.metrics import confusion_matrix\n",
    "\n",
    "confusion_matrix(means[\"color\"], means[\"pred\"]) / len(means)"
   ]
  },
  {
   "cell_type": "code",
   "execution_count": 18,
   "metadata": {},
   "outputs": [
    {
     "name": "stdout",
     "output_type": "stream",
     "text": [
      "accuracy = 0.57\n"
     ]
    }
   ],
   "source": [
    "print(f\"accuracy = {np.mean(means['color'] == means['pred'])}\")"
   ]
  },
  {
   "cell_type": "code",
   "execution_count": null,
   "metadata": {},
   "outputs": [],
   "source": []
  }
 ],
 "metadata": {
  "kernelspec": {
   "display_name": "venv",
   "language": "python",
   "name": "python3"
  },
  "language_info": {
   "codemirror_mode": {
    "name": "ipython",
    "version": 3
   },
   "file_extension": ".py",
   "mimetype": "text/x-python",
   "name": "python",
   "nbconvert_exporter": "python",
   "pygments_lexer": "ipython3",
   "version": "3.10.12"
  }
 },
 "nbformat": 4,
 "nbformat_minor": 2
}
