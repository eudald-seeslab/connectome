{
 "cells": [
  {
   "cell_type": "code",
   "execution_count": 1,
   "metadata": {},
   "outputs": [],
   "source": [
    "from PIL import Image\n",
    "\n",
    "def resize_image(image_path, size = (512, 512)):\n",
    "    im = Image.open(image_path)\n",
    "    return im.resize(size)"
   ]
  },
  {
   "cell_type": "code",
   "execution_count": 9,
   "metadata": {},
   "outputs": [],
   "source": [
    "# resize all images from the subdirs of real_data\n",
    "import os\n",
    "\n",
    "def resize_all_images(dir_):\n",
    "    for root, dirs, files in os.walk(dir_):\n",
    "        for file in files:\n",
    "            if file.endswith(('.jpg', '.jpeg', '.png')):\n",
    "                image_path = os.path.join(root, file)\n",
    "                im = resize_image(image_path)\n",
    "                im.save(image_path)"
   ]
  },
  {
   "cell_type": "code",
   "execution_count": 11,
   "metadata": {},
   "outputs": [],
   "source": [
    "resize_all_images(\"../images/arthropods/train/odonata\")"
   ]
  },
  {
   "cell_type": "code",
   "execution_count": 17,
   "metadata": {},
   "outputs": [],
   "source": [
    "# take 20% of the images for validation\n",
    "import shutil\n",
    "from random import shuffle\n",
    "\n",
    "\n",
    "def split_data(source_directory, training_directory, testing_directory, split_size=0.8):\n",
    "    # Check if the provided paths exist or not, if not, create them\n",
    "    os.makedirs(training_directory, exist_ok=True)\n",
    "    os.makedirs(testing_directory, exist_ok=True)\n",
    "\n",
    "    # Get all files in the source directory\n",
    "    files = [\n",
    "        file\n",
    "        for file in os.listdir(source_directory)\n",
    "        if file.endswith((\".png\", \".jpg\", \".jpeg\"))\n",
    "    ]\n",
    "    shuffle(files)  # Shuffle the list to ensure random distribution\n",
    "\n",
    "    # Calculate the split index\n",
    "    split_index = int(len(files) * split_size)\n",
    "\n",
    "    # Split files into training and testing\n",
    "    train_files = files[:split_index]\n",
    "    test_files = files[split_index:]\n",
    "\n",
    "    # Copy the training files to the training directory\n",
    "    for file in train_files:\n",
    "        shutil.copy(\n",
    "            os.path.join(source_directory, file), os.path.join(training_directory, file)\n",
    "        )\n",
    "\n",
    "    # Copy the testing files to the testing directory\n",
    "    for file in test_files:\n",
    "        shutil.copy(\n",
    "            os.path.join(source_directory, file), os.path.join(testing_directory, file)\n",
    "        )"
   ]
  },
  {
   "cell_type": "code",
   "execution_count": 20,
   "metadata": {},
   "outputs": [],
   "source": [
    "name = \"odonata\"\n",
    "main_dir = os.path.join(\"../..\", \"images\", \"arthropods\", \"augmented\")\n",
    "source_dir = os.path.join(main_dir, name)\n",
    "train_dir = os.path.join(main_dir, \"train\", name)\n",
    "test_dir = os.path.join(main_dir, \"test\", name)\n",
    "\n",
    "split_data(source_dir, train_dir, test_dir)"
   ]
  },
  {
   "cell_type": "code",
   "execution_count": 13,
   "metadata": {},
   "outputs": [],
   "source": [
    "# create 3 rotated copies of each image in the training set\n",
    "import numpy as np\n",
    "\n",
    "def augment_data(source_directory, target_directory, rotations=[0, 90, 180, 270]):\n",
    "    os.makedirs(target_directory, exist_ok=True)\n",
    "\n",
    "    files = [\n",
    "        file\n",
    "        for file in os.listdir(source_directory)\n",
    "        if file.endswith((\".png\", \".jpg\", \".jpeg\"))\n",
    "    ]\n",
    "\n",
    "    for file in files:\n",
    "        image = Image.open(os.path.join(source_directory, file))\n",
    "        for rotation in rotations:\n",
    "            rotated_image = image.rotate(rotation)\n",
    "            rotated_image.save(\n",
    "                os.path.join(target_directory, f\"{file.split('.')[0]}_{rotation}.jpg\")\n",
    "            )\n"
   ]
  },
  {
   "cell_type": "code",
   "execution_count": 23,
   "metadata": {},
   "outputs": [],
   "source": [
    "col = \"lepidoptera\"\n",
    "main_dir = os.path.join(\"../..\", \"images\", \"arthropods\", \"test\")\n",
    "train_dir = os.path.join(main_dir, col)\n",
    "augmented_dir = os.path.join(main_dir, \"augmented\", col)\n",
    "\n",
    "augment_data(train_dir, augmented_dir)"
   ]
  },
  {
   "cell_type": "code",
   "execution_count": null,
   "metadata": {},
   "outputs": [],
   "source": []
  }
 ],
 "metadata": {
  "kernelspec": {
   "display_name": "venv",
   "language": "python",
   "name": "python3"
  },
  "language_info": {
   "codemirror_mode": {
    "name": "ipython",
    "version": 3
   },
   "file_extension": ".py",
   "mimetype": "text/x-python",
   "name": "python",
   "nbconvert_exporter": "python",
   "pygments_lexer": "ipython3",
   "version": "3.10.12"
  }
 },
 "nbformat": 4,
 "nbformat_minor": 2
}
