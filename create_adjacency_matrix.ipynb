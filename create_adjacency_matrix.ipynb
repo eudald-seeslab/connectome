{
 "cells": [
  {
   "cell_type": "code",
   "execution_count": 2,
   "metadata": {},
   "outputs": [],
   "source": [
    "import numpy as np\n",
    "import pandas as pd\n",
    "import scipy.sparse as ss\n",
    "from retina_to_connectome_funcs import get_synapse_df"
   ]
  },
  {
   "cell_type": "code",
   "execution_count": 9,
   "metadata": {},
   "outputs": [],
   "source": [
    "from utils import synapses_to_matrix_and_dict\n",
    "\n",
    "\n",
    "def create_basic_data(side=None):\n",
    "    synapses = get_synapse_df(side)\n",
    "    char = \"\" if side is None else f\"{side}_\"\n",
    "    matrix, root_id_to_index = synapses_to_matrix_and_dict(synapses)\n",
    "    ss.save_npz(f\"adult_data/{char}synaptic_matrix.npz\", matrix)\n",
    "    pd.DataFrame(root_id_to_index.items(), columns=[\"root_id\", \"index\"]).to_csv(\n",
    "        f\"adult_data/{char}root_id_to_index.csv\", index=False\n",
    "    )"
   ]
  },
  {
   "cell_type": "code",
   "execution_count": 10,
   "metadata": {},
   "outputs": [],
   "source": [
    "# create_basic_data()\n",
    "create_basic_data(\"left\")\n",
    "create_basic_data(\"right\")"
   ]
  },
  {
   "cell_type": "code",
   "execution_count": 67,
   "metadata": {},
   "outputs": [],
   "source": [
    "connections = pd.read_csv(\"adult_data/connections.csv\")\n",
    "\n",
    "# there are repeated connections, so we add them\n",
    "connections = connections.groupby([\"pre_root_id\", \"post_root_id\"]).sum(\"syn_count\").reset_index()\n",
    "connections[\"pre_root_id\"] = connections[\"pre_root_id\"].astype(\"string\")\n",
    "connections[\"post_root_id\"] = connections[\"post_root_id\"].astype(\"string\")"
   ]
  },
  {
   "cell_type": "code",
   "execution_count": 116,
   "metadata": {},
   "outputs": [],
   "source": [
    "cl = pd.read_csv(\"adult_data/classification.csv\")\n",
    "cl[\"root_id\"] = cl[\"root_id\"].astype(\"string\")\n",
    "cl = cl[cl[\"side\"] == \"right\"]"
   ]
  },
  {
   "cell_type": "code",
   "execution_count": 117,
   "metadata": {},
   "outputs": [],
   "source": [
    "# remove duplicated cell_types, but leaving the ones we prefer\n",
    "cl[\"priority\"] = np.where(cl[\"cell_type\"] == \"R8\", 1, \n",
    "                    np.where(cl[\"cell_type\"] == \"R7\", 2,\n",
    "                        np.where(cl[\"cell_type\"] == \"R1-6\", 3,\n",
    "                            np.where(cl[\"cell_type\"].notnull(), 4, 5))))\n",
    "cl.sort_values(by=[\"root_id\", \"priority\"], inplace=True)\n",
    "cl = cl.drop_duplicates(subset=\"root_id\", keep=\"first\")\n",
    "cl.drop(columns=\"priority\", inplace=True)"
   ]
  },
  {
   "cell_type": "code",
   "execution_count": 118,
   "metadata": {},
   "outputs": [],
   "source": [
    "cl_connections = connections.merge(cl, left_on=\"pre_root_id\", right_on=\"root_id\")\n",
    "cl_connections = cl_connections.merge(cl, left_on=\"post_root_id\", right_on=\"root_id\", suffixes=(\"_pre\", \"_post\"))"
   ]
  },
  {
   "cell_type": "code",
   "execution_count": 119,
   "metadata": {},
   "outputs": [],
   "source": [
    "# Extract unique identifiers from both dataframes\n",
    "unique_cl_ids = set(cl[\"root_id\"])\n",
    "unique_pre_ids = set(cl_connections[\"pre_root_id\"])  # Pre-synaptic identifiers\n",
    "unique_post_ids = set(cl_connections[\"post_root_id\"])  # Post-synaptic identifiers"
   ]
  },
  {
   "cell_type": "code",
   "execution_count": 120,
   "metadata": {},
   "outputs": [],
   "source": [
    "only_in_cl = (unique_cl_ids - (unique_pre_ids | unique_post_ids))"
   ]
  },
  {
   "cell_type": "code",
   "execution_count": 121,
   "metadata": {},
   "outputs": [],
   "source": [
    "# leave cl not in only_in_cl\n",
    "filtered_cl = cl[~cl[\"root_id\"].isin(only_in_cl)]\n"
   ]
  },
  {
   "cell_type": "code",
   "execution_count": null,
   "metadata": {},
   "outputs": [],
   "source": [
    "\n",
    "# Determine the common identifiers\n",
    "# Neurons that are in 'cl' and either 'pre_root_id' or 'post_root_id' in 'connections'\n",
    "common_ids = unique_cl_ids & (unique_pre_ids | unique_post_ids)\n",
    "\n",
    "# Filter the 'cl' dataframe to include only rows with 'root_id' in common_ids\n",
    "filtered_cl = cl[cl[\"root_id\"].isin(common_ids)]\n",
    "\n",
    "# Filter the 'connections' dataframe to include only rows with 'pre_root_id' or 'post_root_id' in common_ids\n",
    "filtered_connections = connections[\n",
    "    (connections[\"pre_root_id\"].isin(common_ids))\n",
    "    | (connections[\"post_root_id\"].isin(common_ids))\n",
    "]\n",
    "\n",
    "# The 'filtered_cl' and 'filtered_connections' dataframes now contain only the rows with neurons that match the criteria."
   ]
  },
  {
   "cell_type": "code",
   "execution_count": 2,
   "metadata": {},
   "outputs": [],
   "source": [
    "import pandas as pd\n",
    "cl_connections = pd.read_csv(\"adult_data/right_connections.csv\")\n",
    "filtered_cl = pd.read_csv(\"adult_data/right_classification.csv\")"
   ]
  },
  {
   "cell_type": "code",
   "execution_count": 3,
   "metadata": {},
   "outputs": [],
   "source": [
    "# Convert to sets for faster operations\n",
    "pre_ids_set = set(cl_connections[\"pre_root_id\"].values)\n",
    "post_ids_set = set(cl_connections[\"post_root_id\"].values)\n",
    "cl_ids_set = set(filtered_cl[\"root_id\"].values)\n",
    "\n",
    "# Find neurons not in either column using set operations\n",
    "missing_both = cl_ids_set - (pre_ids_set | post_ids_set)  # not in either\n",
    "missing_either = cl_ids_set - (pre_ids_set & post_ids_set)  # not in both\n",
    "missing_pre = pre_ids_set - cl_ids_set  # in pre but not in cl\n",
    "missing_post = post_ids_set - cl_ids_set  # in post but not in cl\n",
    "\n",
    "# Determine lengths as needed\n",
    "len_missing_both = len(missing_both)\n",
    "len_missing_either = len(missing_either)"
   ]
  },
  {
   "cell_type": "code",
   "execution_count": 6,
   "metadata": {},
   "outputs": [
    {
     "data": {
      "text/html": [
       "<div>\n",
       "<style scoped>\n",
       "    .dataframe tbody tr th:only-of-type {\n",
       "        vertical-align: middle;\n",
       "    }\n",
       "\n",
       "    .dataframe tbody tr th {\n",
       "        vertical-align: top;\n",
       "    }\n",
       "\n",
       "    .dataframe thead th {\n",
       "        text-align: right;\n",
       "    }\n",
       "</style>\n",
       "<table border=\"1\" class=\"dataframe\">\n",
       "  <thead>\n",
       "    <tr style=\"text-align: right;\">\n",
       "      <th></th>\n",
       "      <th>pre_root_id</th>\n",
       "      <th>post_root_id</th>\n",
       "      <th>syn_count</th>\n",
       "      <th>cell_type.x</th>\n",
       "      <th>cell_type.y</th>\n",
       "    </tr>\n",
       "  </thead>\n",
       "  <tbody>\n",
       "    <tr>\n",
       "      <th>0</th>\n",
       "      <td>720575940596125868</td>\n",
       "      <td>720575940608552405</td>\n",
       "      <td>5</td>\n",
       "      <td>T5c</td>\n",
       "      <td>Tlp6</td>\n",
       "    </tr>\n",
       "    <tr>\n",
       "      <th>1</th>\n",
       "      <td>720575940596125868</td>\n",
       "      <td>720575940613059993</td>\n",
       "      <td>5</td>\n",
       "      <td>T5c</td>\n",
       "      <td>NaN</td>\n",
       "    </tr>\n",
       "    <tr>\n",
       "      <th>2</th>\n",
       "      <td>720575940596125868</td>\n",
       "      <td>720575940616986553</td>\n",
       "      <td>5</td>\n",
       "      <td>T5c</td>\n",
       "      <td>Y3</td>\n",
       "    </tr>\n",
       "    <tr>\n",
       "      <th>3</th>\n",
       "      <td>720575940596125868</td>\n",
       "      <td>720575940618079956</td>\n",
       "      <td>5</td>\n",
       "      <td>T5c</td>\n",
       "      <td>NaN</td>\n",
       "    </tr>\n",
       "    <tr>\n",
       "      <th>4</th>\n",
       "      <td>720575940596125868</td>\n",
       "      <td>720575940620124326</td>\n",
       "      <td>8</td>\n",
       "      <td>T5c</td>\n",
       "      <td>Tlp4</td>\n",
       "    </tr>\n",
       "    <tr>\n",
       "      <th>...</th>\n",
       "      <td>...</td>\n",
       "      <td>...</td>\n",
       "      <td>...</td>\n",
       "      <td>...</td>\n",
       "      <td>...</td>\n",
       "    </tr>\n",
       "    <tr>\n",
       "      <th>1231187</th>\n",
       "      <td>720575940661333889</td>\n",
       "      <td>720575940629764906</td>\n",
       "      <td>5</td>\n",
       "      <td>CB2303</td>\n",
       "      <td>CB2537</td>\n",
       "    </tr>\n",
       "    <tr>\n",
       "      <th>1231188</th>\n",
       "      <td>720575940661333889</td>\n",
       "      <td>720575940634776511</td>\n",
       "      <td>5</td>\n",
       "      <td>CB2303</td>\n",
       "      <td>CB2535</td>\n",
       "    </tr>\n",
       "    <tr>\n",
       "      <th>1231189</th>\n",
       "      <td>720575940661333889</td>\n",
       "      <td>720575940637151807</td>\n",
       "      <td>12</td>\n",
       "      <td>CB2303</td>\n",
       "      <td>CB2367</td>\n",
       "    </tr>\n",
       "    <tr>\n",
       "      <th>1231190</th>\n",
       "      <td>720575940661333889</td>\n",
       "      <td>720575940638996413</td>\n",
       "      <td>7</td>\n",
       "      <td>CB2303</td>\n",
       "      <td>CB2367</td>\n",
       "    </tr>\n",
       "    <tr>\n",
       "      <th>1231191</th>\n",
       "      <td>720575940661333889</td>\n",
       "      <td>720575940643325581</td>\n",
       "      <td>7</td>\n",
       "      <td>CB2303</td>\n",
       "      <td>CB0453</td>\n",
       "    </tr>\n",
       "  </tbody>\n",
       "</table>\n",
       "<p>1231192 rows × 5 columns</p>\n",
       "</div>"
      ],
      "text/plain": [
       "                pre_root_id        post_root_id  syn_count cell_type.x  \\\n",
       "0        720575940596125868  720575940608552405          5         T5c   \n",
       "1        720575940596125868  720575940613059993          5         T5c   \n",
       "2        720575940596125868  720575940616986553          5         T5c   \n",
       "3        720575940596125868  720575940618079956          5         T5c   \n",
       "4        720575940596125868  720575940620124326          8         T5c   \n",
       "...                     ...                 ...        ...         ...   \n",
       "1231187  720575940661333889  720575940629764906          5      CB2303   \n",
       "1231188  720575940661333889  720575940634776511          5      CB2303   \n",
       "1231189  720575940661333889  720575940637151807         12      CB2303   \n",
       "1231190  720575940661333889  720575940638996413          7      CB2303   \n",
       "1231191  720575940661333889  720575940643325581          7      CB2303   \n",
       "\n",
       "        cell_type.y  \n",
       "0              Tlp6  \n",
       "1               NaN  \n",
       "2                Y3  \n",
       "3               NaN  \n",
       "4              Tlp4  \n",
       "...             ...  \n",
       "1231187      CB2537  \n",
       "1231188      CB2535  \n",
       "1231189      CB2367  \n",
       "1231190      CB2367  \n",
       "1231191      CB0453  \n",
       "\n",
       "[1231192 rows x 5 columns]"
      ]
     },
     "execution_count": 6,
     "metadata": {},
     "output_type": "execute_result"
    }
   ],
   "source": [
    "cl_connections"
   ]
  },
  {
   "cell_type": "code",
   "execution_count": 139,
   "metadata": {},
   "outputs": [],
   "source": [
    "# Map neuron root_ids to matrix indices\n",
    "root_id_to_index = {root_id: index for index, root_id in enumerate(cl_ids_set)}\n",
    "\n",
    "# Convert root_ids in filtered_synapse_df to matrix indices\n",
    "pre_indices = cl_connections[\"pre_root_id\"].map(root_id_to_index).values\n",
    "post_indices = cl_connections[\"post_root_id\"].map(root_id_to_index).values\n",
    "\n",
    "# Use syn_count as the data for the non-zero elements of the matrix\n",
    "data = cl_connections[\"syn_count\"].values\n",
    "\n",
    "# Create the sparse matrix\n",
    "matrix = ss.coo_matrix(\n",
    "    (data, (pre_indices, post_indices)),\n",
    "    shape=(len(cl_ids_set), len(cl_ids_set)),\n",
    "    dtype=np.int64,\n",
    ")"
   ]
  },
  {
   "cell_type": "code",
   "execution_count": 140,
   "metadata": {},
   "outputs": [],
   "source": [
    "pd.DataFrame(root_id_to_index.items(), columns=[\"root_id\", \"index\"]).to_csv(\n",
    "    \"adult_data/right_root_id_to_index.csv\", index=False\n",
    ")"
   ]
  },
  {
   "cell_type": "code",
   "execution_count": 141,
   "metadata": {},
   "outputs": [],
   "source": [
    "ss.save_npz(\"adult_data/right_synaptic_matrix.npz\", matrix)"
   ]
  },
  {
   "cell_type": "code",
   "execution_count": 145,
   "metadata": {},
   "outputs": [],
   "source": [
    "visual = filtered_cl[filtered_cl[\"cell_type\"].isin([\"R8\", \"R7\", \"R1-6\"])]"
   ]
  },
  {
   "cell_type": "code",
   "execution_count": 172,
   "metadata": {},
   "outputs": [],
   "source": [
    "coords = pd.read_csv(\n",
    "    \"adult_data/coordinates_sep.csv\",\n",
    "    dtype={\"root_id\": \"string\"},\n",
    "    )"
   ]
  },
  {
   "cell_type": "code",
   "execution_count": 174,
   "metadata": {},
   "outputs": [],
   "source": [
    "# Filter the 'coords' dataframe to include only rows with 'root_id' in common_ids\n",
    "filtered_coords = coords[coords[\"root_id\"].isin(common_ids)]"
   ]
  },
  {
   "cell_type": "code",
   "execution_count": 175,
   "metadata": {},
   "outputs": [
    {
     "data": {
      "text/html": [
       "<div>\n",
       "<style scoped>\n",
       "    .dataframe tbody tr th:only-of-type {\n",
       "        vertical-align: middle;\n",
       "    }\n",
       "\n",
       "    .dataframe tbody tr th {\n",
       "        vertical-align: top;\n",
       "    }\n",
       "\n",
       "    .dataframe thead th {\n",
       "        text-align: right;\n",
       "    }\n",
       "</style>\n",
       "<table border=\"1\" class=\"dataframe\">\n",
       "  <thead>\n",
       "    <tr style=\"text-align: right;\">\n",
       "      <th></th>\n",
       "      <th>root_id</th>\n",
       "      <th>x</th>\n",
       "      <th>y</th>\n",
       "      <th>z</th>\n",
       "      <th>supervoxel_id</th>\n",
       "    </tr>\n",
       "  </thead>\n",
       "  <tbody>\n",
       "    <tr>\n",
       "      <th>156</th>\n",
       "      <td>720575940638164864</td>\n",
       "      <td>689560</td>\n",
       "      <td>301620</td>\n",
       "      <td>74920</td>\n",
       "      <td>8.247684e+16</td>\n",
       "    </tr>\n",
       "    <tr>\n",
       "      <th>307</th>\n",
       "      <td>720575940630892544</td>\n",
       "      <td>788036</td>\n",
       "      <td>313228</td>\n",
       "      <td>97480</td>\n",
       "      <td>8.416583e+16</td>\n",
       "    </tr>\n",
       "    <tr>\n",
       "      <th>313</th>\n",
       "      <td>720575940629327872</td>\n",
       "      <td>723084</td>\n",
       "      <td>188368</td>\n",
       "      <td>139880</td>\n",
       "      <td>8.303787e+16</td>\n",
       "    </tr>\n",
       "    <tr>\n",
       "      <th>401</th>\n",
       "      <td>720575940628023296</td>\n",
       "      <td>714996</td>\n",
       "      <td>205072</td>\n",
       "      <td>147960</td>\n",
       "      <td>8.289740e+16</td>\n",
       "    </tr>\n",
       "    <tr>\n",
       "      <th>544</th>\n",
       "      <td>720575940630799104</td>\n",
       "      <td>494852</td>\n",
       "      <td>107572</td>\n",
       "      <td>45240</td>\n",
       "      <td>7.909584e+16</td>\n",
       "    </tr>\n",
       "    <tr>\n",
       "      <th>...</th>\n",
       "      <td>...</td>\n",
       "      <td>...</td>\n",
       "      <td>...</td>\n",
       "      <td>...</td>\n",
       "      <td>...</td>\n",
       "    </tr>\n",
       "    <tr>\n",
       "      <th>238687</th>\n",
       "      <td>720575940631190016</td>\n",
       "      <td>510136</td>\n",
       "      <td>218256</td>\n",
       "      <td>196440</td>\n",
       "      <td>7.937917e+16</td>\n",
       "    </tr>\n",
       "    <tr>\n",
       "      <th>238691</th>\n",
       "      <td>720575940631190016</td>\n",
       "      <td>532392</td>\n",
       "      <td>198908</td>\n",
       "      <td>188080</td>\n",
       "      <td>7.980104e+16</td>\n",
       "    </tr>\n",
       "    <tr>\n",
       "      <th>238692</th>\n",
       "      <td>720575940631190016</td>\n",
       "      <td>533616</td>\n",
       "      <td>177480</td>\n",
       "      <td>177880</td>\n",
       "      <td>7.980070e+16</td>\n",
       "    </tr>\n",
       "    <tr>\n",
       "      <th>238745</th>\n",
       "      <td>720575940640150912</td>\n",
       "      <td>283592</td>\n",
       "      <td>364620</td>\n",
       "      <td>243040</td>\n",
       "      <td>7.551137e+16</td>\n",
       "    </tr>\n",
       "    <tr>\n",
       "      <th>238794</th>\n",
       "      <td>720575940640150912</td>\n",
       "      <td>283592</td>\n",
       "      <td>364620</td>\n",
       "      <td>243040</td>\n",
       "      <td>7.551137e+16</td>\n",
       "    </tr>\n",
       "  </tbody>\n",
       "</table>\n",
       "<p>1474 rows × 5 columns</p>\n",
       "</div>"
      ],
      "text/plain": [
       "                   root_id       x       y       z  supervoxel_id\n",
       "156     720575940638164864  689560  301620   74920   8.247684e+16\n",
       "307     720575940630892544  788036  313228   97480   8.416583e+16\n",
       "313     720575940629327872  723084  188368  139880   8.303787e+16\n",
       "401     720575940628023296  714996  205072  147960   8.289740e+16\n",
       "544     720575940630799104  494852  107572   45240   7.909584e+16\n",
       "...                    ...     ...     ...     ...            ...\n",
       "238687  720575940631190016  510136  218256  196440   7.937917e+16\n",
       "238691  720575940631190016  532392  198908  188080   7.980104e+16\n",
       "238692  720575940631190016  533616  177480  177880   7.980070e+16\n",
       "238745  720575940640150912  283592  364620  243040   7.551137e+16\n",
       "238794  720575940640150912  283592  364620  243040   7.551137e+16\n",
       "\n",
       "[1474 rows x 5 columns]"
      ]
     },
     "execution_count": 175,
     "metadata": {},
     "output_type": "execute_result"
    }
   ],
   "source": [
    "filtered_coords"
   ]
  },
  {
   "cell_type": "code",
   "execution_count": 8,
   "metadata": {},
   "outputs": [],
   "source": [
    "from scipy.sparse import load_npz\n",
    "synaptic_matrix = load_npz(\"adult_data/good_synaptic_matrix.npz\")"
   ]
  },
  {
   "cell_type": "code",
   "execution_count": 10,
   "metadata": {},
   "outputs": [
    {
     "data": {
      "text/plain": [
       "array([1.79175947, 1.79175947, 1.79175947, ..., 1.79175947, 3.04452244,\n",
       "       1.94591015])"
      ]
     },
     "execution_count": 10,
     "metadata": {},
     "output_type": "execute_result"
    }
   ],
   "source": [
    "import numpy as np\n",
    "np.log1p(synaptic_matrix.data)"
   ]
  },
  {
   "cell_type": "code",
   "execution_count": 1,
   "metadata": {},
   "outputs": [
    {
     "data": {
      "text/plain": [
       "True"
      ]
     },
     "execution_count": 1,
     "metadata": {},
     "output_type": "execute_result"
    }
   ],
   "source": [
    "import torch\n",
    "torch.cuda.is_available()"
   ]
  },
  {
   "cell_type": "code",
   "execution_count": null,
   "metadata": {},
   "outputs": [],
   "source": []
  }
 ],
 "metadata": {
  "kernelspec": {
   "display_name": "venv",
   "language": "python",
   "name": "python3"
  },
  "language_info": {
   "codemirror_mode": {
    "name": "ipython",
    "version": 3
   },
   "file_extension": ".py",
   "mimetype": "text/x-python",
   "name": "python",
   "nbconvert_exporter": "python",
   "pygments_lexer": "ipython3",
   "version": "3.10.12"
  }
 },
 "nbformat": 4,
 "nbformat_minor": 2
}
