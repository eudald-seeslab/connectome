{
 "cells": [
  {
   "cell_type": "code",
   "execution_count": 1,
   "metadata": {},
   "outputs": [],
   "source": [
    "import torch\n",
    "import warnings\n",
    "warnings.simplefilter(action='ignore', category=FutureWarning)\n",
    "import pandas as pd\n",
    "import numpy as np\n",
    "import matplotlib.pyplot as plt\n",
    "cmap = plt.get_cmap(\"viridis\")\n",
    "from tqdm.notebook import tqdm\n",
    "from tqdm.contrib.concurrent import process_map\n",
    "import multiprocessing\n",
    "\n",
    "import config\n",
    "from graph_models import FullGraphModel\n",
    "from complete_training_data_processing import CompleteModelsDataProcessor\n",
    "from model_inspection_funcs import sample_images\n",
    "from no_training import process_image_without_deciding\n",
    "\n",
    "num_test_pairs = 500\n",
    "device = torch.device(\"cpu\")\n",
    "dtype = torch.float32"
   ]
  },
  {
   "cell_type": "code",
   "execution_count": 2,
   "metadata": {},
   "outputs": [],
   "source": [
    "data_processor = CompleteModelsDataProcessor(\n",
    "    neurons=config.neurons,\n",
    "    voronoi_criteria=config.voronoi_criteria,\n",
    "    random_synapses=config.random_synapses,\n",
    "    log_transform_weights=config.log_transform_weights,\n",
    ")\n",
    "\n",
    "model = FullGraphModel(\n",
    "    input_shape=data_processor.number_of_synapses,\n",
    "    num_connectome_passes=config.NUM_CONNECTOME_PASSES,\n",
    "    decision_making_vector=data_processor.decision_making_vector,\n",
    "    batch_size=config.batch_size,\n",
    "    dtype=config.dtype,\n",
    "    edge_weights=data_processor.synaptic_matrix.data,\n",
    "    device=config.DEVICE,\n",
    "    num_classes=len(config.CLASSES),\n",
    ").to(device)"
   ]
  },
  {
   "cell_type": "code",
   "execution_count": 3,
   "metadata": {},
   "outputs": [],
   "source": [
    "# horrible data stuff\n",
    "checkpoint = torch.load(\n",
    "    \"models/n_all_v_R7_r_False_lr_0.003_p_4_2024-05-27 21:45.pth\", map_location=\"cpu\"\n",
    ")\n",
    "model.load_state_dict(checkpoint[\"model\"])\n",
    "model.eval()\n",
    "connections = (\n",
    "    pd.read_csv(\n",
    "        \"adult_data/connections.csv\",\n",
    "        dtype={\n",
    "            \"pre_root_id\": \"string\",\n",
    "            \"post_root_id\": \"string\",\n",
    "            \"syn_count\": np.int32,\n",
    "        },\n",
    "    )\n",
    "    .groupby([\"pre_root_id\", \"post_root_id\"])\n",
    "    .sum(\"syn_count\")\n",
    "    .reset_index()\n",
    ")\n",
    "\n",
    "connections[\"weight\"] = model.connectome.edge_weight_multiplier.detach()\n",
    "right_root_ids = data_processor.root_ids\n",
    "all_neurons = (\n",
    "    pd.read_csv(\"adult_data/classification_clean.csv\")\n",
    "    .merge(right_root_ids, on=\"root_id\")\n",
    "    .fillna(\"Unknown\")\n",
    ")\n",
    "neuron_data = pd.read_csv(\n",
    "    \"adult_data/right_visual_positions_selected_neurons.csv\",\n",
    "    dtype={\"root_id\": \"string\"},\n",
    ").drop(columns=[\"x\", \"y\", \"z\", \"PC1\", \"PC2\"])\n",
    "data_cols = [\"x_axis\", \"y_axis\"]\n",
    "all_coords = pd.read_csv(\"adult_data/all_coords_clean.csv\", dtype={\"root_id\": \"string\"})\n",
    "rational_cell_types = pd.read_csv(\"adult_data/rational_cell_types.csv\")\n",
    "all_neurons[\"decision_making\"] = np.where(\n",
    "    all_neurons[\"cell_type\"].isin(rational_cell_types[\"cell_type\"].values.tolist()),\n",
    "    1,\n",
    "    0,\n",
    ")\n",
    "all_neurons[\"root_id\"] = all_neurons[\"root_id\"].astype(\"string\")\n",
    "\n",
    "neurons_in_coords = all_neurons.merge(all_coords, on=\"root_id\", how=\"right\")[\n",
    "    [\"root_id\", \"cell_type\"]\n",
    "].fillna(\"Unknown\")\n",
    "\n",
    "# Set all cell_types with less than \"n\" samples to \"others\"\n",
    "n = 1\n",
    "\n",
    "counts = neurons_in_coords[\"cell_type\"].value_counts()\n",
    "\n",
    "small_categories = counts[counts < n].index\n",
    "neurons_in_coords[\"cell_type\"] = neurons_in_coords[\"cell_type\"].apply(\n",
    "    lambda x: \"others\" if x in small_categories else x\n",
    ")"
   ]
  },
  {
   "cell_type": "code",
   "execution_count": 4,
   "metadata": {},
   "outputs": [
    {
     "data": {
      "application/vnd.jupyter.widget-view+json": {
       "model_id": "d2aefc69d07f40039d33b8fc272d0576",
       "version_major": 2,
       "version_minor": 0
      },
      "text/plain": [
       "  0%|          | 0/3600 [00:00<?, ?it/s]"
      ]
     },
     "metadata": {},
     "output_type": "display_data"
    }
   ],
   "source": [
    "num_passes = 4\n",
    "base_dir = \"images/one_colour\"\n",
    "sub_dirs = [str(i) for i in range(1, 10)]\n",
    "\n",
    "sampled_images = sample_images(base_dir, sub_dirs, num_test_pairs)\n",
    "\n",
    "tasks = [\n",
    "    (img, neuron_data, connections, all_coords, num_passes)\n",
    "    for img in sampled_images\n",
    "]\n",
    "result_tuples = process_map(\n",
    "    process_image_without_deciding, tasks, max_workers=multiprocessing.cpu_count() - 2, chunksize=1\n",
    ")\n",
    "dms = dict(result_tuples)"
   ]
  },
  {
   "cell_type": "code",
   "execution_count": 5,
   "metadata": {},
   "outputs": [],
   "source": [
    "data = pd.DataFrame(dms)\n",
    "df = data.T\n",
    "df[\"num_points\"] = [int(a.split(\"_\")[1]) for a in df.index]"
   ]
  },
  {
   "cell_type": "code",
   "execution_count": 9,
   "metadata": {},
   "outputs": [],
   "source": [
    "model_response = {0: 1, 1: .5, 2: .4, 3: .2, 4: 0}\n",
    "def get_normalized_response(n, total):\n",
    "    acts = []\n",
    "    for i in range(1, total):\n",
    "        dist = abs(n - i)\n",
    "        if dist in model_response.keys():\n",
    "            acts.append(model_response[dist])\n",
    "        else:\n",
    "            acts.append(0)\n",
    "    \n",
    "    return acts"
   ]
  },
  {
   "cell_type": "code",
   "execution_count": 10,
   "metadata": {},
   "outputs": [],
   "source": [
    "means = df.groupby(\"num_points\").mean()\n",
    "# normalize all columns to 0-1\n",
    "means = (means - means.min()) / (means.max() - means.min())\n",
    "# remove columns with missing data\n",
    "means = means.dropna(axis=1)\n",
    "for i in range(1, 10):\n",
    "    means[f\"tuning_curve_{i}\"] = get_normalized_response(i, 10)\n",
    "temp = means.T"
   ]
  },
  {
   "cell_type": "code",
   "execution_count": 15,
   "metadata": {},
   "outputs": [],
   "source": [
    "temp.to_csv(\"neuron_responses.csv\")"
   ]
  },
  {
   "cell_type": "code",
   "execution_count": 18,
   "metadata": {},
   "outputs": [
    {
     "data": {
      "text/plain": [
       "0"
      ]
     },
     "execution_count": 18,
     "metadata": {},
     "output_type": "execute_result"
    }
   ],
   "source": [
    "import gc\n",
    "\n",
    "del tasks, result_tuples, dms, data, df\n",
    "gc.collect()"
   ]
  },
  {
   "cell_type": "code",
   "execution_count": 28,
   "metadata": {},
   "outputs": [
    {
     "data": {
      "text/plain": [
       "(9, 61359)"
      ]
     },
     "execution_count": 28,
     "metadata": {},
     "output_type": "execute_result"
    }
   ],
   "source": [
    "(temp[temp[1] == temp.max(axis=1)]).T.shape"
   ]
  },
  {
   "cell_type": "code",
   "execution_count": 20,
   "metadata": {},
   "outputs": [],
   "source": [
    "def top_neurons_tuned_to_i(df, i):\n",
    "    col_name = f\"tuning_curve_{i}\"\n",
    "    \n",
    "    tuned = (df[df[i] == df.max(axis=1)]).T\n",
    "    if tuned.shape[1] > 12000:\n",
    "        return \"Too many neurons tuned to this curve\"\n",
    "    correlations = tuned.corr()[col_name].sort_values(ascending=False)\n",
    "    # remove \"tune_curve_i\" from the list\n",
    "    correlations = correlations.drop(col_name)\n",
    "    top_correlations = correlations[correlations > 0.9]\n",
    "\n",
    "    return neurons_in_coords.merge(\n",
    "        top_correlations, left_index=True, right_index=True\n",
    "    ).sort_values(by=col_name, ascending=False)"
   ]
  },
  {
   "cell_type": "code",
   "execution_count": 25,
   "metadata": {},
   "outputs": [
    {
     "data": {
      "text/plain": [
       "{'num_1': 'Too many neurons tuned to this curve',\n",
       " 'num_2': 'Too many neurons tuned to this curve',\n",
       " 'num_3':                    root_id cell_type  tuning_curve_3\n",
       " 80833   720575940627127429       Dm8        0.973155\n",
       " 102279  720575940631016588   Unknown        0.966554\n",
       " 130156  720575940640555635        L1        0.960389\n",
       " 8312    720575940609930052      Mi14        0.959282\n",
       " 20157   720575940614340758        L1        0.959216\n",
       " ...                    ...       ...             ...\n",
       " 29931   720575940617144477    CB3088        0.900175\n",
       " 65115   720575940624167176       T2a        0.900126\n",
       " 82156   720575940627323261       Dm3        0.900092\n",
       " 11222   720575940611383394       Dm3        0.900030\n",
       " 107611  720575940632131403       T2a        0.900025\n",
       " \n",
       " [1910 rows x 3 columns],\n",
       " 'num_4':                   root_id cell_type  tuning_curve_4\n",
       " 96958  720575940630016855   Unknown        0.913762\n",
       " 29163  720575940616936226   Unknown        0.905201,\n",
       " 'num_5':                    root_id cell_type  tuning_curve_5\n",
       " 49422   720575940621431884    CB2551        0.930487\n",
       " 124925  720575940638236504    CB2265        0.930480\n",
       " 45229   720575940620705240   Unknown        0.930221\n",
       " 68970   720575940624886160    CB2864        0.929820\n",
       " 98851   720575940630391639   Unknown        0.928302,\n",
       " 'num_6': Empty DataFrame\n",
       " Columns: [root_id, cell_type, tuning_curve_6]\n",
       " Index: [],\n",
       " 'num_7':                    root_id cell_type  tuning_curve_7\n",
       " 84729   720575940627777018    CB1854        0.917471\n",
       " 120075  720575940636083319   Unknown        0.911917\n",
       " 111383  720575940632996152   Unknown        0.907298\n",
       " 41383   720575940619966032       Mi2        0.907020,\n",
       " 'num_8':                    root_id cell_type  tuning_curve_8\n",
       " 78212   720575940626702026       T4c        0.943815\n",
       " 109009  720575940632439400       T4c        0.943702\n",
       " 57662   720575940622866836       T4a        0.942974\n",
       " 50477   720575940621610587        L1        0.941601\n",
       " 112479  720575940633291418   Unknown        0.940375\n",
       " ...                    ...       ...             ...\n",
       " 6795    720575940609013769        R8        0.902411\n",
       " 86914   720575940628143162        R7        0.902411\n",
       " 2682    720575940606040492        R7        0.902411\n",
       " 12724   720575940611942371   Unknown        0.902255\n",
       " 80455   720575940627069796    CB3111        0.902187\n",
       " \n",
       " [80 rows x 3 columns],\n",
       " 'num_9':                    root_id cell_type  tuning_curve_9\n",
       " 103954  720575940631327739    CB0665        0.960694\n",
       " 115971  720575940634545294    CB2375        0.955382\n",
       " 118946  720575940635642725    CB0653        0.951794\n",
       " 51301   720575940621748812   Unknown        0.949642\n",
       " 132515  720575940642866199    CB2520        0.948502\n",
       " ...                    ...       ...             ...\n",
       " 2155    720575940605742438       Dm3        0.900533\n",
       " 67017   720575940624500232       Tm3        0.900533\n",
       " 38033   720575940619106497       Dm3        0.900533\n",
       " 80037   720575940627005468       Dm3        0.900533\n",
       " 99868   720575940630589814      TmY9        0.900533\n",
       " \n",
       " [387 rows x 3 columns]}"
      ]
     },
     "execution_count": 25,
     "metadata": {},
     "output_type": "execute_result"
    }
   ],
   "source": [
    "tns"
   ]
  },
  {
   "cell_type": "code",
   "execution_count": 22,
   "metadata": {},
   "outputs": [],
   "source": [
    "tns = {}\n",
    "for i in range(1, 10):\n",
    "    tns[f\"num_{i}\"] = top_neurons_tuned_to_i(temp, i)"
   ]
  },
  {
   "cell_type": "code",
   "execution_count": 23,
   "metadata": {},
   "outputs": [],
   "source": [
    "vcs = {}\n",
    "for name, tn in tns.items():\n",
    "    if type(tn) != str:\n",
    "        vcs[name] = tn[\"cell_type\"].value_counts()    "
   ]
  },
  {
   "cell_type": "code",
   "execution_count": 35,
   "metadata": {},
   "outputs": [
    {
     "name": "stdout",
     "output_type": "stream",
     "text": [
      "num_3\n",
      "{'CB1379', 'CB1294', 'CB2612', 'CB0559', 'T3', 'CB1955', 'DNge094', 'CB1917', 'CB2771', 'Mi10', 'CB0927', 'CB2376', 'CB1569', 'SLP162b', 'CB1380', 'CB2987', 'L5', 'CB0693', 'Li13', 'Tm16', 'AOTU008d', 'CB3425', 'LTe63', 'cL13', 'CB2779', 'Dm1', 'CB2250', 'CB2007', 'Mi1', 'CB2041', 'CB3754', 'CB1896', 'DNge133', 'LAL030c', 'MTe53', 'SMP022a', 'CB2956', 'LLPC2', 'CB1774', 'DNge081', 'CB1016', 'WED041a', 'DNg17', 'CB2228', 'CB1660', 'LC10a', 'CB0800', 'LTe09', 'CB0955', 'CB2954', 'DNge229', 'Tm5c', 'LLPC4', 'CB3439', 'CB1518', 'CB3531', 'CB2550', 'AVLP312a', 'CB2485', 'CB2785', 'CB1505', 'lLN2X12', 'MeTu2', 'CB1682', 'CB1691', 'CB1618', 'CB0224', 'CB1964', 'CB3550', 'PS004b', 'CB3088', 'DNge044', 'CB2763', 'CB3011', 'CB3858', 'CB2665', 'T4a', 'CB3382', 'CB2582', 'CB3816', 'CB1783', 'TmY16', 'CB0496', 'CB1730', 'CB2505', 'CB2151', 'LTe49b', 'CB1206', 'R1-6', 'Tm8', 'T4b', 'CB1072', 'T4c', 'CB0343', 'CB3568', 'SMP361b', 'T5a', 'CB2187', 'CB1541', 'CB3826', 'Dm10', 'CB1826', 'CB0973', 'DNge122', 'CB3832', 'CL283b', 'CL018a', 'CB1498', 'CB2897', 'CB3257', 'CB3846', 'CB1371', 'Tm5Y', 'CB1087', 'CB3763', 'CB3261', 'CB1582', 'CB1588', 'CB2194', 'AOTU008c', 'T1', 'LTe33', 'CB1012', 'Tm12', 'TmY9', 'Tm9', 'cLLPM01', 'PLP057b', 'CB3178', 'CB2737', 'CB3330', 'CB0521', 'CB0087', 'LC10e', 'LHAV4g1c', 'CB3666', 'CB1646', 'KCab', 'CB1291', 'CB1011', 'Dm8', 'KCapbp-ap1', 'CB3042', 'CB0610', 'CB2433', 'CB1851', 'LTe61', 'LAL030d', 'CB0893', 'T5d', 'CB2551', 'L4', 'Tm3', 'TmY3', 'CB1205', 'Mi14', 'CB2901', 'CB1103', 'CB1457', 'CB0779', 'CB2217', 'ALIN4', 'CB1837', 'CB2903', 'AVLP550b', 'TmYem1', 'CB1417', 'DNg21', 'CB1464', 'DNg05_b', 'Dm11', 'CB1812', 'CB2930', 'AVLP469b', 'CB3111', 'CB2320', 'L2', 'CB3031', 'JO-EV', 'CB2863', 'CB1407', 'L1', 'CB2498', 'T4d', 'CB3482', 'CB.FB2E6', 'CB3833', 'MTe04', 'CB3029', 'CB1394', 'CB0493', 'CB3269', 'CB1143', 'CB2593', 'T5c', 'CB1979', 'CB.FB2I1', 'CB1053', 'CB0863', 'TmY11', 'CB2812', 'KCapbp-m', 'PS004a', 'CL120a', 'CB1648', 'lLN1_bc', 'CB0469', 'CB3837', 'C2', 'CB2896', 'CB2610', 'CB3742', 'CB1614', 'Mi9', 'Pm2', 'CB1270', 'AVLP218a', 'CB3479', 'CB3305', 'LTe49d', 'LC14b', 'MeTu1', 'Dm2', 'CB1327', 'CB3230', 'AVLP312b', 'DNge078', 'LHAV6c1b', 'CB3306', 'CB2625', 'CB3852', 'CB3366', 'CB2077', 'CB1591', 'T5b', 'CB0943', 'Dm15', 'CB0020', 'LC10c', 'CB2990', 'CB0946', 'CB3828', 'Mi2', 'CB2266', 'Dm9', 'DNg15', 'CB1299', 'CB1111', 'CB1324', 'TmY5a', 'Mi15', 'DNg02_a', 'CB1885', 'SLP467a', 'CB2543', 'Tm4', 'CB1302', 'CB0298', 'CB1678', 'SLP398a', 'CB2149', 'DNge007', 'DNge027', 'CB0284', 'CB1412', 'Dm4', 'CB3127', 'CB1126', 'MeTu4', 'DNge169', 'CB2817', 'CB3287', 'CB0148', 'CB3851', 'Tm1', 'CB1750', 'CB1127', 'Mi4', 'CB1607', 'CB.FB3,4D0', 'CB2308', 'Tm5a', 'CB2767', 'CB1382', 'Mi13', 'CB3864', 'CB3145', 'LCe03', 'CB2938', 'Dm20', 'AVLP550a', 'CB0919', 'AVLP380b', 'CB2848', 'C3', 'Dm12', 'CB3584', 'CB2267', 'CB2079', 'CB1231', 'CB1060', 'CB1252', 'CB0472', 'Tm2', 'CB1740', 'Am', 'LTe38b', 'CB.FB8E0', 'Tm6', 'CB0255', 'CB2370', 'Dm21', 'CB3541', 'L3', 'Tm20', 'CB1355', 'CB3753', 'CB2477', 'CB0978', 'CB2432', 'CB2424', 'R8', 'Dm6', 'cML02', 'CB1329', 'T2a', 'CB2155', 'CB1447', 'DNae015', 'AVLP147', 'CB2108', 'R7', 'CB2886', 'DNge184', 'CB3234', 'LCe04', 'CB2241', '5-HT-IR_Tan', 'LC10d', 'CB2683', 'CB2260', 'CB1148', 'CB0900', 'CB3849', 'CB3545', 'CB1460', 'CB0540', 'CB2575', 'CB0362', 'CB2660', 'LAL150b', 'Pm1', 'CB3328', 'CB3300', 'CB0645', 'CB0587', 'CB.FB7E0', 'T2', 'CB2664', 'cLP02', 'CB3317', 'LCe09', 'Unknown', 'CB0306', 'CB1384', 'CB2056', 'Dm3', 'CB2321', 'DNge150', 'TmY18', 'CB1268'}\n",
      "num_4\n",
      "{'Unknown'}\n",
      "num_5\n",
      "{'Unknown'}\n",
      "num_6\n",
      "set()\n",
      "num_7\n",
      "set()\n",
      "num_8\n",
      "set()\n",
      "num_9\n",
      "set()\n"
     ]
    }
   ],
   "source": [
    "# check if some cell types are in all the top neurons\n",
    "common = set(vcs[\"num_3\"].index)\n",
    "for name, vc in vcs.items():\n",
    "    if type(vc) != str:\n",
    "        print(name)\n",
    "        common = common.intersection(set(vc.index))\n",
    "        print(common)\n"
   ]
  },
  {
   "cell_type": "code",
   "execution_count": 26,
   "metadata": {},
   "outputs": [
    {
     "data": {
      "text/plain": [
       "Unknown    9\n",
       "T2a        3\n",
       "Pm2        2\n",
       "Tm3        2\n",
       "CB2846     1\n",
       "CB3379     1\n",
       "L5         1\n",
       "Tm2        1\n",
       "Dm2        1\n",
       "L3         1\n",
       "CB3064     1\n",
       "CB1415     1\n",
       "L1         1\n",
       "Mi9        1\n",
       "CB0989     1\n",
       "CB2592     1\n",
       "CB2995     1\n",
       "CB1301     1\n",
       "CB2809     1\n",
       "Name: cell_type, dtype: int64"
      ]
     },
     "execution_count": 26,
     "metadata": {},
     "output_type": "execute_result"
    }
   ],
   "source": [
    "vcs[\"num_2\"]"
   ]
  },
  {
   "cell_type": "code",
   "execution_count": 27,
   "metadata": {},
   "outputs": [
    {
     "data": {
      "text/plain": [
       "LCe03      1\n",
       "L1         1\n",
       "Unknown    1\n",
       "CB3092     1\n",
       "CB2453     1\n",
       "Name: cell_type, dtype: int64"
      ]
     },
     "execution_count": 27,
     "metadata": {},
     "output_type": "execute_result"
    }
   ],
   "source": [
    "vcs[\"num_3\"]"
   ]
  },
  {
   "cell_type": "code",
   "execution_count": 28,
   "metadata": {},
   "outputs": [
    {
     "data": {
      "text/html": [
       "<div>\n",
       "<style scoped>\n",
       "    .dataframe tbody tr th:only-of-type {\n",
       "        vertical-align: middle;\n",
       "    }\n",
       "\n",
       "    .dataframe tbody tr th {\n",
       "        vertical-align: top;\n",
       "    }\n",
       "\n",
       "    .dataframe thead th {\n",
       "        text-align: right;\n",
       "    }\n",
       "</style>\n",
       "<table border=\"1\" class=\"dataframe\">\n",
       "  <thead>\n",
       "    <tr style=\"text-align: right;\">\n",
       "      <th></th>\n",
       "      <th>root_id</th>\n",
       "      <th>cell_type</th>\n",
       "      <th>tuning_curve_3</th>\n",
       "    </tr>\n",
       "  </thead>\n",
       "  <tbody>\n",
       "    <tr>\n",
       "      <th>133598</th>\n",
       "      <td>720575940644282528</td>\n",
       "      <td>LCe03</td>\n",
       "      <td>0.920465</td>\n",
       "    </tr>\n",
       "    <tr>\n",
       "      <th>68448</th>\n",
       "      <td>720575940624792051</td>\n",
       "      <td>L1</td>\n",
       "      <td>0.919709</td>\n",
       "    </tr>\n",
       "    <tr>\n",
       "      <th>50908</th>\n",
       "      <td>720575940621678942</td>\n",
       "      <td>Unknown</td>\n",
       "      <td>0.907401</td>\n",
       "    </tr>\n",
       "    <tr>\n",
       "      <th>128216</th>\n",
       "      <td>720575940639686973</td>\n",
       "      <td>CB3092</td>\n",
       "      <td>0.906043</td>\n",
       "    </tr>\n",
       "    <tr>\n",
       "      <th>42416</th>\n",
       "      <td>720575940620173733</td>\n",
       "      <td>CB2453</td>\n",
       "      <td>0.901155</td>\n",
       "    </tr>\n",
       "  </tbody>\n",
       "</table>\n",
       "</div>"
      ],
      "text/plain": [
       "                   root_id cell_type  tuning_curve_3\n",
       "133598  720575940644282528     LCe03        0.920465\n",
       "68448   720575940624792051        L1        0.919709\n",
       "50908   720575940621678942   Unknown        0.907401\n",
       "128216  720575940639686973    CB3092        0.906043\n",
       "42416   720575940620173733    CB2453        0.901155"
      ]
     },
     "execution_count": 28,
     "metadata": {},
     "output_type": "execute_result"
    }
   ],
   "source": [
    "tns[\"num_3\"]"
   ]
  },
  {
   "cell_type": "code",
   "execution_count": 29,
   "metadata": {},
   "outputs": [
    {
     "data": {
      "text/html": [
       "<div>\n",
       "<style scoped>\n",
       "    .dataframe tbody tr th:only-of-type {\n",
       "        vertical-align: middle;\n",
       "    }\n",
       "\n",
       "    .dataframe tbody tr th {\n",
       "        vertical-align: top;\n",
       "    }\n",
       "\n",
       "    .dataframe thead th {\n",
       "        text-align: right;\n",
       "    }\n",
       "</style>\n",
       "<table border=\"1\" class=\"dataframe\">\n",
       "  <thead>\n",
       "    <tr style=\"text-align: right;\">\n",
       "      <th></th>\n",
       "      <th>root_id</th>\n",
       "      <th>cell_type</th>\n",
       "      <th>tuning_curve_4</th>\n",
       "    </tr>\n",
       "  </thead>\n",
       "  <tbody>\n",
       "  </tbody>\n",
       "</table>\n",
       "</div>"
      ],
      "text/plain": [
       "Empty DataFrame\n",
       "Columns: [root_id, cell_type, tuning_curve_4]\n",
       "Index: []"
      ]
     },
     "execution_count": 29,
     "metadata": {},
     "output_type": "execute_result"
    }
   ],
   "source": [
    "tns[\"num_4\"]"
   ]
  },
  {
   "cell_type": "code",
   "execution_count": 30,
   "metadata": {},
   "outputs": [
    {
     "data": {
      "text/html": [
       "<div>\n",
       "<style scoped>\n",
       "    .dataframe tbody tr th:only-of-type {\n",
       "        vertical-align: middle;\n",
       "    }\n",
       "\n",
       "    .dataframe tbody tr th {\n",
       "        vertical-align: top;\n",
       "    }\n",
       "\n",
       "    .dataframe thead th {\n",
       "        text-align: right;\n",
       "    }\n",
       "</style>\n",
       "<table border=\"1\" class=\"dataframe\">\n",
       "  <thead>\n",
       "    <tr style=\"text-align: right;\">\n",
       "      <th></th>\n",
       "      <th>root_id</th>\n",
       "      <th>cell_type</th>\n",
       "      <th>tuning_curve_5</th>\n",
       "    </tr>\n",
       "  </thead>\n",
       "  <tbody>\n",
       "  </tbody>\n",
       "</table>\n",
       "</div>"
      ],
      "text/plain": [
       "Empty DataFrame\n",
       "Columns: [root_id, cell_type, tuning_curve_5]\n",
       "Index: []"
      ]
     },
     "execution_count": 30,
     "metadata": {},
     "output_type": "execute_result"
    }
   ],
   "source": [
    "tns[\"num_5\"]"
   ]
  },
  {
   "cell_type": "code",
   "execution_count": 31,
   "metadata": {},
   "outputs": [
    {
     "data": {
      "text/html": [
       "<div>\n",
       "<style scoped>\n",
       "    .dataframe tbody tr th:only-of-type {\n",
       "        vertical-align: middle;\n",
       "    }\n",
       "\n",
       "    .dataframe tbody tr th {\n",
       "        vertical-align: top;\n",
       "    }\n",
       "\n",
       "    .dataframe thead th {\n",
       "        text-align: right;\n",
       "    }\n",
       "</style>\n",
       "<table border=\"1\" class=\"dataframe\">\n",
       "  <thead>\n",
       "    <tr style=\"text-align: right;\">\n",
       "      <th></th>\n",
       "      <th>root_id</th>\n",
       "      <th>cell_type</th>\n",
       "      <th>tuning_curve_6</th>\n",
       "    </tr>\n",
       "  </thead>\n",
       "  <tbody>\n",
       "    <tr>\n",
       "      <th>55556</th>\n",
       "      <td>720575940622478341</td>\n",
       "      <td>CB3857</td>\n",
       "      <td>0.904525</td>\n",
       "    </tr>\n",
       "  </tbody>\n",
       "</table>\n",
       "</div>"
      ],
      "text/plain": [
       "                  root_id cell_type  tuning_curve_6\n",
       "55556  720575940622478341    CB3857        0.904525"
      ]
     },
     "execution_count": 31,
     "metadata": {},
     "output_type": "execute_result"
    }
   ],
   "source": [
    "tns[\"num_6\"]"
   ]
  },
  {
   "cell_type": "code",
   "execution_count": null,
   "metadata": {},
   "outputs": [],
   "source": []
  }
 ],
 "metadata": {
  "kernelspec": {
   "display_name": "venv",
   "language": "python",
   "name": "python3"
  },
  "language_info": {
   "codemirror_mode": {
    "name": "ipython",
    "version": 3
   },
   "file_extension": ".py",
   "mimetype": "text/x-python",
   "name": "python",
   "nbconvert_exporter": "python",
   "pygments_lexer": "ipython3",
   "version": "3.10.12"
  }
 },
 "nbformat": 4,
 "nbformat_minor": 2
}
