{
 "cells": [
  {
   "cell_type": "code",
   "execution_count": 1,
   "metadata": {},
   "outputs": [
    {
     "name": "stderr",
     "output_type": "stream",
     "text": [
      "/home/eudald/Desktop/doctorat/connectome/venv/lib/python3.10/site-packages/torch/cuda/__init__.py:118: UserWarning: CUDA initialization: CUDA unknown error - this may be due to an incorrectly set up environment, e.g. changing env variable CUDA_VISIBLE_DEVICES after program start. Setting the available devices to be zero. (Triggered internally at ../c10/cuda/CUDAFunctions.cpp:108.)\n",
      "  return torch._C._cuda_getDeviceCount() > 0\n"
     ]
    }
   ],
   "source": [
    "%matplotlib inline\n",
    "import copy\n",
    "\n",
    "import numpy as np\n",
    "import torch\n",
    "import torch.nn.utils.prune as prune\n",
    "from torch.nn import CrossEntropyLoss\n",
    "import matplotlib.pyplot as plt\n",
    "cmap = plt.get_cmap(\"viridis\")\n",
    "from tqdm import tqdm\n",
    "\n",
    "import config\n",
    "from graph_models import FullGraphModel\n",
    "from complete_training_data_processing import CompleteModelsDataProcessor\n",
    "from utils import (\n",
    "    clean_model_outputs, \n",
    "    get_image_paths, \n",
    "    get_iteration_number, \n",
    "    initialize_results_df, \n",
    "    select_random_images, \n",
    "    update_results_df, \n",
    "    update_running_loss, \n",
    "    plot_results\n",
    ")\n",
    "\n",
    "device_type = \"cuda\" if torch.cuda.is_available() else \"cpu\"\n",
    "device = torch.device(device_type)\n",
    "dtype = torch.float32\n",
    "batch_size = config.batch_size"
   ]
  },
  {
   "cell_type": "code",
   "execution_count": 2,
   "metadata": {},
   "outputs": [],
   "source": [
    "data_processor = CompleteModelsDataProcessor(\n",
    "    neurons=config.neurons,\n",
    "    voronoi_criteria=config.voronoi_criteria,\n",
    "    random_synapses=config.random_synapses,\n",
    "    log_transform_weights=config.log_transform_weights,\n",
    ")\n",
    "\n",
    "model = FullGraphModel(\n",
    "    input_shape=data_processor.number_of_synapses,\n",
    "    num_connectome_passes=config.NUM_CONNECTOME_PASSES,\n",
    "    decision_making_vector=data_processor.decision_making_vector,\n",
    "    batch_size=config.batch_size,\n",
    "    dtype=config.dtype,\n",
    "    edge_weights=data_processor.synaptic_matrix.data,\n",
    "    device=config.DEVICE,\n",
    "    num_classes=len(config.CLASSES),\n",
    ").to(device)\n",
    "criterion = CrossEntropyLoss()"
   ]
  },
  {
   "cell_type": "code",
   "execution_count": 3,
   "metadata": {},
   "outputs": [],
   "source": [
    "def correct_test_results(test_results):\n",
    "    # There was a bug in how we get the classes, and the 0-1 labels can be flipped\n",
    "    # This function corrects the labels if the accuracy is below 0.5\n",
    "    flipped = False\n",
    "    if test_results[\"Is correct\"].sum() / len(test_results) < 0.5:\n",
    "        test_results[\"Is correct\"] = np.abs(test_results[\"Is correct\"] - 1)\n",
    "        flipped = True\n",
    "\n",
    "    return test_results, flipped\n",
    "\n",
    "# test\n",
    "def test(model):\n",
    "    testing_images = get_image_paths(\n",
    "        config.TESTING_DATA_DIR, config.small_length\n",
    "    )\n",
    "    already_selected_testing = []\n",
    "    total_correct, total, running_loss = 0, 0, 0.0\n",
    "    test_results = initialize_results_df()\n",
    "\n",
    "    iterations = get_iteration_number(len(testing_images), batch_size)\n",
    "    for _ in tqdm(range(iterations)):\n",
    "        batch_files, already_selected_testing = select_random_images(\n",
    "            testing_images, batch_size, already_selected_testing\n",
    "        )\n",
    "        images, labels = data_processor.get_data_from_paths(batch_files)\n",
    "        inputs, labels = data_processor.process_batch(images, labels)\n",
    "        inputs = inputs.to(config.DEVICE)\n",
    "\n",
    "        out = model(inputs)\n",
    "        loss = criterion(out, labels)\n",
    "\n",
    "        # Calculate run parameters\n",
    "        outputs, predictions, labels_cpu, correct = clean_model_outputs(out, labels)\n",
    "        test_results = update_results_df(\n",
    "            test_results, batch_files, outputs, predictions, labels_cpu, correct\n",
    "        )\n",
    "        running_loss += update_running_loss(loss, inputs)\n",
    "        total += batch_size\n",
    "        total_correct += correct.sum()\n",
    "\n",
    "    test_results, flipped = correct_test_results(test_results)\n",
    "    final_plots = plot_results(test_results, plot_types=config.plot_types)\n",
    "\n",
    "    print(\n",
    "        f\"Finished testing with loss {running_loss / total} and \"\n",
    "        f\"accuracy {total_correct / total}.\"\n",
    "    )\n",
    "    return test_results, final_plots, total_correct / total, flipped"
   ]
  },
  {
   "cell_type": "code",
   "execution_count": 4,
   "metadata": {},
   "outputs": [],
   "source": [
    "checkpoint = torch.load(\n",
    "    \"models/n_all_v_R7_r_False_lr_0.001_p_4_2024-05-23 18:58.pth\",\n",
    "    map_location=device_type,\n",
    ")\n",
    "model.load_state_dict(checkpoint[\"model\"])\n",
    "torch.set_grad_enabled(False)\n",
    "model.eval()\n",
    "model_orig = copy.deepcopy(model)\n"
   ]
  },
  {
   "cell_type": "code",
   "execution_count": 5,
   "metadata": {},
   "outputs": [
    {
     "name": "stderr",
     "output_type": "stream",
     "text": [
      "100%|██████████| 37/37 [02:56<00:00,  4.76s/it]\n"
     ]
    },
    {
     "name": "stdout",
     "output_type": "stream",
     "text": [
      "Finished testing with loss 111420.82571396956 and accuracy 0.49155405405405406.\n"
     ]
    }
   ],
   "source": [
    "test_results, final_plots, accuracy, flipped = test(model)"
   ]
  },
  {
   "cell_type": "code",
   "execution_count": null,
   "metadata": {},
   "outputs": [],
   "source": []
  }
 ],
 "metadata": {
  "kernelspec": {
   "display_name": "venv",
   "language": "python",
   "name": "python3"
  },
  "language_info": {
   "codemirror_mode": {
    "name": "ipython",
    "version": 3
   },
   "file_extension": ".py",
   "mimetype": "text/x-python",
   "name": "python",
   "nbconvert_exporter": "python",
   "pygments_lexer": "ipython3",
   "version": "3.10.12"
  }
 },
 "nbformat": 4,
 "nbformat_minor": 2
}
