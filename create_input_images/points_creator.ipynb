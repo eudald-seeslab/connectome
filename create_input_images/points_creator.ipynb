{
 "cells": [
  {
   "cell_type": "code",
   "metadata": {
    "collapsed": true,
    "ExecuteTime": {
     "end_time": "2024-04-05T15:18:51.038554Z",
     "start_time": "2024-04-05T15:18:50.945357Z"
    }
   },
   "source": [
    "import os\n",
    "\n",
    "from PIL import Image\n",
    "from points import NumberPoints\n",
    "import random"
   ],
   "outputs": [],
   "execution_count": 1
  },
  {
   "cell_type": "code",
   "source": [
    "random.seed(1714)\n",
    "\n",
    "# constants\n",
    "boundary_width = 5\n",
    "background_colour = \"#808080\"\n",
    "yellow = \"#fffe04\"\n",
    "blue = \"#0003f9\"\n",
    "point_sep = 20\n",
    "min_point_radius = 8\n",
    "max_point_radius = 16\n",
    "init_size = 512\n",
    "mode = \"RGB\"\n",
    "\n",
    "IMG_DIR = \"../images/output_pngs\"\n",
    "os.makedirs(IMG_DIR, exist_ok=True)\n",
    "os.makedirs(os.path.join(IMG_DIR, \"yellow\"), exist_ok=True)\n",
    "os.makedirs(os.path.join(IMG_DIR, \"blue\"), exist_ok=True)"
   ],
   "metadata": {
    "collapsed": false,
    "pycharm": {
     "name": "#%%\n"
    },
    "ExecuteTime": {
     "end_time": "2024-04-05T15:18:52.014736Z",
     "start_time": "2024-04-05T15:18:52.009799Z"
    }
   },
   "outputs": [],
   "execution_count": 2
  },
  {
   "cell_type": "code",
   "source": [
    "# halberda point num and ratios\n",
    "min_point_num = 4\n",
    "max_point_num = 16\n",
    "\n",
    "ratios = [2 / 5, 1 / 2, 2 / 3, 3 / 4, 4 / 5, 5 / 6, 7 / 8, 8 / 9, 9 / 10, 10 / 11, 11 / 12]\n",
    "\n",
    "# All possibilities"
   ],
   "metadata": {
    "collapsed": false,
    "pycharm": {
     "name": "#%%\n"
    },
    "ExecuteTime": {
     "end_time": "2024-04-05T15:18:52.859365Z",
     "start_time": "2024-04-05T15:18:52.854884Z"
    }
   },
   "outputs": [],
   "execution_count": 3
  },
  {
   "cell_type": "code",
   "source": [
    "p = [[(b, int(b / a)) for a in ratios if max_point_num >= b / a == round(b / a)] for b in range(min_point_num, max_point_num + 1)]\n",
    "pos = [item for sublist in p for item in sublist]"
   ],
   "metadata": {
    "collapsed": false,
    "pycharm": {
     "name": "#%%\n"
    },
    "ExecuteTime": {
     "end_time": "2024-04-05T15:18:54.268881Z",
     "start_time": "2024-04-05T15:18:54.265830Z"
    }
   },
   "outputs": [],
   "execution_count": 4
  },
  {
   "cell_type": "code",
   "source": [
    "def create_image(n1, n2, name_, equalized):\n",
    "    img = Image.new(mode, (init_size, init_size), color=background_colour)\n",
    "    number_points = NumberPoints(img, init_size, yellow=yellow, blue=blue)\n",
    "    point_array = number_points.design_n_points(n1, \"yellow\")\n",
    "    point_array = number_points.design_n_points(n2, \"blue\", point_array=point_array)\n",
    "    if equalized:\n",
    "        point_array = number_points.equalize_areas(point_array)\n",
    "\n",
    "    img = number_points.draw_points(point_array)\n",
    "\n",
    "    if n1 > n2:\n",
    "        img.save(os.path.join(IMG_DIR, \"yellow\", name_))\n",
    "    else:\n",
    "        img.save(os.path.join(IMG_DIR, \"blue\", name_))"
   ],
   "metadata": {
    "collapsed": false,
    "pycharm": {
     "name": "#%%\n"
    },
    "ExecuteTime": {
     "end_time": "2024-04-05T15:18:54.872015Z",
     "start_time": "2024-04-05T15:18:54.867813Z"
    }
   },
   "outputs": [],
   "execution_count": 5
  },
  {
   "cell_type": "code",
   "source": [
    "def create_and_save(n1, n2, equalized, tag=\"\"):\n",
    "    name = f\"img_{n1}_{n2}_{tag}{'_equalized' if equalized else ''}.png\"\n",
    "    create_image(n1, n2, name, equalized)\n",
    "\n",
    "for i in range(100):\n",
    "    for pair in pos:\n",
    "        create_and_save(pair[0], pair[1], equalized=True, tag=i)\n",
    "        create_and_save(pair[1], pair[0], equalized=True, tag=i)\n",
    "        create_and_save(pair[0], pair[1], equalized=False, tag=i)\n",
    "        create_and_save(pair[1], pair[0], equalized=False, tag=i)"
   ],
   "metadata": {
    "collapsed": false,
    "pycharm": {
     "name": "#%%\n"
    },
    "ExecuteTime": {
     "end_time": "2024-04-05T15:20:00.016139Z",
     "start_time": "2024-04-05T15:18:55.788310Z"
    }
   },
   "outputs": [],
   "execution_count": 6
  },
  {
   "cell_type": "code",
   "execution_count": 13,
   "outputs": [
    {
     "data": {
      "text/plain": "[(4, 10),\n (4, 8),\n (4, 6),\n (4, 5),\n (5, 10),\n (5, 6),\n (6, 15),\n (6, 12),\n (6, 9),\n (6, 8),\n (7, 14),\n (7, 8),\n (8, 16),\n (8, 12),\n (8, 10),\n (8, 9),\n (9, 12),\n (9, 10),\n (10, 15),\n (10, 12),\n (10, 11),\n (11, 12),\n (12, 16),\n (12, 15),\n (14, 16)]"
     },
     "execution_count": 13,
     "metadata": {},
     "output_type": "execute_result"
    }
   ],
   "source": [
    "pos"
   ],
   "metadata": {
    "collapsed": false,
    "pycharm": {
     "name": "#%%\n"
    },
    "ExecuteTime": {
     "end_time": "2023-09-16T15:59:06.520936400Z",
     "start_time": "2023-09-16T15:59:06.436398500Z"
    }
   }
  },
  {
   "cell_type": "code",
   "execution_count": 13,
   "outputs": [],
   "source": [],
   "metadata": {
    "collapsed": false,
    "pycharm": {
     "name": "#%%\n"
    },
    "ExecuteTime": {
     "end_time": "2023-09-16T15:59:06.551239200Z",
     "start_time": "2023-09-16T15:59:06.445585Z"
    }
   }
  }
 ],
 "metadata": {
  "kernelspec": {
   "display_name": "Python 3",
   "language": "python",
   "name": "python3"
  },
  "language_info": {
   "codemirror_mode": {
    "name": "ipython",
    "version": 2
   },
   "file_extension": ".py",
   "mimetype": "text/x-python",
   "name": "python",
   "nbconvert_exporter": "python",
   "pygments_lexer": "ipython2",
   "version": "2.7.6"
  }
 },
 "nbformat": 4,
 "nbformat_minor": 0
}
