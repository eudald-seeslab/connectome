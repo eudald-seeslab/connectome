{
 "cells": [
  {
   "cell_type": "code",
   "execution_count": 1,
   "id": "initial_id",
   "metadata": {
    "collapsed": true,
    "ExecuteTime": {
     "end_time": "2024-03-01T18:52:59.116360Z",
     "start_time": "2024-03-01T18:52:56.463469Z"
    }
   },
   "outputs": [
    {
     "name": "stderr",
     "output_type": "stream",
     "text": [
      "/home/eudald/Desktop/doctorat/connectome/venv/lib/python3.10/site-packages/torch/__init__.py:614: UserWarning: torch.set_default_tensor_type() is deprecated as of PyTorch 2.1, please use torch.set_default_dtype() and torch.set_default_device() as alternatives. (Triggered internally at ../torch/csrc/tensor/python_tensor.cpp:451.)\n",
      "  _C._set_default_tensor_type(t)\n"
     ]
    }
   ],
   "source": [
    "import numpy as np\n",
    "from flyvis.examples.flyvision_ans import ResponseProcessor, DECODING_CELLS"
   ]
  },
  {
   "cell_type": "code",
   "outputs": [
    {
     "ename": "RuntimeError",
     "evalue": "CUDA error: out of memory\nCUDA kernel errors might be asynchronously reported at some other API call, so the stacktrace below might be incorrect.\nFor debugging consider passing CUDA_LAUNCH_BLOCKING=1.\nCompile with `TORCH_USE_CUDA_DSA` to enable device-side assertions.\n",
     "output_type": "error",
     "traceback": [
      "\u001B[0;31m---------------------------------------------------------------------------\u001B[0m",
      "\u001B[0;31mRuntimeError\u001B[0m                              Traceback (most recent call last)",
      "Input \u001B[0;32mIn [2]\u001B[0m, in \u001B[0;36m<cell line: 2>\u001B[0;34m()\u001B[0m\n\u001B[1;32m      1\u001B[0m \u001B[38;5;66;03m# load the data\u001B[39;00m\n\u001B[0;32m----> 2\u001B[0m response_processor \u001B[38;5;241m=\u001B[39m \u001B[43mResponseProcessor\u001B[49m\u001B[43m(\u001B[49m\u001B[38;5;124;43m\"\u001B[39;49m\u001B[38;5;124;43m../videos/yellow\u001B[39;49m\u001B[38;5;124;43m\"\u001B[39;49m\u001B[43m)\u001B[49m\n\u001B[1;32m      3\u001B[0m \u001B[38;5;66;03m# compute the responses\u001B[39;00m\n\u001B[1;32m      4\u001B[0m responses \u001B[38;5;241m=\u001B[39m response_processor\u001B[38;5;241m.\u001B[39mcompute_responses()\n",
      "File \u001B[0;32m~/Desktop/doctorat/connectome/flyvis/examples/flyvision_ans.py:129\u001B[0m, in \u001B[0;36mResponseProcessor.__init__\u001B[0;34m(self, input_data_path)\u001B[0m\n\u001B[1;32m    127\u001B[0m \u001B[38;5;28mself\u001B[39m\u001B[38;5;241m.\u001B[39minput_path \u001B[38;5;241m=\u001B[39m input_data_path\n\u001B[1;32m    128\u001B[0m network_view \u001B[38;5;241m=\u001B[39m NetworkView(flyvision\u001B[38;5;241m.\u001B[39mresults_dir \u001B[38;5;241m/\u001B[39m \u001B[38;5;124m\"\u001B[39m\u001B[38;5;124mopticflow/000/0000\u001B[39m\u001B[38;5;124m\"\u001B[39m)\n\u001B[0;32m--> 129\u001B[0m \u001B[38;5;28mself\u001B[39m\u001B[38;5;241m.\u001B[39mnetwork \u001B[38;5;241m=\u001B[39m \u001B[43mnetwork_view\u001B[49m\u001B[38;5;241;43m.\u001B[39;49m\u001B[43minit_network\u001B[49m\u001B[43m(\u001B[49m\u001B[43mchkpt\u001B[49m\u001B[38;5;241;43m=\u001B[39;49m\u001B[38;5;124;43m\"\u001B[39;49m\u001B[38;5;124;43mbest_chkpt\u001B[39;49m\u001B[38;5;124;43m\"\u001B[39;49m\u001B[43m)\u001B[49m\n",
      "File \u001B[0;32m~/Desktop/doctorat/connectome/flyvision/network.py:880\u001B[0m, in \u001B[0;36mNetworkView.init_network\u001B[0;34m(self, chkpt, network)\u001B[0m\n\u001B[1;32m    878\u001B[0m \u001B[38;5;28;01mif\u001B[39;00m \u001B[38;5;28mself\u001B[39m\u001B[38;5;241m.\u001B[39m_initialized[\u001B[38;5;124m\"\u001B[39m\u001B[38;5;124mnetwork\u001B[39m\u001B[38;5;124m\"\u001B[39m] \u001B[38;5;129;01mand\u001B[39;00m network \u001B[38;5;129;01mis\u001B[39;00m \u001B[38;5;28;01mNone\u001B[39;00m:\n\u001B[1;32m    879\u001B[0m     \u001B[38;5;28;01mreturn\u001B[39;00m \u001B[38;5;28mself\u001B[39m\u001B[38;5;241m.\u001B[39mnetwork\n\u001B[0;32m--> 880\u001B[0m \u001B[38;5;28mself\u001B[39m\u001B[38;5;241m.\u001B[39mnetwork \u001B[38;5;241m=\u001B[39m network \u001B[38;5;129;01mor\u001B[39;00m \u001B[43mNetwork\u001B[49m\u001B[43m(\u001B[49m\u001B[38;5;241;43m*\u001B[39;49m\u001B[38;5;241;43m*\u001B[39;49m\u001B[38;5;28;43mself\u001B[39;49m\u001B[38;5;241;43m.\u001B[39;49m\u001B[43mdir\u001B[49m\u001B[38;5;241;43m.\u001B[39;49m\u001B[43mconfig\u001B[49m\u001B[38;5;241;43m.\u001B[39;49m\u001B[43mnetwork\u001B[49m\u001B[43m)\u001B[49m\n\u001B[1;32m    881\u001B[0m state_dict \u001B[38;5;241m=\u001B[39m torch\u001B[38;5;241m.\u001B[39mload(\u001B[38;5;28mself\u001B[39m\u001B[38;5;241m.\u001B[39mdir \u001B[38;5;241m/\u001B[39m chkpt, map_location\u001B[38;5;241m=\u001B[39mflyvision\u001B[38;5;241m.\u001B[39mdevice)\n\u001B[1;32m    882\u001B[0m \u001B[38;5;28mself\u001B[39m\u001B[38;5;241m.\u001B[39mnetwork\u001B[38;5;241m.\u001B[39mload_state_dict(state_dict[\u001B[38;5;124m\"\u001B[39m\u001B[38;5;124mnetwork\u001B[39m\u001B[38;5;124m\"\u001B[39m])\n",
      "File \u001B[0;32m~/Desktop/doctorat/connectome/flyvision/network.py:140\u001B[0m, in \u001B[0;36mNetwork.__init__\u001B[0;34m(self, connectome, dynamics, node_config, edge_config)\u001B[0m\n\u001B[1;32m    136\u001B[0m \u001B[38;5;28mself\u001B[39m\u001B[38;5;241m.\u001B[39mdynamics \u001B[38;5;241m=\u001B[39m NetworkDynamics(dynamics)\n\u001B[1;32m    138\u001B[0m \u001B[38;5;66;03m# Load constant indices into memory.\u001B[39;00m\n\u001B[1;32m    139\u001B[0m \u001B[38;5;66;03m# Store source/target indices.\u001B[39;00m\n\u001B[0;32m--> 140\u001B[0m \u001B[38;5;28mself\u001B[39m\u001B[38;5;241m.\u001B[39m_source_indices \u001B[38;5;241m=\u001B[39m \u001B[43mtorch\u001B[49m\u001B[38;5;241;43m.\u001B[39;49m\u001B[43mtensor\u001B[49m\u001B[43m(\u001B[49m\u001B[38;5;28;43mself\u001B[39;49m\u001B[38;5;241;43m.\u001B[39;49m\u001B[43mconnectome\u001B[49m\u001B[38;5;241;43m.\u001B[39;49m\u001B[43medges\u001B[49m\u001B[38;5;241;43m.\u001B[39;49m\u001B[43msource_index\u001B[49m\u001B[43m[\u001B[49m\u001B[43m:\u001B[49m\u001B[43m]\u001B[49m\u001B[43m)\u001B[49m\n\u001B[1;32m    141\u001B[0m \u001B[38;5;28mself\u001B[39m\u001B[38;5;241m.\u001B[39m_target_indices \u001B[38;5;241m=\u001B[39m torch\u001B[38;5;241m.\u001B[39mtensor(\u001B[38;5;28mself\u001B[39m\u001B[38;5;241m.\u001B[39mconnectome\u001B[38;5;241m.\u001B[39medges\u001B[38;5;241m.\u001B[39mtarget_index[:])\n\u001B[1;32m    143\u001B[0m \u001B[38;5;28mself\u001B[39m\u001B[38;5;241m.\u001B[39mn_nodes \u001B[38;5;241m=\u001B[39m \u001B[38;5;28mlen\u001B[39m(\u001B[38;5;28mself\u001B[39m\u001B[38;5;241m.\u001B[39mconnectome\u001B[38;5;241m.\u001B[39mnodes\u001B[38;5;241m.\u001B[39mtype)\n",
      "\u001B[0;31mRuntimeError\u001B[0m: CUDA error: out of memory\nCUDA kernel errors might be asynchronously reported at some other API call, so the stacktrace below might be incorrect.\nFor debugging consider passing CUDA_LAUNCH_BLOCKING=1.\nCompile with `TORCH_USE_CUDA_DSA` to enable device-side assertions.\n"
     ]
    }
   ],
   "source": [
    "# load the data\n",
    "response_processor = ResponseProcessor(\"../videos/yellow\")\n",
    "# compute the responses\n",
    "responses = response_processor.compute_responses()\n",
    "# compute the layer activations\n",
    "layer_activations = response_processor.compute_layer_activations(responses)"
   ],
   "metadata": {
    "collapsed": false,
    "ExecuteTime": {
     "end_time": "2024-03-01T18:52:59.377427Z",
     "start_time": "2024-03-01T18:52:59.117489Z"
    }
   },
   "id": "7b26c41f77c93d4e",
   "execution_count": 2
  },
  {
   "cell_type": "code",
   "outputs": [],
   "source": [
    "decoding_activations = []\n",
    "for layer in layer_activations:\n",
    "    decoding_activations.append({cell: layer[cell] for cell in DECODING_CELLS})"
   ],
   "metadata": {
    "collapsed": false,
    "ExecuteTime": {
     "end_time": "2024-01-19T07:12:44.574163203Z",
     "start_time": "2024-01-19T07:12:44.231275206Z"
    }
   },
   "id": "9c9aa89e81fed0ee",
   "execution_count": 18
  },
  {
   "cell_type": "code",
   "outputs": [],
   "source": [
    "# save decoding activations\n",
    "np.save(\"../parsed_objects/decoding_activations.npy\", decoding_activations)"
   ],
   "metadata": {
    "collapsed": false,
    "ExecuteTime": {
     "end_time": "2024-01-19T07:14:42.993307596Z",
     "start_time": "2024-01-19T07:14:42.092077190Z"
    }
   },
   "id": "61530eb5095806bd",
   "execution_count": 26
  },
  {
   "cell_type": "code",
   "outputs": [],
   "source": [],
   "metadata": {
    "collapsed": false
   },
   "id": "3ef387895b4bc2d9"
  }
 ],
 "metadata": {
  "kernelspec": {
   "display_name": "Python 3",
   "language": "python",
   "name": "python3"
  },
  "language_info": {
   "codemirror_mode": {
    "name": "ipython",
    "version": 2
   },
   "file_extension": ".py",
   "mimetype": "text/x-python",
   "name": "python",
   "nbconvert_exporter": "python",
   "pygments_lexer": "ipython2",
   "version": "2.7.6"
  }
 },
 "nbformat": 4,
 "nbformat_minor": 5
}
