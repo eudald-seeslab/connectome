{
 "cells": [
  {
   "cell_type": "code",
   "execution_count": 1,
   "metadata": {},
   "outputs": [
    {
     "name": "stderr",
     "output_type": "stream",
     "text": [
      "/home/eudald/Desktop/doctorat/connectome/venv/lib/python3.10/site-packages/torch/__init__.py:747: UserWarning: torch.set_default_tensor_type() is deprecated as of PyTorch 2.1, please use torch.set_default_dtype() and torch.set_default_device() as alternatives. (Triggered internally at ../torch/csrc/tensor/python_tensor.cpp:431.)\n",
      "  _C._set_default_tensor_type(t)\n"
     ]
    }
   ],
   "source": [
    "import warnings\n",
    "import torch\n",
    "from torch.nn import BCEWithLogitsLoss\n",
    "from tqdm import tqdm\n",
    "\n",
    "import config\n",
    "from utils import get_image_paths\n",
    "from complete_training_data_processing import CompleteModelsDataProcessor\n",
    "from graph_models import FullGraphModel\n",
    "from from_retina_to_connectome_utils import (\n",
    "    select_random_images,\n",
    "    initialize_results_df,\n",
    "    clean_model_outputs,\n",
    "    update_results_df,\n",
    "    update_running_loss,\n",
    ")\n",
    "\n",
    "from wandb_utils import WandBLogger\n",
    "\n",
    "warnings.filterwarnings(\n",
    "    \"ignore\",\n",
    "    message=\"invalid value encountered in cast\",\n",
    "    category=RuntimeWarning,\n",
    "    module=\"wandb.sdk.data_types.image\",\n",
    ")\n",
    "\n",
    "torch.manual_seed(1234)\n",
    "\n",
    "num_epochs = config.num_epochs\n",
    "training_images_dir = config.TRAINING_DATA_DIR\n",
    "small = config.small\n",
    "small_length = config.small_length"
   ]
  },
  {
   "cell_type": "code",
   "execution_count": 2,
   "metadata": {},
   "outputs": [],
   "source": [
    "# get data\n",
    "training_images = get_image_paths(\n",
    "    training_images_dir, small, small_length\n",
    ")\n",
    "data_processor = CompleteModelsDataProcessor()\n",
    "data_processor.create_voronoi_cells()"
   ]
  },
  {
   "cell_type": "code",
   "execution_count": 3,
   "metadata": {},
   "outputs": [],
   "source": [
    "model = FullGraphModel(\n",
    "    input_shape=data_processor.synaptic_matrix.shape[0],\n",
    "    num_connectome_passes=config.NUM_CONNECTOME_PASSES,\n",
    "    decision_making_vector=data_processor.decision_making_vector,\n",
    "    log_transform_weights=config.log_transform_weights,\n",
    "    batch_size=config.batch_size,\n",
    "    dtype=config.dtype,\n",
    "    num_edges=data_processor.synaptic_matrix.nnz,\n",
    "    retina_connection=False,\n",
    ").to(config.DEVICE)\n",
    "optimizer = torch.optim.Adam(model.parameters(), lr=config.base_lr)\n",
    "\n",
    "criterion = BCEWithLogitsLoss()"
   ]
  },
  {
   "cell_type": "code",
   "execution_count": 4,
   "metadata": {},
   "outputs": [
    {
     "name": "stderr",
     "output_type": "stream",
     "text": [
      "100%|██████████| 2/2 [00:03<00:00,  1.68s/it]\n"
     ]
    },
    {
     "name": "stdout",
     "output_type": "stream",
     "text": [
      "Finished epoch 0 with loss 46737.92021846771 and accuracy 0.484375\n"
     ]
    },
    {
     "name": "stderr",
     "output_type": "stream",
     "text": [
      "100%|██████████| 2/2 [00:02<00:00,  1.39s/it]"
     ]
    },
    {
     "name": "stdout",
     "output_type": "stream",
     "text": [
      "Finished epoch 1 with loss 46379.585933983326 and accuracy 0.5078125\n",
      "Finished training with loss 46379.585933983326 and accuracy 0.5078125\n"
     ]
    },
    {
     "name": "stderr",
     "output_type": "stream",
     "text": [
      "\n"
     ]
    }
   ],
   "source": [
    "wandb_logger = WandBLogger(\"adult_complete\")\n",
    "wandb_logger.initialize()\n",
    "\n",
    "model.train()\n",
    "iterations = (\n",
    "    config.debug_length\n",
    "    if config.debugging\n",
    "    else len(training_images) // config.batch_size\n",
    ")\n",
    "results = initialize_results_df()\n",
    "running_loss, total_correct, total = 0, 0, 0\n",
    "for ep in range(num_epochs):\n",
    "    # train\n",
    "    already_selected = []\n",
    "    for i in tqdm(range(iterations)):\n",
    "        batch_files, already_selected = select_random_images(\n",
    "            training_images, config.batch_size, already_selected\n",
    "        )\n",
    "        # recreate voronoi cells so they are different\n",
    "        data_processor.create_voronoi_cells()\n",
    "        inputs, labels = data_processor.process_batch(batch_files)\n",
    "        optimizer.zero_grad()\n",
    "        out = model(inputs)\n",
    "        loss = criterion(out, labels)\n",
    "        loss.backward()\n",
    "        optimizer.step()\n",
    "\n",
    "        # Calculate run parameters\n",
    "        outputs, predictions, labels_cpu, correct = clean_model_outputs(out, labels)\n",
    "        results = update_results_df(\n",
    "            results, batch_files, outputs, predictions, labels_cpu, correct\n",
    "        )\n",
    "        running_loss += update_running_loss(loss, inputs)\n",
    "        total += config.batch_size\n",
    "        total_correct += correct.sum()\n",
    "\n",
    "        wandb_logger.log_metrics(i, running_loss, total_correct, total, results)\n",
    "\n",
    "    print(\n",
    "        f\"Finished epoch {ep} with loss {running_loss / total} and accuracy {total_correct / total}\"\n",
    "    )\n",
    "    torch.cuda.empty_cache()\n",
    "\n",
    "print(\n",
    "    f\"Finished training with loss {running_loss / total} and accuracy {total_correct / total}\"\n",
    ")\n",
    "wandb_logger.finish()"
   ]
  },
  {
   "cell_type": "code",
   "execution_count": null,
   "metadata": {},
   "outputs": [],
   "source": []
  },
  {
   "cell_type": "markdown",
   "metadata": {},
   "source": [
    "coses a fer:\n",
    "- canviar les cel·les de voronoi a cada batch\n",
    "- fer múltipes passades per veure la mateixa imatge amb més d'una tesselació\n",
    "- escollir menys neurones pel decision making"
   ]
  },
  {
   "cell_type": "code",
   "execution_count": null,
   "metadata": {},
   "outputs": [],
   "source": []
  }
 ],
 "metadata": {
  "kernelspec": {
   "display_name": "venv",
   "language": "python",
   "name": "python3"
  },
  "language_info": {
   "codemirror_mode": {
    "name": "ipython",
    "version": 3
   },
   "file_extension": ".py",
   "mimetype": "text/x-python",
   "name": "python",
   "nbconvert_exporter": "python",
   "pygments_lexer": "ipython3",
   "version": "3.10.12"
  }
 },
 "nbformat": 4,
 "nbformat_minor": 2
}
