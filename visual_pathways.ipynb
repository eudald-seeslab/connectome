{
 "cells": [
  {
   "cell_type": "code",
   "execution_count": 1,
   "id": "initial_id",
   "metadata": {
    "ExecuteTime": {
     "end_time": "2024-12-22T15:40:35.663503Z",
     "start_time": "2024-12-22T15:40:35.655641Z"
    },
    "collapsed": true
   },
   "outputs": [],
   "source": [
    "import matplotlib.pyplot as plt\n",
    "import seaborn as sns\n",
    "import networkx as nx\n",
    "import pandas as pd\n",
    "from model_inspection_funcs import propagate_data_with_steps\n",
    "from no_training import get_data"
   ]
  },
  {
   "cell_type": "code",
   "execution_count": 9,
   "id": "386463b9e418f91c",
   "metadata": {
    "ExecuteTime": {
     "end_time": "2024-12-22T15:34:55.906186Z",
     "start_time": "2024-12-22T15:34:55.899376Z"
    }
   },
   "outputs": [],
   "source": [
    "def propagate_neuron_data(neuron_data, connections, neurons, num_passes):\n",
    "    propagation = (neuron_data[[\"root_id\", \"activation\"]]\n",
    "                   .fillna(0)\n",
    "                   .rename(columns={\"activation\": \"input\"})\n",
    "    )\n",
    "    activation = neuron_data[[\"root_id\", \"activation\"]]\n",
    "\n",
    "    for i in range(num_passes):\n",
    "        activation = propagate_data_with_steps(activation.copy(), connections, i)\n",
    "        propagation = propagation.merge(activation, on=\"root_id\", how=\"left\").fillna(0)\n",
    "\n",
    "    cols = propagation.columns.tolist()\n",
    "    propagation = propagation.merge(\n",
    "        neurons[[\"root_id\", \"decision_making\"]], on=\"root_id\"\n",
    "    )\n",
    "    propagation[\"decision_making\"] = (\n",
    "        propagation[\"decision_making\"] * propagation[cols[-1]]\n",
    "    )\n",
    "    return propagation.drop(columns=[cols[-1]])\n",
    "\n",
    "\n",
    "def analyze_detour_pathways(\n",
    "    neuron_data, connections, neurons, ablated_types, num_passes=4\n",
    "):\n",
    "    \"\"\"\n",
    "    Analyze how information flows when specific cell types are ablated\n",
    "\n",
    "    Parameters:\n",
    "    -----------\n",
    "    neuron_data: DataFrame with neuron properties including cell types\n",
    "    connections: DataFrame with synaptic connections\n",
    "    ablated_types: list of cell types to remove\n",
    "    \"\"\"\n",
    "    # First get baseline propagation\n",
    "    baseline = propagate_neuron_data(\n",
    "        neuron_data, connections, neurons, num_passes\n",
    "    )\n",
    "\n",
    "    # Remove ablated cell types\n",
    "    mask = ~neuron_data[\"cell_type\"].isin(ablated_types)\n",
    "    ablated_neurons = neuron_data[mask].copy()\n",
    "    ablated_connections = connections[\n",
    "        connections[\"pre_root_id\"].isin(ablated_neurons[\"root_id\"])\n",
    "        & connections[\"post_root_id\"].isin(ablated_neurons[\"root_id\"])\n",
    "    ]\n",
    "\n",
    "    # Get propagation with ablated cells\n",
    "    ablated = propagate_neuron_data(\n",
    "        ablated_neurons, ablated_connections, neurons, num_passes\n",
    "    )\n",
    "\n",
    "    return baseline, ablated"
   ]
  },
  {
   "cell_type": "code",
   "execution_count": 10,
   "id": "81a2d64d024e5c9a",
   "metadata": {
    "ExecuteTime": {
     "end_time": "2024-12-22T15:34:55.916639Z",
     "start_time": "2024-12-22T15:34:55.911601Z"
    }
   },
   "outputs": [],
   "source": [
    "def visualize_pathways(paths_df):\n",
    "    \"\"\"\n",
    "    Create visualizations of pathway analysis\n",
    "    \"\"\"\n",
    "    fig, (ax1, ax2) = plt.subplots(1, 2, figsize=(15, 6))\n",
    "\n",
    "    # Path length distribution\n",
    "    sns.histplot(data=paths_df, x='path_length', ax=ax1)\n",
    "    ax1.set_title('Distribution of Path Lengths')\n",
    "\n",
    "    # Most common paths\n",
    "    path_counts = paths_df['path_types'].value_counts().head(10)\n",
    "    sns.barplot(x=path_counts.values, y=path_counts.index, ax=ax2)\n",
    "    ax2.set_title('Most Common Pathways')\n",
    "\n",
    "    return fig\n",
    "\n",
    "def plot_cell_type_graph(G, neuron_types_df, layout='spring'):\n",
    "    \"\"\"\n",
    "    Plot graph with nodes colored by cell type\n",
    "    \"\"\"\n",
    "    cell_types = pd.Series(\n",
    "        neuron_types_df['cell_type'].values,\n",
    "        index=neuron_types_df['root_id']\n",
    "    ).to_dict()\n",
    "\n",
    "    pos = getattr(nx, f'{layout}_layout')(G)\n",
    "\n",
    "    plt.figure(figsize=(12, 12))\n",
    "    nx.draw(G, pos,\n",
    "            node_color=[cell_types.get(node, 'grey') for node in G.nodes()],\n",
    "            node_size=20,\n",
    "            with_labels=False,\n",
    "            edge_color='grey',\n",
    "            alpha=0.6)\n",
    "\n",
    "    return plt.gcf()"
   ]
  },
  {
   "cell_type": "code",
   "execution_count": 11,
   "id": "c50708f6bb4d08a8",
   "metadata": {
    "ExecuteTime": {
     "end_time": "2024-12-22T15:40:49.575124Z",
     "start_time": "2024-12-22T15:40:44.840878Z"
    }
   },
   "outputs": [],
   "source": [
    "connections, _, all_neurons, neuron_data, _ = get_data(\"new_data\")"
   ]
  },
  {
   "cell_type": "markdown",
   "id": "0050cac1",
   "metadata": {},
   "source": [
    "# No muting"
   ]
  },
  {
   "cell_type": "code",
   "execution_count": 12,
   "id": "c1aedc54",
   "metadata": {},
   "outputs": [
    {
     "ename": "KeyError",
     "evalue": "\"['activation'] not in index\"",
     "output_type": "error",
     "traceback": [
      "\u001b[0;31m---------------------------------------------------------------------------\u001b[0m",
      "\u001b[0;31mKeyError\u001b[0m                                  Traceback (most recent call last)",
      "Cell \u001b[0;32mIn[12], line 2\u001b[0m\n\u001b[1;32m      1\u001b[0m ablated_types \u001b[38;5;241m=\u001b[39m []\n\u001b[0;32m----> 2\u001b[0m connectivity \u001b[38;5;241m=\u001b[39m \u001b[43manalyze_detour_pathways\u001b[49m\u001b[43m(\u001b[49m\n\u001b[1;32m      3\u001b[0m \u001b[43m    \u001b[49m\u001b[43mneuron_data\u001b[49m\u001b[43m,\u001b[49m\u001b[43m \u001b[49m\u001b[43mconnections\u001b[49m\u001b[43m,\u001b[49m\u001b[43m \u001b[49m\u001b[43mall_neurons\u001b[49m\u001b[43m,\u001b[49m\u001b[43m \u001b[49m\u001b[43mablated_types\u001b[49m\n\u001b[1;32m      4\u001b[0m \u001b[43m)\u001b[49m\n",
      "Cell \u001b[0;32mIn[9], line 35\u001b[0m, in \u001b[0;36manalyze_detour_pathways\u001b[0;34m(neuron_data, connections, neurons, ablated_types, num_passes)\u001b[0m\n\u001b[1;32m     25\u001b[0m \u001b[38;5;250m\u001b[39m\u001b[38;5;124;03m\"\"\"\u001b[39;00m\n\u001b[1;32m     26\u001b[0m \u001b[38;5;124;03mAnalyze how information flows when specific cell types are ablated\u001b[39;00m\n\u001b[1;32m     27\u001b[0m \n\u001b[0;32m   (...)\u001b[0m\n\u001b[1;32m     32\u001b[0m \u001b[38;5;124;03mablated_types: list of cell types to remove\u001b[39;00m\n\u001b[1;32m     33\u001b[0m \u001b[38;5;124;03m\"\"\"\u001b[39;00m\n\u001b[1;32m     34\u001b[0m \u001b[38;5;66;03m# First get baseline propagation\u001b[39;00m\n\u001b[0;32m---> 35\u001b[0m baseline \u001b[38;5;241m=\u001b[39m \u001b[43mpropagate_neuron_data\u001b[49m\u001b[43m(\u001b[49m\n\u001b[1;32m     36\u001b[0m \u001b[43m    \u001b[49m\u001b[43mneuron_data\u001b[49m\u001b[43m,\u001b[49m\u001b[43m \u001b[49m\u001b[43mconnections\u001b[49m\u001b[43m,\u001b[49m\u001b[43m \u001b[49m\u001b[43mneurons\u001b[49m\u001b[43m,\u001b[49m\u001b[43m \u001b[49m\u001b[43mnum_passes\u001b[49m\n\u001b[1;32m     37\u001b[0m \u001b[43m\u001b[49m\u001b[43m)\u001b[49m\n\u001b[1;32m     39\u001b[0m \u001b[38;5;66;03m# Remove ablated cell types\u001b[39;00m\n\u001b[1;32m     40\u001b[0m mask \u001b[38;5;241m=\u001b[39m \u001b[38;5;241m~\u001b[39mneuron_data[\u001b[38;5;124m\"\u001b[39m\u001b[38;5;124mcell_type\u001b[39m\u001b[38;5;124m\"\u001b[39m]\u001b[38;5;241m.\u001b[39misin(ablated_types)\n",
      "Cell \u001b[0;32mIn[9], line 2\u001b[0m, in \u001b[0;36mpropagate_neuron_data\u001b[0;34m(neuron_data, connections, neurons, num_passes)\u001b[0m\n\u001b[1;32m      1\u001b[0m \u001b[38;5;28;01mdef\u001b[39;00m \u001b[38;5;21mpropagate_neuron_data\u001b[39m(neuron_data, connections, neurons, num_passes):\n\u001b[0;32m----> 2\u001b[0m     propagation \u001b[38;5;241m=\u001b[39m (\u001b[43mneuron_data\u001b[49m\u001b[43m[\u001b[49m\u001b[43m[\u001b[49m\u001b[38;5;124;43m\"\u001b[39;49m\u001b[38;5;124;43mroot_id\u001b[39;49m\u001b[38;5;124;43m\"\u001b[39;49m\u001b[43m,\u001b[49m\u001b[43m \u001b[49m\u001b[38;5;124;43m\"\u001b[39;49m\u001b[38;5;124;43mactivation\u001b[39;49m\u001b[38;5;124;43m\"\u001b[39;49m\u001b[43m]\u001b[49m\u001b[43m]\u001b[49m\n\u001b[1;32m      3\u001b[0m                    \u001b[38;5;241m.\u001b[39mfillna(\u001b[38;5;241m0\u001b[39m)\n\u001b[1;32m      4\u001b[0m                    \u001b[38;5;241m.\u001b[39mrename(columns\u001b[38;5;241m=\u001b[39m{\u001b[38;5;124m\"\u001b[39m\u001b[38;5;124mactivation\u001b[39m\u001b[38;5;124m\"\u001b[39m: \u001b[38;5;124m\"\u001b[39m\u001b[38;5;124minput\u001b[39m\u001b[38;5;124m\"\u001b[39m})\n\u001b[1;32m      5\u001b[0m     )\n\u001b[1;32m      6\u001b[0m     activation \u001b[38;5;241m=\u001b[39m neuron_data[[\u001b[38;5;124m\"\u001b[39m\u001b[38;5;124mroot_id\u001b[39m\u001b[38;5;124m\"\u001b[39m, \u001b[38;5;124m\"\u001b[39m\u001b[38;5;124mactivation\u001b[39m\u001b[38;5;124m\"\u001b[39m]]\n\u001b[1;32m      8\u001b[0m     \u001b[38;5;28;01mfor\u001b[39;00m i \u001b[38;5;129;01min\u001b[39;00m \u001b[38;5;28mrange\u001b[39m(num_passes):\n",
      "File \u001b[0;32m~/Desktop/doctorat/connectome/venv/lib/python3.12/site-packages/pandas/core/frame.py:4108\u001b[0m, in \u001b[0;36mDataFrame.__getitem__\u001b[0;34m(self, key)\u001b[0m\n\u001b[1;32m   4106\u001b[0m     \u001b[38;5;28;01mif\u001b[39;00m is_iterator(key):\n\u001b[1;32m   4107\u001b[0m         key \u001b[38;5;241m=\u001b[39m \u001b[38;5;28mlist\u001b[39m(key)\n\u001b[0;32m-> 4108\u001b[0m     indexer \u001b[38;5;241m=\u001b[39m \u001b[38;5;28;43mself\u001b[39;49m\u001b[38;5;241;43m.\u001b[39;49m\u001b[43mcolumns\u001b[49m\u001b[38;5;241;43m.\u001b[39;49m\u001b[43m_get_indexer_strict\u001b[49m\u001b[43m(\u001b[49m\u001b[43mkey\u001b[49m\u001b[43m,\u001b[49m\u001b[43m \u001b[49m\u001b[38;5;124;43m\"\u001b[39;49m\u001b[38;5;124;43mcolumns\u001b[39;49m\u001b[38;5;124;43m\"\u001b[39;49m\u001b[43m)\u001b[49m[\u001b[38;5;241m1\u001b[39m]\n\u001b[1;32m   4110\u001b[0m \u001b[38;5;66;03m# take() does not accept boolean indexers\u001b[39;00m\n\u001b[1;32m   4111\u001b[0m \u001b[38;5;28;01mif\u001b[39;00m \u001b[38;5;28mgetattr\u001b[39m(indexer, \u001b[38;5;124m\"\u001b[39m\u001b[38;5;124mdtype\u001b[39m\u001b[38;5;124m\"\u001b[39m, \u001b[38;5;28;01mNone\u001b[39;00m) \u001b[38;5;241m==\u001b[39m \u001b[38;5;28mbool\u001b[39m:\n",
      "File \u001b[0;32m~/Desktop/doctorat/connectome/venv/lib/python3.12/site-packages/pandas/core/indexes/base.py:6200\u001b[0m, in \u001b[0;36mIndex._get_indexer_strict\u001b[0;34m(self, key, axis_name)\u001b[0m\n\u001b[1;32m   6197\u001b[0m \u001b[38;5;28;01melse\u001b[39;00m:\n\u001b[1;32m   6198\u001b[0m     keyarr, indexer, new_indexer \u001b[38;5;241m=\u001b[39m \u001b[38;5;28mself\u001b[39m\u001b[38;5;241m.\u001b[39m_reindex_non_unique(keyarr)\n\u001b[0;32m-> 6200\u001b[0m \u001b[38;5;28;43mself\u001b[39;49m\u001b[38;5;241;43m.\u001b[39;49m\u001b[43m_raise_if_missing\u001b[49m\u001b[43m(\u001b[49m\u001b[43mkeyarr\u001b[49m\u001b[43m,\u001b[49m\u001b[43m \u001b[49m\u001b[43mindexer\u001b[49m\u001b[43m,\u001b[49m\u001b[43m \u001b[49m\u001b[43maxis_name\u001b[49m\u001b[43m)\u001b[49m\n\u001b[1;32m   6202\u001b[0m keyarr \u001b[38;5;241m=\u001b[39m \u001b[38;5;28mself\u001b[39m\u001b[38;5;241m.\u001b[39mtake(indexer)\n\u001b[1;32m   6203\u001b[0m \u001b[38;5;28;01mif\u001b[39;00m \u001b[38;5;28misinstance\u001b[39m(key, Index):\n\u001b[1;32m   6204\u001b[0m     \u001b[38;5;66;03m# GH 42790 - Preserve name from an Index\u001b[39;00m\n",
      "File \u001b[0;32m~/Desktop/doctorat/connectome/venv/lib/python3.12/site-packages/pandas/core/indexes/base.py:6252\u001b[0m, in \u001b[0;36mIndex._raise_if_missing\u001b[0;34m(self, key, indexer, axis_name)\u001b[0m\n\u001b[1;32m   6249\u001b[0m     \u001b[38;5;28;01mraise\u001b[39;00m \u001b[38;5;167;01mKeyError\u001b[39;00m(\u001b[38;5;124mf\u001b[39m\u001b[38;5;124m\"\u001b[39m\u001b[38;5;124mNone of [\u001b[39m\u001b[38;5;132;01m{\u001b[39;00mkey\u001b[38;5;132;01m}\u001b[39;00m\u001b[38;5;124m] are in the [\u001b[39m\u001b[38;5;132;01m{\u001b[39;00maxis_name\u001b[38;5;132;01m}\u001b[39;00m\u001b[38;5;124m]\u001b[39m\u001b[38;5;124m\"\u001b[39m)\n\u001b[1;32m   6251\u001b[0m not_found \u001b[38;5;241m=\u001b[39m \u001b[38;5;28mlist\u001b[39m(ensure_index(key)[missing_mask\u001b[38;5;241m.\u001b[39mnonzero()[\u001b[38;5;241m0\u001b[39m]]\u001b[38;5;241m.\u001b[39munique())\n\u001b[0;32m-> 6252\u001b[0m \u001b[38;5;28;01mraise\u001b[39;00m \u001b[38;5;167;01mKeyError\u001b[39;00m(\u001b[38;5;124mf\u001b[39m\u001b[38;5;124m\"\u001b[39m\u001b[38;5;132;01m{\u001b[39;00mnot_found\u001b[38;5;132;01m}\u001b[39;00m\u001b[38;5;124m not in index\u001b[39m\u001b[38;5;124m\"\u001b[39m)\n",
      "\u001b[0;31mKeyError\u001b[0m: \"['activation'] not in index\""
     ]
    }
   ],
   "source": [
    "ablated_types = []\n",
    "connectivity = analyze_detour_pathways(\n",
    "    neuron_data, connections, all_neurons, ablated_types\n",
    ")"
   ]
  },
  {
   "cell_type": "code",
   "execution_count": null,
   "id": "6cd35e0b",
   "metadata": {},
   "outputs": [],
   "source": [
    "visualize_pathways(paths)"
   ]
  },
  {
   "cell_type": "code",
   "execution_count": null,
   "id": "125146aa8519e5a6",
   "metadata": {},
   "outputs": [],
   "source": [
    "muted_types = [\"L1\", \"L2\", \"L3\", \"L4\", \"L5\"]"
   ]
  }
 ],
 "metadata": {
  "kernelspec": {
   "display_name": "venv",
   "language": "python",
   "name": "python3"
  },
  "language_info": {
   "codemirror_mode": {
    "name": "ipython",
    "version": 3
   },
   "file_extension": ".py",
   "mimetype": "text/x-python",
   "name": "python",
   "nbconvert_exporter": "python",
   "pygments_lexer": "ipython3",
   "version": "3.12.3"
  }
 },
 "nbformat": 4,
 "nbformat_minor": 5
}
