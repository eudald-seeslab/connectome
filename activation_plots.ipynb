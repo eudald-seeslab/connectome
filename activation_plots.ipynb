{
 "cells": [
  {
   "cell_type": "code",
   "execution_count": 20,
   "metadata": {},
   "outputs": [],
   "source": [
    "%matplotlib inline\n",
    "import os\n",
    "import torch\n",
    "import pandas as pd\n",
    "import numpy as np\n",
    "import matplotlib.pyplot as plt\n",
    "cmap = plt.get_cmap(\"viridis\")\n",
    "from tqdm import tqdm\n",
    "\n",
    "import config\n",
    "from graph_models import FullGraphModel\n",
    "from complete_training_data_processing import CompleteModelsDataProcessor\n",
    "from model_inspection_funcs import neuron_data_from_image, propagate_neuron_data, sample_images\n",
    "\n",
    "device = torch.device(\"cpu\")\n",
    "dtype = torch.float32"
   ]
  },
  {
   "cell_type": "code",
   "execution_count": 21,
   "metadata": {},
   "outputs": [],
   "source": [
    "data_processor = CompleteModelsDataProcessor(\n",
    "    neurons=config.neurons,\n",
    "    voronoi_criteria=config.voronoi_criteria,\n",
    "    random_synapses=config.random_synapses,\n",
    "    log_transform_weights=config.log_transform_weights,\n",
    ")\n",
    "\n",
    "model = FullGraphModel(\n",
    "    input_shape=data_processor.number_of_synapses,\n",
    "    num_connectome_passes=config.NUM_CONNECTOME_PASSES,\n",
    "    decision_making_vector=data_processor.decision_making_vector,\n",
    "    batch_size=config.batch_size,\n",
    "    dtype=config.dtype,\n",
    "    edge_weights=data_processor.synaptic_matrix.data,\n",
    "    device=config.DEVICE,\n",
    "    num_classes=len(config.CLASSES),\n",
    ").to(device)"
   ]
  },
  {
   "cell_type": "code",
   "execution_count": 22,
   "metadata": {},
   "outputs": [],
   "source": [
    "# horrible data stuff\n",
    "checkpoint = torch.load(\"models/model_2024-05-20 03:41:43.pth\", map_location=\"cpu\")\n",
    "model.load_state_dict(checkpoint[\"model\"])\n",
    "model.eval()\n",
    "connections = (\n",
    "    pd.read_csv(\n",
    "        \"adult_data/connections.csv\",\n",
    "        dtype={\n",
    "            \"pre_root_id\": \"string\",\n",
    "            \"post_root_id\": \"string\",\n",
    "            \"syn_count\": np.int32,\n",
    "        },\n",
    "    )\n",
    "    .groupby([\"pre_root_id\", \"post_root_id\"])\n",
    "    .sum(\"syn_count\")\n",
    "    .reset_index()\n",
    ")\n",
    "\n",
    "connections[\"weight\"] = model.connectome.edge_weight_multiplier.detach()\n",
    "right_root_ids = data_processor.right_root_ids\n",
    "all_neurons = (\n",
    "    pd.read_csv(\"adult_data/classification_clean.csv\")\n",
    "    .merge(right_root_ids, on=\"root_id\")\n",
    "    .fillna(\"Unknown\")\n",
    ")\n",
    "neuron_data = pd.read_csv(\n",
    "    \"adult_data/right_visual_positions_selected_neurons.csv\",\n",
    "    dtype={\"root_id\": \"string\"},\n",
    ").drop(columns=[\"x\", \"y\", \"z\", \"PC1\", \"PC2\"])\n",
    "data_cols = [\"x_axis\", \"y_axis\"]\n",
    "all_coords = pd.read_csv(\"adult_data/all_coords_clean.csv\", dtype={\"root_id\": \"string\"})\n",
    "rational_cell_types = pd.read_csv(\"adult_data/rational_cell_types.csv\")\n",
    "all_neurons[\"decision_making\"] = np.where(\n",
    "    all_neurons[\"cell_type\"].isin(rational_cell_types[\"cell_type\"].values.tolist()),\n",
    "    1,\n",
    "    0,\n",
    ")\n",
    "all_neurons[\"root_id\"] = all_neurons[\"root_id\"].astype(\"string\")"
   ]
  },
  {
   "cell_type": "code",
   "execution_count": 23,
   "metadata": {},
   "outputs": [
    {
     "name": "stderr",
     "output_type": "stream",
     "text": [
      " 50%|█████     | 100/200 [04:48<04:48,  2.89s/it]/tmp/ipykernel_111384/2208910999.py:13: PerformanceWarning: DataFrame is highly fragmented.  This is usually the result of calling `frame.insert` many times, which has poor performance.  Consider joining all columns at once using pd.concat(axis=1) instead. To get a de-fragmented frame, use `newframe = frame.copy()`\n",
      "  dms[os.path.basename(img)] = propagation[\"decision_making\"][all_neurons[\"decision_making\"] == 1]\n",
      " 50%|█████     | 101/200 [04:51<04:46,  2.89s/it]/tmp/ipykernel_111384/2208910999.py:13: PerformanceWarning: DataFrame is highly fragmented.  This is usually the result of calling `frame.insert` many times, which has poor performance.  Consider joining all columns at once using pd.concat(axis=1) instead. To get a de-fragmented frame, use `newframe = frame.copy()`\n",
      "  dms[os.path.basename(img)] = propagation[\"decision_making\"][all_neurons[\"decision_making\"] == 1]\n",
      " 51%|█████     | 102/200 [04:54<04:46,  2.93s/it]/tmp/ipykernel_111384/2208910999.py:13: PerformanceWarning: DataFrame is highly fragmented.  This is usually the result of calling `frame.insert` many times, which has poor performance.  Consider joining all columns at once using pd.concat(axis=1) instead. To get a de-fragmented frame, use `newframe = frame.copy()`\n",
      "  dms[os.path.basename(img)] = propagation[\"decision_making\"][all_neurons[\"decision_making\"] == 1]\n",
      " 52%|█████▏    | 103/200 [04:57<04:44,  2.94s/it]/tmp/ipykernel_111384/2208910999.py:13: PerformanceWarning: DataFrame is highly fragmented.  This is usually the result of calling `frame.insert` many times, which has poor performance.  Consider joining all columns at once using pd.concat(axis=1) instead. To get a de-fragmented frame, use `newframe = frame.copy()`\n",
      "  dms[os.path.basename(img)] = propagation[\"decision_making\"][all_neurons[\"decision_making\"] == 1]\n",
      " 52%|█████▏    | 104/200 [05:00<04:40,  2.93s/it]/tmp/ipykernel_111384/2208910999.py:13: PerformanceWarning: DataFrame is highly fragmented.  This is usually the result of calling `frame.insert` many times, which has poor performance.  Consider joining all columns at once using pd.concat(axis=1) instead. To get a de-fragmented frame, use `newframe = frame.copy()`\n",
      "  dms[os.path.basename(img)] = propagation[\"decision_making\"][all_neurons[\"decision_making\"] == 1]\n",
      " 52%|█████▎    | 105/200 [05:03<04:41,  2.96s/it]/tmp/ipykernel_111384/2208910999.py:13: PerformanceWarning: DataFrame is highly fragmented.  This is usually the result of calling `frame.insert` many times, which has poor performance.  Consider joining all columns at once using pd.concat(axis=1) instead. To get a de-fragmented frame, use `newframe = frame.copy()`\n",
      "  dms[os.path.basename(img)] = propagation[\"decision_making\"][all_neurons[\"decision_making\"] == 1]\n",
      " 53%|█████▎    | 106/200 [05:05<04:30,  2.88s/it]/tmp/ipykernel_111384/2208910999.py:13: PerformanceWarning: DataFrame is highly fragmented.  This is usually the result of calling `frame.insert` many times, which has poor performance.  Consider joining all columns at once using pd.concat(axis=1) instead. To get a de-fragmented frame, use `newframe = frame.copy()`\n",
      "  dms[os.path.basename(img)] = propagation[\"decision_making\"][all_neurons[\"decision_making\"] == 1]\n",
      " 54%|█████▎    | 107/200 [05:08<04:23,  2.83s/it]/tmp/ipykernel_111384/2208910999.py:13: PerformanceWarning: DataFrame is highly fragmented.  This is usually the result of calling `frame.insert` many times, which has poor performance.  Consider joining all columns at once using pd.concat(axis=1) instead. To get a de-fragmented frame, use `newframe = frame.copy()`\n",
      "  dms[os.path.basename(img)] = propagation[\"decision_making\"][all_neurons[\"decision_making\"] == 1]\n",
      " 54%|█████▍    | 108/200 [05:11<04:16,  2.79s/it]/tmp/ipykernel_111384/2208910999.py:13: PerformanceWarning: DataFrame is highly fragmented.  This is usually the result of calling `frame.insert` many times, which has poor performance.  Consider joining all columns at once using pd.concat(axis=1) instead. To get a de-fragmented frame, use `newframe = frame.copy()`\n",
      "  dms[os.path.basename(img)] = propagation[\"decision_making\"][all_neurons[\"decision_making\"] == 1]\n",
      " 55%|█████▍    | 109/200 [05:14<04:10,  2.76s/it]/tmp/ipykernel_111384/2208910999.py:13: PerformanceWarning: DataFrame is highly fragmented.  This is usually the result of calling `frame.insert` many times, which has poor performance.  Consider joining all columns at once using pd.concat(axis=1) instead. To get a de-fragmented frame, use `newframe = frame.copy()`\n",
      "  dms[os.path.basename(img)] = propagation[\"decision_making\"][all_neurons[\"decision_making\"] == 1]\n",
      " 55%|█████▌    | 110/200 [05:16<04:04,  2.72s/it]/tmp/ipykernel_111384/2208910999.py:13: PerformanceWarning: DataFrame is highly fragmented.  This is usually the result of calling `frame.insert` many times, which has poor performance.  Consider joining all columns at once using pd.concat(axis=1) instead. To get a de-fragmented frame, use `newframe = frame.copy()`\n",
      "  dms[os.path.basename(img)] = propagation[\"decision_making\"][all_neurons[\"decision_making\"] == 1]\n",
      " 56%|█████▌    | 111/200 [05:19<03:59,  2.69s/it]/tmp/ipykernel_111384/2208910999.py:13: PerformanceWarning: DataFrame is highly fragmented.  This is usually the result of calling `frame.insert` many times, which has poor performance.  Consider joining all columns at once using pd.concat(axis=1) instead. To get a de-fragmented frame, use `newframe = frame.copy()`\n",
      "  dms[os.path.basename(img)] = propagation[\"decision_making\"][all_neurons[\"decision_making\"] == 1]\n",
      " 56%|█████▌    | 112/200 [05:21<03:55,  2.68s/it]/tmp/ipykernel_111384/2208910999.py:13: PerformanceWarning: DataFrame is highly fragmented.  This is usually the result of calling `frame.insert` many times, which has poor performance.  Consider joining all columns at once using pd.concat(axis=1) instead. To get a de-fragmented frame, use `newframe = frame.copy()`\n",
      "  dms[os.path.basename(img)] = propagation[\"decision_making\"][all_neurons[\"decision_making\"] == 1]\n",
      " 56%|█████▋    | 113/200 [05:24<03:55,  2.70s/it]/tmp/ipykernel_111384/2208910999.py:13: PerformanceWarning: DataFrame is highly fragmented.  This is usually the result of calling `frame.insert` many times, which has poor performance.  Consider joining all columns at once using pd.concat(axis=1) instead. To get a de-fragmented frame, use `newframe = frame.copy()`\n",
      "  dms[os.path.basename(img)] = propagation[\"decision_making\"][all_neurons[\"decision_making\"] == 1]\n",
      " 57%|█████▋    | 114/200 [05:28<04:09,  2.90s/it]/tmp/ipykernel_111384/2208910999.py:13: PerformanceWarning: DataFrame is highly fragmented.  This is usually the result of calling `frame.insert` many times, which has poor performance.  Consider joining all columns at once using pd.concat(axis=1) instead. To get a de-fragmented frame, use `newframe = frame.copy()`\n",
      "  dms[os.path.basename(img)] = propagation[\"decision_making\"][all_neurons[\"decision_making\"] == 1]\n",
      " 57%|█████▊    | 115/200 [05:31<04:09,  2.94s/it]/tmp/ipykernel_111384/2208910999.py:13: PerformanceWarning: DataFrame is highly fragmented.  This is usually the result of calling `frame.insert` many times, which has poor performance.  Consider joining all columns at once using pd.concat(axis=1) instead. To get a de-fragmented frame, use `newframe = frame.copy()`\n",
      "  dms[os.path.basename(img)] = propagation[\"decision_making\"][all_neurons[\"decision_making\"] == 1]\n",
      " 58%|█████▊    | 116/200 [05:34<04:08,  2.96s/it]/tmp/ipykernel_111384/2208910999.py:13: PerformanceWarning: DataFrame is highly fragmented.  This is usually the result of calling `frame.insert` many times, which has poor performance.  Consider joining all columns at once using pd.concat(axis=1) instead. To get a de-fragmented frame, use `newframe = frame.copy()`\n",
      "  dms[os.path.basename(img)] = propagation[\"decision_making\"][all_neurons[\"decision_making\"] == 1]\n",
      " 58%|█████▊    | 117/200 [05:37<04:10,  3.02s/it]/tmp/ipykernel_111384/2208910999.py:13: PerformanceWarning: DataFrame is highly fragmented.  This is usually the result of calling `frame.insert` many times, which has poor performance.  Consider joining all columns at once using pd.concat(axis=1) instead. To get a de-fragmented frame, use `newframe = frame.copy()`\n",
      "  dms[os.path.basename(img)] = propagation[\"decision_making\"][all_neurons[\"decision_making\"] == 1]\n",
      " 59%|█████▉    | 118/200 [05:40<04:03,  2.97s/it]/tmp/ipykernel_111384/2208910999.py:13: PerformanceWarning: DataFrame is highly fragmented.  This is usually the result of calling `frame.insert` many times, which has poor performance.  Consider joining all columns at once using pd.concat(axis=1) instead. To get a de-fragmented frame, use `newframe = frame.copy()`\n",
      "  dms[os.path.basename(img)] = propagation[\"decision_making\"][all_neurons[\"decision_making\"] == 1]\n",
      " 60%|█████▉    | 119/200 [05:42<03:57,  2.93s/it]/tmp/ipykernel_111384/2208910999.py:13: PerformanceWarning: DataFrame is highly fragmented.  This is usually the result of calling `frame.insert` many times, which has poor performance.  Consider joining all columns at once using pd.concat(axis=1) instead. To get a de-fragmented frame, use `newframe = frame.copy()`\n",
      "  dms[os.path.basename(img)] = propagation[\"decision_making\"][all_neurons[\"decision_making\"] == 1]\n",
      " 60%|██████    | 120/200 [05:46<04:00,  3.01s/it]/tmp/ipykernel_111384/2208910999.py:13: PerformanceWarning: DataFrame is highly fragmented.  This is usually the result of calling `frame.insert` many times, which has poor performance.  Consider joining all columns at once using pd.concat(axis=1) instead. To get a de-fragmented frame, use `newframe = frame.copy()`\n",
      "  dms[os.path.basename(img)] = propagation[\"decision_making\"][all_neurons[\"decision_making\"] == 1]\n",
      " 60%|██████    | 121/200 [05:49<03:57,  3.01s/it]/tmp/ipykernel_111384/2208910999.py:13: PerformanceWarning: DataFrame is highly fragmented.  This is usually the result of calling `frame.insert` many times, which has poor performance.  Consider joining all columns at once using pd.concat(axis=1) instead. To get a de-fragmented frame, use `newframe = frame.copy()`\n",
      "  dms[os.path.basename(img)] = propagation[\"decision_making\"][all_neurons[\"decision_making\"] == 1]\n",
      " 61%|██████    | 122/200 [05:52<03:52,  2.98s/it]/tmp/ipykernel_111384/2208910999.py:13: PerformanceWarning: DataFrame is highly fragmented.  This is usually the result of calling `frame.insert` many times, which has poor performance.  Consider joining all columns at once using pd.concat(axis=1) instead. To get a de-fragmented frame, use `newframe = frame.copy()`\n",
      "  dms[os.path.basename(img)] = propagation[\"decision_making\"][all_neurons[\"decision_making\"] == 1]\n",
      " 62%|██████▏   | 123/200 [05:54<03:46,  2.94s/it]/tmp/ipykernel_111384/2208910999.py:13: PerformanceWarning: DataFrame is highly fragmented.  This is usually the result of calling `frame.insert` many times, which has poor performance.  Consider joining all columns at once using pd.concat(axis=1) instead. To get a de-fragmented frame, use `newframe = frame.copy()`\n",
      "  dms[os.path.basename(img)] = propagation[\"decision_making\"][all_neurons[\"decision_making\"] == 1]\n",
      " 62%|██████▏   | 124/200 [05:57<03:41,  2.91s/it]/tmp/ipykernel_111384/2208910999.py:13: PerformanceWarning: DataFrame is highly fragmented.  This is usually the result of calling `frame.insert` many times, which has poor performance.  Consider joining all columns at once using pd.concat(axis=1) instead. To get a de-fragmented frame, use `newframe = frame.copy()`\n",
      "  dms[os.path.basename(img)] = propagation[\"decision_making\"][all_neurons[\"decision_making\"] == 1]\n",
      " 62%|██████▎   | 125/200 [06:00<03:37,  2.90s/it]/tmp/ipykernel_111384/2208910999.py:13: PerformanceWarning: DataFrame is highly fragmented.  This is usually the result of calling `frame.insert` many times, which has poor performance.  Consider joining all columns at once using pd.concat(axis=1) instead. To get a de-fragmented frame, use `newframe = frame.copy()`\n",
      "  dms[os.path.basename(img)] = propagation[\"decision_making\"][all_neurons[\"decision_making\"] == 1]\n",
      " 63%|██████▎   | 126/200 [06:03<03:39,  2.97s/it]/tmp/ipykernel_111384/2208910999.py:13: PerformanceWarning: DataFrame is highly fragmented.  This is usually the result of calling `frame.insert` many times, which has poor performance.  Consider joining all columns at once using pd.concat(axis=1) instead. To get a de-fragmented frame, use `newframe = frame.copy()`\n",
      "  dms[os.path.basename(img)] = propagation[\"decision_making\"][all_neurons[\"decision_making\"] == 1]\n",
      " 64%|██████▎   | 127/200 [06:07<03:48,  3.13s/it]/tmp/ipykernel_111384/2208910999.py:13: PerformanceWarning: DataFrame is highly fragmented.  This is usually the result of calling `frame.insert` many times, which has poor performance.  Consider joining all columns at once using pd.concat(axis=1) instead. To get a de-fragmented frame, use `newframe = frame.copy()`\n",
      "  dms[os.path.basename(img)] = propagation[\"decision_making\"][all_neurons[\"decision_making\"] == 1]\n",
      " 64%|██████▍   | 128/200 [06:10<03:47,  3.16s/it]/tmp/ipykernel_111384/2208910999.py:13: PerformanceWarning: DataFrame is highly fragmented.  This is usually the result of calling `frame.insert` many times, which has poor performance.  Consider joining all columns at once using pd.concat(axis=1) instead. To get a de-fragmented frame, use `newframe = frame.copy()`\n",
      "  dms[os.path.basename(img)] = propagation[\"decision_making\"][all_neurons[\"decision_making\"] == 1]\n",
      " 64%|██████▍   | 129/200 [06:13<03:42,  3.13s/it]/tmp/ipykernel_111384/2208910999.py:13: PerformanceWarning: DataFrame is highly fragmented.  This is usually the result of calling `frame.insert` many times, which has poor performance.  Consider joining all columns at once using pd.concat(axis=1) instead. To get a de-fragmented frame, use `newframe = frame.copy()`\n",
      "  dms[os.path.basename(img)] = propagation[\"decision_making\"][all_neurons[\"decision_making\"] == 1]\n",
      " 65%|██████▌   | 130/200 [06:16<03:32,  3.04s/it]/tmp/ipykernel_111384/2208910999.py:13: PerformanceWarning: DataFrame is highly fragmented.  This is usually the result of calling `frame.insert` many times, which has poor performance.  Consider joining all columns at once using pd.concat(axis=1) instead. To get a de-fragmented frame, use `newframe = frame.copy()`\n",
      "  dms[os.path.basename(img)] = propagation[\"decision_making\"][all_neurons[\"decision_making\"] == 1]\n",
      " 66%|██████▌   | 131/200 [06:19<03:25,  2.98s/it]/tmp/ipykernel_111384/2208910999.py:13: PerformanceWarning: DataFrame is highly fragmented.  This is usually the result of calling `frame.insert` many times, which has poor performance.  Consider joining all columns at once using pd.concat(axis=1) instead. To get a de-fragmented frame, use `newframe = frame.copy()`\n",
      "  dms[os.path.basename(img)] = propagation[\"decision_making\"][all_neurons[\"decision_making\"] == 1]\n",
      " 66%|██████▌   | 132/200 [06:22<03:20,  2.95s/it]/tmp/ipykernel_111384/2208910999.py:13: PerformanceWarning: DataFrame is highly fragmented.  This is usually the result of calling `frame.insert` many times, which has poor performance.  Consider joining all columns at once using pd.concat(axis=1) instead. To get a de-fragmented frame, use `newframe = frame.copy()`\n",
      "  dms[os.path.basename(img)] = propagation[\"decision_making\"][all_neurons[\"decision_making\"] == 1]\n",
      " 66%|██████▋   | 133/200 [06:24<03:14,  2.90s/it]/tmp/ipykernel_111384/2208910999.py:13: PerformanceWarning: DataFrame is highly fragmented.  This is usually the result of calling `frame.insert` many times, which has poor performance.  Consider joining all columns at once using pd.concat(axis=1) instead. To get a de-fragmented frame, use `newframe = frame.copy()`\n",
      "  dms[os.path.basename(img)] = propagation[\"decision_making\"][all_neurons[\"decision_making\"] == 1]\n",
      " 67%|██████▋   | 134/200 [06:27<03:09,  2.87s/it]/tmp/ipykernel_111384/2208910999.py:13: PerformanceWarning: DataFrame is highly fragmented.  This is usually the result of calling `frame.insert` many times, which has poor performance.  Consider joining all columns at once using pd.concat(axis=1) instead. To get a de-fragmented frame, use `newframe = frame.copy()`\n",
      "  dms[os.path.basename(img)] = propagation[\"decision_making\"][all_neurons[\"decision_making\"] == 1]\n",
      " 68%|██████▊   | 135/200 [06:30<03:04,  2.84s/it]/tmp/ipykernel_111384/2208910999.py:13: PerformanceWarning: DataFrame is highly fragmented.  This is usually the result of calling `frame.insert` many times, which has poor performance.  Consider joining all columns at once using pd.concat(axis=1) instead. To get a de-fragmented frame, use `newframe = frame.copy()`\n",
      "  dms[os.path.basename(img)] = propagation[\"decision_making\"][all_neurons[\"decision_making\"] == 1]\n",
      " 68%|██████▊   | 136/200 [06:33<03:02,  2.85s/it]/tmp/ipykernel_111384/2208910999.py:13: PerformanceWarning: DataFrame is highly fragmented.  This is usually the result of calling `frame.insert` many times, which has poor performance.  Consider joining all columns at once using pd.concat(axis=1) instead. To get a de-fragmented frame, use `newframe = frame.copy()`\n",
      "  dms[os.path.basename(img)] = propagation[\"decision_making\"][all_neurons[\"decision_making\"] == 1]\n",
      " 68%|██████▊   | 137/200 [06:36<02:58,  2.84s/it]/tmp/ipykernel_111384/2208910999.py:13: PerformanceWarning: DataFrame is highly fragmented.  This is usually the result of calling `frame.insert` many times, which has poor performance.  Consider joining all columns at once using pd.concat(axis=1) instead. To get a de-fragmented frame, use `newframe = frame.copy()`\n",
      "  dms[os.path.basename(img)] = propagation[\"decision_making\"][all_neurons[\"decision_making\"] == 1]\n",
      " 69%|██████▉   | 138/200 [06:38<02:55,  2.83s/it]/tmp/ipykernel_111384/2208910999.py:13: PerformanceWarning: DataFrame is highly fragmented.  This is usually the result of calling `frame.insert` many times, which has poor performance.  Consider joining all columns at once using pd.concat(axis=1) instead. To get a de-fragmented frame, use `newframe = frame.copy()`\n",
      "  dms[os.path.basename(img)] = propagation[\"decision_making\"][all_neurons[\"decision_making\"] == 1]\n",
      " 70%|██████▉   | 139/200 [06:41<02:52,  2.82s/it]/tmp/ipykernel_111384/2208910999.py:13: PerformanceWarning: DataFrame is highly fragmented.  This is usually the result of calling `frame.insert` many times, which has poor performance.  Consider joining all columns at once using pd.concat(axis=1) instead. To get a de-fragmented frame, use `newframe = frame.copy()`\n",
      "  dms[os.path.basename(img)] = propagation[\"decision_making\"][all_neurons[\"decision_making\"] == 1]\n",
      " 70%|███████   | 140/200 [06:44<02:48,  2.81s/it]/tmp/ipykernel_111384/2208910999.py:13: PerformanceWarning: DataFrame is highly fragmented.  This is usually the result of calling `frame.insert` many times, which has poor performance.  Consider joining all columns at once using pd.concat(axis=1) instead. To get a de-fragmented frame, use `newframe = frame.copy()`\n",
      "  dms[os.path.basename(img)] = propagation[\"decision_making\"][all_neurons[\"decision_making\"] == 1]\n",
      " 70%|███████   | 141/200 [06:47<02:47,  2.84s/it]/tmp/ipykernel_111384/2208910999.py:13: PerformanceWarning: DataFrame is highly fragmented.  This is usually the result of calling `frame.insert` many times, which has poor performance.  Consider joining all columns at once using pd.concat(axis=1) instead. To get a de-fragmented frame, use `newframe = frame.copy()`\n",
      "  dms[os.path.basename(img)] = propagation[\"decision_making\"][all_neurons[\"decision_making\"] == 1]\n",
      " 71%|███████   | 142/200 [06:50<02:44,  2.83s/it]/tmp/ipykernel_111384/2208910999.py:13: PerformanceWarning: DataFrame is highly fragmented.  This is usually the result of calling `frame.insert` many times, which has poor performance.  Consider joining all columns at once using pd.concat(axis=1) instead. To get a de-fragmented frame, use `newframe = frame.copy()`\n",
      "  dms[os.path.basename(img)] = propagation[\"decision_making\"][all_neurons[\"decision_making\"] == 1]\n",
      " 72%|███████▏  | 143/200 [06:53<02:39,  2.80s/it]/tmp/ipykernel_111384/2208910999.py:13: PerformanceWarning: DataFrame is highly fragmented.  This is usually the result of calling `frame.insert` many times, which has poor performance.  Consider joining all columns at once using pd.concat(axis=1) instead. To get a de-fragmented frame, use `newframe = frame.copy()`\n",
      "  dms[os.path.basename(img)] = propagation[\"decision_making\"][all_neurons[\"decision_making\"] == 1]\n",
      " 72%|███████▏  | 144/200 [06:55<02:35,  2.78s/it]/tmp/ipykernel_111384/2208910999.py:13: PerformanceWarning: DataFrame is highly fragmented.  This is usually the result of calling `frame.insert` many times, which has poor performance.  Consider joining all columns at once using pd.concat(axis=1) instead. To get a de-fragmented frame, use `newframe = frame.copy()`\n",
      "  dms[os.path.basename(img)] = propagation[\"decision_making\"][all_neurons[\"decision_making\"] == 1]\n",
      " 72%|███████▎  | 145/200 [06:58<02:33,  2.80s/it]/tmp/ipykernel_111384/2208910999.py:13: PerformanceWarning: DataFrame is highly fragmented.  This is usually the result of calling `frame.insert` many times, which has poor performance.  Consider joining all columns at once using pd.concat(axis=1) instead. To get a de-fragmented frame, use `newframe = frame.copy()`\n",
      "  dms[os.path.basename(img)] = propagation[\"decision_making\"][all_neurons[\"decision_making\"] == 1]\n",
      " 73%|███████▎  | 146/200 [07:01<02:31,  2.81s/it]/tmp/ipykernel_111384/2208910999.py:13: PerformanceWarning: DataFrame is highly fragmented.  This is usually the result of calling `frame.insert` many times, which has poor performance.  Consider joining all columns at once using pd.concat(axis=1) instead. To get a de-fragmented frame, use `newframe = frame.copy()`\n",
      "  dms[os.path.basename(img)] = propagation[\"decision_making\"][all_neurons[\"decision_making\"] == 1]\n",
      " 74%|███████▎  | 147/200 [07:04<02:30,  2.84s/it]/tmp/ipykernel_111384/2208910999.py:13: PerformanceWarning: DataFrame is highly fragmented.  This is usually the result of calling `frame.insert` many times, which has poor performance.  Consider joining all columns at once using pd.concat(axis=1) instead. To get a de-fragmented frame, use `newframe = frame.copy()`\n",
      "  dms[os.path.basename(img)] = propagation[\"decision_making\"][all_neurons[\"decision_making\"] == 1]\n",
      " 74%|███████▍  | 148/200 [07:07<02:27,  2.83s/it]/tmp/ipykernel_111384/2208910999.py:13: PerformanceWarning: DataFrame is highly fragmented.  This is usually the result of calling `frame.insert` many times, which has poor performance.  Consider joining all columns at once using pd.concat(axis=1) instead. To get a de-fragmented frame, use `newframe = frame.copy()`\n",
      "  dms[os.path.basename(img)] = propagation[\"decision_making\"][all_neurons[\"decision_making\"] == 1]\n",
      " 74%|███████▍  | 149/200 [07:09<02:24,  2.82s/it]/tmp/ipykernel_111384/2208910999.py:13: PerformanceWarning: DataFrame is highly fragmented.  This is usually the result of calling `frame.insert` many times, which has poor performance.  Consider joining all columns at once using pd.concat(axis=1) instead. To get a de-fragmented frame, use `newframe = frame.copy()`\n",
      "  dms[os.path.basename(img)] = propagation[\"decision_making\"][all_neurons[\"decision_making\"] == 1]\n",
      " 75%|███████▌  | 150/200 [07:12<02:20,  2.81s/it]/tmp/ipykernel_111384/2208910999.py:13: PerformanceWarning: DataFrame is highly fragmented.  This is usually the result of calling `frame.insert` many times, which has poor performance.  Consider joining all columns at once using pd.concat(axis=1) instead. To get a de-fragmented frame, use `newframe = frame.copy()`\n",
      "  dms[os.path.basename(img)] = propagation[\"decision_making\"][all_neurons[\"decision_making\"] == 1]\n",
      " 76%|███████▌  | 151/200 [07:15<02:16,  2.79s/it]/tmp/ipykernel_111384/2208910999.py:13: PerformanceWarning: DataFrame is highly fragmented.  This is usually the result of calling `frame.insert` many times, which has poor performance.  Consider joining all columns at once using pd.concat(axis=1) instead. To get a de-fragmented frame, use `newframe = frame.copy()`\n",
      "  dms[os.path.basename(img)] = propagation[\"decision_making\"][all_neurons[\"decision_making\"] == 1]\n",
      " 76%|███████▌  | 152/200 [07:18<02:12,  2.77s/it]/tmp/ipykernel_111384/2208910999.py:13: PerformanceWarning: DataFrame is highly fragmented.  This is usually the result of calling `frame.insert` many times, which has poor performance.  Consider joining all columns at once using pd.concat(axis=1) instead. To get a de-fragmented frame, use `newframe = frame.copy()`\n",
      "  dms[os.path.basename(img)] = propagation[\"decision_making\"][all_neurons[\"decision_making\"] == 1]\n",
      " 76%|███████▋  | 153/200 [07:20<02:10,  2.77s/it]/tmp/ipykernel_111384/2208910999.py:13: PerformanceWarning: DataFrame is highly fragmented.  This is usually the result of calling `frame.insert` many times, which has poor performance.  Consider joining all columns at once using pd.concat(axis=1) instead. To get a de-fragmented frame, use `newframe = frame.copy()`\n",
      "  dms[os.path.basename(img)] = propagation[\"decision_making\"][all_neurons[\"decision_making\"] == 1]\n",
      " 77%|███████▋  | 154/200 [07:23<02:09,  2.82s/it]/tmp/ipykernel_111384/2208910999.py:13: PerformanceWarning: DataFrame is highly fragmented.  This is usually the result of calling `frame.insert` many times, which has poor performance.  Consider joining all columns at once using pd.concat(axis=1) instead. To get a de-fragmented frame, use `newframe = frame.copy()`\n",
      "  dms[os.path.basename(img)] = propagation[\"decision_making\"][all_neurons[\"decision_making\"] == 1]\n",
      " 78%|███████▊  | 155/200 [07:27<02:15,  3.00s/it]/tmp/ipykernel_111384/2208910999.py:13: PerformanceWarning: DataFrame is highly fragmented.  This is usually the result of calling `frame.insert` many times, which has poor performance.  Consider joining all columns at once using pd.concat(axis=1) instead. To get a de-fragmented frame, use `newframe = frame.copy()`\n",
      "  dms[os.path.basename(img)] = propagation[\"decision_making\"][all_neurons[\"decision_making\"] == 1]\n",
      " 78%|███████▊  | 156/200 [07:30<02:09,  2.95s/it]/tmp/ipykernel_111384/2208910999.py:13: PerformanceWarning: DataFrame is highly fragmented.  This is usually the result of calling `frame.insert` many times, which has poor performance.  Consider joining all columns at once using pd.concat(axis=1) instead. To get a de-fragmented frame, use `newframe = frame.copy()`\n",
      "  dms[os.path.basename(img)] = propagation[\"decision_making\"][all_neurons[\"decision_making\"] == 1]\n",
      " 78%|███████▊  | 157/200 [07:32<02:05,  2.91s/it]/tmp/ipykernel_111384/2208910999.py:13: PerformanceWarning: DataFrame is highly fragmented.  This is usually the result of calling `frame.insert` many times, which has poor performance.  Consider joining all columns at once using pd.concat(axis=1) instead. To get a de-fragmented frame, use `newframe = frame.copy()`\n",
      "  dms[os.path.basename(img)] = propagation[\"decision_making\"][all_neurons[\"decision_making\"] == 1]\n",
      " 79%|███████▉  | 158/200 [07:35<02:00,  2.86s/it]/tmp/ipykernel_111384/2208910999.py:13: PerformanceWarning: DataFrame is highly fragmented.  This is usually the result of calling `frame.insert` many times, which has poor performance.  Consider joining all columns at once using pd.concat(axis=1) instead. To get a de-fragmented frame, use `newframe = frame.copy()`\n",
      "  dms[os.path.basename(img)] = propagation[\"decision_making\"][all_neurons[\"decision_making\"] == 1]\n",
      " 80%|███████▉  | 159/200 [07:38<01:56,  2.85s/it]/tmp/ipykernel_111384/2208910999.py:13: PerformanceWarning: DataFrame is highly fragmented.  This is usually the result of calling `frame.insert` many times, which has poor performance.  Consider joining all columns at once using pd.concat(axis=1) instead. To get a de-fragmented frame, use `newframe = frame.copy()`\n",
      "  dms[os.path.basename(img)] = propagation[\"decision_making\"][all_neurons[\"decision_making\"] == 1]\n",
      " 80%|████████  | 160/200 [07:41<02:01,  3.03s/it]/tmp/ipykernel_111384/2208910999.py:13: PerformanceWarning: DataFrame is highly fragmented.  This is usually the result of calling `frame.insert` many times, which has poor performance.  Consider joining all columns at once using pd.concat(axis=1) instead. To get a de-fragmented frame, use `newframe = frame.copy()`\n",
      "  dms[os.path.basename(img)] = propagation[\"decision_making\"][all_neurons[\"decision_making\"] == 1]\n",
      " 80%|████████  | 161/200 [07:45<01:59,  3.06s/it]/tmp/ipykernel_111384/2208910999.py:13: PerformanceWarning: DataFrame is highly fragmented.  This is usually the result of calling `frame.insert` many times, which has poor performance.  Consider joining all columns at once using pd.concat(axis=1) instead. To get a de-fragmented frame, use `newframe = frame.copy()`\n",
      "  dms[os.path.basename(img)] = propagation[\"decision_making\"][all_neurons[\"decision_making\"] == 1]\n",
      " 81%|████████  | 162/200 [07:47<01:53,  2.98s/it]/tmp/ipykernel_111384/2208910999.py:13: PerformanceWarning: DataFrame is highly fragmented.  This is usually the result of calling `frame.insert` many times, which has poor performance.  Consider joining all columns at once using pd.concat(axis=1) instead. To get a de-fragmented frame, use `newframe = frame.copy()`\n",
      "  dms[os.path.basename(img)] = propagation[\"decision_making\"][all_neurons[\"decision_making\"] == 1]\n",
      " 82%|████████▏ | 163/200 [07:50<01:47,  2.90s/it]/tmp/ipykernel_111384/2208910999.py:13: PerformanceWarning: DataFrame is highly fragmented.  This is usually the result of calling `frame.insert` many times, which has poor performance.  Consider joining all columns at once using pd.concat(axis=1) instead. To get a de-fragmented frame, use `newframe = frame.copy()`\n",
      "  dms[os.path.basename(img)] = propagation[\"decision_making\"][all_neurons[\"decision_making\"] == 1]\n",
      " 82%|████████▏ | 164/200 [07:53<01:43,  2.87s/it]/tmp/ipykernel_111384/2208910999.py:13: PerformanceWarning: DataFrame is highly fragmented.  This is usually the result of calling `frame.insert` many times, which has poor performance.  Consider joining all columns at once using pd.concat(axis=1) instead. To get a de-fragmented frame, use `newframe = frame.copy()`\n",
      "  dms[os.path.basename(img)] = propagation[\"decision_making\"][all_neurons[\"decision_making\"] == 1]\n",
      " 82%|████████▎ | 165/200 [07:56<01:39,  2.83s/it]/tmp/ipykernel_111384/2208910999.py:13: PerformanceWarning: DataFrame is highly fragmented.  This is usually the result of calling `frame.insert` many times, which has poor performance.  Consider joining all columns at once using pd.concat(axis=1) instead. To get a de-fragmented frame, use `newframe = frame.copy()`\n",
      "  dms[os.path.basename(img)] = propagation[\"decision_making\"][all_neurons[\"decision_making\"] == 1]\n",
      " 83%|████████▎ | 166/200 [07:58<01:36,  2.83s/it]/tmp/ipykernel_111384/2208910999.py:13: PerformanceWarning: DataFrame is highly fragmented.  This is usually the result of calling `frame.insert` many times, which has poor performance.  Consider joining all columns at once using pd.concat(axis=1) instead. To get a de-fragmented frame, use `newframe = frame.copy()`\n",
      "  dms[os.path.basename(img)] = propagation[\"decision_making\"][all_neurons[\"decision_making\"] == 1]\n",
      " 84%|████████▎ | 167/200 [08:01<01:33,  2.83s/it]/tmp/ipykernel_111384/2208910999.py:13: PerformanceWarning: DataFrame is highly fragmented.  This is usually the result of calling `frame.insert` many times, which has poor performance.  Consider joining all columns at once using pd.concat(axis=1) instead. To get a de-fragmented frame, use `newframe = frame.copy()`\n",
      "  dms[os.path.basename(img)] = propagation[\"decision_making\"][all_neurons[\"decision_making\"] == 1]\n",
      " 84%|████████▍ | 168/200 [08:04<01:29,  2.79s/it]/tmp/ipykernel_111384/2208910999.py:13: PerformanceWarning: DataFrame is highly fragmented.  This is usually the result of calling `frame.insert` many times, which has poor performance.  Consider joining all columns at once using pd.concat(axis=1) instead. To get a de-fragmented frame, use `newframe = frame.copy()`\n",
      "  dms[os.path.basename(img)] = propagation[\"decision_making\"][all_neurons[\"decision_making\"] == 1]\n",
      " 84%|████████▍ | 169/200 [08:07<01:25,  2.75s/it]/tmp/ipykernel_111384/2208910999.py:13: PerformanceWarning: DataFrame is highly fragmented.  This is usually the result of calling `frame.insert` many times, which has poor performance.  Consider joining all columns at once using pd.concat(axis=1) instead. To get a de-fragmented frame, use `newframe = frame.copy()`\n",
      "  dms[os.path.basename(img)] = propagation[\"decision_making\"][all_neurons[\"decision_making\"] == 1]\n",
      " 85%|████████▌ | 170/200 [08:09<01:22,  2.74s/it]/tmp/ipykernel_111384/2208910999.py:13: PerformanceWarning: DataFrame is highly fragmented.  This is usually the result of calling `frame.insert` many times, which has poor performance.  Consider joining all columns at once using pd.concat(axis=1) instead. To get a de-fragmented frame, use `newframe = frame.copy()`\n",
      "  dms[os.path.basename(img)] = propagation[\"decision_making\"][all_neurons[\"decision_making\"] == 1]\n",
      " 86%|████████▌ | 171/200 [08:12<01:19,  2.73s/it]/tmp/ipykernel_111384/2208910999.py:13: PerformanceWarning: DataFrame is highly fragmented.  This is usually the result of calling `frame.insert` many times, which has poor performance.  Consider joining all columns at once using pd.concat(axis=1) instead. To get a de-fragmented frame, use `newframe = frame.copy()`\n",
      "  dms[os.path.basename(img)] = propagation[\"decision_making\"][all_neurons[\"decision_making\"] == 1]\n",
      " 86%|████████▌ | 172/200 [08:15<01:16,  2.74s/it]/tmp/ipykernel_111384/2208910999.py:13: PerformanceWarning: DataFrame is highly fragmented.  This is usually the result of calling `frame.insert` many times, which has poor performance.  Consider joining all columns at once using pd.concat(axis=1) instead. To get a de-fragmented frame, use `newframe = frame.copy()`\n",
      "  dms[os.path.basename(img)] = propagation[\"decision_making\"][all_neurons[\"decision_making\"] == 1]\n",
      " 86%|████████▋ | 173/200 [08:17<01:13,  2.71s/it]/tmp/ipykernel_111384/2208910999.py:13: PerformanceWarning: DataFrame is highly fragmented.  This is usually the result of calling `frame.insert` many times, which has poor performance.  Consider joining all columns at once using pd.concat(axis=1) instead. To get a de-fragmented frame, use `newframe = frame.copy()`\n",
      "  dms[os.path.basename(img)] = propagation[\"decision_making\"][all_neurons[\"decision_making\"] == 1]\n",
      " 87%|████████▋ | 174/200 [08:20<01:10,  2.71s/it]/tmp/ipykernel_111384/2208910999.py:13: PerformanceWarning: DataFrame is highly fragmented.  This is usually the result of calling `frame.insert` many times, which has poor performance.  Consider joining all columns at once using pd.concat(axis=1) instead. To get a de-fragmented frame, use `newframe = frame.copy()`\n",
      "  dms[os.path.basename(img)] = propagation[\"decision_making\"][all_neurons[\"decision_making\"] == 1]\n",
      " 88%|████████▊ | 175/200 [08:23<01:07,  2.70s/it]/tmp/ipykernel_111384/2208910999.py:13: PerformanceWarning: DataFrame is highly fragmented.  This is usually the result of calling `frame.insert` many times, which has poor performance.  Consider joining all columns at once using pd.concat(axis=1) instead. To get a de-fragmented frame, use `newframe = frame.copy()`\n",
      "  dms[os.path.basename(img)] = propagation[\"decision_making\"][all_neurons[\"decision_making\"] == 1]\n",
      " 88%|████████▊ | 176/200 [08:26<01:04,  2.70s/it]/tmp/ipykernel_111384/2208910999.py:13: PerformanceWarning: DataFrame is highly fragmented.  This is usually the result of calling `frame.insert` many times, which has poor performance.  Consider joining all columns at once using pd.concat(axis=1) instead. To get a de-fragmented frame, use `newframe = frame.copy()`\n",
      "  dms[os.path.basename(img)] = propagation[\"decision_making\"][all_neurons[\"decision_making\"] == 1]\n",
      " 88%|████████▊ | 177/200 [08:28<01:02,  2.70s/it]/tmp/ipykernel_111384/2208910999.py:13: PerformanceWarning: DataFrame is highly fragmented.  This is usually the result of calling `frame.insert` many times, which has poor performance.  Consider joining all columns at once using pd.concat(axis=1) instead. To get a de-fragmented frame, use `newframe = frame.copy()`\n",
      "  dms[os.path.basename(img)] = propagation[\"decision_making\"][all_neurons[\"decision_making\"] == 1]\n",
      " 89%|████████▉ | 178/200 [08:31<00:59,  2.71s/it]/tmp/ipykernel_111384/2208910999.py:13: PerformanceWarning: DataFrame is highly fragmented.  This is usually the result of calling `frame.insert` many times, which has poor performance.  Consider joining all columns at once using pd.concat(axis=1) instead. To get a de-fragmented frame, use `newframe = frame.copy()`\n",
      "  dms[os.path.basename(img)] = propagation[\"decision_making\"][all_neurons[\"decision_making\"] == 1]\n",
      " 90%|████████▉ | 179/200 [08:34<00:57,  2.73s/it]/tmp/ipykernel_111384/2208910999.py:13: PerformanceWarning: DataFrame is highly fragmented.  This is usually the result of calling `frame.insert` many times, which has poor performance.  Consider joining all columns at once using pd.concat(axis=1) instead. To get a de-fragmented frame, use `newframe = frame.copy()`\n",
      "  dms[os.path.basename(img)] = propagation[\"decision_making\"][all_neurons[\"decision_making\"] == 1]\n",
      " 90%|█████████ | 180/200 [08:36<00:54,  2.71s/it]/tmp/ipykernel_111384/2208910999.py:13: PerformanceWarning: DataFrame is highly fragmented.  This is usually the result of calling `frame.insert` many times, which has poor performance.  Consider joining all columns at once using pd.concat(axis=1) instead. To get a de-fragmented frame, use `newframe = frame.copy()`\n",
      "  dms[os.path.basename(img)] = propagation[\"decision_making\"][all_neurons[\"decision_making\"] == 1]\n",
      " 90%|█████████ | 181/200 [08:39<00:51,  2.72s/it]/tmp/ipykernel_111384/2208910999.py:13: PerformanceWarning: DataFrame is highly fragmented.  This is usually the result of calling `frame.insert` many times, which has poor performance.  Consider joining all columns at once using pd.concat(axis=1) instead. To get a de-fragmented frame, use `newframe = frame.copy()`\n",
      "  dms[os.path.basename(img)] = propagation[\"decision_making\"][all_neurons[\"decision_making\"] == 1]\n",
      " 91%|█████████ | 182/200 [08:42<00:49,  2.73s/it]/tmp/ipykernel_111384/2208910999.py:13: PerformanceWarning: DataFrame is highly fragmented.  This is usually the result of calling `frame.insert` many times, which has poor performance.  Consider joining all columns at once using pd.concat(axis=1) instead. To get a de-fragmented frame, use `newframe = frame.copy()`\n",
      "  dms[os.path.basename(img)] = propagation[\"decision_making\"][all_neurons[\"decision_making\"] == 1]\n",
      " 92%|█████████▏| 183/200 [08:45<00:46,  2.75s/it]/tmp/ipykernel_111384/2208910999.py:13: PerformanceWarning: DataFrame is highly fragmented.  This is usually the result of calling `frame.insert` many times, which has poor performance.  Consider joining all columns at once using pd.concat(axis=1) instead. To get a de-fragmented frame, use `newframe = frame.copy()`\n",
      "  dms[os.path.basename(img)] = propagation[\"decision_making\"][all_neurons[\"decision_making\"] == 1]\n",
      " 92%|█████████▏| 184/200 [08:48<00:44,  2.76s/it]/tmp/ipykernel_111384/2208910999.py:13: PerformanceWarning: DataFrame is highly fragmented.  This is usually the result of calling `frame.insert` many times, which has poor performance.  Consider joining all columns at once using pd.concat(axis=1) instead. To get a de-fragmented frame, use `newframe = frame.copy()`\n",
      "  dms[os.path.basename(img)] = propagation[\"decision_making\"][all_neurons[\"decision_making\"] == 1]\n",
      " 92%|█████████▎| 185/200 [08:50<00:42,  2.80s/it]/tmp/ipykernel_111384/2208910999.py:13: PerformanceWarning: DataFrame is highly fragmented.  This is usually the result of calling `frame.insert` many times, which has poor performance.  Consider joining all columns at once using pd.concat(axis=1) instead. To get a de-fragmented frame, use `newframe = frame.copy()`\n",
      "  dms[os.path.basename(img)] = propagation[\"decision_making\"][all_neurons[\"decision_making\"] == 1]\n",
      " 93%|█████████▎| 186/200 [08:53<00:39,  2.79s/it]/tmp/ipykernel_111384/2208910999.py:13: PerformanceWarning: DataFrame is highly fragmented.  This is usually the result of calling `frame.insert` many times, which has poor performance.  Consider joining all columns at once using pd.concat(axis=1) instead. To get a de-fragmented frame, use `newframe = frame.copy()`\n",
      "  dms[os.path.basename(img)] = propagation[\"decision_making\"][all_neurons[\"decision_making\"] == 1]\n",
      " 94%|█████████▎| 187/200 [08:56<00:36,  2.78s/it]/tmp/ipykernel_111384/2208910999.py:13: PerformanceWarning: DataFrame is highly fragmented.  This is usually the result of calling `frame.insert` many times, which has poor performance.  Consider joining all columns at once using pd.concat(axis=1) instead. To get a de-fragmented frame, use `newframe = frame.copy()`\n",
      "  dms[os.path.basename(img)] = propagation[\"decision_making\"][all_neurons[\"decision_making\"] == 1]\n",
      " 94%|█████████▍| 188/200 [08:59<00:33,  2.77s/it]/tmp/ipykernel_111384/2208910999.py:13: PerformanceWarning: DataFrame is highly fragmented.  This is usually the result of calling `frame.insert` many times, which has poor performance.  Consider joining all columns at once using pd.concat(axis=1) instead. To get a de-fragmented frame, use `newframe = frame.copy()`\n",
      "  dms[os.path.basename(img)] = propagation[\"decision_making\"][all_neurons[\"decision_making\"] == 1]\n",
      " 94%|█████████▍| 189/200 [09:02<00:31,  2.90s/it]/tmp/ipykernel_111384/2208910999.py:13: PerformanceWarning: DataFrame is highly fragmented.  This is usually the result of calling `frame.insert` many times, which has poor performance.  Consider joining all columns at once using pd.concat(axis=1) instead. To get a de-fragmented frame, use `newframe = frame.copy()`\n",
      "  dms[os.path.basename(img)] = propagation[\"decision_making\"][all_neurons[\"decision_making\"] == 1]\n",
      " 95%|█████████▌| 190/200 [09:05<00:29,  2.95s/it]/tmp/ipykernel_111384/2208910999.py:13: PerformanceWarning: DataFrame is highly fragmented.  This is usually the result of calling `frame.insert` many times, which has poor performance.  Consider joining all columns at once using pd.concat(axis=1) instead. To get a de-fragmented frame, use `newframe = frame.copy()`\n",
      "  dms[os.path.basename(img)] = propagation[\"decision_making\"][all_neurons[\"decision_making\"] == 1]\n",
      " 96%|█████████▌| 191/200 [09:08<00:27,  3.01s/it]/tmp/ipykernel_111384/2208910999.py:13: PerformanceWarning: DataFrame is highly fragmented.  This is usually the result of calling `frame.insert` many times, which has poor performance.  Consider joining all columns at once using pd.concat(axis=1) instead. To get a de-fragmented frame, use `newframe = frame.copy()`\n",
      "  dms[os.path.basename(img)] = propagation[\"decision_making\"][all_neurons[\"decision_making\"] == 1]\n",
      " 96%|█████████▌| 192/200 [09:11<00:24,  3.03s/it]/tmp/ipykernel_111384/2208910999.py:13: PerformanceWarning: DataFrame is highly fragmented.  This is usually the result of calling `frame.insert` many times, which has poor performance.  Consider joining all columns at once using pd.concat(axis=1) instead. To get a de-fragmented frame, use `newframe = frame.copy()`\n",
      "  dms[os.path.basename(img)] = propagation[\"decision_making\"][all_neurons[\"decision_making\"] == 1]\n",
      " 96%|█████████▋| 193/200 [09:14<00:20,  2.98s/it]/tmp/ipykernel_111384/2208910999.py:13: PerformanceWarning: DataFrame is highly fragmented.  This is usually the result of calling `frame.insert` many times, which has poor performance.  Consider joining all columns at once using pd.concat(axis=1) instead. To get a de-fragmented frame, use `newframe = frame.copy()`\n",
      "  dms[os.path.basename(img)] = propagation[\"decision_making\"][all_neurons[\"decision_making\"] == 1]\n",
      " 97%|█████████▋| 194/200 [09:17<00:17,  2.93s/it]/tmp/ipykernel_111384/2208910999.py:13: PerformanceWarning: DataFrame is highly fragmented.  This is usually the result of calling `frame.insert` many times, which has poor performance.  Consider joining all columns at once using pd.concat(axis=1) instead. To get a de-fragmented frame, use `newframe = frame.copy()`\n",
      "  dms[os.path.basename(img)] = propagation[\"decision_making\"][all_neurons[\"decision_making\"] == 1]\n",
      " 98%|█████████▊| 195/200 [09:20<00:14,  2.95s/it]/tmp/ipykernel_111384/2208910999.py:13: PerformanceWarning: DataFrame is highly fragmented.  This is usually the result of calling `frame.insert` many times, which has poor performance.  Consider joining all columns at once using pd.concat(axis=1) instead. To get a de-fragmented frame, use `newframe = frame.copy()`\n",
      "  dms[os.path.basename(img)] = propagation[\"decision_making\"][all_neurons[\"decision_making\"] == 1]\n",
      " 98%|█████████▊| 196/200 [09:23<00:11,  2.98s/it]/tmp/ipykernel_111384/2208910999.py:13: PerformanceWarning: DataFrame is highly fragmented.  This is usually the result of calling `frame.insert` many times, which has poor performance.  Consider joining all columns at once using pd.concat(axis=1) instead. To get a de-fragmented frame, use `newframe = frame.copy()`\n",
      "  dms[os.path.basename(img)] = propagation[\"decision_making\"][all_neurons[\"decision_making\"] == 1]\n",
      " 98%|█████████▊| 197/200 [09:26<00:08,  2.94s/it]/tmp/ipykernel_111384/2208910999.py:13: PerformanceWarning: DataFrame is highly fragmented.  This is usually the result of calling `frame.insert` many times, which has poor performance.  Consider joining all columns at once using pd.concat(axis=1) instead. To get a de-fragmented frame, use `newframe = frame.copy()`\n",
      "  dms[os.path.basename(img)] = propagation[\"decision_making\"][all_neurons[\"decision_making\"] == 1]\n",
      " 99%|█████████▉| 198/200 [09:29<00:05,  2.95s/it]/tmp/ipykernel_111384/2208910999.py:13: PerformanceWarning: DataFrame is highly fragmented.  This is usually the result of calling `frame.insert` many times, which has poor performance.  Consider joining all columns at once using pd.concat(axis=1) instead. To get a de-fragmented frame, use `newframe = frame.copy()`\n",
      "  dms[os.path.basename(img)] = propagation[\"decision_making\"][all_neurons[\"decision_making\"] == 1]\n",
      "100%|█████████▉| 199/200 [09:32<00:02,  2.91s/it]/tmp/ipykernel_111384/2208910999.py:13: PerformanceWarning: DataFrame is highly fragmented.  This is usually the result of calling `frame.insert` many times, which has poor performance.  Consider joining all columns at once using pd.concat(axis=1) instead. To get a de-fragmented frame, use `newframe = frame.copy()`\n",
      "  dms[os.path.basename(img)] = propagation[\"decision_making\"][all_neurons[\"decision_making\"] == 1]\n",
      "100%|██████████| 200/200 [09:34<00:00,  2.87s/it]\n"
     ]
    }
   ],
   "source": [
    "num_passes = 4\n",
    "base_dir = \"images/five_to_fifteen/train\"\n",
    "sub_dirs = [\"yellow\", \"blue\"]\n",
    "\n",
    "sampled_images = sample_images(base_dir, sub_dirs, 100)\n",
    "\n",
    "dms = {}\n",
    "for img in tqdm(sampled_images):\n",
    "    activated_data = neuron_data_from_image(sampled_images[1], neuron_data)\n",
    "    propagation = propagate_neuron_data(\n",
    "        activated_data, connections, all_coords, all_neurons, num_passes\n",
    "    )\n",
    "    dms[os.path.basename(img)] = propagation[\"decision_making\"][all_neurons[\"decision_making\"] == 1]\n"
   ]
  },
  {
   "cell_type": "code",
   "execution_count": 39,
   "metadata": {},
   "outputs": [],
   "source": [
    "means = pd.DataFrame(dms.mean(axis=0))\n",
    "means = means.rename(columns={0: \"mean\"})\n",
    "means[\"yellow\"] = [int(a.split(\"_\")[1]) for a in means.index]\n",
    "means[\"blue\"] = [int(a.split(\"_\")[2]) for a in means.index]\n",
    "means[\"color\"] = means[[\"yellow\", \"blue\"]].idxmax(axis=1)"
   ]
  },
  {
   "cell_type": "code",
   "execution_count": 42,
   "metadata": {},
   "outputs": [
    {
     "data": {
      "text/plain": [
       "<Axes: xlabel='color', ylabel='mean'>"
      ]
     },
     "execution_count": 42,
     "metadata": {},
     "output_type": "execute_result"
    },
    {
     "data": {
      "image/png": "[encoded data removed]",
      "text/plain": [
       "<Figure size 640x480 with 1 Axes>"
      ]
     },
     "metadata": {},
     "output_type": "display_data"
    }
   ],
   "source": [
    "# boxplot of mean depending on color using seaborn\n",
    "import seaborn as sns\n",
    "\n",
    "sns.boxplot(x=\"color\", y=\"mean\", data=means)"
   ]
  },
  {
   "cell_type": "code",
   "execution_count": 13,
   "metadata": {},
   "outputs": [
    {
     "data": {
      "text/plain": [
       "'images/five_to_fifteen/train/yellow/img_9_6_58_equalized_.png'"
      ]
     },
     "execution_count": 13,
     "metadata": {},
     "output_type": "execute_result"
    }
   ],
   "source": [
    "sampled_images[0]"
   ]
  },
  {
   "cell_type": "code",
   "execution_count": 43,
   "metadata": {},
   "outputs": [
    {
     "data": {
      "text/plain": [
       "Parameter containing:\n",
       "tensor([[-8.3752],\n",
       "        [ 7.2369]], requires_grad=True)"
      ]
     },
     "execution_count": 43,
     "metadata": {},
     "output_type": "execute_result"
    }
   ],
   "source": [
    "model.final_fc.weight"
   ]
  },
  {
   "cell_type": "code",
   "execution_count": 44,
   "metadata": {},
   "outputs": [
    {
     "data": {
      "text/plain": [
       "Parameter containing:\n",
       "tensor([-0.3962, -0.3513], requires_grad=True)"
      ]
     },
     "execution_count": 44,
     "metadata": {},
     "output_type": "execute_result"
    }
   ],
   "source": [
    "model.final_fc.bias"
   ]
  },
  {
   "cell_type": "code",
   "execution_count": null,
   "metadata": {},
   "outputs": [],
   "source": []
  }
 ],
 "metadata": {
  "kernelspec": {
   "display_name": "venv",
   "language": "python",
   "name": "python3"
  },
  "language_info": {
   "codemirror_mode": {
    "name": "ipython",
    "version": 3
   },
   "file_extension": ".py",
   "mimetype": "text/x-python",
   "name": "python",
   "nbconvert_exporter": "python",
   "pygments_lexer": "ipython3",
   "version": "3.10.12"
  }
 },
 "nbformat": 4,
 "nbformat_minor": 2
}
