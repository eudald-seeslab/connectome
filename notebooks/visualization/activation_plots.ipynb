{
 "cells": [
  {
   "cell_type": "code",
   "execution_count": 1,
   "metadata": {},
   "outputs": [],
   "source": [
    "%matplotlib inline\n",
    "import torch\n",
    "import pandas as pd\n",
    "import numpy as np\n",
    "import matplotlib.pyplot as plt\n",
    "from imageio.v3 import imread\n",
    "\n",
    "cmap = plt.cm.binary\n",
    "\n",
    "import connectome\n",
    "config = connectome.get_config()\n",
    "\n",
    "from connectome.core.data_processing import DataProcessor\n",
    "from connectome.core.graph_models import FullGraphModel\n",
    "from connectome.core.train_funcs import get_activation_from_cell_type, assign_cell_type\n",
    "from utils.model_inspection_utils import process_image, process_and_plot_data\n",
    "\n",
    "device = torch.device(\"cpu\")\n",
    "dtype = torch.float32"
   ]
  },
  {
   "cell_type": "code",
   "execution_count": null,
   "metadata": {},
   "outputs": [],
   "source": [
    "data_processor = DataProcessor(config)\n",
    "model = FullGraphModel(data_processor, config).to(device)"
   ]
  },
  {
   "cell_type": "code",
   "execution_count": 4,
   "metadata": {},
   "outputs": [],
   "source": [
    "connections = data_processor._get_connections()"
   ]
  },
  {
   "cell_type": "code",
   "execution_count": null,
   "metadata": {},
   "outputs": [],
   "source": []
  },
  {
   "cell_type": "code",
   "execution_count": 13,
   "metadata": {},
   "outputs": [],
   "source": [
    "import os\n",
    "from paths import PROJECT_ROOT\n",
    "from utils.model_inspection_funcs import (\n",
    "    neuron_data_from_image,\n",
    "    propagate_neuron_data,\n",
    "    sample_images,\n",
    ")\n",
    "from utils.model_inspection_utils import propagate_data_with_steps\n",
    "neuron_data = pd.read_csv(\n",
    "    os.path.join(PROJECT_ROOT, \"new_data\", \"right_visual_positions_selected_neurons.csv\"),\n",
    "    dtype={\"root_id\": \"string\"},\n",
    ").drop(columns=[\"x\", \"y\", \"z\", \"PC1\", \"PC2\"])\n",
    "\n",
    "num_passes = 4\n",
    "base_dir = os.path.join(PROJECT_ROOT, \"images\", \"one_to_ten\", \"train\")\n",
    "sub_dirs = [\"yellow\", \"blue\"]\n",
    "\n",
    "sampled_images = sample_images(base_dir, sub_dirs, 1)\n",
    "img = sampled_images[0]\n",
    "activated_data = neuron_data_from_image(img, neuron_data)\n",
    "\n",
    "propagation = (\n",
    "    activated_data[[\"root_id\", \"activation\"]]\n",
    "    .fillna(0)\n",
    "    .rename(columns={\"activation\": \"input\"})\n",
    ")\n",
    "activation = activated_data[[\"root_id\", \"activation\"]]\n",
    "connections[\"weight\"] = 1\n",
    "\n",
    "for i in range(num_passes):\n",
    "    activation = propagate_data_with_steps(activation.copy(), connections, i)\n",
    "    propagation = propagation.merge(activation, on=\"root_id\", how=\"left\").fillna(0)"
   ]
  },
  {
   "cell_type": "code",
   "execution_count": 15,
   "metadata": {},
   "outputs": [
    {
     "data": {
      "text/plain": [
       "0.5563860903477413"
      ]
     },
     "execution_count": 15,
     "metadata": {},
     "output_type": "execute_result"
    }
   ],
   "source": [
    "# find percentage of non-zero values in activation_4\n",
    "propagation[\"activation_4\"].astype(bool).sum() / len(propagation)"
   ]
  },
  {
   "cell_type": "code",
   "execution_count": 18,
   "metadata": {},
   "outputs": [
    {
     "data": {
      "text/plain": [
       "0.7491062723431914"
      ]
     },
     "execution_count": 18,
     "metadata": {},
     "output_type": "execute_result"
    }
   ],
   "source": [
    "# reshuffle column post_rood_id of the dataframe connections\n",
    "shuffled_connections = connections.copy()\n",
    "shuffled_connections[\"post_root_id\"] = np.random.permutation(\n",
    "    connections[\"post_root_id\"]\n",
    ")\n",
    "propagation = (\n",
    "    activated_data[[\"root_id\", \"activation\"]]\n",
    "    .fillna(0)\n",
    "    .rename(columns={\"activation\": \"input\"})\n",
    ")\n",
    "for i in range(num_passes):\n",
    "    activation = propagate_data_with_steps(activation.copy(), shuffled_connections, i)\n",
    "    propagation = propagation.merge(activation, on=\"root_id\", how=\"left\").fillna(0)\n",
    "\n",
    "# find percentage of non-zero values in activation_4\n",
    "propagation[\"activation_4\"].astype(bool).sum() / len(propagation)"
   ]
  },
  {
   "cell_type": "code",
   "execution_count": 19,
   "metadata": {},
   "outputs": [
    {
     "data": {
      "text/plain": [
       "0.7491062723431914"
      ]
     },
     "execution_count": 19,
     "metadata": {},
     "output_type": "execute_result"
    }
   ],
   "source": [
    "# reshuffle column post_rood_id of the dataframe connections\n",
    "random_equalized_connections = pd.read_csv(os.path.join(PROJECT_ROOT, \"new_data\", \"connections_random.csv\"))\n",
    "propagation = (\n",
    "    activated_data[[\"root_id\", \"activation\"]]\n",
    "    .fillna(0)\n",
    "    .rename(columns={\"activation\": \"input\"})\n",
    ")\n",
    "for i in range(num_passes):\n",
    "    activation = propagate_data_with_steps(activation.copy(), shuffled_connections, i)\n",
    "    propagation = propagation.merge(activation, on=\"root_id\", how=\"left\").fillna(0)\n",
    "\n",
    "# find percentage of non-zero values in activation_4\n",
    "propagation[\"activation_4\"].astype(bool).sum() / len(propagation)"
   ]
  },
  {
   "cell_type": "code",
   "execution_count": null,
   "metadata": {},
   "outputs": [],
   "source": [
    "# horrible data stuff\n",
    "checkpoint = torch.load(\"models/model_2024-05-20 03:41:43.pth\", map_location=\"cpu\")\n",
    "model.load_state_dict(checkpoint[\"model\"])\n",
    "model.eval()\n",
    "connections = (\n",
    "    pd.read_csv(\n",
    "        \"adult_data/connections.csv\",\n",
    "        dtype={\n",
    "            \"pre_root_id\": \"string\",\n",
    "            \"post_root_id\": \"string\",\n",
    "            \"syn_count\": np.int32,\n",
    "        },\n",
    "    )\n",
    "    .groupby([\"pre_root_id\", \"post_root_id\"])\n",
    "    .sum(\"syn_count\")\n",
    "    .reset_index()\n",
    ")\n",
    "\n",
    "connections[\"weight\"] = model.connectome.edge_weight_multiplier.detach()\n",
    "right_root_ids = data_processor.right_root_ids\n",
    "all_neurons = (\n",
    "    pd.read_csv(\"adult_data/classification_clean.csv\")\n",
    "    .merge(right_root_ids, on=\"root_id\")\n",
    "    .fillna(\"Unknown\")\n",
    ")\n",
    "neuron_data = pd.read_csv(\n",
    "    \"adult_data/right_visual_positions_selected_neurons.csv\",\n",
    "    dtype={\"root_id\": \"string\"},\n",
    ").drop(columns=[\"x\", \"y\", \"z\", \"PC1\", \"PC2\"])\n",
    "data_cols = [\"x_axis\", \"y_axis\"]\n",
    "all_coords = pd.read_csv(\"adult_data/all_coords_clean.csv\", dtype={\"root_id\": \"string\"})\n",
    "rational_cell_types = pd.read_csv(\"adult_data/rational_cell_types.csv\")\n",
    "all_neurons[\"decision_making\"] = np.where(\n",
    "    all_neurons[\"cell_type\"].isin(rational_cell_types[\"cell_type\"].values.tolist()),\n",
    "    1,\n",
    "    0,\n",
    ")\n",
    "all_neurons[\"root_id\"] = all_neurons[\"root_id\"].astype(\"string\")"
   ]
  },
  {
   "cell_type": "code",
   "execution_count": null,
   "metadata": {},
   "outputs": [],
   "source": []
  },
  {
   "cell_type": "code",
   "execution_count": null,
   "metadata": {},
   "outputs": [],
   "source": [
    "data = pd.DataFrame(dms)\n",
    "means = pd.DataFrame(data.mean(axis=0))\n",
    "means = means.rename(columns={0: \"mean\"})\n",
    "means[\"yellow\"] = [int(a.split(\"_\")[1]) for a in means.index]\n",
    "means[\"blue\"] = [int(a.split(\"_\")[2]) for a in means.index]\n",
    "means[\"color\"] = means[[\"yellow\", \"blue\"]].idxmax(axis=1)"
   ]
  },
  {
   "cell_type": "code",
   "execution_count": null,
   "metadata": {},
   "outputs": [],
   "source": [
    "sns.boxplot(x=\"color\", y=\"mean\", data=means)"
   ]
  },
  {
   "cell_type": "code",
   "execution_count": null,
   "metadata": {},
   "outputs": [],
   "source": [
    "means[\"pred\"] = np.where(means[\"mean\"] > means[\"mean\"].mean(), \"yellow\", \"blue\")\n",
    "# confusion matrix between color and pred\n",
    "\n",
    "confusion_matrix(means[\"color\"], means[\"pred\"]) / len(means)"
   ]
  },
  {
   "cell_type": "code",
   "execution_count": null,
   "metadata": {},
   "outputs": [],
   "source": [
    "print(f\"accuracy = {np.mean(means['color'] == means['pred'])}\")"
   ]
  },
  {
   "cell_type": "markdown",
   "metadata": {},
   "source": [
    "# With reshuffled weights"
   ]
  },
  {
   "cell_type": "code",
   "execution_count": null,
   "metadata": {},
   "outputs": [],
   "source": [
    "# reshuffle column post_rood_id of the dataframe connections\n",
    "shuffled_connections = connections.copy()\n",
    "shuffled_connections[\"post_root_id\"] = np.random.permutation(connections[\"post_root_id\"])"
   ]
  },
  {
   "cell_type": "code",
   "execution_count": null,
   "metadata": {},
   "outputs": [],
   "source": [
    "num_passes = 4\n",
    "base_dir = \"images/five_to_fifteen/train\"\n",
    "sub_dirs = [\"yellow\", \"blue\"]\n",
    "\n",
    "sampled_images = sample_images(base_dir, sub_dirs, num_test_pairs)\n",
    "\n",
    "dms = {}\n",
    "for img in tqdm(sampled_images):\n",
    "    activated_data = neuron_data_from_image(img, neuron_data)\n",
    "    propagation = propagate_neuron_data(\n",
    "        activated_data, shuffled_connections, all_coords, all_neurons, num_passes\n",
    "    )\n",
    "    dms[os.path.basename(img)] = propagation[\"decision_making\"][\n",
    "        all_neurons[\"decision_making\"] == 1\n",
    "    ]"
   ]
  },
  {
   "cell_type": "code",
   "execution_count": null,
   "metadata": {},
   "outputs": [],
   "source": [
    "data = pd.DataFrame(dms)\n",
    "means = pd.DataFrame(data.mean(axis=0))\n",
    "means = means.rename(columns={0: \"mean\"})\n",
    "means[\"yellow\"] = [int(a.split(\"_\")[1]) for a in means.index]\n",
    "means[\"blue\"] = [int(a.split(\"_\")[2]) for a in means.index]\n",
    "means[\"color\"] = means[[\"yellow\", \"blue\"]].idxmax(axis=1)"
   ]
  },
  {
   "cell_type": "code",
   "execution_count": null,
   "metadata": {},
   "outputs": [],
   "source": [
    "%matplotlib inline\n",
    "sns.boxplot(x=\"color\", y=\"mean\", data=means)\n",
    "plt.show()"
   ]
  },
  {
   "cell_type": "code",
   "execution_count": null,
   "metadata": {},
   "outputs": [],
   "source": [
    "means[\"pred\"] = np.where(means[\"mean\"] > means[\"mean\"].mean(), \"yellow\", \"blue\")\n",
    "# confusion matrix between color and pred\n",
    "\n",
    "confusion_matrix(means[\"color\"], means[\"pred\"]) / len(means)"
   ]
  },
  {
   "cell_type": "code",
   "execution_count": null,
   "metadata": {},
   "outputs": [],
   "source": [
    "print(f\"accuracy = {np.mean(means['color'] == means['pred'])}\")"
   ]
  },
  {
   "cell_type": "code",
   "execution_count": null,
   "metadata": {},
   "outputs": [],
   "source": []
  }
 ],
 "metadata": {
  "kernelspec": {
   "display_name": "venv",
   "language": "python",
   "name": "python3"
  },
  "language_info": {
   "codemirror_mode": {
    "name": "ipython",
    "version": 3
   },
   "file_extension": ".py",
   "mimetype": "text/x-python",
   "name": "python",
   "nbconvert_exporter": "python",
   "pygments_lexer": "ipython3",
   "version": "3.12.3"
  }
 },
 "nbformat": 4,
 "nbformat_minor": 2
}
