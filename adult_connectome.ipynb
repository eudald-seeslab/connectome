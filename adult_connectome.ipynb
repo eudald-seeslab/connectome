{
 "cells": [
  {
   "cell_type": "code",
   "outputs": [],
   "source": [
    "import pandas as pd\n",
    "import numpy as np\n",
    "from scipy.sparse import coo_matrix"
   ],
   "metadata": {
    "collapsed": false,
    "ExecuteTime": {
     "end_time": "2024-01-19T12:23:22.459797310Z",
     "start_time": "2024-01-19T12:23:22.412382783Z"
    }
   },
   "id": "acac767b0ccee119",
   "execution_count": 3
  },
  {
   "cell_type": "code",
   "outputs": [],
   "source": [
    "classification = pd.read_csv(\"adult_data/classification.csv\")\n",
    "neurons = pd.read_csv(\"adult_data/neurons.csv\")\n",
    "connections = pd.read_csv(\"adult_data/connections.csv\")"
   ],
   "metadata": {
    "collapsed": false,
    "ExecuteTime": {
     "end_time": "2024-01-19T12:23:24.656858932Z",
     "start_time": "2024-01-19T12:23:22.642211623Z"
    }
   },
   "id": "ab71988e710f2755",
   "execution_count": 4
  },
  {
   "cell_type": "code",
   "outputs": [
    {
     "data": {
      "text/plain": "                pre_root_id        post_root_id neuropil  syn_count nt_type  \\\n0        720575940629970489  720575940631267655   AVLP_R          7    GABA   \n1        720575940629970489  720575940620005542   AVLP_R         16    GABA   \n2        720575940629970489  720575940626081319   AVLP_R          7    GABA   \n3        720575940629970489  720575940652258806   AVLP_R          5    GABA   \n4        720575940629970489  720575940624508563   AVLP_R         21    GABA   \n...                     ...                 ...      ...        ...     ...   \n3871462  720575940618564582  720575940620407572     ME_R         12     ACH   \n3871463  720575940645437476  720575940616370700     ME_R          5     ACH   \n3871464  720575940626870330  720575940632926765     ME_R          5     ACH   \n3871465  720575940623857043  720575940625360572     ME_R         10    GLUT   \n3871466  720575940616158111  720575940643531168     ME_R          7    GLUT   \n\n                    root_id cell_type  \n0        720575940629970489       NaN  \n1        720575940629970489       NaN  \n2        720575940629970489       NaN  \n3        720575940629970489       NaN  \n4        720575940629970489       NaN  \n...                     ...       ...  \n3871462  720575940618564582     TmY18  \n3871463  720575940645437476        L2  \n3871464  720575940626870330       Dm3  \n3871465  720575940623857043       Dm3  \n3871466  720575940616158111       Dm3  \n\n[3871467 rows x 7 columns]",
      "text/html": "<div>\n<style scoped>\n    .dataframe tbody tr th:only-of-type {\n        vertical-align: middle;\n    }\n\n    .dataframe tbody tr th {\n        vertical-align: top;\n    }\n\n    .dataframe thead th {\n        text-align: right;\n    }\n</style>\n<table border=\"1\" class=\"dataframe\">\n  <thead>\n    <tr style=\"text-align: right;\">\n      <th></th>\n      <th>pre_root_id</th>\n      <th>post_root_id</th>\n      <th>neuropil</th>\n      <th>syn_count</th>\n      <th>nt_type</th>\n      <th>root_id</th>\n      <th>cell_type</th>\n    </tr>\n  </thead>\n  <tbody>\n    <tr>\n      <th>0</th>\n      <td>720575940629970489</td>\n      <td>720575940631267655</td>\n      <td>AVLP_R</td>\n      <td>7</td>\n      <td>GABA</td>\n      <td>720575940629970489</td>\n      <td>NaN</td>\n    </tr>\n    <tr>\n      <th>1</th>\n      <td>720575940629970489</td>\n      <td>720575940620005542</td>\n      <td>AVLP_R</td>\n      <td>16</td>\n      <td>GABA</td>\n      <td>720575940629970489</td>\n      <td>NaN</td>\n    </tr>\n    <tr>\n      <th>2</th>\n      <td>720575940629970489</td>\n      <td>720575940626081319</td>\n      <td>AVLP_R</td>\n      <td>7</td>\n      <td>GABA</td>\n      <td>720575940629970489</td>\n      <td>NaN</td>\n    </tr>\n    <tr>\n      <th>3</th>\n      <td>720575940629970489</td>\n      <td>720575940652258806</td>\n      <td>AVLP_R</td>\n      <td>5</td>\n      <td>GABA</td>\n      <td>720575940629970489</td>\n      <td>NaN</td>\n    </tr>\n    <tr>\n      <th>4</th>\n      <td>720575940629970489</td>\n      <td>720575940624508563</td>\n      <td>AVLP_R</td>\n      <td>21</td>\n      <td>GABA</td>\n      <td>720575940629970489</td>\n      <td>NaN</td>\n    </tr>\n    <tr>\n      <th>...</th>\n      <td>...</td>\n      <td>...</td>\n      <td>...</td>\n      <td>...</td>\n      <td>...</td>\n      <td>...</td>\n      <td>...</td>\n    </tr>\n    <tr>\n      <th>3871462</th>\n      <td>720575940618564582</td>\n      <td>720575940620407572</td>\n      <td>ME_R</td>\n      <td>12</td>\n      <td>ACH</td>\n      <td>720575940618564582</td>\n      <td>TmY18</td>\n    </tr>\n    <tr>\n      <th>3871463</th>\n      <td>720575940645437476</td>\n      <td>720575940616370700</td>\n      <td>ME_R</td>\n      <td>5</td>\n      <td>ACH</td>\n      <td>720575940645437476</td>\n      <td>L2</td>\n    </tr>\n    <tr>\n      <th>3871464</th>\n      <td>720575940626870330</td>\n      <td>720575940632926765</td>\n      <td>ME_R</td>\n      <td>5</td>\n      <td>ACH</td>\n      <td>720575940626870330</td>\n      <td>Dm3</td>\n    </tr>\n    <tr>\n      <th>3871465</th>\n      <td>720575940623857043</td>\n      <td>720575940625360572</td>\n      <td>ME_R</td>\n      <td>10</td>\n      <td>GLUT</td>\n      <td>720575940623857043</td>\n      <td>Dm3</td>\n    </tr>\n    <tr>\n      <th>3871466</th>\n      <td>720575940616158111</td>\n      <td>720575940643531168</td>\n      <td>ME_R</td>\n      <td>7</td>\n      <td>GLUT</td>\n      <td>720575940616158111</td>\n      <td>Dm3</td>\n    </tr>\n  </tbody>\n</table>\n<p>3871467 rows × 7 columns</p>\n</div>"
     },
     "execution_count": 8,
     "metadata": {},
     "output_type": "execute_result"
    }
   ],
   "source": [
    "connections"
   ],
   "metadata": {
    "collapsed": false,
    "ExecuteTime": {
     "end_time": "2024-01-19T14:44:08.525249934Z",
     "start_time": "2024-01-19T14:44:08.469666112Z"
    }
   },
   "id": "18571cb165171107",
   "execution_count": 8
  },
  {
   "cell_type": "code",
   "outputs": [
    {
     "data": {
      "text/plain": "                   root_id      group nt_type  nt_type_score  da_avg  ser_avg  \\\n0       720575940596125868     LO.LOP     ACH           0.57    0.03     0.00   \n1       720575940597856265         ME     ACH           0.85    0.01     0.00   \n2       720575940597944841      ME.LO     ACH           0.82    0.02     0.00   \n3       720575940598267657         ME    GABA           0.74    0.01     0.01   \n4       720575940599333574         ME     ACH           0.61    0.02     0.00   \n...                    ...        ...     ...            ...     ...      ...   \n139250  720575940661335681        GNG    GABA           0.71    0.00     0.00   \n139251  720575940661336193      ME.LO     ACH           0.62    0.02     0.00   \n139252  720575940661337217  SCL.MB_ML     ACH           1.00    0.00     0.00   \n139253  720575940661338497        GNG     NaN           0.00    0.00     0.00   \n139254  720575940661339777    NO_CONS     NaN           0.00    0.00     0.00   \n\n        gaba_avg  glut_avg  ach_avg  oct_avg  \n0           0.05      0.28     0.57     0.07  \n1           0.03      0.04     0.85     0.07  \n2           0.01      0.05     0.82     0.09  \n3           0.74      0.19     0.03     0.02  \n4           0.13      0.13     0.61     0.11  \n...          ...       ...      ...      ...  \n139250      0.71      0.17     0.11     0.00  \n139251      0.18      0.16     0.62     0.03  \n139252      0.00      0.00     1.00     0.00  \n139253      0.00      0.00     0.00     0.00  \n139254      0.00      0.00     0.00     0.00  \n\n[139255 rows x 10 columns]",
      "text/html": "<div>\n<style scoped>\n    .dataframe tbody tr th:only-of-type {\n        vertical-align: middle;\n    }\n\n    .dataframe tbody tr th {\n        vertical-align: top;\n    }\n\n    .dataframe thead th {\n        text-align: right;\n    }\n</style>\n<table border=\"1\" class=\"dataframe\">\n  <thead>\n    <tr style=\"text-align: right;\">\n      <th></th>\n      <th>root_id</th>\n      <th>group</th>\n      <th>nt_type</th>\n      <th>nt_type_score</th>\n      <th>da_avg</th>\n      <th>ser_avg</th>\n      <th>gaba_avg</th>\n      <th>glut_avg</th>\n      <th>ach_avg</th>\n      <th>oct_avg</th>\n    </tr>\n  </thead>\n  <tbody>\n    <tr>\n      <th>0</th>\n      <td>720575940596125868</td>\n      <td>LO.LOP</td>\n      <td>ACH</td>\n      <td>0.57</td>\n      <td>0.03</td>\n      <td>0.00</td>\n      <td>0.05</td>\n      <td>0.28</td>\n      <td>0.57</td>\n      <td>0.07</td>\n    </tr>\n    <tr>\n      <th>1</th>\n      <td>720575940597856265</td>\n      <td>ME</td>\n      <td>ACH</td>\n      <td>0.85</td>\n      <td>0.01</td>\n      <td>0.00</td>\n      <td>0.03</td>\n      <td>0.04</td>\n      <td>0.85</td>\n      <td>0.07</td>\n    </tr>\n    <tr>\n      <th>2</th>\n      <td>720575940597944841</td>\n      <td>ME.LO</td>\n      <td>ACH</td>\n      <td>0.82</td>\n      <td>0.02</td>\n      <td>0.00</td>\n      <td>0.01</td>\n      <td>0.05</td>\n      <td>0.82</td>\n      <td>0.09</td>\n    </tr>\n    <tr>\n      <th>3</th>\n      <td>720575940598267657</td>\n      <td>ME</td>\n      <td>GABA</td>\n      <td>0.74</td>\n      <td>0.01</td>\n      <td>0.01</td>\n      <td>0.74</td>\n      <td>0.19</td>\n      <td>0.03</td>\n      <td>0.02</td>\n    </tr>\n    <tr>\n      <th>4</th>\n      <td>720575940599333574</td>\n      <td>ME</td>\n      <td>ACH</td>\n      <td>0.61</td>\n      <td>0.02</td>\n      <td>0.00</td>\n      <td>0.13</td>\n      <td>0.13</td>\n      <td>0.61</td>\n      <td>0.11</td>\n    </tr>\n    <tr>\n      <th>...</th>\n      <td>...</td>\n      <td>...</td>\n      <td>...</td>\n      <td>...</td>\n      <td>...</td>\n      <td>...</td>\n      <td>...</td>\n      <td>...</td>\n      <td>...</td>\n      <td>...</td>\n    </tr>\n    <tr>\n      <th>139250</th>\n      <td>720575940661335681</td>\n      <td>GNG</td>\n      <td>GABA</td>\n      <td>0.71</td>\n      <td>0.00</td>\n      <td>0.00</td>\n      <td>0.71</td>\n      <td>0.17</td>\n      <td>0.11</td>\n      <td>0.00</td>\n    </tr>\n    <tr>\n      <th>139251</th>\n      <td>720575940661336193</td>\n      <td>ME.LO</td>\n      <td>ACH</td>\n      <td>0.62</td>\n      <td>0.02</td>\n      <td>0.00</td>\n      <td>0.18</td>\n      <td>0.16</td>\n      <td>0.62</td>\n      <td>0.03</td>\n    </tr>\n    <tr>\n      <th>139252</th>\n      <td>720575940661337217</td>\n      <td>SCL.MB_ML</td>\n      <td>ACH</td>\n      <td>1.00</td>\n      <td>0.00</td>\n      <td>0.00</td>\n      <td>0.00</td>\n      <td>0.00</td>\n      <td>1.00</td>\n      <td>0.00</td>\n    </tr>\n    <tr>\n      <th>139253</th>\n      <td>720575940661338497</td>\n      <td>GNG</td>\n      <td>NaN</td>\n      <td>0.00</td>\n      <td>0.00</td>\n      <td>0.00</td>\n      <td>0.00</td>\n      <td>0.00</td>\n      <td>0.00</td>\n      <td>0.00</td>\n    </tr>\n    <tr>\n      <th>139254</th>\n      <td>720575940661339777</td>\n      <td>NO_CONS</td>\n      <td>NaN</td>\n      <td>0.00</td>\n      <td>0.00</td>\n      <td>0.00</td>\n      <td>0.00</td>\n      <td>0.00</td>\n      <td>0.00</td>\n      <td>0.00</td>\n    </tr>\n  </tbody>\n</table>\n<p>139255 rows × 10 columns</p>\n</div>"
     },
     "execution_count": 9,
     "metadata": {},
     "output_type": "execute_result"
    }
   ],
   "source": [
    "neurons"
   ],
   "metadata": {
    "collapsed": false,
    "ExecuteTime": {
     "end_time": "2024-01-19T14:45:12.389015826Z",
     "start_time": "2024-01-19T14:45:12.336060793Z"
    }
   },
   "id": "c2a0da3487188593",
   "execution_count": 9
  },
  {
   "cell_type": "code",
   "outputs": [
    {
     "data": {
      "text/plain": "                   root_id       flow super_class class sub_class cell_type  \\\n757     720575940609388501  intrinsic       optic   NaN       NaN     TmY15   \n1080    720575940648552836  intrinsic       optic   NaN       NaN     TmY15   \n2035    720575940647263011  intrinsic       optic   NaN       NaN     TmY15   \n2784    720575940598267657  intrinsic       optic   NaN       NaN     TmY15   \n3973    720575940607832498  intrinsic       optic   NaN       NaN     TmY15   \n...                    ...        ...         ...   ...       ...       ...   \n137893  720575940625413925  intrinsic       optic   NaN       NaN     TmY15   \n137908  720575940629775324  intrinsic       optic   NaN       NaN     TmY15   \n138030  720575940637775593  intrinsic       optic   NaN       NaN     TmY15   \n138520  720575940635907179  intrinsic       optic   NaN       NaN     TmY15   \n138546  720575940651828214  intrinsic       optic   NaN       NaN     TmY15   \n\n       hemibrain_type hemilineage   side nerve  \n757               NaN         NaN  right   NaN  \n1080              NaN         NaN   left   NaN  \n2035              NaN         NaN   left   NaN  \n2784              NaN         NaN  right   NaN  \n3973              NaN         NaN  right   NaN  \n...               ...         ...    ...   ...  \n137893            NaN         NaN  right   NaN  \n137908            NaN         NaN  right   NaN  \n138030            NaN         NaN   left   NaN  \n138520            NaN         NaN  right   NaN  \n138546            NaN         NaN  right   NaN  \n\n[225 rows x 10 columns]",
      "text/html": "<div>\n<style scoped>\n    .dataframe tbody tr th:only-of-type {\n        vertical-align: middle;\n    }\n\n    .dataframe tbody tr th {\n        vertical-align: top;\n    }\n\n    .dataframe thead th {\n        text-align: right;\n    }\n</style>\n<table border=\"1\" class=\"dataframe\">\n  <thead>\n    <tr style=\"text-align: right;\">\n      <th></th>\n      <th>root_id</th>\n      <th>flow</th>\n      <th>super_class</th>\n      <th>class</th>\n      <th>sub_class</th>\n      <th>cell_type</th>\n      <th>hemibrain_type</th>\n      <th>hemilineage</th>\n      <th>side</th>\n      <th>nerve</th>\n    </tr>\n  </thead>\n  <tbody>\n    <tr>\n      <th>757</th>\n      <td>720575940609388501</td>\n      <td>intrinsic</td>\n      <td>optic</td>\n      <td>NaN</td>\n      <td>NaN</td>\n      <td>TmY15</td>\n      <td>NaN</td>\n      <td>NaN</td>\n      <td>right</td>\n      <td>NaN</td>\n    </tr>\n    <tr>\n      <th>1080</th>\n      <td>720575940648552836</td>\n      <td>intrinsic</td>\n      <td>optic</td>\n      <td>NaN</td>\n      <td>NaN</td>\n      <td>TmY15</td>\n      <td>NaN</td>\n      <td>NaN</td>\n      <td>left</td>\n      <td>NaN</td>\n    </tr>\n    <tr>\n      <th>2035</th>\n      <td>720575940647263011</td>\n      <td>intrinsic</td>\n      <td>optic</td>\n      <td>NaN</td>\n      <td>NaN</td>\n      <td>TmY15</td>\n      <td>NaN</td>\n      <td>NaN</td>\n      <td>left</td>\n      <td>NaN</td>\n    </tr>\n    <tr>\n      <th>2784</th>\n      <td>720575940598267657</td>\n      <td>intrinsic</td>\n      <td>optic</td>\n      <td>NaN</td>\n      <td>NaN</td>\n      <td>TmY15</td>\n      <td>NaN</td>\n      <td>NaN</td>\n      <td>right</td>\n      <td>NaN</td>\n    </tr>\n    <tr>\n      <th>3973</th>\n      <td>720575940607832498</td>\n      <td>intrinsic</td>\n      <td>optic</td>\n      <td>NaN</td>\n      <td>NaN</td>\n      <td>TmY15</td>\n      <td>NaN</td>\n      <td>NaN</td>\n      <td>right</td>\n      <td>NaN</td>\n    </tr>\n    <tr>\n      <th>...</th>\n      <td>...</td>\n      <td>...</td>\n      <td>...</td>\n      <td>...</td>\n      <td>...</td>\n      <td>...</td>\n      <td>...</td>\n      <td>...</td>\n      <td>...</td>\n      <td>...</td>\n    </tr>\n    <tr>\n      <th>137893</th>\n      <td>720575940625413925</td>\n      <td>intrinsic</td>\n      <td>optic</td>\n      <td>NaN</td>\n      <td>NaN</td>\n      <td>TmY15</td>\n      <td>NaN</td>\n      <td>NaN</td>\n      <td>right</td>\n      <td>NaN</td>\n    </tr>\n    <tr>\n      <th>137908</th>\n      <td>720575940629775324</td>\n      <td>intrinsic</td>\n      <td>optic</td>\n      <td>NaN</td>\n      <td>NaN</td>\n      <td>TmY15</td>\n      <td>NaN</td>\n      <td>NaN</td>\n      <td>right</td>\n      <td>NaN</td>\n    </tr>\n    <tr>\n      <th>138030</th>\n      <td>720575940637775593</td>\n      <td>intrinsic</td>\n      <td>optic</td>\n      <td>NaN</td>\n      <td>NaN</td>\n      <td>TmY15</td>\n      <td>NaN</td>\n      <td>NaN</td>\n      <td>left</td>\n      <td>NaN</td>\n    </tr>\n    <tr>\n      <th>138520</th>\n      <td>720575940635907179</td>\n      <td>intrinsic</td>\n      <td>optic</td>\n      <td>NaN</td>\n      <td>NaN</td>\n      <td>TmY15</td>\n      <td>NaN</td>\n      <td>NaN</td>\n      <td>right</td>\n      <td>NaN</td>\n    </tr>\n    <tr>\n      <th>138546</th>\n      <td>720575940651828214</td>\n      <td>intrinsic</td>\n      <td>optic</td>\n      <td>NaN</td>\n      <td>NaN</td>\n      <td>TmY15</td>\n      <td>NaN</td>\n      <td>NaN</td>\n      <td>right</td>\n      <td>NaN</td>\n    </tr>\n  </tbody>\n</table>\n<p>225 rows × 10 columns</p>\n</div>"
     },
     "execution_count": 4,
     "metadata": {},
     "output_type": "execute_result"
    }
   ],
   "source": [
    "classification[classification[\"cell_type\"] == \"TmY15\"]"
   ],
   "metadata": {
    "collapsed": false,
    "ExecuteTime": {
     "end_time": "2024-01-19T11:37:08.028113258Z",
     "start_time": "2024-01-19T11:37:08.005067603Z"
    }
   },
   "id": "9e1b959b5f6f5212",
   "execution_count": 4
  },
  {
   "cell_type": "code",
   "outputs": [],
   "source": [
    "# add cell_type to connections via pre_root_id\n",
    "connections = pd.merge(connections, classification[[\"root_id\", \"cell_type\"]], left_on=\"pre_root_id\", right_on=\"root_id\")"
   ],
   "metadata": {
    "collapsed": false,
    "ExecuteTime": {
     "end_time": "2024-01-19T12:23:27.249487375Z",
     "start_time": "2024-01-19T12:23:26.048150851Z"
    }
   },
   "id": "52237b5b50b6f2a4",
   "execution_count": 5
  },
  {
   "cell_type": "code",
   "outputs": [],
   "source": [
    "# Map neuron IDs to matrix indices\n",
    "unique_neurons = np.unique(connections[['pre_root_id', 'post_root_id']])\n",
    "id_to_index = {id: i for i, id in enumerate(unique_neurons)}\n",
    "\n",
    "# Convert neuron IDs in your DataFrame to matrix indices\n",
    "pre_indices = connections['pre_root_id'].map(id_to_index)\n",
    "post_indices = connections['post_root_id'].map(id_to_index)\n",
    "\n",
    "# Create a sparse adjacency matrix\n",
    "adjacency_matrix = coo_matrix((connections['syn_count'], (pre_indices, post_indices)),\n",
    "                              shape=(len(unique_neurons), len(unique_neurons)))\n",
    "\n",
    "# Optional: Convert to CSR format\n",
    "adjacency_matrix_csr = adjacency_matrix.tocsr()"
   ],
   "metadata": {
    "collapsed": false,
    "ExecuteTime": {
     "end_time": "2024-01-19T12:23:28.676966008Z",
     "start_time": "2024-01-19T12:23:27.252505332Z"
    }
   },
   "id": "ae6a4691b7e42c0e",
   "execution_count": 6
  },
  {
   "cell_type": "code",
   "outputs": [
    {
     "data": {
      "text/plain": "                pre_root_id        post_root_id neuropil  syn_count nt_type  \\\n655015   720575940626644624  720575940628219976    LOP_L          2    GABA   \n655016   720575940626644624  720575940653539318     LO_L          5    GABA   \n655017   720575940626644624  720575940653539318     ME_L         11    GABA   \n655018   720575940626644624  720575940646414132    LOP_L          2    GABA   \n655019   720575940626644624  720575940653539318    LOP_L          3    GABA   \n...                     ...                 ...      ...        ...     ...   \n3836745  720575940628433551  720575940613961634     ME_R          4    GABA   \n3836746  720575940628433551  720575940613961634    LOP_R          1    GABA   \n3867915  720575940633700947  720575940615175842    LOP_R          3    GABA   \n3867916  720575940633700947  720575940615175842     LO_R          4    GABA   \n3867917  720575940633700947  720575940615175842     ME_R          1    GABA   \n\n                    root_id cell_type  \n655015   720575940626644624     TmY15  \n655016   720575940626644624     TmY15  \n655017   720575940626644624     TmY15  \n655018   720575940626644624     TmY15  \n655019   720575940626644624     TmY15  \n...                     ...       ...  \n3836745  720575940628433551     TmY15  \n3836746  720575940628433551     TmY15  \n3867915  720575940633700947     TmY15  \n3867916  720575940633700947     TmY15  \n3867917  720575940633700947     TmY15  \n\n[10396 rows x 7 columns]",
      "text/html": "<div>\n<style scoped>\n    .dataframe tbody tr th:only-of-type {\n        vertical-align: middle;\n    }\n\n    .dataframe tbody tr th {\n        vertical-align: top;\n    }\n\n    .dataframe thead th {\n        text-align: right;\n    }\n</style>\n<table border=\"1\" class=\"dataframe\">\n  <thead>\n    <tr style=\"text-align: right;\">\n      <th></th>\n      <th>pre_root_id</th>\n      <th>post_root_id</th>\n      <th>neuropil</th>\n      <th>syn_count</th>\n      <th>nt_type</th>\n      <th>root_id</th>\n      <th>cell_type</th>\n    </tr>\n  </thead>\n  <tbody>\n    <tr>\n      <th>655015</th>\n      <td>720575940626644624</td>\n      <td>720575940628219976</td>\n      <td>LOP_L</td>\n      <td>2</td>\n      <td>GABA</td>\n      <td>720575940626644624</td>\n      <td>TmY15</td>\n    </tr>\n    <tr>\n      <th>655016</th>\n      <td>720575940626644624</td>\n      <td>720575940653539318</td>\n      <td>LO_L</td>\n      <td>5</td>\n      <td>GABA</td>\n      <td>720575940626644624</td>\n      <td>TmY15</td>\n    </tr>\n    <tr>\n      <th>655017</th>\n      <td>720575940626644624</td>\n      <td>720575940653539318</td>\n      <td>ME_L</td>\n      <td>11</td>\n      <td>GABA</td>\n      <td>720575940626644624</td>\n      <td>TmY15</td>\n    </tr>\n    <tr>\n      <th>655018</th>\n      <td>720575940626644624</td>\n      <td>720575940646414132</td>\n      <td>LOP_L</td>\n      <td>2</td>\n      <td>GABA</td>\n      <td>720575940626644624</td>\n      <td>TmY15</td>\n    </tr>\n    <tr>\n      <th>655019</th>\n      <td>720575940626644624</td>\n      <td>720575940653539318</td>\n      <td>LOP_L</td>\n      <td>3</td>\n      <td>GABA</td>\n      <td>720575940626644624</td>\n      <td>TmY15</td>\n    </tr>\n    <tr>\n      <th>...</th>\n      <td>...</td>\n      <td>...</td>\n      <td>...</td>\n      <td>...</td>\n      <td>...</td>\n      <td>...</td>\n      <td>...</td>\n    </tr>\n    <tr>\n      <th>3836745</th>\n      <td>720575940628433551</td>\n      <td>720575940613961634</td>\n      <td>ME_R</td>\n      <td>4</td>\n      <td>GABA</td>\n      <td>720575940628433551</td>\n      <td>TmY15</td>\n    </tr>\n    <tr>\n      <th>3836746</th>\n      <td>720575940628433551</td>\n      <td>720575940613961634</td>\n      <td>LOP_R</td>\n      <td>1</td>\n      <td>GABA</td>\n      <td>720575940628433551</td>\n      <td>TmY15</td>\n    </tr>\n    <tr>\n      <th>3867915</th>\n      <td>720575940633700947</td>\n      <td>720575940615175842</td>\n      <td>LOP_R</td>\n      <td>3</td>\n      <td>GABA</td>\n      <td>720575940633700947</td>\n      <td>TmY15</td>\n    </tr>\n    <tr>\n      <th>3867916</th>\n      <td>720575940633700947</td>\n      <td>720575940615175842</td>\n      <td>LO_R</td>\n      <td>4</td>\n      <td>GABA</td>\n      <td>720575940633700947</td>\n      <td>TmY15</td>\n    </tr>\n    <tr>\n      <th>3867917</th>\n      <td>720575940633700947</td>\n      <td>720575940615175842</td>\n      <td>ME_R</td>\n      <td>1</td>\n      <td>GABA</td>\n      <td>720575940633700947</td>\n      <td>TmY15</td>\n    </tr>\n  </tbody>\n</table>\n<p>10396 rows × 7 columns</p>\n</div>"
     },
     "execution_count": 10,
     "metadata": {},
     "output_type": "execute_result"
    }
   ],
   "source": [
    "connections[connections[\"cell_type\"] == \"TmY15\"]"
   ],
   "metadata": {
    "collapsed": false,
    "ExecuteTime": {
     "end_time": "2024-01-19T14:46:23.030176457Z",
     "start_time": "2024-01-19T14:46:22.983036987Z"
    }
   },
   "id": "95d921f36a1e1c81",
   "execution_count": 10
  },
  {
   "cell_type": "code",
   "outputs": [
    {
     "name": "stderr",
     "output_type": "stream",
     "text": [
      "/home/eudald/Desktop/doctorat/connectome/adult_models.py:29: UserWarning: Creating a tensor from a list of numpy.ndarrays is extremely slow. Please consider converting the list to a single numpy.ndarray with numpy.array() before converting to a tensor. (Triggered internally at ../torch/csrc/utils/tensor_new.cpp:245.)\n",
      "  indices = torch.LongTensor([adjacency_matrix_coo.row, adjacency_matrix_coo.col])\n"
     ]
    },
    {
     "ename": "MemoryError",
     "evalue": "Unable to allocate 5.00 EiB for an array with shape (720575940660588163,) and data type int64",
     "output_type": "error",
     "traceback": [
      "\u001B[0;31m---------------------------------------------------------------------------\u001B[0m",
      "\u001B[0;31mMemoryError\u001B[0m                               Traceback (most recent call last)",
      "Cell \u001B[0;32mIn[7], line 26\u001B[0m\n\u001B[1;32m     23\u001B[0m temporal_conv_net \u001B[38;5;241m=\u001B[39m TemporalConvNet(num_inputs, [\u001B[38;5;241m100\u001B[39m], num_outputs, kernel_size\u001B[38;5;241m=\u001B[39m\u001B[38;5;241m2\u001B[39m, dropout\u001B[38;5;241m=\u001B[39m\u001B[38;5;241m0.2\u001B[39m)\n\u001B[1;32m     24\u001B[0m adult_connectome_net \u001B[38;5;241m=\u001B[39m AdultConnectomeNetwork(adjacency_matrix_csr, neuron_count, {\u001B[38;5;124m\"\u001B[39m\u001B[38;5;124mCONNECTOME_LAYER_NUMBER\u001B[39m\u001B[38;5;124m\"\u001B[39m: \u001B[38;5;241m2\u001B[39m})\n\u001B[0;32m---> 26\u001B[0m integrated_model \u001B[38;5;241m=\u001B[39m \u001B[43mIntegratedModel\u001B[49m\u001B[43m(\u001B[49m\u001B[43mtemporal_conv_net\u001B[49m\u001B[43m,\u001B[49m\u001B[43m \u001B[49m\u001B[43madult_connectome_net\u001B[49m\u001B[43m,\u001B[49m\u001B[43m \u001B[49m\u001B[43msynapse_df\u001B[49m\u001B[43m,\u001B[49m\u001B[43m \u001B[49m\u001B[43mneuron_type\u001B[49m\u001B[43m)\u001B[49m\n\u001B[1;32m     28\u001B[0m \u001B[38;5;66;03m# Test the integrated model\u001B[39;00m\n\u001B[1;32m     29\u001B[0m batch_size \u001B[38;5;241m=\u001B[39m \u001B[38;5;241m2\u001B[39m\n",
      "File \u001B[0;32m~/Desktop/doctorat/connectome/adult_models.py:86\u001B[0m, in \u001B[0;36mIntegratedModel.__init__\u001B[0;34m(self, temporal_conv_net, adult_connectome_net, synapse_df, neuron_type)\u001B[0m\n\u001B[1;32m     84\u001B[0m \u001B[38;5;66;03m# Filter the DataFrame for the specific neuron type and create a synaptic count matrix\u001B[39;00m\n\u001B[1;32m     85\u001B[0m filtered_df \u001B[38;5;241m=\u001B[39m synapse_df[synapse_df[\u001B[38;5;124m'\u001B[39m\u001B[38;5;124mcell_type\u001B[39m\u001B[38;5;124m'\u001B[39m] \u001B[38;5;241m==\u001B[39m neuron_type]\n\u001B[0;32m---> 86\u001B[0m \u001B[38;5;28mself\u001B[39m\u001B[38;5;241m.\u001B[39msynaptic_matrix \u001B[38;5;241m=\u001B[39m \u001B[38;5;28;43mself\u001B[39;49m\u001B[38;5;241;43m.\u001B[39;49m\u001B[43mcreate_synaptic_matrix\u001B[49m\u001B[43m(\u001B[49m\u001B[43mfiltered_df\u001B[49m\u001B[43m)\u001B[49m\n",
      "File \u001B[0;32m~/Desktop/doctorat/connectome/adult_models.py:96\u001B[0m, in \u001B[0;36mIntegratedModel.create_synaptic_matrix\u001B[0;34m(self, df)\u001B[0m\n\u001B[1;32m     93\u001B[0m max_index \u001B[38;5;241m=\u001B[39m \u001B[38;5;28mmax\u001B[39m(df[\u001B[38;5;124m'\u001B[39m\u001B[38;5;124mpre_root_id\u001B[39m\u001B[38;5;124m'\u001B[39m]\u001B[38;5;241m.\u001B[39mmax(), df[\u001B[38;5;124m'\u001B[39m\u001B[38;5;124mpost_root_id\u001B[39m\u001B[38;5;124m'\u001B[39m]\u001B[38;5;241m.\u001B[39mmax()) \u001B[38;5;241m+\u001B[39m \u001B[38;5;241m1\u001B[39m\n\u001B[1;32m     95\u001B[0m \u001B[38;5;66;03m# Create a CSR matrix from the DataFrame\u001B[39;00m\n\u001B[0;32m---> 96\u001B[0m synaptic_matrix_csr \u001B[38;5;241m=\u001B[39m \u001B[43mcsr_matrix\u001B[49m\u001B[43m(\u001B[49m\u001B[43m(\u001B[49m\u001B[43mdf\u001B[49m\u001B[43m[\u001B[49m\u001B[38;5;124;43m'\u001B[39;49m\u001B[38;5;124;43msyn_count\u001B[39;49m\u001B[38;5;124;43m'\u001B[39;49m\u001B[43m]\u001B[49m\u001B[43m,\u001B[49m\u001B[43m \u001B[49m\u001B[43m(\u001B[49m\u001B[43mdf\u001B[49m\u001B[43m[\u001B[49m\u001B[38;5;124;43m'\u001B[39;49m\u001B[38;5;124;43mpre_root_id\u001B[39;49m\u001B[38;5;124;43m'\u001B[39;49m\u001B[43m]\u001B[49m\u001B[43m,\u001B[49m\u001B[43m \u001B[49m\u001B[43mdf\u001B[49m\u001B[43m[\u001B[49m\u001B[38;5;124;43m'\u001B[39;49m\u001B[38;5;124;43mpost_root_id\u001B[39;49m\u001B[38;5;124;43m'\u001B[39;49m\u001B[43m]\u001B[49m\u001B[43m)\u001B[49m\u001B[43m)\u001B[49m\u001B[43m,\u001B[49m\n\u001B[1;32m     97\u001B[0m \u001B[43m                                 \u001B[49m\u001B[43mshape\u001B[49m\u001B[38;5;241;43m=\u001B[39;49m\u001B[43m(\u001B[49m\u001B[43mmax_index\u001B[49m\u001B[43m,\u001B[49m\u001B[43m \u001B[49m\u001B[43mmax_index\u001B[49m\u001B[43m)\u001B[49m\u001B[43m)\u001B[49m\n\u001B[1;32m     99\u001B[0m \u001B[38;5;66;03m# Convert the CSR matrix to a dense PyTorch tensor\u001B[39;00m\n\u001B[1;32m    100\u001B[0m \u001B[38;5;28;01mreturn\u001B[39;00m torch\u001B[38;5;241m.\u001B[39mtensor(synaptic_matrix_csr\u001B[38;5;241m.\u001B[39mtoarray(), dtype\u001B[38;5;241m=\u001B[39mtorch\u001B[38;5;241m.\u001B[39mfloat32)\n",
      "File \u001B[0;32m~/miniconda3/envs/gt/lib/python3.11/site-packages/scipy/sparse/_compressed.py:52\u001B[0m, in \u001B[0;36m_cs_matrix.__init__\u001B[0;34m(self, arg1, shape, dtype, copy)\u001B[0m\n\u001B[1;32m     49\u001B[0m \u001B[38;5;28;01melse\u001B[39;00m:\n\u001B[1;32m     50\u001B[0m     \u001B[38;5;28;01mif\u001B[39;00m \u001B[38;5;28mlen\u001B[39m(arg1) \u001B[38;5;241m==\u001B[39m \u001B[38;5;241m2\u001B[39m:\n\u001B[1;32m     51\u001B[0m         \u001B[38;5;66;03m# (data, ij) format\u001B[39;00m\n\u001B[0;32m---> 52\u001B[0m         other \u001B[38;5;241m=\u001B[39m \u001B[38;5;28;43mself\u001B[39;49m\u001B[38;5;241;43m.\u001B[39;49m\u001B[38;5;18;43m__class__\u001B[39;49m\u001B[43m(\u001B[49m\n\u001B[1;32m     53\u001B[0m \u001B[43m            \u001B[49m\u001B[38;5;28;43mself\u001B[39;49m\u001B[38;5;241;43m.\u001B[39;49m\u001B[43m_coo_container\u001B[49m\u001B[43m(\u001B[49m\u001B[43marg1\u001B[49m\u001B[43m,\u001B[49m\u001B[43m \u001B[49m\u001B[43mshape\u001B[49m\u001B[38;5;241;43m=\u001B[39;49m\u001B[43mshape\u001B[49m\u001B[43m,\u001B[49m\u001B[43m \u001B[49m\u001B[43mdtype\u001B[49m\u001B[38;5;241;43m=\u001B[39;49m\u001B[43mdtype\u001B[49m\u001B[43m)\u001B[49m\n\u001B[1;32m     54\u001B[0m \u001B[43m        \u001B[49m\u001B[43m)\u001B[49m\n\u001B[1;32m     55\u001B[0m         \u001B[38;5;28mself\u001B[39m\u001B[38;5;241m.\u001B[39m_set_self(other)\n\u001B[1;32m     56\u001B[0m     \u001B[38;5;28;01melif\u001B[39;00m \u001B[38;5;28mlen\u001B[39m(arg1) \u001B[38;5;241m==\u001B[39m \u001B[38;5;241m3\u001B[39m:\n\u001B[1;32m     57\u001B[0m         \u001B[38;5;66;03m# (data, indices, indptr) format\u001B[39;00m\n",
      "File \u001B[0;32m~/miniconda3/envs/gt/lib/python3.11/site-packages/scipy/sparse/_compressed.py:33\u001B[0m, in \u001B[0;36m_cs_matrix.__init__\u001B[0;34m(self, arg1, shape, dtype, copy)\u001B[0m\n\u001B[1;32m     31\u001B[0m         arg1 \u001B[38;5;241m=\u001B[39m arg1\u001B[38;5;241m.\u001B[39mcopy()\n\u001B[1;32m     32\u001B[0m     \u001B[38;5;28;01melse\u001B[39;00m:\n\u001B[0;32m---> 33\u001B[0m         arg1 \u001B[38;5;241m=\u001B[39m \u001B[43marg1\u001B[49m\u001B[38;5;241;43m.\u001B[39;49m\u001B[43masformat\u001B[49m\u001B[43m(\u001B[49m\u001B[38;5;28;43mself\u001B[39;49m\u001B[38;5;241;43m.\u001B[39;49m\u001B[43mformat\u001B[49m\u001B[43m)\u001B[49m\n\u001B[1;32m     34\u001B[0m     \u001B[38;5;28mself\u001B[39m\u001B[38;5;241m.\u001B[39m_set_self(arg1)\n\u001B[1;32m     36\u001B[0m \u001B[38;5;28;01melif\u001B[39;00m \u001B[38;5;28misinstance\u001B[39m(arg1, \u001B[38;5;28mtuple\u001B[39m):\n",
      "File \u001B[0;32m~/miniconda3/envs/gt/lib/python3.11/site-packages/scipy/sparse/_base.py:376\u001B[0m, in \u001B[0;36mspmatrix.asformat\u001B[0;34m(self, format, copy)\u001B[0m\n\u001B[1;32m    374\u001B[0m \u001B[38;5;66;03m# Forward the copy kwarg, if it's accepted.\u001B[39;00m\n\u001B[1;32m    375\u001B[0m \u001B[38;5;28;01mtry\u001B[39;00m:\n\u001B[0;32m--> 376\u001B[0m     \u001B[38;5;28;01mreturn\u001B[39;00m \u001B[43mconvert_method\u001B[49m\u001B[43m(\u001B[49m\u001B[43mcopy\u001B[49m\u001B[38;5;241;43m=\u001B[39;49m\u001B[43mcopy\u001B[49m\u001B[43m)\u001B[49m\n\u001B[1;32m    377\u001B[0m \u001B[38;5;28;01mexcept\u001B[39;00m \u001B[38;5;167;01mTypeError\u001B[39;00m:\n\u001B[1;32m    378\u001B[0m     \u001B[38;5;28;01mreturn\u001B[39;00m convert_method()\n",
      "File \u001B[0;32m~/miniconda3/envs/gt/lib/python3.11/site-packages/scipy/sparse/_coo.py:401\u001B[0m, in \u001B[0;36mcoo_matrix.tocsr\u001B[0;34m(self, copy)\u001B[0m\n\u001B[1;32m    398\u001B[0m row \u001B[38;5;241m=\u001B[39m \u001B[38;5;28mself\u001B[39m\u001B[38;5;241m.\u001B[39mrow\u001B[38;5;241m.\u001B[39mastype(idx_dtype, copy\u001B[38;5;241m=\u001B[39m\u001B[38;5;28;01mFalse\u001B[39;00m)\n\u001B[1;32m    399\u001B[0m col \u001B[38;5;241m=\u001B[39m \u001B[38;5;28mself\u001B[39m\u001B[38;5;241m.\u001B[39mcol\u001B[38;5;241m.\u001B[39mastype(idx_dtype, copy\u001B[38;5;241m=\u001B[39m\u001B[38;5;28;01mFalse\u001B[39;00m)\n\u001B[0;32m--> 401\u001B[0m indptr \u001B[38;5;241m=\u001B[39m \u001B[43mnp\u001B[49m\u001B[38;5;241;43m.\u001B[39;49m\u001B[43mempty\u001B[49m\u001B[43m(\u001B[49m\u001B[43mM\u001B[49m\u001B[43m \u001B[49m\u001B[38;5;241;43m+\u001B[39;49m\u001B[43m \u001B[49m\u001B[38;5;241;43m1\u001B[39;49m\u001B[43m,\u001B[49m\u001B[43m \u001B[49m\u001B[43mdtype\u001B[49m\u001B[38;5;241;43m=\u001B[39;49m\u001B[43midx_dtype\u001B[49m\u001B[43m)\u001B[49m\n\u001B[1;32m    402\u001B[0m indices \u001B[38;5;241m=\u001B[39m np\u001B[38;5;241m.\u001B[39mempty_like(col, dtype\u001B[38;5;241m=\u001B[39midx_dtype)\n\u001B[1;32m    403\u001B[0m data \u001B[38;5;241m=\u001B[39m np\u001B[38;5;241m.\u001B[39mempty_like(\u001B[38;5;28mself\u001B[39m\u001B[38;5;241m.\u001B[39mdata, dtype\u001B[38;5;241m=\u001B[39mupcast(\u001B[38;5;28mself\u001B[39m\u001B[38;5;241m.\u001B[39mdtype))\n",
      "\u001B[0;31mMemoryError\u001B[0m: Unable to allocate 5.00 EiB for an array with shape (720575940660588163,) and data type int64"
     ]
    }
   ],
   "source": [
    "import torch\n",
    "import pandas as pd\n",
    "from adult_models import AdultConnectomeNetwork, IntegratedModel\n",
    "from temporal_convolutional import TemporalConvNet\n",
    "\n",
    "\n",
    "def get_synapse_df():\n",
    "    classification = pd.read_csv(\"adult_data/classification.csv\")\n",
    "    connections = pd.read_csv(\"adult_data/connections.csv\")\n",
    "    return pd.merge(connections, classification[[\"root_id\", \"cell_type\"]], left_on=\"pre_root_id\",\n",
    "                    right_on=\"root_id\")\n",
    "\n",
    "\n",
    "synapse_df = get_synapse_df()\n",
    "\n",
    "neuron_type = 'TmY18'\n",
    "num_inputs = 721\n",
    "num_outputs = synapse_df[synapse_df['cell_type'] == neuron_type].shape[0]\n",
    "neuron_count = synapse_df.shape[0]\n",
    "\n",
    "\n",
    "# Create the integrated model\n",
    "temporal_conv_net = TemporalConvNet(num_inputs, [100], num_outputs, kernel_size=2, dropout=0.2)\n",
    "adult_connectome_net = AdultConnectomeNetwork(adjacency_matrix_csr, neuron_count, {\"CONNECTOME_LAYER_NUMBER\": 2})\n",
    "\n",
    "integrated_model = IntegratedModel(temporal_conv_net, adult_connectome_net, synapse_df, neuron_type)\n",
    "\n",
    "# Test the integrated model\n",
    "batch_size = 2\n",
    "hexal_size = 721  # Example hexal size\n",
    "temporal_size = 84  # Example temporal size\n",
    "input_tensor = torch.rand(batch_size, hexal_size, temporal_size)\n",
    "\n",
    "output = integrated_model(input_tensor)\n",
    "print(output.shape)"
   ],
   "metadata": {
    "collapsed": false,
    "ExecuteTime": {
     "end_time": "2024-01-19T12:23:32.323909058Z",
     "start_time": "2024-01-19T12:23:28.674781945Z"
    }
   },
   "id": "576b0f01f0811bf2",
   "execution_count": 7
  },
  {
   "cell_type": "code",
   "outputs": [],
   "source": [],
   "metadata": {
    "collapsed": false
   },
   "id": "b9c8c81a458ef60"
  }
 ],
 "metadata": {
  "kernelspec": {
   "display_name": "Python 3",
   "language": "python",
   "name": "python3"
  },
  "language_info": {
   "codemirror_mode": {
    "name": "ipython",
    "version": 2
   },
   "file_extension": ".py",
   "mimetype": "text/x-python",
   "name": "python",
   "nbconvert_exporter": "python",
   "pygments_lexer": "ipython2",
   "version": "2.7.6"
  }
 },
 "nbformat": 4,
 "nbformat_minor": 5
}
