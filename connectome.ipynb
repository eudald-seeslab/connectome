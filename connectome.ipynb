{
 "cells": [
  {
   "cell_type": "code",
   "execution_count": 1,
   "metadata": {
    "ExecuteTime": {
     "end_time": "2023-08-27T06:33:14.083534400Z",
     "start_time": "2023-08-27T06:33:10.143101500Z"
    }
   },
   "outputs": [],
   "source": [
    "import os\n",
    "\n",
    "import pandas as pd\n",
    "from torch import nn, optim, device, cuda\n",
    "import torch\n",
    "\n",
    "import yaml\n",
    "from tqdm.notebook import tqdm, trange\n",
    "\n",
    "import wandb\n",
    "\n",
    "from data_parser import adj_matrix, nodes\n",
    "from image_parser import train_loader, test_loader, debug_loader\n",
    "from utils import log_training_images\n",
    "\n",
    "from models import CombinedModel\n",
    "from model_config_manager import ModelConfigManager"
   ]
  },
  {
   "cell_type": "code",
   "execution_count": 2,
   "metadata": {
    "ExecuteTime": {
     "end_time": "2023-08-27T06:33:15.458547200Z",
     "start_time": "2023-08-27T06:33:15.406741900Z"
    }
   },
   "outputs": [],
   "source": [
    "config = yaml.safe_load(open(\"config.yml\"))\n",
    "DEBUG = config[\"DEBUG\"]\n",
    "epochs = config[\"EPOCHS\"] if not DEBUG else 2\n",
    "RETINA_MODEL = config[\"RETINA_MODEL\"]\n",
    "images_fraction = config[\"IMAGES_FRACTION\"]\n",
    "continue_training = config[\"CONTINUE_TRAINING\"]\n",
    "saved_model_path = config[\"SAVED_MODEL_PATH\"]\n",
    "model_name = config[\"MODEL_NAME\"]\n",
    "\n",
    "loader = debug_loader if DEBUG else train_loader\n",
    "\n",
    "dev = device(\"cuda\" if cuda.is_available() else \"cpu\")    \n",
    "\n",
    "# Create the ModelConfigManager and load configurations from YAML files\n",
    "config_manager = ModelConfigManager()\n",
    "\n",
    "# Get a specific configuration by model name\n",
    "config_manager.set_model_config(RETINA_MODEL)"
   ]
  },
  {
   "cell_type": "code",
   "execution_count": 3,
   "metadata": {
    "ExecuteTime": {
     "end_time": "2023-08-27T06:33:28.943595Z",
     "start_time": "2023-08-27T06:33:17.368662700Z"
    }
   },
   "outputs": [
    {
     "name": "stderr",
     "output_type": "stream",
     "text": [
      "C:\\Users\\eudald\\Desktop\\doctorat\\codi\\connectome\\venv\\Lib\\site-packages\\torchvision\\models\\_utils.py:208: UserWarning: The parameter 'pretrained' is deprecated since 0.13 and may be removed in the future, please use 'weights' instead.\n",
      "  warnings.warn(\n",
      "C:\\Users\\eudald\\Desktop\\doctorat\\codi\\connectome\\venv\\Lib\\site-packages\\torchvision\\models\\_utils.py:223: UserWarning: Arguments other than a weight enum or `None` for 'weights' are deprecated since 0.13 and may be removed in the future. The current behavior is equivalent to passing `weights=VGG16_Weights.IMAGENET1K_V1`. You can also use `weights=VGG16_Weights.DEFAULT` to get the most up-to-date weights.\n",
      "  warnings.warn(msg)\n",
      "\u001B[34m\u001B[1mwandb\u001B[0m: Currently logged in as: \u001B[33meudald\u001B[0m. Use \u001B[1m`wandb login --relogin`\u001B[0m to force relogin\n"
     ]
    },
    {
     "data": {
      "text/plain": "<IPython.core.display.HTML object>",
      "text/html": "Tracking run with wandb version 0.15.8"
     },
     "metadata": {},
     "output_type": "display_data"
    },
    {
     "data": {
      "text/plain": "<IPython.core.display.HTML object>",
      "text/html": "Run data is saved locally in <code>C:\\Users\\eudald\\Desktop\\doctorat\\codi\\connectome\\wandb\\run-20230827_083328-ls27bib1</code>"
     },
     "metadata": {},
     "output_type": "display_data"
    },
    {
     "data": {
      "text/plain": "<IPython.core.display.HTML object>",
      "text/html": "Syncing run <strong><a href='https://wandb.ai/eudald/connectome/runs/ls27bib1' target=\"_blank\">olive-butterfly-21</a></strong> to <a href='https://wandb.ai/eudald/connectome' target=\"_blank\">Weights & Biases</a> (<a href='https://wandb.me/run' target=\"_blank\">docs</a>)<br/>"
     },
     "metadata": {},
     "output_type": "display_data"
    },
    {
     "data": {
      "text/plain": "<IPython.core.display.HTML object>",
      "text/html": " View project at <a href='https://wandb.ai/eudald/connectome' target=\"_blank\">https://wandb.ai/eudald/connectome</a>"
     },
     "metadata": {},
     "output_type": "display_data"
    },
    {
     "data": {
      "text/plain": "<IPython.core.display.HTML object>",
      "text/html": " View run at <a href='https://wandb.ai/eudald/connectome/runs/ls27bib1' target=\"_blank\">https://wandb.ai/eudald/connectome/runs/ls27bib1</a>"
     },
     "metadata": {},
     "output_type": "display_data"
    }
   ],
   "source": [
    "combined_model = CombinedModel(adj_matrix, neurons=nodes, model_config=config_manager.model_config)\n",
    "\n",
    "if continue_training:\n",
    "    # If we want to continue training a saved model\n",
    "    combined_model.load_state_dict(torch.load(saved_model_path))\n",
    "\n",
    "combined_model = combined_model.to(dev)\n",
    "wandb.init(project=\"connectome\", config=config_manager.model_config)\n",
    "\n",
    "# Specify the loss function and the optimizer\n",
    "criterion = nn.NLLLoss()\n",
    "optimizer = optim.Adam(combined_model.parameters(), lr=0.00001)\n",
    "_ = wandb.watch(combined_model, criterion, log=\"all\") \n"
   ]
  },
  {
   "cell_type": "code",
   "execution_count": null,
   "metadata": {
    "is_executing": true,
    "ExecuteTime": {
     "start_time": "2023-08-27T06:33:31.060697300Z"
    }
   },
   "outputs": [
    {
     "name": "stdout",
     "output_type": "stream",
     "text": [
      "Model configurations:\n",
      "Model name: vgg16\n",
      "This is a pretrained model\n"
     ]
    },
    {
     "data": {
      "text/plain": "  0%|          | 0/10 [00:00<?, ?it/s]",
      "application/vnd.jupyter.widget-view+json": {
       "version_major": 2,
       "version_minor": 0,
       "model_id": "7987b1f39e334e77baf9124b6fcefeeb"
      }
     },
     "metadata": {},
     "output_type": "display_data"
    },
    {
     "data": {
      "text/plain": "  0%|          | 0/1000 [00:00<?, ?it/s]",
      "application/vnd.jupyter.widget-view+json": {
       "version_major": 2,
       "version_minor": 0,
       "model_id": "11e08e9334584be18bafca23accfb13d"
      }
     },
     "metadata": {},
     "output_type": "display_data"
    }
   ],
   "source": [
    "config_manager.output_model_details()\n",
    "if DEBUG:\n",
    "    print(\"WARNING: Running on DEBUG mode, so using 10% of the images\")\n",
    "elif images_fraction < 1:\n",
    "    print(f\"WARNING: Using {images_fraction * 100}% of the images\")\n",
    "\n",
    "for epoch in trange(epochs):\n",
    "    running_loss = 0\n",
    "    correct_predictions = 0\n",
    "    # If the model is fast~ish\n",
    "    # for images, labels in train_loader:\n",
    "    for images, labels in tqdm(loader):\n",
    "\n",
    "        # Move images and labels to the device\n",
    "        images, labels = images.to(dev), labels.to(dev)\n",
    "\n",
    "        # Forward pass\n",
    "        outputs = combined_model(images)\n",
    "\n",
    "        # Compute the loss\n",
    "        loss = criterion(outputs, labels)\n",
    "        \n",
    "        # Compute the accuracy\n",
    "        predicted_labels = torch.argmax(outputs, dim=1)\n",
    "        correct_predictions = (predicted_labels == labels).sum().item()\n",
    "        accuracy = correct_predictions / len(labels)\n",
    "\n",
    "        # Backward pass and optimize\n",
    "        optimizer.zero_grad()\n",
    "        loss.backward()\n",
    "        optimizer.step()\n",
    "        \n",
    "        # Update loss\n",
    "        running_loss += loss.item()\n",
    "        \n",
    "        # Logs to wandb\n",
    "        wandb.log({\"loss\": loss.item(), \"accuracy\": accuracy, \"epoch\": epoch})\n",
    "        log_training_images(images, labels, outputs)\n",
    "\n",
    "    print(f'Epoch {epoch+1}/{epochs}, Loss: {running_loss/len(train_loader)}')\n",
    "    # Save model every 2 epochs\n",
    "    if (epoch + 1) % 2 == 0:\n",
    "        torch.save(combined_model.state_dict(), os.path.join(\"models\", f\"model_{RETINA_MODEL}_{model_name}_{epoch + 1}_epochs.pth\"))\n",
    "        print(f\"Saved model after {epoch + 1} runs\")\n",
    "\n",
    "wandb.finish()"
   ]
  },
  {
   "cell_type": "markdown",
   "metadata": {},
   "source": []
  },
  {
   "cell_type": "code",
   "execution_count": 9,
   "metadata": {
    "ExecuteTime": {
     "end_time": "2023-08-25T20:31:47.444241700Z",
     "start_time": "2023-08-25T20:31:40.488538600Z"
    }
   },
   "outputs": [],
   "source": [
    "# torch.save(combined_model.state_dict(), os.path.join(\"models\", f\"model_{RETINA_MODEL}_{epoch + 1}_epochs.pth\"))"
   ]
  },
  {
   "cell_type": "code",
   "execution_count": 18,
   "metadata": {},
   "outputs": [],
   "source": [
    "# Test de model\n",
    "correct = 0\n",
    "total = 0\n",
    "test_results_df = pd.DataFrame(columns=[\"Image\", \"Real Label\", \"Predicted Label\", \"Correct Prediction\"])\n",
    "\n",
    "j = 0\n",
    "with torch.no_grad():\n",
    "    for images, labels in tqdm(test_loader):\n",
    "        images, labels = images.to(dev), labels.to(dev)\n",
    "        outputs = combined_model(images)\n",
    "        _, predicted = torch.max(outputs.data, 1)\n",
    "        total += labels.size(0)\n",
    "        correct += (predicted == labels).sum()\n",
    "        # Convert the tensor values to CPU and numpy\n",
    "        labels_cpu = labels.cpu().numpy()\n",
    "        predicted_cpu = predicted.cpu().numpy()\n",
    "        \n",
    "        # Check if the prediction is correct\n",
    "        correct_predictions = (predicted == labels)\n",
    "        correct_cpu = correct_predictions.cpu().numpy()\n",
    "        \n",
    "        image_names = [a[0] for a in test_loader.dataset.dataset.samples[j * test_loader.batch_size: (j + 1) * test_loader.batch_size]]\n",
    "        j += 1\n",
    "        \n",
    "        batch_df = pd.DataFrame({\n",
    "            \"Image\": image_names,\n",
    "            \"Real Label\": labels_cpu,\n",
    "            \"Predicted Label\": predicted_cpu,\n",
    "            \"Correct Prediction\": correct_cpu.astype(int)\n",
    "        })\n",
    "        \n",
    "        # Append the batch DataFrame to the list\n",
    "        test_results_df = pd.concat([test_results_df, batch_df], ignore_index=True)"
   ]
  },
  {
   "cell_type": "code",
   "execution_count": 19,
   "metadata": {},
   "outputs": [],
   "source": [
    "print(f\"Accuracy on the {total} test images: {100 * correct / total}%\")"
   ]
  },
  {
   "cell_type": "code",
   "execution_count": 20,
   "metadata": {},
   "outputs": [],
   "source": [
    "# Assuming you have a DataFrame named 'test_results_df' with a 'image_filename' column\n",
    "test_results_df['yellow'] = test_results_df['Image'].apply(lambda x: x.split('_')[1])\n",
    "test_results_df['blue'] = test_results_df['Image'].apply(lambda x: x.split('_')[2])\n",
    "test_results_df['weber_ratio'] = test_results_df.apply(lambda row: max(int(row['yellow']), int(row['blue'])) / min(int(row['yellow']), int(row['blue'])), axis=1)"
   ]
  },
  {
   "cell_type": "code",
   "execution_count": 21,
   "metadata": {},
   "outputs": [],
   "source": [
    "import seaborn as sns\n",
    "import matplotlib.pyplot as plt\n",
    "\n",
    "# Calculate the percentage of correct answers for each Weber ratio\n",
    "correct_percentage = test_results_df.groupby('weber_ratio')['Correct Prediction'].mean() * 100\n",
    "\n",
    "# Create a bar plot\n",
    "plt.figure(figsize=(10, 6))\n",
    "sns.barplot(x=correct_percentage.index, y=correct_percentage.values)\n",
    "plt.xlabel('Weber Ratio')\n",
    "plt.ylabel('Percentage of Correct Answers')\n",
    "plt.title('Percentage of Correct Answers for Each Weber Ratio')\n",
    "plt.xticks(rotation=45)\n",
    "plt.tight_layout()\n",
    "\n",
    "# Show the plot\n",
    "plt.show()\n"
   ]
  },
  {
   "cell_type": "code",
   "execution_count": 9,
   "metadata": {},
   "outputs": [],
   "source": [
    "# Test de model\n",
    "correct = 0\n",
    "total = 0\n",
    "with torch.no_grad():\n",
    "    for images, labels in tqdm(test_loader):\n",
    "        images, labels = images.to(dev), labels.to(dev)\n",
    "        outputs = model(images)\n",
    "        _, predicted = torch.max(outputs.data, 1)\n",
    "        total += labels.size(0)\n",
    "        correct += (predicted == labels).sum()"
   ]
  },
  {
   "cell_type": "code",
   "execution_count": 10,
   "metadata": {},
   "outputs": [],
   "source": [
    "print(f\"Accuracy on the {total} test images: {100 * correct / total}%\")"
   ]
  },
  {
   "cell_type": "code",
   "execution_count": null,
   "metadata": {},
   "outputs": [],
   "source": []
  }
 ],
 "metadata": {
  "kernelspec": {
   "display_name": "Python 3 (ipykernel)",
   "language": "python",
   "name": "python3"
  },
  "language_info": {
   "codemirror_mode": {
    "name": "ipython",
    "version": 3
   },
   "file_extension": ".py",
   "mimetype": "text/x-python",
   "name": "python",
   "nbconvert_exporter": "python",
   "pygments_lexer": "ipython3",
   "version": "3.11.4"
  }
 },
 "nbformat": 4,
 "nbformat_minor": 1
}
