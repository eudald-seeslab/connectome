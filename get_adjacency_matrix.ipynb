{
 "cells": [
  {
   "cell_type": "code",
   "execution_count": 2,
   "metadata": {},
   "outputs": [],
   "source": [
    "import numpy as np\n",
    "import pandas as pd\n",
    "import scipy.sparse as ss"
   ]
  },
  {
   "cell_type": "code",
   "execution_count": 47,
   "metadata": {},
   "outputs": [],
   "source": [
    "df = pd.read_csv(\"adult_data/connections.csv\")"
   ]
  },
  {
   "cell_type": "code",
   "execution_count": 48,
   "metadata": {},
   "outputs": [],
   "source": [
    "# there are repeated connections, so we add them\n",
    "df = df.groupby([\"pre_root_id\", \"post_root_id\"]).sum(\"syn_count\").reset_index()"
   ]
  },
  {
   "cell_type": "code",
   "execution_count": 49,
   "metadata": {},
   "outputs": [],
   "source": [
    "roots = set(df[\"pre_root_id\"]).union(set(df[\"post_root_id\"]))\n",
    "\n",
    "root_id_to_index = {\n",
    "    root_id: i for i, root_id in enumerate(roots)\n",
    "}"
   ]
  },
  {
   "cell_type": "code",
   "execution_count": 50,
   "metadata": {},
   "outputs": [
    {
     "data": {
      "text/html": [
       "<div>\n",
       "<style scoped>\n",
       "    .dataframe tbody tr th:only-of-type {\n",
       "        vertical-align: middle;\n",
       "    }\n",
       "\n",
       "    .dataframe tbody tr th {\n",
       "        vertical-align: top;\n",
       "    }\n",
       "\n",
       "    .dataframe thead th {\n",
       "        text-align: right;\n",
       "    }\n",
       "</style>\n",
       "<table border=\"1\" class=\"dataframe\">\n",
       "  <thead>\n",
       "    <tr style=\"text-align: right;\">\n",
       "      <th></th>\n",
       "      <th>pre_root_id</th>\n",
       "      <th>post_root_id</th>\n",
       "      <th>syn_count</th>\n",
       "    </tr>\n",
       "  </thead>\n",
       "  <tbody>\n",
       "    <tr>\n",
       "      <th>count</th>\n",
       "      <td>2.701601e+06</td>\n",
       "      <td>2.701601e+06</td>\n",
       "      <td>2.701601e+06</td>\n",
       "    </tr>\n",
       "    <tr>\n",
       "      <th>mean</th>\n",
       "      <td>6.704676e+04</td>\n",
       "      <td>6.745899e+04</td>\n",
       "      <td>1.264836e+01</td>\n",
       "    </tr>\n",
       "    <tr>\n",
       "      <th>std</th>\n",
       "      <td>3.869784e+04</td>\n",
       "      <td>3.877633e+04</td>\n",
       "      <td>1.698593e+01</td>\n",
       "    </tr>\n",
       "    <tr>\n",
       "      <th>min</th>\n",
       "      <td>0.000000e+00</td>\n",
       "      <td>0.000000e+00</td>\n",
       "      <td>5.000000e+00</td>\n",
       "    </tr>\n",
       "    <tr>\n",
       "      <th>25%</th>\n",
       "      <td>3.359200e+04</td>\n",
       "      <td>3.378400e+04</td>\n",
       "      <td>6.000000e+00</td>\n",
       "    </tr>\n",
       "    <tr>\n",
       "      <th>50%</th>\n",
       "      <td>6.704000e+04</td>\n",
       "      <td>6.797400e+04</td>\n",
       "      <td>8.000000e+00</td>\n",
       "    </tr>\n",
       "    <tr>\n",
       "      <th>75%</th>\n",
       "      <td>1.006490e+05</td>\n",
       "      <td>1.011720e+05</td>\n",
       "      <td>1.300000e+01</td>\n",
       "    </tr>\n",
       "    <tr>\n",
       "      <th>max</th>\n",
       "      <td>1.341900e+05</td>\n",
       "      <td>1.341900e+05</td>\n",
       "      <td>2.405000e+03</td>\n",
       "    </tr>\n",
       "  </tbody>\n",
       "</table>\n",
       "</div>"
      ],
      "text/plain": [
       "        pre_root_id  post_root_id     syn_count\n",
       "count  2.701601e+06  2.701601e+06  2.701601e+06\n",
       "mean   6.704676e+04  6.745899e+04  1.264836e+01\n",
       "std    3.869784e+04  3.877633e+04  1.698593e+01\n",
       "min    0.000000e+00  0.000000e+00  5.000000e+00\n",
       "25%    3.359200e+04  3.378400e+04  6.000000e+00\n",
       "50%    6.704000e+04  6.797400e+04  8.000000e+00\n",
       "75%    1.006490e+05  1.011720e+05  1.300000e+01\n",
       "max    1.341900e+05  1.341900e+05  2.405000e+03"
      ]
     },
     "execution_count": 50,
     "metadata": {},
     "output_type": "execute_result"
    }
   ],
   "source": [
    "# change pre and post root ids to indices\n",
    "df[\"pre_root_id\"] = df[\"pre_root_id\"].map(root_id_to_index)\n",
    "df[\"post_root_id\"] = df[\"post_root_id\"].map(root_id_to_index)"
   ]
  },
  {
   "cell_type": "code",
   "execution_count": 53,
   "metadata": {},
   "outputs": [],
   "source": [
    "# convert to sparse matrix\n",
    "matrix = ss.coo_matrix((df[\"syn_count\"], (df[\"pre_root_id\"], df[\"post_root_id\"])))"
   ]
  },
  {
   "cell_type": "code",
   "execution_count": 58,
   "metadata": {},
   "outputs": [],
   "source": [
    "ss.save_npz(\"adult_data/good_synaptic_matrix.npz\", matrix)"
   ]
  },
  {
   "cell_type": "code",
   "execution_count": 57,
   "metadata": {},
   "outputs": [
    {
     "data": {
      "text/plain": [
       "<134191x134191 sparse matrix of type '<class 'numpy.int64'>'\n",
       "\twith 2701601 stored elements in COOrdinate format>"
      ]
     },
     "execution_count": 57,
     "metadata": {},
     "output_type": "execute_result"
    }
   ],
   "source": [
    "matrix"
   ]
  },
  {
   "cell_type": "code",
   "execution_count": null,
   "metadata": {},
   "outputs": [],
   "source": []
  }
 ],
 "metadata": {
  "kernelspec": {
   "display_name": "venv",
   "language": "python",
   "name": "python3"
  },
  "language_info": {
   "codemirror_mode": {
    "name": "ipython",
    "version": 3
   },
   "file_extension": ".py",
   "mimetype": "text/x-python",
   "name": "python",
   "nbconvert_exporter": "python",
   "pygments_lexer": "ipython3",
   "version": "3.10.12"
  }
 },
 "nbformat": 4,
 "nbformat_minor": 2
}
