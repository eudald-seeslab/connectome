{
 "cells": [
  {
   "cell_type": "code",
   "execution_count": 7,
   "metadata": {
    "ExecuteTime": {
     "end_time": "2024-04-08T07:10:10.917514Z",
     "start_time": "2024-04-08T07:10:10.910166Z"
    },
    "collapsed": true
   },
   "outputs": [],
   "source": [
    "import os\n",
    "\n",
    "from PIL import Image\n",
    "import random\n",
    "from tqdm import tqdm"
   ]
  },
  {
   "cell_type": "code",
   "execution_count": 11,
   "metadata": {
    "ExecuteTime": {
     "end_time": "2024-04-08T07:34:51.380811Z",
     "start_time": "2024-04-08T07:34:51.378246Z"
    }
   },
   "outputs": [],
   "source": [
    "EASY = True\n",
    "IMAGE_SET_NUM = 50\n",
    "colour_1 = \"yellow\"\n",
    "colour_2 = \"blue\""
   ]
  },
  {
   "cell_type": "code",
   "execution_count": 9,
   "metadata": {
    "ExecuteTime": {
     "end_time": "2024-04-08T07:10:11.991995Z",
     "start_time": "2024-04-08T07:10:11.987224Z"
    },
    "collapsed": false,
    "pycharm": {
     "name": "#%%\n"
    }
   },
   "outputs": [],
   "source": [
    "random.seed(1714)\n",
    "\n",
    "# constants\n",
    "boundary_width = 5\n",
    "background_colour = \"#808080\"\n",
    "yellow = \"#fffe04\"\n",
    "blue = \"#0003f9\"\n",
    "point_sep = 20\n",
    "min_point_radius = 8\n",
    "max_point_radius = 16\n",
    "init_size = 512\n",
    "mode = \"RGB\"\n",
    "\n",
    "IMG_DIR = \"../images/one_point\"\n",
    "os.makedirs(IMG_DIR, exist_ok=True)\n",
    "os.makedirs(os.path.join(IMG_DIR, colour_1), exist_ok=True)\n",
    "os.makedirs(os.path.join(IMG_DIR, colour_2), exist_ok=True)"
   ]
  },
  {
   "cell_type": "code",
   "execution_count": 17,
   "metadata": {},
   "outputs": [],
   "source": [
    "# create an image with one single point, yellow or blue\n",
    "\n",
    "from PIL import Image, ImageDraw\n",
    "\n",
    "def draw_point(radius, colour, it):\n",
    "    # Create a new image with grey background\n",
    "    image = Image.new(\"RGB\", (512, 512), color=\"grey\")\n",
    "\n",
    "    col = yellow if colour == \"yellow\" else blue\n",
    "\n",
    "    # Draw a blue point in the center\n",
    "    draw = ImageDraw.Draw(image)\n",
    "    center = (256, 256)\n",
    "    radius = radius\n",
    "    draw.ellipse(\n",
    "        (center[0] - radius, center[1] - radius, center[0] + radius, center[1] + radius),\n",
    "        fill=col,\n",
    "    )\n",
    "\n",
    "    # Save the image as PNG\n",
    "    image.save(f\"../images/one_point/{colour}/p{radius}_{it}.png\")"
   ]
  },
  {
   "cell_type": "code",
   "execution_count": 18,
   "metadata": {},
   "outputs": [
    {
     "name": "stderr",
     "output_type": "stream",
     "text": [
      "100%|██████████| 50/50 [01:34<00:00,  1.88s/it]\n"
     ]
    }
   ],
   "source": [
    "for i in tqdm(range(IMAGE_SET_NUM)):\n",
    "    for r in range(50, 200):\n",
    "        draw_point(r, \"blue\", i)\n",
    "        draw_point(r, \"yellow\", i)\n"
   ]
  },
  {
   "cell_type": "code",
   "execution_count": 1,
   "metadata": {},
   "outputs": [
    {
     "data": {
      "text/plain": [
       "True"
      ]
     },
     "execution_count": 1,
     "metadata": {},
     "output_type": "execute_result"
    }
   ],
   "source": [
    "import torch\n",
    "torch.cuda.is_available()"
   ]
  },
  {
   "cell_type": "code",
   "execution_count": 1,
   "metadata": {},
   "outputs": [],
   "source": [
    "import sys\n",
    "sys.path.append(\"create_input_images\")\n",
    "from points_creator import ImageGenerator\n",
    "\n",
    "config = {\n",
    "    \"EASY\": True,\n",
    "    \"IMAGE_SET_NUM\": 10,\n",
    "    \"IMG_DIR\": \"../images/exploring\",\n",
    "    \"colour_1\": \"yellow\",\n",
    "    \"colour_2\": \"blue\",\n",
    "    \"boundary_width\": 5,\n",
    "    \"background_colour\": \"#808080\",\n",
    "    \"yellow\": \"#fffe04\",\n",
    "    \"blue\": \"#0003f9\",\n",
    "    \"point_sep\": 20,\n",
    "    \"min_point_radius\": 40,\n",
    "    \"max_point_radius\": 200,\n",
    "    \"init_size\": 512,\n",
    "    \"mode\": \"RGB\",\n",
    "    # there are per colour\n",
    "    \"min_point_num\": 1,\n",
    "    \"max_point_num\": 4,\n",
    "    \"attempts_limit\": 20\n",
    "}"
   ]
  },
  {
   "cell_type": "code",
   "execution_count": 2,
   "metadata": {},
   "outputs": [
    {
     "name": "stderr",
     "output_type": "stream",
     "text": [
      "INFO:root:This will make 160 images.\n",
      "  0%|          | 0/10 [00:00<?, ?it/s]WARNING:root:Failed to create image img_1_2_0_equalizedv2.png. Retrying.\n",
      "WARNING:root:Failed to create image img_2_1_0_equalizedv2.png. Retrying.\n",
      "WARNING:root:Failed to create image img_2_1_0_equalizedv2.png. Retrying.\n",
      "WARNING:root:Failed to create image img_2_1_0_equalizedv2.png. Retrying.\n",
      "WARNING:root:Failed to create image img_2_1_0v2.png. Retrying.\n",
      "WARNING:root:Failed to create image img_2_1_0v2.png. Retrying.\n",
      "WARNING:root:Failed to create image img_2_1_0v2.png. Retrying.\n",
      "WARNING:root:Failed to create image img_2_1_0v2.png. Retrying.\n",
      "WARNING:root:Failed to create image img_2_1_0v2.png. Retrying.\n",
      "WARNING:root:Failed to create image img_2_4_0_equalizedv2.png. Retrying.\n",
      "WARNING:root:Failed to create image img_2_4_0_equalizedv2.png. Retrying.\n",
      "WARNING:root:Failed to create image img_2_4_0_equalizedv2.png. Retrying.\n",
      "WARNING:root:Failed to create image img_2_4_0_equalizedv2.png. Retrying.\n",
      "WARNING:root:Failed to create image img_2_4_0_equalizedv2.png. Retrying.\n",
      "WARNING:root:Failed to create image img_2_4_0_equalizedv2.png. Retrying.\n",
      "WARNING:root:Failed to create image img_2_4_0_equalizedv2.png. Retrying.\n",
      "WARNING:root:Failed to create image img_2_4_0_equalizedv2.png. Retrying.\n",
      "WARNING:root:Failed to create image img_2_4_0_equalizedv2.png. Retrying.\n",
      "WARNING:root:Failed to create image img_2_4_0_equalizedv2.png. Retrying.\n",
      "WARNING:root:Failed to create image img_2_4_0_equalizedv2.png. Retrying.\n",
      "WARNING:root:Failed to create image img_2_4_0_equalizedv2.png. Retrying.\n",
      "WARNING:root:Failed to create image img_2_4_0_equalizedv2.png. Retrying.\n",
      "WARNING:root:Failed to create image img_2_4_0_equalizedv2.png. Retrying.\n",
      "WARNING:root:Failed to create image img_2_4_0_equalizedv2.png. Retrying.\n",
      "WARNING:root:Failed to create image img_2_4_0_equalizedv2.png. Retrying.\n",
      "WARNING:root:Failed to create image img_2_4_0_equalizedv2.png. Retrying.\n",
      "WARNING:root:Failed to create image img_2_4_0_equalizedv2.png. Retrying.\n",
      "WARNING:root:Failed to create image img_2_4_0_equalizedv2.png. Retrying.\n",
      "WARNING:root:Failed to create image img_2_4_0_equalizedv2.png. Retrying.\n",
      "  0%|          | 0/10 [00:00<?, ?it/s]\n"
     ]
    },
    {
     "ename": "TerminalPointLayoutError",
     "evalue": "Failed to create image img_2_4_0_equalizedv2.png after 20 attempts. \n                        Your points are probably too big, or there are too many. \n                        Stopping.",
     "output_type": "error",
     "traceback": [
      "\u001b[0;31m---------------------------------------------------------------------------\u001b[0m",
      "\u001b[0;31mPointLayoutError\u001b[0m                          Traceback (most recent call last)",
      "File \u001b[0;32m~/Desktop/doctorat/connectome/create_input_images/points_creator.py:73\u001b[0m, in \u001b[0;36mImageGenerator.create_and_save\u001b[0;34m(self, n1, n2, equalized, tag)\u001b[0m\n\u001b[1;32m     72\u001b[0m \u001b[38;5;28;01mtry\u001b[39;00m:\n\u001b[0;32m---> 73\u001b[0m     \u001b[38;5;28;43mself\u001b[39;49m\u001b[38;5;241;43m.\u001b[39;49m\u001b[43mcreate_and_save_image\u001b[49m\u001b[43m(\u001b[49m\u001b[43mname\u001b[49m\u001b[43m,\u001b[49m\u001b[43m \u001b[49m\u001b[43mn1\u001b[49m\u001b[43m,\u001b[49m\u001b[43m \u001b[49m\u001b[43mn2\u001b[49m\u001b[43m,\u001b[49m\u001b[43m \u001b[49m\u001b[43mequalized\u001b[49m\u001b[43m)\u001b[49m\n\u001b[1;32m     74\u001b[0m     \u001b[38;5;28;01mbreak\u001b[39;00m\n",
      "File \u001b[0;32m~/Desktop/doctorat/connectome/create_input_images/points_creator.py:87\u001b[0m, in \u001b[0;36mImageGenerator.create_and_save_image\u001b[0;34m(self, name, n1, n2, equalized)\u001b[0m\n\u001b[1;32m     86\u001b[0m \u001b[38;5;28;01mdef\u001b[39;00m \u001b[38;5;21mcreate_and_save_image\u001b[39m(\u001b[38;5;28mself\u001b[39m, name, n1, n2, equalized):\n\u001b[0;32m---> 87\u001b[0m     img \u001b[38;5;241m=\u001b[39m \u001b[38;5;28;43mself\u001b[39;49m\u001b[38;5;241;43m.\u001b[39;49m\u001b[43mcreate_image\u001b[49m\u001b[43m(\u001b[49m\u001b[43mn1\u001b[49m\u001b[43m,\u001b[49m\u001b[43m \u001b[49m\u001b[43mn2\u001b[49m\u001b[43m,\u001b[49m\u001b[43m \u001b[49m\u001b[43mequalized\u001b[49m\u001b[43m)\u001b[49m\n\u001b[1;32m     88\u001b[0m     img\u001b[38;5;241m.\u001b[39msave(\n\u001b[1;32m     89\u001b[0m     os\u001b[38;5;241m.\u001b[39mpath\u001b[38;5;241m.\u001b[39mjoin(\n\u001b[1;32m     90\u001b[0m         \u001b[38;5;28mself\u001b[39m\u001b[38;5;241m.\u001b[39mconfig[\u001b[38;5;124m\"\u001b[39m\u001b[38;5;124mIMG_DIR\u001b[39m\u001b[38;5;124m\"\u001b[39m],\n\u001b[0;32m   (...)\u001b[0m\n\u001b[1;32m     93\u001b[0m         )\n\u001b[1;32m     94\u001b[0m     )\n",
      "File \u001b[0;32m~/Desktop/doctorat/connectome/create_input_images/points_creator.py:58\u001b[0m, in \u001b[0;36mImageGenerator.create_image\u001b[0;34m(self, n1, n2, equalized)\u001b[0m\n\u001b[1;32m     49\u001b[0m number_points \u001b[38;5;241m=\u001b[39m NumberPoints(\n\u001b[1;32m     50\u001b[0m     img,\n\u001b[1;32m     51\u001b[0m     \u001b[38;5;28mself\u001b[39m\u001b[38;5;241m.\u001b[39mconfig[\u001b[38;5;124m\"\u001b[39m\u001b[38;5;124minit_size\u001b[39m\u001b[38;5;124m\"\u001b[39m],\n\u001b[0;32m   (...)\u001b[0m\n\u001b[1;32m     56\u001b[0m     attempts_limit\u001b[38;5;241m=\u001b[39m\u001b[38;5;28mself\u001b[39m\u001b[38;5;241m.\u001b[39mconfig[\u001b[38;5;124m\"\u001b[39m\u001b[38;5;124mattempts_limit\u001b[39m\u001b[38;5;124m\"\u001b[39m],\n\u001b[1;32m     57\u001b[0m )\n\u001b[0;32m---> 58\u001b[0m point_array \u001b[38;5;241m=\u001b[39m \u001b[43mnumber_points\u001b[49m\u001b[38;5;241;43m.\u001b[39;49m\u001b[43mdesign_n_points\u001b[49m\u001b[43m(\u001b[49m\u001b[43mn1\u001b[49m\u001b[43m,\u001b[49m\u001b[43m \u001b[49m\u001b[38;5;28;43mself\u001b[39;49m\u001b[38;5;241;43m.\u001b[39;49m\u001b[43mconfig\u001b[49m\u001b[43m[\u001b[49m\u001b[38;5;124;43m\"\u001b[39;49m\u001b[38;5;124;43mcolour_1\u001b[39;49m\u001b[38;5;124;43m\"\u001b[39;49m\u001b[43m]\u001b[49m\u001b[43m)\u001b[49m\n\u001b[1;32m     59\u001b[0m point_array \u001b[38;5;241m=\u001b[39m number_points\u001b[38;5;241m.\u001b[39mdesign_n_points(\n\u001b[1;32m     60\u001b[0m     n2, \u001b[38;5;28mself\u001b[39m\u001b[38;5;241m.\u001b[39mconfig[\u001b[38;5;124m\"\u001b[39m\u001b[38;5;124mcolour_2\u001b[39m\u001b[38;5;124m\"\u001b[39m], point_array\u001b[38;5;241m=\u001b[39mpoint_array\n\u001b[1;32m     61\u001b[0m )\n",
      "File \u001b[0;32m~/Desktop/doctorat/connectome/create_input_images/points.py:69\u001b[0m, in \u001b[0;36mNumberPoints.design_n_points\u001b[0;34m(self, n, colour, point_array)\u001b[0m\n\u001b[1;32m     68\u001b[0m     \u001b[38;5;28;01mif\u001b[39;00m attempts \u001b[38;5;241m>\u001b[39m \u001b[38;5;28mself\u001b[39m\u001b[38;5;241m.\u001b[39mattempts_limit:\n\u001b[0;32m---> 69\u001b[0m         \u001b[38;5;28;01mraise\u001b[39;00m PointLayoutError(\u001b[38;5;124m\"\u001b[39m\u001b[38;5;124mToo many attempts to create a good layout.\u001b[39m\u001b[38;5;124m\"\u001b[39m)\n\u001b[1;32m     70\u001b[0m point_array\u001b[38;5;241m.\u001b[39mappend((new_point, colour))\n",
      "\u001b[0;31mPointLayoutError\u001b[0m: Too many attempts to create a good layout.",
      "\nDuring handling of the above exception, another exception occurred:\n",
      "\u001b[0;31mTerminalPointLayoutError\u001b[0m                  Traceback (most recent call last)",
      "Input \u001b[0;32mIn [2]\u001b[0m, in \u001b[0;36m<cell line: 4>\u001b[0;34m()\u001b[0m\n\u001b[1;32m      2\u001b[0m random\u001b[38;5;241m.\u001b[39mseed(\u001b[38;5;241m1714\u001b[39m)\n\u001b[1;32m      3\u001b[0m image_generator \u001b[38;5;241m=\u001b[39m ImageGenerator(config)\n\u001b[0;32m----> 4\u001b[0m \u001b[43mimage_generator\u001b[49m\u001b[38;5;241;43m.\u001b[39;49m\u001b[43mgenerate_images\u001b[49m\u001b[43m(\u001b[49m\u001b[43m)\u001b[49m\n",
      "File \u001b[0;32m~/Desktop/doctorat/connectome/create_input_images/points_creator.py:121\u001b[0m, in \u001b[0;36mImageGenerator.generate_images\u001b[0;34m(self)\u001b[0m\n\u001b[1;32m    119\u001b[0m \u001b[38;5;28;01mfor\u001b[39;00m i \u001b[38;5;129;01min\u001b[39;00m tqdm(\u001b[38;5;28mrange\u001b[39m(\u001b[38;5;28mself\u001b[39m\u001b[38;5;241m.\u001b[39mconfig[\u001b[38;5;124m\"\u001b[39m\u001b[38;5;124mIMAGE_SET_NUM\u001b[39m\u001b[38;5;124m\"\u001b[39m])):\n\u001b[1;32m    120\u001b[0m     \u001b[38;5;28;01mfor\u001b[39;00m pair \u001b[38;5;129;01min\u001b[39;00m positions:\n\u001b[0;32m--> 121\u001b[0m         \u001b[38;5;28;43mself\u001b[39;49m\u001b[38;5;241;43m.\u001b[39;49m\u001b[43mcreate_and_save\u001b[49m\u001b[43m(\u001b[49m\u001b[43mpair\u001b[49m\u001b[43m[\u001b[49m\u001b[38;5;241;43m0\u001b[39;49m\u001b[43m]\u001b[49m\u001b[43m,\u001b[49m\u001b[43m \u001b[49m\u001b[43mpair\u001b[49m\u001b[43m[\u001b[49m\u001b[38;5;241;43m1\u001b[39;49m\u001b[43m]\u001b[49m\u001b[43m,\u001b[49m\u001b[43m \u001b[49m\u001b[43mequalized\u001b[49m\u001b[38;5;241;43m=\u001b[39;49m\u001b[38;5;28;43;01mTrue\u001b[39;49;00m\u001b[43m,\u001b[49m\u001b[43m \u001b[49m\u001b[43mtag\u001b[49m\u001b[38;5;241;43m=\u001b[39;49m\u001b[43mi\u001b[49m\u001b[43m)\u001b[49m\n\u001b[1;32m    122\u001b[0m         \u001b[38;5;28mself\u001b[39m\u001b[38;5;241m.\u001b[39mcreate_and_save(pair[\u001b[38;5;241m1\u001b[39m], pair[\u001b[38;5;241m0\u001b[39m], equalized\u001b[38;5;241m=\u001b[39m\u001b[38;5;28;01mTrue\u001b[39;00m, tag\u001b[38;5;241m=\u001b[39mi)\n\u001b[1;32m    123\u001b[0m         \u001b[38;5;28mself\u001b[39m\u001b[38;5;241m.\u001b[39mcreate_and_save(pair[\u001b[38;5;241m0\u001b[39m], pair[\u001b[38;5;241m1\u001b[39m], equalized\u001b[38;5;241m=\u001b[39m\u001b[38;5;28;01mFalse\u001b[39;00m, tag\u001b[38;5;241m=\u001b[39mi)\n",
      "File \u001b[0;32m~/Desktop/doctorat/connectome/create_input_images/points_creator.py:80\u001b[0m, in \u001b[0;36mImageGenerator.create_and_save\u001b[0;34m(self, n1, n2, equalized, tag)\u001b[0m\n\u001b[1;32m     77\u001b[0m attempts \u001b[38;5;241m+\u001b[39m\u001b[38;5;241m=\u001b[39m \u001b[38;5;241m1\u001b[39m\n\u001b[1;32m     79\u001b[0m \u001b[38;5;28;01mif\u001b[39;00m attempts \u001b[38;5;241m==\u001b[39m \u001b[38;5;28mself\u001b[39m\u001b[38;5;241m.\u001b[39mconfig[\u001b[38;5;124m\"\u001b[39m\u001b[38;5;124mattempts_limit\u001b[39m\u001b[38;5;124m\"\u001b[39m]:\n\u001b[0;32m---> 80\u001b[0m     \u001b[38;5;28;01mraise\u001b[39;00m TerminalPointLayoutError(\n\u001b[1;32m     81\u001b[0m         \u001b[38;5;124mf\u001b[39m\u001b[38;5;124m\"\"\"\u001b[39m\u001b[38;5;124mFailed to create image \u001b[39m\u001b[38;5;132;01m{\u001b[39;00mname\u001b[38;5;132;01m}\u001b[39;00m\u001b[38;5;124m after \u001b[39m\u001b[38;5;132;01m{\u001b[39;00mattempts\u001b[38;5;132;01m}\u001b[39;00m\u001b[38;5;124m attempts. \u001b[39m\n\u001b[1;32m     82\u001b[0m \u001b[38;5;124m        Your points are probably too big, or there are too many. \u001b[39m\n\u001b[1;32m     83\u001b[0m \u001b[38;5;124m        Stopping.\u001b[39m\u001b[38;5;124m\"\"\"\u001b[39m\n\u001b[1;32m     84\u001b[0m     )\n",
      "\u001b[0;31mTerminalPointLayoutError\u001b[0m: Failed to create image img_2_4_0_equalizedv2.png after 20 attempts. \n                        Your points are probably too big, or there are too many. \n                        Stopping."
     ]
    }
   ],
   "source": [
    "\n",
    "import random\n",
    "random.seed(1714)\n",
    "image_generator = ImageGenerator(config)\n",
    "image_generator.generate_images()\n"
   ]
  },
  {
   "cell_type": "code",
   "execution_count": null,
   "metadata": {},
   "outputs": [],
   "source": []
  }
 ],
 "metadata": {
  "kernelspec": {
   "display_name": "Python 3",
   "language": "python",
   "name": "python3"
  },
  "language_info": {
   "codemirror_mode": {
    "name": "ipython",
    "version": 3
   },
   "file_extension": ".py",
   "mimetype": "text/x-python",
   "name": "python",
   "nbconvert_exporter": "python",
   "pygments_lexer": "ipython3",
   "version": "3.10.12"
  }
 },
 "nbformat": 4,
 "nbformat_minor": 0
}
