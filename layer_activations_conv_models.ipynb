{
 "cells": [
  {
   "cell_type": "code",
   "execution_count": 21,
   "id": "initial_id",
   "metadata": {
    "collapsed": true,
    "ExecuteTime": {
     "end_time": "2024-04-04T06:44:01.125467Z",
     "start_time": "2024-04-04T06:44:01.120700Z"
    }
   },
   "outputs": [],
   "source": [
    "import warnings\n",
    "\n",
    "import numpy as np\n",
    "import pandas as pd\n",
    "import torch\n",
    "from torch import device, cuda, autocast\n",
    "from torch.cuda.amp import GradScaler\n",
    "from torch.nn import BCEWithLogitsLoss\n",
    "from torch.utils.data import DataLoader, TensorDataset\n",
    "from tqdm import tqdm\n",
    "\n",
    "import flyvision\n",
    "from flyvision.utils.activity_utils import LayerActivity\n",
    "from flyvision_ans import DECODING_CELLS\n",
    "import wandb\n",
    "from conv_models import DecodingImagesCNN\n",
    "from from_video_to_training_batched_funcs import get_files_from_directory, select_random_videos, paths_to_labels, load_custom_sequences\n",
    "from logs_to_wandb import hex_to_square_grid\n",
    "from utils import plot_weber_fraction\n",
    "\n",
    "warnings.filterwarnings(\n",
    "    'ignore',\n",
    "    message='invalid value encountered in cast',\n",
    "    category=RuntimeWarning,\n",
    "    module='wandb.sdk.data_types.image'\n",
    ")\n",
    "\n",
    "device_type = \"cuda\" if cuda.is_available() else \"cpu\"\n",
    "DEVICE = device(device_type)\n",
    "torch.manual_seed(42)\n",
    "batch_size = 64\n",
    "last_good_frame = 2\n",
    "\n",
    "TRAINING_DATA_DIR = \"easy_videos\"\n",
    "TESTING_DATA_DIR = \"easyval_videos\"\n",
    "\n",
    "debugging = True\n",
    "debug_length = 20\n",
    "wandb_ = True\n",
    "wandb_images_every = 10\n",
    "\n",
    "num_epochs = 1\n",
    "\n",
    "channel_sizes = [16, 32, 64]\n",
    "mult_size = 1\n",
    "channel_sizes = [int(a * mult_size) for a in channel_sizes]\n",
    "dropout = .65"
   ]
  },
  {
   "cell_type": "code",
   "outputs": [],
   "source": [
    "network_view = flyvision.NetworkView(flyvision.results_dir / \"opticflow/000/0000\")\n",
    "network = network_view.init_network(chkpt=\"best_chkpt\")\n",
    "dt = 1 / 100\n",
    "extent, kernel_size = 15, 13\n",
    "receptors = flyvision.rendering.BoxEye(extent=extent, kernel_size=kernel_size)\n",
    "\n",
    "all_videos = get_files_from_directory(TRAINING_DATA_DIR)\n",
    "all_validation_videos = get_files_from_directory(TESTING_DATA_DIR)"
   ],
   "metadata": {
    "collapsed": false,
    "ExecuteTime": {
     "end_time": "2024-04-04T06:44:07.463236Z",
     "start_time": "2024-04-04T06:44:01.996886Z"
    }
   },
   "id": "1807fd157955627",
   "execution_count": 22
  },
  {
   "cell_type": "code",
   "outputs": [],
   "source": [
    "def activation_vector_to_image(da):\n",
    "    images = np.apply_along_axis(hex_to_square_grid, axis=1, arr=da.cpu().numpy())\n",
    "    # TODO: think about how to treat the missings\n",
    "    return np.nan_to_num(images)\n",
    "\n",
    "def layer_activations_to_decoding_images(la, frame, decoding_cells):\n",
    "    # only decoding activations\n",
    "    da = [a[decoding_cells][0, -frame, :, :] for a in la]\n",
    "    # decoded images\n",
    "    return np.array([activation_vector_to_image(a) for a in da])"
   ],
   "metadata": {
    "collapsed": false,
    "ExecuteTime": {
     "end_time": "2024-04-04T06:44:07.467577Z",
     "start_time": "2024-04-04T06:44:07.464406Z"
    }
   },
   "id": "a1381ee9eddd40bb",
   "execution_count": 23
  },
  {
   "cell_type": "code",
   "outputs": [],
   "source": [
    "model = DecodingImagesCNN(\n",
    "    out_channels_1 = channel_sizes[0],\n",
    "    out_channels_2 = channel_sizes[1],\n",
    "    out_channels_3 = channel_sizes[2],\n",
    "    dropout = dropout\n",
    ").to(DEVICE)\n",
    "lr = .01\n",
    "optimizer = torch.optim.Adam(model.parameters(), lr=lr, weight_decay=1e-3)\n",
    "scaler = GradScaler()\n",
    "\n",
    "# Initialize the loss function\n",
    "criterion = BCEWithLogitsLoss()"
   ],
   "metadata": {
    "collapsed": false,
    "ExecuteTime": {
     "end_time": "2024-04-04T06:44:08.522434Z",
     "start_time": "2024-04-04T06:44:08.515367Z"
    }
   },
   "id": "4fce80a3502cf3c7",
   "execution_count": 24
  },
  {
   "cell_type": "code",
   "outputs": [
    {
     "data": {
      "text/plain": "VBox(children=(Label(value='Waiting for wandb.init()...\\r'), FloatProgress(value=0.011112844510999921, max=1.0…",
      "application/vnd.jupyter.widget-view+json": {
       "version_major": 2,
       "version_minor": 0,
       "model_id": "8dc972cf2c9646fea27a41143f9d8c72"
      }
     },
     "metadata": {},
     "output_type": "display_data"
    },
    {
     "data": {
      "text/plain": "<IPython.core.display.HTML object>",
      "text/html": "wandb version 0.16.6 is available!  To upgrade, please run:\n $ pip install wandb --upgrade"
     },
     "metadata": {},
     "output_type": "display_data"
    },
    {
     "data": {
      "text/plain": "<IPython.core.display.HTML object>",
      "text/html": "Tracking run with wandb version 0.16.4"
     },
     "metadata": {},
     "output_type": "display_data"
    },
    {
     "data": {
      "text/plain": "<IPython.core.display.HTML object>",
      "text/html": "Run data is saved locally in <code>/home/eudald/Desktop/doctorat/connectome/wandb/run-20240404_084409-myb5jtmq</code>"
     },
     "metadata": {},
     "output_type": "display_data"
    },
    {
     "data": {
      "text/plain": "<IPython.core.display.HTML object>",
      "text/html": "Syncing run <strong><a href='https://wandb.ai/eudald/la_classification/runs/myb5jtmq' target=\"_blank\">wild-smoke-10</a></strong> to <a href='https://wandb.ai/eudald/la_classification' target=\"_blank\">Weights & Biases</a> (<a href='https://wandb.me/run' target=\"_blank\">docs</a>)<br/>"
     },
     "metadata": {},
     "output_type": "display_data"
    },
    {
     "data": {
      "text/plain": "<IPython.core.display.HTML object>",
      "text/html": " View project at <a href='https://wandb.ai/eudald/la_classification' target=\"_blank\">https://wandb.ai/eudald/la_classification</a>"
     },
     "metadata": {},
     "output_type": "display_data"
    },
    {
     "data": {
      "text/plain": "<IPython.core.display.HTML object>",
      "text/html": " View run at <a href='https://wandb.ai/eudald/la_classification/runs/myb5jtmq' target=\"_blank\">https://wandb.ai/eudald/la_classification/runs/myb5jtmq</a>"
     },
     "metadata": {},
     "output_type": "display_data"
    },
    {
     "name": "stderr",
     "output_type": "stream",
     "text": [
      "100%|██████████| 20/20 [16:33<00:00, 49.69s/it]\n"
     ]
    },
    {
     "name": "stdout",
     "output_type": "stream",
     "text": [
      "Epoch 1, Loss: 0.7335503935813904, Accuracy: 0.5\n"
     ]
    }
   ],
   "source": [
    "model.train()\n",
    "\n",
    "iterations = debug_length if debugging else len(all_videos) // batch_size\n",
    "# Start wandb run\n",
    "if wandb_:\n",
    "    wandb.init(project='la_classification')\n",
    "    data_table = wandb.Table(columns=[\"Predictions\", \"True Labels\"])\n",
    "\n",
    "# Training loop\n",
    "for epoch in range(num_epochs):\n",
    "    already_selected = []\n",
    "    running_loss = 0.0\n",
    "    total_correct = 0\n",
    "    total = 0\n",
    "    for i in tqdm(range(iterations)):\n",
    "        batch_files, already_selected = select_random_videos(\n",
    "            all_videos, batch_size, already_selected\n",
    "        )\n",
    "        labels = paths_to_labels(batch_files)\n",
    "        batch_sequences = load_custom_sequences(batch_files)\n",
    "        rendered_sequences = receptors(batch_sequences)\n",
    "        \n",
    "        layer_activations = []\n",
    "        for rendered_sequence in rendered_sequences:\n",
    "            # rendered sequences are in RGB; move it to 0-1 for better training\n",
    "            rendered_sequence = torch.div(rendered_sequence, 255)\n",
    "            simulation = network.simulate(rendered_sequence[None], dt)\n",
    "            layer_activations.append(\n",
    "                LayerActivity(simulation, network.connectome, keepref=True)\n",
    "            )\n",
    "        \n",
    "        decoding_images = layer_activations_to_decoding_images(layer_activations, last_good_frame, DECODING_CELLS)\n",
    "        \n",
    "        # Ensure the data is in tensor form and on the correct device\n",
    "        labels_tensor = torch.tensor(labels, dtype=torch.float).to(DEVICE)\n",
    "        batch_sequences_tensor = torch.tensor(decoding_images, dtype=torch.float).to(DEVICE)\n",
    "\n",
    "        # Create the dataset and dataloader\n",
    "        dataset = TensorDataset(batch_sequences_tensor, labels_tensor)\n",
    "        dataloader = DataLoader(dataset, batch_size=batch_size, shuffle=False)\n",
    "        \n",
    "        for inputs, batch_labels in dataloader:\n",
    "            inputs.to(DEVICE)\n",
    "            batch_labels.to(DEVICE)\n",
    "            \n",
    "            # Zero the parameter gradients\n",
    "            optimizer.zero_grad()\n",
    "    \n",
    "            # Forward pass\n",
    "            with autocast(device_type):\n",
    "                outputs = model(inputs)\n",
    "                loss = criterion(outputs.squeeze(), batch_labels)\n",
    "    \n",
    "            # Backward pass and optimize\n",
    "                loss.backward()\n",
    "                optimizer.step()\n",
    "    \n",
    "                # Calculate the running loss and accuracy\n",
    "                running_loss += loss.item() * inputs.size(0)\n",
    "                predictions = torch.sigmoid(outputs).squeeze() > 0.5\n",
    "                total += batch_labels.size(0)\n",
    "                total_correct += (predictions == batch_labels).sum().item()\n",
    "                \n",
    "                if wandb_:\n",
    "                    predictions = torch.sigmoid(outputs).squeeze().detach().cpu()\n",
    "                    batch_labels_cpu = batch_labels.detach().cpu()\n",
    "                    for pred, label in zip(predictions, batch_labels_cpu):\n",
    "                        data_table.add_data(pred.item(), label.item())\n",
    "\n",
    "        # Log metrics to wandb\n",
    "        if wandb_:\n",
    "            wandb.log({\n",
    "                'epoch': epoch,\n",
    "                'loss': running_loss / total,\n",
    "                'accuracy': total_correct / total,\n",
    "            })\n",
    "    wandb.log({\"predictions_vs_labels\": data_table})\n",
    "\n",
    "    print(f'Epoch {epoch+1}, Loss: {running_loss / total}, Accuracy: {total_correct / total}')"
   ],
   "metadata": {
    "collapsed": false,
    "ExecuteTime": {
     "end_time": "2024-04-04T07:00:44.966186Z",
     "start_time": "2024-04-04T06:44:09.221062Z"
    }
   },
   "id": "a3b94263294e5262",
   "execution_count": 25
  },
  {
   "cell_type": "code",
   "outputs": [
    {
     "name": "stderr",
     "output_type": "stream",
     "text": [
      "100%|██████████| 2/2 [01:39<00:00, 49.66s/it]\n"
     ]
    }
   ],
   "source": [
    "model.eval() \n",
    "\n",
    "total_correct = 0\n",
    "total = 0\n",
    "running_loss = 0.0\n",
    "\n",
    "validation_results = pd.DataFrame(columns=[\"Image\", \"Prediction\", \"True Label\"])\n",
    "\n",
    "with torch.no_grad():\n",
    "    for i in tqdm(range(2)):\n",
    "        batch_files, _ = select_random_videos(\n",
    "            all_validation_videos, batch_size, already_selected=[]\n",
    "        )\n",
    "        labels = paths_to_labels(batch_files)\n",
    "        batch_sequences = load_custom_sequences(batch_files)\n",
    "        rendered_sequences = receptors(batch_sequences)\n",
    "        \n",
    "        layer_activations = []\n",
    "        for rendered_sequence in rendered_sequences:\n",
    "            # rendered sequences are in RGB; move it to 0-1 for better training\n",
    "            rendered_sequence = torch.div(rendered_sequence, 255)\n",
    "            simulation = network.simulate(rendered_sequence[None], dt)\n",
    "            layer_activations.append(\n",
    "                LayerActivity(simulation, network.connectome, keepref=True)\n",
    "            )\n",
    "        \n",
    "        decoding_images = layer_activations_to_decoding_images(layer_activations, last_good_frame, DECODING_CELLS)\n",
    "        \n",
    "        # Ensure the data is in tensor form and on the correct device\n",
    "        labels_tensor = torch.tensor(labels, dtype=torch.float).to(DEVICE)\n",
    "        batch_sequences_tensor = torch.tensor(decoding_images, dtype=torch.float).to(DEVICE)\n",
    "\n",
    "        dataset = TensorDataset(batch_sequences_tensor, labels_tensor)\n",
    "        dataloader = DataLoader(dataset, batch_size=batch_size, shuffle=False)\n",
    "        \n",
    "        for inputs, batch_labels in dataloader:\n",
    "            inputs, batch_labels = inputs.to(DEVICE), batch_labels.to(DEVICE)\n",
    "            \n",
    "            # Forward pass only to get logits/output\n",
    "            outputs = model(inputs)\n",
    "            loss = criterion(outputs.squeeze(), batch_labels)\n",
    "\n",
    "            running_loss += loss.item() * inputs.size(0)\n",
    "            predictions = torch.round(torch.sigmoid(outputs).squeeze()).cpu().numpy()\n",
    "            correct = np.where(predictions == batch_labels.cpu().numpy(), 1, 0)\n",
    "            total += batch_labels.size(0)\n",
    "            total_correct += correct.sum().item()\n",
    "            \n",
    "            validation_results = pd.concat(\n",
    "                [validation_results, pd.DataFrame({\n",
    "                    \"Image\": batch_files,\n",
    "                    \"Prediction\": predictions.squeeze().tolist(),\n",
    "                    \"True label\": batch_labels.tolist(),\n",
    "                    \"Is correct\": correct.tolist()\n",
    "        })]\n",
    "            )\n",
    "            \n",
    "print(f'Validation Loss: {running_loss / total}, '\n",
    "      f'Validation Accuracy: {total_correct / total}')"
   ],
   "metadata": {
    "collapsed": false,
    "ExecuteTime": {
     "end_time": "2024-04-04T07:03:23.126318Z",
     "start_time": "2024-04-04T07:01:43.802241Z"
    }
   },
   "id": "15804021f0e43b93",
   "execution_count": 26
  },
  {
   "cell_type": "code",
   "outputs": [
    {
     "data": {
      "text/plain": "VBox(children=(Label(value='0.097 MB of 0.108 MB uploaded\\r'), FloatProgress(value=0.8998183992558799, max=1.0…",
      "application/vnd.jupyter.widget-view+json": {
       "version_major": 2,
       "version_minor": 0,
       "model_id": "0147e280140346fe850eba6cdc556d62"
      }
     },
     "metadata": {},
     "output_type": "display_data"
    },
    {
     "data": {
      "text/plain": "<IPython.core.display.HTML object>",
      "text/html": "<style>\n    table.wandb td:nth-child(1) { padding: 0 10px; text-align: left ; width: auto;} td:nth-child(2) {text-align: left ; width: 100%}\n    .wandb-row { display: flex; flex-direction: row; flex-wrap: wrap; justify-content: flex-start; width: 100% }\n    .wandb-col { display: flex; flex-direction: column; flex-basis: 100%; flex: 1; padding: 10px; }\n    </style>\n<div class=\"wandb-row\"><div class=\"wandb-col\"><h3>Run history:</h3><br/><table class=\"wandb\"><tr><td>accuracy</td><td>█▇▄▂▂▃▂▁▁▁▁▁▁▁▂▁▁▂▂▂</td></tr><tr><td>epoch</td><td>▁▁▁▁▁▁▁▁▁▁▁▁▁▁▁▁▁▁▁▁</td></tr><tr><td>loss</td><td>▁▃▂▄▄▂▅▆▅▅▇███▇▇▇▆▆▆</td></tr><tr><td>val_accuracy</td><td>▁</td></tr><tr><td>val_loss</td><td>▁</td></tr></table><br/></div><div class=\"wandb-col\"><h3>Run summary:</h3><br/><table class=\"wandb\"><tr><td>accuracy</td><td>0.5</td></tr><tr><td>epoch</td><td>0</td></tr><tr><td>loss</td><td>0.73355</td></tr><tr><td>val_accuracy</td><td>0.57031</td></tr><tr><td>val_loss</td><td>0.68416</td></tr></table><br/></div></div>"
     },
     "metadata": {},
     "output_type": "display_data"
    },
    {
     "data": {
      "text/plain": "<IPython.core.display.HTML object>",
      "text/html": " View run <strong style=\"color:#cdcd00\">wild-smoke-10</strong> at: <a href='https://wandb.ai/eudald/la_classification/runs/myb5jtmq' target=\"_blank\">https://wandb.ai/eudald/la_classification/runs/myb5jtmq</a><br/> View job at <a href='https://wandb.ai/eudald/la_classification/jobs/QXJ0aWZhY3RDb2xsZWN0aW9uOjE1NTY3Mjg0Nw==/version_details/v6' target=\"_blank\">https://wandb.ai/eudald/la_classification/jobs/QXJ0aWZhY3RDb2xsZWN0aW9uOjE1NTY3Mjg0Nw==/version_details/v6</a><br/>Synced 5 W&B file(s), 3 media file(s), 2 artifact file(s) and 0 other file(s)"
     },
     "metadata": {},
     "output_type": "display_data"
    },
    {
     "data": {
      "text/plain": "<IPython.core.display.HTML object>",
      "text/html": "Find logs at: <code>./wandb/run-20240404_084409-myb5jtmq/logs</code>"
     },
     "metadata": {},
     "output_type": "display_data"
    },
    {
     "name": "stdout",
     "output_type": "stream",
     "text": [
      "Validation Loss: 0.6841578483581543, Validation Accuracy: 0.5703125\n"
     ]
    },
    {
     "data": {
      "text/plain": "<Figure size 1000x600 with 1 Axes>",
      "image/png": "[encoded data removed]"
     },
     "metadata": {},
     "output_type": "display_data"
    }
   ],
   "source": [
    "weber_plot = plot_weber_fraction(validation_results)\n",
    "\n",
    "# Log validation metrics to wandb\n",
    "if wandb_:\n",
    "    wandb.log({\n",
    "        'val_loss': running_loss / total,\n",
    "        'val_accuracy': total_correct / total,\n",
    "        \"validation_results\": wandb.Table(dataframe=validation_results),\n",
    "        \"Weber Fraction Plot\": wandb.Image(weber_plot)\n",
    "    })\n",
    "    wandb.finish()\n",
    "\n"
   ],
   "metadata": {
    "collapsed": false,
    "ExecuteTime": {
     "end_time": "2024-04-04T07:05:22.970092Z",
     "start_time": "2024-04-04T07:05:14.125899Z"
    }
   },
   "id": "6a25342c29d5d247",
   "execution_count": 27
  },
  {
   "cell_type": "code",
   "outputs": [
    {
     "data": {
      "text/plain": "73"
     },
     "execution_count": 29,
     "metadata": {},
     "output_type": "execute_result"
    }
   ],
   "source": [
    "total_correct"
   ],
   "metadata": {
    "collapsed": false,
    "ExecuteTime": {
     "end_time": "2024-04-04T07:08:26.726139Z",
     "start_time": "2024-04-04T07:08:26.722298Z"
    }
   },
   "id": "9ce3189d62f44435",
   "execution_count": 29
  },
  {
   "cell_type": "code",
   "outputs": [
    {
     "data": {
      "text/plain": "                                                Image  Prediction  True Label  \\\n0     easyval_videos/yellow/img2_12_9_11_sequence.npy         1.0         1.0   \n1   easyval_videos/blue/img_8_12_16_equalized_sequ...         1.0         0.0   \n2        easyval_videos/blue/img_5_10_46_sequence.npy         1.0         0.0   \n3         easyval_videos/blue/img2_6_8_0_sequence.npy         1.0         0.0   \n4      easyval_videos/yellow/img2_12_6_2_sequence.npy         1.0         1.0   \n..                                                ...         ...         ...   \n59     easyval_videos/yellow/img_16_12_8_sequence.npy         1.0         1.0   \n60      easyval_videos/yellow/img_8_6_32_sequence.npy         1.0         1.0   \n61  easyval_videos/yellow/img2_6_4_14_equalized_se...         1.0         1.0   \n62      easyval_videos/yellow/img_8_4_43_sequence.npy         1.0         1.0   \n63  easyval_videos/yellow/img_15_10_43_equalized_s...         1.0         1.0   \n\n    Correct Prediction yellow blue  weber_ratio  \n0                    1     12    9     1.333333  \n1                    0      8   12     1.500000  \n2                    0      5   10     2.000000  \n3                    0      6    8     1.333333  \n4                    1     12    6     2.000000  \n..                 ...    ...  ...          ...  \n59                   1     16   12     1.333333  \n60                   1      8    6     1.333333  \n61                   1      6    4     1.500000  \n62                   1      8    4     2.000000  \n63                   1     15   10     1.500000  \n\n[128 rows x 7 columns]",
      "text/html": "<div>\n<style scoped>\n    .dataframe tbody tr th:only-of-type {\n        vertical-align: middle;\n    }\n\n    .dataframe tbody tr th {\n        vertical-align: top;\n    }\n\n    .dataframe thead th {\n        text-align: right;\n    }\n</style>\n<table border=\"1\" class=\"dataframe\">\n  <thead>\n    <tr style=\"text-align: right;\">\n      <th></th>\n      <th>Image</th>\n      <th>Prediction</th>\n      <th>True Label</th>\n      <th>Correct Prediction</th>\n      <th>yellow</th>\n      <th>blue</th>\n      <th>weber_ratio</th>\n    </tr>\n  </thead>\n  <tbody>\n    <tr>\n      <th>0</th>\n      <td>easyval_videos/yellow/img2_12_9_11_sequence.npy</td>\n      <td>1.0</td>\n      <td>1.0</td>\n      <td>1</td>\n      <td>12</td>\n      <td>9</td>\n      <td>1.333333</td>\n    </tr>\n    <tr>\n      <th>1</th>\n      <td>easyval_videos/blue/img_8_12_16_equalized_sequ...</td>\n      <td>1.0</td>\n      <td>0.0</td>\n      <td>0</td>\n      <td>8</td>\n      <td>12</td>\n      <td>1.500000</td>\n    </tr>\n    <tr>\n      <th>2</th>\n      <td>easyval_videos/blue/img_5_10_46_sequence.npy</td>\n      <td>1.0</td>\n      <td>0.0</td>\n      <td>0</td>\n      <td>5</td>\n      <td>10</td>\n      <td>2.000000</td>\n    </tr>\n    <tr>\n      <th>3</th>\n      <td>easyval_videos/blue/img2_6_8_0_sequence.npy</td>\n      <td>1.0</td>\n      <td>0.0</td>\n      <td>0</td>\n      <td>6</td>\n      <td>8</td>\n      <td>1.333333</td>\n    </tr>\n    <tr>\n      <th>4</th>\n      <td>easyval_videos/yellow/img2_12_6_2_sequence.npy</td>\n      <td>1.0</td>\n      <td>1.0</td>\n      <td>1</td>\n      <td>12</td>\n      <td>6</td>\n      <td>2.000000</td>\n    </tr>\n    <tr>\n      <th>...</th>\n      <td>...</td>\n      <td>...</td>\n      <td>...</td>\n      <td>...</td>\n      <td>...</td>\n      <td>...</td>\n      <td>...</td>\n    </tr>\n    <tr>\n      <th>59</th>\n      <td>easyval_videos/yellow/img_16_12_8_sequence.npy</td>\n      <td>1.0</td>\n      <td>1.0</td>\n      <td>1</td>\n      <td>16</td>\n      <td>12</td>\n      <td>1.333333</td>\n    </tr>\n    <tr>\n      <th>60</th>\n      <td>easyval_videos/yellow/img_8_6_32_sequence.npy</td>\n      <td>1.0</td>\n      <td>1.0</td>\n      <td>1</td>\n      <td>8</td>\n      <td>6</td>\n      <td>1.333333</td>\n    </tr>\n    <tr>\n      <th>61</th>\n      <td>easyval_videos/yellow/img2_6_4_14_equalized_se...</td>\n      <td>1.0</td>\n      <td>1.0</td>\n      <td>1</td>\n      <td>6</td>\n      <td>4</td>\n      <td>1.500000</td>\n    </tr>\n    <tr>\n      <th>62</th>\n      <td>easyval_videos/yellow/img_8_4_43_sequence.npy</td>\n      <td>1.0</td>\n      <td>1.0</td>\n      <td>1</td>\n      <td>8</td>\n      <td>4</td>\n      <td>2.000000</td>\n    </tr>\n    <tr>\n      <th>63</th>\n      <td>easyval_videos/yellow/img_15_10_43_equalized_s...</td>\n      <td>1.0</td>\n      <td>1.0</td>\n      <td>1</td>\n      <td>15</td>\n      <td>10</td>\n      <td>1.500000</td>\n    </tr>\n  </tbody>\n</table>\n<p>128 rows × 7 columns</p>\n</div>"
     },
     "execution_count": 28,
     "metadata": {},
     "output_type": "execute_result"
    }
   ],
   "source": [
    "validation_results"
   ],
   "metadata": {
    "collapsed": false,
    "ExecuteTime": {
     "end_time": "2024-04-04T07:05:36.850790Z",
     "start_time": "2024-04-04T07:05:36.839535Z"
    }
   },
   "id": "a76fabbfd80cf133",
   "execution_count": 28
  },
  {
   "cell_type": "code",
   "outputs": [
    {
     "name": "stdout",
     "output_type": "stream",
     "text": [
      "---------------------------------------------------------------------------\n",
      "          Layer (type)         Input Shape         Param #     Tr. Param #\n",
      "===========================================================================\n",
      "              Conv2d-1     [1, 34, 31, 31]           4,912           4,912\n",
      "         BatchNorm2d-2     [1, 16, 31, 31]              32              32\n",
      "             Dropout-3     [1, 16, 15, 15]               0               0\n",
      "              Conv2d-4     [1, 16, 15, 15]           4,640           4,640\n",
      "         BatchNorm2d-5     [1, 32, 15, 15]              64              64\n",
      "              Conv2d-6       [1, 32, 7, 7]          18,496          18,496\n",
      "         BatchNorm2d-7       [1, 64, 7, 7]             128             128\n",
      "   AdaptiveAvgPool2d-8       [1, 64, 3, 3]               0               0\n",
      "              Linear-9             [1, 64]              65              65\n",
      "===========================================================================\n",
      "Total params: 28,337\n",
      "Trainable params: 28,337\n",
      "Non-trainable params: 0\n",
      "---------------------------------------------------------------------------\n"
     ]
    }
   ],
   "source": [
    "from pytorch_model_summary import summary\n",
    "\n",
    "print(summary(DecodingImagesCNN(), torch.zeros((1, 34, 31, 31)), show_input=True))"
   ],
   "metadata": {
    "collapsed": false,
    "ExecuteTime": {
     "end_time": "2024-04-03T13:25:28.370784Z",
     "start_time": "2024-04-03T13:25:28.343060Z"
    }
   },
   "id": "fd691e219cd4632",
   "execution_count": 9
  },
  {
   "cell_type": "code",
   "outputs": [
    {
     "data": {
      "text/plain": "tensor([False, False, False, False, False, False, False, False, False, False,\n        False, False, False, False, False, False, False, False, False, False,\n        False, False, False, False, False, False, False, False, False, False,\n        False, False, False, False, False, False, False, False, False, False,\n        False, False, False, False, False, False, False, False, False, False,\n        False, False, False, False, False, False, False, False, False, False,\n        False, False, False, False])"
     },
     "execution_count": 12,
     "metadata": {},
     "output_type": "execute_result"
    }
   ],
   "source": [
    "predictions"
   ],
   "metadata": {
    "collapsed": false,
    "ExecuteTime": {
     "end_time": "2024-04-04T06:26:07.454093Z",
     "start_time": "2024-04-04T06:26:07.447163Z"
    }
   },
   "id": "e8bf63711b8dc35f",
   "execution_count": 12
  },
  {
   "cell_type": "code",
   "outputs": [],
   "source": [],
   "metadata": {
    "collapsed": false
   },
   "id": "37944a092e7d3e4d"
  }
 ],
 "metadata": {
  "kernelspec": {
   "display_name": "Python 3",
   "language": "python",
   "name": "python3"
  },
  "language_info": {
   "codemirror_mode": {
    "name": "ipython",
    "version": 2
   },
   "file_extension": ".py",
   "mimetype": "text/x-python",
   "name": "python",
   "nbconvert_exporter": "python",
   "pygments_lexer": "ipython2",
   "version": "2.7.6"
  }
 },
 "nbformat": 4,
 "nbformat_minor": 5
}
