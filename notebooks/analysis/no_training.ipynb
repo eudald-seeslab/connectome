{
 "cells": [
  {
   "cell_type": "code",
   "metadata": {},
   "source": [
    "import torch\n",
    "import pandas as pd\n",
    "from scripts.no_training import (\n",
    "    sample_images,\n",
    "    predict_images,\n",
    "    process_points_results, \n",
    "    log_results, \n",
    "    get_data, \n",
    "    process_shapes_results,\n",
    "    predict_images_without_deciding\n",
    ")\n",
    "\n",
    "%matplotlib inline\n",
    "import seaborn as sns\n",
    "blue_yellow = [\"#FFD700\", \"#0000FF\"]\n",
    "# blue_yellow.reverse()\n",
    "sns.set_palette(blue_yellow)\n",
    "\n",
    "device = torch.device(\"cpu\")\n",
    "dtype = torch.float32\n",
    "\n",
    "num_passes = 4\n",
    "pairs_num = 100"
   ],
   "outputs": [],
   "execution_count": null
  },
  {
   "cell_type": "code",
   "metadata": {},
   "source": [
    "connections, shuffled_connections, all_neurons, neuron_data, all_coords = get_data()\n",
    "neurons_in_coords = all_neurons.merge(all_coords, on=\"root_id\", how=\"right\")[\n",
    "    [\"root_id\", \"cell_type\"]\n",
    "].fillna(\"Unknown\")\n",
    "\n",
    "# Set all cell_types with less than \"20\" samples to \"others\"\n",
    "n = 20\n",
    "\n",
    "counts = neurons_in_coords[\"cell_type\"].value_counts()\n",
    "\n",
    "small_categories = counts[counts < n].index\n",
    "neurons_in_coords[\"cell_type\"] = neurons_in_coords[\"cell_type\"].apply(\n",
    "    lambda x: \"others\" if x in small_categories else x\n",
    ")"
   ],
   "outputs": [],
   "execution_count": null
  },
  {
   "cell_type": "code",
   "metadata": {},
   "source": [
    "base_dir = \"images/zero_to_five/train\"\n",
    "sub_dirs = [\"yellow\", \"blue\"]\n",
    "sampled_images = sample_images(base_dir, sub_dirs, pairs_num)"
   ],
   "outputs": [],
   "execution_count": null
  },
  {
   "cell_type": "code",
   "metadata": {},
   "source": [
    "predictions = predict_images_without_deciding(\n",
    "    sampled_images, neuron_data, connections, all_coords, num_passes\n",
    ")\n",
    "predictions[\"cell_type\"] = neurons_in_coords[\"cell_type\"]"
   ],
   "outputs": [],
   "execution_count": null
  },
  {
   "cell_type": "code",
   "metadata": {},
   "source": [
    "means = pd.DataFrame(predictions.groupby(\"cell_type\").mean()).T\n",
    "means[\"num_points\"] = [int(a.split(\"_\")[1]) + int(a.split(\"_\")[2]) for a in means.index]"
   ],
   "outputs": [],
   "execution_count": null
  },
  {
   "cell_type": "code",
   "metadata": {},
   "source": [
    "# take the correlation of each column with \"num_points\"\n",
    "correlations = means.corr()[\"num_points\"].sort_values(ascending=False)"
   ],
   "outputs": [],
   "execution_count": null
  },
  {
   "cell_type": "code",
   "metadata": {},
   "source": [
    "correlations"
   ],
   "outputs": [],
   "execution_count": null
  },
  {
   "cell_type": "code",
   "metadata": {},
   "source": [
    "# predictions = predictions.drop(columns=[\"cell_type\"])\n",
    "df = predictions.T\n",
    "df[\"num_points\"] = [int(a.split(\"_\")[1]) + int(a.split(\"_\")[2]) for a in df.index]"
   ],
   "outputs": [],
   "execution_count": null
  },
  {
   "cell_type": "code",
   "metadata": {},
   "source": [
    "means = df.groupby(\"num_points\").mean()\n",
    "# normalize all columns to 0-1\n",
    "means = (means - means.min()) / (means.max() - means.min())\n",
    "# remove columns with missing data\n",
    "means = means.dropna(axis=1)"
   ],
   "outputs": [],
   "execution_count": null
  },
  {
   "cell_type": "code",
   "metadata": {},
   "source": [
    "means[\"one_tuning_curve\"] = [1, 0.4, 0.3, 0.2, 0.1]"
   ],
   "outputs": [],
   "execution_count": null
  },
  {
   "cell_type": "code",
   "metadata": {},
   "source": [
    "# get only columns where the first row is the biggest\n",
    "temp = means.T\n",
    "temp[temp[1] == temp.max(axis=1)]"
   ],
   "outputs": [],
   "execution_count": null
  },
  {
   "cell_type": "code",
   "metadata": {},
   "source": [
    "correlations = means.corr()[\"one_tuning_curve\"].sort_values(ascending=False)\n",
    "correlations"
   ],
   "outputs": [],
   "execution_count": null
  },
  {
   "cell_type": "markdown",
   "metadata": {},
   "source": [
    "## Shuffling"
   ]
  },
  {
   "cell_type": "code",
   "metadata": {},
   "source": [
    "predictions = predict_images(\n",
    "    sampled_images,\n",
    "    neuron_data,\n",
    "    shuffled_connections,\n",
    "    all_coords,\n",
    "    all_neurons,\n",
    "    num_passes,\n",
    ")"
   ],
   "outputs": [],
   "execution_count": null
  },
  {
   "cell_type": "code",
   "metadata": {},
   "source": [
    "results = process_points_results(predictions)\n",
    "fig, acc = log_results(results, \"points\", shuffled=True)\n",
    "fig"
   ],
   "outputs": [],
   "execution_count": null
  },
  {
   "cell_type": "code",
   "metadata": {},
   "source": [
    "print(f\"accuracy = {acc}\")"
   ],
   "outputs": [],
   "execution_count": null
  },
  {
   "cell_type": "markdown",
   "metadata": {},
   "source": [
    "# With shapes"
   ]
  },
  {
   "cell_type": "code",
   "metadata": {},
   "source": [
    "base_dir = \"images/black_blue_80_110_jitter/train/two_shapes\"\n",
    "sub_dirs = [\"circle\", \"triangle\"]\n",
    "\n",
    "sampled_images = sample_images(base_dir, sub_dirs, pairs_num)\n",
    "predictions = predict_images(\n",
    "    sampled_images, neuron_data, connections, all_coords, all_neurons, num_passes\n",
    ")"
   ],
   "outputs": [],
   "execution_count": null
  },
  {
   "cell_type": "code",
   "metadata": {},
   "source": [
    "results = process_shapes_results(predictions, sampled_images)\n",
    "fig, acc = log_results(results, \"shapes\")"
   ],
   "outputs": [],
   "execution_count": null
  },
  {
   "cell_type": "code",
   "metadata": {},
   "source": [
    "fig"
   ],
   "outputs": [],
   "execution_count": null
  },
  {
   "cell_type": "code",
   "metadata": {},
   "source": [
    "print(f\"accuracy = {acc}\")"
   ],
   "outputs": [],
   "execution_count": null
  },
  {
   "cell_type": "markdown",
   "metadata": {},
   "source": [
    "# Reshuffle de pesos"
   ]
  },
  {
   "cell_type": "code",
   "metadata": {},
   "source": [
    "predictions = predict_images(\n",
    "    sampled_images, neuron_data, shuffled_connections, all_coords, all_neurons, num_passes\n",
    ")"
   ],
   "outputs": [],
   "execution_count": null
  },
  {
   "cell_type": "code",
   "metadata": {},
   "source": [
    "results = process_shapes_results(predictions, sampled_images)\n",
    "fig, acc = log_results(results, \"shapes\", shuffled=True)\n",
    "fig"
   ],
   "outputs": [],
   "execution_count": null
  },
  {
   "cell_type": "code",
   "metadata": {},
   "source": [
    "print(f\"accuracy = {acc}\")"
   ],
   "outputs": [],
   "execution_count": null
  },
  {
   "cell_type": "code",
   "metadata": {},
   "source": [
    "import matplotlib.pyplot as plt\n",
    "fig, axes = plt.subplots(1, 2, figsize=(10, 6))"
   ],
   "outputs": [],
   "execution_count": null
  },
  {
   "cell_type": "code",
   "metadata": {},
   "source": [
    "\"_hola\".replace(\"_\", \" \")"
   ],
   "outputs": [],
   "execution_count": null
  },
  {
   "cell_type": "code",
   "metadata": {},
   "source": [],
   "outputs": [],
   "execution_count": null
  }
 ],
 "metadata": {
  "kernelspec": {
   "display_name": "venv",
   "language": "python",
   "name": "python3"
  },
  "language_info": {
   "codemirror_mode": {
    "name": "ipython",
    "version": 3
   },
   "file_extension": ".py",
   "mimetype": "text/x-python",
   "name": "python",
   "nbconvert_exporter": "python",
   "pygments_lexer": "ipython3",
   "version": "3.10.12"
  }
 },
 "nbformat": 4,
 "nbformat_minor": 2
}
