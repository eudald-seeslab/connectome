{
 "cells": [
  {
   "cell_type": "code",
   "execution_count": 2,
   "id": "initial_id",
   "metadata": {
    "ExecuteTime": {
     "end_time": "2024-10-07T15:55:39.855100Z",
     "start_time": "2024-10-07T15:55:38.206726Z"
    },
    "collapsed": true
   },
   "outputs": [],
   "source": [
    "import pandas as pd\n",
    "import scipy.sparse as ss\n",
    "\n",
    "from utils import synapses_to_matrix_and_dict"
   ]
  },
  {
   "cell_type": "markdown",
   "id": "34b1966b",
   "metadata": {},
   "source": [
    "# Synaptic matrix and uuid map"
   ]
  },
  {
   "cell_type": "code",
   "execution_count": 8,
   "id": "27e7a2d1923062ea",
   "metadata": {},
   "outputs": [],
   "source": [
    "df = pd.read_feather(\n",
    "    \"new_data/flywire_synapses_783.feather\", \n",
    "    columns = [\"pre_pt_root_id\", \"post_pt_root_id\", \"connection_score\"]\n",
    "    ).rename(\n",
    "        columns={\n",
    "            \"pre_pt_root_id\": \"pre_root_id\", \n",
    "            \"post_pt_root_id\": \"post_root_id\", \n",
    "            \"connection_score\": \"syn_count\"}\n",
    "    )\n",
    "df[\"syn_count\"] = df[\"syn_count\"].astype(int)"
   ]
  },
  {
   "cell_type": "code",
   "execution_count": 19,
   "id": "af1f9820",
   "metadata": {},
   "outputs": [],
   "source": [
    "mm, synapse_dict = synapses_to_matrix_and_dict(df)"
   ]
  },
  {
   "cell_type": "code",
   "execution_count": 22,
   "id": "f61df3ad",
   "metadata": {},
   "outputs": [],
   "source": [
    "ss.save_npz(f\"new_data/new_synaptic_matrix.npz\", mm)\n",
    "pd.DataFrame(synapse_dict.items(), columns=[\"root_id\", \"index\"]).to_csv(\n",
    "        f\"new_data/new_root_id_to_index.csv\", index=False\n",
    "    )"
   ]
  },
  {
   "cell_type": "markdown",
   "id": "49cc24f6",
   "metadata": {},
   "source": [
    "## Grouping connections"
   ]
  },
  {
   "cell_type": "code",
   "execution_count": null,
   "id": "9c695346",
   "metadata": {},
   "outputs": [],
   "source": [
    "# Add synapse counts for repeated pre_root_id and post_root_id pairs\n",
    "df = df.groupby([\"pre_root_id\", \"post_root_id\"]).sum().reset_index()"
   ]
  },
  {
   "cell_type": "code",
   "execution_count": 12,
   "id": "f90eb9ac",
   "metadata": {},
   "outputs": [],
   "source": [
    "mm, synapse_dict = synapses_to_matrix_and_dict(df)\n",
    "ss.save_npz(f\"new_data/new_grouped_synaptic_matrix.npz\", mm)\n",
    "pd.DataFrame(synapse_dict.items(), columns=[\"root_id\", \"index\"]).to_csv(\n",
    "        f\"new_data/new_grouped_root_id_to_index.csv\", index=False\n",
    "    )"
   ]
  },
  {
   "cell_type": "markdown",
   "id": "0439df75",
   "metadata": {},
   "source": [
    "## Only proofread connections"
   ]
  },
  {
   "cell_type": "code",
   "execution_count": 3,
   "id": "573318f7",
   "metadata": {},
   "outputs": [],
   "source": [
    "pc = pd.read_feather(\n",
    "    \"new_data/proofread_connections_783.feather\",\n",
    "        columns = [\"pre_pt_root_id\", \"post_pt_root_id\", \"syn_count\"]\n",
    "    ).rename(\n",
    "        columns={\n",
    "            \"pre_pt_root_id\": \"pre_root_id\", \n",
    "            \"post_pt_root_id\": \"post_root_id\"\n",
    "            }\n",
    "    ).groupby([\"pre_root_id\", \"post_root_id\"]).sum().reset_index()"
   ]
  },
  {
   "cell_type": "code",
   "execution_count": 5,
   "id": "275585df",
   "metadata": {},
   "outputs": [],
   "source": [
    "pc.to_csv(\"new_data/connections.csv\", index=False)"
   ]
  },
  {
   "cell_type": "code",
   "execution_count": 16,
   "id": "a9f6e2df",
   "metadata": {},
   "outputs": [],
   "source": [
    "\n",
    "mm, synapse_dict = synapses_to_matrix_and_dict(pc)\n",
    "ss.save_npz(f\"new_data/proofread_synaptic_matrix.npz\", mm)\n",
    "pd.DataFrame(synapse_dict.items(), columns=[\"root_id\", \"index\"]).to_csv(\n",
    "        f\"new_data/proofread_root_id_to_index.csv\", index=False\n",
    "    )"
   ]
  },
  {
   "cell_type": "markdown",
   "id": "e313a3b4",
   "metadata": {},
   "source": [
    "# Refined proofread synaptic matrix"
   ]
  },
  {
   "cell_type": "code",
   "execution_count": 5,
   "id": "ef30a3ba",
   "metadata": {},
   "outputs": [],
   "source": [
    "import numpy as np\n",
    "\n",
    "rpc = pd.read_feather(\"new_data/proofread_connections_783.feather\")\n",
    "# following https://www-nature-com.sabidi.urv.cat/articles/s41586-024-07763-9,\n",
    "#  \"We assume GABAergic and glutamatergic neurons are inhibitory\" and the rest are excitatory\n",
    "# compute the sum of all the columns ending with \"avg\"\n",
    "rpc[\"syn_count\"] = np.where(\n",
    "    rpc[\"gaba_avg\"] + rpc[\"glut_avg\"] > 0.5, -1 * rpc[\"syn_count\"], rpc[\"syn_count\"]\n",
    ")"
   ]
  },
  {
   "cell_type": "code",
   "execution_count": 7,
   "id": "2182b452",
   "metadata": {},
   "outputs": [],
   "source": [
    "crpc = rpc[[\"post_pt_root_id\", \"pre_pt_root_id\", \"syn_count\"]].rename(\n",
    "    columns={\"pre_pt_root_id\": \"pre_root_id\", \"post_pt_root_id\": \"post_root_id\"}\n",
    ").groupby([\"pre_root_id\", \"post_root_id\"]).sum().reset_index()"
   ]
  },
  {
   "cell_type": "code",
   "execution_count": 9,
   "id": "e8b06b3e",
   "metadata": {},
   "outputs": [],
   "source": [
    "crpc.to_csv(\"new_data/connections_refined.csv\", index=False)"
   ]
  },
  {
   "cell_type": "code",
   "execution_count": 10,
   "id": "1e482baa",
   "metadata": {},
   "outputs": [],
   "source": [
    "mm, synapse_dict = synapses_to_matrix_and_dict(crpc)\n",
    "ss.save_npz(f\"new_data/proofread_refined_synaptic_matrix.npz\", mm)\n",
    "pd.DataFrame(synapse_dict.items(), columns=[\"root_id\", \"index\"]).to_csv(\n",
    "    f\"new_data/proofread_refined_root_id_to_index.csv\", index=False\n",
    ")"
   ]
  },
  {
   "cell_type": "markdown",
   "id": "6fb1fc38",
   "metadata": {},
   "source": [
    "# Use hemibrain type when cell type is missing"
   ]
  },
  {
   "cell_type": "code",
   "execution_count": null,
   "id": "43c17c27",
   "metadata": {},
   "outputs": [],
   "source": [
    "rational_cell_types = pd.read_csv(\"adult_data/rational_cell_types.csv\")\n",
    "all_neurons = pd.read_table(\"new_data/neuron_annotations.tsv\")\n",
    "# If cell_type is NaN, put hemibrain_type in it\n",
    "all_neurons[\"cell_type\"] = all_neurons[\"cell_type\"].fillna(\n",
    "    all_neurons[\"hemibrain_type\"]\n",
    ")\n",
    "all_neurons[\"decision_making\"] = np.where(\n",
    "    all_neurons[\"cell_type\"].isin(rational_cell_types[\"cell_type\"].values.tolist()),\n",
    "    1,\n",
    "    0,\n",
    ")\n",
    "all_neurons[\"root_id\"] = all_neurons[\"root_id\"].astype(\"string\")\n",
    "\n",
    "all_coords = all_neurons[[\"root_id\", \"pos_x\", \"pos_y\", \"pos_z\"]].copy()"
   ]
  },
  {
   "cell_type": "code",
   "execution_count": null,
   "id": "9f0d2e6e",
   "metadata": {},
   "outputs": [
    {
     "name": "stderr",
     "output_type": "stream",
     "text": [
      "/tmp/ipykernel_637363/2102904877.py:1: DtypeWarning: Columns (14,15,16,17,23) have mixed types. Specify dtype option on import or set low_memory=False.\n",
      "  nc = pd.read_table(\"new_data/neuron_annotations.tsv\")\n"
     ]
    }
   ],
   "source": [
    "classification = pd.read_csv(\n",
    "    os.path.join(\"new_data\", \"classification.csv\"),\n",
    "    usecols=[\"root_id\", \"cell_type\", \"side\"],\n",
    "    dtype={\"root_id\": \"string\"},\n",
    ")"
   ]
  },
  {
   "cell_type": "code",
   "execution_count": null,
   "id": "5d8a6d23",
   "metadata": {},
   "outputs": [],
   "source": [
    "# if classification has NaNs, fill them with the cell_type from all_neurons, but note that they don't have the same number of rows, so we need to go by root_id\n",
    "classification = classification.merge(\n",
    "    all_neurons[[\"root_id\", \"cell_type\"]].rename(\n",
    "        columns={\"cell_type\": \"cell_type_clean\"}\n",
    "    ),\n",
    "    on=\"root_id\",\n",
    "    how=\"left\",\n",
    ")\n",
    "classification[\"cell_type\"] = classification[\"cell_type\"].fillna(\n",
    "    classification[\"cell_type_clean\"]\n",
    ")\n",
    "classification = classification.drop(columns=[\"cell_type_clean\"])"
   ]
  },
  {
   "cell_type": "code",
   "execution_count": null,
   "id": "5bda6c33",
   "metadata": {},
   "outputs": [
    {
     "data": {
      "text/plain": [
       "cell_type\n",
       "R1-6       7932\n",
       "Dm3        2545\n",
       "T2a        1781\n",
       "Tm3        1746\n",
       "T4c        1692\n",
       "           ... \n",
       "DNge154       1\n",
       "CB2716        1\n",
       "CB3693        1\n",
       "DNp72         1\n",
       "CB3428        1\n",
       "Name: count, Length: 5634, dtype: int64"
      ]
     },
     "execution_count": 9,
     "metadata": {},
     "output_type": "execute_result"
    }
   ],
   "source": [
    "classification.to_csv(\"new_data/classification.csv\", index=False)"
   ]
  },
  {
   "cell_type": "code",
   "execution_count": null,
   "id": "6f7847f2",
   "metadata": {},
   "outputs": [],
   "source": []
  },
  {
   "cell_type": "code",
   "execution_count": 11,
   "id": "c4eae00e",
   "metadata": {},
   "outputs": [
    {
     "data": {
      "text/html": [
       "<div>\n",
       "<style scoped>\n",
       "    .dataframe tbody tr th:only-of-type {\n",
       "        vertical-align: middle;\n",
       "    }\n",
       "\n",
       "    .dataframe tbody tr th {\n",
       "        vertical-align: top;\n",
       "    }\n",
       "\n",
       "    .dataframe thead th {\n",
       "        text-align: right;\n",
       "    }\n",
       "</style>\n",
       "<table border=\"1\" class=\"dataframe\">\n",
       "  <thead>\n",
       "    <tr style=\"text-align: right;\">\n",
       "      <th></th>\n",
       "      <th>pre_root_id</th>\n",
       "      <th>post_root_id</th>\n",
       "      <th>syn_count</th>\n",
       "    </tr>\n",
       "  </thead>\n",
       "  <tbody>\n",
       "    <tr>\n",
       "      <th>0</th>\n",
       "      <td>720575940379281722</td>\n",
       "      <td>720575940379283258</td>\n",
       "      <td>42</td>\n",
       "    </tr>\n",
       "    <tr>\n",
       "      <th>1</th>\n",
       "      <td>720575940379283482</td>\n",
       "      <td>720575940379282970</td>\n",
       "      <td>30</td>\n",
       "    </tr>\n",
       "    <tr>\n",
       "      <th>2</th>\n",
       "      <td>720575940379283719</td>\n",
       "      <td>720575940609623376</td>\n",
       "      <td>266</td>\n",
       "    </tr>\n",
       "    <tr>\n",
       "      <th>3</th>\n",
       "      <td>720575940379284367</td>\n",
       "      <td>720575940601751816</td>\n",
       "      <td>151</td>\n",
       "    </tr>\n",
       "    <tr>\n",
       "      <th>4</th>\n",
       "      <td>720575940379284367</td>\n",
       "      <td>720575940614275070</td>\n",
       "      <td>550</td>\n",
       "    </tr>\n",
       "    <tr>\n",
       "      <th>...</th>\n",
       "      <td>...</td>\n",
       "      <td>...</td>\n",
       "      <td>...</td>\n",
       "    </tr>\n",
       "    <tr>\n",
       "      <th>76460809</th>\n",
       "      <td>720575940661339009</td>\n",
       "      <td>720575940629746038</td>\n",
       "      <td>61</td>\n",
       "    </tr>\n",
       "    <tr>\n",
       "      <th>76460810</th>\n",
       "      <td>720575940661339777</td>\n",
       "      <td>720575940427732749</td>\n",
       "      <td>18</td>\n",
       "    </tr>\n",
       "    <tr>\n",
       "      <th>76460811</th>\n",
       "      <td>720575940661339777</td>\n",
       "      <td>720575940433957960</td>\n",
       "      <td>126</td>\n",
       "    </tr>\n",
       "    <tr>\n",
       "      <th>76460812</th>\n",
       "      <td>720575940661339777</td>\n",
       "      <td>720575940616982614</td>\n",
       "      <td>391</td>\n",
       "    </tr>\n",
       "    <tr>\n",
       "      <th>76460813</th>\n",
       "      <td>720575940661339777</td>\n",
       "      <td>720575940627311491</td>\n",
       "      <td>271</td>\n",
       "    </tr>\n",
       "  </tbody>\n",
       "</table>\n",
       "<p>76460814 rows × 3 columns</p>\n",
       "</div>"
      ],
      "text/plain": [
       "                 pre_root_id        post_root_id  syn_count\n",
       "0         720575940379281722  720575940379283258         42\n",
       "1         720575940379283482  720575940379282970         30\n",
       "2         720575940379283719  720575940609623376        266\n",
       "3         720575940379284367  720575940601751816        151\n",
       "4         720575940379284367  720575940614275070        550\n",
       "...                      ...                 ...        ...\n",
       "76460809  720575940661339009  720575940629746038         61\n",
       "76460810  720575940661339777  720575940427732749         18\n",
       "76460811  720575940661339777  720575940433957960        126\n",
       "76460812  720575940661339777  720575940616982614        391\n",
       "76460813  720575940661339777  720575940627311491        271\n",
       "\n",
       "[76460814 rows x 3 columns]"
      ]
     },
     "execution_count": 11,
     "metadata": {},
     "output_type": "execute_result"
    }
   ],
   "source": [
    "df"
   ]
  },
  {
   "cell_type": "code",
   "execution_count": null,
   "id": "90802c53",
   "metadata": {},
   "outputs": [],
   "source": []
  }
 ],
 "metadata": {
  "kernelspec": {
   "display_name": "venv",
   "language": "python",
   "name": "python3"
  },
  "language_info": {
   "codemirror_mode": {
    "name": "ipython",
    "version": 3
   },
   "file_extension": ".py",
   "mimetype": "text/x-python",
   "name": "python",
   "nbconvert_exporter": "python",
   "pygments_lexer": "ipython3",
   "version": "3.12.3"
  }
 },
 "nbformat": 4,
 "nbformat_minor": 5
}
