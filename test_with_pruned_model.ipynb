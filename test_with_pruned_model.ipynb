{
 "cells": [
  {
   "cell_type": "code",
   "execution_count": 1,
   "metadata": {},
   "outputs": [],
   "source": [
    "%matplotlib inline\n",
    "import torch\n",
    "import numpy as np\n",
    "import matplotlib.pyplot as plt\n",
    "from torch.nn import CrossEntropyLoss\n",
    "import torch.nn.utils.prune as prune\n",
    "from tqdm import tqdm\n",
    "import copy\n",
    "\n",
    "import config\n",
    "from graph_models import FullGraphModel\n",
    "from data_processing import DataProcessor\n",
    "from utils import (\n",
    "    get_image_paths, initialize_results_df, get_iteration_number,\n",
    "    select_random_images, clean_model_outputs, update_results_df, update_running_loss\n",
    ")\n",
    "from plots import guess_your_plots, plot_results\n",
    "\n",
    "device_type = \"cpu\"\n",
    "device = torch.device(device_type)\n",
    "dtype = torch.float32\n",
    "cmap = plt.cm.binary\n",
    "\n",
    "batch_size = config.batch_size"
   ]
  },
  {
   "cell_type": "code",
   "execution_count": 2,
   "metadata": {},
   "outputs": [],
   "source": [
    "data_processor = DataProcessor(config)\n",
    "model = FullGraphModel(data_processor, config).to(device)\n",
    "criterion = CrossEntropyLoss()"
   ]
  },
  {
   "cell_type": "code",
   "execution_count": 3,
   "metadata": {},
   "outputs": [],
   "source": [
    "def correct_test_results(test_results):\n",
    "    # There was a bug in how we get the classes, and the 0-1 labels can be flipped\n",
    "    # This function corrects the labels if the accuracy is below 0.5\n",
    "    flipped = False\n",
    "    if test_results[\"Is correct\"].sum() / len(test_results) < 0.5:\n",
    "        test_results[\"Is correct\"] = np.abs(test_results[\"Is correct\"] - 1)\n",
    "        flipped = True\n",
    "\n",
    "    return test_results, flipped\n",
    "\n",
    "# test\n",
    "def test(model):\n",
    "    testing_images = get_image_paths(config.TESTING_DATA_DIR, config.small_length)\n",
    "    already_selected_testing = []\n",
    "    total_correct, total, running_loss = 0, 0, 0.0\n",
    "    test_results = initialize_results_df()\n",
    "\n",
    "    model.eval()\n",
    "    iterations = get_iteration_number(len(testing_images), config)\n",
    "    with torch.no_grad():\n",
    "        for _ in tqdm(range(iterations)):\n",
    "            batch_files, already_selected_testing = select_random_images(\n",
    "                testing_images, batch_size, already_selected_testing\n",
    "            )\n",
    "            images, labels = data_processor.get_data_from_paths(batch_files)\n",
    "            inputs, labels = data_processor.process_batch(images, labels)\n",
    "            inputs = inputs.to(config.DEVICE)\n",
    "            labels = labels.to(config.DEVICE)\n",
    "\n",
    "            out = model(inputs)\n",
    "            loss = criterion(out, labels)\n",
    "\n",
    "            outputs, predictions, labels_cpu, correct = clean_model_outputs(out, labels)\n",
    "            test_results = update_results_df(\n",
    "                test_results, batch_files, outputs, predictions, labels_cpu, correct\n",
    "            )\n",
    "            running_loss += update_running_loss(loss, inputs)\n",
    "            total += batch_size\n",
    "            total_correct += correct.sum()\n",
    "\n",
    "    test_results, flipped = correct_test_results(test_results)\n",
    "    plot_types = guess_your_plots(config)\n",
    "    final_plots = plot_results(\n",
    "        test_results, plot_types=plot_types, classes=config.CLASSES\n",
    "    )\n",
    "\n",
    "    print(\n",
    "        f\"Finished testing with loss {running_loss / total} and \"\n",
    "        f\"accuracy {total_correct / total}.\"\n",
    "    )\n",
    "\n",
    "    return test_results, final_plots, total_correct / total, flipped"
   ]
  },
  {
   "cell_type": "code",
   "execution_count": 4,
   "metadata": {},
   "outputs": [
    {
     "name": "stderr",
     "output_type": "stream",
     "text": [
      "/tmp/ipykernel_3503981/1497078870.py:1: FutureWarning: You are using `torch.load` with `weights_only=False` (the current default value), which uses the default pickle module implicitly. It is possible to construct malicious pickle data which will execute arbitrary code during unpickling (See https://github.com/pytorch/pytorch/blob/main/SECURITY.md#untrusted-models for more details). In a future release, the default value for `weights_only` will be flipped to `True`. This limits the functions that could be executed during unpickling. Arbitrary objects will no longer be allowed to be loaded via this mode unless they are explicitly allowlisted by the user via `torch.serialization.add_safe_globals`. We recommend you start setting `weights_only=True` for any use case where you don't have full control of the loaded file. Please open an issue on GitHub for any issues related to this experimental feature.\n",
      "  checkpoint = torch.load(\n"
     ]
    }
   ],
   "source": [
    "checkpoint = torch.load(\n",
    "    \"models/m_2025-02-04 09:29_gz6c68e6.pth\",\n",
    "    map_location=device_type,\n",
    ")\n",
    "model.load_state_dict(checkpoint[\"model\"])\n",
    "torch.set_grad_enabled(False)\n",
    "model.eval()\n",
    "model_orig = copy.deepcopy(model)"
   ]
  },
  {
   "cell_type": "code",
   "execution_count": null,
   "metadata": {},
   "outputs": [
    {
     "name": "stderr",
     "output_type": "stream",
     "text": [
      "100%|██████████| 625/625 [2:21:47<00:00, 13.61s/it]  \n"
     ]
    },
    {
     "name": "stdout",
     "output_type": "stream",
     "text": [
      "Finished testing with loss 77125.26727885967 and accuracy 0.6766.\n"
     ]
    },
    {
     "name": "stderr",
     "output_type": "stream",
     "text": [
      "100%|██████████| 625/625 [2:22:04<00:00, 13.64s/it]  \n"
     ]
    },
    {
     "name": "stdout",
     "output_type": "stream",
     "text": [
      "Finished testing with loss 88387.08613773866 and accuracy 0.6604.\n"
     ]
    },
    {
     "name": "stderr",
     "output_type": "stream",
     "text": [
      "100%|██████████| 625/625 [2:23:52<00:00, 13.81s/it]  \n"
     ]
    },
    {
     "name": "stdout",
     "output_type": "stream",
     "text": [
      "Finished testing with loss 107169.39247621092 and accuracy 0.5772.\n"
     ]
    },
    {
     "name": "stderr",
     "output_type": "stream",
     "text": [
      "100%|██████████| 625/625 [2:25:54<00:00, 14.01s/it]  \n"
     ]
    },
    {
     "name": "stdout",
     "output_type": "stream",
     "text": [
      "Finished testing with loss 110475.29976554518 and accuracy 0.5898.\n"
     ]
    },
    {
     "name": "stderr",
     "output_type": "stream",
     "text": [
      "100%|██████████| 625/625 [2:16:59<00:00, 13.15s/it]  \n"
     ]
    },
    {
     "name": "stdout",
     "output_type": "stream",
     "text": [
      "Finished testing with loss 117741.67979519577 and accuracy 0.5397.\n"
     ]
    },
    {
     "name": "stderr",
     "output_type": "stream",
     "text": [
      " 20%|█▉        | 123/625 [23:20<2:01:11, 14.48s/it]"
     ]
    }
   ],
   "source": [
    "results = {}\n",
    "for ix, p in enumerate(np.linspace(0, 1, 11)):\n",
    "    model = copy.deepcopy(model_orig)\n",
    "    prune.random_unstructured(\n",
    "        model.connectome, name=\"edge_weight_multiplier\", amount=p\n",
    "    )\n",
    "    test_results, final_plots, accuracy, flipped = test(model)\n",
    "    results[f\"prune_{ix}\"] = {\n",
    "        \"prune_frac\": p,\n",
    "        \"test_results\": test_results,\n",
    "        \"final_plots\": final_plots,\n",
    "        \"accuracy\": accuracy,\n",
    "        \"flipped\": flipped,\n",
    "    }"
   ]
  },
  {
   "cell_type": "code",
   "execution_count": 9,
   "metadata": {},
   "outputs": [],
   "source": [
    "import pandas as pd\n",
    "pa = pd.DataFrame({\"prune_frac\": [r[\"prune_frac\"] for r in results.values()], \"accuracy\": [r[\"accuracy\"] for r in results.values()]})"
   ]
  },
  {
   "cell_type": "code",
   "execution_count": 10,
   "metadata": {},
   "outputs": [
    {
     "data": {
      "image/png": "[encoded data removed]",
      "text/plain": [
       "<Figure size 1000x600 with 1 Axes>"
      ]
     },
     "metadata": {},
     "output_type": "display_data"
    }
   ],
   "source": [
    "%matplotlib inline\n",
    "import seaborn as sns\n",
    "\n",
    "fig = plt.figure(figsize=(10, 6))\n",
    "sns.lineplot(data=pa, x=\"prune_frac\", y=\"accuracy\")\n",
    "plt.show()"
   ]
  },
  {
   "cell_type": "code",
   "execution_count": null,
   "metadata": {},
   "outputs": [],
   "source": [
    "pa.to_csv(\"supplementary_data/prune_random_ture.csv\", index=False)"
   ]
  },
  {
   "cell_type": "code",
   "execution_count": null,
   "metadata": {},
   "outputs": [],
   "source": []
  }
 ],
 "metadata": {
  "kernelspec": {
   "display_name": "venv",
   "language": "python",
   "name": "python3"
  },
  "language_info": {
   "codemirror_mode": {
    "name": "ipython",
    "version": 3
   },
   "file_extension": ".py",
   "mimetype": "text/x-python",
   "name": "python",
   "nbconvert_exporter": "python",
   "pygments_lexer": "ipython3",
   "version": "3.12.3"
  }
 },
 "nbformat": 4,
 "nbformat_minor": 2
}
