{
 "cells": [
  {
   "cell_type": "code",
   "execution_count": 1,
   "id": "initial_id",
   "metadata": {
    "collapsed": true,
    "ExecuteTime": {
     "end_time": "2024-01-19T11:22:06.120095872Z",
     "start_time": "2024-01-19T11:22:04.970696831Z"
    }
   },
   "outputs": [],
   "source": [
    "import os\n",
    "import numpy as np\n",
    "import torch\n",
    "from temporal_convolutional import TemporalConvNet\n",
    "\n",
    "device = torch.device(\"cuda:0\" if torch.cuda.is_available() else \"cpu\")"
   ]
  },
  {
   "cell_type": "code",
   "outputs": [],
   "source": [
    "activations_dir = \"../flyvis/parsed_objects\"\n",
    "activations = np.load(os.path.join(activations_dir, \"decoding_activations.npy\"), allow_pickle=True)\n",
    "\n",
    "tmy18 = torch.stack([torch.swapaxes(a[\"TmY18\"], 1, 2).squeeze(0) for a in activations]).to(device)"
   ],
   "metadata": {
    "collapsed": false,
    "ExecuteTime": {
     "end_time": "2024-01-19T11:22:07.836969883Z",
     "start_time": "2024-01-19T11:22:06.122093472Z"
    }
   },
   "id": "a1466ccb6d444b07",
   "execution_count": 2
  },
  {
   "cell_type": "code",
   "outputs": [
    {
     "name": "stdout",
     "output_type": "stream",
     "text": [
      "torch.Size([100, 225])\n"
     ]
    }
   ],
   "source": [
    "num_inputs = 721  # Number of input features\n",
    "num_outputs = 225  # Number of output features (number of real cells)\n",
    "num_channels = [100, 100, 100]  # Example: 3 layers with 100 channels each\n",
    "\n",
    "model = TemporalConvNet(num_inputs, num_channels, num_outputs, kernel_size=2, dropout=0.2).to(device)\n",
    "\n",
    "output = model(tmy18)\n",
    "print(output.shape)  # Should be torch.Size([1, 100, 84])\n"
   ],
   "metadata": {
    "collapsed": false,
    "ExecuteTime": {
     "end_time": "2024-01-19T08:59:01.434332155Z",
     "start_time": "2024-01-19T08:59:00.896459820Z"
    }
   },
   "id": "a75b1f381636fa43",
   "execution_count": 3
  },
  {
   "cell_type": "code",
   "outputs": [
    {
     "data": {
      "text/plain": "torch.Size([100, 721, 84])"
     },
     "execution_count": 3,
     "metadata": {},
     "output_type": "execute_result"
    }
   ],
   "source": [
    "tmy18.shape"
   ],
   "metadata": {
    "collapsed": false,
    "ExecuteTime": {
     "end_time": "2024-01-19T11:22:15.875030885Z",
     "start_time": "2024-01-19T11:22:15.868783842Z"
    }
   },
   "id": "7003c65606434a5a",
   "execution_count": 3
  },
  {
   "cell_type": "code",
   "outputs": [],
   "source": [
    "from utils import flush_cuda_memory\n",
    "\n",
    "flush_cuda_memory()"
   ],
   "metadata": {
    "collapsed": false,
    "ExecuteTime": {
     "end_time": "2024-01-19T11:20:35.386269636Z",
     "start_time": "2024-01-19T11:20:34.470627453Z"
    }
   },
   "id": "a8be48cd387c6e68",
   "execution_count": 3
  },
  {
   "cell_type": "code",
   "outputs": [],
   "source": [],
   "metadata": {
    "collapsed": false
   },
   "id": "f639257dab42eed3"
  }
 ],
 "metadata": {
  "kernelspec": {
   "display_name": "Python 3",
   "language": "python",
   "name": "python3"
  },
  "language_info": {
   "codemirror_mode": {
    "name": "ipython",
    "version": 2
   },
   "file_extension": ".py",
   "mimetype": "text/x-python",
   "name": "python",
   "nbconvert_exporter": "python",
   "pygments_lexer": "ipython2",
   "version": "2.7.6"
  }
 },
 "nbformat": 4,
 "nbformat_minor": 5
}
