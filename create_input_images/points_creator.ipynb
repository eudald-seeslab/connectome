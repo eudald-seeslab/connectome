{
 "cells": [
  {
   "cell_type": "code",
   "execution_count": 14,
   "metadata": {
    "ExecuteTime": {
     "end_time": "2024-04-08T07:10:10.917514Z",
     "start_time": "2024-04-08T07:10:10.910166Z"
    },
    "collapsed": true
   },
   "outputs": [],
   "source": [
    "import os\n",
    "\n",
    "from PIL import Image\n",
    "from points import NumberPoints\n",
    "import random\n",
    "from tqdm import tqdm"
   ]
  },
  {
   "cell_type": "code",
   "execution_count": 23,
   "metadata": {
    "ExecuteTime": {
     "end_time": "2024-04-08T07:34:51.380811Z",
     "start_time": "2024-04-08T07:34:51.378246Z"
    }
   },
   "outputs": [],
   "source": [
    "EASY = True\n",
    "IMAGE_SET_NUM = 10\n",
    "colour_1 = \"yellow\"\n",
    "colour_2 = \"blue\""
   ]
  },
  {
   "cell_type": "code",
   "execution_count": 16,
   "metadata": {
    "ExecuteTime": {
     "end_time": "2024-04-08T07:10:11.991995Z",
     "start_time": "2024-04-08T07:10:11.987224Z"
    },
    "collapsed": false,
    "pycharm": {
     "name": "#%%\n"
    }
   },
   "outputs": [],
   "source": [
    "random.seed(1714)\n",
    "\n",
    "# constants\n",
    "boundary_width = 5\n",
    "background_colour = \"#808080\"\n",
    "yellow = \"#fffe04\"\n",
    "blue = \"#0003f9\"\n",
    "point_sep = 20\n",
    "min_point_radius = 8\n",
    "max_point_radius = 16\n",
    "init_size = 512\n",
    "mode = \"RGB\"\n",
    "\n",
    "IMG_DIR = \"../images/output_pngs\"\n",
    "os.makedirs(IMG_DIR, exist_ok=True)\n",
    "os.makedirs(os.path.join(IMG_DIR, colour_1), exist_ok=True)\n",
    "os.makedirs(os.path.join(IMG_DIR, colour_2), exist_ok=True)"
   ]
  },
  {
   "cell_type": "code",
   "execution_count": 17,
   "metadata": {
    "ExecuteTime": {
     "end_time": "2024-04-08T07:10:14.223969Z",
     "start_time": "2024-04-08T07:10:14.219752Z"
    },
    "collapsed": false,
    "pycharm": {
     "name": "#%%\n"
    }
   },
   "outputs": [],
   "source": [
    "# halberda point num and ratios\n",
    "min_point_num = 4\n",
    "max_point_num = 16\n",
    "ratios = [2 / 5, 1 / 2, 2 / 3, 3 / 4]\n",
    "if not EASY:\n",
    "    ratios += [4 / 5, 5 / 6, 7 / 8, 8 / 9, 9 / 10, 10 / 11, 11 / 12]"
   ]
  },
  {
   "cell_type": "code",
   "execution_count": 18,
   "metadata": {
    "ExecuteTime": {
     "end_time": "2024-04-08T07:10:16.031935Z",
     "start_time": "2024-04-08T07:10:16.026656Z"
    },
    "collapsed": false,
    "pycharm": {
     "name": "#%%\n"
    }
   },
   "outputs": [],
   "source": [
    "p = [[(b, int(b / a)) for a in ratios if max_point_num >= b / a == round(b / a)] for b in range(min_point_num, max_point_num + 1)]\n",
    "pos = [item for sublist in p for item in sublist]"
   ]
  },
  {
   "cell_type": "code",
   "execution_count": 24,
   "metadata": {
    "ExecuteTime": {
     "end_time": "2024-04-08T07:35:02.704005Z",
     "start_time": "2024-04-08T07:35:02.699244Z"
    },
    "collapsed": false,
    "pycharm": {
     "name": "#%%\n"
    }
   },
   "outputs": [],
   "source": [
    "def create_image(n1, n2, equalized):\n",
    "    img = Image.new(mode, (init_size, init_size), color=background_colour)\n",
    "    number_points = NumberPoints(img, init_size, yellow=yellow, blue=blue)\n",
    "    point_array = number_points.design_n_points(n1, colour_1)\n",
    "    point_array = number_points.design_n_points(n2, colour_2, point_array=point_array)\n",
    "    if equalized:\n",
    "        point_array = number_points.equalize_areas(point_array)\n",
    "\n",
    "    return number_points.draw_points(point_array)\n",
    "        \n",
    "def create_and_save(n1, n2, equalized, tag=\"\"):\n",
    "    name = f\"img_{n1}_{n2}_{tag}{'_equalized' if equalized else ''}v3.png\"\n",
    "    img = create_image(n1, n2, equalized)\n",
    "    img.save(os.path.join(IMG_DIR, colour_1 if n1 > n2 else colour_2, name))\n"
   ]
  },
  {
   "cell_type": "code",
   "execution_count": 26,
   "metadata": {
    "ExecuteTime": {
     "end_time": "2024-04-08T07:43:03.526329Z",
     "start_time": "2024-04-08T07:35:59.931706Z"
    },
    "collapsed": false,
    "pycharm": {
     "name": "#%%\n"
    }
   },
   "outputs": [
    {
     "name": "stdout",
     "output_type": "stream",
     "text": [
      "This will make 560 images.\n"
     ]
    },
    {
     "name": "stderr",
     "output_type": "stream",
     "text": [
      "  0%|          | 0/10 [07:03<?, ?it/s]\n"
     ]
    },
    {
     "ename": "KeyboardInterrupt",
     "evalue": "",
     "output_type": "error",
     "traceback": [
      "\u001b[0;31m---------------------------------------------------------------------------\u001b[0m",
      "\u001b[0;31mKeyboardInterrupt\u001b[0m                         Traceback (most recent call last)",
      "Input \u001b[0;32mIn [26]\u001b[0m, in \u001b[0;36m<cell line: 3>\u001b[0;34m()\u001b[0m\n\u001b[1;32m      3\u001b[0m \u001b[38;5;28;01mfor\u001b[39;00m i \u001b[38;5;129;01min\u001b[39;00m tqdm(\u001b[38;5;28mrange\u001b[39m(IMAGE_SET_NUM)):\n\u001b[1;32m      4\u001b[0m     \u001b[38;5;28;01mfor\u001b[39;00m pair \u001b[38;5;129;01min\u001b[39;00m pos:\n\u001b[0;32m----> 5\u001b[0m         \u001b[43mcreate_and_save\u001b[49m(pair[\u001b[38;5;241m0\u001b[39m], pair[\u001b[38;5;241m1\u001b[39m], equalized\u001b[38;5;241m=\u001b[39m\u001b[38;5;28;01mTrue\u001b[39;00m, tag\u001b[38;5;241m=\u001b[39mi)\n\u001b[1;32m      6\u001b[0m         create_and_save(pair[\u001b[38;5;241m1\u001b[39m], pair[\u001b[38;5;241m0\u001b[39m], equalized\u001b[38;5;241m=\u001b[39m\u001b[38;5;28;01mTrue\u001b[39;00m, tag\u001b[38;5;241m=\u001b[39mi)\n\u001b[1;32m      7\u001b[0m         create_and_save(pair[\u001b[38;5;241m0\u001b[39m], pair[\u001b[38;5;241m1\u001b[39m], equalized\u001b[38;5;241m=\u001b[39m\u001b[38;5;28;01mFalse\u001b[39;00m, tag\u001b[38;5;241m=\u001b[39mi)\n",
      "Input \u001b[0;32mIn [26]\u001b[0m, in \u001b[0;36m<cell line: 3>\u001b[0;34m()\u001b[0m\n\u001b[1;32m      3\u001b[0m \u001b[38;5;28;01mfor\u001b[39;00m i \u001b[38;5;129;01min\u001b[39;00m tqdm(\u001b[38;5;28mrange\u001b[39m(IMAGE_SET_NUM)):\n\u001b[1;32m      4\u001b[0m     \u001b[38;5;28;01mfor\u001b[39;00m pair \u001b[38;5;129;01min\u001b[39;00m pos:\n\u001b[0;32m----> 5\u001b[0m         \u001b[43mcreate_and_save\u001b[49m(pair[\u001b[38;5;241m0\u001b[39m], pair[\u001b[38;5;241m1\u001b[39m], equalized\u001b[38;5;241m=\u001b[39m\u001b[38;5;28;01mTrue\u001b[39;00m, tag\u001b[38;5;241m=\u001b[39mi)\n\u001b[1;32m      6\u001b[0m         create_and_save(pair[\u001b[38;5;241m1\u001b[39m], pair[\u001b[38;5;241m0\u001b[39m], equalized\u001b[38;5;241m=\u001b[39m\u001b[38;5;28;01mTrue\u001b[39;00m, tag\u001b[38;5;241m=\u001b[39mi)\n\u001b[1;32m      7\u001b[0m         create_and_save(pair[\u001b[38;5;241m0\u001b[39m], pair[\u001b[38;5;241m1\u001b[39m], equalized\u001b[38;5;241m=\u001b[39m\u001b[38;5;28;01mFalse\u001b[39;00m, tag\u001b[38;5;241m=\u001b[39mi)\n",
      "File \u001b[0;32m~/pycharm-2023.1.2/plugins/python/helpers/pydev/_pydevd_bundle/pydevd_frame.py:755\u001b[0m, in \u001b[0;36mPyDBFrame.trace_dispatch\u001b[0;34m(self, frame, event, arg)\u001b[0m\n\u001b[1;32m    753\u001b[0m \u001b[38;5;66;03m# if thread has a suspend flag, we suspend with a busy wait\u001b[39;00m\n\u001b[1;32m    754\u001b[0m \u001b[38;5;28;01mif\u001b[39;00m info\u001b[38;5;241m.\u001b[39mpydev_state \u001b[38;5;241m==\u001b[39m STATE_SUSPEND:\n\u001b[0;32m--> 755\u001b[0m     \u001b[38;5;28;43mself\u001b[39;49m\u001b[38;5;241;43m.\u001b[39;49m\u001b[43mdo_wait_suspend\u001b[49m\u001b[43m(\u001b[49m\u001b[43mthread\u001b[49m\u001b[43m,\u001b[49m\u001b[43m \u001b[49m\u001b[43mframe\u001b[49m\u001b[43m,\u001b[49m\u001b[43m \u001b[49m\u001b[43mevent\u001b[49m\u001b[43m,\u001b[49m\u001b[43m \u001b[49m\u001b[43marg\u001b[49m\u001b[43m)\u001b[49m\n\u001b[1;32m    756\u001b[0m     \u001b[38;5;66;03m# No need to reset frame.f_trace to keep the same trace function.\u001b[39;00m\n\u001b[1;32m    757\u001b[0m     \u001b[38;5;28;01mreturn\u001b[39;00m \u001b[38;5;28mself\u001b[39m\u001b[38;5;241m.\u001b[39mtrace_dispatch\n",
      "File \u001b[0;32m~/pycharm-2023.1.2/plugins/python/helpers/pydev/_pydevd_bundle/pydevd_frame.py:412\u001b[0m, in \u001b[0;36mPyDBFrame.do_wait_suspend\u001b[0;34m(self, *args, **kwargs)\u001b[0m\n\u001b[1;32m    411\u001b[0m \u001b[38;5;28;01mdef\u001b[39;00m \u001b[38;5;21mdo_wait_suspend\u001b[39m(\u001b[38;5;28mself\u001b[39m, \u001b[38;5;241m*\u001b[39margs, \u001b[38;5;241m*\u001b[39m\u001b[38;5;241m*\u001b[39mkwargs):\n\u001b[0;32m--> 412\u001b[0m     \u001b[38;5;28;43mself\u001b[39;49m\u001b[38;5;241;43m.\u001b[39;49m\u001b[43m_args\u001b[49m\u001b[43m[\u001b[49m\u001b[38;5;241;43m0\u001b[39;49m\u001b[43m]\u001b[49m\u001b[38;5;241;43m.\u001b[39;49m\u001b[43mdo_wait_suspend\u001b[49m\u001b[43m(\u001b[49m\u001b[38;5;241;43m*\u001b[39;49m\u001b[43margs\u001b[49m\u001b[43m,\u001b[49m\u001b[43m \u001b[49m\u001b[38;5;241;43m*\u001b[39;49m\u001b[38;5;241;43m*\u001b[39;49m\u001b[43mkwargs\u001b[49m\u001b[43m)\u001b[49m\n",
      "File \u001b[0;32m~/pycharm-2023.1.2/plugins/python/helpers/pydev/pydevd.py:1185\u001b[0m, in \u001b[0;36mPyDB.do_wait_suspend\u001b[0;34m(self, thread, frame, event, arg, send_suspend_message, is_unhandled_exception)\u001b[0m\n\u001b[1;32m   1182\u001b[0m         from_this_thread\u001b[38;5;241m.\u001b[39mappend(frame_id)\n\u001b[1;32m   1184\u001b[0m \u001b[38;5;28;01mwith\u001b[39;00m \u001b[38;5;28mself\u001b[39m\u001b[38;5;241m.\u001b[39m_threads_suspended_single_notification\u001b[38;5;241m.\u001b[39mnotify_thread_suspended(thread_id, stop_reason):\n\u001b[0;32m-> 1185\u001b[0m     \u001b[38;5;28;43mself\u001b[39;49m\u001b[38;5;241;43m.\u001b[39;49m\u001b[43m_do_wait_suspend\u001b[49m\u001b[43m(\u001b[49m\u001b[43mthread\u001b[49m\u001b[43m,\u001b[49m\u001b[43m \u001b[49m\u001b[43mframe\u001b[49m\u001b[43m,\u001b[49m\u001b[43m \u001b[49m\u001b[43mevent\u001b[49m\u001b[43m,\u001b[49m\u001b[43m \u001b[49m\u001b[43marg\u001b[49m\u001b[43m,\u001b[49m\u001b[43m \u001b[49m\u001b[43msuspend_type\u001b[49m\u001b[43m,\u001b[49m\u001b[43m \u001b[49m\u001b[43mfrom_this_thread\u001b[49m\u001b[43m)\u001b[49m\n",
      "File \u001b[0;32m~/pycharm-2023.1.2/plugins/python/helpers/pydev/pydevd.py:1200\u001b[0m, in \u001b[0;36mPyDB._do_wait_suspend\u001b[0;34m(self, thread, frame, event, arg, suspend_type, from_this_thread)\u001b[0m\n\u001b[1;32m   1197\u001b[0m             \u001b[38;5;28mself\u001b[39m\u001b[38;5;241m.\u001b[39m_call_mpl_hook()\n\u001b[1;32m   1199\u001b[0m         \u001b[38;5;28mself\u001b[39m\u001b[38;5;241m.\u001b[39mprocess_internal_commands()\n\u001b[0;32m-> 1200\u001b[0m         \u001b[43mtime\u001b[49m\u001b[38;5;241;43m.\u001b[39;49m\u001b[43msleep\u001b[49m\u001b[43m(\u001b[49m\u001b[38;5;241;43m0.01\u001b[39;49m\u001b[43m)\u001b[49m\n\u001b[1;32m   1202\u001b[0m \u001b[38;5;28mself\u001b[39m\u001b[38;5;241m.\u001b[39mcancel_async_evaluation(get_current_thread_id(thread), \u001b[38;5;28mstr\u001b[39m(\u001b[38;5;28mid\u001b[39m(frame)))\n\u001b[1;32m   1204\u001b[0m \u001b[38;5;66;03m# process any stepping instructions\u001b[39;00m\n",
      "\u001b[0;31mKeyboardInterrupt\u001b[0m: "
     ]
    }
   ],
   "source": [
    "print(f\"This will make {IMAGE_SET_NUM * len(pos) * 4} images.\")\n",
    "\n",
    "for i in tqdm(range(IMAGE_SET_NUM)):\n",
    "    for pair in pos:\n",
    "        create_and_save(pair[0], pair[1], equalized=True, tag=i)\n",
    "        create_and_save(pair[1], pair[0], equalized=True, tag=i)\n",
    "        create_and_save(pair[0], pair[1], equalized=False, tag=i)\n",
    "        create_and_save(pair[1], pair[0], equalized=False, tag=i)"
   ]
  },
  {
   "cell_type": "code",
   "execution_count": 21,
   "metadata": {
    "ExecuteTime": {
     "end_time": "2024-04-08T07:21:32.948943Z",
     "start_time": "2024-04-08T07:21:32.941875Z"
    },
    "collapsed": false,
    "pycharm": {
     "name": "#%%\n"
    }
   },
   "outputs": [
    {
     "data": {
      "text/plain": [
       "[(4, 10),\n",
       " (4, 8),\n",
       " (4, 6),\n",
       " (5, 10),\n",
       " (6, 15),\n",
       " (6, 12),\n",
       " (6, 9),\n",
       " (6, 8),\n",
       " (7, 14),\n",
       " (8, 16),\n",
       " (8, 12),\n",
       " (9, 12),\n",
       " (10, 15),\n",
       " (12, 16)]"
      ]
     },
     "execution_count": 21,
     "metadata": {},
     "output_type": "execute_result"
    }
   ],
   "source": [
    "pos"
   ]
  },
  {
   "cell_type": "code",
   "execution_count": 22,
   "metadata": {
    "ExecuteTime": {
     "end_time": "2024-04-08T07:27:28.108008Z",
     "start_time": "2024-04-08T07:27:28.103543Z"
    },
    "collapsed": false,
    "pycharm": {
     "name": "#%%\n"
    }
   },
   "outputs": [
    {
     "data": {
      "text/plain": [
       "14"
      ]
     },
     "execution_count": 22,
     "metadata": {},
     "output_type": "execute_result"
    }
   ],
   "source": [
    "len(pos)"
   ]
  },
  {
   "cell_type": "code",
   "execution_count": null,
   "metadata": {},
   "outputs": [],
   "source": []
  }
 ],
 "metadata": {
  "kernelspec": {
   "display_name": "Python 3",
   "language": "python",
   "name": "python3"
  },
  "language_info": {
   "codemirror_mode": {
    "name": "ipython",
    "version": 2
   },
   "file_extension": ".py",
   "mimetype": "text/x-python",
   "name": "python",
   "nbconvert_exporter": "python",
   "pygments_lexer": "ipython2",
   "version": "2.7.6"
  }
 },
 "nbformat": 4,
 "nbformat_minor": 0
}
