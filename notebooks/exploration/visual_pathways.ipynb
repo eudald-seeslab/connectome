{
 "cells": [
  {
   "cell_type": "code",
   "id": "initial_id",
   "metadata": {
    "collapsed": true
   },
   "source": [
    "import matplotlib.pyplot as plt\n",
    "import seaborn as sns\n",
    "import networkx as nx\n",
    "import pandas as pd\n",
    "from utils.model_inspection_funcs import propagate_data_with_steps\n",
    "from scripts.no_training import get_data"
   ],
   "outputs": [],
   "execution_count": null
  },
  {
   "cell_type": "code",
   "id": "386463b9e418f91c",
   "metadata": {},
   "source": [
    "def propagate_neuron_data(neuron_data, connections, neurons, num_passes):\n",
    "    propagation = (neuron_data[[\"root_id\", \"activation\"]]\n",
    "                   .fillna(0)\n",
    "                   .rename(columns={\"activation\": \"input\"})\n",
    "    )\n",
    "    activation = neuron_data[[\"root_id\", \"activation\"]]\n",
    "\n",
    "    for i in range(num_passes):\n",
    "        activation = propagate_data_with_steps(activation.copy(), connections, i)\n",
    "        propagation = propagation.merge(activation, on=\"root_id\", how=\"left\").fillna(0)\n",
    "\n",
    "    cols = propagation.columns.tolist()\n",
    "    propagation = propagation.merge(\n",
    "        neurons[[\"root_id\", \"decision_making\"]], on=\"root_id\"\n",
    "    )\n",
    "    propagation[\"decision_making\"] = (\n",
    "        propagation[\"decision_making\"] * propagation[cols[-1]]\n",
    "    )\n",
    "    return propagation.drop(columns=[cols[-1]])\n",
    "\n",
    "\n",
    "def analyze_detour_pathways(\n",
    "    neuron_data, connections, neurons, ablated_types, num_passes=4\n",
    "):\n",
    "    \"\"\"\n",
    "    Analyze how information flows when specific cell types are ablated\n",
    "\n",
    "    Parameters:\n",
    "    -----------\n",
    "    neuron_data: DataFrame with neuron properties including cell types\n",
    "    connections: DataFrame with synaptic connections\n",
    "    ablated_types: list of cell types to remove\n",
    "    \"\"\"\n",
    "    # First get baseline propagation\n",
    "    baseline = propagate_neuron_data(\n",
    "        neuron_data, connections, neurons, num_passes\n",
    "    )\n",
    "\n",
    "    # Remove ablated cell types\n",
    "    mask = ~neuron_data[\"cell_type\"].isin(ablated_types)\n",
    "    ablated_neurons = neuron_data[mask].copy()\n",
    "    ablated_connections = connections[\n",
    "        connections[\"pre_root_id\"].isin(ablated_neurons[\"root_id\"])\n",
    "        & connections[\"post_root_id\"].isin(ablated_neurons[\"root_id\"])\n",
    "    ]\n",
    "\n",
    "    # Get propagation with ablated cells\n",
    "    ablated = propagate_neuron_data(\n",
    "        ablated_neurons, ablated_connections, neurons, num_passes\n",
    "    )\n",
    "\n",
    "    return baseline, ablated"
   ],
   "outputs": [],
   "execution_count": null
  },
  {
   "cell_type": "code",
   "id": "81a2d64d024e5c9a",
   "metadata": {},
   "source": [
    "def visualize_pathways(paths_df):\n",
    "    \"\"\"\n",
    "    Create visualizations of pathway analysis\n",
    "    \"\"\"\n",
    "    fig, (ax1, ax2) = plt.subplots(1, 2, figsize=(15, 6))\n",
    "\n",
    "    # Path length distribution\n",
    "    sns.histplot(data=paths_df, x='path_length', ax=ax1)\n",
    "    ax1.set_title('Distribution of Path Lengths')\n",
    "\n",
    "    # Most common paths\n",
    "    path_counts = paths_df['path_types'].value_counts().head(10)\n",
    "    sns.barplot(x=path_counts.values, y=path_counts.index, ax=ax2)\n",
    "    ax2.set_title('Most Common Pathways')\n",
    "\n",
    "    return fig\n",
    "\n",
    "def plot_cell_type_graph(G, neuron_types_df, layout='spring'):\n",
    "    \"\"\"\n",
    "    Plot graph with nodes colored by cell type\n",
    "    \"\"\"\n",
    "    cell_types = pd.Series(\n",
    "        neuron_types_df['cell_type'].values,\n",
    "        index=neuron_types_df['root_id']\n",
    "    ).to_dict()\n",
    "\n",
    "    pos = getattr(nx, f'{layout}_layout')(G)\n",
    "\n",
    "    plt.figure(figsize=(12, 12))\n",
    "    nx.draw(G, pos,\n",
    "            node_color=[cell_types.get(node, 'grey') for node in G.nodes()],\n",
    "            node_size=20,\n",
    "            with_labels=False,\n",
    "            edge_color='grey',\n",
    "            alpha=0.6)\n",
    "\n",
    "    return plt.gcf()"
   ],
   "outputs": [],
   "execution_count": null
  },
  {
   "cell_type": "code",
   "id": "c50708f6bb4d08a8",
   "metadata": {},
   "source": [
    "connections, _, all_neurons, neuron_data, _ = get_data(\"new_data\")"
   ],
   "outputs": [],
   "execution_count": null
  },
  {
   "cell_type": "markdown",
   "id": "0050cac1",
   "metadata": {},
   "source": [
    "# No muting"
   ]
  },
  {
   "cell_type": "code",
   "id": "c1aedc54",
   "metadata": {},
   "source": [
    "ablated_types = []\n",
    "connectivity = analyze_detour_pathways(\n",
    "    neuron_data, connections, all_neurons, ablated_types\n",
    ")"
   ],
   "outputs": [],
   "execution_count": null
  },
  {
   "cell_type": "code",
   "id": "6cd35e0b",
   "metadata": {},
   "source": [
    "visualize_pathways(paths)"
   ],
   "outputs": [],
   "execution_count": null
  },
  {
   "cell_type": "code",
   "id": "125146aa8519e5a6",
   "metadata": {},
   "source": [
    "muted_types = [\"L1\", \"L2\", \"L3\", \"L4\", \"L5\"]"
   ],
   "outputs": [],
   "execution_count": null
  }
 ],
 "metadata": {
  "kernelspec": {
   "display_name": "venv",
   "language": "python",
   "name": "python3"
  },
  "language_info": {
   "codemirror_mode": {
    "name": "ipython",
    "version": 3
   },
   "file_extension": ".py",
   "mimetype": "text/x-python",
   "name": "python",
   "nbconvert_exporter": "python",
   "pygments_lexer": "ipython3",
   "version": "3.12.3"
  }
 },
 "nbformat": 4,
 "nbformat_minor": 5
}
