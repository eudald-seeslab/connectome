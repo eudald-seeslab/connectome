{
 "cells": [
  {
   "cell_type": "code",
   "execution_count": 1,
   "outputs": [],
   "source": [
    "import os\n",
    "\n",
    "from torch import nn, optim, device, cuda\n",
    "import torch\n",
    "\n",
    "import yaml\n",
    "from tqdm.notebook import tqdm, trange\n",
    "\n",
    "from data_parser import adj_matrix, nodes\n",
    "from image_parser import train_loader, test_loader\n",
    "from utils import check_for_missing_values\n",
    "\n",
    "from network_models import CombinedModel\n",
    "from model_config_manager import ModelConfigManager"
   ],
   "metadata": {
    "collapsed": false,
    "ExecuteTime": {
     "end_time": "2023-08-25T07:58:58.175079500Z",
     "start_time": "2023-08-25T07:58:54.633245800Z"
    }
   }
  },
  {
   "cell_type": "code",
   "execution_count": 2,
   "outputs": [
    {
     "name": "stdout",
     "output_type": "stream",
     "text": [
      "Model configurations:\n",
      "cnn_1\n",
      "Output channels: 1\n",
      "Kernel size: 5\n",
      "Stride: 2\n",
      "Padding: 1\n"
     ]
    }
   ],
   "source": [
    "config = yaml.safe_load(open(\"config.yml\"))\n",
    "epochs = config[\"EPOCHS\"]\n",
    "RETINA_MODEL = config[\"RETINA_MODEL\"]\n",
    "DEBUG = config[\"DEBUG\"]\n",
    "\n",
    "# Create the ModelConfigManager and load configurations from YAML files\n",
    "# FIXME: duplicated code\n",
    "config_manager = ModelConfigManager()\n",
    "config_manager.load_configs_from_yaml([\"cnn_1.yml\", \"cnn_2.yml\"])\n",
    "\n",
    "# Get a specific configuration by model name\n",
    "config_manager.set_model_config(RETINA_MODEL)\n",
    "config_manager.output_model_details()"
   ],
   "metadata": {
    "collapsed": false,
    "ExecuteTime": {
     "end_time": "2023-08-25T07:58:58.206547400Z",
     "start_time": "2023-08-25T07:58:58.179082900Z"
    }
   }
  },
  {
   "cell_type": "code",
   "execution_count": 3,
   "outputs": [],
   "source": [
    "# Initialize the combined model\n",
    "combined_model = CombinedModel(adj_matrix, neurons=nodes, model_config=config_manager.model_config)\n",
    "dev = device(\"cuda\" if cuda.is_available() else \"cpu\")\n",
    "combined_model = combined_model.to(dev)\n",
    "\n",
    "# Specify the loss function and the optimizer\n",
    "criterion = nn.NLLLoss()\n",
    "optimizer = optim.Adam(combined_model.parameters(), lr=0.00001)\n"
   ],
   "metadata": {
    "collapsed": false,
    "ExecuteTime": {
     "end_time": "2023-08-25T07:59:02.462583100Z",
     "start_time": "2023-08-25T07:58:58.203549Z"
    }
   }
  },
  {
   "cell_type": "code",
   "execution_count": 4,
   "outputs": [
    {
     "data": {
      "text/plain": "  0%|          | 0/100 [00:00<?, ?it/s]",
      "application/vnd.jupyter.widget-view+json": {
       "version_major": 2,
       "version_minor": 0,
       "model_id": "d0d387891ec5486f8ff0f6cf26c9ae44"
      }
     },
     "metadata": {},
     "output_type": "display_data"
    },
    {
     "data": {
      "text/plain": "  0%|          | 0/680 [00:00<?, ?it/s]",
      "application/vnd.jupyter.widget-view+json": {
       "version_major": 2,
       "version_minor": 0,
       "model_id": "100ca982abd9498e877b29541af23a0d"
      }
     },
     "metadata": {},
     "output_type": "display_data"
    },
    {
     "ename": "KeyboardInterrupt",
     "evalue": "",
     "output_type": "error",
     "traceback": [
      "\u001B[1;31m---------------------------------------------------------------------------\u001B[0m",
      "\u001B[1;31mKeyboardInterrupt\u001B[0m                         Traceback (most recent call last)",
      "Cell \u001B[1;32mIn[4], line 36\u001B[0m\n\u001B[0;32m     32\u001B[0m             p\u001B[38;5;241m.\u001B[39mdata\u001B[38;5;241m.\u001B[39mclamp_(\u001B[38;5;241m-\u001B[39m\u001B[38;5;241m1\u001B[39m, \u001B[38;5;241m1\u001B[39m) \n\u001B[0;32m     34\u001B[0m     optimizer\u001B[38;5;241m.\u001B[39mstep()\n\u001B[1;32m---> 36\u001B[0m     running_loss \u001B[38;5;241m+\u001B[39m\u001B[38;5;241m=\u001B[39m \u001B[43mloss\u001B[49m\u001B[38;5;241;43m.\u001B[39;49m\u001B[43mitem\u001B[49m\u001B[43m(\u001B[49m\u001B[43m)\u001B[49m\n\u001B[0;32m     38\u001B[0m \u001B[38;5;28mprint\u001B[39m(\u001B[38;5;124mf\u001B[39m\u001B[38;5;124m'\u001B[39m\u001B[38;5;124mEpoch \u001B[39m\u001B[38;5;132;01m{\u001B[39;00mepoch\u001B[38;5;241m+\u001B[39m\u001B[38;5;241m1\u001B[39m\u001B[38;5;132;01m}\u001B[39;00m\u001B[38;5;124m/\u001B[39m\u001B[38;5;132;01m{\u001B[39;00mepochs\u001B[38;5;132;01m}\u001B[39;00m\u001B[38;5;124m, Loss: \u001B[39m\u001B[38;5;132;01m{\u001B[39;00mrunning_loss\u001B[38;5;241m/\u001B[39m\u001B[38;5;28mlen\u001B[39m(train_loader)\u001B[38;5;132;01m}\u001B[39;00m\u001B[38;5;124m'\u001B[39m)\n\u001B[0;32m     39\u001B[0m \u001B[38;5;66;03m# Save model every 10 epochs\u001B[39;00m\n",
      "\u001B[1;31mKeyboardInterrupt\u001B[0m: "
     ]
    }
   ],
   "source": [
    "for epoch in trange(epochs):\n",
    "    running_loss = 0\n",
    "    # If the model is fast~ish\n",
    "    # for images, labels in train_loader:\n",
    "    for images, labels in tqdm(train_loader):\n",
    "        # Move images and labels to the device\n",
    "        images, labels = images.to(dev), labels.to(dev)\n",
    "\n",
    "        # Checks\n",
    "        if torch.isnan(images).any():\n",
    "            raise Exception(\"NaN in images\")\n",
    "        if torch.isnan(labels).any():\n",
    "            raise Exception(\"NaN in labels\")\n",
    "\n",
    "        # Forward pass\n",
    "        outputs = combined_model(images)\n",
    "\n",
    "        # Compute the loss\n",
    "        loss = criterion(outputs, labels)\n",
    "\n",
    "        # Backward pass and optimize\n",
    "        optimizer.zero_grad()\n",
    "        loss.backward()\n",
    "\n",
    "        if DEBUG:\n",
    "            # check for missing values in model parameters\n",
    "            check_for_missing_values(combined_model, epoch)\n",
    "            # Clip gradients to avoid exploding gradients\n",
    "            nn.utils.clip_grad_norm_(combined_model.parameters(), 1)\n",
    "            # Clip parameters to avoid exploding parameters\n",
    "            for p in combined_model.parameters():\n",
    "                p.data.clamp_(-1, 1) \n",
    "\n",
    "        optimizer.step()\n",
    " \n",
    "        running_loss += loss.item()\n",
    "\n",
    "    print(f'Epoch {epoch+1}/{epochs}, Loss: {running_loss/len(train_loader)}')\n",
    "    # Save model every 10 epochs\n",
    "    if epoch > 0 and (epoch + 1) % 10 == 0:\n",
    "        torch.save(combined_model.state_dict(), os.path.join(\"models\", f\"model_{RETINA_MODEL}_{epoch + 1}_epochs.pth\"))\n",
    "        print(f\"Saved model after {epoch + 1} runs\")"
   ],
   "metadata": {
    "collapsed": false,
    "ExecuteTime": {
     "end_time": "2023-08-25T07:59:39.777246400Z",
     "start_time": "2023-08-25T07:59:30.241480500Z"
    }
   }
  },
  {
   "cell_type": "markdown",
   "source": [],
   "metadata": {
    "collapsed": false
   }
  },
  {
   "cell_type": "code",
   "execution_count": 9,
   "outputs": [],
   "source": [
    "torch.save(combined_model.state_dict(), os.path.join(\"models\", f\"model_{RETINA_MODEL}_{epoch + 1}_epochs.pth\"))"
   ],
   "metadata": {
    "collapsed": false,
    "ExecuteTime": {
     "end_time": "2023-08-05T08:11:10.784550500Z",
     "start_time": "2023-08-05T08:11:08.497833400Z"
    }
   }
  },
  {
   "cell_type": "code",
   "execution_count": 10,
   "outputs": [
    {
     "data": {
      "text/plain": "28"
     },
     "execution_count": 10,
     "metadata": {},
     "output_type": "execute_result"
    }
   ],
   "source": [
    "epoch"
   ],
   "metadata": {
    "collapsed": false,
    "ExecuteTime": {
     "end_time": "2023-08-05T08:11:11.530799900Z",
     "start_time": "2023-08-05T08:11:11.522615900Z"
    }
   }
  },
  {
   "cell_type": "code",
   "execution_count": 9,
   "outputs": [
    {
     "data": {
      "text/plain": "  0%|          | 0/170 [00:00<?, ?it/s]",
      "application/vnd.jupyter.widget-view+json": {
       "version_major": 2,
       "version_minor": 0,
       "model_id": "876b6019a98548109cb80b75a68acbde"
      }
     },
     "metadata": {},
     "output_type": "display_data"
    }
   ],
   "source": [
    "# Test de model\n",
    "correct = 0\n",
    "total = 0\n",
    "with torch.no_grad():\n",
    "    for images, labels in tqdm(test_loader):\n",
    "        images, labels = images.to(dev), labels.to(dev)\n",
    "        outputs = combined_model(images)\n",
    "        _, predicted = torch.max(outputs.data, 1)\n",
    "        total += labels.size(0)\n",
    "        correct += (predicted == labels).sum()"
   ],
   "metadata": {
    "collapsed": false,
    "ExecuteTime": {
     "end_time": "2023-08-04T15:51:12.570663500Z",
     "start_time": "2023-08-04T15:51:04.877374200Z"
    }
   }
  },
  {
   "cell_type": "code",
   "execution_count": 10,
   "outputs": [
    {
     "name": "stdout",
     "output_type": "stream",
     "text": [
      "Accuracy on the 1360 test images: 53.45588302612305%\n"
     ]
    }
   ],
   "source": [
    "print(f\"Accuracy on the {total} test images: {100 * correct / total}%\")"
   ],
   "metadata": {
    "collapsed": false,
    "ExecuteTime": {
     "end_time": "2023-08-04T15:51:12.588301400Z",
     "start_time": "2023-08-04T15:51:12.571664Z"
    }
   }
  },
  {
   "cell_type": "code",
   "execution_count": 15,
   "outputs": [
    {
     "data": {
      "text/plain": "CombinedModel(\n  (retina_model): RetinaModel(\n    (conv_layer): Conv2d(3, 1, kernel_size=(5, 5), stride=(2, 2), padding=(1, 1))\n    (activation): ReLU(inplace=True)\n    (pooling_layer): MaxPool2d(kernel_size=2, stride=2, padding=0, dilation=1, ceil_mode=False)\n  )\n  (connectome_model): ConnectomeNetwork(\n    (retina_layer): Linear(in_features=65025, out_features=2952, bias=True)\n    (rational_layer): Linear(in_features=2952, out_features=10, bias=True)\n  )\n)"
     },
     "execution_count": 15,
     "metadata": {},
     "output_type": "execute_result"
    }
   ],
   "source": [
    "model = CombinedModel(adj_matrix, nodes, RETINA_MODEL)\n",
    "model.load_state_dict(torch.load(os.path.join(\"models\", \"model_cnn_1_51_epochs.pth\")), strict=False)\n",
    "model = model.to(dev)\n",
    "model.eval()"
   ],
   "metadata": {
    "collapsed": false,
    "ExecuteTime": {
     "end_time": "2023-08-04T15:54:12.118694Z",
     "start_time": "2023-08-04T15:54:09.218058Z"
    }
   }
  },
  {
   "cell_type": "code",
   "execution_count": 16,
   "outputs": [
    {
     "data": {
      "text/plain": "  0%|          | 0/170 [00:00<?, ?it/s]",
      "application/vnd.jupyter.widget-view+json": {
       "version_major": 2,
       "version_minor": 0,
       "model_id": "14e75b7ab8a94643977b781948d8a24f"
      }
     },
     "metadata": {},
     "output_type": "display_data"
    }
   ],
   "source": [
    "# Test de model\n",
    "correct = 0\n",
    "total = 0\n",
    "with torch.no_grad():\n",
    "    for images, labels in tqdm(test_loader):\n",
    "        images, labels = images.to(dev), labels.to(dev)\n",
    "        outputs = model(images)\n",
    "        _, predicted = torch.max(outputs.data, 1)\n",
    "        total += labels.size(0)\n",
    "        correct += (predicted == labels).sum()"
   ],
   "metadata": {
    "collapsed": false,
    "ExecuteTime": {
     "end_time": "2023-08-04T15:54:19.436034400Z",
     "start_time": "2023-08-04T15:54:12.690098900Z"
    }
   }
  },
  {
   "cell_type": "code",
   "execution_count": 17,
   "outputs": [
    {
     "name": "stdout",
     "output_type": "stream",
     "text": [
      "Accuracy on the 1360 test images: 53.602943420410156%\n"
     ]
    }
   ],
   "source": [
    "print(f\"Accuracy on the {total} test images: {100 * correct / total}%\")"
   ],
   "metadata": {
    "collapsed": false,
    "ExecuteTime": {
     "end_time": "2023-08-04T15:54:20.802580600Z",
     "start_time": "2023-08-04T15:54:20.789812400Z"
    }
   }
  },
  {
   "cell_type": "code",
   "execution_count": null,
   "outputs": [],
   "source": [],
   "metadata": {
    "collapsed": false
   }
  }
 ],
 "metadata": {
  "kernelspec": {
   "display_name": "Python 3",
   "language": "python",
   "name": "python3"
  },
  "language_info": {
   "codemirror_mode": {
    "name": "ipython",
    "version": 2
   },
   "file_extension": ".py",
   "mimetype": "text/x-python",
   "name": "python",
   "nbconvert_exporter": "python",
   "pygments_lexer": "ipython2",
   "version": "2.7.6"
  }
 },
 "nbformat": 4,
 "nbformat_minor": 0
}
