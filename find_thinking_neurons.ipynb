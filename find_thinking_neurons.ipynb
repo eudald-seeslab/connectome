{
 "cells": [
  {
   "cell_type": "code",
   "execution_count": 1,
   "metadata": {},
   "outputs": [],
   "source": [
    "import torch\n",
    "import warnings\n",
    "warnings.simplefilter(action='ignore', category=FutureWarning)\n",
    "import pandas as pd\n",
    "import numpy as np\n",
    "import matplotlib.pyplot as plt\n",
    "cmap = plt.get_cmap(\"viridis\")\n",
    "from tqdm.notebook import tqdm\n",
    "from tqdm.contrib.concurrent import process_map\n",
    "import multiprocessing\n",
    "\n",
    "import config\n",
    "from graph_models import FullGraphModel\n",
    "from data_processing import DataProcessor\n",
    "from model_inspection_funcs import sample_images\n",
    "from no_training import process_image_without_deciding\n",
    "\n",
    "num_test_pairs = 500\n",
    "device = torch.device(\"cpu\")\n",
    "dtype = torch.float32"
   ]
  },
  {
   "cell_type": "code",
   "execution_count": 2,
   "metadata": {},
   "outputs": [],
   "source": [
    "data_processor = DataProcessor(\n",
    "    neurons=config.neurons,\n",
    "    voronoi_criteria=config.voronoi_criteria,\n",
    "    random_synapses=config.random_synapses,\n",
    "    log_transform_weights=config.log_transform_weights,\n",
    ")\n",
    "\n",
    "model = FullGraphModel(\n",
    "    input_shape=data_processor.number_of_synapses,\n",
    "    num_connectome_passes=config.NUM_CONNECTOME_PASSES,\n",
    "    decision_making_vector=data_processor.decision_making_vector,\n",
    "    batch_size=config.batch_size,\n",
    "    dtype=config.dtype,\n",
    "    edge_weights=data_processor.synaptic_matrix.data,\n",
    "    device=config.DEVICE,\n",
    "    num_classes=len(config.CLASSES),\n",
    ").to(device)"
   ]
  },
  {
   "cell_type": "code",
   "execution_count": 3,
   "metadata": {},
   "outputs": [],
   "source": [
    "# horrible data stuff\n",
    "checkpoint = torch.load(\n",
    "    \"models/n_all_v_R7_r_False_lr_0.003_p_4_2024-05-27 21:45.pth\", map_location=\"cpu\"\n",
    ")\n",
    "model.load_state_dict(checkpoint[\"model\"])\n",
    "model.eval()\n",
    "connections = (\n",
    "    pd.read_csv(\n",
    "        \"adult_data/connections.csv\",\n",
    "        dtype={\n",
    "            \"pre_root_id\": \"string\",\n",
    "            \"post_root_id\": \"string\",\n",
    "            \"syn_count\": np.int32,\n",
    "        },\n",
    "    )\n",
    "    .groupby([\"pre_root_id\", \"post_root_id\"])\n",
    "    .sum(\"syn_count\")\n",
    "    .reset_index()\n",
    ")\n",
    "\n",
    "connections[\"weight\"] = model.connectome.edge_weight_multiplier.detach()\n",
    "right_root_ids = data_processor.root_ids\n",
    "all_neurons = (\n",
    "    pd.read_csv(\"adult_data/classification_clean.csv\")\n",
    "    .merge(right_root_ids, on=\"root_id\")\n",
    "    .fillna(\"Unknown\")\n",
    ")\n",
    "neuron_data = pd.read_csv(\n",
    "    \"adult_data/right_visual_positions_selected_neurons.csv\",\n",
    "    dtype={\"root_id\": \"string\"},\n",
    ").drop(columns=[\"x\", \"y\", \"z\", \"PC1\", \"PC2\"])\n",
    "data_cols = [\"x_axis\", \"y_axis\"]\n",
    "all_coords = pd.read_csv(\"adult_data/all_coords_clean.csv\", dtype={\"root_id\": \"string\"})\n",
    "rational_cell_types = pd.read_csv(\"adult_data/rational_cell_types.csv\")\n",
    "all_neurons[\"decision_making\"] = np.where(\n",
    "    all_neurons[\"cell_type\"].isin(rational_cell_types[\"cell_type\"].values.tolist()),\n",
    "    1,\n",
    "    0,\n",
    ")\n",
    "all_neurons[\"root_id\"] = all_neurons[\"root_id\"].astype(\"string\")\n",
    "\n",
    "neurons_in_coords = all_neurons.merge(all_coords, on=\"root_id\", how=\"right\")[\n",
    "    [\"root_id\", \"cell_type\"]\n",
    "].fillna(\"Unknown\")\n",
    "\n",
    "# Set all cell_types with less than \"n\" samples to \"others\"\n",
    "n = 1\n",
    "\n",
    "counts = neurons_in_coords[\"cell_type\"].value_counts()\n",
    "\n",
    "small_categories = counts[counts < n].index\n",
    "neurons_in_coords[\"cell_type\"] = neurons_in_coords[\"cell_type\"].apply(\n",
    "    lambda x: \"others\" if x in small_categories else x\n",
    ")"
   ]
  },
  {
   "cell_type": "code",
   "execution_count": 4,
   "metadata": {},
   "outputs": [
    {
     "data": {
      "application/vnd.jupyter.widget-view+json": {
       "model_id": "d2aefc69d07f40039d33b8fc272d0576",
       "version_major": 2,
       "version_minor": 0
      },
      "text/plain": [
       "  0%|          | 0/3600 [00:00<?, ?it/s]"
      ]
     },
     "metadata": {},
     "output_type": "display_data"
    }
   ],
   "source": [
    "num_passes = 4\n",
    "base_dir = \"images/one_colour\"\n",
    "sub_dirs = [str(i) for i in range(1, 10)]\n",
    "\n",
    "sampled_images = sample_images(base_dir, sub_dirs, num_test_pairs)\n",
    "\n",
    "tasks = [\n",
    "    (img, neuron_data, connections, all_coords, num_passes)\n",
    "    for img in sampled_images\n",
    "]\n",
    "result_tuples = process_map(\n",
    "    process_image_without_deciding, tasks, max_workers=multiprocessing.cpu_count() - 2, chunksize=1\n",
    ")\n",
    "dms = dict(result_tuples)"
   ]
  },
  {
   "cell_type": "code",
   "execution_count": 5,
   "metadata": {},
   "outputs": [],
   "source": [
    "data = pd.DataFrame(dms)\n",
    "df = data.T\n",
    "df[\"num_points\"] = [int(a.split(\"_\")[1]) for a in df.index]"
   ]
  },
  {
   "cell_type": "code",
   "execution_count": 9,
   "metadata": {},
   "outputs": [],
   "source": [
    "model_response = {0: 1, 1: .5, 2: .4, 3: .2, 4: 0}\n",
    "def get_normalized_response(n, total):\n",
    "    acts = []\n",
    "    for i in range(1, total):\n",
    "        dist = abs(n - i)\n",
    "        if dist in model_response.keys():\n",
    "            acts.append(model_response[dist])\n",
    "        else:\n",
    "            acts.append(0)\n",
    "    \n",
    "    return acts"
   ]
  },
  {
   "cell_type": "code",
   "execution_count": 10,
   "metadata": {},
   "outputs": [],
   "source": [
    "means = df.groupby(\"num_points\").mean()\n",
    "# normalize all columns to 0-1\n",
    "means = (means - means.min()) / (means.max() - means.min())\n",
    "# remove columns with missing data\n",
    "means = means.dropna(axis=1)\n",
    "for i in range(1, 10):\n",
    "    means[f\"tuning_curve_{i}\"] = get_normalized_response(i, 10)\n",
    "temp = means.T"
   ]
  },
  {
   "cell_type": "code",
   "execution_count": 15,
   "metadata": {},
   "outputs": [],
   "source": [
    "temp.to_csv(\"neuron_responses.csv\")"
   ]
  },
  {
   "cell_type": "code",
   "execution_count": 18,
   "metadata": {},
   "outputs": [
    {
     "data": {
      "text/plain": [
       "0"
      ]
     },
     "execution_count": 18,
     "metadata": {},
     "output_type": "execute_result"
    }
   ],
   "source": [
    "import gc\n",
    "\n",
    "del tasks, result_tuples, dms, data, df\n",
    "gc.collect()"
   ]
  },
  {
   "cell_type": "code",
   "execution_count": 28,
   "metadata": {},
   "outputs": [
    {
     "data": {
      "text/plain": [
       "(9, 61359)"
      ]
     },
     "execution_count": 28,
     "metadata": {},
     "output_type": "execute_result"
    }
   ],
   "source": [
    "(temp[temp[1] == temp.max(axis=1)]).T.shape"
   ]
  },
  {
   "cell_type": "code",
   "execution_count": 41,
   "metadata": {},
   "outputs": [],
   "source": [
    "def top_neurons_tuned_to_i(df, i, method=\"pearson\"):\n",
    "    col_name = f\"tuning_curve_{i}\"\n",
    "    \n",
    "    tuned = (df[df[i] == df.max(axis=1)]).T\n",
    "    print(tuned.shape[1])\n",
    "    if tuned.shape[1] > 12000:\n",
    "        return \"Too many neurons tuned to this curve\"\n",
    "    correlations = tuned.corr(method)[col_name].sort_values(ascending=False)\n",
    "    # remove \"tune_curve_i\" from the list\n",
    "    correlations = correlations.drop(col_name)\n",
    "    top_correlations = correlations[correlations > 0.9]\n",
    "\n",
    "    return neurons_in_coords.merge(\n",
    "        top_correlations, left_index=True, right_index=True\n",
    "    ).sort_values(by=col_name, ascending=False)"
   ]
  },
  {
   "cell_type": "code",
   "execution_count": 42,
   "metadata": {},
   "outputs": [
    {
     "name": "stdout",
     "output_type": "stream",
     "text": [
      "61359\n",
      "27569\n",
      "3359\n",
      "664\n",
      "413\n",
      "501\n",
      "903\n",
      "3009\n",
      "4538\n"
     ]
    },
    {
     "ename": "",
     "evalue": "",
     "output_type": "error",
     "traceback": [
      "\u001b[1;31mThe Kernel crashed while executing code in the current cell or a previous cell. \n",
      "\u001b[1;31mPlease review the code in the cell(s) to identify a possible cause of the failure. \n",
      "\u001b[1;31mClick <a href='https://aka.ms/vscodeJupyterKernelCrash'>here</a> for more info. \n",
      "\u001b[1;31mView Jupyter <a href='command:jupyter.viewOutput'>log</a> for further details."
     ]
    }
   ],
   "source": [
    "tns = {}\n",
    "for i in range(1, 10):\n",
    "    tns[f\"num_{i}\"] = top_neurons_tuned_to_i(temp, i, method=\"spearman\")"
   ]
  },
  {
   "cell_type": "code",
   "execution_count": 39,
   "metadata": {},
   "outputs": [],
   "source": [
    "vcs = {}\n",
    "for name, tn in tns.items():\n",
    "    if type(tn) != str:\n",
    "        vcs[name] = tn[\"cell_type\"].value_counts()    "
   ]
  },
  {
   "cell_type": "code",
   "execution_count": 40,
   "metadata": {},
   "outputs": [
    {
     "name": "stdout",
     "output_type": "stream",
     "text": [
      "num_3\n",
      "{'CB1379', 'CB2974', 'CB1294', 'CB2612', 'CB0559', 'T3', 'CB1955', 'CB1917', 'DNge094', 'CB2771', 'Mi10', 'CB0927', 'CB2376', 'CB1569', 'SLP162b', 'CB1380', 'CB2987', 'L5', 'CB0693', 'Li13', 'Tm16', 'AOTU008d', 'CB3425', 'CB1356', 'LTe63', 'cL13', 'CB2779', 'Dm1', 'CB2298', 'CB2250', 'CB2007', 'Mi1', 'CB2041', 'CB3754', 'CB1896', 'DNge133', 'LAL030c', 'MTe53', 'SMP022a', 'CB2956', 'CB2271', 'LLPC2', 'CB1774', 'DNge081', 'CB1698', 'CB1016', 'DNg17', 'CB2228', 'CB1660', 'LC10a', 'CB0800', 'LTe09', 'CB0955', 'DNge229', 'Tm5c', 'LLPC4', 'CB3439', 'CB3531', 'CB1518', 'CB2550', 'CB1586', 'AVLP312a', 'SMP469c', 'CB2485', 'CB2785', 'CB1505', 'lLN2X12', 'MeTu2', 'PLP191,PLP192b', 'CB1682', 'CB1691', 'CB1618', 'CB0224', 'CB1964', 'CB3550', 'PS004b', 'CB3088', 'DNge044', 'DNge012', 'CB2763', 'CB3011', 'CB3858', 'CB2455', 'CB2665', 'T4a', 'CB3382', 'CB2840', 'CB2582', 'CB1049', 'CB3816', 'CB1783', 'TmY16', 'CB1919', 'CB0496', 'CB1730', 'AOTU050b', 'CB2000', 'CB2505', 'CB2151', 'LTe49b', 'CB1206', 'R1-6', 'Tm8', 'T4b', 'CB2113', 'SMP331a', 'CB1072', 'T4c', 'CB0343', 'CB3568', 'SMP361b', 'T5a', 'CB2187', 'CB1541', 'CB3826', 'Dm10', 'CB1916', 'CB1826', 'CB0973', 'DNge122', 'CB1101', 'CB3832', 'CL283b', 'CL018a', 'CB3257', 'CB1498', 'CB2897', 'CB3846', 'ALIN7', 'CB1371', 'Tm5Y', 'CB1087', 'CB3763', 'CB1582', 'CB3261', 'CB1163', 'CB1588', 'CB3358', 'CB2194', 'T1', 'LTe33', 'CB3834', 'CB2708', 'CB1012', 'Tm12', 'TmY9', 'Tm9', 'cLLPM01', 'PLP057b', 'CB3178', 'CB2737', 'CB3330', 'CB0521', 'CB0087', 'CB1576', 'LC10e', 'LHAV4g1c', 'CB3666', 'CB1646', 'KCab', 'CB1011', 'CB1291', 'Dm8', 'KCapbp-ap1', 'CB3042', 'CB0610', 'CB2433', 'CB1851', 'LTe61', 'LAL030d', 'CB0893', 'T5d', 'CB2551', 'L4', 'Tm3', 'TmY3', 'CB1205', 'Mi14', 'CB2901', 'CB1103', 'CB1457', 'CB0779', 'CB2217', 'ALIN4', 'CB0351', 'CB1837', 'CB2903', 'AVLP550b', 'CB2461', 'TmYem1', 'CB1417', 'CB1464', 'DNg41', 'DNg21', 'DNg05_b', 'AOTU008a', 'Dm11', 'CB1812', 'CB2930', 'AVLP469b', 'CB3111', 'L2', 'CB3031', 'JO-EV', 'CB2863', 'CB1407', 'L1', 'CB2498', 'T4d', 'CB3482', 'CB.FB2E6', 'CB3833', 'MTe04', 'CB3029', 'CB1394', 'CB0493', 'CB3269', 'CB1143', 'CB2593', 'T5c', 'CB1979', 'CB.FB2I1', 'CB2652', 'CB1053', 'CB3113', 'CB0863', 'SMP206,SLP327a', 'TmY11', 'CB2812', 'PS004a', 'KCapbp-m', 'CL120a', 'CB1648', 'lLN1_bc', 'CB3535', 'DNpe024', 'CB0469', 'CB3837', 'Y4', 'C2', 'CB2896', 'CB2610', 'CB3742', 'CB1614', 'Mi9', 'CB2317', 'Pm2', 'CB1270', 'AVLP218a', 'MTe01', 'CB2662', 'CB3479', 'CB3305', 'LTe49d', 'LC14b', 'MeTu1', 'Dm2', 'CB1775', 'CB1327', 'CB3230', 'AVLP312b', 'DNge078', 'LHAV6c1b', 'CB3306', 'CB2625', 'CB1591', 'CB3852', 'CB3366', 'CB2077', 'T5b', 'CB0943', 'Dm15', 'CB0020', 'LC10c', 'SLP212a', 'CB2990', 'CB0946', 'CB3828', 'CB1779', 'Mi2', 'CB2266', 'Dm9', 'DNg15', 'CB1299', 'CB2115', 'CB1111', 'CB1324', 'TmY5a', 'CB1242', 'Mi15', 'SMP248c', 'CB1885', 'SLP467a', 'CB2543', 'Tm4', 'CB1302', 'CB0298', 'CB1678', 'CB2149', 'SLP398a', 'LC19', 'DNge007', 'DNge027', 'CB0284', 'Dm4', 'CB1126', 'MeTu4', 'CB1436', 'DNge169', 'CB2817', 'CB.FB5D8', 'CB3287', 'CB0148', 'CB3851', 'Tm1', 'CB1750', 'CB3854', 'CB1127', 'Mi4', 'CB1607', 'CB.FB3,4D0', 'CB2308', 'Tm5a', 'CB2767', 'CB1382', 'Mi13', 'CB3864', 'CB1385', 'CB3145', 'LCe03', 'CB2938', 'Dm20', 'AVLP550a', 'TmY4', 'SMP206,SLP327b', 'AVLP380b', 'CB2848', 'CB0919', 'C3', 'CB0404', 'Dm12', 'CB3584', 'CB2267', 'CB2079', 'CB1231', 'CB2417', 'CB1060', 'CB1252', 'CB0472', 'Tm2', 'CB1740', 'CB2846', 'Am', 'LTe38b', 'CB1575', 'CB.FB8E0', 'Tm6', 'CB2370', 'Dm21', 'CB3541', 'L3', 'CB1841', 'Tm20', 'CB3775', 'CB3753', 'CB2477', 'CB0978', 'CB2432', 'CB2424', 'R8', 'CB3538', 'Dm6', 'MTe02', 'cML02', 'CB1329', 'T2a', 'CB2155', 'CB1447', 'DNae015', 'AVLP147', 'CB1759', 'CB2108', 'R7', 'CB2886', 'DNge184', 'CB3234', 'LCe04', 'CB2241', '5-HT-IR_Tan', 'LC10d', 'CB2683', 'CB2260', 'CB1148', 'CB0900', 'CB3849', 'CB3545', 'CB0200', 'CB1460', 'CB0540', 'CB2575', 'CB0362', 'CB2660', 'LAL150b', 'Mt4', 'Pm1', 'CB3328', 'CB3300', 'CB0645', 'CB0587', 'CB.FB7E0', 'T2', 'CB2664', 'cLP02', 'CB3317', 'LCe09', 'Unknown', 'CB0306', 'CB1384', 'CB2056', 'Dm3', 'CB2321', 'DNge150', 'TmY18', 'CB1268'}\n",
      "num_4\n",
      "{'Tm3', 'CB2041', 'CB1885', 'Tm20', 'AVLP312b', 'Dm10', 'Tm1', 'Unknown', 'LC10d', 'CB2817', 'T4a', 'CB2376', 'L3', 'CB3852', 'R8', 'LC10e'}\n",
      "num_5\n",
      "{'Unknown'}\n",
      "num_6\n",
      "{'Unknown'}\n",
      "num_7\n",
      "{'Unknown'}\n",
      "num_8\n",
      "{'Unknown'}\n",
      "num_9\n",
      "{'Unknown'}\n"
     ]
    }
   ],
   "source": [
    "# check if some cell types are in all the top neurons\n",
    "common = set(vcs[\"num_3\"].index)\n",
    "for name, vc in vcs.items():\n",
    "    if type(vc) != str:\n",
    "        print(name)\n",
    "        common = common.intersection(set(vc.index))\n",
    "        print(common)\n"
   ]
  },
  {
   "cell_type": "code",
   "execution_count": 26,
   "metadata": {},
   "outputs": [
    {
     "data": {
      "text/plain": [
       "Unknown    9\n",
       "T2a        3\n",
       "Pm2        2\n",
       "Tm3        2\n",
       "CB2846     1\n",
       "CB3379     1\n",
       "L5         1\n",
       "Tm2        1\n",
       "Dm2        1\n",
       "L3         1\n",
       "CB3064     1\n",
       "CB1415     1\n",
       "L1         1\n",
       "Mi9        1\n",
       "CB0989     1\n",
       "CB2592     1\n",
       "CB2995     1\n",
       "CB1301     1\n",
       "CB2809     1\n",
       "Name: cell_type, dtype: int64"
      ]
     },
     "execution_count": 26,
     "metadata": {},
     "output_type": "execute_result"
    }
   ],
   "source": [
    "vcs[\"num_2\"]"
   ]
  },
  {
   "cell_type": "code",
   "execution_count": 27,
   "metadata": {},
   "outputs": [
    {
     "data": {
      "text/plain": [
       "LCe03      1\n",
       "L1         1\n",
       "Unknown    1\n",
       "CB3092     1\n",
       "CB2453     1\n",
       "Name: cell_type, dtype: int64"
      ]
     },
     "execution_count": 27,
     "metadata": {},
     "output_type": "execute_result"
    }
   ],
   "source": [
    "vcs[\"num_3\"]"
   ]
  },
  {
   "cell_type": "code",
   "execution_count": 28,
   "metadata": {},
   "outputs": [
    {
     "data": {
      "text/html": [
       "<div>\n",
       "<style scoped>\n",
       "    .dataframe tbody tr th:only-of-type {\n",
       "        vertical-align: middle;\n",
       "    }\n",
       "\n",
       "    .dataframe tbody tr th {\n",
       "        vertical-align: top;\n",
       "    }\n",
       "\n",
       "    .dataframe thead th {\n",
       "        text-align: right;\n",
       "    }\n",
       "</style>\n",
       "<table border=\"1\" class=\"dataframe\">\n",
       "  <thead>\n",
       "    <tr style=\"text-align: right;\">\n",
       "      <th></th>\n",
       "      <th>root_id</th>\n",
       "      <th>cell_type</th>\n",
       "      <th>tuning_curve_3</th>\n",
       "    </tr>\n",
       "  </thead>\n",
       "  <tbody>\n",
       "    <tr>\n",
       "      <th>133598</th>\n",
       "      <td>720575940644282528</td>\n",
       "      <td>LCe03</td>\n",
       "      <td>0.920465</td>\n",
       "    </tr>\n",
       "    <tr>\n",
       "      <th>68448</th>\n",
       "      <td>720575940624792051</td>\n",
       "      <td>L1</td>\n",
       "      <td>0.919709</td>\n",
       "    </tr>\n",
       "    <tr>\n",
       "      <th>50908</th>\n",
       "      <td>720575940621678942</td>\n",
       "      <td>Unknown</td>\n",
       "      <td>0.907401</td>\n",
       "    </tr>\n",
       "    <tr>\n",
       "      <th>128216</th>\n",
       "      <td>720575940639686973</td>\n",
       "      <td>CB3092</td>\n",
       "      <td>0.906043</td>\n",
       "    </tr>\n",
       "    <tr>\n",
       "      <th>42416</th>\n",
       "      <td>720575940620173733</td>\n",
       "      <td>CB2453</td>\n",
       "      <td>0.901155</td>\n",
       "    </tr>\n",
       "  </tbody>\n",
       "</table>\n",
       "</div>"
      ],
      "text/plain": [
       "                   root_id cell_type  tuning_curve_3\n",
       "133598  720575940644282528     LCe03        0.920465\n",
       "68448   720575940624792051        L1        0.919709\n",
       "50908   720575940621678942   Unknown        0.907401\n",
       "128216  720575940639686973    CB3092        0.906043\n",
       "42416   720575940620173733    CB2453        0.901155"
      ]
     },
     "execution_count": 28,
     "metadata": {},
     "output_type": "execute_result"
    }
   ],
   "source": [
    "tns[\"num_3\"]"
   ]
  },
  {
   "cell_type": "code",
   "execution_count": 29,
   "metadata": {},
   "outputs": [
    {
     "data": {
      "text/html": [
       "<div>\n",
       "<style scoped>\n",
       "    .dataframe tbody tr th:only-of-type {\n",
       "        vertical-align: middle;\n",
       "    }\n",
       "\n",
       "    .dataframe tbody tr th {\n",
       "        vertical-align: top;\n",
       "    }\n",
       "\n",
       "    .dataframe thead th {\n",
       "        text-align: right;\n",
       "    }\n",
       "</style>\n",
       "<table border=\"1\" class=\"dataframe\">\n",
       "  <thead>\n",
       "    <tr style=\"text-align: right;\">\n",
       "      <th></th>\n",
       "      <th>root_id</th>\n",
       "      <th>cell_type</th>\n",
       "      <th>tuning_curve_4</th>\n",
       "    </tr>\n",
       "  </thead>\n",
       "  <tbody>\n",
       "  </tbody>\n",
       "</table>\n",
       "</div>"
      ],
      "text/plain": [
       "Empty DataFrame\n",
       "Columns: [root_id, cell_type, tuning_curve_4]\n",
       "Index: []"
      ]
     },
     "execution_count": 29,
     "metadata": {},
     "output_type": "execute_result"
    }
   ],
   "source": [
    "tns[\"num_4\"]"
   ]
  },
  {
   "cell_type": "code",
   "execution_count": 30,
   "metadata": {},
   "outputs": [
    {
     "data": {
      "text/html": [
       "<div>\n",
       "<style scoped>\n",
       "    .dataframe tbody tr th:only-of-type {\n",
       "        vertical-align: middle;\n",
       "    }\n",
       "\n",
       "    .dataframe tbody tr th {\n",
       "        vertical-align: top;\n",
       "    }\n",
       "\n",
       "    .dataframe thead th {\n",
       "        text-align: right;\n",
       "    }\n",
       "</style>\n",
       "<table border=\"1\" class=\"dataframe\">\n",
       "  <thead>\n",
       "    <tr style=\"text-align: right;\">\n",
       "      <th></th>\n",
       "      <th>root_id</th>\n",
       "      <th>cell_type</th>\n",
       "      <th>tuning_curve_5</th>\n",
       "    </tr>\n",
       "  </thead>\n",
       "  <tbody>\n",
       "  </tbody>\n",
       "</table>\n",
       "</div>"
      ],
      "text/plain": [
       "Empty DataFrame\n",
       "Columns: [root_id, cell_type, tuning_curve_5]\n",
       "Index: []"
      ]
     },
     "execution_count": 30,
     "metadata": {},
     "output_type": "execute_result"
    }
   ],
   "source": [
    "tns[\"num_5\"]"
   ]
  },
  {
   "cell_type": "code",
   "execution_count": 31,
   "metadata": {},
   "outputs": [
    {
     "data": {
      "text/html": [
       "<div>\n",
       "<style scoped>\n",
       "    .dataframe tbody tr th:only-of-type {\n",
       "        vertical-align: middle;\n",
       "    }\n",
       "\n",
       "    .dataframe tbody tr th {\n",
       "        vertical-align: top;\n",
       "    }\n",
       "\n",
       "    .dataframe thead th {\n",
       "        text-align: right;\n",
       "    }\n",
       "</style>\n",
       "<table border=\"1\" class=\"dataframe\">\n",
       "  <thead>\n",
       "    <tr style=\"text-align: right;\">\n",
       "      <th></th>\n",
       "      <th>root_id</th>\n",
       "      <th>cell_type</th>\n",
       "      <th>tuning_curve_6</th>\n",
       "    </tr>\n",
       "  </thead>\n",
       "  <tbody>\n",
       "    <tr>\n",
       "      <th>55556</th>\n",
       "      <td>720575940622478341</td>\n",
       "      <td>CB3857</td>\n",
       "      <td>0.904525</td>\n",
       "    </tr>\n",
       "  </tbody>\n",
       "</table>\n",
       "</div>"
      ],
      "text/plain": [
       "                  root_id cell_type  tuning_curve_6\n",
       "55556  720575940622478341    CB3857        0.904525"
      ]
     },
     "execution_count": 31,
     "metadata": {},
     "output_type": "execute_result"
    }
   ],
   "source": [
    "tns[\"num_6\"]"
   ]
  },
  {
   "cell_type": "code",
   "execution_count": null,
   "metadata": {},
   "outputs": [],
   "source": []
  }
 ],
 "metadata": {
  "kernelspec": {
   "display_name": "venv",
   "language": "python",
   "name": "python3"
  },
  "language_info": {
   "codemirror_mode": {
    "name": "ipython",
    "version": 3
   },
   "file_extension": ".py",
   "mimetype": "text/x-python",
   "name": "python",
   "nbconvert_exporter": "python",
   "pygments_lexer": "ipython3",
   "version": "3.12.3"
  }
 },
 "nbformat": 4,
 "nbformat_minor": 2
}
