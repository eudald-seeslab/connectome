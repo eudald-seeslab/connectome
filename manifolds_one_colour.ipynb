{
 "cells": [
  {
   "cell_type": "code",
   "metadata": {},
   "source": [
    "import numpy as np\n",
    "import pandas as pd\n",
    "import torch\n",
    "from torch.nn import CrossEntropyLoss\n",
    "import matplotlib.pyplot as plt\n",
    "cmap = plt.get_cmap(\"viridis\")\n",
    "\n",
    "import config as u_config\n",
    "from graph_models import FullGraphModel\n",
    "\n",
    "from data_processing import CompleteModelsDataProcessor\n",
    "from manifold_funcs import manifold_test, extract_details\n",
    "from manifold_plots import create_dash_app_two_sliders\n",
    "\n",
    "\n",
    "device_type = \"cuda\" if torch.cuda.is_available() else \"cpu\"\n",
    "device = torch.device(device_type)\n",
    "dtype = torch.float32\n",
    "batch_size = u_config.batch_size"
   ],
   "outputs": [],
   "execution_count": null
  },
  {
   "cell_type": "code",
   "metadata": {},
   "source": [
    "data_processor = CompleteModelsDataProcessor(u_config)\n",
    "model = FullGraphModel(data_processor, u_config).to(device)\n",
    "criterion = CrossEntropyLoss()\n",
    "\n",
    "checkpoint = torch.load(\n",
    "    \"models/m_2024-06-17 12:58_lrypvwbz.pth\",\n",
    "    # \"models/m_2024-07-29 17:05_ietvbnta.pth\",\n",
    "    map_location=device_type,\n",
    ")\n",
    "model.load_state_dict(checkpoint[\"model\"])\n",
    "torch.set_grad_enabled(False)\n",
    "model.eval()"
   ],
   "outputs": [],
   "execution_count": null
  },
  {
   "cell_type": "code",
   "metadata": {},
   "source": [
    "test_results, final_plots, accuracy, intermediate, labels = manifold_test(\n",
    "    model, data_processor, criterion, device, u_config\n",
    ")"
   ],
   "outputs": [],
   "execution_count": null
  },
  {
   "cell_type": "code",
   "metadata": {},
   "source": [
    "intermediate = intermediate.cpu().numpy()\n",
    "\n",
    "test_results[\"radius\"], test_results[\"distance\"], test_results[\"angle\"] = zip(\n",
    "    *test_results[\"Image\"].apply(extract_details)\n",
    ")\n",
    "test_results[\"shape\"] = test_results[\"Image\"].str.split(\"/\").str.get(-2)\n",
    "shape_colors = {\"circle\": \"blue\", \"star\": \"red\"}\n",
    "test_results[\"colour\"] = test_results[\"shape\"].map(shape_colors)\n",
    "bin_num = 30\n",
    "test_results[\"distance\"] = pd.cut(test_results[\"distance\"], bins=bin_num, labels=False)\n",
    "test_results[\"angle\"] = pd.cut(test_results[\"angle\"], bins=bin_num, labels=False)\n",
    "\n",
    "# test_results = pd.read_csv(\"results/manifolds.csv\")"
   ],
   "outputs": [],
   "execution_count": null
  },
  {
   "cell_type": "code",
   "metadata": {},
   "source": [
    "from sklearn.manifold import TSNE\n",
    "\n",
    "# Perform t-SNE to reduce to 2D for visualization\n",
    "tsne = TSNE(n_components=3, random_state=42)\n",
    "reduced_data = tsne.fit_transform(intermediate)\n",
    "test_results[\"tsne_Component_1\"] = reduced_data[:, 0]\n",
    "test_results[\"tsne_Component_2\"] = reduced_data[:, 1]\n",
    "test_results[\"tsne_Component_3\"] = reduced_data[:, 2]"
   ],
   "outputs": [],
   "execution_count": null
  },
  {
   "cell_type": "code",
   "metadata": {},
   "source": [
    "create_dash_app_two_sliders(test_results, \"tsne\")"
   ],
   "outputs": [],
   "execution_count": null
  },
  {
   "cell_type": "code",
   "metadata": {},
   "source": [
    "from manifold_plots import plot_2D\n",
    "\n",
    "plot_2D(test_results, \"tsne\")"
   ],
   "outputs": [],
   "execution_count": null
  },
  {
   "cell_type": "code",
   "metadata": {},
   "source": [
    "import umap\n",
    "\n",
    "# Perform UMAP to reduce to 2D for visualization\n",
    "reducer = umap.UMAP(n_components=3)\n",
    "reduced_data = reducer.fit_transform(intermediate)\n",
    "\n",
    "test_results[\"umap_Component_1\"] = reduced_data[:, 0]\n",
    "test_results[\"umap_Component_2\"] = reduced_data[:, 1]\n",
    "test_results[\"umap_Component_3\"] = reduced_data[:, 2]"
   ],
   "outputs": [],
   "execution_count": null
  },
  {
   "cell_type": "code",
   "metadata": {},
   "source": [
    "create_dash_app_two_sliders(test_results, \"umap\")"
   ],
   "outputs": [],
   "execution_count": null
  },
  {
   "cell_type": "code",
   "metadata": {},
   "source": [
    "from sklearn.decomposition import PCA\n",
    "\n",
    "pca_2d = PCA(n_components=3)\n",
    "pca_2d_result = pca_2d.fit_transform(intermediate)\n",
    "\n",
    "test_results[\"pca_Component_1\"] = pca_2d_result[:, 0]\n",
    "test_results[\"pca_Component_2\"] = pca_2d_result[:, 1]\n",
    "test_results[\"pca_Component_3\"] = pca_2d_result[:, 2]"
   ],
   "outputs": [],
   "execution_count": null
  },
  {
   "cell_type": "code",
   "metadata": {},
   "source": [
    "create_dash_app_two_sliders(test_results, \"pca\")"
   ],
   "outputs": [],
   "execution_count": null
  },
  {
   "cell_type": "markdown",
   "metadata": {},
   "source": [
    "# 2D"
   ]
  },
  {
   "cell_type": "code",
   "metadata": {},
   "source": [
    "%matplotlib inline\n",
    "\n",
    "from sklearn.manifold import TSNE\n",
    "\n",
    "# Assuming `all_intermediate_outputs` is the tensor with shape (n, 916)\n",
    "# and `labels` is a vector with the same length n, containing the labels (circle or star)\n",
    "\n",
    "# Convert tensors to numpy arrays if they are not already\n",
    "intermediate = intermediate.cpu().numpy()\n",
    "# convert labels to numpy array\n",
    "labels = np.array(labels).reshape(-1)\n",
    "labels = np.array([\"circle\" if label == 0 else \"star\" for label in labels])\n",
    "\n",
    "# Perform t-SNE to reduce to 2D for visualization\n",
    "tsne = TSNE(n_components=2, random_state=42)\n",
    "reduced_data = tsne.fit_transform(intermediate)\n",
    "\n",
    "# Plotting\n",
    "plt.figure(figsize=(10, 6))\n",
    "for label in np.unique(labels):\n",
    "    indices = labels == label\n",
    "    plt.scatter(\n",
    "        reduced_data[indices, 0], \n",
    "        reduced_data[indices, 1], \n",
    "        label=str(label),\n",
    "        alpha=0.5\n",
    "        )\n",
    "\n",
    "plt.legend()\n",
    "plt.title(\"t-SNE of Intermediate Outputs\")\n",
    "plt.xlabel(\"t-SNE Component 1\")\n",
    "plt.ylabel(\"t-SNE Component 2\")\n",
    "plt.show()"
   ],
   "outputs": [],
   "execution_count": null
  },
  {
   "cell_type": "code",
   "metadata": {},
   "source": [
    "from sklearn.manifold import Isomap\n",
    "np.random.seed(42)\n",
    "# Perform Isomap to reduce to 2D for visualization\n",
    "isomap = Isomap(n_components=2)\n",
    "manifold_data = isomap.fit_transform(intermediate)\n",
    "\n",
    "# Plotting\n",
    "plt.figure(figsize=(10, 6))\n",
    "for label in np.unique(labels):\n",
    "    indices = labels == label\n",
    "    plt.scatter(manifold_data[indices, 0], manifold_data[indices, 1], label=str(label))\n",
    "plt.legend()\n",
    "plt.title(\"Isomap of Intermediate Outputs\")\n",
    "plt.xlabel(\"Isomap Component 1\")\n",
    "plt.ylabel(\"Isomap Component 2\")\n",
    "plt.show()"
   ],
   "outputs": [],
   "execution_count": null
  },
  {
   "cell_type": "code",
   "metadata": {},
   "source": [
    "import umap\n",
    "\n",
    "# Perform UMAP to reduce to 2D for visualization\n",
    "reducer = umap.UMAP(n_components=2, random_state=42)\n",
    "reduced_data = reducer.fit_transform(intermediate)\n",
    "\n",
    "# Plotting\n",
    "plt.figure(figsize=(10, 6))\n",
    "for label in np.unique(labels):\n",
    "    indices = labels == label\n",
    "    plt.scatter(\n",
    "        reduced_data[indices, 0], \n",
    "        reduced_data[indices, 1], \n",
    "        label=str(label),\n",
    "        alpha=0.5)\n",
    "\n",
    "plt.legend()\n",
    "plt.title(\"UMAP of Intermediate Outputs\")\n",
    "plt.xlabel(\"UMAP Component 1\")\n",
    "plt.ylabel(\"UMAP Component 2\")\n",
    "plt.show()"
   ],
   "outputs": [],
   "execution_count": null
  },
  {
   "cell_type": "code",
   "metadata": {},
   "source": [
    "from sklearn.decomposition import PCA\n",
    "\n",
    "pca_2d = PCA(n_components=2)\n",
    "pca_2d_result = pca_2d.fit_transform(intermediate)\n",
    "\n",
    "# Plotting\n",
    "plt.figure(figsize=(10, 6))\n",
    "for label in np.unique(labels):\n",
    "    indices = labels == label\n",
    "    plt.scatter(\n",
    "        pca_2d_result[indices, 0],\n",
    "        pca_2d_result[indices, 1],\n",
    "        label=str(label),\n",
    "        alpha=0.5,\n",
    "    )\n",
    "\n",
    "plt.legend()\n",
    "plt.title(\"PCA of Intermediate Outputs\")\n",
    "plt.xlabel(\"Principal Component 1\")\n",
    "plt.ylabel(\"Principal Component 2\")\n",
    "plt.show()"
   ],
   "outputs": [],
   "execution_count": null
  },
  {
   "cell_type": "code",
   "metadata": {},
   "source": [
    "pca_2d_result"
   ],
   "outputs": [],
   "execution_count": null
  },
  {
   "cell_type": "code",
   "metadata": {},
   "source": [
    "import plotly.express as px\n",
    "import pandas as pd\n",
    "\n",
    "# Perform t-SNE to reduce to 3D for visualization\n",
    "tsne = TSNE(n_components=3, random_state=42)\n",
    "tsne_3d = tsne.fit_transform(intermediate)\n",
    "\n",
    "# Perform UMAP to reduce to 3D for visualization\n",
    "reducer = umap.UMAP(n_components=3, random_state=42)\n",
    "umap_3d = reducer.fit_transform(intermediate)\n",
    "\n",
    "tsne_df = pd.DataFrame(tsne_3d, columns=[\"Component 1\", \"Component 2\", \"Component 3\"])\n",
    "tsne_df[\"Label\"] = labels\n",
    "\n",
    "umap_df = pd.DataFrame(umap_3d, columns=[\"Component 1\", \"Component 2\", \"Component 3\"])\n",
    "umap_df[\"Label\"] = labels\n",
    "\n",
    "# Plot t-SNE in 3D using plotly\n",
    "fig_tsne = px.scatter_3d(\n",
    "    tsne_df,\n",
    "    x=\"Component 1\",\n",
    "    y=\"Component 2\",\n",
    "    z=\"Component 3\",\n",
    "    color=\"Label\",\n",
    "    title=\"t-SNE 3D of Intermediate Outputs\",\n",
    ")\n",
    "fig_tsne.show()"
   ],
   "outputs": [],
   "execution_count": null
  },
  {
   "cell_type": "code",
   "metadata": {},
   "source": [
    "\n",
    "# Plot UMAP in 3D using plotly\n",
    "fig_umap = px.scatter_3d(\n",
    "    umap_df,\n",
    "    x=\"Component 1\",\n",
    "    y=\"Component 2\",\n",
    "    z=\"Component 3\",\n",
    "    color=\"Label\",\n",
    "    title=\"UMAP 3D of Intermediate Outputs\",\n",
    ")\n",
    "fig_umap.show()"
   ],
   "outputs": [],
   "execution_count": null
  },
  {
   "cell_type": "code",
   "metadata": {},
   "source": [
    "pca = PCA(n_components=3)\n",
    "pca_3d = pca.fit_transform(intermediate)\n",
    "pca_df = pd.DataFrame(pca_3d, columns=[\"Component 1\", \"Component 2\", \"Component 3\"])\n",
    "pca_df[\"Label\"] = labels\n",
    "\n",
    "fig_pca = px.scatter_3d(\n",
    "    pca_df,\n",
    "    x=\"Component 1\",\n",
    "    y=\"Component 2\",\n",
    "    z=\"Component 3\",\n",
    "    color=\"Label\",\n",
    "    title=\"PCA 3D of Intermediate Outputs\",\n",
    ")\n",
    "fig_pca.show()"
   ],
   "outputs": [],
   "execution_count": null
  },
  {
   "cell_type": "code",
   "metadata": {},
   "source": [],
   "outputs": [],
   "execution_count": null
  }
 ],
 "metadata": {
  "kernelspec": {
   "display_name": "venv",
   "language": "python",
   "name": "python3"
  },
  "language_info": {
   "codemirror_mode": {
    "name": "ipython",
    "version": 3
   },
   "file_extension": ".py",
   "mimetype": "text/x-python",
   "name": "python",
   "nbconvert_exporter": "python",
   "pygments_lexer": "ipython3",
   "version": "3.12.3"
  }
 },
 "nbformat": 4,
 "nbformat_minor": 2
}
