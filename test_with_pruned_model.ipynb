{
 "cells": [
  {
   "cell_type": "code",
   "execution_count": 1,
   "metadata": {},
   "outputs": [],
   "source": [
    "%matplotlib inline\n",
    "import copy\n",
    "\n",
    "import numpy as np\n",
    "import torch\n",
    "import torch.nn.utils.prune as prune\n",
    "from torch.nn import CrossEntropyLoss\n",
    "import matplotlib.pyplot as plt\n",
    "cmap = plt.get_cmap(\"viridis\")\n",
    "from tqdm import tqdm\n",
    "\n",
    "import config\n",
    "from graph_models import FullGraphModel\n",
    "from complete_training_data_processing import CompleteModelsDataProcessor\n",
    "from utils import (\n",
    "    clean_model_outputs, \n",
    "    get_image_paths, \n",
    "    get_iteration_number, \n",
    "    initialize_results_df, \n",
    "    select_random_images, \n",
    "    update_results_df, \n",
    "    update_running_loss, \n",
    "    plot_results\n",
    ")\n",
    "\n",
    "device_type = \"cuda\" if torch.cuda.is_available() else \"cpu\"\n",
    "device = torch.device(device_type)\n",
    "dtype = torch.float32\n",
    "batch_size = config.batch_size"
   ]
  },
  {
   "cell_type": "code",
   "execution_count": 2,
   "metadata": {},
   "outputs": [],
   "source": [
    "data_processor = CompleteModelsDataProcessor(\n",
    "    neurons=config.neurons,\n",
    "    voronoi_criteria=config.voronoi_criteria,\n",
    "    random_synapses=config.random_synapses,\n",
    "    log_transform_weights=config.log_transform_weights,\n",
    ")\n",
    "\n",
    "model = FullGraphModel(\n",
    "    input_shape=data_processor.number_of_synapses,\n",
    "    num_connectome_passes=config.NUM_CONNECTOME_PASSES,\n",
    "    decision_making_vector=data_processor.decision_making_vector,\n",
    "    batch_size=config.batch_size,\n",
    "    dtype=config.dtype,\n",
    "    edge_weights=data_processor.synaptic_matrix.data,\n",
    "    device=config.DEVICE,\n",
    "    num_classes=len(config.CLASSES),\n",
    ").to(device)\n",
    "criterion = CrossEntropyLoss()"
   ]
  },
  {
   "cell_type": "code",
   "execution_count": 3,
   "metadata": {},
   "outputs": [],
   "source": [
    "def correct_test_results(test_results):\n",
    "    # There was a bug in how we get the classes, and the 0-1 labels can be flipped\n",
    "    # This function corrects the labels if the accuracy is below 0.5\n",
    "    flipped = False\n",
    "    if test_results[\"Is correct\"].sum() / len(test_results) < 0.5:\n",
    "        test_results[\"Is correct\"] = np.abs(test_results[\"Is correct\"] - 1)\n",
    "        flipped = True\n",
    "\n",
    "    return test_results, flipped\n",
    "\n",
    "# test\n",
    "def test(model):\n",
    "    testing_images = get_image_paths(\n",
    "        config.TESTING_DATA_DIR, config.small, config.small_length\n",
    "    )\n",
    "    already_selected_testing = []\n",
    "    total_correct, total, running_loss = 0, 0, 0.0\n",
    "    test_results = initialize_results_df()\n",
    "\n",
    "    iterations = get_iteration_number(len(testing_images), batch_size)\n",
    "    for _ in tqdm(range(iterations)):\n",
    "        batch_files, already_selected_testing = select_random_images(\n",
    "            testing_images, batch_size, already_selected_testing\n",
    "        )\n",
    "        images, labels = data_processor.get_data_from_paths(batch_files)\n",
    "        inputs, labels = data_processor.process_batch(images, labels)\n",
    "        inputs = inputs.to(config.DEVICE)\n",
    "\n",
    "        out = model(inputs)\n",
    "        loss = criterion(out, labels)\n",
    "\n",
    "        # Calculate run parameters\n",
    "        outputs, predictions, labels_cpu, correct = clean_model_outputs(out, labels)\n",
    "        test_results = update_results_df(\n",
    "            test_results, batch_files, outputs, predictions, labels_cpu, correct\n",
    "        )\n",
    "        running_loss += update_running_loss(loss, inputs)\n",
    "        total += batch_size\n",
    "        total_correct += correct.sum()\n",
    "\n",
    "    test_results, flipped = correct_test_results(test_results)\n",
    "    final_plots = plot_results(test_results, plot_types=config.plot_types)\n",
    "\n",
    "    print(\n",
    "        f\"Finished testing with loss {running_loss / total} and \"\n",
    "        f\"accuracy {total_correct / total}.\"\n",
    "    )\n",
    "    return test_results, final_plots, total_correct / total, flipped"
   ]
  },
  {
   "cell_type": "code",
   "execution_count": 4,
   "metadata": {},
   "outputs": [],
   "source": [
    "checkpoint = torch.load(\n",
    "    \"models/n_all_v_R7_r_False_lr_0.001_p_4_2024-05-23 18:58.pth\",\n",
    "    map_location=device_type,\n",
    ")\n",
    "model.load_state_dict(checkpoint[\"model\"])\n",
    "torch.set_grad_enabled(False)\n",
    "model.eval()\n",
    "model_orig = copy.deepcopy(model)\n"
   ]
  },
  {
   "cell_type": "code",
   "execution_count": 6,
   "metadata": {},
   "outputs": [
    {
     "name": "stderr",
     "output_type": "stream",
     "text": [
      "100%|██████████| 212/212 [13:47<00:00,  3.90s/it]\n"
     ]
    },
    {
     "name": "stdout",
     "output_type": "stream",
     "text": [
      "Finished testing with loss 233416.30759385342 and accuracy 0.2212558962264151.\n"
     ]
    },
    {
     "name": "stderr",
     "output_type": "stream",
     "text": [
      "100%|██████████| 212/212 [13:19<00:00,  3.77s/it]\n"
     ]
    },
    {
     "name": "stdout",
     "output_type": "stream",
     "text": [
      "Finished testing with loss 231562.8048477454 and accuracy 0.24027122641509435.\n"
     ]
    },
    {
     "name": "stderr",
     "output_type": "stream",
     "text": [
      "100%|██████████| 212/212 [12:21<00:00,  3.50s/it]\n"
     ]
    },
    {
     "name": "stdout",
     "output_type": "stream",
     "text": [
      "Finished testing with loss 226160.74836994737 and accuracy 0.27476415094339623.\n"
     ]
    },
    {
     "name": "stderr",
     "output_type": "stream",
     "text": [
      "100%|██████████| 212/212 [12:20<00:00,  3.49s/it]\n"
     ]
    },
    {
     "name": "stdout",
     "output_type": "stream",
     "text": [
      "Finished testing with loss 216984.9025697798 and accuracy 0.3071933962264151.\n"
     ]
    },
    {
     "name": "stderr",
     "output_type": "stream",
     "text": [
      "100%|██████████| 212/212 [12:25<00:00,  3.51s/it]\n"
     ]
    },
    {
     "name": "stdout",
     "output_type": "stream",
     "text": [
      "Finished testing with loss 219334.1154865999 and accuracy 0.3004127358490566.\n"
     ]
    },
    {
     "name": "stderr",
     "output_type": "stream",
     "text": [
      "100%|██████████| 212/212 [12:23<00:00,  3.51s/it]\n"
     ]
    },
    {
     "name": "stdout",
     "output_type": "stream",
     "text": [
      "Finished testing with loss 214542.8628590686 and accuracy 0.3167747641509434.\n"
     ]
    },
    {
     "name": "stderr",
     "output_type": "stream",
     "text": [
      "100%|██████████| 212/212 [12:25<00:00,  3.52s/it]\n"
     ]
    },
    {
     "name": "stdout",
     "output_type": "stream",
     "text": [
      "Finished testing with loss 196677.7914663885 and accuracy 0.3590801886792453.\n"
     ]
    },
    {
     "name": "stderr",
     "output_type": "stream",
     "text": [
      "100%|██████████| 212/212 [12:25<00:00,  3.52s/it]\n"
     ]
    },
    {
     "name": "stdout",
     "output_type": "stream",
     "text": [
      "Finished testing with loss 194048.8772412665 and accuracy 0.3758844339622642.\n"
     ]
    },
    {
     "name": "stderr",
     "output_type": "stream",
     "text": [
      "100%|██████████| 212/212 [12:26<00:00,  3.52s/it]\n"
     ]
    },
    {
     "name": "stdout",
     "output_type": "stream",
     "text": [
      "Finished testing with loss 157600.9953765664 and accuracy 0.45150353773584906.\n"
     ]
    },
    {
     "name": "stderr",
     "output_type": "stream",
     "text": [
      "100%|██████████| 212/212 [12:28<00:00,  3.53s/it]\n"
     ]
    },
    {
     "name": "stdout",
     "output_type": "stream",
     "text": [
      "Finished testing with loss 136309.67340143785 and accuracy 0.4492924528301887.\n"
     ]
    },
    {
     "name": "stderr",
     "output_type": "stream",
     "text": [
      "100%|██████████| 212/212 [12:26<00:00,  3.52s/it]\n"
     ]
    },
    {
     "name": "stdout",
     "output_type": "stream",
     "text": [
      "Finished testing with loss nan and accuracy 0.5001474056603774.\n"
     ]
    }
   ],
   "source": [
    "results = {}\n",
    "for ix, p in enumerate(np.linspace(0, 1, 11)):\n",
    "    model = copy.deepcopy(model_orig)\n",
    "    prune.random_unstructured(\n",
    "        model.connectome, name=\"edge_weight_multiplier\", amount=p\n",
    "    )\n",
    "    test_results, final_plots, accuracy, flipped = test(model)\n",
    "    results[f\"prune_{ix}\"] = {\n",
    "        \"prune_frac\": p,\n",
    "        \"test_results\": test_results,\n",
    "        \"final_plots\": final_plots,\n",
    "        \"accuracy\": accuracy,\n",
    "        \"flipped\": flipped,\n",
    "    }"
   ]
  },
  {
   "cell_type": "code",
   "execution_count": 12,
   "metadata": {},
   "outputs": [],
   "source": [
    "import pandas as pd\n",
    "pa = pd.DataFrame({\"prune_frac\": [r[\"prune_frac\"] for r in results.values()], \"accuracy\": [1 - r[\"accuracy\"] for r in results.values()]})"
   ]
  },
  {
   "cell_type": "code",
   "execution_count": 18,
   "metadata": {},
   "outputs": [
    {
     "data": {
      "image/png": "[encoded data removed]",
      "text/plain": [
       "<Figure size 1000x600 with 1 Axes>"
      ]
     },
     "metadata": {},
     "output_type": "display_data"
    }
   ],
   "source": [
    "%matplotlib inline\n",
    "import seaborn as sns\n",
    "\n",
    "fig = plt.figure(figsize=(10, 6))\n",
    "sns.lineplot(data=pa, x=\"prune_frac\", y=\"accuracy\")\n",
    "plt.show()"
   ]
  },
  {
   "cell_type": "code",
   "execution_count": null,
   "metadata": {},
   "outputs": [],
   "source": []
  }
 ],
 "metadata": {
  "kernelspec": {
   "display_name": "venv",
   "language": "python",
   "name": "python3"
  },
  "language_info": {
   "codemirror_mode": {
    "name": "ipython",
    "version": 3
   },
   "file_extension": ".py",
   "mimetype": "text/x-python",
   "name": "python",
   "nbconvert_exporter": "python",
   "pygments_lexer": "ipython3",
   "version": "3.10.12"
  }
 },
 "nbformat": 4,
 "nbformat_minor": 2
}
