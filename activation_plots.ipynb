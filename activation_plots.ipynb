{
 "cells": [
  {
   "cell_type": "code",
   "execution_count": 1,
   "metadata": {},
   "outputs": [
    {
     "name": "stderr",
     "output_type": "stream",
     "text": [
      "/home/eudald/Desktop/doctorat/connectome/venv/lib/python3.10/site-packages/torch/cuda/__init__.py:118: UserWarning: CUDA initialization: CUDA unknown error - this may be due to an incorrectly set up environment, e.g. changing env variable CUDA_VISIBLE_DEVICES after program start. Setting the available devices to be zero. (Triggered internally at ../c10/cuda/CUDAFunctions.cpp:108.)\n",
      "  return torch._C._cuda_getDeviceCount() > 0\n"
     ]
    }
   ],
   "source": [
    "%matplotlib inline\n",
    "import os\n",
    "import torch\n",
    "import pandas as pd\n",
    "import numpy as np\n",
    "import matplotlib.pyplot as plt\n",
    "cmap = plt.get_cmap(\"viridis\")\n",
    "from tqdm import tqdm\n",
    "\n",
    "import config\n",
    "from graph_models import FullGraphModel\n",
    "from complete_training_data_processing import CompleteModelsDataProcessor\n",
    "from model_inspection_funcs import neuron_data_from_image, propagate_neuron_data, sample_images\n",
    "\n",
    "device = torch.device(\"cpu\")\n",
    "dtype = torch.float32"
   ]
  },
  {
   "cell_type": "code",
   "execution_count": 2,
   "metadata": {},
   "outputs": [],
   "source": [
    "data_processor = CompleteModelsDataProcessor(\n",
    "    neurons=config.neurons,\n",
    "    voronoi_criteria=config.voronoi_criteria,\n",
    "    random_synapses=config.random_synapses,\n",
    "    log_transform_weights=config.log_transform_weights,\n",
    ")\n",
    "\n",
    "model = FullGraphModel(\n",
    "    input_shape=data_processor.number_of_synapses,\n",
    "    num_connectome_passes=config.NUM_CONNECTOME_PASSES,\n",
    "    decision_making_vector=data_processor.decision_making_vector,\n",
    "    batch_size=config.batch_size,\n",
    "    dtype=config.dtype,\n",
    "    edge_weights=data_processor.synaptic_matrix.data,\n",
    "    device=config.DEVICE,\n",
    "    num_classes=len(config.CLASSES),\n",
    ").to(device)"
   ]
  },
  {
   "cell_type": "code",
   "execution_count": 3,
   "metadata": {},
   "outputs": [],
   "source": [
    "# horrible data stuff\n",
    "checkpoint = torch.load(\"models/model_2024-05-20 03:41:43.pth\", map_location=\"cpu\")\n",
    "model.load_state_dict(checkpoint[\"model\"])\n",
    "model.eval()\n",
    "connections = (\n",
    "    pd.read_csv(\n",
    "        \"adult_data/connections.csv\",\n",
    "        dtype={\n",
    "            \"pre_root_id\": \"string\",\n",
    "            \"post_root_id\": \"string\",\n",
    "            \"syn_count\": np.int32,\n",
    "        },\n",
    "    )\n",
    "    .groupby([\"pre_root_id\", \"post_root_id\"])\n",
    "    .sum(\"syn_count\")\n",
    "    .reset_index()\n",
    ")\n",
    "\n",
    "connections[\"weight\"] = model.connectome.edge_weight_multiplier.detach()\n",
    "right_root_ids = data_processor.right_root_ids\n",
    "all_neurons = (\n",
    "    pd.read_csv(\"adult_data/classification_clean.csv\")\n",
    "    .merge(right_root_ids, on=\"root_id\")\n",
    "    .fillna(\"Unknown\")\n",
    ")\n",
    "neuron_data = pd.read_csv(\n",
    "    \"adult_data/right_visual_positions_selected_neurons.csv\",\n",
    "    dtype={\"root_id\": \"string\"},\n",
    ").drop(columns=[\"x\", \"y\", \"z\", \"PC1\", \"PC2\"])\n",
    "data_cols = [\"x_axis\", \"y_axis\"]\n",
    "all_coords = pd.read_csv(\"adult_data/all_coords_clean.csv\", dtype={\"root_id\": \"string\"})\n",
    "rational_cell_types = pd.read_csv(\"adult_data/rational_cell_types.csv\")\n",
    "all_neurons[\"decision_making\"] = np.where(\n",
    "    all_neurons[\"cell_type\"].isin(rational_cell_types[\"cell_type\"].values.tolist()),\n",
    "    1,\n",
    "    0,\n",
    ")\n",
    "all_neurons[\"root_id\"] = all_neurons[\"root_id\"].astype(\"string\")"
   ]
  },
  {
   "cell_type": "code",
   "execution_count": 4,
   "metadata": {},
   "outputs": [
    {
     "name": "stderr",
     "output_type": "stream",
     "text": [
      "100%|██████████| 200/200 [09:21<00:00,  2.81s/it]\n"
     ]
    }
   ],
   "source": [
    "num_passes = 4\n",
    "base_dir = \"images/five_to_fifteen/train\"\n",
    "sub_dirs = [\"yellow\", \"blue\"]\n",
    "\n",
    "sampled_images = sample_images(base_dir, sub_dirs, 100)\n",
    "\n",
    "dms = {}\n",
    "for img in tqdm(sampled_images):\n",
    "    activated_data = neuron_data_from_image(img, neuron_data)\n",
    "    propagation = propagate_neuron_data(\n",
    "        activated_data, connections, all_coords, all_neurons, num_passes\n",
    "    )\n",
    "    dms[os.path.basename(img)] = propagation[\"decision_making\"][all_neurons[\"decision_making\"] == 1]\n"
   ]
  },
  {
   "cell_type": "code",
   "execution_count": 51,
   "metadata": {},
   "outputs": [],
   "source": [
    "data = pd.DataFrame(dms)"
   ]
  },
  {
   "cell_type": "code",
   "execution_count": 52,
   "metadata": {},
   "outputs": [],
   "source": [
    "means = pd.DataFrame(data.mean(axis=0))\n",
    "means = means.rename(columns={0: \"mean\"})\n",
    "means[\"yellow\"] = [int(a.split(\"_\")[1]) for a in means.index]\n",
    "means[\"blue\"] = [int(a.split(\"_\")[2]) for a in means.index]\n",
    "means[\"color\"] = means[[\"yellow\", \"blue\"]].idxmax(axis=1)"
   ]
  },
  {
   "cell_type": "code",
   "execution_count": 53,
   "metadata": {},
   "outputs": [
    {
     "data": {
      "text/plain": [
       "<Axes: xlabel='color', ylabel='mean'>"
      ]
     },
     "execution_count": 53,
     "metadata": {},
     "output_type": "execute_result"
    },
    {
     "data": {
      "image/png": "[encoded data removed]",
      "text/plain": [
       "<Figure size 640x480 with 1 Axes>"
      ]
     },
     "metadata": {},
     "output_type": "display_data"
    }
   ],
   "source": [
    "# boxplot of mean depending on color using seaborn\n",
    "import seaborn as sns\n",
    "\n",
    "sns.boxplot(x=\"color\", y=\"mean\", data=means)"
   ]
  },
  {
   "cell_type": "code",
   "execution_count": 54,
   "metadata": {},
   "outputs": [
    {
     "data": {
      "text/html": [
       "<div>\n",
       "<style scoped>\n",
       "    .dataframe tbody tr th:only-of-type {\n",
       "        vertical-align: middle;\n",
       "    }\n",
       "\n",
       "    .dataframe tbody tr th {\n",
       "        vertical-align: top;\n",
       "    }\n",
       "\n",
       "    .dataframe thead th {\n",
       "        text-align: right;\n",
       "    }\n",
       "</style>\n",
       "<table border=\"1\" class=\"dataframe\">\n",
       "  <thead>\n",
       "    <tr style=\"text-align: right;\">\n",
       "      <th></th>\n",
       "      <th>img_9_6_53_equalized_.png</th>\n",
       "      <th>img_8_6_52_.png</th>\n",
       "      <th>img_9_8_61_.png</th>\n",
       "      <th>img_15_5_191_.png</th>\n",
       "      <th>img_12_10_161_.png</th>\n",
       "      <th>img_15_12_69_equalized_.png</th>\n",
       "      <th>img_12_9_104_equalized_.png</th>\n",
       "      <th>img_6_5_29_.png</th>\n",
       "      <th>img_15_12_13_.png</th>\n",
       "      <th>img_10_9_0_.png</th>\n",
       "      <th>...</th>\n",
       "      <th>img_7_8_128_.png</th>\n",
       "      <th>img_9_10_28_equalized_.png</th>\n",
       "      <th>img_10_12_57_equalized_.png</th>\n",
       "      <th>img_7_14_96_.png</th>\n",
       "      <th>img_12_15_101_.png</th>\n",
       "      <th>img_7_14_179_.png</th>\n",
       "      <th>img_6_9_56_equalized_.png</th>\n",
       "      <th>img_6_8_137_equalized_.png</th>\n",
       "      <th>img_8_10_134_equalized_.png</th>\n",
       "      <th>img_12_15_54_.png</th>\n",
       "    </tr>\n",
       "  </thead>\n",
       "  <tbody>\n",
       "    <tr>\n",
       "      <th>17749</th>\n",
       "      <td>76.857385</td>\n",
       "      <td>1.067327</td>\n",
       "      <td>4.455862</td>\n",
       "      <td>3.428119</td>\n",
       "      <td>27.646597</td>\n",
       "      <td>0.544668</td>\n",
       "      <td>0.785420</td>\n",
       "      <td>0.003037</td>\n",
       "      <td>0.521513</td>\n",
       "      <td>0.412792</td>\n",
       "      <td>...</td>\n",
       "      <td>0.0</td>\n",
       "      <td>53.973792</td>\n",
       "      <td>42.029412</td>\n",
       "      <td>44.060145</td>\n",
       "      <td>2.012301</td>\n",
       "      <td>57.580524</td>\n",
       "      <td>0.022989</td>\n",
       "      <td>0.0</td>\n",
       "      <td>-0.211186</td>\n",
       "      <td>0.787245</td>\n",
       "    </tr>\n",
       "    <tr>\n",
       "      <th>25064</th>\n",
       "      <td>78.667475</td>\n",
       "      <td>1.092464</td>\n",
       "      <td>4.560803</td>\n",
       "      <td>3.508856</td>\n",
       "      <td>28.297709</td>\n",
       "      <td>0.557496</td>\n",
       "      <td>0.803917</td>\n",
       "      <td>0.003109</td>\n",
       "      <td>0.533795</td>\n",
       "      <td>0.422514</td>\n",
       "      <td>...</td>\n",
       "      <td>0.0</td>\n",
       "      <td>55.244943</td>\n",
       "      <td>43.019259</td>\n",
       "      <td>45.097818</td>\n",
       "      <td>2.059693</td>\n",
       "      <td>58.936620</td>\n",
       "      <td>0.023531</td>\n",
       "      <td>0.0</td>\n",
       "      <td>-0.216160</td>\n",
       "      <td>0.805786</td>\n",
       "    </tr>\n",
       "    <tr>\n",
       "      <th>33945</th>\n",
       "      <td>75.674992</td>\n",
       "      <td>1.050907</td>\n",
       "      <td>4.387312</td>\n",
       "      <td>3.375380</td>\n",
       "      <td>27.221274</td>\n",
       "      <td>0.536289</td>\n",
       "      <td>0.773336</td>\n",
       "      <td>0.002990</td>\n",
       "      <td>0.513490</td>\n",
       "      <td>0.406441</td>\n",
       "      <td>...</td>\n",
       "      <td>0.0</td>\n",
       "      <td>53.143445</td>\n",
       "      <td>41.382821</td>\n",
       "      <td>43.382313</td>\n",
       "      <td>1.981343</td>\n",
       "      <td>56.694691</td>\n",
       "      <td>0.022636</td>\n",
       "      <td>0.0</td>\n",
       "      <td>-0.207937</td>\n",
       "      <td>0.775134</td>\n",
       "    </tr>\n",
       "    <tr>\n",
       "      <th>55171</th>\n",
       "      <td>77.595042</td>\n",
       "      <td>1.056448</td>\n",
       "      <td>4.357084</td>\n",
       "      <td>3.363407</td>\n",
       "      <td>27.936493</td>\n",
       "      <td>0.532594</td>\n",
       "      <td>0.791375</td>\n",
       "      <td>0.003073</td>\n",
       "      <td>0.517693</td>\n",
       "      <td>0.415052</td>\n",
       "      <td>...</td>\n",
       "      <td>0.0</td>\n",
       "      <td>54.501663</td>\n",
       "      <td>42.306305</td>\n",
       "      <td>44.520529</td>\n",
       "      <td>1.967692</td>\n",
       "      <td>58.189934</td>\n",
       "      <td>0.023216</td>\n",
       "      <td>0.0</td>\n",
       "      <td>-0.216520</td>\n",
       "      <td>0.793328</td>\n",
       "    </tr>\n",
       "    <tr>\n",
       "      <th>120270</th>\n",
       "      <td>76.632166</td>\n",
       "      <td>1.064199</td>\n",
       "      <td>4.442805</td>\n",
       "      <td>3.418074</td>\n",
       "      <td>27.565582</td>\n",
       "      <td>0.543072</td>\n",
       "      <td>0.783118</td>\n",
       "      <td>0.003028</td>\n",
       "      <td>0.519985</td>\n",
       "      <td>0.411582</td>\n",
       "      <td>...</td>\n",
       "      <td>0.0</td>\n",
       "      <td>53.815629</td>\n",
       "      <td>41.906251</td>\n",
       "      <td>43.931033</td>\n",
       "      <td>2.006404</td>\n",
       "      <td>57.411793</td>\n",
       "      <td>0.022922</td>\n",
       "      <td>0.0</td>\n",
       "      <td>-0.210568</td>\n",
       "      <td>0.784938</td>\n",
       "    </tr>\n",
       "  </tbody>\n",
       "</table>\n",
       "<p>5 rows × 200 columns</p>\n",
       "</div>"
      ],
      "text/plain": [
       "        img_9_6_53_equalized_.png  img_8_6_52_.png  img_9_8_61_.png  \\\n",
       "17749                   76.857385         1.067327         4.455862   \n",
       "25064                   78.667475         1.092464         4.560803   \n",
       "33945                   75.674992         1.050907         4.387312   \n",
       "55171                   77.595042         1.056448         4.357084   \n",
       "120270                  76.632166         1.064199         4.442805   \n",
       "\n",
       "        img_15_5_191_.png  img_12_10_161_.png  img_15_12_69_equalized_.png  \\\n",
       "17749            3.428119           27.646597                     0.544668   \n",
       "25064            3.508856           28.297709                     0.557496   \n",
       "33945            3.375380           27.221274                     0.536289   \n",
       "55171            3.363407           27.936493                     0.532594   \n",
       "120270           3.418074           27.565582                     0.543072   \n",
       "\n",
       "        img_12_9_104_equalized_.png  img_6_5_29_.png  img_15_12_13_.png  \\\n",
       "17749                      0.785420         0.003037           0.521513   \n",
       "25064                      0.803917         0.003109           0.533795   \n",
       "33945                      0.773336         0.002990           0.513490   \n",
       "55171                      0.791375         0.003073           0.517693   \n",
       "120270                     0.783118         0.003028           0.519985   \n",
       "\n",
       "        img_10_9_0_.png  ...  img_7_8_128_.png  img_9_10_28_equalized_.png  \\\n",
       "17749          0.412792  ...               0.0                   53.973792   \n",
       "25064          0.422514  ...               0.0                   55.244943   \n",
       "33945          0.406441  ...               0.0                   53.143445   \n",
       "55171          0.415052  ...               0.0                   54.501663   \n",
       "120270         0.411582  ...               0.0                   53.815629   \n",
       "\n",
       "        img_10_12_57_equalized_.png  img_7_14_96_.png  img_12_15_101_.png  \\\n",
       "17749                     42.029412         44.060145            2.012301   \n",
       "25064                     43.019259         45.097818            2.059693   \n",
       "33945                     41.382821         43.382313            1.981343   \n",
       "55171                     42.306305         44.520529            1.967692   \n",
       "120270                    41.906251         43.931033            2.006404   \n",
       "\n",
       "        img_7_14_179_.png  img_6_9_56_equalized_.png  \\\n",
       "17749           57.580524                   0.022989   \n",
       "25064           58.936620                   0.023531   \n",
       "33945           56.694691                   0.022636   \n",
       "55171           58.189934                   0.023216   \n",
       "120270          57.411793                   0.022922   \n",
       "\n",
       "        img_6_8_137_equalized_.png  img_8_10_134_equalized_.png  \\\n",
       "17749                          0.0                    -0.211186   \n",
       "25064                          0.0                    -0.216160   \n",
       "33945                          0.0                    -0.207937   \n",
       "55171                          0.0                    -0.216520   \n",
       "120270                         0.0                    -0.210568   \n",
       "\n",
       "        img_12_15_54_.png  \n",
       "17749            0.787245  \n",
       "25064            0.805786  \n",
       "33945            0.775134  \n",
       "55171            0.793328  \n",
       "120270           0.784938  \n",
       "\n",
       "[5 rows x 200 columns]"
      ]
     },
     "execution_count": 54,
     "metadata": {},
     "output_type": "execute_result"
    }
   ],
   "source": [
    "data[data[data.columns[0]] > 0]"
   ]
  },
  {
   "cell_type": "code",
   "execution_count": 43,
   "metadata": {},
   "outputs": [
    {
     "data": {
      "text/plain": [
       "Parameter containing:\n",
       "tensor([[-8.3752],\n",
       "        [ 7.2369]], requires_grad=True)"
      ]
     },
     "execution_count": 43,
     "metadata": {},
     "output_type": "execute_result"
    }
   ],
   "source": [
    "model.final_fc.weight"
   ]
  },
  {
   "cell_type": "code",
   "execution_count": 44,
   "metadata": {},
   "outputs": [
    {
     "data": {
      "text/plain": [
       "Parameter containing:\n",
       "tensor([-0.3962, -0.3513], requires_grad=True)"
      ]
     },
     "execution_count": 44,
     "metadata": {},
     "output_type": "execute_result"
    }
   ],
   "source": [
    "model.final_fc.bias"
   ]
  },
  {
   "cell_type": "code",
   "execution_count": null,
   "metadata": {},
   "outputs": [],
   "source": []
  }
 ],
 "metadata": {
  "kernelspec": {
   "display_name": "venv",
   "language": "python",
   "name": "python3"
  },
  "language_info": {
   "codemirror_mode": {
    "name": "ipython",
    "version": 3
   },
   "file_extension": ".py",
   "mimetype": "text/x-python",
   "name": "python",
   "nbconvert_exporter": "python",
   "pygments_lexer": "ipython3",
   "version": "3.10.12"
  }
 },
 "nbformat": 4,
 "nbformat_minor": 2
}
