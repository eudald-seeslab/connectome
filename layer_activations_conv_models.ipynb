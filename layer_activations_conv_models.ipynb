{
 "cells": [
  {
   "cell_type": "code",
   "execution_count": 7,
   "id": "initial_id",
   "metadata": {
    "collapsed": true,
    "ExecuteTime": {
     "end_time": "2024-04-04T21:54:42.788367Z",
     "start_time": "2024-04-04T21:54:42.781911Z"
    }
   },
   "outputs": [],
   "source": [
    "\n",
    "import warnings\n",
    "\n",
    "import pandas as pd\n",
    "import torch\n",
    "from torch import device, cuda, autocast\n",
    "from torch.cuda.amp import GradScaler\n",
    "from torch.nn import BCEWithLogitsLoss\n",
    "from torch.utils.data import DataLoader, TensorDataset\n",
    "from tqdm import tqdm\n",
    "\n",
    "import flyvision\n",
    "from flyvision.utils.activity_utils import LayerActivity\n",
    "from flyvision_ans import DECODING_CELLS\n",
    "import wandb\n",
    "from conv_models import DecodingImagesCNN\n",
    "from from_retina_to_connectome_utils import layer_activations_to_decoding_images, predictions_and_corrects_from_model_results, update_results_df, update_running_loss\n",
    "from from_video_to_training_batched_funcs import get_files_from_directory, select_random_videos, paths_to_labels, load_custom_sequences\n",
    "from utils import plot_weber_fraction\n",
    "from logs_to_wandb import log_running_stats_to_wandb, log_validation_stats_to_wandb\n",
    "\n",
    "\n",
    "warnings.filterwarnings(\n",
    "    'ignore',\n",
    "    message='invalid value encountered in cast',\n",
    "    category=RuntimeWarning,\n",
    "    module='wandb.sdk.data_types.image'\n",
    ")\n",
    "\n",
    "device_type = \"cuda\" if cuda.is_available() else \"cpu\"\n",
    "DEVICE = device(device_type)\n",
    "torch.manual_seed(42)\n",
    "batch_size = 64\n",
    "last_good_frame = 2\n",
    "\n",
    "TRAINING_DATA_DIR = \"videos/easy_videos\"\n",
    "TESTING_DATA_DIR = \"videos/easyval_videos\"\n",
    "\n",
    "debugging = False\n",
    "debug_length = 20\n",
    "wandb_ = True\n",
    "wandb_images_every = 10\n",
    "\n",
    "num_epochs = 4\n",
    "\n",
    "channel_sizes = [16, 32, 64]\n",
    "mult_size = 1\n",
    "channel_sizes = [int(a * mult_size) for a in channel_sizes]\n",
    "dropout = .5\n",
    "lr = .01\n",
    "weight_decay = 1e-4\n",
    "\n",
    "model_config = {\n",
    "    \"debugging\": debugging,\n",
    "    \"num_epochs\": num_epochs,\n",
    "    \"channel_sizes\": channel_sizes,\n",
    "    \"dropout\": dropout,\n",
    "    \"lr\": lr,\n",
    "    \"weight_decay\": weight_decay\n",
    "}"
   ]
  },
  {
   "cell_type": "code",
   "outputs": [],
   "source": [
    "network_view = flyvision.NetworkView(flyvision.results_dir / \"opticflow/000/0000\")\n",
    "network = network_view.init_network(chkpt=\"best_chkpt\")\n",
    "dt = 1 / 100\n",
    "extent, kernel_size = 15, 13\n",
    "receptors = flyvision.rendering.BoxEye(extent=extent, kernel_size=kernel_size)\n",
    "\n",
    "all_videos = get_files_from_directory(TRAINING_DATA_DIR)\n",
    "all_validation_videos = get_files_from_directory(TESTING_DATA_DIR)"
   ],
   "metadata": {
    "collapsed": false,
    "ExecuteTime": {
     "end_time": "2024-04-04T21:54:49.635842Z",
     "start_time": "2024-04-04T21:54:44.025408Z"
    }
   },
   "id": "1807fd157955627",
   "execution_count": 8
  },
  {
   "cell_type": "code",
   "outputs": [],
   "source": [
    "model = DecodingImagesCNN(\n",
    "    out_channels_1 = channel_sizes[0],\n",
    "    out_channels_2 = channel_sizes[1],\n",
    "    out_channels_3 = channel_sizes[2],\n",
    "    dropout = dropout\n",
    ").to(DEVICE)\n",
    "optimizer = torch.optim.Adam(model.parameters(), lr=lr, weight_decay=weight_decay)\n",
    "scaler = GradScaler()\n",
    "\n",
    "# Initialize the loss function\n",
    "criterion = BCEWithLogitsLoss()"
   ],
   "metadata": {
    "collapsed": false,
    "ExecuteTime": {
     "end_time": "2024-04-04T21:54:49.644509Z",
     "start_time": "2024-04-04T21:54:49.637571Z"
    }
   },
   "id": "4fce80a3502cf3c7",
   "execution_count": 9
  },
  {
   "cell_type": "code",
   "outputs": [
    {
     "data": {
      "text/plain": "VBox(children=(Label(value='Waiting for wandb.init()...\\r'), FloatProgress(value=0.011112160222223288, max=1.0…",
      "application/vnd.jupyter.widget-view+json": {
       "version_major": 2,
       "version_minor": 0,
       "model_id": "455b114c3a314635a17a006d6ec27ddb"
      }
     },
     "metadata": {},
     "output_type": "display_data"
    },
    {
     "data": {
      "text/plain": "<IPython.core.display.HTML object>",
      "text/html": "wandb version 0.16.6 is available!  To upgrade, please run:\n $ pip install wandb --upgrade"
     },
     "metadata": {},
     "output_type": "display_data"
    },
    {
     "data": {
      "text/plain": "<IPython.core.display.HTML object>",
      "text/html": "Tracking run with wandb version 0.16.4"
     },
     "metadata": {},
     "output_type": "display_data"
    },
    {
     "data": {
      "text/plain": "<IPython.core.display.HTML object>",
      "text/html": "Run data is saved locally in <code>/home/eudald/Desktop/doctorat/connectome/wandb/run-20240404_235449-t757l2gq</code>"
     },
     "metadata": {},
     "output_type": "display_data"
    },
    {
     "data": {
      "text/plain": "<IPython.core.display.HTML object>",
      "text/html": "Syncing run <strong><a href='https://wandb.ai/eudald/la_classification/runs/t757l2gq' target=\"_blank\">royal-thunder-16</a></strong> to <a href='https://wandb.ai/eudald/la_classification' target=\"_blank\">Weights & Biases</a> (<a href='https://wandb.me/run' target=\"_blank\">docs</a>)<br/>"
     },
     "metadata": {},
     "output_type": "display_data"
    },
    {
     "data": {
      "text/plain": "<IPython.core.display.HTML object>",
      "text/html": " View project at <a href='https://wandb.ai/eudald/la_classification' target=\"_blank\">https://wandb.ai/eudald/la_classification</a>"
     },
     "metadata": {},
     "output_type": "display_data"
    },
    {
     "data": {
      "text/plain": "<IPython.core.display.HTML object>",
      "text/html": " View run at <a href='https://wandb.ai/eudald/la_classification/runs/t757l2gq' target=\"_blank\">https://wandb.ai/eudald/la_classification/runs/t757l2gq</a>"
     },
     "metadata": {},
     "output_type": "display_data"
    },
    {
     "name": "stderr",
     "output_type": "stream",
     "text": [
      "100%|██████████| 262/262 [1:16:41<00:00, 17.56s/it]\n"
     ]
    },
    {
     "name": "stdout",
     "output_type": "stream",
     "text": [
      "Epoch 1, Loss: 0.632039011662243, Accuracy: 0.6268487595419847\n"
     ]
    },
    {
     "name": "stderr",
     "output_type": "stream",
     "text": [
      "100%|██████████| 262/262 [1:21:27<00:00, 18.65s/it]\n"
     ]
    },
    {
     "name": "stdout",
     "output_type": "stream",
     "text": [
      "Epoch 2, Loss: 0.5162786742430607, Accuracy: 0.7439169847328244\n"
     ]
    },
    {
     "name": "stderr",
     "output_type": "stream",
     "text": [
      "100%|██████████| 262/262 [1:26:29<00:00, 19.81s/it]\n"
     ]
    },
    {
     "name": "stdout",
     "output_type": "stream",
     "text": [
      "Epoch 3, Loss: 0.49223759850017895, Accuracy: 0.7625238549618321\n"
     ]
    },
    {
     "name": "stderr",
     "output_type": "stream",
     "text": [
      "100%|██████████| 262/262 [1:30:18<00:00, 20.68s/it]"
     ]
    },
    {
     "name": "stdout",
     "output_type": "stream",
     "text": [
      "Epoch 4, Loss: 0.4807354801028739, Accuracy: 0.7668177480916031\n"
     ]
    },
    {
     "name": "stderr",
     "output_type": "stream",
     "text": [
      "\n"
     ]
    }
   ],
   "source": [
    "model.train()\n",
    "\n",
    "iterations = debug_length if debugging else len(all_videos) // batch_size\n",
    "# Start wandb run\n",
    "if wandb_:\n",
    "    wandb.init(project='la_classification', config=model_config)\n",
    "\n",
    "\n",
    "results = pd.DataFrame(columns=[\"Image\", \"Prediction\", \"True label\", \"Is correct\"])\n",
    "\n",
    "# Training loop\n",
    "for epoch in range(num_epochs):\n",
    "    already_selected = []\n",
    "    running_loss = 0.0\n",
    "    total_correct = 0\n",
    "    total = 0\n",
    "    for i in tqdm(range(iterations)):\n",
    "        batch_files, already_selected = select_random_videos(\n",
    "            all_videos, batch_size, already_selected\n",
    "        )\n",
    "        labels = paths_to_labels(batch_files)\n",
    "        batch_sequences = load_custom_sequences(batch_files)\n",
    "        rendered_sequences = receptors(batch_sequences)\n",
    "        \n",
    "        layer_activations = []\n",
    "        for rendered_sequence in rendered_sequences:\n",
    "            # rendered sequences are in RGB; move it to 0-1 for better training\n",
    "            rendered_sequence = torch.div(rendered_sequence, 255)\n",
    "            # TODO: try to run this on cpu to parallelize it\n",
    "            simulation = network.simulate(rendered_sequence[None], dt)\n",
    "            layer_activations.append(\n",
    "                LayerActivity(simulation, network.connectome, keepref=True)\n",
    "            )\n",
    "        \n",
    "        decoding_images = layer_activations_to_decoding_images(layer_activations, last_good_frame, DECODING_CELLS)\n",
    "        \n",
    "        # Ensure the data is in tensor form and on the correct device\n",
    "        labels_tensor = torch.tensor(labels, dtype=torch.float).to(DEVICE)\n",
    "        batch_sequences_tensor = torch.tensor(decoding_images, dtype=torch.float).to(DEVICE)\n",
    "\n",
    "        # Create the dataset and dataloader\n",
    "        dataset = TensorDataset(batch_sequences_tensor, labels_tensor)\n",
    "        dataloader = DataLoader(dataset, batch_size=batch_size, shuffle=False)\n",
    "        \n",
    "        for inputs, batch_labels in dataloader:\n",
    "            inputs.to(DEVICE)\n",
    "            batch_labels.to(DEVICE)\n",
    "            \n",
    "            # Zero the parameter gradients\n",
    "            optimizer.zero_grad()\n",
    "    \n",
    "            # Forward pass\n",
    "            with autocast(device_type):\n",
    "                outputs = model(inputs)\n",
    "                loss = criterion(outputs.squeeze(), batch_labels)\n",
    "                loss.backward()\n",
    "                optimizer.step()\n",
    "    \n",
    "                # Calculate run parameters\n",
    "                predictions, batch_labels_cpu, correct = predictions_and_corrects_from_model_results(outputs, batch_labels)\n",
    "                results = update_results_df(results, batch_files, predictions, batch_labels_cpu, correct)\n",
    "                running_loss += update_running_loss(loss, inputs)\n",
    "                total += batch_labels.shape[0]\n",
    "                total_correct += correct.sum()\n",
    "                \n",
    "        # Log metrics to wandb\n",
    "        if wandb_:\n",
    "            log_running_stats_to_wandb(epoch, running_loss, total_correct, total, results)\n",
    "\n",
    "    print(f'Epoch {epoch+1}, Loss: {running_loss / total}, Accuracy: {total_correct / total}')"
   ],
   "metadata": {
    "collapsed": false,
    "ExecuteTime": {
     "end_time": "2024-04-05T03:29:47.806254Z",
     "start_time": "2024-04-04T21:54:49.645733Z"
    }
   },
   "id": "a3b94263294e5262",
   "execution_count": 10
  },
  {
   "cell_type": "code",
   "outputs": [
    {
     "name": "stderr",
     "output_type": "stream",
     "text": [
      "100%|██████████| 61/61 [16:43<00:00, 16.45s/it]"
     ]
    },
    {
     "name": "stdout",
     "output_type": "stream",
     "text": [
      "Validation Loss: 2.5640169909743014, Validation Accuracy: 0.4930840163934426\n"
     ]
    },
    {
     "name": "stderr",
     "output_type": "stream",
     "text": [
      "\n"
     ]
    }
   ],
   "source": [
    "model.eval() \n",
    "\n",
    "total_correct = 0\n",
    "total = 0\n",
    "running_loss = 0.0\n",
    "\n",
    "validation_results = pd.DataFrame(columns=[\"Image\", \"Prediction\", \"True label\", \"Is correct\"])\n",
    "\n",
    "with (torch.no_grad()):\n",
    "    for i in tqdm(range(len(all_validation_videos) // batch_size)):\n",
    "        batch_files, _ = select_random_videos(\n",
    "            all_validation_videos, batch_size, already_selected=[]\n",
    "        )\n",
    "        labels = paths_to_labels(batch_files)\n",
    "        batch_sequences = load_custom_sequences(batch_files)\n",
    "        rendered_sequences = receptors(batch_sequences)\n",
    "        \n",
    "        layer_activations = []\n",
    "        for rendered_sequence in rendered_sequences:\n",
    "            # rendered sequences are in RGB; move it to 0-1 for better training\n",
    "            rendered_sequence = torch.div(rendered_sequence, 255)\n",
    "            simulation = network.simulate(rendered_sequence[None], dt)\n",
    "            layer_activations.append(\n",
    "                LayerActivity(simulation, network.connectome, keepref=True)\n",
    "            )\n",
    "        \n",
    "        decoding_images = layer_activations_to_decoding_images(layer_activations, last_good_frame, DECODING_CELLS)\n",
    "        \n",
    "        # Ensure the data is in tensor form and on the correct device\n",
    "        labels_tensor = torch.tensor(labels, dtype=torch.float).to(DEVICE)\n",
    "        batch_sequences_tensor = torch.tensor(decoding_images, dtype=torch.float).to(DEVICE)\n",
    "\n",
    "        dataset = TensorDataset(batch_sequences_tensor, labels_tensor)\n",
    "        dataloader = DataLoader(dataset, batch_size=batch_size, shuffle=False)\n",
    "        \n",
    "        for inputs, batch_labels in dataloader:\n",
    "            inputs, batch_labels = inputs.to(DEVICE), batch_labels.to(DEVICE)\n",
    "            outputs = model(inputs)\n",
    "            loss = criterion(outputs.squeeze(), batch_labels)\n",
    "\n",
    "            predictions, batch_labels_cpu, correct = predictions_and_corrects_from_model_results(outputs, batch_labels)\n",
    "            validation_results = update_results_df(validation_results, batch_files, predictions, batch_labels_cpu, correct)\n",
    "            running_loss += update_running_loss(loss, inputs)\n",
    "            total += batch_labels_cpu.shape[0]\n",
    "            total_correct += correct.sum().item()\n",
    "            \n",
    "            \n",
    "print(f'Validation Loss: {running_loss / total}, '\n",
    "      f'Validation Accuracy: {total_correct / total}')"
   ],
   "metadata": {
    "collapsed": false,
    "ExecuteTime": {
     "end_time": "2024-04-05T07:44:16.762856Z",
     "start_time": "2024-04-05T07:27:33.348058Z"
    }
   },
   "id": "15804021f0e43b93",
   "execution_count": 11
  },
  {
   "cell_type": "code",
   "outputs": [
    {
     "data": {
      "text/plain": "VBox(children=(Label(value='3145.551 MB of 3145.551 MB uploaded\\r'), FloatProgress(value=1.0, max=1.0)))",
      "application/vnd.jupyter.widget-view+json": {
       "version_major": 2,
       "version_minor": 0,
       "model_id": "21cd982dd7fd4f1690073b6d59d5d2f0"
      }
     },
     "metadata": {},
     "output_type": "display_data"
    },
    {
     "data": {
      "text/plain": "<IPython.core.display.HTML object>",
      "text/html": "<style>\n    table.wandb td:nth-child(1) { padding: 0 10px; text-align: left ; width: auto;} td:nth-child(2) {text-align: left ; width: 100%}\n    .wandb-row { display: flex; flex-direction: row; flex-wrap: wrap; justify-content: flex-start; width: 100% }\n    .wandb-col { display: flex; flex-direction: column; flex-basis: 100%; flex: 1; padding: 10px; }\n    </style>\n<div class=\"wandb-row\"><div class=\"wandb-col\"><h3>Run history:</h3><br/><table class=\"wandb\"><tr><td>accuracy</td><td>▁▁▂▂▂▃▃▄▄▄▆▆▆▇▇▇▇▇▇▇█▇▇▇▇▇▇▇▇▇██████████</td></tr><tr><td>epoch</td><td>▁▁▁▁▁▁▁▁▁▁▃▃▃▃▃▃▃▃▃▃▆▆▆▆▆▆▆▆▆▆██████████</td></tr><tr><td>loss</td><td>██▇▇▇▆▆▆▆▅▄▃▃▃▃▃▂▂▂▂▂▂▂▂▂▂▂▂▁▁▁▁▁▁▁▁▁▁▁▁</td></tr><tr><td>val_accuracy</td><td>▁</td></tr><tr><td>val_loss</td><td>▁</td></tr></table><br/></div><div class=\"wandb-col\"><h3>Run summary:</h3><br/><table class=\"wandb\"><tr><td>accuracy</td><td>0.76682</td></tr><tr><td>epoch</td><td>3</td></tr><tr><td>loss</td><td>0.48074</td></tr><tr><td>val_accuracy</td><td>0.49308</td></tr><tr><td>val_loss</td><td>2.56402</td></tr></table><br/></div></div>"
     },
     "metadata": {},
     "output_type": "display_data"
    },
    {
     "data": {
      "text/plain": "<IPython.core.display.HTML object>",
      "text/html": " View run <strong style=\"color:#cdcd00\">royal-thunder-16</strong> at: <a href='https://wandb.ai/eudald/la_classification/runs/t757l2gq' target=\"_blank\">https://wandb.ai/eudald/la_classification/runs/t757l2gq</a><br/> View job at <a href='https://wandb.ai/eudald/la_classification/jobs/QXJ0aWZhY3RDb2xsZWN0aW9uOjE1NTY3Mjg0Nw==/version_details/v9' target=\"_blank\">https://wandb.ai/eudald/la_classification/jobs/QXJ0aWZhY3RDb2xsZWN0aW9uOjE1NTY3Mjg0Nw==/version_details/v9</a><br/>Synced 5 W&B file(s), 1050 media file(s), 1049 artifact file(s) and 0 other file(s)"
     },
     "metadata": {},
     "output_type": "display_data"
    },
    {
     "data": {
      "text/plain": "<IPython.core.display.HTML object>",
      "text/html": "Find logs at: <code>./wandb/run-20240404_235449-t757l2gq/logs</code>"
     },
     "metadata": {},
     "output_type": "display_data"
    },
    {
     "data": {
      "text/plain": "<Figure size 1000x600 with 1 Axes>",
      "image/png": "[encoded data removed]"
     },
     "metadata": {},
     "output_type": "display_data"
    }
   ],
   "source": [
    "weber_plot = plot_weber_fraction(validation_results)\n",
    "\n",
    "# Log validation metrics to wandb\n",
    "if wandb_:\n",
    "    log_validation_stats_to_wandb(running_loss, total_correct, total, validation_results, weber_plot)\n",
    "    wandb.finish()"
   ],
   "metadata": {
    "collapsed": false,
    "ExecuteTime": {
     "end_time": "2024-04-05T07:48:35.971687Z",
     "start_time": "2024-04-05T07:48:25.458945Z"
    }
   },
   "id": "6a25342c29d5d247",
   "execution_count": 12
  },
  {
   "cell_type": "code",
   "outputs": [
    {
     "name": "stdout",
     "output_type": "stream",
     "text": [
      "---------------------------------------------------------------------------\n",
      "          Layer (type)         Input Shape         Param #     Tr. Param #\n",
      "===========================================================================\n",
      "              Conv2d-1     [1, 34, 31, 31]           4,912           4,912\n",
      "         BatchNorm2d-2     [1, 16, 31, 31]              32              32\n",
      "             Dropout-3     [1, 16, 15, 15]               0               0\n",
      "              Conv2d-4     [1, 16, 15, 15]           4,640           4,640\n",
      "         BatchNorm2d-5     [1, 32, 15, 15]              64              64\n",
      "              Conv2d-6       [1, 32, 7, 7]          18,496          18,496\n",
      "         BatchNorm2d-7       [1, 64, 7, 7]             128             128\n",
      "   AdaptiveAvgPool2d-8       [1, 64, 3, 3]               0               0\n",
      "              Linear-9             [1, 64]              65              65\n",
      "===========================================================================\n",
      "Total params: 28,337\n",
      "Trainable params: 28,337\n",
      "Non-trainable params: 0\n",
      "---------------------------------------------------------------------------\n"
     ]
    }
   ],
   "source": [
    "from pytorch_model_summary import summary\n",
    "\n",
    "print(summary(DecodingImagesCNN(), torch.zeros((1, 34, 31, 31)), show_input=True))"
   ],
   "metadata": {
    "collapsed": false,
    "ExecuteTime": {
     "end_time": "2024-04-03T13:25:28.370784Z",
     "start_time": "2024-04-03T13:25:28.343060Z"
    }
   },
   "id": "fd691e219cd4632",
   "execution_count": 9
  },
  {
   "cell_type": "code",
   "outputs": [],
   "source": [],
   "metadata": {
    "collapsed": false
   },
   "id": "37944a092e7d3e4d",
   "execution_count": null
  }
 ],
 "metadata": {
  "kernelspec": {
   "display_name": "Python 3",
   "language": "python",
   "name": "python3"
  },
  "language_info": {
   "codemirror_mode": {
    "name": "ipython",
    "version": 2
   },
   "file_extension": ".py",
   "mimetype": "text/x-python",
   "name": "python",
   "nbconvert_exporter": "python",
   "pygments_lexer": "ipython2",
   "version": "2.7.6"
  }
 },
 "nbformat": 4,
 "nbformat_minor": 5
}
