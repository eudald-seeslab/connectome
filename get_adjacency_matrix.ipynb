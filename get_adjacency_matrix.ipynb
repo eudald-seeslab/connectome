{
 "cells": [
  {
   "cell_type": "code",
   "execution_count": 1,
   "metadata": {},
   "outputs": [],
   "source": [
    "import numpy as np\n",
    "import pandas as pd\n",
    "import scipy.sparse as ss"
   ]
  },
  {
   "cell_type": "code",
   "execution_count": 2,
   "metadata": {},
   "outputs": [],
   "source": [
    "df = pd.read_csv(\"adult_data/connections.csv\")"
   ]
  },
  {
   "cell_type": "code",
   "execution_count": 3,
   "metadata": {},
   "outputs": [
    {
     "data": {
      "text/html": [
       "<div>\n",
       "<style scoped>\n",
       "    .dataframe tbody tr th:only-of-type {\n",
       "        vertical-align: middle;\n",
       "    }\n",
       "\n",
       "    .dataframe tbody tr th {\n",
       "        vertical-align: top;\n",
       "    }\n",
       "\n",
       "    .dataframe thead th {\n",
       "        text-align: right;\n",
       "    }\n",
       "</style>\n",
       "<table border=\"1\" class=\"dataframe\">\n",
       "  <thead>\n",
       "    <tr style=\"text-align: right;\">\n",
       "      <th></th>\n",
       "      <th>pre_root_id</th>\n",
       "      <th>post_root_id</th>\n",
       "      <th>neuropil</th>\n",
       "      <th>syn_count</th>\n",
       "      <th>nt_type</th>\n",
       "    </tr>\n",
       "  </thead>\n",
       "  <tbody>\n",
       "    <tr>\n",
       "      <th>0</th>\n",
       "      <td>720575940629970489</td>\n",
       "      <td>720575940631267655</td>\n",
       "      <td>AVLP_R</td>\n",
       "      <td>7</td>\n",
       "      <td>GABA</td>\n",
       "    </tr>\n",
       "    <tr>\n",
       "      <th>1</th>\n",
       "      <td>720575940605876866</td>\n",
       "      <td>720575940606514878</td>\n",
       "      <td>LAL_R</td>\n",
       "      <td>15</td>\n",
       "      <td>GABA</td>\n",
       "    </tr>\n",
       "    <tr>\n",
       "      <th>2</th>\n",
       "      <td>720575940627737365</td>\n",
       "      <td>720575940628914436</td>\n",
       "      <td>AL_L</td>\n",
       "      <td>32</td>\n",
       "      <td>ACH</td>\n",
       "    </tr>\n",
       "    <tr>\n",
       "      <th>3</th>\n",
       "      <td>720575940633587552</td>\n",
       "      <td>720575940626452879</td>\n",
       "      <td>SMP_R</td>\n",
       "      <td>15</td>\n",
       "      <td>ACH</td>\n",
       "    </tr>\n",
       "    <tr>\n",
       "      <th>4</th>\n",
       "      <td>720575940616871878</td>\n",
       "      <td>720575940621203973</td>\n",
       "      <td>AVLP_L</td>\n",
       "      <td>13</td>\n",
       "      <td>GABA</td>\n",
       "    </tr>\n",
       "    <tr>\n",
       "      <th>...</th>\n",
       "      <td>...</td>\n",
       "      <td>...</td>\n",
       "      <td>...</td>\n",
       "      <td>...</td>\n",
       "      <td>...</td>\n",
       "    </tr>\n",
       "    <tr>\n",
       "      <th>3871462</th>\n",
       "      <td>720575940621773517</td>\n",
       "      <td>720575940611139733</td>\n",
       "      <td>PVLP_R</td>\n",
       "      <td>1</td>\n",
       "      <td>ACH</td>\n",
       "    </tr>\n",
       "    <tr>\n",
       "      <th>3871463</th>\n",
       "      <td>720575940622734576</td>\n",
       "      <td>720575940609171395</td>\n",
       "      <td>ICL_L</td>\n",
       "      <td>2</td>\n",
       "      <td>ACH</td>\n",
       "    </tr>\n",
       "    <tr>\n",
       "      <th>3871464</th>\n",
       "      <td>720575940638466367</td>\n",
       "      <td>720575940627036426</td>\n",
       "      <td>LO_L</td>\n",
       "      <td>5</td>\n",
       "      <td>ACH</td>\n",
       "    </tr>\n",
       "    <tr>\n",
       "      <th>3871465</th>\n",
       "      <td>720575940629789660</td>\n",
       "      <td>720575940631553603</td>\n",
       "      <td>GOR_R</td>\n",
       "      <td>3</td>\n",
       "      <td>ACH</td>\n",
       "    </tr>\n",
       "    <tr>\n",
       "      <th>3871466</th>\n",
       "      <td>720575940624054792</td>\n",
       "      <td>720575940634431935</td>\n",
       "      <td>ICL_L</td>\n",
       "      <td>5</td>\n",
       "      <td>ACH</td>\n",
       "    </tr>\n",
       "  </tbody>\n",
       "</table>\n",
       "<p>3871467 rows × 5 columns</p>\n",
       "</div>"
      ],
      "text/plain": [
       "                pre_root_id        post_root_id neuropil  syn_count nt_type\n",
       "0        720575940629970489  720575940631267655   AVLP_R          7    GABA\n",
       "1        720575940605876866  720575940606514878    LAL_R         15    GABA\n",
       "2        720575940627737365  720575940628914436     AL_L         32     ACH\n",
       "3        720575940633587552  720575940626452879    SMP_R         15     ACH\n",
       "4        720575940616871878  720575940621203973   AVLP_L         13    GABA\n",
       "...                     ...                 ...      ...        ...     ...\n",
       "3871462  720575940621773517  720575940611139733   PVLP_R          1     ACH\n",
       "3871463  720575940622734576  720575940609171395    ICL_L          2     ACH\n",
       "3871464  720575940638466367  720575940627036426     LO_L          5     ACH\n",
       "3871465  720575940629789660  720575940631553603    GOR_R          3     ACH\n",
       "3871466  720575940624054792  720575940634431935    ICL_L          5     ACH\n",
       "\n",
       "[3871467 rows x 5 columns]"
      ]
     },
     "execution_count": 3,
     "metadata": {},
     "output_type": "execute_result"
    }
   ],
   "source": [
    "df"
   ]
  },
  {
   "cell_type": "code",
   "execution_count": 48,
   "metadata": {},
   "outputs": [],
   "source": [
    "# there are repeated connections, so we add them\n",
    "df = df.groupby([\"pre_root_id\", \"post_root_id\"]).sum(\"syn_count\").reset_index()"
   ]
  },
  {
   "cell_type": "code",
   "execution_count": 49,
   "metadata": {},
   "outputs": [],
   "source": [
    "roots = set(df[\"pre_root_id\"]).union(set(df[\"post_root_id\"]))\n",
    "\n",
    "root_id_to_index = {\n",
    "    root_id: i for i, root_id in enumerate(roots)\n",
    "}"
   ]
  },
  {
   "cell_type": "code",
   "execution_count": 50,
   "metadata": {},
   "outputs": [
    {
     "data": {
      "text/html": [
       "<div>\n",
       "<style scoped>\n",
       "    .dataframe tbody tr th:only-of-type {\n",
       "        vertical-align: middle;\n",
       "    }\n",
       "\n",
       "    .dataframe tbody tr th {\n",
       "        vertical-align: top;\n",
       "    }\n",
       "\n",
       "    .dataframe thead th {\n",
       "        text-align: right;\n",
       "    }\n",
       "</style>\n",
       "<table border=\"1\" class=\"dataframe\">\n",
       "  <thead>\n",
       "    <tr style=\"text-align: right;\">\n",
       "      <th></th>\n",
       "      <th>pre_root_id</th>\n",
       "      <th>post_root_id</th>\n",
       "      <th>syn_count</th>\n",
       "    </tr>\n",
       "  </thead>\n",
       "  <tbody>\n",
       "    <tr>\n",
       "      <th>count</th>\n",
       "      <td>2.701601e+06</td>\n",
       "      <td>2.701601e+06</td>\n",
       "      <td>2.701601e+06</td>\n",
       "    </tr>\n",
       "    <tr>\n",
       "      <th>mean</th>\n",
       "      <td>6.704676e+04</td>\n",
       "      <td>6.745899e+04</td>\n",
       "      <td>1.264836e+01</td>\n",
       "    </tr>\n",
       "    <tr>\n",
       "      <th>std</th>\n",
       "      <td>3.869784e+04</td>\n",
       "      <td>3.877633e+04</td>\n",
       "      <td>1.698593e+01</td>\n",
       "    </tr>\n",
       "    <tr>\n",
       "      <th>min</th>\n",
       "      <td>0.000000e+00</td>\n",
       "      <td>0.000000e+00</td>\n",
       "      <td>5.000000e+00</td>\n",
       "    </tr>\n",
       "    <tr>\n",
       "      <th>25%</th>\n",
       "      <td>3.359200e+04</td>\n",
       "      <td>3.378400e+04</td>\n",
       "      <td>6.000000e+00</td>\n",
       "    </tr>\n",
       "    <tr>\n",
       "      <th>50%</th>\n",
       "      <td>6.704000e+04</td>\n",
       "      <td>6.797400e+04</td>\n",
       "      <td>8.000000e+00</td>\n",
       "    </tr>\n",
       "    <tr>\n",
       "      <th>75%</th>\n",
       "      <td>1.006490e+05</td>\n",
       "      <td>1.011720e+05</td>\n",
       "      <td>1.300000e+01</td>\n",
       "    </tr>\n",
       "    <tr>\n",
       "      <th>max</th>\n",
       "      <td>1.341900e+05</td>\n",
       "      <td>1.341900e+05</td>\n",
       "      <td>2.405000e+03</td>\n",
       "    </tr>\n",
       "  </tbody>\n",
       "</table>\n",
       "</div>"
      ],
      "text/plain": [
       "        pre_root_id  post_root_id     syn_count\n",
       "count  2.701601e+06  2.701601e+06  2.701601e+06\n",
       "mean   6.704676e+04  6.745899e+04  1.264836e+01\n",
       "std    3.869784e+04  3.877633e+04  1.698593e+01\n",
       "min    0.000000e+00  0.000000e+00  5.000000e+00\n",
       "25%    3.359200e+04  3.378400e+04  6.000000e+00\n",
       "50%    6.704000e+04  6.797400e+04  8.000000e+00\n",
       "75%    1.006490e+05  1.011720e+05  1.300000e+01\n",
       "max    1.341900e+05  1.341900e+05  2.405000e+03"
      ]
     },
     "execution_count": 50,
     "metadata": {},
     "output_type": "execute_result"
    }
   ],
   "source": [
    "# change pre and post root ids to indices\n",
    "df[\"pre_root_id\"] = df[\"pre_root_id\"].map(root_id_to_index)\n",
    "df[\"post_root_id\"] = df[\"post_root_id\"].map(root_id_to_index)"
   ]
  },
  {
   "cell_type": "code",
   "execution_count": 53,
   "metadata": {},
   "outputs": [],
   "source": [
    "# convert to sparse matrix\n",
    "matrix = ss.coo_matrix((df[\"syn_count\"], (df[\"pre_root_id\"], df[\"post_root_id\"])))"
   ]
  },
  {
   "cell_type": "code",
   "execution_count": 58,
   "metadata": {},
   "outputs": [],
   "source": [
    "ss.save_npz(\"adult_data/good_synaptic_matrix.npz\", matrix)"
   ]
  },
  {
   "cell_type": "markdown",
   "metadata": {},
   "source": [
    "Separate left and right sides"
   ]
  },
  {
   "cell_type": "code",
   "execution_count": 6,
   "metadata": {},
   "outputs": [],
   "source": [
    "cl = pd.read_csv(\"adult_data/classification.csv\")"
   ]
  },
  {
   "cell_type": "code",
   "execution_count": 11,
   "metadata": {},
   "outputs": [],
   "source": [
    "left_ids = cl[cl[\"side\"] == \"left\"][\"root_id\"].drop_duplicates()\n",
    "right_ids = cl[cl[\"side\"] == \"right\"][\"root_id\"].drop_duplicates()"
   ]
  },
  {
   "cell_type": "code",
   "execution_count": 14,
   "metadata": {},
   "outputs": [],
   "source": [
    "left_df = df[df[\"pre_root_id\"].isin(left_ids) & df[\"post_root_id\"].isin(left_ids)]\n",
    "right_df = df[df[\"pre_root_id\"].isin(right_ids) & df[\"post_root_id\"].isin(right_ids)]"
   ]
  },
  {
   "cell_type": "code",
   "execution_count": 18,
   "metadata": {},
   "outputs": [],
   "source": [
    "left_matrix = ss.coo_matrix((left_df[\"syn_count\"], (left_df[\"pre_root_id\"], left_df[\"post_root_id\"])))\n",
    "right_matrix = ss.coo_matrix((right_df[\"syn_count\"], (right_df[\"pre_root_id\"], right_df[\"post_root_id\"])))\n",
    "# save left and right matrices\n",
    "ss.save_npz(\"adult_data/left_synaptic_matrix.npz\", left_matrix)\n",
    "ss.save_npz(\"adult_data/right_synaptic_matrix.npz\", right_matrix)"
   ]
  },
  {
   "cell_type": "code",
   "execution_count": null,
   "metadata": {},
   "outputs": [],
   "source": []
  }
 ],
 "metadata": {
  "kernelspec": {
   "display_name": "venv",
   "language": "python",
   "name": "python3"
  },
  "language_info": {
   "codemirror_mode": {
    "name": "ipython",
    "version": 3
   },
   "file_extension": ".py",
   "mimetype": "text/x-python",
   "name": "python",
   "nbconvert_exporter": "python",
   "pygments_lexer": "ipython3",
   "version": "3.10.12"
  }
 },
 "nbformat": 4,
 "nbformat_minor": 2
}
