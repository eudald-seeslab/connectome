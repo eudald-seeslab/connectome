{
 "cells": [
  {
   "cell_type": "code",
   "execution_count": 1,
   "metadata": {},
   "outputs": [],
   "source": [
    "%matplotlib inline\n",
    "import os\n",
    "import torch\n",
    "import warnings\n",
    "warnings.simplefilter(action='ignore', category=FutureWarning)\n",
    "import pandas as pd\n",
    "import numpy as np\n",
    "import matplotlib.pyplot as plt\n",
    "cmap = plt.get_cmap(\"viridis\")\n",
    "from tqdm.notebook import tqdm\n",
    "from tqdm.contrib.concurrent import process_map\n",
    "import multiprocessing\n",
    "from sklearn.metrics import confusion_matrix\n",
    "import seaborn as sns\n",
    "\n",
    "import config\n",
    "from graph_models import FullGraphModel\n",
    "from complete_training_data_processing import CompleteModelsDataProcessor\n",
    "from model_inspection_funcs import sample_images\n",
    "from no_training import process_image_without_deciding\n",
    "\n",
    "num_test_pairs = 1000\n",
    "device = torch.device(\"cpu\")\n",
    "dtype = torch.float32"
   ]
  },
  {
   "cell_type": "code",
   "execution_count": 2,
   "metadata": {},
   "outputs": [],
   "source": [
    "data_processor = CompleteModelsDataProcessor(\n",
    "    neurons=config.neurons,\n",
    "    voronoi_criteria=config.voronoi_criteria,\n",
    "    random_synapses=config.random_synapses,\n",
    "    log_transform_weights=config.log_transform_weights,\n",
    ")\n",
    "\n",
    "model = FullGraphModel(\n",
    "    input_shape=data_processor.number_of_synapses,\n",
    "    num_connectome_passes=config.NUM_CONNECTOME_PASSES,\n",
    "    decision_making_vector=data_processor.decision_making_vector,\n",
    "    batch_size=config.batch_size,\n",
    "    dtype=config.dtype,\n",
    "    edge_weights=data_processor.synaptic_matrix.data,\n",
    "    device=config.DEVICE,\n",
    "    num_classes=len(config.CLASSES),\n",
    ").to(device)"
   ]
  },
  {
   "cell_type": "code",
   "execution_count": 3,
   "metadata": {},
   "outputs": [],
   "source": [
    "# horrible data stuff\n",
    "checkpoint = torch.load(\n",
    "    \"models/n_all_v_R7_r_False_lr_0.003_p_4_2024-05-27 12:45.pth\", map_location=\"cpu\"\n",
    ")\n",
    "model.load_state_dict(checkpoint[\"model\"])\n",
    "model.eval()\n",
    "connections = (\n",
    "    pd.read_csv(\n",
    "        \"adult_data/connections.csv\",\n",
    "        dtype={\n",
    "            \"pre_root_id\": \"string\",\n",
    "            \"post_root_id\": \"string\",\n",
    "            \"syn_count\": np.int32,\n",
    "        },\n",
    "    )\n",
    "    .groupby([\"pre_root_id\", \"post_root_id\"])\n",
    "    .sum(\"syn_count\")\n",
    "    .reset_index()\n",
    ")\n",
    "\n",
    "connections[\"weight\"] = model.connectome.edge_weight_multiplier.detach()\n",
    "right_root_ids = data_processor.right_root_ids\n",
    "all_neurons = (\n",
    "    pd.read_csv(\"adult_data/classification_clean.csv\")\n",
    "    .merge(right_root_ids, on=\"root_id\")\n",
    "    .fillna(\"Unknown\")\n",
    ")\n",
    "neuron_data = pd.read_csv(\n",
    "    \"adult_data/right_visual_positions_selected_neurons.csv\",\n",
    "    dtype={\"root_id\": \"string\"},\n",
    ").drop(columns=[\"x\", \"y\", \"z\", \"PC1\", \"PC2\"])\n",
    "data_cols = [\"x_axis\", \"y_axis\"]\n",
    "all_coords = pd.read_csv(\"adult_data/all_coords_clean.csv\", dtype={\"root_id\": \"string\"})\n",
    "rational_cell_types = pd.read_csv(\"adult_data/rational_cell_types.csv\")\n",
    "all_neurons[\"decision_making\"] = np.where(\n",
    "    all_neurons[\"cell_type\"].isin(rational_cell_types[\"cell_type\"].values.tolist()),\n",
    "    1,\n",
    "    0,\n",
    ")\n",
    "all_neurons[\"root_id\"] = all_neurons[\"root_id\"].astype(\"string\")\n",
    "\n",
    "neurons_in_coords = all_neurons.merge(all_coords, on=\"root_id\", how=\"right\")[\n",
    "    [\"root_id\", \"cell_type\"]\n",
    "].fillna(\"Unknown\")\n",
    "\n",
    "# Set all cell_types with less than \"n\" samples to \"others\"\n",
    "n = 1\n",
    "\n",
    "counts = neurons_in_coords[\"cell_type\"].value_counts()\n",
    "\n",
    "small_categories = counts[counts < n].index\n",
    "neurons_in_coords[\"cell_type\"] = neurons_in_coords[\"cell_type\"].apply(\n",
    "    lambda x: \"others\" if x in small_categories else x\n",
    ")"
   ]
  },
  {
   "cell_type": "code",
   "execution_count": 4,
   "metadata": {},
   "outputs": [
    {
     "data": {
      "application/vnd.jupyter.widget-view+json": {
       "model_id": "7ddc711e67dc424781ec83c1e0a9faf3",
       "version_major": 2,
       "version_minor": 0
      },
      "text/plain": [
       "  0%|          | 0/2000 [00:00<?, ?it/s]"
      ]
     },
     "metadata": {},
     "output_type": "display_data"
    }
   ],
   "source": [
    "num_passes = 4\n",
    "base_dir = \"images/zero_to_ten/train\"\n",
    "sub_dirs = [\"yellow\", \"blue\"]\n",
    "\n",
    "sampled_images = sample_images(base_dir, sub_dirs, num_test_pairs)\n",
    "\n",
    "tasks = [\n",
    "    (img, neuron_data, connections, all_coords, num_passes)\n",
    "    for img in sampled_images\n",
    "]\n",
    "result_tuples = process_map(\n",
    "    process_image_without_deciding, tasks, max_workers=multiprocessing.cpu_count() - 2, chunksize=1\n",
    ")\n",
    "dms = dict(result_tuples)"
   ]
  },
  {
   "cell_type": "code",
   "execution_count": null,
   "metadata": {},
   "outputs": [],
   "source": [
    "data = pd.DataFrame(dms)\n",
    "df = data.T\n",
    "df[\"num_points\"] = [int(a.split(\"_\")[1]) + int(a.split(\"_\")[2]) for a in df.index]"
   ]
  },
  {
   "cell_type": "code",
   "execution_count": null,
   "metadata": {},
   "outputs": [
    {
     "data": {
      "text/plain": [
       "[1, 0.5, 0.4, 0.2, 0, 0, 0, 0, 0, 0]"
      ]
     },
     "execution_count": 28,
     "metadata": {},
     "output_type": "execute_result"
    }
   ],
   "source": [
    "model_response = {0: 1, 1: .5, 2: .4, 3: .2, 4: 0}\n",
    "def get_normalized_response(n, total):\n",
    "    acts = []\n",
    "    for i in range(1, total + 1):\n",
    "        dist = abs(n - i)\n",
    "        if dist in model_response.keys():\n",
    "            acts.append(model_response[dist])\n",
    "        else:\n",
    "            acts.append(0)\n",
    "    \n",
    "    return acts"
   ]
  },
  {
   "cell_type": "code",
   "execution_count": null,
   "metadata": {},
   "outputs": [],
   "source": [
    "means = df.groupby(\"num_points\").mean()\n",
    "# normalize all columns to 0-1\n",
    "means = (means - means.min()) / (means.max() - means.min())\n",
    "# remove columns with missing data\n",
    "means = means.dropna(axis=1)\n",
    "for i in range(1, 11):\n",
    "    means[f\"tuning_curve_{i}\"] = get_normalized_response(i, 10)\n",
    "temp = means.T"
   ]
  },
  {
   "cell_type": "code",
   "execution_count": null,
   "metadata": {},
   "outputs": [],
   "source": [
    "def top_neurons_tuned_to_i(df, i):\n",
    "    col_name = f\"tuning_curve_{i}\"\n",
    "    \n",
    "    tuned = (df[df[i] == df.max(axis=1)]).T\n",
    "    if len(tuned) > 10000:\n",
    "        return \"Too many neurons tuned to this curve\"\n",
    "    correlations = tuned.corr()[col_name].sort_values(ascending=False)\n",
    "    # remove \"one_tuning_curve\" from the list\n",
    "    correlations = correlations.drop(col_name)\n",
    "    top_correlations = correlations[correlations > 0.9]\n",
    "\n",
    "    return neurons_in_coords.merge(\n",
    "        top_correlations, left_index=True, right_index=True\n",
    "    ).sort_values(by=col_name, ascending=False)"
   ]
  },
  {
   "cell_type": "code",
   "execution_count": 32,
   "metadata": {},
   "outputs": [
    {
     "ename": "",
     "evalue": "",
     "output_type": "error",
     "traceback": [
      "\u001b[1;31mThe Kernel crashed while executing code in the current cell or a previous cell. \n",
      "\u001b[1;31mPlease review the code in the cell(s) to identify a possible cause of the failure. \n",
      "\u001b[1;31mClick <a href='https://aka.ms/vscodeJupyterKernelCrash'>here</a> for more info. \n",
      "\u001b[1;31mView Jupyter <a href='command:jupyter.viewOutput'>log</a> for further details."
     ]
    }
   ],
   "source": [
    "tns = {}\n",
    "for i in range(1, 11):\n",
    "    tns[f\"num_{i}\"] = top_neurons_tuned_to_i(temp, i)"
   ]
  },
  {
   "cell_type": "code",
   "execution_count": 17,
   "metadata": {},
   "outputs": [
    {
     "data": {
      "text/plain": [
       "{}"
      ]
     },
     "execution_count": 17,
     "metadata": {},
     "output_type": "execute_result"
    }
   ],
   "source": [
    "tns"
   ]
  },
  {
   "cell_type": "code",
   "execution_count": 68,
   "metadata": {},
   "outputs": [
    {
     "data": {
      "text/plain": [
       "[(2614, 3), (55, 3), (1443, 3), (618, 3)]"
      ]
     },
     "execution_count": 68,
     "metadata": {},
     "output_type": "execute_result"
    }
   ],
   "source": [
    "[a.shape for a in tns.values()]"
   ]
  },
  {
   "cell_type": "code",
   "execution_count": 73,
   "metadata": {},
   "outputs": [],
   "source": [
    "vc1 = tns[\"num_1\"][\"cell_type\"].value_counts()\n",
    "vc2 = tns[\"num_2\"][\"cell_type\"].value_counts()\n",
    "vc3 = tns[\"num_3\"][\"cell_type\"].value_counts()\n",
    "vc4 = tns[\"num_4\"][\"cell_type\"].value_counts()"
   ]
  },
  {
   "cell_type": "code",
   "execution_count": 74,
   "metadata": {},
   "outputs": [
    {
     "data": {
      "text/plain": [
       "Unknown      779\n",
       "Mi15         116\n",
       "T2a           70\n",
       "Tm1           48\n",
       "Tm20          43\n",
       "            ... \n",
       "SMP404b        1\n",
       "DNge044        1\n",
       "CB2171         1\n",
       "CB.FB5D10      1\n",
       "Lawf1          1\n",
       "Name: cell_type, Length: 552, dtype: int64"
      ]
     },
     "execution_count": 74,
     "metadata": {},
     "output_type": "execute_result"
    }
   ],
   "source": [
    "vc1"
   ]
  },
  {
   "cell_type": "code",
   "execution_count": 82,
   "metadata": {},
   "outputs": [
    {
     "data": {
      "text/html": [
       "<div>\n",
       "<style scoped>\n",
       "    .dataframe tbody tr th:only-of-type {\n",
       "        vertical-align: middle;\n",
       "    }\n",
       "\n",
       "    .dataframe tbody tr th {\n",
       "        vertical-align: top;\n",
       "    }\n",
       "\n",
       "    .dataframe thead th {\n",
       "        text-align: right;\n",
       "    }\n",
       "</style>\n",
       "<table border=\"1\" class=\"dataframe\">\n",
       "  <thead>\n",
       "    <tr style=\"text-align: right;\">\n",
       "      <th></th>\n",
       "      <th>root_id</th>\n",
       "      <th>cell_type</th>\n",
       "      <th>tuning_curve_1</th>\n",
       "    </tr>\n",
       "  </thead>\n",
       "  <tbody>\n",
       "    <tr>\n",
       "      <th>43113</th>\n",
       "      <td>720575940620321728</td>\n",
       "      <td>Unknown</td>\n",
       "      <td>0.998762</td>\n",
       "    </tr>\n",
       "    <tr>\n",
       "      <th>60712</th>\n",
       "      <td>720575940623381956</td>\n",
       "      <td>Unknown</td>\n",
       "      <td>0.998254</td>\n",
       "    </tr>\n",
       "    <tr>\n",
       "      <th>68576</th>\n",
       "      <td>720575940624814333</td>\n",
       "      <td>Tm5c</td>\n",
       "      <td>0.997962</td>\n",
       "    </tr>\n",
       "    <tr>\n",
       "      <th>21669</th>\n",
       "      <td>720575940614778535</td>\n",
       "      <td>Tm5c</td>\n",
       "      <td>0.997962</td>\n",
       "    </tr>\n",
       "    <tr>\n",
       "      <th>49962</th>\n",
       "      <td>720575940621529435</td>\n",
       "      <td>Unknown</td>\n",
       "      <td>0.997559</td>\n",
       "    </tr>\n",
       "    <tr>\n",
       "      <th>...</th>\n",
       "      <td>...</td>\n",
       "      <td>...</td>\n",
       "      <td>...</td>\n",
       "    </tr>\n",
       "    <tr>\n",
       "      <th>4025</th>\n",
       "      <td>720575940606915714</td>\n",
       "      <td>Tm20</td>\n",
       "      <td>0.900063</td>\n",
       "    </tr>\n",
       "    <tr>\n",
       "      <th>105763</th>\n",
       "      <td>720575940631711563</td>\n",
       "      <td>CB3851</td>\n",
       "      <td>0.900051</td>\n",
       "    </tr>\n",
       "    <tr>\n",
       "      <th>18284</th>\n",
       "      <td>720575940613686698</td>\n",
       "      <td>Unknown</td>\n",
       "      <td>0.900048</td>\n",
       "    </tr>\n",
       "    <tr>\n",
       "      <th>117907</th>\n",
       "      <td>720575940635248223</td>\n",
       "      <td>Unknown</td>\n",
       "      <td>0.900038</td>\n",
       "    </tr>\n",
       "    <tr>\n",
       "      <th>87880</th>\n",
       "      <td>720575940628312681</td>\n",
       "      <td>Mi15</td>\n",
       "      <td>0.900017</td>\n",
       "    </tr>\n",
       "  </tbody>\n",
       "</table>\n",
       "<p>2614 rows × 3 columns</p>\n",
       "</div>"
      ],
      "text/plain": [
       "                   root_id cell_type  tuning_curve_1\n",
       "43113   720575940620321728   Unknown        0.998762\n",
       "60712   720575940623381956   Unknown        0.998254\n",
       "68576   720575940624814333      Tm5c        0.997962\n",
       "21669   720575940614778535      Tm5c        0.997962\n",
       "49962   720575940621529435   Unknown        0.997559\n",
       "...                    ...       ...             ...\n",
       "4025    720575940606915714      Tm20        0.900063\n",
       "105763  720575940631711563    CB3851        0.900051\n",
       "18284   720575940613686698   Unknown        0.900048\n",
       "117907  720575940635248223   Unknown        0.900038\n",
       "87880   720575940628312681      Mi15        0.900017\n",
       "\n",
       "[2614 rows x 3 columns]"
      ]
     },
     "execution_count": 82,
     "metadata": {},
     "output_type": "execute_result"
    }
   ],
   "source": [
    "tns[\"num_1\"]"
   ]
  },
  {
   "cell_type": "code",
   "execution_count": null,
   "metadata": {},
   "outputs": [],
   "source": []
  }
 ],
 "metadata": {
  "kernelspec": {
   "display_name": "venv",
   "language": "python",
   "name": "python3"
  },
  "language_info": {
   "codemirror_mode": {
    "name": "ipython",
    "version": 3
   },
   "file_extension": ".py",
   "mimetype": "text/x-python",
   "name": "python",
   "nbconvert_exporter": "python",
   "pygments_lexer": "ipython3",
   "version": "3.10.12"
  }
 },
 "nbformat": 4,
 "nbformat_minor": 2
}
