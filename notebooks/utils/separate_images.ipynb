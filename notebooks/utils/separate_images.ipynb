{
 "cells": [
  {
   "cell_type": "code",
   "metadata": {},
   "source": [
    "from pathlib import Path\n",
    "import shutil\n",
    "import re\n",
    "import os"
   ],
   "outputs": [],
   "execution_count": null
  },
  {
   "cell_type": "code",
   "metadata": {},
   "source": [
    "def extract_angle(filename):\n",
    "    # Extract the angle from filenames like \"star_14800_152_45_12.png\"\n",
    "    parts = filename.stem.split(\"_\")\n",
    "    if len(parts) >= 4:\n",
    "        return int(parts[-2])  # Get the second-to-last number\n",
    "    return None\n",
    "\n",
    "\n",
    "def organize_images_by_angle(source_dir, target_dir, angle_threshold=90):\n",
    "    # Create source and target Path objects\n",
    "    source_path = Path(source_dir)\n",
    "    target_path = Path(target_dir)\n",
    "\n",
    "    # Create the target directory structure\n",
    "    for split in [\"train\", \"test\"]:\n",
    "        for shape in [\"star\", \"circle\"]:\n",
    "            (target_path / split / shape).mkdir(parents=True, exist_ok=True)\n",
    "\n",
    "    # Process each split (train and test)\n",
    "    for split in [\"train\", \"test\"]:\n",
    "        for shape in [\"star\", \"circle\"]:\n",
    "            # Get the source directory for this shape\n",
    "            source_shape_dir = source_path / split / shape\n",
    "\n",
    "            # Process each image in the directory\n",
    "            for img_path in source_shape_dir.glob(\"*.png\"):\n",
    "                angle = extract_angle(img_path)\n",
    "\n",
    "                if angle is not None:\n",
    "                    # Determine the target split based on the angle\n",
    "                    target_split = \"train\" if angle <= angle_threshold or angle > 360 - angle_threshold else \"test\"\n",
    "\n",
    "                    # Construct the target path\n",
    "                    target_file = target_path / target_split / shape / img_path.name\n",
    "\n",
    "                    # Copy the file to its new location\n",
    "                    shutil.copy2(img_path, target_file)\n",
    "                    print(f\"Copied {img_path.name} to {target_split}/{shape}/\")"
   ],
   "outputs": [],
   "execution_count": null
  },
  {
   "cell_type": "code",
   "metadata": {},
   "source": [
    "def main():\n",
    "    source_directory = \"images/two_shapes3\"\n",
    "    target_directory = \"images/two_shapes_retinotopic\"\n",
    "\n",
    "    organize_images_by_angle(source_directory, target_directory, angle_threshold=90)\n",
    "    print(\"Organization complete!\")\n",
    "\n",
    "\n",
    "if __name__ == \"__main__\":\n",
    "    main()"
   ],
   "outputs": [],
   "execution_count": null
  },
  {
   "cell_type": "code",
   "metadata": {},
   "source": [],
   "outputs": [],
   "execution_count": null
  }
 ],
 "metadata": {
  "kernelspec": {
   "display_name": "venv",
   "language": "python",
   "name": "python3"
  },
  "language_info": {
   "codemirror_mode": {
    "name": "ipython",
    "version": 3
   },
   "file_extension": ".py",
   "mimetype": "text/x-python",
   "name": "python",
   "nbconvert_exporter": "python",
   "pygments_lexer": "ipython3",
   "version": "3.12.3"
  }
 },
 "nbformat": 4,
 "nbformat_minor": 2
}
