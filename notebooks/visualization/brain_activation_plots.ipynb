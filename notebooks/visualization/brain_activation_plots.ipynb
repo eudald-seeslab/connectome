{
 "cells": [
  {
   "cell_type": "code",
   "metadata": {},
   "source": [
    "%matplotlib inline\n",
    "import os\n",
    "import torch\n",
    "import pandas as pd\n",
    "import numpy as np\n",
    "import matplotlib.pyplot as plt\n",
    "import plotly.graph_objects as go\n",
    "\n",
    "cmap = plt.get_cmap(\"viridis\")\n",
    "\n",
    "from configs import config\n",
    "from connectome.core.graph_models import FullGraphModel\n",
    "from connectome.core.data_processing import CompleteModelsDataProcessor\n",
    "from utils.model_inspection_utils import get_neuron_type\n",
    "from utils.model_inspection_funcs import (\n",
    "    activation_cols_and_colours,\n",
    "    neuron_data_from_image,\n",
    "    propagate_neuron_data,\n",
    "    sample_images,\n",
    ")\n",
    "\n",
    "device = torch.device(\"cpu\")\n",
    "dtype = torch.float32"
   ],
   "outputs": [],
   "execution_count": null
  },
  {
   "cell_type": "code",
   "metadata": {},
   "source": [
    "data_processor = CompleteModelsDataProcessor(\n",
    "    neurons=config.neurons,\n",
    "    voronoi_criteria=config.voronoi_criteria,\n",
    "    random_synapses=config.random_synapses,\n",
    "    log_transform_weights=config.log_transform_weights,\n",
    ")\n",
    "\n",
    "model = FullGraphModel(\n",
    "    input_shape=data_processor.number_of_synapses,\n",
    "    num_connectome_passes=config.NUM_CONNECTOME_PASSES,\n",
    "    decision_making_vector=data_processor.decision_making_vector,\n",
    "    batch_size=config.batch_size,\n",
    "    dtype=config.dtype,\n",
    "    edge_weights=data_processor.synaptic_matrix.data,\n",
    "    device=config.DEVICE,\n",
    "    num_classes=len(config.CLASSES),\n",
    ").to(device)"
   ],
   "outputs": [],
   "execution_count": null
  },
  {
   "cell_type": "code",
   "metadata": {},
   "source": [
    "# horrible data stuff\n",
    "checkpoint = torch.load(\"models/model_2024-05-20 03:41:43.pth\", map_location=\"cpu\")\n",
    "model.load_state_dict(checkpoint[\"model\"])\n",
    "model.eval()\n",
    "connections = (\n",
    "    pd.read_csv(\n",
    "        \"adult_data/connections.csv\",\n",
    "        dtype={\n",
    "            \"pre_root_id\": \"string\",\n",
    "            \"post_root_id\": \"string\",\n",
    "            \"syn_count\": np.int32,\n",
    "        },\n",
    "    )\n",
    "    .groupby([\"pre_root_id\", \"post_root_id\"])\n",
    "    .sum(\"syn_count\")\n",
    "    .reset_index()\n",
    ")\n",
    "\n",
    "connections[\"weight\"] = model.connectome.edge_weight_multiplier.detach()\n",
    "right_root_ids = data_processor.right_root_ids\n",
    "all_neurons = (\n",
    "    pd.read_csv(\"../../adult_data/classification_clean.csv\")\n",
    "    .merge(right_root_ids, on=\"root_id\")\n",
    "    .fillna(\"Unknown\")\n",
    ")\n",
    "right_visual_neurons = data_processor.voronoi_cells.get_tesselated_neurons().merge(\n",
    "    right_root_ids, on=\"root_id\"\n",
    ")\n",
    "neuron_data = pd.read_csv(\n",
    "    \"../../adult_data/right_visual_positions_selected_neurons.csv\",\n",
    "    dtype={\"root_id\": \"string\"},\n",
    ").drop(columns=[\"x\", \"y\", \"z\", \"PC1\", \"PC2\"])\n",
    "data_cols = [\"x_axis\", \"y_axis\"]\n",
    "all_coords = pd.read_csv(\"../../adult_data/all_coords_clean.csv\", dtype={\"root_id\": \"string\"})\n",
    "rational_cell_types = pd.read_csv(\"../../adult_data/rational_cell_types.csv\")\n",
    "all_neurons[\"decision_making\"] = np.where(\n",
    "    all_neurons[\"cell_type\"].isin(rational_cell_types[\"cell_type\"].values.tolist()),\n",
    "    1,\n",
    "    0,\n",
    ")\n",
    "all_neurons[\"root_id\"] = all_neurons[\"root_id\"].astype(\"string\")"
   ],
   "outputs": [],
   "execution_count": null
  },
  {
   "cell_type": "code",
   "metadata": {},
   "source": [
    "def prepare_data_for_plot(propagation, activation_cols):\n",
    "    df = propagation.copy()\n",
    "    # Normalize activations\n",
    "\n",
    "    df[\"color\"] = df[activation_cols].apply(\n",
    "        lambda x: get_neuron_type(x, activation_cols), axis=1\n",
    "    )\n",
    "    df[\"plot_activation\"] = df.apply(\n",
    "        lambda x: 0 if x[\"color\"] == \"no_activation\" else x[x[\"color\"]], axis=1\n",
    "    )\n",
    "    # df[activation_cols] = df[activation_cols].apply(lambda x: normalize_non_zero(x, total_min, total_max))\n",
    "    df[\"size\"] = np.log1p(np.abs(df[\"plot_activation\"])) + 2\n",
    "    return df\n"
   ],
   "outputs": [],
   "execution_count": null
  },
  {
   "cell_type": "code",
   "metadata": {},
   "source": [
    "def plot_brain(df, image_path, colours):\n",
    "    fig = go.Figure()\n",
    "    for category, colour in colours.items():\n",
    "        data = df[df[\"color\"] == category]\n",
    "        fig.add_trace(\n",
    "            go.Scatter3d(\n",
    "                x=data[\"x\"],\n",
    "                y=data[\"y\"],\n",
    "                z=data[\"z\"],\n",
    "                mode=\"markers\",\n",
    "                marker=dict(\n",
    "                    size=data[\"size\"], color=colour, line=dict(width=0), opacity=0.5\n",
    "                ),\n",
    "                name=category,\n",
    "                visible=True,\n",
    "            )\n",
    "        )\n",
    "\n",
    "    # Update layout for a clean background\n",
    "    fig.update_layout(\n",
    "        title=os.path.basename(image_path),\n",
    "        scene=dict(\n",
    "            xaxis=dict(title=\"X\", showbackground=False, showgrid=False, zeroline=False),\n",
    "            yaxis=dict(title=\"Y\", showbackground=False, showgrid=False, zeroline=False),\n",
    "            zaxis=dict(title=\"Z\", showbackground=False, showgrid=False, zeroline=False),\n",
    "            xaxis_title=\"X\",\n",
    "            yaxis_title=\"Y\",\n",
    "            zaxis_title=\"Z\",\n",
    "        ),\n",
    "        scene_aspectmode=\"auto\",\n",
    "        margin=dict(l=0, r=0, b=0, t=30),\n",
    "    )\n",
    "\n",
    "    fig.show()"
   ],
   "outputs": [],
   "execution_count": null
  },
  {
   "cell_type": "code",
   "metadata": {},
   "source": [
    "def process_and_plot(img_path, neuron_data, coords, neurons, num_passes):\n",
    "    neuron_data = neuron_data_from_image(img_path, neuron_data)\n",
    "    propagation = propagate_neuron_data(neuron_data, connections, coords, neurons, num_passes)\n",
    "    activation_cols, colours = activation_cols_and_colours(num_passes)\n",
    "    df = prepare_data_for_plot(propagation, activation_cols)\n",
    "    plot_brain(df, img_path, colours)"
   ],
   "outputs": [],
   "execution_count": null
  },
  {
   "cell_type": "code",
   "metadata": {},
   "source": [
    "base_dir = \"images/five_to_fifteen/train\"\n",
    "sub_dirs = [\"yellow\", \"blue\"]\n",
    "\n",
    "sampled_images = sample_images(base_dir, sub_dirs, 10)\n",
    "process_and_plot(sampled_images[0], neuron_data, all_coords, all_neurons, num_passes=4)"
   ],
   "outputs": [],
   "execution_count": null
  },
  {
   "cell_type": "code",
   "metadata": {},
   "source": [
    "process_and_plot(sampled_images[1], neuron_data, all_coords, all_neurons, num_passes=4)"
   ],
   "outputs": [],
   "execution_count": null
  },
  {
   "cell_type": "code",
   "metadata": {},
   "source": [],
   "outputs": [],
   "execution_count": null
  }
 ],
 "metadata": {
  "kernelspec": {
   "display_name": "venv",
   "language": "python",
   "name": "python3"
  },
  "language_info": {
   "codemirror_mode": {
    "name": "ipython",
    "version": 3
   },
   "file_extension": ".py",
   "mimetype": "text/x-python",
   "name": "python",
   "nbconvert_exporter": "python",
   "pygments_lexer": "ipython3",
   "version": "3.12.3"
  }
 },
 "nbformat": 4,
 "nbformat_minor": 2
}
