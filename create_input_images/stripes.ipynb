{
 "cells": [
  {
   "cell_type": "code",
   "execution_count": 72,
   "metadata": {},
   "outputs": [],
   "source": [
    "import os\n",
    "import numpy as np\n",
    "from PIL import Image, ImageDraw\n",
    "from tqdm import tqdm\n",
    "\n",
    "background_colour = \"#000000\"\n",
    "img_size = 512\n",
    "circumscribed_size = int(img_size / 2 * np.sqrt(2)) * 2\n",
    "dir_ = \"../images/stripes/test\"\n",
    "tag = \"v2\"\n",
    "img_sets = 50\n",
    "angles = [0, 45, 90, 135]\n",
    "max_attemps = 10000"
   ]
  },
  {
   "cell_type": "code",
   "execution_count": 73,
   "metadata": {},
   "outputs": [],
   "source": [
    "class CreateStripes:\n",
    "    min_thickness = 10\n",
    "    max_thickness = 30\n",
    "    min_spacing = 5\n",
    "    min_stripe_num = 2\n",
    "    size = 512\n",
    "    dir_path = dir_\n",
    "\n",
    "    def __init__(self, max_stripe_num, angles):\n",
    "        self.max_stripe_num = max_stripe_num\n",
    "        self.angles = angles\n",
    "        self.c_size = int(self.size / 2 * np.sqrt(2)) * 2\n",
    "\n",
    "    def create_images(self):\n",
    "        self._create_directories()\n",
    "\n",
    "        for i in tqdm(range(img_sets)):\n",
    "            for angle in self.angles:\n",
    "                for j in range(self.min_stripe_num, self.max_stripe_num + 1):\n",
    "                    img = self.create_rotated_stripes(j, angle)\n",
    "                    img.save(os.path.join(self.dir_path, f\"{angle}/img_{j}_{i}_{tag}.png\"))\n",
    "\n",
    "    def create_rotated_stripes(self, num_stripes, angle):\n",
    "        # Create a new blank image\n",
    "        img = Image.new(\"RGB\", (self.c_size, self.c_size), color=background_colour)\n",
    "        draw = ImageDraw.Draw(img)\n",
    "        # Get random thickness\n",
    "        stripe_thickness = np.random.randint(self.min_thickness, self.max_thickness, num_stripes)\n",
    "\n",
    "        min_start_point = (self.c_size - self.size) // 2 * np.cos(angle * np.pi / 180)\n",
    "        max_start_point = self.c_size - min_start_point - self.min_thickness - self.min_spacing\n",
    "        starting_positions = np.random.randint(min_start_point, max_start_point, num_stripes)\n",
    "        # Check if any stripes overlap\n",
    "        attemps = 0\n",
    "        while self._check_overlaps(starting_positions, stripe_thickness):\n",
    "            starting_positions = np.random.randint(\n",
    "                min_start_point, max_start_point, num_stripes\n",
    "            )\n",
    "            attemps += 1\n",
    "            if attemps > max_attemps:\n",
    "                raise Exception(\"Too many overlaps\")\n",
    "\n",
    "        # Draw vertical stripes\n",
    "        for i in range(num_stripes):\n",
    "            upper_left = (starting_positions[i], 0)\n",
    "            lower_right = (\n",
    "                starting_positions[i] + stripe_thickness[i],\n",
    "                self.c_size,\n",
    "            )\n",
    "            draw.rectangle([upper_left, lower_right], fill=\"white\")  # Stripe color\n",
    "\n",
    "        # Rotate the image by the specified angle\n",
    "        rotated_img = img.rotate(angle)\n",
    "        # Crop the image to the original size\n",
    "        rotated_img = rotated_img.crop(\n",
    "            (\n",
    "                (self.c_size - self.size) // 2,\n",
    "                (self.c_size - self.size) // 2,\n",
    "                (self.c_size + self.size) // 2,\n",
    "                (self.c_size + self.size) // 2,\n",
    "            )\n",
    "        )\n",
    "\n",
    "        return rotated_img\n",
    "\n",
    "    def _create_directories(self):\n",
    "        os.makedirs(self.dir_path, exist_ok=True)\n",
    "\n",
    "        for angle in self.angles:\n",
    "            os.makedirs(os.path.join(self.dir_path, f\"{angle}\"), exist_ok=True)\n",
    "\n",
    "    def _check_overlaps(self, starting_positions, stripe_thickness):\n",
    "        # Check if any stripes overlap\n",
    "        for i in range(len(starting_positions)):\n",
    "            for j in range(i + 1, len(starting_positions)):\n",
    "                if (\n",
    "                    starting_positions[i] < starting_positions[j] + stripe_thickness[j] + self.min_spacing\n",
    "                    and starting_positions[i] + stripe_thickness[i] + self.min_spacing > starting_positions[j]\n",
    "                ):\n",
    "                    return True\n",
    "        return False"
   ]
  },
  {
   "cell_type": "code",
   "execution_count": 74,
   "metadata": {},
   "outputs": [
    {
     "name": "stderr",
     "output_type": "stream",
     "text": [
      "100%|██████████| 50/50 [00:13<00:00,  3.73it/s]\n"
     ]
    }
   ],
   "source": [
    "# create images\n",
    "stripes = CreateStripes(10, angles)\n",
    "stripes.create_images()"
   ]
  },
  {
   "cell_type": "code",
   "execution_count": 37,
   "metadata": {},
   "outputs": [
    {
     "data": {
      "text/plain": [
       "array([206.66666667, 403.33333333])"
      ]
     },
     "execution_count": 37,
     "metadata": {},
     "output_type": "execute_result"
    }
   ],
   "source": [
    "np.linspace(10, 600, 4)[1:-1]"
   ]
  },
  {
   "cell_type": "code",
   "execution_count": null,
   "metadata": {},
   "outputs": [],
   "source": []
  }
 ],
 "metadata": {
  "kernelspec": {
   "display_name": "venv",
   "language": "python",
   "name": "python3"
  },
  "language_info": {
   "codemirror_mode": {
    "name": "ipython",
    "version": 3
   },
   "file_extension": ".py",
   "mimetype": "text/x-python",
   "name": "python",
   "nbconvert_exporter": "python",
   "pygments_lexer": "ipython3",
   "version": "3.10.12"
  }
 },
 "nbformat": 4,
 "nbformat_minor": 2
}
