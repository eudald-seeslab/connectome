{
 "cells": [
  {
   "cell_type": "code",
   "execution_count": 4,
   "metadata": {},
   "outputs": [],
   "source": [
    "import os\n",
    "import argparse\n",
    "from PIL import Image\n",
    "from points import NumberPoints, PointLayoutError\n",
    "import random\n",
    "from tqdm import tqdm\n",
    "import logging\n",
    "import numpy as np\n",
    "\n",
    "logging.basicConfig(level=logging.INFO)\n",
    "\n",
    "GENERAL_CONFIG = {\n",
    "    # so that we can create more images without the names clashing with the previous\n",
    "    \"version_tag\": \"\",\n",
    "    \"colour\": \"yellow\",\n",
    "    \"boundary_width\": 5,\n",
    "    \"background_colour\": \"#000000\",  # for gray: #808080\n",
    "    \"yellow\": \"#fffe04\",\n",
    "    \"min_point_radius\": 15,\n",
    "    \"max_point_radius\": 25,\n",
    "    \"init_size\": 512,\n",
    "    \"mode\": \"RGB\",\n",
    "    \"min_point_num\": 1,\n",
    "    \"max_point_num\": 5,\n",
    "    \"attempts_limit\": 5000,\n",
    "}\n",
    "\n",
    "config = GENERAL_CONFIG"
   ]
  },
  {
   "cell_type": "code",
   "execution_count": 5,
   "metadata": {},
   "outputs": [],
   "source": [
    "class TerminalPointLayoutError(ValueError):\n",
    "    pass\n",
    "\n",
    "\n",
    "class OneColourImageGenerator:\n",
    "    def __init__(self, config):\n",
    "        self.config = config\n",
    "        self.nmin = self.config[\"min_point_num\"]\n",
    "        self.nmax = self.config[\"max_point_num\"]\n",
    "        self.total_area = self.config[\"total_area\"]\n",
    "        self._check_areas_make_sense()\n",
    "        self.setup_directories()\n",
    "        if self.nmin == 0:\n",
    "            raise ValueError(\"min_point_num must be at least 1\")\n",
    "\n",
    "    def _check_areas_make_sense(self):\n",
    "        if self.total_area is not None:\n",
    "            min_area_max_num = np.pi * self.config[\"min_point_radius\"] ** 2 * self.nmax\n",
    "            max_area_max_num = np.pi * self.config[\"max_point_radius\"] ** 2 * self.nmax\n",
    "            if self.total_area < min_area_max_num:\n",
    "                raise ValueError(\n",
    "                    f\"total_area is too small. It must be at least {min_area_max_num}\"\n",
    "                )\n",
    "            if self.total_area > max_area_max_num:\n",
    "                raise ValueError(\n",
    "                    f\"Total_area is very large, please make total area smaller than {max_area_max_num}\"\n",
    "                )\n",
    "    \n",
    "    def setup_directories(self):\n",
    "        os.makedirs(self.config[\"IMG_DIR\"], exist_ok=True)\n",
    "        [\n",
    "            os.makedirs(os.path.join(self.config[\"IMG_DIR\"], str(c)), exist_ok=True)\n",
    "            for c in range(self.nmin, self.nmax + 1)\n",
    "        ]\n",
    "\n",
    "    def create_image(self, n):\n",
    "        img = Image.new(\n",
    "            self.config[\"mode\"],\n",
    "            (self.config[\"init_size\"], self.config[\"init_size\"]),\n",
    "            color=self.config[\"background_colour\"],\n",
    "        )\n",
    "        number_points = NumberPoints(\n",
    "            img,\n",
    "            self.config[\"init_size\"],\n",
    "            yellow=self.config[\"yellow\"],\n",
    "            blue=None,\n",
    "            min_point_radius=self.config[\"min_point_radius\"],\n",
    "            max_point_radius=self.config[\"max_point_radius\"],\n",
    "            attempts_limit=self.config[\"attempts_limit\"],\n",
    "        )\n",
    "        point_array = number_points.design_n_points(n, self.config[\"colour\"])\n",
    "\n",
    "        if self.total_area is not None:\n",
    "            point_array = number_points.fix_total_area(point_array, self.total_area)\n",
    "        return number_points.draw_points(point_array)\n",
    "\n",
    "    def create_and_save(self, n, tag=\"\"):\n",
    "        v_tag = f\"_{config['version_tag']}\" if config[\"version_tag\"] is not None else \"\"\n",
    "        ac_tag = \"_ac\" if self.total_area is not None else \"\" # is it area controlled?\n",
    "        name = f\"img_{n}_{tag}{ac_tag}{v_tag}.png\"\n",
    "\n",
    "        attempts = 0\n",
    "        while attempts < self.config[\"attempts_limit\"]:\n",
    "            try:\n",
    "                self.create_and_save_once(name, n)\n",
    "                break\n",
    "            except PointLayoutError as e:\n",
    "                logging.debug(f\"Failed to create image {name} because '{e}' Retrying.\")\n",
    "                attempts += 1\n",
    "\n",
    "                if attempts == self.config[\"attempts_limit\"]:\n",
    "                    raise TerminalPointLayoutError(\n",
    "                        f\"\"\"Failed to create image {name} after {attempts} attempts. \n",
    "                        Your points are probably too big, or there are too many. \n",
    "                        Stopping.\"\"\"\n",
    "                    )\n",
    "\n",
    "    def create_and_save_once(self, name, n):\n",
    "        img = self.create_image(n)\n",
    "        img.save(os.path.join(self.config[\"IMG_DIR\"], str(n), name))\n",
    "\n",
    "    def generate_images(self):\n",
    "\n",
    "        logging.info(\n",
    "            f\"This will make {self.config['IMAGE_SET_NUM'] * (self.nmax - self.nmin + 1) * 4} images.\"\n",
    "        )\n",
    "        for i in tqdm(range(self.config[\"IMAGE_SET_NUM\"])):\n",
    "            for n in range(self.nmin, self.nmax + 1):\n",
    "                self.create_and_save(n, tag=i)\n"
   ]
  },
  {
   "cell_type": "code",
   "execution_count": 6,
   "metadata": {},
   "outputs": [],
   "source": [
    "def get_config():\n",
    "    parser = argparse.ArgumentParser(\n",
    "        description=\"Generate images based on number point configurations.\"\n",
    "    )\n",
    "    parser.add_argument(\n",
    "        \"--img_set_num\",\n",
    "        type=int,\n",
    "        default=100,\n",
    "        help=\"Number of image sets to generate.\",\n",
    "    )\n",
    "    parser.add_argument(\n",
    "        \"--img_dir\",\n",
    "        type=str,\n",
    "        default=\"images/extremely_easy\",\n",
    "        help=\"Directory to save images.\",\n",
    "    )\n",
    "    parser.add_argument(\n",
    "        \"--total_area\",\n",
    "        type=int,\n",
    "        default=None,\n",
    "        help=\"Total area of the points in the image. Can be None.\",\n",
    "    )\n",
    "\n",
    "    args = parser.parse_args()\n",
    "\n",
    "    config = GENERAL_CONFIG | {\n",
    "        \"IMAGE_SET_NUM\": args.img_set_num,\n",
    "        \"IMG_DIR\": args.img_dir,\n",
    "        \"total_area\": args.total_area,\n",
    "    }\n",
    "    return config"
   ]
  },
  {
   "cell_type": "code",
   "execution_count": 10,
   "metadata": {},
   "outputs": [
    {
     "name": "stderr",
     "output_type": "stream",
     "text": [
      "INFO:root:This will make 4000 images.\n",
      "100%|██████████| 200/200 [00:12<00:00, 15.78it/s]\n"
     ]
    }
   ],
   "source": [
    "config = GENERAL_CONFIG | {\n",
    "    \"IMAGE_SET_NUM\": 200,\n",
    "    \"IMG_DIR\": \"../images/one_colour/test\",\n",
    "    \"total_area\": 4500,\n",
    "}\n",
    "random.seed(1714)\n",
    "image_generator = OneColourImageGenerator(config)\n",
    "image_generator.generate_images()"
   ]
  },
  {
   "cell_type": "code",
   "execution_count": 13,
   "metadata": {},
   "outputs": [
    {
     "data": {
      "text/plain": [
       "11309.733552923255"
      ]
     },
     "execution_count": 13,
     "metadata": {},
     "output_type": "execute_result"
    }
   ],
   "source": [
    "np.pi * 20 ** 2 * 9"
   ]
  },
  {
   "cell_type": "code",
   "execution_count": null,
   "metadata": {},
   "outputs": [],
   "source": []
  }
 ],
 "metadata": {
  "kernelspec": {
   "display_name": "venv",
   "language": "python",
   "name": "python3"
  },
  "language_info": {
   "codemirror_mode": {
    "name": "ipython",
    "version": 3
   },
   "file_extension": ".py",
   "mimetype": "text/x-python",
   "name": "python",
   "nbconvert_exporter": "python",
   "pygments_lexer": "ipython3",
   "version": "3.10.12"
  }
 },
 "nbformat": 4,
 "nbformat_minor": 2
}
