{
 "cells": [
  {
   "cell_type": "code",
   "execution_count": null,
   "id": "initial_id",
   "metadata": {
    "collapsed": true
   },
   "outputs": [],
   "source": [
    "import wandb\n",
    "import os\n",
    "\n",
    "from torch import nn, optim, device, cuda\n",
    "import torch\n",
    "\n",
    "import yaml\n",
    "from tqdm import tqdm, trange\n",
    "\n",
    "from data_parser import adj_matrix, nodes\n",
    "from image_parser import train_loader, test_loader, debug_loader\n",
    "from utils import check_for_missing_values\n",
    "\n",
    "from network_models import CombinedModel\n",
    "from model_config_manager import ModelConfigManager"
   ]
  },
  {
   "cell_type": "code",
   "execution_count": null,
   "outputs": [],
   "source": [
    "config = yaml.safe_load(open(\"config.yml\"))\n",
    "epochs = config[\"EPOCHS\"]\n",
    "RETINA_MODEL = config[\"RETINA_MODEL\"]\n",
    "DEBUG = config[\"DEBUG\"]\n",
    "\n",
    "# FIXME: Remove this\n",
    "DEBUG = True\n",
    "if DEBUG:\n",
    "    epochs = 5\n",
    "    \n",
    "loader = debug_loader if DEBUG else train_loader\n",
    "\n",
    "# CLoad model configurations\n",
    "config_manager = ModelConfigManager()\n",
    "config_manager.load_configs_from_yaml([\"cnn_1.yml\", \"cnn_2.yml\"])\n",
    "config_manager.set_model_config(RETINA_MODEL)\n",
    "wandb.init(project=\"test\", config=config_manager.model_config)"
   ],
   "metadata": {
    "collapsed": false
   },
   "id": "a64288cc264629f6"
  },
  {
   "cell_type": "code",
   "execution_count": null,
   "outputs": [],
   "source": [
    "# Initialize the combined model\n",
    "combined_model = CombinedModel(adj_matrix, neurons=nodes, model_config=config_manager.model_config)\n",
    "dev = device(\"cuda\" if cuda.is_available() else \"cpu\")\n",
    "combined_model = combined_model.to(dev)\n",
    "\n",
    "# Specify the loss function and the optimizer\n",
    "criterion = nn.NLLLoss()\n",
    "optimizer = optim.Adam(combined_model.parameters(), lr=0.00001)"
   ],
   "metadata": {
    "collapsed": false
   },
   "id": "4f987660c89ee8ff"
  },
  {
   "cell_type": "code",
   "execution_count": null,
   "outputs": [],
   "source": [
    "config_manager.output_model_details()\n",
    "\n",
    "for epoch in trange(epochs):\n",
    "    running_loss = 0\n",
    "    # If the model is fast~ish\n",
    "    # for images, labels in train_loader:\n",
    "    for images, labels in tqdm(loader):\n",
    "        # Move images and labels to the device\n",
    "        images, labels = images.to(dev), labels.to(dev)\n",
    "\n",
    "        # Checks\n",
    "        if torch.isnan(images).any():\n",
    "            raise Exception(\"NaN in images\")\n",
    "        if torch.isnan(labels).any():\n",
    "            raise Exception(\"NaN in labels\")\n",
    "\n",
    "        # Forward pass\n",
    "        outputs = combined_model(images)\n",
    "\n",
    "        # Compute the loss\n",
    "        loss = criterion(outputs, labels)\n",
    "\n",
    "        # Backward pass and optimize\n",
    "        optimizer.zero_grad()\n",
    "        loss.backward()\n",
    "\n",
    "        optimizer.step()\n",
    " \n",
    "        running_loss += loss.item()\n",
    "        \n",
    "        wandb.log({\"loss\": loss.item(), \"epoch\": epoch})\n",
    "\n",
    "    print(f'Epoch {epoch+1}/{epochs}, Loss: {running_loss/len(train_loader)}')\n",
    "    # Save model every 10 epochs\n",
    "    if epoch > 0 and (epoch + 1) % 10 == 0:\n",
    "        torch.save(combined_model.state_dict(), os.path.join(\"models\", f\"model_{RETINA_MODEL}_{epoch + 1}_epochs.pth\"))\n",
    "        print(f\"Saved model after {epoch + 1} runs\")\n",
    "\n",
    "wandb.finish()"
   ],
   "metadata": {
    "collapsed": false
   },
   "id": "92e6a61875ae617f"
  },
  {
   "cell_type": "code",
   "execution_count": null,
   "outputs": [],
   "source": [
    "from image_parser import test_loader\n",
    "# Test de model\n",
    "correct = 0\n",
    "total = 0\n",
    "with torch.no_grad():\n",
    "    for images, labels in tqdm(test_loader):\n",
    "        images, labels = images.to(dev), labels.to(dev)\n",
    "        outputs = combined_model(images)\n",
    "        _, predicted = torch.max(outputs.data, 1)\n",
    "        total += labels.size(0)\n",
    "        correct += (predicted == labels).sum()"
   ],
   "metadata": {
    "collapsed": false
   },
   "id": "fdb2376131c2d8ae"
  },
  {
   "cell_type": "code",
   "execution_count": null,
   "outputs": [],
   "source": [
    "print(f\"Accuracy on the {total} test images: {100 * correct / total}%\")"
   ],
   "metadata": {
    "collapsed": false
   },
   "id": "8368dfca022c2abe"
  },
  {
   "cell_type": "code",
   "execution_count": null,
   "outputs": [],
   "source": [],
   "metadata": {
    "collapsed": false
   },
   "id": "4e5b932bfb3b01a9"
  }
 ],
 "metadata": {
  "kernelspec": {
   "display_name": "Python 3",
   "language": "python",
   "name": "python3"
  },
  "language_info": {
   "codemirror_mode": {
    "name": "ipython",
    "version": 2
   },
   "file_extension": ".py",
   "mimetype": "text/x-python",
   "name": "python",
   "nbconvert_exporter": "python",
   "pygments_lexer": "ipython2",
   "version": "2.7.6"
  }
 },
 "nbformat": 4,
 "nbformat_minor": 5
}
