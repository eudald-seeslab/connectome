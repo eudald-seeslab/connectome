{
 "cells": [
  {
   "cell_type": "code",
   "execution_count": 2,
   "id": "initial_id",
   "metadata": {
    "collapsed": true,
    "ExecuteTime": {
     "end_time": "2024-04-04T09:06:19.767711Z",
     "start_time": "2024-04-04T09:06:19.760096Z"
    }
   },
   "outputs": [],
   "source": [
    "import warnings\n",
    "\n",
    "import numpy as np\n",
    "import torch\n",
    "from torch import device, cuda, autocast\n",
    "from torch.cuda.amp import GradScaler\n",
    "from torch.nn import BCEWithLogitsLoss\n",
    "from torch.utils.data import DataLoader, TensorDataset\n",
    "from tqdm import tqdm\n",
    "\n",
    "import wandb\n",
    "from conv_models import RawImagesCNN\n",
    "from from_video_to_training_batched_funcs import get_files_from_directory, select_random_videos, paths_to_labels, load_custom_sequences\n",
    "from logs_to_wandb import log_original_to_wandb\n",
    "from connectome import plot_weber_fraction\n",
    "from logs_to_wandb import log_running_stats_to_wandb\n",
    "from from_retina_to_connectome_utils import predictions_and_corrects_from_model_results, update_running_loss, update_results_df, initialize_results_df\n",
    "\n",
    "warnings.filterwarnings(\n",
    "    'ignore',\n",
    "    message='invalid value encountered in cast',\n",
    "    category=RuntimeWarning,\n",
    "    module='wandb.sdk.data_types.image'\n",
    ")\n",
    "\n",
    "device_type = \"cuda\" if cuda.is_available() else \"cpu\"\n",
    "DEVICE = device(device_type)\n",
    "torch.manual_seed(42)\n",
    "batch_size = 64\n",
    "last_good_frame = 2\n",
    "\n",
    "TRAINING_DATA_DIR = \"videos/easy_videos\"\n",
    "TESTING_DATA_DIR = \"videos/easyval_videos\"\n",
    "\n",
    "debugging = False\n",
    "debug_length = 50\n",
    "wandb_ = True\n",
    "wandb_images_every = 10\n",
    "\n",
    "num_epochs = 1\n",
    "\n",
    "channel_sizes = [16, 32, 64]\n",
    "mult_size = 1\n",
    "channel_sizes = [int(a * mult_size) for a in channel_sizes]\n",
    "dropout = .6\n",
    "lr = .01\n",
    "weight_decay = 1e-3\n",
    "\n",
    "model_config = {\n",
    "    \"debugging\": debugging,\n",
    "    \"num_epochs\": num_epochs,\n",
    "    \"batch_size\": batch_size,\n",
    "    \"channel_sizes\": channel_sizes,\n",
    "    \"dropout\": dropout,\n",
    "    \"lr\": lr,\n",
    "    \"weight_decay\": weight_decay\n",
    "}"
   ]
  },
  {
   "cell_type": "code",
   "outputs": [],
   "source": [
    "all_videos = get_files_from_directory(TRAINING_DATA_DIR)\n",
    "all_validation_videos = get_files_from_directory(TESTING_DATA_DIR)"
   ],
   "metadata": {
    "collapsed": false,
    "ExecuteTime": {
     "end_time": "2024-04-04T09:06:20.906459Z",
     "start_time": "2024-04-04T09:06:20.869147Z"
    }
   },
   "id": "63b101e44d143f78",
   "execution_count": 3
  },
  {
   "cell_type": "code",
   "outputs": [],
   "source": [
    "model = RawImagesCNN(\n",
    "    out_channels_1 = channel_sizes[0],\n",
    "    out_channels_2 = channel_sizes[1],\n",
    "    out_channels_3 = channel_sizes[2],\n",
    "    dropout = dropout\n",
    ").to(DEVICE)\n",
    "\n",
    "optimizer = torch.optim.Adam(model.parameters(), lr=lr, weight_decay=weight_decay)\n",
    "scaler = GradScaler()\n",
    "\n",
    "# Initialize the loss function\n",
    "criterion = BCEWithLogitsLoss()"
   ],
   "metadata": {
    "collapsed": false,
    "ExecuteTime": {
     "end_time": "2024-04-04T09:06:22.388707Z",
     "start_time": "2024-04-04T09:06:22.150999Z"
    }
   },
   "id": "4fce80a3502cf3c7",
   "execution_count": 4
  },
  {
   "cell_type": "code",
   "outputs": [
    {
     "name": "stderr",
     "output_type": "stream",
     "text": [
      "\u001B[34m\u001B[1mwandb\u001B[0m: Currently logged in as: \u001B[33meudald\u001B[0m. Use \u001B[1m`wandb login --relogin`\u001B[0m to force relogin\n"
     ]
    },
    {
     "data": {
      "text/plain": "<IPython.core.display.HTML object>",
      "text/html": "wandb version 0.16.6 is available!  To upgrade, please run:\n $ pip install wandb --upgrade"
     },
     "metadata": {},
     "output_type": "display_data"
    },
    {
     "data": {
      "text/plain": "<IPython.core.display.HTML object>",
      "text/html": "Tracking run with wandb version 0.16.4"
     },
     "metadata": {},
     "output_type": "display_data"
    },
    {
     "data": {
      "text/plain": "<IPython.core.display.HTML object>",
      "text/html": "Run data is saved locally in <code>/home/eudald/Desktop/doctorat/connectome/wandb/run-20240404_110625-1mybx9cx</code>"
     },
     "metadata": {},
     "output_type": "display_data"
    },
    {
     "data": {
      "text/plain": "<IPython.core.display.HTML object>",
      "text/html": "Syncing run <strong><a href='https://wandb.ai/eudald/binary_classification/runs/1mybx9cx' target=\"_blank\">dry-hill-23</a></strong> to <a href='https://wandb.ai/eudald/binary_classification' target=\"_blank\">Weights & Biases</a> (<a href='https://wandb.me/run' target=\"_blank\">docs</a>)<br/>"
     },
     "metadata": {},
     "output_type": "display_data"
    },
    {
     "data": {
      "text/plain": "<IPython.core.display.HTML object>",
      "text/html": " View project at <a href='https://wandb.ai/eudald/binary_classification' target=\"_blank\">https://wandb.ai/eudald/binary_classification</a>"
     },
     "metadata": {},
     "output_type": "display_data"
    },
    {
     "data": {
      "text/plain": "<IPython.core.display.HTML object>",
      "text/html": " View run at <a href='https://wandb.ai/eudald/binary_classification/runs/1mybx9cx' target=\"_blank\">https://wandb.ai/eudald/binary_classification/runs/1mybx9cx</a>"
     },
     "metadata": {},
     "output_type": "display_data"
    },
    {
     "name": "stderr",
     "output_type": "stream",
     "text": [
      "100%|██████████| 336/336 [22:37<00:00,  4.04s/it]\n"
     ]
    },
    {
     "name": "stdout",
     "output_type": "stream",
     "text": [
      "Epoch 1, Loss: 0.02092304573757463, Accuracy: 0.9967857142857143\n"
     ]
    }
   ],
   "source": [
    "model.train()\n",
    "\n",
    "# Start wandb run\n",
    "if wandb_:\n",
    "    wandb.init(project='binary_classification', config=model_config)\n",
    "\n",
    "results = initialize_results_df()\n",
    "\n",
    "iterations = debug_length if debugging else len(all_videos) // batch_size\n",
    "for epoch in range(num_epochs):\n",
    "    already_selected = []\n",
    "    running_loss = 0.0\n",
    "    total_correct = 0\n",
    "    total = 0\n",
    "    for i in tqdm(range(iterations)):\n",
    "        batch_files, already_selected = select_random_videos(\n",
    "            all_videos, batch_size, already_selected\n",
    "        )\n",
    "        labels = paths_to_labels(batch_files)\n",
    "        batch_sequences = load_custom_sequences(batch_files)\n",
    "        batch_sequences = batch_sequences[:, -last_good_frame, :, :] \n",
    "        if wandb_ and i % wandb_images_every == 0:\n",
    "            log_original_to_wandb(batch_sequences[0], batch_files[0])\n",
    "        \n",
    "        # Add channel dimension and normalize\n",
    "        batch_sequences = np.divide(batch_sequences[:, None, :, :], 255)\n",
    "\n",
    "        # Ensure the data is in tensor form and on the correct device\n",
    "        labels_tensor = torch.tensor(labels, dtype=torch.float).to(DEVICE)\n",
    "        batch_sequences_tensor = torch.tensor(batch_sequences, dtype=torch.float).to(DEVICE)\n",
    "\n",
    "        # Create the dataset and dataloader\n",
    "        dataset = TensorDataset(batch_sequences_tensor, labels_tensor)\n",
    "        dataloader = DataLoader(dataset, batch_size=batch_size, shuffle=False)\n",
    "        \n",
    "        for inputs, batch_labels in dataloader:\n",
    "            inputs.to(DEVICE)\n",
    "            batch_labels.to(DEVICE)\n",
    "            optimizer.zero_grad()\n",
    "    \n",
    "            # Forward pass\n",
    "            with autocast(device_type):\n",
    "                outputs = model(inputs)\n",
    "                loss = criterion(outputs.squeeze(), batch_labels)\n",
    "                loss.backward()\n",
    "                optimizer.step()\n",
    "    \n",
    "                # Calculate run parameters\n",
    "                predictions, batch_labels_cpu, correct = predictions_and_corrects_from_model_results(outputs, batch_labels)\n",
    "                results = update_results_df(results, batch_files, predictions, batch_labels_cpu, correct)\n",
    "                running_loss += update_running_loss(loss, inputs)\n",
    "                total += batch_labels.shape[0]\n",
    "                total_correct += correct.sum()\n",
    "\n",
    "        # Log metrics to wandb\n",
    "        if wandb_:\n",
    "            log_running_stats_to_wandb(epoch, running_loss, total_correct, total, results)\n",
    "\n",
    "    print(f'Epoch {epoch + 1}, Loss: {running_loss / total}, Accuracy: {correct / total}')"
   ],
   "metadata": {
    "collapsed": false,
    "ExecuteTime": {
     "end_time": "2024-04-04T09:29:04.084722Z",
     "start_time": "2024-04-04T09:06:23.761995Z"
    }
   },
   "id": "a3b94263294e5262",
   "execution_count": 5
  },
  {
   "cell_type": "code",
   "outputs": [
    {
     "name": "stderr",
     "output_type": "stream",
     "text": [
      "100%|██████████| 78/78 [04:04<00:00,  3.14s/it]"
     ]
    },
    {
     "name": "stdout",
     "output_type": "stream",
     "text": [
      "Validation Loss: 0.21670740594466528, Validation Accuracy: 1.0\n"
     ]
    },
    {
     "name": "stderr",
     "output_type": "stream",
     "text": [
      "\n"
     ]
    }
   ],
   "source": [
    "model.eval() \n",
    "\n",
    "total_correct = 0\n",
    "total = 0\n",
    "running_loss = 0.0\n",
    "\n",
    "validation_results = initialize_results_df()\n",
    "with torch.no_grad():  # Disable gradient calculation\n",
    "    for i in tqdm(range(len(all_validation_videos) // batch_size)):\n",
    "        batch_files, _ = select_random_videos(\n",
    "            all_validation_videos, batch_size, already_selected=[]\n",
    "        )\n",
    "        labels = paths_to_labels(batch_files)\n",
    "        batch_sequences = load_custom_sequences(batch_files)\n",
    "        batch_sequences = batch_sequences[:, -last_good_frame, :, :]\n",
    "        batch_sequences = np.divide(batch_sequences[:, None, :, :], 255)\n",
    "\n",
    "        labels_tensor = torch.tensor(labels, dtype=torch.float).to(DEVICE)\n",
    "        batch_sequences_tensor = torch.tensor(batch_sequences, dtype=torch.float).to(DEVICE)\n",
    "\n",
    "        dataset = TensorDataset(batch_sequences_tensor, labels_tensor)\n",
    "        dataloader = DataLoader(dataset, batch_size=batch_size, shuffle=False)\n",
    "        \n",
    "        for inputs, batch_labels in dataloader:\n",
    "            inputs, batch_labels = inputs.to(DEVICE), batch_labels.to(DEVICE)\n",
    "            outputs = model(inputs)\n",
    "            loss = criterion(outputs.squeeze(), batch_labels)\n",
    "\n",
    "            predictions, batch_labels_cpu, correct = predictions_and_corrects_from_model_results(outputs, batch_labels)\n",
    "            validation_results = update_results_df(validation_results, batch_files, predictions, batch_labels_cpu, correct)\n",
    "            running_loss += update_running_loss(loss, inputs)\n",
    "            total += batch_labels_cpu.shape[0]\n",
    "            total_correct += correct.sum().item()\n",
    "            \n",
    "print(f'Validation Loss: {running_loss / total}, '\n",
    "      f'Validation Accuracy: {total_correct / total}')\n"
   ],
   "metadata": {
    "collapsed": false,
    "ExecuteTime": {
     "end_time": "2024-04-04T13:23:17.679401Z",
     "start_time": "2024-04-04T13:19:13.014178Z"
    }
   },
   "id": "60bdb4eb6a288417",
   "execution_count": 6
  },
  {
   "cell_type": "code",
   "outputs": [
    {
     "data": {
      "text/plain": "VBox(children=(Label(value='1.213 MB of 1.592 MB uploaded\\r'), FloatProgress(value=0.7620416406310377, max=1.0…",
      "application/vnd.jupyter.widget-view+json": {
       "version_major": 2,
       "version_minor": 0,
       "model_id": "0ae1980912a9436a838c5f15635902a3"
      }
     },
     "metadata": {},
     "output_type": "display_data"
    },
    {
     "data": {
      "text/plain": "<IPython.core.display.HTML object>",
      "text/html": "<style>\n    table.wandb td:nth-child(1) { padding: 0 10px; text-align: left ; width: auto;} td:nth-child(2) {text-align: left ; width: 100%}\n    .wandb-row { display: flex; flex-direction: row; flex-wrap: wrap; justify-content: flex-start; width: 100% }\n    .wandb-col { display: flex; flex-direction: column; flex-basis: 100%; flex: 1; padding: 10px; }\n    </style>\n<div class=\"wandb-row\"><div class=\"wandb-col\"><h3>Run history:</h3><br/><table class=\"wandb\"><tr><td>accuracy</td><td>▁▆▇▇▇▇██████████████████████████████████</td></tr><tr><td>epoch</td><td>▁▁▁▁▁▁▁▁▁▁▁▁▁▁▁▁▁▁▁▁▁▁▁▁▁▁▁▁▁▁▁▁▁▁▁▁▁▁▁▁</td></tr><tr><td>loss</td><td>█▅▄▃▃▂▂▂▂▂▂▁▁▁▁▁▁▁▁▁▁▁▁▁▁▁▁▁▁▁▁▁▁▁▁▁▁▁▁▁</td></tr><tr><td>val_accuracy</td><td>▁</td></tr><tr><td>val_loss</td><td>▁</td></tr></table><br/></div><div class=\"wandb-col\"><h3>Run summary:</h3><br/><table class=\"wandb\"><tr><td>accuracy</td><td>0.99679</td></tr><tr><td>epoch</td><td>0</td></tr><tr><td>loss</td><td>0.02092</td></tr><tr><td>val_accuracy</td><td>1.0</td></tr><tr><td>val_loss</td><td>0.21671</td></tr></table><br/></div></div>"
     },
     "metadata": {},
     "output_type": "display_data"
    },
    {
     "data": {
      "text/plain": "<IPython.core.display.HTML object>",
      "text/html": " View run <strong style=\"color:#cdcd00\">dry-hill-23</strong> at: <a href='https://wandb.ai/eudald/binary_classification/runs/1mybx9cx' target=\"_blank\">https://wandb.ai/eudald/binary_classification/runs/1mybx9cx</a><br/> View job at <a href='https://wandb.ai/eudald/binary_classification/jobs/QXJ0aWZhY3RDb2xsZWN0aW9uOjE1NjE0ODIxMg==/version_details/v1' target=\"_blank\">https://wandb.ai/eudald/binary_classification/jobs/QXJ0aWZhY3RDb2xsZWN0aW9uOjE1NjE0ODIxMg==/version_details/v1</a><br/>Synced 5 W&B file(s), 37 media file(s), 4 artifact file(s) and 0 other file(s)"
     },
     "metadata": {},
     "output_type": "display_data"
    },
    {
     "data": {
      "text/plain": "<IPython.core.display.HTML object>",
      "text/html": "Find logs at: <code>./wandb/run-20240404_110625-1mybx9cx/logs</code>"
     },
     "metadata": {},
     "output_type": "display_data"
    },
    {
     "data": {
      "text/plain": "<Figure size 1000x600 with 1 Axes>",
      "image/png": "[encoded data removed]"
     },
     "metadata": {},
     "output_type": "display_data"
    }
   ],
   "source": [
    "weber_plot = plot_weber_fraction(validation_results)\n",
    "\n",
    "# Log validation metrics to wandb\n",
    "if wandb_:\n",
    "    wandb.log({\n",
    "        'val_loss': running_loss / total,\n",
    "        'val_accuracy': total_correct / total,\n",
    "        \"validation_results\": wandb.Table(dataframe=validation_results),\n",
    "        \"Weber Fraction Plot\": wandb.Image(weber_plot)\n",
    "    })\n",
    "    wandb.finish()\n"
   ],
   "metadata": {
    "collapsed": false,
    "ExecuteTime": {
     "end_time": "2024-04-04T13:23:38.724746Z",
     "start_time": "2024-04-04T13:23:25.681962Z"
    }
   },
   "id": "142fe74b7e5d141b",
   "execution_count": 7
  },
  {
   "cell_type": "code",
   "outputs": [],
   "source": [],
   "metadata": {
    "collapsed": false
   },
   "id": "19a61ca797bb8b81",
   "execution_count": null
  }
 ],
 "metadata": {
  "kernelspec": {
   "display_name": "Python 3",
   "language": "python",
   "name": "python3"
  },
  "language_info": {
   "codemirror_mode": {
    "name": "ipython",
    "version": 2
   },
   "file_extension": ".py",
   "mimetype": "text/x-python",
   "name": "python",
   "nbconvert_exporter": "python",
   "pygments_lexer": "ipython2",
   "version": "2.7.6"
  }
 },
 "nbformat": 4,
 "nbformat_minor": 5
}
