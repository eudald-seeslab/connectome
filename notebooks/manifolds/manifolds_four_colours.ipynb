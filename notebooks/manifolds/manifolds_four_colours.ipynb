{
 "cells": [
  {
   "cell_type": "code",
   "metadata": {},
   "source": [
    "%matplotlib inline\n",
    "\n",
    "import numpy as np\n",
    "import torch\n",
    "from torch.nn import CrossEntropyLoss\n",
    "import matplotlib.pyplot as plt\n",
    "cmap = plt.get_cmap(\"viridis\")\n",
    "from tqdm import tqdm\n",
    "from connectome.visualization.manifold_plots import plot_manifold_3d_mult_colours\n",
    "\n",
    "from configs import config as u_config\n",
    "from connectome import FullGraphModel\n",
    "from connectome import store_intermediate_output\n",
    "\n",
    "from connectome import DataProcessor\n",
    "from connectome import (\n",
    "    clean_model_outputs, \n",
    "    get_image_paths, \n",
    "    get_iteration_number, \n",
    "    initialize_results_df, \n",
    "    select_random_images, \n",
    "    update_results_df, \n",
    "    update_running_loss, \n",
    ")\n",
    "from connectome.visualization.plots import plot_results\n",
    "\n",
    "device_type = \"cpu\" # \"cuda\" if torch.cuda.is_available() else \"cpu\"\n",
    "device = torch.device(device_type)\n",
    "dtype = torch.float32\n",
    "batch_size = u_config.batch_size"
   ],
   "outputs": [],
   "execution_count": null
  },
  {
   "cell_type": "code",
   "metadata": {},
   "source": [
    "# update batch size number of connectome passes (otherwise we run out of memory)\n",
    "batch_size = u_config.batch_size\n",
    "\n",
    "# get data and prepare model\n",
    "data_processor = DataProcessor(u_config)\n",
    "model = FullGraphModel(data_processor, u_config).to(device)\n",
    "optimizer = torch.optim.Adam(model.parameters(), lr=u_config.base_lr)\n",
    "criterion = CrossEntropyLoss()"
   ],
   "outputs": [],
   "execution_count": null
  },
  {
   "cell_type": "code",
   "metadata": {},
   "source": [
    "def correct_test_results(test_results):\n",
    "    # There was a bug in how we get the classes, and the 0-1 labels can be flipped\n",
    "    # This function corrects the labels if the accuracy is below 0.5\n",
    "    flipped = False\n",
    "    if test_results[\"Is correct\"].sum() / len(test_results) < 0.5:\n",
    "        test_results[\"Is correct\"] = np.abs(test_results[\"Is correct\"] - 1)\n",
    "        flipped = True\n",
    "\n",
    "    return test_results, flipped\n",
    "\n",
    "# test\n",
    "def test(model):\n",
    "    hook = model.decision_making_dropout.register_forward_hook(\n",
    "        store_intermediate_output\n",
    "    )\n",
    "\n",
    "    testing_images = get_image_paths(u_config.TRAINING_DATA_DIR, u_config.small_length)\n",
    "    already_selected_testing = []\n",
    "    total_correct, total, running_loss = 0, 0, 0.0\n",
    "    test_results = initialize_results_df()\n",
    "    all_intermediate_outputs = []\n",
    "    all_labels = []\n",
    "\n",
    "    model.eval()\n",
    "    iterations = get_iteration_number(len(testing_images), u_config)\n",
    "    with torch.no_grad():\n",
    "        for _ in tqdm(range(iterations)):\n",
    "            batch_files, already_selected_testing = select_random_images(\n",
    "                testing_images, batch_size, already_selected_testing\n",
    "            )\n",
    "            images, labels = data_processor.get_data_from_paths(batch_files)\n",
    "            inputs, labels = data_processor.process_batch(images, labels)\n",
    "            inputs = inputs.to(device)\n",
    "            labels = labels.to(device)\n",
    "\n",
    "            out = model(inputs)\n",
    "            all_intermediate_outputs.append(model.intermediate_output)\n",
    "            all_labels.append(labels)\n",
    "            loss = criterion(out, labels)\n",
    "\n",
    "            outputs, predictions, labels_cpu, correct = clean_model_outputs(out, labels)\n",
    "            test_results = update_results_df(\n",
    "                test_results, batch_files, outputs, predictions, labels_cpu, correct\n",
    "            )\n",
    "            test_results, flipped = correct_test_results(test_results)\n",
    "            running_loss += update_running_loss(loss, inputs)\n",
    "            total += batch_size\n",
    "            total_correct += correct.sum()\n",
    "\n",
    "    plot_types = []\n",
    "    final_plots = plot_results(\n",
    "        test_results, plot_types=plot_types, classes=u_config.CLASSES\n",
    "    )\n",
    "    all_intermediate_outputs = torch.cat(all_intermediate_outputs, dim=0)\n",
    "    hook.remove()\n",
    "\n",
    "    print(\n",
    "        f\"Finished testing with loss {running_loss / total} and \"\n",
    "        f\"accuracy {total_correct / total}.\"\n",
    "    )\n",
    "    return test_results, final_plots, total_correct / total, flipped, all_intermediate_outputs, all_labels"
   ],
   "outputs": [],
   "execution_count": null
  },
  {
   "cell_type": "code",
   "metadata": {},
   "source": [
    "checkpoint = torch.load(\n",
    "    \"models/m_2024-06-25 22:11_uq9j7y8w.pth\",\n",
    "    map_location=device_type,\n",
    ")\n",
    "model.load_state_dict(checkpoint[\"model\"])\n",
    "torch.set_grad_enabled(False)\n",
    "model.eval()"
   ],
   "outputs": [],
   "execution_count": null
  },
  {
   "cell_type": "code",
   "metadata": {},
   "source": [
    "test_results, final_plots, accuracy, flipped, intermediate, labels_orig = test(model)"
   ],
   "outputs": [],
   "execution_count": null
  },
  {
   "cell_type": "code",
   "metadata": {},
   "source": [
    "# change the string \"black_blue\" to \"red\" in the file names\n",
    "test_results[\"Image\"] = test_results[\"Image\"].str.replace(\"black_blue\", \"red\")\n",
    "# create a new column with the colour of the image, which is the first word after \n",
    "# the last slash and before the first underscore\n",
    "test_results = test_results.assign(\n",
    "    colour=test_results[\"Image\"].str.split(\"/\").str[-1].str.split(\"_\").str[0]\n",
    ")\n",
    "# in the \"True label\" column, replace 0 with \"circle\" and 1 with \"star\"\n",
    "test_results = test_results.assign(\n",
    "    shape=test_results[\"True label\"].map({0: \"circle\", 1: \"star\"})\n",
    ")"
   ],
   "outputs": [],
   "execution_count": null
  },
  {
   "cell_type": "code",
   "metadata": {},
   "source": [
    "# Convert tensors to numpy arrays if they are not already\n",
    "intermediate = intermediate.cpu().numpy()"
   ],
   "outputs": [],
   "execution_count": null
  },
  {
   "cell_type": "code",
   "metadata": {},
   "source": [
    "%matplotlib inline\n",
    "\n",
    "from sklearn.manifold import TSNE\n",
    "\n",
    "# Perform t-SNE to reduce to 2D for visualization\n",
    "tsne = TSNE(n_components=3, random_state=42)\n",
    "reduced_data = tsne.fit_transform(intermediate)\n",
    "test_results[\"tsne_Component_1\"] = reduced_data[:, 0]\n",
    "test_results[\"tsne_Component_2\"] = reduced_data[:, 1]\n",
    "test_results[\"tsne_Component_3\"] = reduced_data[:, 2]"
   ],
   "outputs": [],
   "execution_count": null
  },
  {
   "cell_type": "code",
   "metadata": {},
   "source": [
    "plot_manifold_3d_mult_colours(test_results, algorithm=\"tsne\", painting_option=\"colour\")"
   ],
   "outputs": [],
   "execution_count": null
  },
  {
   "cell_type": "code",
   "metadata": {},
   "source": [
    "plot_manifold_3d_mult_colours(test_results, algorithm=\"tsne\", painting_option=\"shape\")"
   ],
   "outputs": [],
   "execution_count": null
  },
  {
   "cell_type": "code",
   "metadata": {},
   "source": [
    "import umap\n",
    "\n",
    "# Perform UMAP to reduce to 2D for visualization\n",
    "reducer = umap.UMAP(n_components=3, random_state=42)\n",
    "reduced_data = reducer.fit_transform(intermediate)\n",
    "\n",
    "test_results[\"umap_Component_1\"] = reduced_data[:, 0]\n",
    "test_results[\"umap_Component_2\"] = reduced_data[:, 1]\n",
    "test_results[\"umap_Component_3\"] = reduced_data[:, 2]"
   ],
   "outputs": [],
   "execution_count": null
  },
  {
   "cell_type": "code",
   "metadata": {},
   "source": [
    "plot_manifold_3d_mult_colours(test_results, algorithm=\"umap\")"
   ],
   "outputs": [],
   "execution_count": null
  },
  {
   "cell_type": "code",
   "metadata": {},
   "source": [
    "plot_manifold_3d_mult_colours(test_results, algorithm=\"umap\", painting_option=\"shape\")"
   ],
   "outputs": [],
   "execution_count": null
  },
  {
   "cell_type": "code",
   "metadata": {},
   "source": [
    "from sklearn.decomposition import PCA\n",
    "\n",
    "pca_2d = PCA(n_components=3)\n",
    "pca_2d_result = pca_2d.fit_transform(intermediate)\n",
    "\n",
    "test_results[\"pca_Component_1\"] = pca_2d_result[:, 0]\n",
    "test_results[\"pca_Component_2\"] = pca_2d_result[:, 1]\n",
    "test_results[\"pca_Component_3\"] = pca_2d_result[:, 2]"
   ],
   "outputs": [],
   "execution_count": null
  },
  {
   "cell_type": "code",
   "metadata": {},
   "source": [
    "plot_manifold_3d_mult_colours(test_results, algorithm=\"pca\")"
   ],
   "outputs": [],
   "execution_count": null
  },
  {
   "cell_type": "code",
   "metadata": {},
   "source": [
    "plot_manifold_3d_mult_colours(test_results, algorithm=\"pca\", painting_option=\"shape\")"
   ],
   "outputs": [],
   "execution_count": null
  },
  {
   "cell_type": "code",
   "metadata": {},
   "source": [
    "import plotly.express as px\n",
    "import pandas as pd\n",
    "\n",
    "# Perform t-SNE to reduce to 3D for visualization\n",
    "tsne = TSNE(n_components=3, random_state=42)\n",
    "tsne_3d = tsne.fit_transform(intermediate)\n",
    "\n",
    "# Perform UMAP to reduce to 3D for visualization\n",
    "reducer = umap.UMAP(n_components=3, random_state=42)\n",
    "umap_3d = reducer.fit_transform(intermediate)\n",
    "\n",
    "tsne_df = pd.DataFrame(tsne_3d, columns=[\"Component 1\", \"Component 2\", \"Component 3\"])\n",
    "tsne_df[\"Label\"] = labels\n",
    "\n",
    "umap_df = pd.DataFrame(umap_3d, columns=[\"Component 1\", \"Component 2\", \"Component 3\"])\n",
    "umap_df[\"Label\"] = labels\n",
    "\n",
    "# Plot t-SNE in 3D using plotly\n",
    "fig_tsne = px.scatter_3d(\n",
    "    tsne_df,\n",
    "    x=\"Component 1\",\n",
    "    y=\"Component 2\",\n",
    "    z=\"Component 3\",\n",
    "    color=\"Label\",\n",
    "    title=\"t-SNE 3D of Intermediate Outputs\",\n",
    ")\n",
    "fig_tsne.show()"
   ],
   "outputs": [],
   "execution_count": null
  },
  {
   "cell_type": "code",
   "metadata": {},
   "source": [
    "\n",
    "# Plot UMAP in 3D using plotly\n",
    "fig_umap = px.scatter_3d(\n",
    "    umap_df,\n",
    "    x=\"Component 1\",\n",
    "    y=\"Component 2\",\n",
    "    z=\"Component 3\",\n",
    "    color=\"Label\",\n",
    "    title=\"UMAP 3D of Intermediate Outputs\",\n",
    ")\n",
    "fig_umap.show()"
   ],
   "outputs": [],
   "execution_count": null
  },
  {
   "cell_type": "code",
   "metadata": {},
   "source": [
    "pca = PCA(n_components=3)\n",
    "pca_3d = pca.fit_transform(intermediate)\n",
    "pca_df = pd.DataFrame(pca_3d, columns=[\"Component 1\", \"Component 2\", \"Component 3\"])\n",
    "pca_df[\"Label\"] = labels\n",
    "\n",
    "fig_pca = px.scatter_3d(\n",
    "    pca_df,\n",
    "    x=\"Component 1\",\n",
    "    y=\"Component 2\",\n",
    "    z=\"Component 3\",\n",
    "    color=\"Label\",\n",
    "    title=\"PCA 3D of Intermediate Outputs\",\n",
    ")\n",
    "fig_pca.show()"
   ],
   "outputs": [],
   "execution_count": null
  },
  {
   "cell_type": "code",
   "metadata": {},
   "source": [],
   "outputs": [],
   "execution_count": null
  }
 ],
 "metadata": {
  "kernelspec": {
   "display_name": "venv",
   "language": "python",
   "name": "python3"
  },
  "language_info": {
   "codemirror_mode": {
    "name": "ipython",
    "version": 3
   },
   "file_extension": ".py",
   "mimetype": "text/x-python",
   "name": "python",
   "nbconvert_exporter": "python",
   "pygments_lexer": "ipython3",
   "version": "3.12.3"
  }
 },
 "nbformat": 4,
 "nbformat_minor": 2
}
