{
 "cells": [
  {
   "cell_type": "code",
   "execution_count": 63,
   "metadata": {
    "ExecuteTime": {
     "end_time": "2023-06-16T07:22:59.742933200Z",
     "start_time": "2023-06-16T07:22:59.739924200Z"
    }
   },
   "outputs": [],
   "source": [
    "import networkx as nx\n",
    "import pandas as pd\n",
    "pd.options.mode.chained_assignment = None\n",
    "import numpy as np\n",
    "import plotly.express as px\n",
    "import plotly.graph_objects as go"
   ]
  },
  {
   "cell_type": "code",
   "execution_count": 2,
   "metadata": {
    "ExecuteTime": {
     "end_time": "2023-06-16T06:40:40.704503300Z",
     "start_time": "2023-06-16T06:40:39.772024200Z"
    }
   },
   "outputs": [],
   "source": [
    "adj_matrix = pd.read_csv(\"data/science.add9330_data_s1/Supplementary-Data-S1/all-all_connectivity_matrix.csv\", index_col=0)\n",
    "\n",
    "nodes = pd.read_csv(\"node_properties_clean.csv\")"
   ]
  },
  {
   "cell_type": "code",
   "execution_count": 3,
   "metadata": {
    "ExecuteTime": {
     "end_time": "2023-06-16T06:40:41.590273200Z",
     "start_time": "2023-06-16T06:40:40.705503300Z"
    }
   },
   "outputs": [],
   "source": [
    "# Convert the adjacency matrix to an edge list\n",
    "edge_list = adj_matrix.stack().reset_index().rename(columns={\"level_0\": \"source\", \"level_1\": \"target\", 0: \"weight\"})\n",
    "# Filter out values where column \"0\" has value 0\n",
    "edge_list = edge_list.loc[edge_list.weight != 0]\n",
    "# Convert all to integer\n",
    "edge_list = edge_list.astype(int)"
   ]
  },
  {
   "cell_type": "code",
   "execution_count": 42,
   "metadata": {
    "ExecuteTime": {
     "end_time": "2023-06-16T07:10:13.471729Z",
     "start_time": "2023-06-16T07:10:13.424739300Z"
    }
   },
   "outputs": [],
   "source": [
    "# Get only the nodes that are in the edge list\n",
    "filtered_nodes = nodes[nodes['skid'].isin(edge_list['source'])]"
   ]
  },
  {
   "cell_type": "code",
   "execution_count": 43,
   "metadata": {
    "ExecuteTime": {
     "end_time": "2023-06-16T07:10:15.334130700Z",
     "start_time": "2023-06-16T07:10:15.251152400Z"
    }
   },
   "outputs": [],
   "source": [
    "# Remove rows with NaN values\n",
    "edge_list = edge_list.dropna().astype(int)"
   ]
  },
  {
   "cell_type": "code",
   "execution_count": 50,
   "metadata": {
    "ExecuteTime": {
     "end_time": "2023-06-16T07:14:53.123095700Z",
     "start_time": "2023-06-16T07:14:53.071747400Z"
    }
   },
   "outputs": [
    {
     "name": "stderr",
     "output_type": "stream",
     "text": [
      "C:\\Users\\eudald\\AppData\\Local\\Temp\\ipykernel_21572\\215084946.py:7: SettingWithCopyWarning:\n",
      "\n",
      "\n",
      "A value is trying to be set on a copy of a slice from a DataFrame.\n",
      "Try using .loc[row_indexer,col_indexer] = value instead\n",
      "\n",
      "See the caveats in the documentation: https://pandas.pydata.org/pandas-docs/stable/user_guide/indexing.html#returning-a-view-versus-a-copy\n",
      "\n"
     ]
    }
   ],
   "source": [
    "unique_celltypes = filtered_nodes['celltype'].unique()\n",
    "colors = px.colors.qualitative.Alphabet[:len(unique_celltypes)]  # color sequence from plotly\n",
    "# Create a dictionary mapping cell types to colors\n",
    "celltype_to_color = dict(zip(unique_celltypes, colors))\n",
    "\n",
    "# Add a new column to the nodes dataframe with the corresponding color for each cell type\n",
    "filtered_nodes['color'] = filtered_nodes['celltype'].map(celltype_to_color)"
   ]
  },
  {
   "cell_type": "code",
   "execution_count": 65,
   "metadata": {
    "ExecuteTime": {
     "end_time": "2023-06-16T07:27:38.550840800Z",
     "start_time": "2023-06-16T07:27:03.915409800Z"
    }
   },
   "outputs": [],
   "source": [
    "import random\n",
    "\n",
    "# Create a directed graph from the edge list\n",
    "G = nx.from_pandas_edgelist(edge_list, 'source', 'target', ['weight'], create_using=nx.DiGraph())\n",
    "\n",
    "# Add node properties\n",
    "for node in filtered_nodes.itertuples():\n",
    "    G.nodes[node.skid]['celltype'] = node.celltype\n",
    "\n",
    "# Get a random subgraph of G\n",
    "random_node = random.choice(list(G.nodes))\n",
    "#sub_G = nx.ego_graph(G, random_node, radius=2)\n",
    "\n",
    "# Get positions for the nodes in G\n",
    "pos_ = nx.spring_layout(G, dim=3)"
   ]
  },
  {
   "cell_type": "code",
   "execution_count": 59,
   "metadata": {
    "ExecuteTime": {
     "end_time": "2023-06-16T07:17:10.447274500Z",
     "start_time": "2023-06-16T07:17:10.201306300Z"
    }
   },
   "outputs": [
    {
     "name": "stderr",
     "output_type": "stream",
     "text": [
      "C:\\Users\\eudald\\AppData\\Local\\Temp\\ipykernel_21572\\856690861.py:7: SettingWithCopyWarning:\n",
      "\n",
      "\n",
      "A value is trying to be set on a copy of a slice from a DataFrame.\n",
      "Try using .loc[row_indexer,col_indexer] = value instead\n",
      "\n",
      "See the caveats in the documentation: https://pandas.pydata.org/pandas-docs/stable/user_guide/indexing.html#returning-a-view-versus-a-copy\n",
      "\n",
      "C:\\Users\\eudald\\AppData\\Local\\Temp\\ipykernel_21572\\856690861.py:8: SettingWithCopyWarning:\n",
      "\n",
      "\n",
      "A value is trying to be set on a copy of a slice from a DataFrame.\n",
      "Try using .loc[row_indexer,col_indexer] = value instead\n",
      "\n",
      "See the caveats in the documentation: https://pandas.pydata.org/pandas-docs/stable/user_guide/indexing.html#returning-a-view-versus-a-copy\n",
      "\n",
      "C:\\Users\\eudald\\AppData\\Local\\Temp\\ipykernel_21572\\856690861.py:9: SettingWithCopyWarning:\n",
      "\n",
      "\n",
      "A value is trying to be set on a copy of a slice from a DataFrame.\n",
      "Try using .loc[row_indexer,col_indexer] = value instead\n",
      "\n",
      "See the caveats in the documentation: https://pandas.pydata.org/pandas-docs/stable/user_guide/indexing.html#returning-a-view-versus-a-copy\n",
      "\n"
     ]
    }
   ],
   "source": [
    "# Separate the x, y, and z coordinates of the node positions\n",
    "pos_x = {node: pos for node, (pos, _, _) in pos_.items()}\n",
    "pos_y = {node: pos for node, (_, pos, _) in pos_.items()}\n",
    "pos_z = {node: pos for node, (_, _, pos) in pos_.items()}\n",
    "\n",
    "# Add x, y, and z position to the nodes dataframe\n",
    "filtered_nodes['x'] = filtered_nodes['skid'].map(pos_x)\n",
    "filtered_nodes['y'] = filtered_nodes['skid'].map(pos_y)\n",
    "filtered_nodes['z'] = filtered_nodes['skid'].map(pos_z)\n",
    "\n",
    "# Create a dataframe of edges using source and target positions\n",
    "edges_positions = edge_list.merge(filtered_nodes, left_on='source', right_on='skid', how='left')\\\n",
    "                       .rename(columns={'x': 'x0', 'y': 'y0'})\\\n",
    "                       .drop(columns='skid')\\\n",
    "                       .merge(filtered_nodes, left_on='target', right_on='skid', how='left')\\\n",
    "                       .rename(columns={'x': 'x1', 'y': 'y1'})\\\n",
    "                       .drop(columns='skid')\\\n",
    "                        .dropna()\n",
    "\n",
    "# Prepare the edge traces for Plotly\n",
    "edge_trace_x = np.empty(3*len(edges_positions), dtype=float)\n",
    "edge_trace_x[::3] = edges_positions['x0']\n",
    "edge_trace_x[1::3] = edges_positions['x1']\n",
    "edge_trace_x[2::3] = None\n",
    "\n",
    "edge_trace_y = np.empty(3*len(edges_positions), dtype=float)\n",
    "edge_trace_y[::3] = edges_positions['y0']\n",
    "edge_trace_y[1::3] = edges_positions['y1']\n",
    "edge_trace_y[2::3] = None\n",
    "\n",
    "# Prepare the edge traces for Plotly\n",
    "edge_trace = go.Scatter3d(\n",
    "    x=edge_trace_x,\n",
    "    y=edge_trace_y,\n",
    "    z=np.concatenate([filtered_nodes['z'], [None]*len(filtered_nodes)]),  # Add z coordinates\n",
    "    line=dict(width=1, color='#888'),\n",
    "    hoverinfo='none',\n",
    "    mode='lines')"
   ]
  },
  {
   "cell_type": "code",
   "execution_count": 60,
   "metadata": {
    "ExecuteTime": {
     "end_time": "2023-06-16T07:17:10.478811800Z",
     "start_time": "2023-06-16T07:17:10.448275700Z"
    }
   },
   "outputs": [],
   "source": [
    "# Prepare the node traces for Plotly\n",
    "node_trace = go.Scatter3d(\n",
    "    x=filtered_nodes['x'],\n",
    "    y=filtered_nodes['y'],\n",
    "    z=filtered_nodes['z'],\n",
    "    text='Cell type: ' + filtered_nodes['celltype'],\n",
    "    mode='markers',\n",
    "    hoverinfo='text',\n",
    "    marker=dict(\n",
    "        color=filtered_nodes['color'],\n",
    "        size=10,\n",
    "        line=dict(width=2)))\n",
    "\n"
   ]
  },
  {
   "cell_type": "code",
   "execution_count": 61,
   "metadata": {
    "ExecuteTime": {
     "end_time": "2023-06-16T07:17:11.276464900Z",
     "start_time": "2023-06-16T07:17:10.483811400Z"
    }
   },
   "outputs": [],
   "source": [
    "# Create the interactive graph\n",
    "fig = go.Figure(data=[edge_trace, node_trace],\n",
    "                layout=go.Layout(\n",
    "                    title='Network graph',\n",
    "                    titlefont=dict(size=16),\n",
    "                    showlegend=True,\n",
    "                    hovermode='closest',\n",
    "                    scene=dict(\n",
    "                        xaxis=dict(range=[-2, 2]),  # Limit x-axis\n",
    "                        yaxis=dict(range=[-2, 2]),  # Limit y-axis\n",
    "                        zaxis=dict(range=[-2, 2])   # Limit z-axis\n",
    "                    ),\n",
    "                    margin=dict(b=20, l=5, r=5, t=40),\n",
    "                    xaxis=dict(showgrid=False, zeroline=False, showticklabels=False),\n",
    "                    yaxis=dict(showgrid=False, zeroline=False, showticklabels=False)))\n",
    "\n",
    "fig.write_html(\"network.html\")"
   ]
  },
  {
   "cell_type": "code",
   "execution_count": null,
   "outputs": [],
   "source": [],
   "metadata": {
    "collapsed": false
   }
  }
 ],
 "metadata": {
  "kernelspec": {
   "display_name": "Python 3 (ipykernel)",
   "language": "python",
   "name": "python3"
  },
  "language_info": {
   "codemirror_mode": {
    "name": "ipython",
    "version": 3
   },
   "file_extension": ".py",
   "mimetype": "text/x-python",
   "name": "python",
   "nbconvert_exporter": "python",
   "pygments_lexer": "ipython3",
   "version": "3.11.2"
  }
 },
 "nbformat": 4,
 "nbformat_minor": 1
}
