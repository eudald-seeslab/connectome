{
 "cells": [
  {
   "cell_type": "code",
   "execution_count": 1,
   "id": "initial_id",
   "metadata": {
    "ExecuteTime": {
     "end_time": "2024-03-28T14:40:02.816615Z",
     "start_time": "2024-03-28T14:39:58.709963Z"
    },
    "collapsed": true
   },
   "outputs": [
    {
     "name": "stderr",
     "output_type": "stream",
     "text": [
      "/home/eudald/Desktop/doctorat/connectome/venv/lib/python3.10/site-packages/torch/__init__.py:696: UserWarning: torch.set_default_tensor_type() is deprecated as of PyTorch 2.1, please use torch.set_default_dtype() and torch.set_default_device() as alternatives. (Triggered internally at ../torch/csrc/tensor/python_tensor.cpp:451.)\n",
      "  _C._set_default_tensor_type(t)\n",
      "/home/eudald/Desktop/doctorat/connectome/venv/lib/python3.10/site-packages/torch_geometric/typing.py:72: UserWarning: An issue occurred while importing 'torch-scatter'. Disabling its usage. Stacktrace: /home/eudald/Desktop/doctorat/connectome/venv/lib/python3.10/site-packages/torch_scatter/_version_cuda.so: undefined symbol: _ZN3c1017RegisterOperatorsD1Ev\n",
      "  warnings.warn(f\"An issue occurred while importing 'torch-scatter'. \"\n",
      "/home/eudald/Desktop/doctorat/connectome/venv/lib/python3.10/site-packages/torch_geometric/typing.py:110: UserWarning: An issue occurred while importing 'torch-sparse'. Disabling its usage. Stacktrace: /home/eudald/Desktop/doctorat/connectome/venv/lib/python3.10/site-packages/torch_scatter/_version_cuda.so: undefined symbol: _ZN3c1017RegisterOperatorsD1Ev\n",
      "  warnings.warn(f\"An issue occurred while importing 'torch-sparse'. \"\n"
     ]
    }
   ],
   "source": [
    "import warnings\n",
    "import pandas as pd\n",
    "import torch\n",
    "from torch import device, cuda\n",
    "from torch.cuda.amp import GradScaler\n",
    "from torch.nn import BCEWithLogitsLoss\n",
    "from tqdm import tqdm\n",
    "import wandb\n",
    "from random import sample\n",
    "from scipy.sparse import load_npz\n",
    "\n",
    "import flyvision\n",
    "from flyvision_ans import DECODING_CELLS\n",
    "from flyvision.utils.activity_utils import LayerActivity\n",
    "from from_image_to_video import image_paths_to_sequences\n",
    "from from_retina_to_connectome_funcs import get_cell_type_indices, compute_voronoi_averages, from_retina_to_connectome\n",
    "from logs_to_wandb import log_images_to_wandb, log_running_stats_to_wandb\n",
    "from from_video_to_training_batched_funcs import get_files_from_directory, select_random_videos, paths_to_labels\n",
    "from from_retina_to_connectome_utils import (\n",
    "    hex_to_square_grid,\n",
    "    initialize_results_df,\n",
    "    predictions_and_corrects_from_model_results,\n",
    "    update_results_df,\n",
    "    update_running_loss,\n",
    "    get_decision_making_neurons,\n",
    "    vector_to_one_hot,\n",
    ")\n",
    "from adult_models import FullAdultModel\n",
    "\n",
    "\n",
    "warnings.filterwarnings(\n",
    "    'ignore',\n",
    "    message='invalid value encountered in cast',\n",
    "    category=RuntimeWarning,\n",
    "    module='wandb.sdk.data_types.image'\n",
    ")\n",
    "\n",
    "torch.manual_seed(1234)\n",
    "dtype = torch.float32\n",
    "\n",
    "device_type = \"cuda\" if cuda.is_available() else \"cpu\"\n",
    "# device_type = \"cpu\"\n",
    "DEVICE = device(device_type)\n",
    "sparse_layout = torch.sparse_coo\n",
    "\n",
    "TRAINING_DATA_DIR = \"images/easy_v2\"\n",
    "TESTING_DATA_DIR = \"images/easy_images\"\n",
    "VALIDATION_DATA_DIR = \"images/easyval_images\"\n",
    "\n",
    "debugging = True\n",
    "debug_length = 100\n",
    "validation_length = 50\n",
    "wandb_ = False\n",
    "wandb_images_every = 100\n",
    "small = True\n",
    "small_length = 1000\n",
    "\n",
    "num_epochs = 1\n",
    "batch_size = 1\n",
    "\n",
    "dropout = .1\n",
    "max_lr = 0.01\n",
    "base_lr = 0.0002\n",
    "weight_decay = 0.0001\n",
    "NUM_CONNECTOME_PASSES = 10\n",
    "\n",
    "use_one_cycle_lr = False\n",
    "\n",
    "model_config = {\n",
    "    \"debugging\": debugging,\n",
    "    \"num_epochs\": num_epochs,\n",
    "    \"batch_size\": batch_size,\n",
    "    \"dropout\": dropout,\n",
    "    \"base_lr\": base_lr,\n",
    "    \"max_lr\": max_lr,\n",
    "    \"weight_decay\": weight_decay,\n",
    "    \"num_connectome_passes\": NUM_CONNECTOME_PASSES,\n",
    "}"
   ]
  },
  {
   "cell_type": "code",
   "execution_count": 2,
   "id": "63b101e44d143f78",
   "metadata": {
    "ExecuteTime": {
     "end_time": "2024-03-28T14:18:59.226154Z",
     "start_time": "2024-03-28T14:18:54.651619Z"
    },
    "collapsed": false
   },
   "outputs": [],
   "source": [
    "# init stuff\n",
    "extent, kernel_size = 15, 13\n",
    "decision_making_vector = get_decision_making_neurons(dtype)\n",
    "receptors = flyvision.rendering.BoxEye(extent=extent, kernel_size=kernel_size)\n",
    "network_view = flyvision.NetworkView(flyvision.results_dir / \"opticflow/000/0000\")\n",
    "network = network_view.init_network(chkpt=\"best_chkpt\")\n",
    "classification = pd.read_csv(\"adult_data/classification_clean.csv\")\n",
    "root_id_to_index = pd.read_csv(\"adult_data/root_id_to_index.csv\")\n",
    "dt = 1 / 100 # some parameter from flyvision\n",
    "last_good_frame = 2\n",
    "cell_type_plot = \"TmY18\"\n",
    "\n",
    "cell_type_indices = get_cell_type_indices(classification, root_id_to_index, DECODING_CELLS)\n",
    "\n",
    "training_videos = get_files_from_directory(TRAINING_DATA_DIR)\n",
    "test_videos = get_files_from_directory(TESTING_DATA_DIR)\n",
    "validation_videos = get_files_from_directory(TESTING_DATA_DIR)\n",
    "\n",
    "if small:\n",
    "    training_videos = sample(training_videos, small_length)\n",
    "    test_videos = sample(test_videos, small_length)\n",
    "    validation_videos = sample(validation_videos, int(small_length / 5))\n",
    "\n",
    "if len(training_videos) == 0:\n",
    "    print(\"I can't find any training images or videos!\")"
   ]
  },
  {
   "cell_type": "code",
   "execution_count": 3,
   "id": "4fce80a3502cf3c7",
   "metadata": {
    "ExecuteTime": {
     "end_time": "2024-03-28T14:18:59.238988Z",
     "start_time": "2024-03-28T14:18:59.227248Z"
    },
    "collapsed": false
   },
   "outputs": [],
   "source": [
    "synaptic_matrix = load_npz(\"adult_data/synaptic_matrix_sparse.npz\")\n",
    "one_hot_decision_making = vector_to_one_hot(\n",
    "    decision_making_vector, dtype, sparse_layout\n",
    ").to(DEVICE)\n",
    "\n",
    "model = FullAdultModel(\n",
    "    synaptic_matrix,\n",
    "    one_hot_decision_making,\n",
    "    cell_type_indices,\n",
    "    NUM_CONNECTOME_PASSES,\n",
    "    log_transform_weights=True,\n",
    "    sparse_layout=sparse_layout,\n",
    "    dtype=dtype,\n",
    ").to(DEVICE)\n",
    "\n",
    "optimizer = torch.optim.Adam(model.parameters(), lr=base_lr)\n",
    "scaler = GradScaler()\n",
    "\n",
    "# Initialize the loss function\n",
    "criterion = BCEWithLogitsLoss()"
   ]
  },
  {
   "cell_type": "code",
   "execution_count": 5,
   "id": "f8fa2f7661646a93",
   "metadata": {
    "ExecuteTime": {
     "end_time": "2024-03-28T14:22:54.362080Z",
     "start_time": "2024-03-28T14:19:58.045941Z"
    },
    "collapsed": false
   },
   "outputs": [
    {
     "name": "stderr",
     "output_type": "stream",
     "text": [
      "  0%|          | 0/100 [00:00<?, ?it/s]"
     ]
    },
    {
     "name": "stdout",
     "output_type": "stream",
     "text": [
      "tensor([-1.9091e+28], grad_fn=<ViewBackward0>) tensor([0.]) tensor(0., grad_fn=<BinaryCrossEntropyWithLogitsBackward0>)\n"
     ]
    },
    {
     "name": "stderr",
     "output_type": "stream",
     "text": [
      "  1%|          | 1/100 [01:40<2:45:32, 100.33s/it]"
     ]
    },
    {
     "name": "stdout",
     "output_type": "stream",
     "text": [
      "tensor([-1.9359e+28], grad_fn=<ViewBackward0>) tensor([0.]) tensor(0., grad_fn=<BinaryCrossEntropyWithLogitsBackward0>)\n"
     ]
    },
    {
     "name": "stderr",
     "output_type": "stream",
     "text": [
      "  3%|▎         | 3/100 [03:30<1:33:56, 58.11s/it] "
     ]
    },
    {
     "name": "stdout",
     "output_type": "stream",
     "text": [
      "tensor([-2.2980e+28], grad_fn=<ViewBackward0>) tensor([1.]) tensor(2.2980e+28, grad_fn=<BinaryCrossEntropyWithLogitsBackward0>)\n"
     ]
    },
    {
     "name": "stderr",
     "output_type": "stream",
     "text": [
      "  4%|▍         | 4/100 [03:33<57:40, 36.04s/it]  "
     ]
    },
    {
     "name": "stdout",
     "output_type": "stream",
     "text": [
      "tensor([-2.0525e+28], grad_fn=<ViewBackward0>) tensor([1.]) tensor(2.0525e+28, grad_fn=<BinaryCrossEntropyWithLogitsBackward0>)\n",
      "tensor([-2.0400e+28], grad_fn=<ViewBackward0>) tensor([0.]) tensor(0., grad_fn=<BinaryCrossEntropyWithLogitsBackward0>)\n"
     ]
    },
    {
     "name": "stderr",
     "output_type": "stream",
     "text": [
      "  5%|▌         | 5/100 [03:44<42:53, 27.09s/it]"
     ]
    },
    {
     "name": "stdout",
     "output_type": "stream",
     "text": [
      "tensor([-2.0352e+28], grad_fn=<ViewBackward0>) tensor([1.]) tensor(2.0352e+28, grad_fn=<BinaryCrossEntropyWithLogitsBackward0>)\n"
     ]
    },
    {
     "name": "stderr",
     "output_type": "stream",
     "text": [
      "  6%|▌         | 6/100 [03:52<32:26, 20.70s/it]"
     ]
    },
    {
     "name": "stdout",
     "output_type": "stream",
     "text": [
      "tensor([-2.0057e+28], grad_fn=<ViewBackward0>) tensor([1.]) tensor(2.0057e+28, grad_fn=<BinaryCrossEntropyWithLogitsBackward0>)\n"
     ]
    },
    {
     "name": "stderr",
     "output_type": "stream",
     "text": [
      "  7%|▋         | 7/100 [04:01<26:00, 16.77s/it]"
     ]
    },
    {
     "name": "stdout",
     "output_type": "stream",
     "text": [
      "tensor([-2.0504e+28], grad_fn=<ViewBackward0>) tensor([1.]) tensor(2.0504e+28, grad_fn=<BinaryCrossEntropyWithLogitsBackward0>)\n"
     ]
    },
    {
     "name": "stderr",
     "output_type": "stream",
     "text": [
      "  8%|▊         | 8/100 [04:10<21:46, 14.20s/it]"
     ]
    },
    {
     "name": "stdout",
     "output_type": "stream",
     "text": [
      "tensor([-2.1570e+28], grad_fn=<ViewBackward0>) tensor([0.]) tensor(0., grad_fn=<BinaryCrossEntropyWithLogitsBackward0>)\n"
     ]
    },
    {
     "name": "stderr",
     "output_type": "stream",
     "text": [
      "  9%|▉         | 9/100 [04:58<37:52, 24.97s/it]"
     ]
    },
    {
     "name": "stdout",
     "output_type": "stream",
     "text": [
      "tensor([-2.1573e+28], grad_fn=<ViewBackward0>) tensor([1.]) tensor(2.1573e+28, grad_fn=<BinaryCrossEntropyWithLogitsBackward0>)\n"
     ]
    },
    {
     "name": "stderr",
     "output_type": "stream",
     "text": [
      " 10%|█         | 10/100 [05:18<34:57, 23.31s/it]"
     ]
    },
    {
     "name": "stdout",
     "output_type": "stream",
     "text": [
      "tensor([-2.0067e+28], grad_fn=<ViewBackward0>) tensor([0.]) tensor(0., grad_fn=<BinaryCrossEntropyWithLogitsBackward0>)\n"
     ]
    },
    {
     "name": "stderr",
     "output_type": "stream",
     "text": [
      " 11%|█         | 11/100 [05:26<27:47, 18.74s/it]"
     ]
    },
    {
     "name": "stdout",
     "output_type": "stream",
     "text": [
      "tensor([-2.1916e+28], grad_fn=<ViewBackward0>) tensor([0.]) tensor(0., grad_fn=<BinaryCrossEntropyWithLogitsBackward0>)\n"
     ]
    },
    {
     "name": "stderr",
     "output_type": "stream",
     "text": [
      " 12%|█▏        | 12/100 [05:34<22:50, 15.57s/it]"
     ]
    },
    {
     "name": "stdout",
     "output_type": "stream",
     "text": [
      "tensor([-2.1321e+28], grad_fn=<ViewBackward0>) tensor([0.]) tensor(0., grad_fn=<BinaryCrossEntropyWithLogitsBackward0>)\n"
     ]
    },
    {
     "name": "stderr",
     "output_type": "stream",
     "text": [
      " 13%|█▎        | 13/100 [05:43<19:22, 13.37s/it]"
     ]
    },
    {
     "name": "stdout",
     "output_type": "stream",
     "text": [
      "tensor([-1.9914e+28], grad_fn=<ViewBackward0>) tensor([0.]) tensor(0., grad_fn=<BinaryCrossEntropyWithLogitsBackward0>)\n"
     ]
    },
    {
     "name": "stderr",
     "output_type": "stream",
     "text": [
      " 14%|█▍        | 14/100 [05:51<16:59, 11.86s/it]"
     ]
    },
    {
     "name": "stdout",
     "output_type": "stream",
     "text": [
      "tensor([-2.1555e+28], grad_fn=<ViewBackward0>) tensor([1.]) tensor(2.1555e+28, grad_fn=<BinaryCrossEntropyWithLogitsBackward0>)\n"
     ]
    },
    {
     "name": "stderr",
     "output_type": "stream",
     "text": [
      " 15%|█▌        | 15/100 [05:59<15:16, 10.78s/it]"
     ]
    },
    {
     "name": "stdout",
     "output_type": "stream",
     "text": [
      "tensor([-1.9592e+28], grad_fn=<ViewBackward0>) tensor([0.]) tensor(0., grad_fn=<BinaryCrossEntropyWithLogitsBackward0>)\n"
     ]
    },
    {
     "name": "stderr",
     "output_type": "stream",
     "text": [
      " 16%|█▌        | 16/100 [06:08<14:02, 10.03s/it]"
     ]
    },
    {
     "name": "stdout",
     "output_type": "stream",
     "text": [
      "tensor([-2.0204e+28], grad_fn=<ViewBackward0>) tensor([1.]) tensor(2.0204e+28, grad_fn=<BinaryCrossEntropyWithLogitsBackward0>)\n"
     ]
    },
    {
     "name": "stderr",
     "output_type": "stream",
     "text": [
      " 17%|█▋        | 17/100 [06:16<13:13,  9.56s/it]"
     ]
    },
    {
     "name": "stdout",
     "output_type": "stream",
     "text": [
      "tensor([-2.0986e+28], grad_fn=<ViewBackward0>) tensor([1.]) tensor(2.0986e+28, grad_fn=<BinaryCrossEntropyWithLogitsBackward0>)\n"
     ]
    },
    {
     "name": "stderr",
     "output_type": "stream",
     "text": [
      " 18%|█▊        | 18/100 [07:03<28:22, 20.76s/it]"
     ]
    },
    {
     "name": "stdout",
     "output_type": "stream",
     "text": [
      "tensor([-2.1704e+28], grad_fn=<ViewBackward0>) tensor([1.]) tensor(2.1704e+28, grad_fn=<BinaryCrossEntropyWithLogitsBackward0>)\n"
     ]
    },
    {
     "name": "stderr",
     "output_type": "stream",
     "text": [
      " 19%|█▉        | 19/100 [07:27<29:23, 21.77s/it]"
     ]
    },
    {
     "name": "stdout",
     "output_type": "stream",
     "text": [
      "tensor([-2.0164e+28], grad_fn=<ViewBackward0>) tensor([1.]) tensor(2.0164e+28, grad_fn=<BinaryCrossEntropyWithLogitsBackward0>)\n"
     ]
    },
    {
     "name": "stderr",
     "output_type": "stream",
     "text": [
      " 20%|██        | 20/100 [07:36<23:39, 17.75s/it]"
     ]
    },
    {
     "name": "stdout",
     "output_type": "stream",
     "text": [
      "tensor([-2.1087e+28], grad_fn=<ViewBackward0>) tensor([1.]) tensor(2.1087e+28, grad_fn=<BinaryCrossEntropyWithLogitsBackward0>)\n"
     ]
    },
    {
     "name": "stderr",
     "output_type": "stream",
     "text": [
      " 21%|██        | 21/100 [07:44<19:34, 14.87s/it]"
     ]
    },
    {
     "name": "stdout",
     "output_type": "stream",
     "text": [
      "tensor([-2.0943e+28], grad_fn=<ViewBackward0>) tensor([1.]) tensor(2.0943e+28, grad_fn=<BinaryCrossEntropyWithLogitsBackward0>)\n"
     ]
    },
    {
     "name": "stderr",
     "output_type": "stream",
     "text": [
      " 22%|██▏       | 22/100 [07:52<16:40, 12.83s/it]"
     ]
    },
    {
     "name": "stdout",
     "output_type": "stream",
     "text": [
      "tensor([-1.9500e+28], grad_fn=<ViewBackward0>) tensor([0.]) tensor(0., grad_fn=<BinaryCrossEntropyWithLogitsBackward0>)\n"
     ]
    },
    {
     "name": "stderr",
     "output_type": "stream",
     "text": [
      " 23%|██▎       | 23/100 [07:59<14:22, 11.20s/it]"
     ]
    },
    {
     "name": "stdout",
     "output_type": "stream",
     "text": [
      "tensor([-2.0378e+28], grad_fn=<ViewBackward0>) tensor([0.]) tensor(0., grad_fn=<BinaryCrossEntropyWithLogitsBackward0>)\n"
     ]
    },
    {
     "name": "stderr",
     "output_type": "stream",
     "text": [
      " 24%|██▍       | 24/100 [08:06<12:40, 10.01s/it]"
     ]
    },
    {
     "name": "stdout",
     "output_type": "stream",
     "text": [
      "tensor([-2.0669e+28], grad_fn=<ViewBackward0>) tensor([0.]) tensor(0., grad_fn=<BinaryCrossEntropyWithLogitsBackward0>)\n"
     ]
    },
    {
     "name": "stderr",
     "output_type": "stream",
     "text": [
      " 25%|██▌       | 25/100 [08:14<11:28,  9.18s/it]"
     ]
    },
    {
     "name": "stdout",
     "output_type": "stream",
     "text": [
      "tensor([-2.1046e+28], grad_fn=<ViewBackward0>) tensor([1.]) tensor(2.1046e+28, grad_fn=<BinaryCrossEntropyWithLogitsBackward0>)\n"
     ]
    },
    {
     "name": "stderr",
     "output_type": "stream",
     "text": [
      " 26%|██▌       | 26/100 [08:21<10:43,  8.70s/it]"
     ]
    },
    {
     "name": "stdout",
     "output_type": "stream",
     "text": [
      "tensor([-2.0129e+28], grad_fn=<ViewBackward0>) tensor([0.]) tensor(0., grad_fn=<BinaryCrossEntropyWithLogitsBackward0>)\n"
     ]
    },
    {
     "name": "stderr",
     "output_type": "stream",
     "text": [
      " 27%|██▋       | 27/100 [08:30<10:27,  8.60s/it]"
     ]
    },
    {
     "name": "stdout",
     "output_type": "stream",
     "text": [
      "tensor([-2.1324e+28], grad_fn=<ViewBackward0>) tensor([1.]) tensor(2.1324e+28, grad_fn=<BinaryCrossEntropyWithLogitsBackward0>)\n"
     ]
    },
    {
     "name": "stderr",
     "output_type": "stream",
     "text": [
      " 28%|██▊       | 28/100 [08:38<10:08,  8.45s/it]"
     ]
    },
    {
     "name": "stdout",
     "output_type": "stream",
     "text": [
      "tensor([-2.1571e+28], grad_fn=<ViewBackward0>) tensor([0.]) tensor(0., grad_fn=<BinaryCrossEntropyWithLogitsBackward0>)\n"
     ]
    },
    {
     "name": "stderr",
     "output_type": "stream",
     "text": [
      " 29%|██▉       | 29/100 [08:45<09:44,  8.23s/it]"
     ]
    },
    {
     "name": "stdout",
     "output_type": "stream",
     "text": [
      "tensor([-2.1259e+28], grad_fn=<ViewBackward0>) tensor([0.]) tensor(0., grad_fn=<BinaryCrossEntropyWithLogitsBackward0>)\n"
     ]
    },
    {
     "name": "stderr",
     "output_type": "stream",
     "text": [
      " 30%|███       | 30/100 [08:53<09:20,  8.01s/it]"
     ]
    },
    {
     "name": "stdout",
     "output_type": "stream",
     "text": [
      "tensor([-2.1365e+28], grad_fn=<ViewBackward0>) tensor([0.]) tensor(0., grad_fn=<BinaryCrossEntropyWithLogitsBackward0>)\n"
     ]
    },
    {
     "name": "stderr",
     "output_type": "stream",
     "text": [
      " 31%|███       | 31/100 [09:00<09:01,  7.84s/it]"
     ]
    },
    {
     "name": "stdout",
     "output_type": "stream",
     "text": [
      "tensor([-1.9932e+28], grad_fn=<ViewBackward0>) tensor([0.]) tensor(0., grad_fn=<BinaryCrossEntropyWithLogitsBackward0>)\n"
     ]
    },
    {
     "name": "stderr",
     "output_type": "stream",
     "text": [
      " 32%|███▏      | 32/100 [09:08<08:43,  7.70s/it]"
     ]
    },
    {
     "name": "stdout",
     "output_type": "stream",
     "text": [
      "tensor([-2.2942e+28], grad_fn=<ViewBackward0>) tensor([1.]) tensor(2.2942e+28, grad_fn=<BinaryCrossEntropyWithLogitsBackward0>)\n"
     ]
    },
    {
     "name": "stderr",
     "output_type": "stream",
     "text": [
      " 33%|███▎      | 33/100 [09:15<08:28,  7.60s/it]"
     ]
    },
    {
     "name": "stdout",
     "output_type": "stream",
     "text": [
      "tensor([-2.1829e+28], grad_fn=<ViewBackward0>) tensor([0.]) tensor(0., grad_fn=<BinaryCrossEntropyWithLogitsBackward0>)\n"
     ]
    },
    {
     "name": "stderr",
     "output_type": "stream",
     "text": [
      " 34%|███▍      | 34/100 [09:22<08:16,  7.52s/it]"
     ]
    },
    {
     "name": "stdout",
     "output_type": "stream",
     "text": [
      "tensor([-2.2325e+28], grad_fn=<ViewBackward0>) tensor([0.]) tensor(0., grad_fn=<BinaryCrossEntropyWithLogitsBackward0>)\n"
     ]
    },
    {
     "name": "stderr",
     "output_type": "stream",
     "text": [
      " 35%|███▌      | 35/100 [09:30<08:06,  7.48s/it]"
     ]
    },
    {
     "name": "stdout",
     "output_type": "stream",
     "text": [
      "tensor([-2.0886e+28], grad_fn=<ViewBackward0>) tensor([1.]) tensor(2.0886e+28, grad_fn=<BinaryCrossEntropyWithLogitsBackward0>)\n"
     ]
    },
    {
     "name": "stderr",
     "output_type": "stream",
     "text": [
      " 36%|███▌      | 36/100 [09:37<07:56,  7.44s/it]"
     ]
    },
    {
     "name": "stdout",
     "output_type": "stream",
     "text": [
      "tensor([-2.1121e+28], grad_fn=<ViewBackward0>) tensor([1.]) tensor(2.1121e+28, grad_fn=<BinaryCrossEntropyWithLogitsBackward0>)\n"
     ]
    },
    {
     "name": "stderr",
     "output_type": "stream",
     "text": [
      " 37%|███▋      | 37/100 [09:45<07:49,  7.46s/it]"
     ]
    },
    {
     "name": "stdout",
     "output_type": "stream",
     "text": [
      "tensor([-2.0575e+28], grad_fn=<ViewBackward0>) tensor([1.]) tensor(2.0575e+28, grad_fn=<BinaryCrossEntropyWithLogitsBackward0>)\n"
     ]
    },
    {
     "name": "stderr",
     "output_type": "stream",
     "text": [
      " 38%|███▊      | 38/100 [09:53<07:53,  7.64s/it]"
     ]
    },
    {
     "name": "stdout",
     "output_type": "stream",
     "text": [
      "tensor([-2.0466e+28], grad_fn=<ViewBackward0>) tensor([0.]) tensor(0., grad_fn=<BinaryCrossEntropyWithLogitsBackward0>)\n"
     ]
    },
    {
     "name": "stderr",
     "output_type": "stream",
     "text": [
      " 39%|███▉      | 39/100 [10:01<07:56,  7.81s/it]"
     ]
    },
    {
     "name": "stdout",
     "output_type": "stream",
     "text": [
      "tensor([-2.1311e+28], grad_fn=<ViewBackward0>) tensor([1.]) tensor(2.1311e+28, grad_fn=<BinaryCrossEntropyWithLogitsBackward0>)\n"
     ]
    },
    {
     "name": "stderr",
     "output_type": "stream",
     "text": [
      " 40%|████      | 40/100 [10:09<07:54,  7.90s/it]"
     ]
    },
    {
     "name": "stdout",
     "output_type": "stream",
     "text": [
      "tensor([-1.9891e+28], grad_fn=<ViewBackward0>) tensor([1.]) tensor(1.9891e+28, grad_fn=<BinaryCrossEntropyWithLogitsBackward0>)\n"
     ]
    },
    {
     "name": "stderr",
     "output_type": "stream",
     "text": [
      " 41%|████      | 41/100 [10:17<07:53,  8.03s/it]"
     ]
    },
    {
     "name": "stdout",
     "output_type": "stream",
     "text": [
      "tensor([-1.9931e+28], grad_fn=<ViewBackward0>) tensor([1.]) tensor(1.9931e+28, grad_fn=<BinaryCrossEntropyWithLogitsBackward0>)\n"
     ]
    },
    {
     "name": "stderr",
     "output_type": "stream",
     "text": [
      " 42%|████▏     | 42/100 [10:26<07:51,  8.12s/it]"
     ]
    },
    {
     "name": "stdout",
     "output_type": "stream",
     "text": [
      "tensor([-2.1171e+28], grad_fn=<ViewBackward0>) tensor([1.]) tensor(2.1171e+28, grad_fn=<BinaryCrossEntropyWithLogitsBackward0>)\n"
     ]
    },
    {
     "name": "stderr",
     "output_type": "stream",
     "text": [
      " 43%|████▎     | 43/100 [10:34<07:48,  8.23s/it]"
     ]
    },
    {
     "name": "stdout",
     "output_type": "stream",
     "text": [
      "tensor([-2.3469e+28], grad_fn=<ViewBackward0>) tensor([0.]) tensor(0., grad_fn=<BinaryCrossEntropyWithLogitsBackward0>)\n"
     ]
    },
    {
     "name": "stderr",
     "output_type": "stream",
     "text": [
      " 44%|████▍     | 44/100 [10:43<07:45,  8.31s/it]"
     ]
    },
    {
     "name": "stdout",
     "output_type": "stream",
     "text": [
      "tensor([-2.0255e+28], grad_fn=<ViewBackward0>) tensor([1.]) tensor(2.0255e+28, grad_fn=<BinaryCrossEntropyWithLogitsBackward0>)\n"
     ]
    },
    {
     "name": "stderr",
     "output_type": "stream",
     "text": [
      " 45%|████▌     | 45/100 [10:52<07:47,  8.50s/it]"
     ]
    },
    {
     "name": "stdout",
     "output_type": "stream",
     "text": [
      "tensor([-2.0181e+28], grad_fn=<ViewBackward0>) tensor([1.]) tensor(2.0181e+28, grad_fn=<BinaryCrossEntropyWithLogitsBackward0>)\n"
     ]
    },
    {
     "name": "stderr",
     "output_type": "stream",
     "text": [
      " 46%|████▌     | 46/100 [11:49<20:53, 23.21s/it]"
     ]
    },
    {
     "name": "stdout",
     "output_type": "stream",
     "text": [
      "tensor([-2.1735e+28], grad_fn=<ViewBackward0>) tensor([1.]) tensor(2.1735e+28, grad_fn=<BinaryCrossEntropyWithLogitsBackward0>)\n"
     ]
    },
    {
     "name": "stderr",
     "output_type": "stream",
     "text": [
      " 47%|████▋     | 47/100 [12:01<17:24, 19.70s/it]"
     ]
    },
    {
     "name": "stdout",
     "output_type": "stream",
     "text": [
      "tensor([-2.0290e+28], grad_fn=<ViewBackward0>) tensor([0.]) tensor(0., grad_fn=<BinaryCrossEntropyWithLogitsBackward0>)\n"
     ]
    },
    {
     "name": "stderr",
     "output_type": "stream",
     "text": [
      " 48%|████▊     | 48/100 [12:09<14:07, 16.30s/it]"
     ]
    },
    {
     "name": "stdout",
     "output_type": "stream",
     "text": [
      "tensor([-2.1051e+28], grad_fn=<ViewBackward0>) tensor([1.]) tensor(2.1051e+28, grad_fn=<BinaryCrossEntropyWithLogitsBackward0>)\n"
     ]
    },
    {
     "name": "stderr",
     "output_type": "stream",
     "text": [
      " 49%|████▉     | 49/100 [12:17<11:48, 13.90s/it]"
     ]
    },
    {
     "name": "stdout",
     "output_type": "stream",
     "text": [
      "tensor([-2.1905e+28], grad_fn=<ViewBackward0>) tensor([1.]) tensor(2.1905e+28, grad_fn=<BinaryCrossEntropyWithLogitsBackward0>)\n"
     ]
    },
    {
     "name": "stderr",
     "output_type": "stream",
     "text": [
      " 50%|█████     | 50/100 [12:26<10:10, 12.20s/it]"
     ]
    },
    {
     "name": "stdout",
     "output_type": "stream",
     "text": [
      "tensor([-1.9989e+28], grad_fn=<ViewBackward0>) tensor([0.]) tensor(0., grad_fn=<BinaryCrossEntropyWithLogitsBackward0>)\n"
     ]
    },
    {
     "name": "stderr",
     "output_type": "stream",
     "text": [
      " 51%|█████     | 51/100 [12:34<09:02, 11.08s/it]"
     ]
    },
    {
     "name": "stdout",
     "output_type": "stream",
     "text": [
      "tensor([-2.1822e+28], grad_fn=<ViewBackward0>) tensor([1.]) tensor(2.1822e+28, grad_fn=<BinaryCrossEntropyWithLogitsBackward0>)\n"
     ]
    },
    {
     "name": "stderr",
     "output_type": "stream",
     "text": [
      " 52%|█████▏    | 52/100 [12:42<08:11, 10.25s/it]"
     ]
    },
    {
     "name": "stdout",
     "output_type": "stream",
     "text": [
      "tensor([-2.0750e+28], grad_fn=<ViewBackward0>) tensor([1.]) tensor(2.0750e+28, grad_fn=<BinaryCrossEntropyWithLogitsBackward0>)\n"
     ]
    },
    {
     "name": "stderr",
     "output_type": "stream",
     "text": [
      " 53%|█████▎    | 53/100 [12:53<08:09, 10.41s/it]"
     ]
    },
    {
     "name": "stdout",
     "output_type": "stream",
     "text": [
      "tensor([-1.9932e+28], grad_fn=<ViewBackward0>) tensor([1.]) tensor(1.9932e+28, grad_fn=<BinaryCrossEntropyWithLogitsBackward0>)\n"
     ]
    },
    {
     "name": "stderr",
     "output_type": "stream",
     "text": [
      " 54%|█████▍    | 54/100 [13:02<07:42, 10.05s/it]"
     ]
    },
    {
     "name": "stdout",
     "output_type": "stream",
     "text": [
      "tensor([-2.1033e+28], grad_fn=<ViewBackward0>) tensor([0.]) tensor(0., grad_fn=<BinaryCrossEntropyWithLogitsBackward0>)\n"
     ]
    },
    {
     "name": "stderr",
     "output_type": "stream",
     "text": [
      " 55%|█████▌    | 55/100 [13:11<07:08,  9.51s/it]"
     ]
    },
    {
     "name": "stdout",
     "output_type": "stream",
     "text": [
      "tensor([-2.2112e+28], grad_fn=<ViewBackward0>) tensor([1.]) tensor(2.2112e+28, grad_fn=<BinaryCrossEntropyWithLogitsBackward0>)\n"
     ]
    },
    {
     "name": "stderr",
     "output_type": "stream",
     "text": [
      " 56%|█████▌    | 56/100 [13:53<14:09, 19.32s/it]"
     ]
    },
    {
     "name": "stdout",
     "output_type": "stream",
     "text": [
      "tensor([-2.0846e+28], grad_fn=<ViewBackward0>) tensor([0.]) tensor(0., grad_fn=<BinaryCrossEntropyWithLogitsBackward0>)\n"
     ]
    },
    {
     "name": "stderr",
     "output_type": "stream",
     "text": [
      " 57%|█████▋    | 57/100 [14:01<11:27, 16.00s/it]"
     ]
    },
    {
     "name": "stdout",
     "output_type": "stream",
     "text": [
      "tensor([-2.1376e+28], grad_fn=<ViewBackward0>) tensor([1.]) tensor(2.1376e+28, grad_fn=<BinaryCrossEntropyWithLogitsBackward0>)\n"
     ]
    },
    {
     "name": "stderr",
     "output_type": "stream",
     "text": [
      " 58%|█████▊    | 58/100 [14:12<10:14, 14.64s/it]"
     ]
    },
    {
     "name": "stdout",
     "output_type": "stream",
     "text": [
      "tensor([-1.9849e+28], grad_fn=<ViewBackward0>) tensor([1.]) tensor(1.9849e+28, grad_fn=<BinaryCrossEntropyWithLogitsBackward0>)\n"
     ]
    },
    {
     "name": "stderr",
     "output_type": "stream",
     "text": [
      " 59%|█████▉    | 59/100 [14:40<12:37, 18.46s/it]"
     ]
    },
    {
     "name": "stdout",
     "output_type": "stream",
     "text": [
      "tensor([-2.1967e+28], grad_fn=<ViewBackward0>) tensor([1.]) tensor(2.1967e+28, grad_fn=<BinaryCrossEntropyWithLogitsBackward0>)\n"
     ]
    },
    {
     "name": "stderr",
     "output_type": "stream",
     "text": [
      " 60%|██████    | 60/100 [14:48<10:16, 15.42s/it]"
     ]
    },
    {
     "name": "stdout",
     "output_type": "stream",
     "text": [
      "tensor([-2.1796e+28], grad_fn=<ViewBackward0>) tensor([0.]) tensor(0., grad_fn=<BinaryCrossEntropyWithLogitsBackward0>)\n"
     ]
    },
    {
     "name": "stderr",
     "output_type": "stream",
     "text": [
      " 61%|██████    | 61/100 [14:57<08:38, 13.30s/it]"
     ]
    },
    {
     "name": "stdout",
     "output_type": "stream",
     "text": [
      "tensor([-1.9422e+28], grad_fn=<ViewBackward0>) tensor([1.]) tensor(1.9422e+28, grad_fn=<BinaryCrossEntropyWithLogitsBackward0>)\n"
     ]
    },
    {
     "name": "stderr",
     "output_type": "stream",
     "text": [
      " 62%|██████▏   | 62/100 [15:05<07:28, 11.79s/it]"
     ]
    },
    {
     "name": "stdout",
     "output_type": "stream",
     "text": [
      "tensor([-1.9596e+28], grad_fn=<ViewBackward0>) tensor([1.]) tensor(1.9596e+28, grad_fn=<BinaryCrossEntropyWithLogitsBackward0>)\n"
     ]
    },
    {
     "name": "stderr",
     "output_type": "stream",
     "text": [
      " 63%|██████▎   | 63/100 [15:15<06:58, 11.32s/it]"
     ]
    },
    {
     "name": "stdout",
     "output_type": "stream",
     "text": [
      "tensor([-2.1844e+28], grad_fn=<ViewBackward0>) tensor([0.]) tensor(0., grad_fn=<BinaryCrossEntropyWithLogitsBackward0>)\n"
     ]
    },
    {
     "name": "stderr",
     "output_type": "stream",
     "text": [
      " 64%|██████▍   | 64/100 [16:02<13:07, 21.86s/it]"
     ]
    },
    {
     "name": "stdout",
     "output_type": "stream",
     "text": [
      "tensor([-2.1300e+28], grad_fn=<ViewBackward0>) tensor([1.]) tensor(2.1300e+28, grad_fn=<BinaryCrossEntropyWithLogitsBackward0>)\n"
     ]
    },
    {
     "name": "stderr",
     "output_type": "stream",
     "text": [
      " 65%|██████▌   | 65/100 [16:19<12:03, 20.67s/it]"
     ]
    },
    {
     "name": "stdout",
     "output_type": "stream",
     "text": [
      "tensor([-2.0880e+28], grad_fn=<ViewBackward0>) tensor([0.]) tensor(0., grad_fn=<BinaryCrossEntropyWithLogitsBackward0>)\n"
     ]
    },
    {
     "name": "stderr",
     "output_type": "stream",
     "text": [
      " 66%|██████▌   | 66/100 [16:28<09:36, 16.97s/it]"
     ]
    },
    {
     "name": "stdout",
     "output_type": "stream",
     "text": [
      "tensor([-2.2207e+28], grad_fn=<ViewBackward0>) tensor([1.]) tensor(2.2207e+28, grad_fn=<BinaryCrossEntropyWithLogitsBackward0>)\n"
     ]
    },
    {
     "name": "stderr",
     "output_type": "stream",
     "text": [
      " 67%|██████▋   | 67/100 [16:36<07:51, 14.28s/it]"
     ]
    },
    {
     "name": "stdout",
     "output_type": "stream",
     "text": [
      "tensor([-2.0572e+28], grad_fn=<ViewBackward0>) tensor([0.]) tensor(0., grad_fn=<BinaryCrossEntropyWithLogitsBackward0>)\n"
     ]
    },
    {
     "name": "stderr",
     "output_type": "stream",
     "text": [
      " 68%|██████▊   | 68/100 [16:43<06:32, 12.27s/it]"
     ]
    },
    {
     "name": "stdout",
     "output_type": "stream",
     "text": [
      "tensor([-1.9704e+28], grad_fn=<ViewBackward0>) tensor([0.]) tensor(0., grad_fn=<BinaryCrossEntropyWithLogitsBackward0>)\n"
     ]
    },
    {
     "name": "stderr",
     "output_type": "stream",
     "text": [
      " 69%|██████▉   | 69/100 [16:51<05:39, 10.96s/it]"
     ]
    },
    {
     "name": "stdout",
     "output_type": "stream",
     "text": [
      "tensor([-2.0599e+28], grad_fn=<ViewBackward0>) tensor([1.]) tensor(2.0599e+28, grad_fn=<BinaryCrossEntropyWithLogitsBackward0>)\n"
     ]
    },
    {
     "name": "stderr",
     "output_type": "stream",
     "text": [
      " 70%|███████   | 70/100 [16:59<05:02, 10.08s/it]"
     ]
    },
    {
     "name": "stdout",
     "output_type": "stream",
     "text": [
      "tensor([-2.1889e+28], grad_fn=<ViewBackward0>) tensor([1.]) tensor(2.1889e+28, grad_fn=<BinaryCrossEntropyWithLogitsBackward0>)\n"
     ]
    },
    {
     "name": "stderr",
     "output_type": "stream",
     "text": [
      " 71%|███████   | 71/100 [17:07<04:32,  9.41s/it]"
     ]
    },
    {
     "name": "stdout",
     "output_type": "stream",
     "text": [
      "tensor([-2.0915e+28], grad_fn=<ViewBackward0>) tensor([0.]) tensor(0., grad_fn=<BinaryCrossEntropyWithLogitsBackward0>)\n"
     ]
    },
    {
     "name": "stderr",
     "output_type": "stream",
     "text": [
      " 72%|███████▏  | 72/100 [17:15<04:11,  8.99s/it]"
     ]
    },
    {
     "name": "stdout",
     "output_type": "stream",
     "text": [
      "tensor([-2.1738e+28], grad_fn=<ViewBackward0>) tensor([0.]) tensor(0., grad_fn=<BinaryCrossEntropyWithLogitsBackward0>)\n"
     ]
    },
    {
     "name": "stderr",
     "output_type": "stream",
     "text": [
      " 73%|███████▎  | 73/100 [17:23<03:53,  8.65s/it]"
     ]
    },
    {
     "name": "stdout",
     "output_type": "stream",
     "text": [
      "tensor([-2.0553e+28], grad_fn=<ViewBackward0>) tensor([0.]) tensor(0., grad_fn=<BinaryCrossEntropyWithLogitsBackward0>)\n"
     ]
    },
    {
     "name": "stderr",
     "output_type": "stream",
     "text": [
      " 74%|███████▍  | 74/100 [17:31<03:40,  8.49s/it]"
     ]
    },
    {
     "name": "stdout",
     "output_type": "stream",
     "text": [
      "tensor([-2.1114e+28], grad_fn=<ViewBackward0>) tensor([0.]) tensor(0., grad_fn=<BinaryCrossEntropyWithLogitsBackward0>)\n"
     ]
    },
    {
     "name": "stderr",
     "output_type": "stream",
     "text": [
      " 75%|███████▌  | 75/100 [17:39<03:28,  8.33s/it]"
     ]
    },
    {
     "name": "stdout",
     "output_type": "stream",
     "text": [
      "tensor([-2.1258e+28], grad_fn=<ViewBackward0>) tensor([0.]) tensor(0., grad_fn=<BinaryCrossEntropyWithLogitsBackward0>)\n"
     ]
    },
    {
     "name": "stderr",
     "output_type": "stream",
     "text": [
      " 76%|███████▌  | 76/100 [17:47<03:15,  8.16s/it]"
     ]
    },
    {
     "name": "stdout",
     "output_type": "stream",
     "text": [
      "tensor([-1.9611e+28], grad_fn=<ViewBackward0>) tensor([1.]) tensor(1.9611e+28, grad_fn=<BinaryCrossEntropyWithLogitsBackward0>)\n"
     ]
    },
    {
     "name": "stderr",
     "output_type": "stream",
     "text": [
      " 77%|███████▋  | 77/100 [17:55<03:06,  8.13s/it]"
     ]
    },
    {
     "name": "stdout",
     "output_type": "stream",
     "text": [
      "tensor([-2.0739e+28], grad_fn=<ViewBackward0>) tensor([1.]) tensor(2.0739e+28, grad_fn=<BinaryCrossEntropyWithLogitsBackward0>)\n"
     ]
    },
    {
     "name": "stderr",
     "output_type": "stream",
     "text": [
      " 78%|███████▊  | 78/100 [18:03<02:56,  8.00s/it]"
     ]
    },
    {
     "name": "stdout",
     "output_type": "stream",
     "text": [
      "tensor([-2.0621e+28], grad_fn=<ViewBackward0>) tensor([0.]) tensor(0., grad_fn=<BinaryCrossEntropyWithLogitsBackward0>)\n"
     ]
    },
    {
     "name": "stderr",
     "output_type": "stream",
     "text": [
      " 79%|███████▉  | 79/100 [18:11<02:49,  8.08s/it]"
     ]
    },
    {
     "name": "stdout",
     "output_type": "stream",
     "text": [
      "tensor([-2.0348e+28], grad_fn=<ViewBackward0>) tensor([1.]) tensor(2.0348e+28, grad_fn=<BinaryCrossEntropyWithLogitsBackward0>)\n"
     ]
    },
    {
     "name": "stderr",
     "output_type": "stream",
     "text": [
      " 80%|████████  | 80/100 [18:19<02:41,  8.06s/it]"
     ]
    },
    {
     "name": "stdout",
     "output_type": "stream",
     "text": [
      "tensor([-2.0493e+28], grad_fn=<ViewBackward0>) tensor([1.]) tensor(2.0493e+28, grad_fn=<BinaryCrossEntropyWithLogitsBackward0>)\n"
     ]
    },
    {
     "name": "stderr",
     "output_type": "stream",
     "text": [
      " 81%|████████  | 81/100 [18:27<02:32,  8.04s/it]"
     ]
    },
    {
     "name": "stdout",
     "output_type": "stream",
     "text": [
      "tensor([-2.0749e+28], grad_fn=<ViewBackward0>) tensor([0.]) tensor(0., grad_fn=<BinaryCrossEntropyWithLogitsBackward0>)\n"
     ]
    },
    {
     "name": "stderr",
     "output_type": "stream",
     "text": [
      " 82%|████████▏ | 82/100 [18:35<02:23,  8.00s/it]"
     ]
    },
    {
     "name": "stdout",
     "output_type": "stream",
     "text": [
      "tensor([-1.9978e+28], grad_fn=<ViewBackward0>) tensor([0.]) tensor(0., grad_fn=<BinaryCrossEntropyWithLogitsBackward0>)\n"
     ]
    },
    {
     "name": "stderr",
     "output_type": "stream",
     "text": [
      " 83%|████████▎ | 83/100 [18:43<02:16,  8.01s/it]"
     ]
    },
    {
     "name": "stdout",
     "output_type": "stream",
     "text": [
      "tensor([-2.0008e+28], grad_fn=<ViewBackward0>) tensor([0.]) tensor(0., grad_fn=<BinaryCrossEntropyWithLogitsBackward0>)\n"
     ]
    },
    {
     "name": "stderr",
     "output_type": "stream",
     "text": [
      " 84%|████████▍ | 84/100 [18:50<02:06,  7.91s/it]"
     ]
    },
    {
     "name": "stdout",
     "output_type": "stream",
     "text": [
      "tensor([-2.0593e+28], grad_fn=<ViewBackward0>) tensor([0.]) tensor(0., grad_fn=<BinaryCrossEntropyWithLogitsBackward0>)\n"
     ]
    },
    {
     "name": "stderr",
     "output_type": "stream",
     "text": [
      " 85%|████████▌ | 85/100 [18:58<01:58,  7.88s/it]"
     ]
    },
    {
     "name": "stdout",
     "output_type": "stream",
     "text": [
      "tensor([-2.0741e+28], grad_fn=<ViewBackward0>) tensor([0.]) tensor(0., grad_fn=<BinaryCrossEntropyWithLogitsBackward0>)\n"
     ]
    },
    {
     "name": "stderr",
     "output_type": "stream",
     "text": [
      " 86%|████████▌ | 86/100 [19:06<01:50,  7.87s/it]"
     ]
    },
    {
     "name": "stdout",
     "output_type": "stream",
     "text": [
      "tensor([-2.0477e+28], grad_fn=<ViewBackward0>) tensor([1.]) tensor(2.0477e+28, grad_fn=<BinaryCrossEntropyWithLogitsBackward0>)\n"
     ]
    },
    {
     "name": "stderr",
     "output_type": "stream",
     "text": [
      " 87%|████████▋ | 87/100 [19:14<01:42,  7.85s/it]"
     ]
    },
    {
     "name": "stdout",
     "output_type": "stream",
     "text": [
      "tensor([-2.0812e+28], grad_fn=<ViewBackward0>) tensor([0.]) tensor(0., grad_fn=<BinaryCrossEntropyWithLogitsBackward0>)\n"
     ]
    },
    {
     "name": "stderr",
     "output_type": "stream",
     "text": [
      " 88%|████████▊ | 88/100 [19:22<01:33,  7.78s/it]"
     ]
    },
    {
     "name": "stdout",
     "output_type": "stream",
     "text": [
      "tensor([-2.0396e+28], grad_fn=<ViewBackward0>) tensor([1.]) tensor(2.0396e+28, grad_fn=<BinaryCrossEntropyWithLogitsBackward0>)\n"
     ]
    },
    {
     "name": "stderr",
     "output_type": "stream",
     "text": [
      " 89%|████████▉ | 89/100 [19:30<01:26,  7.87s/it]"
     ]
    },
    {
     "name": "stdout",
     "output_type": "stream",
     "text": [
      "tensor([-2.1575e+28], grad_fn=<ViewBackward0>) tensor([0.]) tensor(0., grad_fn=<BinaryCrossEntropyWithLogitsBackward0>)\n"
     ]
    },
    {
     "name": "stderr",
     "output_type": "stream",
     "text": [
      " 90%|█████████ | 90/100 [19:37<01:18,  7.85s/it]"
     ]
    },
    {
     "name": "stdout",
     "output_type": "stream",
     "text": [
      "tensor([-2.1355e+28], grad_fn=<ViewBackward0>) tensor([1.]) tensor(2.1355e+28, grad_fn=<BinaryCrossEntropyWithLogitsBackward0>)\n"
     ]
    },
    {
     "name": "stderr",
     "output_type": "stream",
     "text": [
      " 91%|█████████ | 91/100 [19:45<01:10,  7.86s/it]"
     ]
    },
    {
     "name": "stdout",
     "output_type": "stream",
     "text": [
      "tensor([-2.0679e+28], grad_fn=<ViewBackward0>) tensor([0.]) tensor(0., grad_fn=<BinaryCrossEntropyWithLogitsBackward0>)\n"
     ]
    },
    {
     "name": "stderr",
     "output_type": "stream",
     "text": [
      " 92%|█████████▏| 92/100 [19:53<01:02,  7.76s/it]"
     ]
    },
    {
     "name": "stdout",
     "output_type": "stream",
     "text": [
      "tensor([-2.2145e+28], grad_fn=<ViewBackward0>) tensor([0.]) tensor(0., grad_fn=<BinaryCrossEntropyWithLogitsBackward0>)\n"
     ]
    },
    {
     "name": "stderr",
     "output_type": "stream",
     "text": [
      " 93%|█████████▎| 93/100 [20:01<00:54,  7.77s/it]"
     ]
    },
    {
     "name": "stdout",
     "output_type": "stream",
     "text": [
      "tensor([-2.0994e+28], grad_fn=<ViewBackward0>) tensor([1.]) tensor(2.0994e+28, grad_fn=<BinaryCrossEntropyWithLogitsBackward0>)\n"
     ]
    },
    {
     "name": "stderr",
     "output_type": "stream",
     "text": [
      " 94%|█████████▍| 94/100 [20:08<00:46,  7.80s/it]"
     ]
    },
    {
     "name": "stdout",
     "output_type": "stream",
     "text": [
      "tensor([-1.9272e+28], grad_fn=<ViewBackward0>) tensor([0.]) tensor(0., grad_fn=<BinaryCrossEntropyWithLogitsBackward0>)\n"
     ]
    },
    {
     "name": "stderr",
     "output_type": "stream",
     "text": [
      " 95%|█████████▌| 95/100 [20:16<00:39,  7.82s/it]"
     ]
    },
    {
     "name": "stdout",
     "output_type": "stream",
     "text": [
      "tensor([-2.0553e+28], grad_fn=<ViewBackward0>) tensor([1.]) tensor(2.0553e+28, grad_fn=<BinaryCrossEntropyWithLogitsBackward0>)\n"
     ]
    },
    {
     "name": "stderr",
     "output_type": "stream",
     "text": [
      " 96%|█████████▌| 96/100 [20:24<00:31,  7.83s/it]"
     ]
    },
    {
     "name": "stdout",
     "output_type": "stream",
     "text": [
      "tensor([-2.1868e+28], grad_fn=<ViewBackward0>) tensor([1.]) tensor(2.1868e+28, grad_fn=<BinaryCrossEntropyWithLogitsBackward0>)\n"
     ]
    },
    {
     "name": "stderr",
     "output_type": "stream",
     "text": [
      " 97%|█████████▋| 97/100 [20:32<00:23,  7.91s/it]"
     ]
    },
    {
     "name": "stdout",
     "output_type": "stream",
     "text": [
      "tensor([-2.0207e+28], grad_fn=<ViewBackward0>) tensor([0.]) tensor(0., grad_fn=<BinaryCrossEntropyWithLogitsBackward0>)\n"
     ]
    },
    {
     "name": "stderr",
     "output_type": "stream",
     "text": [
      " 98%|█████████▊| 98/100 [20:40<00:15,  7.88s/it]"
     ]
    },
    {
     "name": "stdout",
     "output_type": "stream",
     "text": [
      "tensor([-2.1138e+28], grad_fn=<ViewBackward0>) tensor([1.]) tensor(2.1138e+28, grad_fn=<BinaryCrossEntropyWithLogitsBackward0>)\n"
     ]
    },
    {
     "name": "stderr",
     "output_type": "stream",
     "text": [
      " 99%|█████████▉| 99/100 [20:48<00:07,  8.00s/it]"
     ]
    },
    {
     "name": "stdout",
     "output_type": "stream",
     "text": [
      "tensor([-2.0372e+28], grad_fn=<ViewBackward0>) tensor([1.]) tensor(2.0372e+28, grad_fn=<BinaryCrossEntropyWithLogitsBackward0>)\n"
     ]
    },
    {
     "name": "stderr",
     "output_type": "stream",
     "text": [
      "100%|██████████| 100/100 [20:56<00:00, 12.57s/it]"
     ]
    },
    {
     "name": "stdout",
     "output_type": "stream",
     "text": [
      "Finished training with loss 1.4883389570724512e+33 and accuracy 0.47\n"
     ]
    },
    {
     "name": "stderr",
     "output_type": "stream",
     "text": [
      "\n"
     ]
    }
   ],
   "source": [
    "if wandb_:\n",
    "    wandb.init(project=\"adult_connectome\", config=model_config)\n",
    "\n",
    "model.train()\n",
    "\n",
    "results = initialize_results_df()\n",
    "probabilities = []\n",
    "accuracies = []\n",
    "already_selected = []\n",
    "running_loss = 0.0\n",
    "total_correct = 0\n",
    "total = 0\n",
    "\n",
    "iterations = debug_length if debugging else len(training_videos) // batch_size\n",
    "\n",
    "for i in tqdm(range(iterations)):\n",
    "    batch_files, already_selected = select_random_videos(\n",
    "        training_videos, batch_size, already_selected\n",
    "    )\n",
    "    labels = paths_to_labels(batch_files)\n",
    "    batch_sequences = image_paths_to_sequences(batch_files)\n",
    "    rendered_sequences = receptors(batch_sequences)\n",
    "\n",
    "    layer_activations = []\n",
    "    for rendered_sequence in rendered_sequences:\n",
    "        # rendered sequences are in RGB; move it to 0-1 for better training\n",
    "        rendered_sequence = torch.div(rendered_sequence, 255)\n",
    "        simulation = network.simulate(rendered_sequence[None], dt)\n",
    "        layer_activations.append(\n",
    "            LayerActivity(simulation, network.connectome, keepref=True)\n",
    "        )\n",
    "\n",
    "    if wandb_ and i % wandb_images_every == 0:\n",
    "        la_0 = hex_to_square_grid(\n",
    "            layer_activations[0][cell_type_plot].squeeze()[-last_good_frame].cpu().numpy()\n",
    "            ),\n",
    "        log_images_to_wandb(batch_sequences[0], rendered_sequences[0], la_0, batch_files[0], frame=last_good_frame, cell_type=cell_type_plot)\n",
    "\n",
    "    voronoi_averages_df = compute_voronoi_averages(\n",
    "        layer_activations, classification, DECODING_CELLS, last_good_frame=last_good_frame\n",
    "    )\n",
    "    # normalize column wise (except last column)\n",
    "    values_cols = voronoi_averages_df.columns != \"index_name\"\n",
    "    voronoi_averages_df.loc[:, values_cols] = voronoi_averages_df.loc[:, values_cols].apply(\n",
    "        lambda x: (x - x.min()) / (x.max() - x.min()), axis=0\n",
    "        )\n",
    "\n",
    "    activation_df = from_retina_to_connectome(\n",
    "        voronoi_averages_df, classification, root_id_to_index\n",
    "    )\n",
    "    del layer_activations, rendered_sequences, rendered_sequence, simulation\n",
    "    torch.cuda.empty_cache()\n",
    "\n",
    "    optimizer.zero_grad()\n",
    "\n",
    "    inputs = torch.tensor(activation_df.values, dtype=dtype, device=DEVICE)\n",
    "    labels = torch.tensor(labels, dtype=dtype, device=DEVICE)\n",
    "\n",
    "    out = model(inputs)\n",
    "    loss = criterion(out, labels)\n",
    "    print(out, labels, loss)\n",
    "    # scaler.scale(loss).backward()\n",
    "    # scaler.step(optimizer)\n",
    "    # scaler.update()\n",
    "    loss.backward()\n",
    "    optimizer.step()\n",
    "\n",
    "    # Calculate run parameters\n",
    "    predictions, labels_cpu, correct = predictions_and_corrects_from_model_results(out, labels)\n",
    "    results = update_results_df(results, batch_files, predictions, labels_cpu, correct)\n",
    "    running_loss += update_running_loss(loss, inputs)\n",
    "    total += batch_size\n",
    "    total_correct += correct.sum()\n",
    "\n",
    "    if wandb_:\n",
    "        log_running_stats_to_wandb(0, i, running_loss, total_correct, total, results)\n",
    "\n",
    "print(f\"Finished training with loss {running_loss / total} and accuracy {total_correct / total}\")\n",
    "torch.cuda.empty_cache()"
   ]
  },
  {
   "cell_type": "code",
   "execution_count": 6,
   "id": "d221ba2c",
   "metadata": {},
   "outputs": [
    {
     "data": {
      "text/plain": [
       "<134191x134191 sparse matrix of type '<class 'numpy.int64'>'\n",
       "\twith 3871467 stored elements in COOrdinate format>"
      ]
     },
     "execution_count": 6,
     "metadata": {},
     "output_type": "execute_result"
    }
   ],
   "source": [
    "synaptic_matrix"
   ]
  },
  {
   "cell_type": "code",
   "execution_count": 6,
   "id": "33a081fe1b9a883e",
   "metadata": {
    "ExecuteTime": {
     "end_time": "2024-03-28T09:37:12.123162Z",
     "start_time": "2024-03-28T09:37:11.886793Z"
    },
    "collapsed": false
   },
   "outputs": [
    {
     "name": "stderr",
     "output_type": "stream",
     "text": [
      "100%|██████████| 50/50 [03:48<00:00,  4.56s/it]"
     ]
    },
    {
     "name": "stdout",
     "output_type": "stream",
     "text": [
      "Validation Loss: 0.0, Validation Accuracy: 1.0\n"
     ]
    },
    {
     "name": "stderr",
     "output_type": "stream",
     "text": [
      "\n"
     ]
    }
   ],
   "source": [
    "already_selected_validation = []\n",
    "total_correct = 0\n",
    "total = 0\n",
    "running_loss = 0.0\n",
    "validation_results = initialize_results_df()\n",
    "\n",
    "validation_iterations = validation_length if validation_length is not None else len(validation_videos) // batch_size\n",
    "for _ in tqdm(range(validation_iterations)):\n",
    "    batch_files, already_selected_validation = select_random_videos(validation_videos, batch_size, already_selected_validation)\n",
    "\n",
    "    labels = paths_to_labels(batch_files)\n",
    "    batch_sequences = image_paths_to_sequences(batch_files)\n",
    "    rendered_sequences = receptors(batch_sequences)\n",
    "    layer_activations = []\n",
    "    for rendered_sequence in rendered_sequences:\n",
    "        simulation = network.simulate(rendered_sequence[None], dt)\n",
    "        layer_activations.append(LayerActivity(simulation, network.connectome, keepref=True))\n",
    "\n",
    "    voronoi_averages_df = compute_voronoi_averages(\n",
    "        layer_activations, classification, DECODING_CELLS, last_good_frame=last_good_frame\n",
    "    )\n",
    "    # normalize column wise (except last column)\n",
    "    values_cols = voronoi_averages_df.columns != \"index_name\"\n",
    "    voronoi_averages_df.loc[:, values_cols] = voronoi_averages_df.loc[:, values_cols].apply(\n",
    "        lambda x: (x - x.min()) / (x.max() - x.min()), axis=0\n",
    "        )\n",
    "\n",
    "    activation_df = from_retina_to_connectome(\n",
    "        voronoi_averages_df, classification, root_id_to_index\n",
    "    )\n",
    "    del layer_activations, rendered_sequences, rendered_sequence, simulation\n",
    "    torch.cuda.empty_cache()\n",
    "\n",
    "    model.eval()\n",
    "    with torch.no_grad():\n",
    "        inputs = torch.tensor(activation_df.values, dtype=dtype, device=DEVICE)\n",
    "        labels = torch.tensor(labels, dtype=dtype, device=DEVICE)\n",
    "\n",
    "        outputs = model(inputs)\n",
    "        loss = criterion(outputs, labels)\n",
    "\n",
    "        predictions, batch_labels_cpu, correct = predictions_and_corrects_from_model_results(outputs, labels)\n",
    "        validation_results = update_results_df(validation_results, batch_files, predictions, batch_labels_cpu, correct)\n",
    "        running_loss += update_running_loss(loss, inputs)\n",
    "        total += batch_labels_cpu.shape[0]\n",
    "        total_correct += correct.sum().item()\n",
    "\n",
    "if wandb_:\n",
    "    log_running_stats_to_wandb(0, 0, running_loss, total_correct, total, validation_results)\n",
    "\n",
    "print(\n",
    "    f\"Validation Loss: {running_loss / total}, \"\n",
    "    f\"Validation Accuracy: {total_correct / total}\"\n",
    ")"
   ]
  },
  {
   "cell_type": "code",
   "execution_count": 12,
   "id": "5204ebc3",
   "metadata": {},
   "outputs": [
    {
     "data": {
      "text/plain": [
       "1"
      ]
     },
     "execution_count": 12,
     "metadata": {},
     "output_type": "execute_result"
    }
   ],
   "source": [
    "total"
   ]
  },
  {
   "cell_type": "code",
   "execution_count": 8,
   "id": "f1f47d2b",
   "metadata": {},
   "outputs": [
    {
     "data": {
      "text/html": [
       "<div>\n",
       "<style scoped>\n",
       "    .dataframe tbody tr th:only-of-type {\n",
       "        vertical-align: middle;\n",
       "    }\n",
       "\n",
       "    .dataframe tbody tr th {\n",
       "        vertical-align: top;\n",
       "    }\n",
       "\n",
       "    .dataframe thead th {\n",
       "        text-align: right;\n",
       "    }\n",
       "</style>\n",
       "<table border=\"1\" class=\"dataframe\">\n",
       "  <thead>\n",
       "    <tr style=\"text-align: right;\">\n",
       "      <th></th>\n",
       "      <th>Image</th>\n",
       "      <th>Prediction</th>\n",
       "      <th>True label</th>\n",
       "      <th>Is correct</th>\n",
       "    </tr>\n",
       "  </thead>\n",
       "  <tbody>\n",
       "    <tr>\n",
       "      <th>0</th>\n",
       "      <td>images/easy_images/yellow/img2_15_10_51_equali...</td>\n",
       "      <td>0.0</td>\n",
       "      <td>1.0</td>\n",
       "      <td>0</td>\n",
       "    </tr>\n",
       "    <tr>\n",
       "      <th>0</th>\n",
       "      <td>images/easy_images/blue/img2_5_10_61.png</td>\n",
       "      <td>0.0</td>\n",
       "      <td>0.0</td>\n",
       "      <td>1</td>\n",
       "    </tr>\n",
       "    <tr>\n",
       "      <th>0</th>\n",
       "      <td>images/easy_images/blue/img2_8_12_83.png</td>\n",
       "      <td>0.0</td>\n",
       "      <td>0.0</td>\n",
       "      <td>1</td>\n",
       "    </tr>\n",
       "    <tr>\n",
       "      <th>0</th>\n",
       "      <td>images/easy_images/blue/img_12_16_116.png</td>\n",
       "      <td>0.0</td>\n",
       "      <td>0.0</td>\n",
       "      <td>1</td>\n",
       "    </tr>\n",
       "    <tr>\n",
       "      <th>0</th>\n",
       "      <td>images/easy_images/yellow/img_16_8_142.png</td>\n",
       "      <td>0.0</td>\n",
       "      <td>1.0</td>\n",
       "      <td>0</td>\n",
       "    </tr>\n",
       "    <tr>\n",
       "      <th>0</th>\n",
       "      <td>images/easy_images/yellow/img_6_4_100_equalize...</td>\n",
       "      <td>0.0</td>\n",
       "      <td>1.0</td>\n",
       "      <td>0</td>\n",
       "    </tr>\n",
       "    <tr>\n",
       "      <th>0</th>\n",
       "      <td>images/easy_images/blue/img_6_12_120.png</td>\n",
       "      <td>0.0</td>\n",
       "      <td>0.0</td>\n",
       "      <td>1</td>\n",
       "    </tr>\n",
       "    <tr>\n",
       "      <th>0</th>\n",
       "      <td>images/easy_images/yellow/img_12_9_64.png</td>\n",
       "      <td>0.0</td>\n",
       "      <td>1.0</td>\n",
       "      <td>0</td>\n",
       "    </tr>\n",
       "    <tr>\n",
       "      <th>0</th>\n",
       "      <td>images/easy_images/yellow/img_9_6_150.png</td>\n",
       "      <td>0.0</td>\n",
       "      <td>1.0</td>\n",
       "      <td>0</td>\n",
       "    </tr>\n",
       "    <tr>\n",
       "      <th>0</th>\n",
       "      <td>images/easy_images/blue/img_8_12_30.png</td>\n",
       "      <td>0.0</td>\n",
       "      <td>0.0</td>\n",
       "      <td>1</td>\n",
       "    </tr>\n",
       "    <tr>\n",
       "      <th>0</th>\n",
       "      <td>images/easy_images/blue/img2_8_16_65.png</td>\n",
       "      <td>0.0</td>\n",
       "      <td>0.0</td>\n",
       "      <td>1</td>\n",
       "    </tr>\n",
       "    <tr>\n",
       "      <th>0</th>\n",
       "      <td>images/easy_images/blue/img_6_15_156.png</td>\n",
       "      <td>0.0</td>\n",
       "      <td>0.0</td>\n",
       "      <td>1</td>\n",
       "    </tr>\n",
       "    <tr>\n",
       "      <th>0</th>\n",
       "      <td>images/easy_images/blue/img_6_15_167.png</td>\n",
       "      <td>0.0</td>\n",
       "      <td>0.0</td>\n",
       "      <td>1</td>\n",
       "    </tr>\n",
       "    <tr>\n",
       "      <th>0</th>\n",
       "      <td>images/easy_images/blue/img_12_16_17_equalized...</td>\n",
       "      <td>0.0</td>\n",
       "      <td>0.0</td>\n",
       "      <td>1</td>\n",
       "    </tr>\n",
       "    <tr>\n",
       "      <th>0</th>\n",
       "      <td>images/easy_images/blue/img_6_15_172.png</td>\n",
       "      <td>0.0</td>\n",
       "      <td>0.0</td>\n",
       "      <td>1</td>\n",
       "    </tr>\n",
       "    <tr>\n",
       "      <th>0</th>\n",
       "      <td>images/easy_images/blue/img2_5_10_59_equalized...</td>\n",
       "      <td>0.0</td>\n",
       "      <td>0.0</td>\n",
       "      <td>1</td>\n",
       "    </tr>\n",
       "    <tr>\n",
       "      <th>0</th>\n",
       "      <td>images/easy_images/yellow/img_8_4_185_equalize...</td>\n",
       "      <td>0.0</td>\n",
       "      <td>1.0</td>\n",
       "      <td>0</td>\n",
       "    </tr>\n",
       "    <tr>\n",
       "      <th>0</th>\n",
       "      <td>images/easy_images/blue/img2_7_14_16.png</td>\n",
       "      <td>0.0</td>\n",
       "      <td>0.0</td>\n",
       "      <td>1</td>\n",
       "    </tr>\n",
       "    <tr>\n",
       "      <th>0</th>\n",
       "      <td>images/easy_images/blue/img2_4_8_32_equalized.png</td>\n",
       "      <td>0.0</td>\n",
       "      <td>0.0</td>\n",
       "      <td>1</td>\n",
       "    </tr>\n",
       "    <tr>\n",
       "      <th>0</th>\n",
       "      <td>images/easy_images/blue/img2_6_8_91.png</td>\n",
       "      <td>0.0</td>\n",
       "      <td>0.0</td>\n",
       "      <td>1</td>\n",
       "    </tr>\n",
       "    <tr>\n",
       "      <th>0</th>\n",
       "      <td>images/easy_images/blue/img2_9_12_47.png</td>\n",
       "      <td>0.0</td>\n",
       "      <td>0.0</td>\n",
       "      <td>1</td>\n",
       "    </tr>\n",
       "    <tr>\n",
       "      <th>0</th>\n",
       "      <td>images/easy_images/blue/img_10_15_12.png</td>\n",
       "      <td>0.0</td>\n",
       "      <td>0.0</td>\n",
       "      <td>1</td>\n",
       "    </tr>\n",
       "    <tr>\n",
       "      <th>0</th>\n",
       "      <td>images/easy_images/yellow/img_10_5_139.png</td>\n",
       "      <td>0.0</td>\n",
       "      <td>1.0</td>\n",
       "      <td>0</td>\n",
       "    </tr>\n",
       "    <tr>\n",
       "      <th>0</th>\n",
       "      <td>images/easy_images/yellow/img2_15_6_54.png</td>\n",
       "      <td>0.0</td>\n",
       "      <td>1.0</td>\n",
       "      <td>0</td>\n",
       "    </tr>\n",
       "    <tr>\n",
       "      <th>0</th>\n",
       "      <td>images/easy_images/yellow/img_6_4_50.png</td>\n",
       "      <td>0.0</td>\n",
       "      <td>1.0</td>\n",
       "      <td>0</td>\n",
       "    </tr>\n",
       "    <tr>\n",
       "      <th>0</th>\n",
       "      <td>images/easy_images/blue/img_4_8_34.png</td>\n",
       "      <td>0.0</td>\n",
       "      <td>0.0</td>\n",
       "      <td>1</td>\n",
       "    </tr>\n",
       "    <tr>\n",
       "      <th>0</th>\n",
       "      <td>images/easy_images/blue/img_6_12_69_equalized.png</td>\n",
       "      <td>0.0</td>\n",
       "      <td>0.0</td>\n",
       "      <td>1</td>\n",
       "    </tr>\n",
       "    <tr>\n",
       "      <th>0</th>\n",
       "      <td>images/easy_images/yellow/img2_10_4_75_equaliz...</td>\n",
       "      <td>0.0</td>\n",
       "      <td>1.0</td>\n",
       "      <td>0</td>\n",
       "    </tr>\n",
       "    <tr>\n",
       "      <th>0</th>\n",
       "      <td>images/easy_images/blue/img2_8_16_91_equalized...</td>\n",
       "      <td>0.0</td>\n",
       "      <td>0.0</td>\n",
       "      <td>1</td>\n",
       "    </tr>\n",
       "    <tr>\n",
       "      <th>0</th>\n",
       "      <td>images/easy_images/yellow/img_12_6_64_equalize...</td>\n",
       "      <td>0.0</td>\n",
       "      <td>1.0</td>\n",
       "      <td>0</td>\n",
       "    </tr>\n",
       "    <tr>\n",
       "      <th>0</th>\n",
       "      <td>images/easy_images/yellow/img2_10_5_85.png</td>\n",
       "      <td>0.0</td>\n",
       "      <td>1.0</td>\n",
       "      <td>0</td>\n",
       "    </tr>\n",
       "    <tr>\n",
       "      <th>0</th>\n",
       "      <td>images/easy_images/blue/img_12_16_12.png</td>\n",
       "      <td>0.0</td>\n",
       "      <td>0.0</td>\n",
       "      <td>1</td>\n",
       "    </tr>\n",
       "    <tr>\n",
       "      <th>0</th>\n",
       "      <td>images/easy_images/yellow/img2_14_7_88.png</td>\n",
       "      <td>0.0</td>\n",
       "      <td>1.0</td>\n",
       "      <td>0</td>\n",
       "    </tr>\n",
       "    <tr>\n",
       "      <th>0</th>\n",
       "      <td>images/easy_images/yellow/img2_9_6_96.png</td>\n",
       "      <td>0.0</td>\n",
       "      <td>1.0</td>\n",
       "      <td>0</td>\n",
       "    </tr>\n",
       "    <tr>\n",
       "      <th>0</th>\n",
       "      <td>images/easy_images/yellow/img_10_4_162.png</td>\n",
       "      <td>0.0</td>\n",
       "      <td>1.0</td>\n",
       "      <td>0</td>\n",
       "    </tr>\n",
       "    <tr>\n",
       "      <th>0</th>\n",
       "      <td>images/easy_images/yellow/img_12_9_115_equaliz...</td>\n",
       "      <td>0.0</td>\n",
       "      <td>1.0</td>\n",
       "      <td>0</td>\n",
       "    </tr>\n",
       "    <tr>\n",
       "      <th>0</th>\n",
       "      <td>images/easy_images/yellow/img_12_8_85.png</td>\n",
       "      <td>0.0</td>\n",
       "      <td>1.0</td>\n",
       "      <td>0</td>\n",
       "    </tr>\n",
       "    <tr>\n",
       "      <th>0</th>\n",
       "      <td>images/easy_images/blue/img_4_6_166_equalized.png</td>\n",
       "      <td>0.0</td>\n",
       "      <td>0.0</td>\n",
       "      <td>1</td>\n",
       "    </tr>\n",
       "    <tr>\n",
       "      <th>0</th>\n",
       "      <td>images/easy_images/blue/img2_7_14_33_equalized...</td>\n",
       "      <td>0.0</td>\n",
       "      <td>0.0</td>\n",
       "      <td>1</td>\n",
       "    </tr>\n",
       "    <tr>\n",
       "      <th>0</th>\n",
       "      <td>images/easy_images/blue/img_6_12_124_equalized...</td>\n",
       "      <td>0.0</td>\n",
       "      <td>0.0</td>\n",
       "      <td>1</td>\n",
       "    </tr>\n",
       "    <tr>\n",
       "      <th>0</th>\n",
       "      <td>images/easy_images/yellow/img_8_6_71.png</td>\n",
       "      <td>0.0</td>\n",
       "      <td>1.0</td>\n",
       "      <td>0</td>\n",
       "    </tr>\n",
       "    <tr>\n",
       "      <th>0</th>\n",
       "      <td>images/easy_images/yellow/img_12_6_82_equalize...</td>\n",
       "      <td>0.0</td>\n",
       "      <td>1.0</td>\n",
       "      <td>0</td>\n",
       "    </tr>\n",
       "    <tr>\n",
       "      <th>0</th>\n",
       "      <td>images/easy_images/blue/img_10_15_140.png</td>\n",
       "      <td>0.0</td>\n",
       "      <td>0.0</td>\n",
       "      <td>1</td>\n",
       "    </tr>\n",
       "    <tr>\n",
       "      <th>0</th>\n",
       "      <td>images/easy_images/yellow/img_12_9_10.png</td>\n",
       "      <td>0.0</td>\n",
       "      <td>1.0</td>\n",
       "      <td>0</td>\n",
       "    </tr>\n",
       "    <tr>\n",
       "      <th>0</th>\n",
       "      <td>images/easy_images/blue/img2_6_9_82.png</td>\n",
       "      <td>0.0</td>\n",
       "      <td>0.0</td>\n",
       "      <td>1</td>\n",
       "    </tr>\n",
       "    <tr>\n",
       "      <th>0</th>\n",
       "      <td>images/easy_images/blue/img_8_12_130_equalized...</td>\n",
       "      <td>0.0</td>\n",
       "      <td>0.0</td>\n",
       "      <td>1</td>\n",
       "    </tr>\n",
       "    <tr>\n",
       "      <th>0</th>\n",
       "      <td>images/easy_images/blue/img_4_6_22_equalized.png</td>\n",
       "      <td>0.0</td>\n",
       "      <td>0.0</td>\n",
       "      <td>1</td>\n",
       "    </tr>\n",
       "    <tr>\n",
       "      <th>0</th>\n",
       "      <td>images/easy_images/yellow/img_10_5_24.png</td>\n",
       "      <td>0.0</td>\n",
       "      <td>1.0</td>\n",
       "      <td>0</td>\n",
       "    </tr>\n",
       "    <tr>\n",
       "      <th>0</th>\n",
       "      <td>images/easy_images/yellow/img2_6_4_34.png</td>\n",
       "      <td>0.0</td>\n",
       "      <td>1.0</td>\n",
       "      <td>0</td>\n",
       "    </tr>\n",
       "    <tr>\n",
       "      <th>0</th>\n",
       "      <td>images/easy_images/blue/img_8_16_100_equalized...</td>\n",
       "      <td>0.0</td>\n",
       "      <td>0.0</td>\n",
       "      <td>1</td>\n",
       "    </tr>\n",
       "  </tbody>\n",
       "</table>\n",
       "</div>"
      ],
      "text/plain": [
       "                                               Image  Prediction  True label  \\\n",
       "0  images/easy_images/yellow/img2_15_10_51_equali...         0.0         1.0   \n",
       "0           images/easy_images/blue/img2_5_10_61.png         0.0         0.0   \n",
       "0           images/easy_images/blue/img2_8_12_83.png         0.0         0.0   \n",
       "0          images/easy_images/blue/img_12_16_116.png         0.0         0.0   \n",
       "0         images/easy_images/yellow/img_16_8_142.png         0.0         1.0   \n",
       "0  images/easy_images/yellow/img_6_4_100_equalize...         0.0         1.0   \n",
       "0           images/easy_images/blue/img_6_12_120.png         0.0         0.0   \n",
       "0          images/easy_images/yellow/img_12_9_64.png         0.0         1.0   \n",
       "0          images/easy_images/yellow/img_9_6_150.png         0.0         1.0   \n",
       "0            images/easy_images/blue/img_8_12_30.png         0.0         0.0   \n",
       "0           images/easy_images/blue/img2_8_16_65.png         0.0         0.0   \n",
       "0           images/easy_images/blue/img_6_15_156.png         0.0         0.0   \n",
       "0           images/easy_images/blue/img_6_15_167.png         0.0         0.0   \n",
       "0  images/easy_images/blue/img_12_16_17_equalized...         0.0         0.0   \n",
       "0           images/easy_images/blue/img_6_15_172.png         0.0         0.0   \n",
       "0  images/easy_images/blue/img2_5_10_59_equalized...         0.0         0.0   \n",
       "0  images/easy_images/yellow/img_8_4_185_equalize...         0.0         1.0   \n",
       "0           images/easy_images/blue/img2_7_14_16.png         0.0         0.0   \n",
       "0  images/easy_images/blue/img2_4_8_32_equalized.png         0.0         0.0   \n",
       "0            images/easy_images/blue/img2_6_8_91.png         0.0         0.0   \n",
       "0           images/easy_images/blue/img2_9_12_47.png         0.0         0.0   \n",
       "0           images/easy_images/blue/img_10_15_12.png         0.0         0.0   \n",
       "0         images/easy_images/yellow/img_10_5_139.png         0.0         1.0   \n",
       "0         images/easy_images/yellow/img2_15_6_54.png         0.0         1.0   \n",
       "0           images/easy_images/yellow/img_6_4_50.png         0.0         1.0   \n",
       "0             images/easy_images/blue/img_4_8_34.png         0.0         0.0   \n",
       "0  images/easy_images/blue/img_6_12_69_equalized.png         0.0         0.0   \n",
       "0  images/easy_images/yellow/img2_10_4_75_equaliz...         0.0         1.0   \n",
       "0  images/easy_images/blue/img2_8_16_91_equalized...         0.0         0.0   \n",
       "0  images/easy_images/yellow/img_12_6_64_equalize...         0.0         1.0   \n",
       "0         images/easy_images/yellow/img2_10_5_85.png         0.0         1.0   \n",
       "0           images/easy_images/blue/img_12_16_12.png         0.0         0.0   \n",
       "0         images/easy_images/yellow/img2_14_7_88.png         0.0         1.0   \n",
       "0          images/easy_images/yellow/img2_9_6_96.png         0.0         1.0   \n",
       "0         images/easy_images/yellow/img_10_4_162.png         0.0         1.0   \n",
       "0  images/easy_images/yellow/img_12_9_115_equaliz...         0.0         1.0   \n",
       "0          images/easy_images/yellow/img_12_8_85.png         0.0         1.0   \n",
       "0  images/easy_images/blue/img_4_6_166_equalized.png         0.0         0.0   \n",
       "0  images/easy_images/blue/img2_7_14_33_equalized...         0.0         0.0   \n",
       "0  images/easy_images/blue/img_6_12_124_equalized...         0.0         0.0   \n",
       "0           images/easy_images/yellow/img_8_6_71.png         0.0         1.0   \n",
       "0  images/easy_images/yellow/img_12_6_82_equalize...         0.0         1.0   \n",
       "0          images/easy_images/blue/img_10_15_140.png         0.0         0.0   \n",
       "0          images/easy_images/yellow/img_12_9_10.png         0.0         1.0   \n",
       "0            images/easy_images/blue/img2_6_9_82.png         0.0         0.0   \n",
       "0  images/easy_images/blue/img_8_12_130_equalized...         0.0         0.0   \n",
       "0   images/easy_images/blue/img_4_6_22_equalized.png         0.0         0.0   \n",
       "0          images/easy_images/yellow/img_10_5_24.png         0.0         1.0   \n",
       "0          images/easy_images/yellow/img2_6_4_34.png         0.0         1.0   \n",
       "0  images/easy_images/blue/img_8_16_100_equalized...         0.0         0.0   \n",
       "\n",
       "  Is correct  \n",
       "0          0  \n",
       "0          1  \n",
       "0          1  \n",
       "0          1  \n",
       "0          0  \n",
       "0          0  \n",
       "0          1  \n",
       "0          0  \n",
       "0          0  \n",
       "0          1  \n",
       "0          1  \n",
       "0          1  \n",
       "0          1  \n",
       "0          1  \n",
       "0          1  \n",
       "0          1  \n",
       "0          0  \n",
       "0          1  \n",
       "0          1  \n",
       "0          1  \n",
       "0          1  \n",
       "0          1  \n",
       "0          0  \n",
       "0          0  \n",
       "0          0  \n",
       "0          1  \n",
       "0          1  \n",
       "0          0  \n",
       "0          1  \n",
       "0          0  \n",
       "0          0  \n",
       "0          1  \n",
       "0          0  \n",
       "0          0  \n",
       "0          0  \n",
       "0          0  \n",
       "0          0  \n",
       "0          1  \n",
       "0          1  \n",
       "0          1  \n",
       "0          0  \n",
       "0          0  \n",
       "0          1  \n",
       "0          0  \n",
       "0          1  \n",
       "0          1  \n",
       "0          1  \n",
       "0          0  \n",
       "0          0  \n",
       "0          1  "
      ]
     },
     "execution_count": 8,
     "metadata": {},
     "output_type": "execute_result"
    }
   ],
   "source": [
    "validation_results"
   ]
  },
  {
   "cell_type": "code",
   "execution_count": 7,
   "id": "0185e185",
   "metadata": {
    "vscode": {
     "languageId": "shellscript"
    }
   },
   "outputs": [
    {
     "name": "stdout",
     "output_type": "stream",
     "text": [
      "-------------------------------------------------------------------------------\n",
      "              Layer (type)         Input Shape         Param #     Tr. Param #\n",
      "===============================================================================\n",
      "   RetinaConnectionLayer-1         [134191, 1]      48,060,108      48,060,108\n",
      "         AdultConnectome-2         [134191, 1]       3,871,467       3,871,467\n",
      "                  Linear-3              [5467]           5,468           5,468\n",
      "===============================================================================\n",
      "Total params: 51,937,043\n",
      "Trainable params: 51,937,043\n",
      "Non-trainable params: 0\n",
      "-------------------------------------------------------------------------------\n"
     ]
    }
   ],
   "source": [
    "from pytorch_model_summary import summary\n",
    "input_shape = torch.Size([134191, 1])\n",
    "print(summary(model, torch.zeros(input_shape), show_input=True))"
   ]
  }
 ],
 "metadata": {
  "kernelspec": {
   "display_name": "Python 3",
   "language": "python",
   "name": "python3"
  },
  "language_info": {
   "codemirror_mode": {
    "name": "ipython",
    "version": 3
   },
   "file_extension": ".py",
   "mimetype": "text/x-python",
   "name": "python",
   "nbconvert_exporter": "python",
   "pygments_lexer": "ipython3",
   "version": "3.10.12"
  }
 },
 "nbformat": 4,
 "nbformat_minor": 5
}
